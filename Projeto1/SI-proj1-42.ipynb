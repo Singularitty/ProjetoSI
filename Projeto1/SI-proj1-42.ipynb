{
 "cells": [
  {
   "cell_type": "markdown",
   "id": "bf9c87b1",
   "metadata": {},
   "source": [
    "# Sistemas Inteligentes 2021/2022\n",
    "\n",
    "## Mini-projeto 1: Pacman comilão\n",
    "\n",
    "<img src=\"pacman.png\" alt=\"Drawing\" style=\"width: 100px;\"/>"
   ]
  },
  {
   "cell_type": "markdown",
   "id": "d7b8efca",
   "metadata": {},
   "source": [
    "## Grupo: 42\n",
    "\n",
    "### Elementos do Grupo\n",
    "\n",
    "Número:  53687       Nome:   Ariana Dias   \n",
    "Número:  53746       Nome:   Andrei Tataru  \n",
    "Número:  51127       Nome:   Luís Ferreirinha  \n",
    "\n",
    "(Nota: Neste relatório pode adicionar as células de texto e código que achar necessárias.)"
   ]
  },
  {
   "cell_type": "markdown",
   "id": "df10acb0",
   "metadata": {},
   "source": [
    "## Representação dos estados\n",
    "\n",
    "(descreva aqui, textualmente, como decidiu representar os estados em Python; ilustre nas células de código abaixo a representação em Python de um estado à sua escolha)"
   ]
  },
  {
   "cell_type": "markdown",
   "id": "c0b86318",
   "metadata": {},
   "source": [
    "Para representar-mos os estados em python, decidimos criar uma classe _EspacoPacman_, onde cada objeto desta classe representa um estado do nosso problema.\n",
    " Para este problema em concreto decidimos que estes objetos devem guardar a posição do pacman, o número de pontos acumulados, o tempo desde a última captura de uma pastilha, casas visitadas e o número de vezes que estas foram visitadas e finalmente as coordenadas e tipo das pastilhas que ainda se encontram no campo.\n",
    "\n",
    "- Representação dos Estados:  \n",
    "    - Posição Pacman: tuple $\\left(x,y\\right)$ onde $x,y$ são inteiros\n",
    "    - Pontos: inteiro p\n",
    "    - Tempo: inteiro t\n",
    "    - Casas Visitadas: dicionário onde os elementos têm a seguinte forma $\\{(x,y) : n\\}$, $x,y,n$ são inteiros e $n$ representa o número de visitas a essa casa.\n",
    "    - Conjunto das Pastilhas: dicionário onde os elementos têm a seguinte forma $\\{(x,y) : tipo\\}$, $x,y$ são inteiros e tipo é um character que representa o tipo da pastilha\n"
   ]
  },
  {
   "cell_type": "code",
   "execution_count": 1,
   "id": "15d946c3",
   "metadata": {},
   "outputs": [],
   "source": [
    "# se definiu uma classe para representar os estados, inclua aqui o código Python correspondente\n",
    "import copy\n",
    "\n",
    "class EstadoPacman():\n",
    "    \"\"\"Objetos desta classe representam um estado do espaço do problema Pacman comilao\n",
    "    \"\"\"\n",
    "\n",
    "    def __init__(self, posicao_pacman, pastilhas, pontos=0, tempo=0, visitas={}):\n",
    "        self.pos = posicao_pacman\n",
    "        self.pontos = pontos\n",
    "        self.tempo = tempo\n",
    "        self.pastilhas = copy.deepcopy(pastilhas)\n",
    "        if visitas == {}:\n",
    "            self.visitas = {posicao_pacman : 1}\n",
    "        else:\n",
    "            self.visitas = copy.deepcopy(visitas)\n",
    "\n",
    "    def __lt__(self, other):\n",
    "        if self.pontos < other.pontos:\n",
    "            return True\n",
    "        if self.tempo < other.tempo:\n",
    "            return True\n",
    "        if len(self.visitas) < len(other.visitas):\n",
    "            return True\n",
    "        if len(self.visitas) > len(other.visitas):\n",
    "            return False\n",
    "        for pos in self.visitas.keys():\n",
    "            if pos in other.visitas.keys():\n",
    "                if self.visitas[pos] < other.visitas[pos]:\n",
    "                    return True\n",
    "        return False\n",
    "            \n",
    "    def __eq__(self,other):\n",
    "        if not isinstance(other, EstadoPacman): \n",
    "            return False\n",
    "        return other.pos == self.pos and self.pontos == other.pontos \\\n",
    "            and self.tempo == other.tempo and self.pastilhas == other.pastilhas \\\n",
    "                and self.visitas == other.visitas\n",
    "    \n",
    "    def __hash__(self):\n",
    "        return hash((self.pos, self.pontos, self.tempo)) + \\\n",
    "               hash(frozenset(self.pastilhas)) + \\\n",
    "               hash(frozenset(self.visitas))\n",
    "\n",
    "    def __repr__(self):\n",
    "        return str([self.pos, self.pontos, self.tempo, self.pastilhas, self.visitas])\n",
    "\n",
    "    def __str__(self):\n",
    "        return f\"Posição Pacman: {self.pos}\\nPontos: {self.pontos}\\nTempo desde última pastilha: {self.tempo}\\\n",
    "                \\nPastilhas restantes: {self.pastilhas}\\nCasas Visitadas: {self.visitas}\"\n"
   ]
  },
  {
   "cell_type": "markdown",
   "id": "8006d980",
   "metadata": {},
   "source": [
    "Vamos representar o seguinte estado:\n",
    "-   Pacman está em (1,2)\n",
    "-   Tem 2 pontos\n",
    "-   Passaram 2 unidades de tempo desda a última pastilha comida\n",
    "-   Restam as seguintes pastilhas: {(5,6) : \"N\", (3,2) : \"D\"}\n",
    "-   Foram visitadas as seguintes casas: {(0,0) : 1, (1,0) : 1, (1,1) : 1, (1,2) : 1}"
   ]
  },
  {
   "cell_type": "code",
   "execution_count": 2,
   "id": "d335aebe",
   "metadata": {},
   "outputs": [],
   "source": [
    "# Criamos um objecto do tipo EstadoPacman com os parametros anteriores\n",
    "pastilhas_exemplo = {(5,6) : \"N\", (3,2) : \"D\"}\n",
    "visitas_exemplo = {(0,0) : 1, (1,0) : 1, (1,1) : 1, (1,2) : 1}\n",
    "estado_exemplo = EstadoPacman((1,2), pastilhas_exemplo , 2, 2, visitas_exemplo)"
   ]
  },
  {
   "cell_type": "markdown",
   "id": "e0846a0f",
   "metadata": {},
   "source": [
    "Como foi definido o método ```__str__``` para esta classe podemos imprimir o objecto para visualizar melhor o estado"
   ]
  },
  {
   "cell_type": "code",
   "execution_count": 3,
   "id": "ba6f1258",
   "metadata": {},
   "outputs": [
    {
     "name": "stdout",
     "output_type": "stream",
     "text": [
      "Posição Pacman: (1, 2)\n",
      "Pontos: 2\n",
      "Tempo desde última pastilha: 2                \n",
      "Pastilhas restantes: {(5, 6): 'N', (3, 2): 'D'}\n",
      "Casas Visitadas: {(0, 0): 1, (1, 0): 1, (1, 1): 1, (1, 2): 1}\n"
     ]
    }
   ],
   "source": [
    "print(estado_exemplo)"
   ]
  },
  {
   "cell_type": "markdown",
   "id": "4ab69211",
   "metadata": {},
   "source": [
    "## Formulação do problema\n",
    "\n",
    "(explique textualmente como decidiu formular em Python o seu problema)"
   ]
  },
  {
   "cell_type": "markdown",
   "id": "fe2fcd8c",
   "metadata": {},
   "source": [
    "Para formular-mos este problema, começamos por definir como deve ser um estado inicial do nosso problema:\n",
    "\n",
    "- Estado inicial:\n",
    "    \n",
    "| EstadoPacman |\n",
    "| :---: |\n",
    "| Posição: $(x,y)$ |\n",
    "| Pastilhas: dict(pastilhas iniciais) |\n",
    "| Pontos: 0 |\n",
    "| Tempo: 0 |\n",
    "| Visitas: {(x,y) : 1} |\n",
    "\n",
    "Neste estado o pacman pode começar em qualquer posição em qualquer mundo, mas o importante é que inicia com 0 pontos e com o tempo a 0. Fez-se o mesmo para o estado final.\n",
    "\n",
    "\n",
    "- Estado final:\n",
    "\n",
    "| EstadoPacman |\n",
    "| :---: |\n",
    "| Posição: $(x_2,y_2)$ |\n",
    "| Pastilhas: dict(pastilhas restantes) |\n",
    "| Pontos: Pontos Objectivo |\n",
    "| Tempo: 0 |\n",
    "| Visitas: dict(casas visitadas n vezes) |\n",
    "\n",
    "Outra vez o estado pode ter qualquer configuração desde que os Pontos sejam iguais aos pontos objetivo definidos. Isto permite-nos então definir um goal test para o nosso problema.\n",
    "\n",
    "\n",
    "- Goal Test: Pontos $\\geq$ Pontos Objetivo\n",
    "\n",
    "Após a execução de qualquer uma ação verifica-se se o estado é final utilizando o goal test.\n",
    "\n",
    "Para este problema definimos duas ações principais, a primeira permite ao pacman mover-se em qualquer uma das direções ortogonais desde que não exista nenhum obstáculo a bloquear o seu caminho. A segunda vai decorrer automaticamente quando o pacman move-se para uma casa com uma pastilha, isto é ele apanha sozinho a pastilha que se encontra nessa casa.\n",
    "\n",
    "- Operadores:  \n",
    "    - Mover-se numa das quatro direcções ortogonais para as quatro células vizinhas, se não for impedido pelos limites do mundo nem por obstáculos:  \n",
    "        - Norte: $(x,y) \\to (x,y-1)$\n",
    "        - Sul: $(x,y) \\to (x,y+1)$\n",
    "        - Este: $(x,y) \\to (x+1,y)$\n",
    "        - Oeste: $(x,y) \\to (x-1,y)$\n",
    "    - Se a casa onde o pacman se encontra contem uma pastilha, ele come automaticamente a pastilha, removendo esta e adicionando os respetivos pontos ao seu total de pontos:\n",
    "        - Pontos Totais = Pontos Totais + Pontos da Pastilha\n",
    "\n",
    "Mas cada ação de movimento do pacman vai ter um custo associado, visitar casas pela n-ézima vez tem um custo associado de n. Portanto é importante guardar o número de visitas a cada casa em cada estado, neste caso isto é feito com um dicionário.\n",
    "\n",
    "- Custos:\n",
    "    Custo associado a ir para a casa $(x,y)$ pela $n$-ézima vez = $n$\n",
    "\n",
    "Sempre que o pacman apanha uma pastilha ele vai receber um número de pontos que depende do tipo da pastilha e do tempo que demorou a chegar a esta. Portanto em cada estado vamos guardar a posição de cada pastilha e o seu tipo (feito com um dicionário) e também o tempo para assim pudermos efetuar este cálculo de pontos que é feito da seguinte forma:\n",
    "\n",
    "- Cálculo de pontos:\n",
    "    - Pastilha N: Pontos += 1\n",
    "    - Pastilha D: Pontos += max(0,5-tempo)\n",
    "    - Pastilha C: Pontos += tempo\n",
    "\n",
    "Nota: O descolamento de uma casa para a outra é considerado como uma iteração e portanto um acréscimo de 1 ao tempo decorrido desde a última captura de uma pastilha. Portanto quando o pacman apanha uma pastilha de qualquer tipo e imediatamente apanha uma pastilha do tipo \"D\" o número de pontos atribuido vai ser (max,5-1) $\\to$ 4, pois ele demorou uma iteração a deslocar-se desde a casa anterior para a casa da pastilha \"D\" apesar de estarem uma ao lado da outra.  \n",
    "\n",
    "Assim para cada estado existe um conjunto de ações possíveis que podem ser obtidas com o método _actions_, cada uma destas pode ser aplicada a um estado de forma a obter um estado seguinte utilizando o método _result_, sempre que se executa uma ação num estado vai ser aplicado o operador do movimento, aumenta-se o tempo em 1 e verifica-se se existem pastilhas nessa casa, se sim vai ser feito o cálculo dos pontos e adicionados ao total, a pastilha depois é removida do dicionário das pastilhas e as casas visitadas são atualiadas. Como todos estes novos parâmetros obtidos é então construido um novo estado com a classe EstadoPacman.\n"
   ]
  },
  {
   "cell_type": "code",
   "execution_count": 4,
   "id": "c5327f4f",
   "metadata": {},
   "outputs": [],
   "source": [
    "from searchPlus import *\n",
    "import copy\n",
    "\n",
    "class PacmanPastilhas(Problem):\n",
    "\n",
    "    moves = {\"N\" : (0,-1), \"S\" : (0,1), \"O\" : (-1,0), \"E\" : (1,0)}\n",
    "\n",
    "    def __init__(self, pos : tuple[int,int], objetivo : int, pastilhas : dict, obstaculos : set, dimensao : int):\n",
    "        self.initial = EstadoPacman(pos, pastilhas)\n",
    "        self.goal = objetivo\n",
    "        self.obstacles = obstaculos\n",
    "        self.dim = dimensao\n",
    "        \n",
    "\n",
    "    def calculate_points(self, time : int, pastilha : str) -> int:\n",
    "        \"\"\"Calcula os pontos a serem atribuidos por apanhar uma pastilha,\n",
    "        utilizando o tempo decorrido desde a ultima pastilha capturada e \n",
    "        o tipo da pastilha\n",
    "\n",
    "        Args:\n",
    "            time (int): Tempo decorrido desde a ultima captura de uma pastilha\n",
    "            pastilha (str): Tipo de pastilha\n",
    "\n",
    "        Returns:\n",
    "            int: Pontos a serem atribuidos\n",
    "        \"\"\"\n",
    "        if pastilha == \"N\":\n",
    "            return 1\n",
    "        elif pastilha == \"D\":\n",
    "            return max(0,5-time)\n",
    "        else:\n",
    "            return time\n",
    "    \n",
    "    def calculate_position(self, pos : tuple[int,int], direction : str) -> tuple[int,int]:\n",
    "        \"\"\"Dado a posicao atual do pacman e uma direcao ortogonal, devolve a posicao\n",
    "        do pacman apos se mover nessa direcao\"\"\"\n",
    "        return (pos[0]+self.moves[direction][0], pos[1]+self.moves[direction][1])\n",
    "\n",
    "    def actions(self, state : EstadoPacman) -> list[str]:\n",
    "        if self.goal_test(state): return []\n",
    "        return [d for d in self.moves.keys() if self.calculate_position(state.pos, d) not in self.obstacles]\n",
    "\n",
    "    def result(self, state : EstadoPacman, action : str) -> EstadoPacman:\n",
    "        new_position = self.calculate_position(state.pos, action)\n",
    "        new_visitas = copy.deepcopy(state.visitas)\n",
    "        if new_position in new_visitas.keys():\n",
    "            new_visitas[new_position] += 1\n",
    "        else:\n",
    "            new_visitas[new_position] = 1\n",
    "\n",
    "        if new_position in state.pastilhas.keys():\n",
    "            new_points = state.pontos + self.calculate_points(state.tempo+1, state.pastilhas[new_position])\n",
    "            new_pastilhas = copy.deepcopy(state.pastilhas)\n",
    "            new_pastilhas.pop(new_position)\n",
    "            new_time = 0\n",
    "            return EstadoPacman(new_position, new_pastilhas, new_points, new_time, new_visitas)\n",
    "        \n",
    "        return EstadoPacman(new_position, state.pastilhas, state.pontos, state.tempo+1, new_visitas)\n",
    "\n",
    "\n",
    "    def path_cost(self, cost : int, state, action, next_state : EstadoPacman) -> int:\n",
    "        return cost+next_state.visitas[next_state.pos]\n",
    "\n",
    "    def display(self, state : EstadoPacman):\n",
    "        board = \"\"\n",
    "        for y in range(self.dim):\n",
    "            for x in range(self.dim):\n",
    "                if state.pos == (x,y):\n",
    "                    board += \"@ \"\n",
    "                elif (x,y) in self.obstacles:\n",
    "                    board += \"# \"\n",
    "                elif (x,y) in state.pastilhas.keys():\n",
    "                    board += f\"{state.pastilhas[(x,y)]} \"\n",
    "                else:\n",
    "                    board += \". \"\n",
    "            board += \"\\n\"\n",
    "        print(board)\n",
    "    \n",
    "    def display_trace(self, plan : list[str]):\n",
    "        path = set()\n",
    "        state = self.initial\n",
    "        for action in plan[:-1]:\n",
    "            state = self.result(state, action)\n",
    "            path.add(state.pos)\n",
    "        \n",
    "        board = \"\"\n",
    "        for y in range(self.dim):\n",
    "            for x in range(self.dim):\n",
    "                if self.initial.pos == (x,y):\n",
    "                    board += \"@ \"\n",
    "                elif (x,y) in self.obstacles:\n",
    "                    board += \"# \"\n",
    "                elif (x,y) in state.pastilhas.keys():\n",
    "                    board += f\"{state.pastilhas[(x,y)]} \"\n",
    "                elif (x,y) in path:\n",
    "                    board += \"+ \"\n",
    "                else:\n",
    "                    board += \". \"\n",
    "            board += \"\\n\"\n",
    "        print(board)\n",
    "\n",
    "    def goal_test(self, state : EstadoPacman) -> bool:\n",
    "        return state.pontos >= self.goal"
   ]
  },
  {
   "cell_type": "markdown",
   "id": "f46b1688",
   "metadata": {},
   "source": [
    "## Criação de estados e do problema\n",
    "\n",
    "(Mostrem que o código está a funcionar, construindo instâncias da classe **PacmanPastilhas**, fazendo display dos estados, verificando o teste do estado final, gerando as ações para alguns estados, executando ações a partir de alguns estados e gerando novos estados e mostrando a evolução dos custos; verificando que os estados não se modificam com as ações (são gerados novos estados) e que a igualdade e a comparação entre estados funciona. Mostrem que a execução de sequências de ações está a funcionar bem.)"
   ]
  },
  {
   "cell_type": "code",
   "execution_count": 5,
   "id": "4586ddb7",
   "metadata": {},
   "outputs": [],
   "source": [
    "# Funcoes auxiliares\n",
    "\n",
    "def line(x, y, dx, dy, length):\n",
    "    \"\"\"Uma linha de células de comprimento 'length' começando em (x, y) na direcção (dx, dy).\"\"\"\n",
    "    return {(x + i * dx, y + i * dy) for i in range(length)}\n",
    "\n",
    "def quadro(x, y, length):\n",
    "    \"\"\"Uma moldura quadrada de células de comprimento 'length' começando no topo esquerdo (x, y).\"\"\"\n",
    "    return line(x,y,0,1,length) | line(x+length-1,y,0,1,length) | line(x,y,1,0,length) | line(x,y+length-1,1,0,length)\n",
    "\n",
    "def exec(p,estado,accoes):\n",
    "    custo = 0\n",
    "    for a in accoes:\n",
    "        seg = p.result(estado,a)\n",
    "        custo = p.path_cost(custo,estado,a,seg)\n",
    "        estado = seg\n",
    "    p.display(estado)\n",
    "    print('Custo:',custo)\n",
    "    print('Goal?',p.goal_test(estado))\n",
    "    return (estado,custo)"
   ]
  },
  {
   "cell_type": "markdown",
   "id": "ad0a24b8",
   "metadata": {},
   "source": [
    "Para demonstrar o funcionamento do nosso código vamos definir duas instâncias de PacmanPastilhas para demonstrar as funcionalidades da classe.\n",
    "   \n",
    "- Primeiro vamos definir um conjunto de obstaculos e das pastilhas para o primeiro mundo"
   ]
  },
  {
   "cell_type": "code",
   "execution_count": 6,
   "id": "8e0e4313",
   "metadata": {},
   "outputs": [],
   "source": [
    "# Mundo 1 - dimensao 10\n",
    "fronteira1 = quadro(0,0,10)\n",
    "obs1_1 = line(2,2,1,0,5)\n",
    "obs1_2 = line(7,7,0,-1,6)\n",
    "mundo_1 = fronteira1 | obs1_1 | obs1_2\n",
    "\n",
    "pastilhas_1 = {(5,5) : \"C\", (4,7) : \"N\", (1,3) : \"D\"}"
   ]
  },
  {
   "cell_type": "markdown",
   "id": "4534f042",
   "metadata": {},
   "source": [
    "Vamos iniciar o estado com o pacman na posição $(1,1)$ e com objetivo 5 pontos"
   ]
  },
  {
   "cell_type": "code",
   "execution_count": 7,
   "id": "0b95b771",
   "metadata": {},
   "outputs": [],
   "source": [
    "p1 = PacmanPastilhas((1,1),5,pastilhas_1,mundo_1,10) # Mundo 1"
   ]
  },
  {
   "cell_type": "markdown",
   "id": "86b55d17",
   "metadata": {},
   "source": [
    "Vamos imprir o estado inicial do problema"
   ]
  },
  {
   "cell_type": "code",
   "execution_count": 8,
   "id": "5e88ac64",
   "metadata": {},
   "outputs": [
    {
     "name": "stdout",
     "output_type": "stream",
     "text": [
      "Posição Pacman: (1, 1)\n",
      "Pontos: 0\n",
      "Tempo desde última pastilha: 0                \n",
      "Pastilhas restantes: {(5, 5): 'C', (4, 7): 'N', (1, 3): 'D'}\n",
      "Casas Visitadas: {(1, 1): 1}\n",
      "\n",
      "# # # # # # # # # # \n",
      "# @ . . . . . . . # \n",
      "# . # # # # # # . # \n",
      "# D . . . . . # . # \n",
      "# . . . . . . # . # \n",
      "# . . . . C . # . # \n",
      "# . . . . . . # . # \n",
      "# . . . N . . # . # \n",
      "# . . . . . . . . # \n",
      "# # # # # # # # # # \n",
      "\n"
     ]
    }
   ],
   "source": [
    "# Representacao dos parametros do estado\n",
    "print(p1.initial)\n",
    "print() # linha vazia para melhorar visibilidade\n",
    "# Representacao do estado\n",
    "p1.display(p1.initial)"
   ]
  },
  {
   "cell_type": "markdown",
   "id": "8943bea8",
   "metadata": {},
   "source": [
    "Podemos também verificar que o estado inicial não é solução do problema"
   ]
  },
  {
   "cell_type": "code",
   "execution_count": 9,
   "id": "36b2b209",
   "metadata": {},
   "outputs": [
    {
     "name": "stdout",
     "output_type": "stream",
     "text": [
      "False\n"
     ]
    }
   ],
   "source": [
    "print(p1.goal_test(p1.initial))"
   ]
  },
  {
   "cell_type": "markdown",
   "id": "be9fdac2",
   "metadata": {},
   "source": [
    "Vamos agora ver as ações disponíveis e aplicar algumas ao nosso problema de forma a gerar uma pequena sequência de estados"
   ]
  },
  {
   "cell_type": "markdown",
   "id": "f853df71",
   "metadata": {},
   "source": [
    "- Ações disponíveis a partir do estado inicial:"
   ]
  },
  {
   "cell_type": "code",
   "execution_count": 10,
   "id": "2383deb2",
   "metadata": {},
   "outputs": [
    {
     "name": "stdout",
     "output_type": "stream",
     "text": [
      "['S', 'E']\n"
     ]
    }
   ],
   "source": [
    "print(p1.actions(p1.initial))"
   ]
  },
  {
   "cell_type": "markdown",
   "id": "b65925dd",
   "metadata": {},
   "source": [
    "- Vamos aplicar a ação \"S\" (mover uma casa para baixo), ver o estado resultante utilizando p1.display(estado) e vamos também guardar o custo"
   ]
  },
  {
   "cell_type": "code",
   "execution_count": 11,
   "id": "de3f775a",
   "metadata": {},
   "outputs": [
    {
     "name": "stdout",
     "output_type": "stream",
     "text": [
      "# # # # # # # # # # \n",
      "# . . . . . . . . # \n",
      "# @ # # # # # # . # \n",
      "# D . . . . . # . # \n",
      "# . . . . . . # . # \n",
      "# . . . . C . # . # \n",
      "# . . . . . . # . # \n",
      "# . . . N . . # . # \n",
      "# . . . . . . . . # \n",
      "# # # # # # # # # # \n",
      "\n",
      "custo: 1\n",
      "\n",
      "Ações:\n",
      " ['N', 'S']\n"
     ]
    }
   ],
   "source": [
    "p1_s2 = p1.result(p1.initial, \"S\")\n",
    "p1.display(p1_s2)\n",
    "custo = p1.path_cost(0, p1.initial, \"S\", p1_s2)\n",
    "print(f\"custo: {custo}\")\n",
    "print(f\"\\nAções:\\n {p1.actions(p1_s2)}\")"
   ]
  },
  {
   "cell_type": "markdown",
   "id": "22049d90",
   "metadata": {},
   "source": [
    "- Vamos agora mover o pacman outra casa para baixo de forma a capturar a pastilha do tipo D"
   ]
  },
  {
   "cell_type": "code",
   "execution_count": 12,
   "id": "7833d53c",
   "metadata": {},
   "outputs": [
    {
     "name": "stdout",
     "output_type": "stream",
     "text": [
      "# # # # # # # # # # \n",
      "# . . . . . . . . # \n",
      "# . # # # # # # . # \n",
      "# @ . . . . . # . # \n",
      "# . . . . . . # . # \n",
      "# . . . . C . # . # \n",
      "# . . . . . . # . # \n",
      "# . . . N . . # . # \n",
      "# . . . . . . . . # \n",
      "# # # # # # # # # # \n",
      "\n",
      "custo: 2\n",
      "\n",
      "Ações:\n",
      " ['N', 'S', 'E']\n"
     ]
    }
   ],
   "source": [
    "p1_s3 = p1.result(p1_s2, \"S\")\n",
    "p1.display(p1_s3)\n",
    "custo = p1.path_cost(custo, p1_s2, \"S\", p1_s3)\n",
    "print(f\"custo: {custo}\")\n",
    "print(f\"\\nAções:\\n {p1.actions(p1_s3)}\")"
   ]
  },
  {
   "cell_type": "markdown",
   "id": "e1c12d7a",
   "metadata": {},
   "source": [
    "- Se voltarmos uma casa atrás o custo vai acrescentar 2 porque ja visitamos aquela casa uma vez antes"
   ]
  },
  {
   "cell_type": "code",
   "execution_count": 13,
   "id": "cd4526da",
   "metadata": {},
   "outputs": [
    {
     "name": "stdout",
     "output_type": "stream",
     "text": [
      "custo: 4\n"
     ]
    }
   ],
   "source": [
    "cost_test1 = p1.result(p1_s3, \"N\")\n",
    "custo2 = p1.path_cost(custo, p1_s3, \"N\", cost_test1)\n",
    "print(f\"custo: {custo2}\")"
   ]
  },
  {
   "cell_type": "markdown",
   "id": "3a58f376",
   "metadata": {},
   "source": [
    "- Podemos ver o número de pontos que o pacman tem ao fazer print do estado com print(estado), como os estados não são modificados após a aplicação de uma ação podemos visualizar e comparar estados anteriores"
   ]
  },
  {
   "cell_type": "code",
   "execution_count": 14,
   "id": "b3c78b2f",
   "metadata": {},
   "outputs": [
    {
     "name": "stdout",
     "output_type": "stream",
     "text": [
      "Segundo estado (p1_s2):\n",
      "Posição Pacman: (1, 2)\n",
      "Pontos: 0\n",
      "Tempo desde última pastilha: 1                \n",
      "Pastilhas restantes: {(5, 5): 'C', (4, 7): 'N', (1, 3): 'D'}\n",
      "Casas Visitadas: {(1, 1): 1, (1, 2): 1}\n",
      "\n",
      "Terceiro estado (p1_s3):\n",
      "Posição Pacman: (1, 3)\n",
      "Pontos: 3\n",
      "Tempo desde última pastilha: 0                \n",
      "Pastilhas restantes: {(5, 5): 'C', (4, 7): 'N'}\n",
      "Casas Visitadas: {(1, 1): 1, (1, 2): 1, (1, 3): 1}\n",
      "\n",
      "Comparações:\n",
      "p1_s2 == p1_s3 ?\n",
      "False\n",
      "p1_s2 < p1_s3 ?\n",
      "True\n",
      "\n",
      " p1_s2 tem menos pontos do que p1_s3 logo é menor\n"
     ]
    }
   ],
   "source": [
    "print(\"Segundo estado (p1_s2):\")\n",
    "print(p1_s2)\n",
    "print()\n",
    "print(\"Terceiro estado (p1_s3):\")\n",
    "print(p1_s3)\n",
    "\n",
    "print(\"\\nComparações:\")\n",
    "print(\"p1_s2 == p1_s3 ?\")\n",
    "print(p1_s2 == p1_s3)\n",
    "print(\"p1_s2 < p1_s3 ?\")\n",
    "print(p1_s2 < p1_s3)\n",
    "print(\"\\n p1_s2 tem menos pontos do que p1_s3 logo é menor\")\n"
   ]
  },
  {
   "cell_type": "markdown",
   "id": "5a3094da",
   "metadata": {},
   "source": [
    "- Podemos também criar uma instância de EstadoPacman com os mesmos atributos que p1_s2 e mostrar que são iguais"
   ]
  },
  {
   "cell_type": "code",
   "execution_count": 15,
   "id": "d1a5b1f8",
   "metadata": {},
   "outputs": [
    {
     "name": "stdout",
     "output_type": "stream",
     "text": [
      "True\n"
     ]
    }
   ],
   "source": [
    "eg1 = EstadoPacman(p1_s2.pos, p1_s2.pastilhas, p1_s2.pontos, p1_s2.tempo, p1_s2.visitas)\n",
    "print(eg1.pastilhas == p1_s2.pastilhas)"
   ]
  },
  {
   "cell_type": "markdown",
   "id": "dfd6db59",
   "metadata": {},
   "source": [
    "- Vamos agora aplicar uma sequência de ações que nos faz chegar ao estado final"
   ]
  },
  {
   "cell_type": "code",
   "execution_count": 16,
   "id": "aa51e4df",
   "metadata": {},
   "outputs": [
    {
     "name": "stdout",
     "output_type": "stream",
     "text": [
      "# # # # # # # # # # \n",
      "# . . . . . . . . # \n",
      "# . # # # # # # . # \n",
      "# . . . . . . # . # \n",
      "# . . . . . . # . # \n",
      "# . . . . @ . # . # \n",
      "# . . . . . . # . # \n",
      "# . . . N . . # . # \n",
      "# . . . . . . . . # \n",
      "# # # # # # # # # # \n",
      "\n",
      "Custo: 8\n",
      "Goal? True\n"
     ]
    },
    {
     "data": {
      "text/plain": [
       "[]"
      ]
     },
     "execution_count": 16,
     "metadata": {},
     "output_type": "execute_result"
    }
   ],
   "source": [
    "# Seq\n",
    "actions = [\"S\"]*2 + [\"E\"]*4 + [\"S\"]*2\n",
    "p1_final = exec(p1, p1.initial, actions)\n",
    "p1.actions(p1_final[0])"
   ]
  },
  {
   "cell_type": "markdown",
   "id": "61be2dcd",
   "metadata": {},
   "source": [
    "Finalmente, vamos criar uma segunda instância de PacmanPastilhas para demonstrar um problema com um mundo de dimensão diferente e com obstáculos diferentes."
   ]
  },
  {
   "cell_type": "code",
   "execution_count": 17,
   "id": "35bf4d71",
   "metadata": {},
   "outputs": [
    {
     "name": "stdout",
     "output_type": "stream",
     "text": [
      "Posição Pacman: (1, 1)\n",
      "Pontos: 0\n",
      "Tempo desde última pastilha: 0                \n",
      "Pastilhas restantes: {(3, 4): 'C', (12, 1): 'D', (1, 3): 'D', (1, 13): 'N', (12, 3): 'N'}\n",
      "Casas Visitadas: {(1, 1): 1}\n",
      "\n",
      "# # # # # # # # # # # # # # # \n",
      "# @ # . . . . . . . # . D . # \n",
      "# . # . . . . . . . # . . . # \n",
      "# D # . . # . . . . # . N . # \n",
      "# . # C . # . . . . # . . . # \n",
      "# . # . . # . . . . # . . . # \n",
      "# . # . . # . . . . # . . . # \n",
      "# . # . . # . . . . # . . . # \n",
      "# . # . . # . . . . # . . . # \n",
      "# . # . . # . . . . # . . . # \n",
      "# . # . . # . . . . # . . . # \n",
      "# . # . . # . . . . . . . . # \n",
      "# . # # # # # # # # # # # . # \n",
      "# N . . . . . . . . . . . . # \n",
      "# # # # # # # # # # # # # # # \n",
      "\n"
     ]
    }
   ],
   "source": [
    "fronteira2 = quadro(0,0,15)\n",
    "obs2_1 = line(2,1,0,1,12)\n",
    "obs2_2 = line(2,12,1,0,11)\n",
    "obs2_3 = line(5,3,0,1,9)\n",
    "obs2_4 = line(10,1,0,1,10)\n",
    "mundo_2 = fronteira2 | obs2_1 | obs2_2 | obs2_3 | obs2_4\n",
    "\n",
    "pastilhas_2 = {(3,4) : \"C\", (12,1) : \"D\", (1,3) : \"D\", (1,13) : \"N\", (12,3) : \"N\"}\n",
    "\n",
    "p2 = PacmanPastilhas((1,1),8,pastilhas_2,mundo_2,15) # Mundo 2\n",
    "\n",
    "# Representacao dos parametros do estado\n",
    "print(p2.initial)\n",
    "print()\n",
    "# Representacao do estado\n",
    "p2.display(p2.initial)"
   ]
  },
  {
   "cell_type": "code",
   "execution_count": 18,
   "id": "ae78cde0",
   "metadata": {},
   "outputs": [
    {
     "name": "stdout",
     "output_type": "stream",
     "text": [
      "# # # # # # # # # # # # # # # \n",
      "# . # . . . . . . . # . @ . # \n",
      "# . # . . . . . . . # . . . # \n",
      "# . # . . # . . . . # . . . # \n",
      "# . # C . # . . . . # . . . # \n",
      "# . # . . # . . . . # . . . # \n",
      "# . # . . # . . . . # . . . # \n",
      "# . # . . # . . . . # . . . # \n",
      "# . # . . # . . . . # . . . # \n",
      "# . # . . # . . . . # . . . # \n",
      "# . # . . # . . . . # . . . # \n",
      "# . # . . # . . . . . . . . # \n",
      "# . # # # # # # # # # # # . # \n",
      "# . . . . . . . . . . . . . # \n",
      "# # # # # # # # # # # # # # # \n",
      "\n",
      "Custo: 37\n",
      "Goal? True\n",
      "# # # # # # # # # # # # # # # \n",
      "# @ # . . . . . . . # . D . # \n",
      "# + # . . . . . . . # . + . # \n",
      "# + # . . # . . . . # . + + # \n",
      "# + # C . # . . . . # . . + # \n",
      "# + # . . # . . . . # . . + # \n",
      "# + # . . # . . . . # . . + # \n",
      "# + # . . # . . . . # . . + # \n",
      "# + # . . # . . . . # . . + # \n",
      "# + # . . # . . . . # . . + # \n",
      "# + # . . # . . . . # . . + # \n",
      "# + # . . # . . . . . . . + # \n",
      "# + # # # # # # # # # # # + # \n",
      "# + + + + + + + + + + + + + # \n",
      "# # # # # # # # # # # # # # # \n",
      "\n"
     ]
    }
   ],
   "source": [
    "p2_solution = [\"S\"]*12+[\"E\"]*12+[\"N\"]*10+[\"O\"]+[\"N\"]*2\n",
    "p2_final = exec(p2, p2.initial, p2_solution)\n",
    "p2.display_trace(p2_solution)"
   ]
  },
  {
   "cell_type": "markdown",
   "id": "14a095c8",
   "metadata": {},
   "source": [
    "## Teste de procura de solução\n",
    "\n",
    "(utilização de algoritmos de procura aprendidos nas aulas e comparação dos resultados ao nível de tempo de execução e solução obtida; comente aqui os resultados obtidos e o que observa)"
   ]
  },
  {
   "cell_type": "markdown",
   "id": "56379d2f",
   "metadata": {},
   "source": [
    "Vamos agora aplicar os seguintes algoritmos de procura ao nosso problema:\n",
    "- Profundidade-primeiro\n",
    "- Largura-primeiro\n",
    "- Aprofundamento Progressivo\n",
    "- Custo Uniforme\n",
    "\n",
    "Cada um destes algoritmos será aplicado em grafo. Iremos medir também o tempo de execução de cada um deste e no final iremos comparar todos e tirar conclusões."
   ]
  },
  {
   "cell_type": "code",
   "execution_count": 93,
   "id": "3c4a634a",
   "metadata": {},
   "outputs": [],
   "source": [
    "import sys\n",
    "import timeit\n",
    "\n",
    "# Algoritmo de procura em largura-primeiro em grafo\n",
    "\n",
    "def breadth_first_graph_search(problem):\n",
    "    \"\"\"Search the deepest nodes in the search tree first.\"\"\"\n",
    "    return graph_search(problem, FIFOQueue())\n",
    "\n",
    "# Algoritmo de procura de aprofundamento progressivo em grafo\n",
    "\n",
    "def limited_graph_search(problem, frontier, limit):\n",
    "    frontier.append(Node(problem.initial))\n",
    "    explored = set()\n",
    "    while frontier:\n",
    "        node = frontier.pop()\n",
    "        if problem.goal_test(node.state):\n",
    "            return node\n",
    "        if node.depth < limit:\n",
    "            explored.add(node.state)\n",
    "            frontier.extend(child for child in node.expand(problem)\n",
    "                            if child.state not in explored and\n",
    "                            child not in frontier)\n",
    "    return None\n",
    "        \n",
    "def progressive_depth_search_graph(problem):\n",
    "        for i in range(sys.maxsize):\n",
    "            result = limited_graph_search(problem, Stack(), i)\n",
    "            if result is not None:\n",
    "                return result\n",
    "        return result\n",
    "\n",
    "def avg_run_time(func, n=50):\n",
    "    \"\"\"Corre uma função n vezes medindo o tempo de execução de cada vez\n",
    "    e imprime a média dos tempos\n",
    "\n",
    "    Args:\n",
    "        func: Função a correr\n",
    "        n (int, optional): Número de execuções. Defaults to 50.\n",
    "    \"\"\"\n",
    "    run_times = []\n",
    "    for i in range(n):\n",
    "        start = timeit.default_timer()\n",
    "        func()\n",
    "        stop = timeit.default_timer()\n",
    "        run_times.append(stop-start)\n",
    "    print(f\"Tempo médio de execução: {sum(run_times) / n}\")\n",
    "    "
   ]
  },
  {
   "cell_type": "markdown",
   "id": "9ddbf0ba",
   "metadata": {},
   "source": [
    "O problema que iremos utilizar será uma versão ligeiramente mais pequena do problema1 definido anteriormente."
   ]
  },
  {
   "cell_type": "code",
   "execution_count": 20,
   "id": "7980c97a",
   "metadata": {},
   "outputs": [
    {
     "name": "stdout",
     "output_type": "stream",
     "text": [
      "# # # # # # # # \n",
      "# @ C . D . . # \n",
      "# . # # # # . # \n",
      "# . . . . # . # \n",
      "# . . . . # . # \n",
      "# . . . . # C # \n",
      "# N D . . . . # \n",
      "# # # # # # # # \n",
      "\n"
     ]
    }
   ],
   "source": [
    "fronteira3 = quadro(0,0,8)\n",
    "obs3_1 = line(2,2,1,0,3)\n",
    "obs3_2 = line(5,2,0,1,4)\n",
    "mundo_3 = fronteira3 | obs3_1 | obs3_2\n",
    "\n",
    "pastilhas_3 = {(6,5) : \"C\", (1,6) : \"N\", (2,6) : \"D\", (4,1) : \"D\", (2,1) : \"C\"}\n",
    "\n",
    "p3 = PacmanPastilhas((1,1),5,pastilhas_3,mundo_3,8)\n",
    "p3.display(p3.initial)"
   ]
  },
  {
   "cell_type": "markdown",
   "id": "8f5416a0",
   "metadata": {},
   "source": [
    "- Pronfundidade-Primeiro"
   ]
  },
  {
   "cell_type": "code",
   "execution_count": 21,
   "id": "6bde984d",
   "metadata": {},
   "outputs": [
    {
     "ename": "KeyboardInterrupt",
     "evalue": "",
     "output_type": "error",
     "traceback": [
      "\u001b[0;31m---------------------------------------------------------------------------\u001b[0m",
      "\u001b[0;31mKeyboardInterrupt\u001b[0m                         Traceback (most recent call last)",
      "\u001b[0;32m/tmp/ipykernel_15314/816837826.py\u001b[0m in \u001b[0;36m<module>\u001b[0;34m\u001b[0m\n\u001b[1;32m      3\u001b[0m \u001b[0;32mimport\u001b[0m \u001b[0mtimeit\u001b[0m\u001b[0;34m\u001b[0m\u001b[0;34m\u001b[0m\u001b[0m\n\u001b[1;32m      4\u001b[0m \u001b[0mstart\u001b[0m \u001b[0;34m=\u001b[0m \u001b[0mtimeit\u001b[0m\u001b[0;34m.\u001b[0m\u001b[0mdefault_timer\u001b[0m\u001b[0;34m(\u001b[0m\u001b[0;34m)\u001b[0m\u001b[0;34m\u001b[0m\u001b[0;34m\u001b[0m\u001b[0m\n\u001b[0;32m----> 5\u001b[0;31m \u001b[0mresultado\u001b[0m \u001b[0;34m=\u001b[0m \u001b[0mdepth_first_graph_search\u001b[0m\u001b[0;34m(\u001b[0m\u001b[0mp3\u001b[0m\u001b[0;34m)\u001b[0m\u001b[0;34m\u001b[0m\u001b[0;34m\u001b[0m\u001b[0m\n\u001b[0m\u001b[1;32m      6\u001b[0m \u001b[0mprint\u001b[0m\u001b[0;34m(\u001b[0m\u001b[0;34m\"Solução Profundidade-primeiro (grafo) com custo\"\u001b[0m\u001b[0;34m,\u001b[0m \u001b[0mstr\u001b[0m\u001b[0;34m(\u001b[0m\u001b[0mresultado\u001b[0m\u001b[0;34m.\u001b[0m\u001b[0mpath_cost\u001b[0m\u001b[0;34m)\u001b[0m\u001b[0;34m+\u001b[0m\u001b[0;34m\":\"\u001b[0m\u001b[0;34m)\u001b[0m\u001b[0;34m\u001b[0m\u001b[0;34m\u001b[0m\u001b[0m\n\u001b[1;32m      7\u001b[0m \u001b[0mprint\u001b[0m\u001b[0;34m(\u001b[0m\u001b[0mresultado\u001b[0m\u001b[0;34m.\u001b[0m\u001b[0msolution\u001b[0m\u001b[0;34m(\u001b[0m\u001b[0;34m)\u001b[0m\u001b[0;34m)\u001b[0m\u001b[0;34m\u001b[0m\u001b[0;34m\u001b[0m\u001b[0m\n",
      "\u001b[0;32m~/Documents/Faculdade/Minor Informática/2º Semestre/Sistemas Inteligentes/ProjetoSI/Projeto1/searchPlus.py\u001b[0m in \u001b[0;36mdepth_first_graph_search\u001b[0;34m(problem)\u001b[0m\n\u001b[1;32m    221\u001b[0m \u001b[0;32mdef\u001b[0m \u001b[0mdepth_first_graph_search\u001b[0m\u001b[0;34m(\u001b[0m\u001b[0mproblem\u001b[0m\u001b[0;34m)\u001b[0m\u001b[0;34m:\u001b[0m\u001b[0;34m\u001b[0m\u001b[0;34m\u001b[0m\u001b[0m\n\u001b[1;32m    222\u001b[0m     \u001b[0;34m\"\"\"Search the deepest nodes in the search tree first.\"\"\"\u001b[0m\u001b[0;34m\u001b[0m\u001b[0;34m\u001b[0m\u001b[0m\n\u001b[0;32m--> 223\u001b[0;31m     \u001b[0;32mreturn\u001b[0m \u001b[0mgraph_search\u001b[0m\u001b[0;34m(\u001b[0m\u001b[0mproblem\u001b[0m\u001b[0;34m,\u001b[0m \u001b[0mStack\u001b[0m\u001b[0;34m(\u001b[0m\u001b[0;34m)\u001b[0m\u001b[0;34m)\u001b[0m\u001b[0;34m\u001b[0m\u001b[0;34m\u001b[0m\u001b[0m\n\u001b[0m\u001b[1;32m    224\u001b[0m \u001b[0;34m\u001b[0m\u001b[0m\n\u001b[1;32m    225\u001b[0m \u001b[0;34m\u001b[0m\u001b[0m\n",
      "\u001b[0;32m~/Documents/Faculdade/Minor Informática/2º Semestre/Sistemas Inteligentes/ProjetoSI/Projeto1/searchPlus.py\u001b[0m in \u001b[0;36mgraph_search\u001b[0;34m(problem, frontier)\u001b[0m\n\u001b[1;32m    203\u001b[0m             \u001b[0;32mreturn\u001b[0m \u001b[0mnode\u001b[0m\u001b[0;34m\u001b[0m\u001b[0;34m\u001b[0m\u001b[0m\n\u001b[1;32m    204\u001b[0m         \u001b[0mexplored\u001b[0m\u001b[0;34m.\u001b[0m\u001b[0madd\u001b[0m\u001b[0;34m(\u001b[0m\u001b[0mnode\u001b[0m\u001b[0;34m.\u001b[0m\u001b[0mstate\u001b[0m\u001b[0;34m)\u001b[0m\u001b[0;34m\u001b[0m\u001b[0;34m\u001b[0m\u001b[0m\n\u001b[0;32m--> 205\u001b[0;31m         frontier.extend(child for child in node.expand(problem)\n\u001b[0m\u001b[1;32m    206\u001b[0m                         \u001b[0;32mif\u001b[0m \u001b[0mchild\u001b[0m\u001b[0;34m.\u001b[0m\u001b[0mstate\u001b[0m \u001b[0;32mnot\u001b[0m \u001b[0;32min\u001b[0m \u001b[0mexplored\u001b[0m \u001b[0;32mand\u001b[0m\u001b[0;34m\u001b[0m\u001b[0;34m\u001b[0m\u001b[0m\n\u001b[1;32m    207\u001b[0m                         child not in frontier)\n",
      "\u001b[0;32m~/Documents/Faculdade/Minor Informática/2º Semestre/Sistemas Inteligentes/ProjetoSI/Projeto1/searchPlus.py\u001b[0m in \u001b[0;36m<genexpr>\u001b[0;34m(.0)\u001b[0m\n\u001b[1;32m    205\u001b[0m         frontier.extend(child for child in node.expand(problem)\n\u001b[1;32m    206\u001b[0m                         \u001b[0;32mif\u001b[0m \u001b[0mchild\u001b[0m\u001b[0;34m.\u001b[0m\u001b[0mstate\u001b[0m \u001b[0;32mnot\u001b[0m \u001b[0;32min\u001b[0m \u001b[0mexplored\u001b[0m \u001b[0;32mand\u001b[0m\u001b[0;34m\u001b[0m\u001b[0;34m\u001b[0m\u001b[0m\n\u001b[0;32m--> 207\u001b[0;31m                         child not in frontier)\n\u001b[0m\u001b[1;32m    208\u001b[0m     \u001b[0;32mreturn\u001b[0m \u001b[0;32mNone\u001b[0m\u001b[0;34m\u001b[0m\u001b[0;34m\u001b[0m\u001b[0m\n\u001b[1;32m    209\u001b[0m \u001b[0;34m\u001b[0m\u001b[0m\n",
      "\u001b[0;32m~/Documents/Faculdade/Minor Informática/2º Semestre/Sistemas Inteligentes/ProjetoSI/Projeto1/searchPlus.py\u001b[0m in \u001b[0;36m__eq__\u001b[0;34m(self, other)\u001b[0m\n\u001b[1;32m    131\u001b[0m     \u001b[0;31m# want in other contexts.]\u001b[0m\u001b[0;34m\u001b[0m\u001b[0;34m\u001b[0m\u001b[0m\n\u001b[1;32m    132\u001b[0m \u001b[0;34m\u001b[0m\u001b[0m\n\u001b[0;32m--> 133\u001b[0;31m     \u001b[0;32mdef\u001b[0m \u001b[0m__eq__\u001b[0m\u001b[0;34m(\u001b[0m\u001b[0mself\u001b[0m\u001b[0;34m,\u001b[0m \u001b[0mother\u001b[0m\u001b[0;34m)\u001b[0m\u001b[0;34m:\u001b[0m\u001b[0;34m\u001b[0m\u001b[0;34m\u001b[0m\u001b[0m\n\u001b[0m\u001b[1;32m    134\u001b[0m         \u001b[0;32mreturn\u001b[0m \u001b[0misinstance\u001b[0m\u001b[0;34m(\u001b[0m\u001b[0mother\u001b[0m\u001b[0;34m,\u001b[0m \u001b[0mNode\u001b[0m\u001b[0;34m)\u001b[0m \u001b[0;32mand\u001b[0m \u001b[0mself\u001b[0m\u001b[0;34m.\u001b[0m\u001b[0mstate\u001b[0m \u001b[0;34m==\u001b[0m \u001b[0mother\u001b[0m\u001b[0;34m.\u001b[0m\u001b[0mstate\u001b[0m\u001b[0;34m\u001b[0m\u001b[0;34m\u001b[0m\u001b[0m\n\u001b[1;32m    135\u001b[0m \u001b[0;34m\u001b[0m\u001b[0m\n",
      "\u001b[0;31mKeyboardInterrupt\u001b[0m: "
     ]
    }
   ],
   "source": [
    "# Cuidado ciclo infinito\n",
    "\n",
    "import timeit\n",
    "start = timeit.default_timer()\n",
    "resultado = depth_first_graph_search(p3)\n",
    "print(\"Solução Profundidade-primeiro (grafo) com custo\", str(resultado.path_cost)+\":\")\n",
    "print(resultado.solution())\n",
    "stop = timeit.default_timer()\n",
    "print('Time: ', stop - start)\n",
    "p3.display_trace(resultado.solution())"
   ]
  },
  {
   "cell_type": "markdown",
   "id": "fb8221c8",
   "metadata": {},
   "source": [
    "Verifica-se que o algoritmo de Profundidade-Primeiro entra num ciclo infinito.\n",
    "Embaixo podemos ver com mais pormenor o motivo, quais as posições que entram no ciclo infinto, num intervalo de tempo $ \\Delta t = 30$."
   ]
  },
  {
   "cell_type": "code",
   "execution_count": 22,
   "id": "1072d38f",
   "metadata": {
    "pycharm": {
     "name": "#%%\n"
    }
   },
   "outputs": [
    {
     "name": "stdout",
     "output_type": "stream",
     "text": [
      "Encontra-se na posição: (1, 1) \n",
      "Encontra-se na posição: (2, 1) \n",
      "Encontra-se na posição: (3, 1) \n",
      "Encontra-se na posição: (4, 1) \n",
      "Encontra-se na posição: (5, 1) \n",
      "Encontra-se na posição: (6, 1) \n",
      "Encontra-se na posição: (5, 1) \n",
      "Encontra-se na posição: (6, 1) \n",
      "Encontra-se na posição: (5, 1) \n",
      "Encontra-se na posição: (6, 1) \n",
      "Encontra-se na posição: (5, 1) \n",
      "Encontra-se na posição: (6, 1) \n",
      "Encontra-se na posição: (5, 1) \n",
      "Encontra-se na posição: (6, 1) \n",
      "Encontra-se na posição: (5, 1) \n",
      "Encontra-se na posição: (6, 1) \n",
      "Encontra-se na posição: (5, 1) \n",
      "Encontra-se na posição: (6, 1) \n",
      "Encontra-se na posição: (5, 1) \n",
      "Encontra-se na posição: (6, 1) \n",
      "Encontra-se na posição: (5, 1) \n",
      "Encontra-se na posição: (6, 1) \n",
      "Encontra-se na posição: (5, 1) \n",
      "Encontra-se na posição: (6, 1) \n",
      "Encontra-se na posição: (5, 1) \n",
      "Encontra-se na posição: (6, 1) \n",
      "Encontra-se na posição: (5, 1) \n",
      "Encontra-se na posição: (6, 1) \n",
      "Encontra-se na posição: (5, 1) \n",
      "Encontra-se na posição: (6, 1) \n",
      "Encontra-se na posição: (5, 1) \n"
     ]
    }
   ],
   "source": [
    "def graph_search_print(problem, frontier):\n",
    "    \"\"\"Search through the successors of a problem to find a goal.\n",
    "    The argument frontier should be an empty queue.\n",
    "    If two paths reach a state, only use the first one. [Figure 3.7]\"\"\"\n",
    "    frontier.append(Node(problem.initial))\n",
    "    explored = set()\n",
    "    t = 0\n",
    "    while t<= 30:\n",
    "        t += 1\n",
    "        node = frontier.pop()\n",
    "        if problem.goal_test(node.state):\n",
    "            return node\n",
    "        print(\"Encontra-se na posição:\",(node.state).pos, '', end = \"\\n\")\n",
    "        explored.add(node.state)\n",
    "        frontier.extend(child for child in node.expand(problem)\n",
    "                        if child.state not in explored and\n",
    "                        child not in frontier)\n",
    "\n",
    "    return None\n",
    "\n",
    "def depth_first_graph_search_print(problem):\n",
    "    \"\"\"Search the deepest nodes in the search tree first.\"\"\"\n",
    "    return graph_search_print(problem, Stack())\n",
    "\n",
    "depth_first_graph_search_print(p3)"
   ]
  },
  {
   "cell_type": "markdown",
   "id": "1deb6c22",
   "metadata": {},
   "source": [
    "- Largura-Primeiro  "
   ]
  },
  {
   "cell_type": "code",
   "execution_count": 115,
   "id": "0e4ab07f",
   "metadata": {},
   "outputs": [
    {
     "name": "stdout",
     "output_type": "stream",
     "text": [
      "Tempo médio de execução: 0.004659621460014023\n",
      "Solução Lagura-primeiro (grafo) com custo 9:\n",
      "['S', 'N', 'S', 'N', 'E']\n",
      "# # # # # # # # \n",
      "# @ C . D . . # \n",
      "# + # # # # . # \n",
      "# . . . . # . # \n",
      "# . . . . # . # \n",
      "# . . . . # C # \n",
      "# N D . . . . # \n",
      "# # # # # # # # \n",
      "\n"
     ]
    }
   ],
   "source": [
    "# Resolve problema n=50 vezes e faz a media dos tempos\n",
    "@avg_run_time\n",
    "def largura_primeiro_p3():\n",
    "    breadth_first_graph_search(p3)\n",
    "\n",
    "# Resolve problema e guarda o resultado\n",
    "resultado = breadth_first_graph_search(p3)\n",
    "print(\"Solução Lagura-primeiro (grafo) com custo\", str(resultado.path_cost)+\":\")\n",
    "print(resultado.solution())\n",
    "p3.display_trace(resultado.solution())"
   ]
  },
  {
   "cell_type": "markdown",
   "id": "5614c87b",
   "metadata": {},
   "source": [
    "- Aprofundamento Progressivo"
   ]
  },
  {
   "cell_type": "code",
   "execution_count": 123,
   "id": "d83230bd",
   "metadata": {},
   "outputs": [
    {
     "name": "stdout",
     "output_type": "stream",
     "text": [
      "Tempo médio de execução: 0.005618263720025425\n",
      "Solução Aprofundamento Progressivo (grafo) com custo 7:\n",
      "['S', 'S', 'N', 'N', 'E']\n",
      "# # # # # # # # \n",
      "# @ C . D . . # \n",
      "# + # # # # . # \n",
      "# + . . . # . # \n",
      "# . . . . # . # \n",
      "# . . . . # C # \n",
      "# N D . . . . # \n",
      "# # # # # # # # \n",
      "\n"
     ]
    }
   ],
   "source": [
    "# Resolve problema n=50 vezes e faz a media dos tempos\n",
    "@avg_run_time\n",
    "def aprofundamento_progressivo_3():\n",
    "    progressive_depth_search_graph(p3)\n",
    "\n",
    "# Resolve problema e guarda o resultado\n",
    "resultado = progressive_depth_search_graph(p3)\n",
    "print(\"Solução Aprofundamento Progressivo (grafo) com custo\", str(resultado.path_cost)+\":\")\n",
    "print(resultado.solution())\n",
    "p3.display_trace(resultado.solution())"
   ]
  },
  {
   "cell_type": "markdown",
   "id": "5e3d9fb3",
   "metadata": {},
   "source": [
    "- Custo Uniforme"
   ]
  },
  {
   "cell_type": "code",
   "execution_count": 126,
   "id": "cdb7d6c9",
   "metadata": {},
   "outputs": [
    {
     "name": "stdout",
     "output_type": "stream",
     "text": [
      "Tempo médio de execução: 0.009269664540479425\n",
      "Solução Custo Uniforme (grafo) com custo 6:\n",
      "['S', 'S', 'S', 'S', 'S', 'E']\n",
      "# # # # # # # # \n",
      "# @ C . D . . # \n",
      "# + # # # # . # \n",
      "# + . . . # . # \n",
      "# + . . . # . # \n",
      "# + . . . # C # \n",
      "# + D . . . . # \n",
      "# # # # # # # # \n",
      "\n"
     ]
    }
   ],
   "source": [
    "# Resolve problema n=50 vezes e faz a media dos tempos\n",
    "@avg_run_time\n",
    "def custo_uniforme():\n",
    "    uniform_cost_search(p3)\n",
    "\n",
    "# Resolve problema e guarda o resultado\n",
    "resultado = uniform_cost_search(p3)    \n",
    "print(\"Solução Custo Uniforme (grafo) com custo\", str(resultado.path_cost)+\":\")\n",
    "print(resultado.solution())\n",
    "p3.display_trace(resultado.solution())"
   ]
  },
  {
   "cell_type": "markdown",
   "id": "4c02ac1d",
   "metadata": {},
   "source": [
    "- Comparação e discusão  "
   ]
  },
  {
   "cell_type": "code",
   "execution_count": 132,
   "id": "f36b5773",
   "metadata": {},
   "outputs": [
    {
     "name": "stdout",
     "output_type": "stream",
     "text": [
      "Devios em relação ao tempo médio de execução do algoritmo largura-primeiro:\n",
      "Aprofundamento Progressivo: +20.573393530737945 %\n",
      "Custo Uniforme: +98.93599984517905 %\n"
     ]
    }
   ],
   "source": [
    "\"\"\"Calculo dos desvios do tempo em relacao ao menor tempo de execução\n",
    "\n",
    "Tempos obtidos nas nossas execuções:\n",
    "    t_largura_primeiro = 0.004659621460014023\n",
    "    t_aprofundamento_progressivo = 0.005618263720025425\n",
    "    t_custo_uniforme = 0.009269664540479425\n",
    "\"\"\"\n",
    "Tempos = [0.004659621460014023, 0.005618263720025425, 0.009269664540479425]\n",
    "desvios = [(x / Tempos[0])*100-100 for x in Tempos[1:]]\n",
    "print(\"Devios em relação ao tempo médio de execução do algoritmo largura-primeiro:\")\n",
    "print(f\"Aprofundamento Progressivo: +{desvios[0]} %\")\n",
    "print(f\"Custo Uniforme: +{desvios[1]} %\")"
   ]
  },
  {
   "cell_type": "markdown",
   "id": "a2662fac",
   "metadata": {},
   "source": [
    "| Algoritmo | Tempo demorado (s) | Custo | Desvio médio (%) |\n",
    "| :---: |:------------------:|:-----:|:----------:|\n",
    "| Profundidade-Primeiro |       -----        |  --   |     --     |\n",
    "| Largura-Primeiro |      0.00466       |   9   |     +0     |\n",
    "| Aprofundamento Progressivo |      0.00562       |   7   |    +21     |\n",
    "| Custo Uniforme |      0.00927       |   6   |    +99    |\n",
    "\n",
    "<br />\n",
    "\n",
    "De acordo com os resultados obtidos o algoritmo mais rápido para esta configuração em específico do nosso problema foi a procura em Largura-Primeiro em grafo, todos os outros algoritmos demoram mais. Apesar de ser o mais rápido não é obteve a melhor solução em termos de custo, uma vez que o de custo uniforme conseguiu chegar a uma solução de custo menor, sendo esta ideal este problema.\n",
    "\n",
    "\n",
    "Os resultados obtidos são consistentes com o esperado para estes algoritmos:\n",
    " - O de Profundidade-Primeiro entra num ciclo infinito, confirmando assim que o algoritmo não é completo;\n",
    " - O de Largura-Primeiro demora 0.00675s a encontrar uma solução com custo 9, confirmando que o algoritmo é completo, mas não optimal uma vez que é o algoritmo mais custoso. Seria de esperar uma vez que os custos não são homogéneos;\n",
    " - O de Aprofundamento Progressivo demorou 0.00762s a chegar a uma solução com custo 7, confirmando que o algoritmo é completo, no entanto não optimal, pelo mesmo motivo do de Largura-Primeiro, os custos não são homogéneos. Mas verifica-se que chegou a uma solução com menor custo que o de Largura-Primeiro;\n",
    " - O de Custo Uniforme chega a uma solução após 0.01504s com custo 6. Confirmando assim que o algoritmo é completo e optimal, apesar da maior complexidade temporal.\n",
    "\n",
    "Dos resultados obtidos pudemos observar que o algoritmo de Profundidade-Primeiro entra num ciclo infinito, ficando ciclamente alternando entre duas casas (possível de verificar através do print da posição do pacman em cada novo estado). Isto acontece porque apesar de estarmos a procurar em grafo não existem dois estados iguais devido à formulação do problema, sempre que o pacman se move é registada uma visita nova e o tempo decorrido desde a última pastilha é alterado. Esta formulação tem a consequência de cada ação gerar um novo estado único, originando o problema de procura com o algoritmo de Profundidade-Primeiro.\n",
    "\n",
    "Verificou-se que a complexidade temporal dos algoritmos de Largura-Primeiro e Aprofundamento Progressivo são parecidas ($\\mathcal{O}(b^n)$), tendo apenas um desvio médio de +21% em relação ao largura-primeiro.\n",
    "\n",
    "E finalmente confirmou-se ainda que o algoritmo de Custo Uniforme é completo e optimal, apesar da maior complexidade temporal (desvio médio de +99% em relação ao largura-primeiro)."
   ]
  }
 ],
 "metadata": {
  "kernelspec": {
   "display_name": "Python 3 (ipykernel)",
   "language": "python",
   "name": "python3"
  },
  "language_info": {
   "codemirror_mode": {
    "name": "ipython",
    "version": 3
   },
   "file_extension": ".py",
   "mimetype": "text/x-python",
   "name": "python",
   "nbconvert_exporter": "python",
   "pygments_lexer": "ipython3",
   "version": "3.9.7"
  }
 },
 "nbformat": 4,
 "nbformat_minor": 5
}
