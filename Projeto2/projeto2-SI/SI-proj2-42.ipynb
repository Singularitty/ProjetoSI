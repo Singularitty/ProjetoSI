{
 "cells": [
  {
   "cell_type": "markdown",
   "id": "bf9c87b1",
   "metadata": {},
   "source": [
    "# Sistemas Inteligentes 2021/2022\n",
    "\n",
    "## Mini-projeto 2: Quadrados Latinos\n"
   ]
  },
  {
   "cell_type": "markdown",
   "id": "d7b8efca",
   "metadata": {},
   "source": [
    "## Grupo: 42\n",
    "\n",
    "### Elementos do Grupo\n",
    "\n",
    "Número:  53687       Nome:   Ariana Dias  \n",
    "Número:  53746       Nome:   Andrei Tataru  \n",
    "Número:  51127       Nome:   Luís Ferreirinha  \n",
    "\n",
    "(Nota: Neste relatório pode adicionar as células de texto e código que achar necessárias.)"
   ]
  },
  {
   "cell_type": "markdown",
   "id": "df10acb0",
   "metadata": {},
   "source": [
    "## Representação de variáveis, domínios, vizinhos e restrições\n",
    "\n",
    "Descreva aqui, textualmente, como decidiu representar as variáveis, domínios, vizinhos e restrições em Python;\n",
    "\n",
    "Considerando a representação do quadrado como uma matriz _n x n_,\n",
    "- Variáveis:\n",
    "    - Representar por um conjunto de coordenadas;\n",
    "- Domínios:\n",
    "    - Conjunto de números {1,....,n}\n",
    "- Vizinhos:\n",
    "    - Dicionário que define o grafo de restrições ({(i,j):[todos os elementos da linha i e todos os elementos da coluna j]})\n",
    "- Restrições:\n",
    "    - Todos os elementos da linha i são diferentes, todos os elementos da coluna j são diferentes.\n"
   ]
  },
  {
   "cell_type": "markdown",
   "id": "4ab69211",
   "metadata": {},
   "source": [
    "## Formulação do problema"
   ]
  },
  {
   "cell_type": "code",
   "execution_count": 70,
   "id": "c5327f4f",
   "metadata": {},
   "outputs": [],
   "source": [
    "from csp import *\n",
    "\n",
    "def quadrado_latino(n=3, initial={}) -> CSP:\n",
    "    \"\"\"\n",
    "    Pode receber parametros ou não.\n",
    "    Deve devolver um CSP, à semelhança dos guiões das aulas PL.\n",
    "    Comente o código.\n",
    "    \"\"\"\n",
    "    variaveis = {(i,j) for j in range(0,n) for i in range(0,n)}\n",
    "\n",
    "    conjunto = [i for i in range(1,n+1)]\n",
    "    \n",
    "    dominios = initial\n",
    "\n",
    "    # Diferenca dos dois conjuntos vai resultar nas variaveis nao preenchidas\n",
    "    for item in set(variaveis - initial.keys()):\n",
    "        dominios[item] = conjunto\n",
    "    \n",
    "    condicao_vizinhanca = lambda x,y : (x[0] == y[0] and x[1] != y[1]) or (x[0] != y[0] and x[1] == y[1])\n",
    "    \n",
    "    vizinhos = {var : set(filter(lambda x: condicao_vizinhanca(x,var), variaveis)) for var in variaveis}\n",
    "\n",
    "    def restricoes(X, a, Y, b):\n",
    "        if Y in vizinhos[X]:\n",
    "            return a != b\n",
    "        return True\n",
    "        \n",
    "    return CSP(variaveis, dominios, vizinhos, restricoes)"
   ]
  },
  {
   "cell_type": "markdown",
   "id": "f46b1688",
   "metadata": {},
   "source": [
    "## Criação do problema do quadrado latino simples\n",
    "\n",
    "Mostrem que o código está a funcionar, construindo um problema de quadrado latino *4x4*, imprimindo as variáveis, domínios iniciais, e vizinhos. Adicione os comentários necessários. Mostre como podemos criar um puzzle com quadrados já preenchidos, e qual o impacto que isso tem nas variáveis, domínios iniciais, e vizinhos."
   ]
  },
  {
   "cell_type": "code",
   "execution_count": 47,
   "id": "0b95b771",
   "metadata": {
    "pycharm": {
     "name": "#%%\n"
    }
   },
   "outputs": [
    {
     "name": "stdout",
     "output_type": "stream",
     "text": [
      "Variáveis =  {(0, 1), (1, 2), (2, 1), (0, 0), (3, 1), (1, 1), (0, 3), (2, 0), (3, 0), (2, 3), (0, 2), (3, 3), (2, 2), (1, 0), (3, 2), (1, 3)}\n",
      "Domínios =  {(0, 1): [1, 2, 3, 4], (1, 2): [1, 2, 3, 4], (2, 1): [1, 2, 3, 4], (3, 1): [1, 2, 3, 4], (0, 2): [1, 2, 3, 4], (2, 2): [1, 2, 3, 4], (1, 0): [1, 2, 3, 4], (3, 2): [1, 2, 3, 4], (1, 3): [1, 2, 3, 4], (0, 0): [1, 2, 3, 4], (1, 1): [1, 2, 3, 4], (0, 3): [1, 2, 3, 4], (2, 0): [1, 2, 3, 4], (3, 0): [1, 2, 3, 4], (2, 3): [1, 2, 3, 4], (3, 3): [1, 2, 3, 4]}\n",
      "Vizinhos =  {(0, 1): {(2, 1), (0, 0), (3, 1), (1, 1), (0, 3), (0, 2)}, (1, 2): {(1, 1), (0, 2), (2, 2), (1, 0), (3, 2), (1, 3)}, (2, 1): {(0, 1), (3, 1), (1, 1), (2, 0), (2, 3), (2, 2)}, (0, 0): {(0, 1), (0, 3), (2, 0), (3, 0), (0, 2), (1, 0)}, (3, 1): {(0, 1), (2, 1), (1, 1), (3, 0), (3, 3), (3, 2)}, (1, 1): {(0, 1), (1, 2), (2, 1), (3, 1), (1, 0), (1, 3)}, (0, 3): {(0, 1), (0, 0), (2, 3), (0, 2), (3, 3), (1, 3)}, (2, 0): {(2, 1), (0, 0), (3, 0), (2, 3), (2, 2), (1, 0)}, (3, 0): {(0, 0), (3, 1), (2, 0), (3, 3), (1, 0), (3, 2)}, (2, 3): {(2, 1), (0, 3), (2, 0), (3, 3), (2, 2), (1, 3)}, (0, 2): {(0, 1), (1, 2), (0, 0), (0, 3), (2, 2), (3, 2)}, (3, 3): {(3, 1), (0, 3), (3, 0), (2, 3), (3, 2), (1, 3)}, (2, 2): {(1, 2), (2, 1), (2, 0), (2, 3), (0, 2), (3, 2)}, (1, 0): {(1, 2), (0, 0), (1, 1), (2, 0), (3, 0), (1, 3)}, (3, 2): {(1, 2), (3, 1), (3, 0), (0, 2), (3, 3), (2, 2)}, (1, 3): {(1, 2), (1, 1), (0, 3), (2, 3), (3, 3), (1, 0)}}\n"
     ]
    }
   ],
   "source": [
    "p2 = quadrado_latino(4)\n",
    "print(\"Variáveis = \", p2.variables)\n",
    "print(\"Domínios = \", p2.domains)\n",
    "print(\"Vizinhos = \", p2.neighbors)"
   ]
  },
  {
   "cell_type": "markdown",
   "metadata": {
    "collapsed": false,
    "pycharm": {
     "name": "#%% md\n"
    }
   },
   "source": [
    "Para criar um puzzle com quadrados já preenchidos, alteramos a função de formulação do problema, fazendo com que esta agora receba também um dicionário com os quadrados já preenchidos.\n",
    "\n",
    "O facto de o quadrado ser semi preenchido apenas vai afetar os dominios iniciais, fazendo com que o dominio inicial das variaveis ja com valores atribuidos seja reduzido para essas.\n"
   ]
  },
  {
   "cell_type": "code",
   "execution_count": 69,
   "metadata": {
    "collapsed": false,
    "pycharm": {
     "name": "#%%\n"
    }
   },
   "outputs": [
    {
     "name": "stdout",
     "output_type": "stream",
     "text": [
      "Variáveis =  {(0, 1), (1, 2), (2, 1), (0, 0), (1, 1), (2, 0), (0, 2), (2, 2), (1, 0)}\n",
      "Domínios =  {(0, 0): [1], (1, 1): [3], (2, 2): [2], (0, 1): [1, 2, 3], (0, 2): [1, 2, 3], (1, 2): [1, 2, 3], (2, 1): [1, 2, 3], (1, 0): [1, 2, 3], (2, 0): [1, 2, 3]}\n",
      "Vizinhos =  {(0, 1): {(0, 2), (1, 1), (2, 1), (0, 0)}, (1, 2): {(1, 0), (1, 1), (2, 2), (0, 2)}, (2, 1): {(0, 1), (1, 1), (2, 0), (2, 2)}, (0, 0): {(0, 1), (1, 0), (0, 2), (2, 0)}, (1, 1): {(0, 1), (1, 0), (1, 2), (2, 1)}, (2, 0): {(1, 0), (2, 2), (2, 1), (0, 0)}, (0, 2): {(0, 1), (1, 2), (2, 2), (0, 0)}, (2, 2): {(0, 2), (1, 2), (2, 0), (2, 1)}, (1, 0): {(1, 1), (1, 2), (2, 0), (0, 0)}}\n",
      "{(0, 1): 2, (1, 2): 1, (2, 1): 1, (0, 0): 1, (1, 1): 3, (2, 0): 3, (0, 2): 3, (2, 2): 2, (1, 0): 2}\n"
     ]
    }
   ],
   "source": [
    "preenchido = {(0,0): [1], (1,1):[3], (2,2):[2]}\n",
    "\n",
    "pSP = quadrado_latino(3, preenchido)\n",
    "print(\"Variáveis = \", pSP.variables)\n",
    "print(\"Domínios = \", pSP.domains)\n",
    "print(\"Vizinhos = \", pSP.neighbors)\n",
    "\n",
    "r = backtracking_search(pSP)\n",
    "print(r)"
   ]
  },
  {
   "cell_type": "markdown",
   "metadata": {},
   "source": [
    "Resolva o problema com o backtracking sem inferencia, com inferencia, e com uma heurística."
   ]
  },
  {
   "cell_type": "code",
   "execution_count": 86,
   "metadata": {
    "collapsed": false,
    "pycharm": {
     "name": "#%%\n"
    }
   },
   "outputs": [],
   "source": [
    "import timeit\n",
    "tempos = {}\n",
    "solucoes = {}\n",
    "n = 3"
   ]
  },
  {
   "cell_type": "code",
   "execution_count": 87,
   "metadata": {
    "collapsed": false,
    "pycharm": {
     "name": "#%%\n"
    }
   },
   "outputs": [
    {
     "name": "stdout",
     "output_type": "stream",
     "text": [
      "Time:  0.0005329999839887023\n",
      "Assignment (QuadradoLatinoSemInferência) =  {(0, 1): 1, (1, 2): 1, (2, 1): 2, (0, 0): 3, (1, 1): 3, (2, 0): 1, (0, 2): 2, (2, 2): 3, (1, 0): 2}\n"
     ]
    }
   ],
   "source": [
    "QuadradoLatinoSemInferência = quadrado_latino(n)\n",
    "start = timeit.default_timer()\n",
    "r = backtracking_search(QuadradoLatinoSemInferência)\n",
    "stop = timeit.default_timer()\n",
    "print('Time: ', stop - start)\n",
    "print('Assignment (QuadradoLatinoSemInferência) = ',r)\n",
    "tempos['QuadradoLatinoSemInferência'] = stop - start\n",
    "solucoes['QuadradoLatinoSemInferência'] = r"
   ]
  },
  {
   "cell_type": "code",
   "execution_count": 88,
   "metadata": {
    "collapsed": false,
    "pycharm": {
     "name": "#%%\n"
    }
   },
   "outputs": [
    {
     "name": "stdout",
     "output_type": "stream",
     "text": [
      "Time:  0.000798200024291873\n",
      "Assignment (QuadradoLatinoComInferência_FRWDchecking) =  {(0, 1): 1, (1, 2): 1, (2, 1): 2, (0, 0): 3, (1, 1): 3, (2, 0): 1, (0, 2): 2, (2, 2): 3, (1, 0): 2}\n"
     ]
    }
   ],
   "source": [
    "QuadradoLatinoComInferência_FRWDchecking = quadrado_latino(n)\n",
    "start = timeit.default_timer()\n",
    "r = backtracking_search(QuadradoLatinoComInferência_FRWDchecking, inference=forward_checking)\n",
    "stop = timeit.default_timer()\n",
    "print('Time: ', stop - start)\n",
    "print('Assignment (QuadradoLatinoComInferência_FRWDchecking) = ',r)\n",
    "tempos['QuadradoLatinoComInferência_FRWDchecking'] = stop - start\n",
    "solucoes['QuadradoLatinoComInferência_FRWDchecking'] = r"
   ]
  },
  {
   "cell_type": "code",
   "execution_count": 89,
   "metadata": {
    "collapsed": false,
    "pycharm": {
     "name": "#%%\n"
    }
   },
   "outputs": [
    {
     "name": "stdout",
     "output_type": "stream",
     "text": [
      "Time:  0.0015578999882563949\n",
      "Assignment (QuadradoLatinoComAC3) =  {(0, 1): 1, (1, 2): 1, (2, 1): 2, (0, 0): 3, (1, 1): 3, (2, 0): 1, (0, 2): 2, (2, 2): 3, (1, 0): 2}\n"
     ]
    }
   ],
   "source": [
    "QuadradoLatinoComAC3 = quadrado_latino(n)\n",
    "start = timeit.default_timer()\n",
    "p_AC3 = AC3(QuadradoLatinoComAC3)\n",
    "r = backtracking_search(p_AC3)\n",
    "stop = timeit.default_timer()\n",
    "print('Time: ', stop - start)\n",
    "print('Assignment (QuadradoLatinoComAC3) = ',r)\n",
    "tempos['QuadradoLatinoComAC3'] = stop - start\n",
    "solucoes['QuadradoLatinoComAC3'] = r"
   ]
  },
  {
   "cell_type": "code",
   "execution_count": 90,
   "metadata": {
    "collapsed": false,
    "pycharm": {
     "name": "#%%\n"
    }
   },
   "outputs": [
    {
     "name": "stdout",
     "output_type": "stream",
     "text": [
      "Time:  0.0016184000414796174\n",
      "Assignment (QuadradoLatinoComInferência_MAC) =  {(0, 1): 1, (1, 2): 1, (2, 1): 2, (0, 0): 3, (1, 1): 3, (2, 0): 1, (0, 2): 2, (2, 2): 3, (1, 0): 2}\n"
     ]
    }
   ],
   "source": [
    "QuadradoLatinoComInferência_MAC = quadrado_latino(n)\n",
    "start = timeit.default_timer()\n",
    "r = backtracking_search(QuadradoLatinoComInferência_MAC, inference=mac)\n",
    "stop = timeit.default_timer()\n",
    "print('Time: ', stop - start)\n",
    "print('Assignment (QuadradoLatinoComInferência_MAC) = ',r)\n",
    "tempos['QuadradoLatinoComInferência_MAC'] = stop - start\n",
    "solucoes['QuadradoLatinoComInferência_MAC'] = r"
   ]
  },
  {
   "cell_type": "code",
   "execution_count": 91,
   "metadata": {
    "collapsed": false,
    "pycharm": {
     "name": "#%%\n"
    }
   },
   "outputs": [
    {
     "name": "stdout",
     "output_type": "stream",
     "text": [
      "Time:  0.001310999970883131\n",
      "Assignment (QuadradoLatinoComAC3eInferência_MAC) =  {(0, 1): 1, (1, 2): 1, (2, 1): 2, (0, 0): 3, (1, 1): 3, (2, 0): 1, (0, 2): 2, (2, 2): 3, (1, 0): 2}\n"
     ]
    }
   ],
   "source": [
    "QuadradoLatinoComAC3eInferência_MAC = quadrado_latino(n)\n",
    "start = timeit.default_timer()\n",
    "p_AC3 = AC3(QuadradoLatinoComAC3eInferência_MAC)\n",
    "r = backtracking_search(p_AC3, inference=mac)\n",
    "stop = timeit.default_timer()\n",
    "print('Time: ', stop - start)\n",
    "print('Assignment (QuadradoLatinoComAC3eInferência_MAC) = ',r)\n",
    "tempos['QuadradoLatinoComAC3eInferência_MAC'] = stop - start\n",
    "solucoes['QuadradoLatinoComAC3eInferência_MAC'] = r"
   ]
  },
  {
   "cell_type": "code",
   "execution_count": 92,
   "metadata": {
    "collapsed": false,
    "pycharm": {
     "name": "#%%\n"
    }
   },
   "outputs": [
    {
     "name": "stdout",
     "output_type": "stream",
     "text": [
      "Time:  0.001133600017055869\n",
      "Assignment (QuadradoLatinoComHeuristica) =  {(1, 2): 1, (2, 2): 2, (2, 0): 1, (0, 1): 1, (0, 2): 3, (2, 1): 3, (0, 0): 2, (1, 1): 2, (1, 0): 3}\n"
     ]
    }
   ],
   "source": [
    "QuadradoLatinoComHeuristica = quadrado_latino(n)\n",
    "start = timeit.default_timer()\n",
    "r = backtracking_search(QuadradoLatinoComHeuristica, select_unassigned_variable = mrv)\n",
    "stop = timeit.default_timer()\n",
    "print('Time: ', stop - start)\n",
    "print('Assignment (QuadradoLatinoComHeuristica) = ',r)\n",
    "tempos['QuadradoLatinoComHeuristica'] = stop - start\n",
    "solucoes['QuadradoLatinoComHeuristica'] = r"
   ]
  },
  {
   "cell_type": "code",
   "execution_count": 93,
   "metadata": {
    "collapsed": false,
    "pycharm": {
     "name": "#%%\n"
    }
   },
   "outputs": [
    {
     "name": "stdout",
     "output_type": "stream",
     "text": [
      "Time:  0.000651500013191253\n",
      "Assignment (QuadradoLatinoComHeuristicaComInferencia) =  {(2, 2): 1, (2, 0): 2, (2, 1): 3, (0, 2): 2, (1, 2): 3, (0, 1): 1, (1, 1): 2, (0, 0): 3, (1, 0): 1}\n"
     ]
    }
   ],
   "source": [
    "QuadradoLatinoComHeuristicaComInferencia = quadrado_latino(n)\n",
    "start = timeit.default_timer()\n",
    "r = backtracking_search(QuadradoLatinoComHeuristicaComInferencia, select_unassigned_variable = mrv, inference=forward_checking)\n",
    "stop = timeit.default_timer()\n",
    "print('Time: ', stop - start)\n",
    "print('Assignment (QuadradoLatinoComHeuristicaComInferencia) = ',r)\n",
    "tempos['QuadradoLatinoComHeuristicaComInferencia'] = stop - start\n",
    "solucoes['QuadradoLatinoComHeuristicaComInferencia'] = r"
   ]
  },
  {
   "cell_type": "code",
   "execution_count": 94,
   "metadata": {
    "collapsed": false,
    "pycharm": {
     "name": "#%%\n"
    }
   },
   "outputs": [
    {
     "data": {
      "text/plain": "                                                 3\nQuadradoLatinoSemInferência               0.000533\nQuadradoLatinoComHeuristicaComInferencia  0.000652\nQuadradoLatinoComInferência_FRWDchecking  0.000798\nQuadradoLatinoComHeuristica               0.001134\nQuadradoLatinoComAC3eInferência_MAC       0.001311\nQuadradoLatinoComAC3                      0.001558\nQuadradoLatinoComInferência_MAC           0.001618",
      "text/html": "<div>\n<style scoped>\n    .dataframe tbody tr th:only-of-type {\n        vertical-align: middle;\n    }\n\n    .dataframe tbody tr th {\n        vertical-align: top;\n    }\n\n    .dataframe thead th {\n        text-align: right;\n    }\n</style>\n<table border=\"1\" class=\"dataframe\">\n  <thead>\n    <tr style=\"text-align: right;\">\n      <th></th>\n      <th>3</th>\n    </tr>\n  </thead>\n  <tbody>\n    <tr>\n      <th>QuadradoLatinoSemInferência</th>\n      <td>0.000533</td>\n    </tr>\n    <tr>\n      <th>QuadradoLatinoComHeuristicaComInferencia</th>\n      <td>0.000652</td>\n    </tr>\n    <tr>\n      <th>QuadradoLatinoComInferência_FRWDchecking</th>\n      <td>0.000798</td>\n    </tr>\n    <tr>\n      <th>QuadradoLatinoComHeuristica</th>\n      <td>0.001134</td>\n    </tr>\n    <tr>\n      <th>QuadradoLatinoComAC3eInferência_MAC</th>\n      <td>0.001311</td>\n    </tr>\n    <tr>\n      <th>QuadradoLatinoComAC3</th>\n      <td>0.001558</td>\n    </tr>\n    <tr>\n      <th>QuadradoLatinoComInferência_MAC</th>\n      <td>0.001618</td>\n    </tr>\n  </tbody>\n</table>\n</div>"
     },
     "execution_count": 94,
     "metadata": {},
     "output_type": "execute_result"
    }
   ],
   "source": [
    "import pandas as pd\n",
    "temposSorted = dict(sorted(tempos.items(), key=lambda x:x[1]))\n",
    "pd.DataFrame(temposSorted.values(),index = temposSorted.keys(), columns= [n])\n"
   ]
  },
  {
   "cell_type": "markdown",
   "source": [
    "## Big Duvidas AQUI\n",
    "\n",
    "Com a tabela acima é possível concluir que:\n",
    "- o algoritmo que demora menos tempo a encontrar uma solução é a **procura com Retrocesso usando a inferência Forward Checking**, demora apenas 0.00046 segundos;\n",
    "- a solução do problema utilizando a procura com retrocesso sem inferências nem heurísticas demora mais tempo (0.000991 segundos) que a procura com retrocesso depois de pré-processamento com recurso ao algoritmo **AC3** (0.000890 segundos);\n",
    "- a procura com retrocesso usando Inferência e Heuristica (0.000997 segundos) é mais lenta que a procura sem (0.000991 segundos), sendo esta diferença na ordem dos 10 microsegundos;\n",
    "- independentemente da realização de um pré-processamento com AC3, a procura com inferência em que se mantém a consistência (mac), demora mais tempo, diferença na ordem dos 10 milisegundos;"
   ],
   "metadata": {
    "collapsed": false
   }
  },
  {
   "cell_type": "code",
   "execution_count": 121,
   "outputs": [
    {
     "data": {
      "text/plain": "                                          0  1  2  0  1  2  0  2  1\n                                          1  2  1  0  1  0  2  2  0\nQuadradoLatinoSemInferência               1  1  2  3  3  1  2  3  2\nQuadradoLatinoComInferência_FRWDchecking  1  1  2  3  3  1  2  3  2\nQuadradoLatinoComAC3                      1  1  2  3  3  1  2  3  2\nQuadradoLatinoComInferência_MAC           1  1  2  3  3  1  2  3  2\nQuadradoLatinoComAC3eInferência_MAC       1  1  2  3  3  1  2  3  2\nQuadradoLatinoComHeuristica               3  2  2  2  1  1  1  3  3\nQuadradoLatinoComHeuristicaComInferencia  3  1  1  1  2  2  2  3  3",
      "text/html": "<div>\n<style scoped>\n    .dataframe tbody tr th:only-of-type {\n        vertical-align: middle;\n    }\n\n    .dataframe tbody tr th {\n        vertical-align: top;\n    }\n\n    .dataframe thead tr th {\n        text-align: left;\n    }\n</style>\n<table border=\"1\" class=\"dataframe\">\n  <thead>\n    <tr>\n      <th></th>\n      <th>0</th>\n      <th>1</th>\n      <th>2</th>\n      <th>0</th>\n      <th>1</th>\n      <th>2</th>\n      <th>0</th>\n      <th>2</th>\n      <th>1</th>\n    </tr>\n    <tr>\n      <th></th>\n      <th>1</th>\n      <th>2</th>\n      <th>1</th>\n      <th>0</th>\n      <th>1</th>\n      <th>0</th>\n      <th>2</th>\n      <th>2</th>\n      <th>0</th>\n    </tr>\n  </thead>\n  <tbody>\n    <tr>\n      <th>QuadradoLatinoSemInferência</th>\n      <td>1</td>\n      <td>1</td>\n      <td>2</td>\n      <td>3</td>\n      <td>3</td>\n      <td>1</td>\n      <td>2</td>\n      <td>3</td>\n      <td>2</td>\n    </tr>\n    <tr>\n      <th>QuadradoLatinoComInferência_FRWDchecking</th>\n      <td>1</td>\n      <td>1</td>\n      <td>2</td>\n      <td>3</td>\n      <td>3</td>\n      <td>1</td>\n      <td>2</td>\n      <td>3</td>\n      <td>2</td>\n    </tr>\n    <tr>\n      <th>QuadradoLatinoComAC3</th>\n      <td>1</td>\n      <td>1</td>\n      <td>2</td>\n      <td>3</td>\n      <td>3</td>\n      <td>1</td>\n      <td>2</td>\n      <td>3</td>\n      <td>2</td>\n    </tr>\n    <tr>\n      <th>QuadradoLatinoComInferência_MAC</th>\n      <td>1</td>\n      <td>1</td>\n      <td>2</td>\n      <td>3</td>\n      <td>3</td>\n      <td>1</td>\n      <td>2</td>\n      <td>3</td>\n      <td>2</td>\n    </tr>\n    <tr>\n      <th>QuadradoLatinoComAC3eInferência_MAC</th>\n      <td>1</td>\n      <td>1</td>\n      <td>2</td>\n      <td>3</td>\n      <td>3</td>\n      <td>1</td>\n      <td>2</td>\n      <td>3</td>\n      <td>2</td>\n    </tr>\n    <tr>\n      <th>QuadradoLatinoComHeuristica</th>\n      <td>3</td>\n      <td>2</td>\n      <td>2</td>\n      <td>2</td>\n      <td>1</td>\n      <td>1</td>\n      <td>1</td>\n      <td>3</td>\n      <td>3</td>\n    </tr>\n    <tr>\n      <th>QuadradoLatinoComHeuristicaComInferencia</th>\n      <td>3</td>\n      <td>1</td>\n      <td>1</td>\n      <td>1</td>\n      <td>2</td>\n      <td>2</td>\n      <td>2</td>\n      <td>3</td>\n      <td>3</td>\n    </tr>\n  </tbody>\n</table>\n</div>"
     },
     "execution_count": 121,
     "metadata": {},
     "output_type": "execute_result"
    }
   ],
   "source": [
    "sols = pd.DataFrame(solucoes).T\n",
    "sols"
   ],
   "metadata": {
    "collapsed": false,
    "pycharm": {
     "name": "#%%\n"
    }
   }
  },
  {
   "cell_type": "code",
   "execution_count": 122,
   "outputs": [
    {
     "data": {
      "text/plain": "                                          0  1  2  0  1  2  0  2  1\n                                          1  2  1  0  1  0  2  2  0\nQuadradoLatinoSemInferência               1  1  2  3  3  1  2  3  2\nQuadradoLatinoComHeuristica               3  2  2  2  1  1  1  3  3\nQuadradoLatinoComHeuristicaComInferencia  3  1  1  1  2  2  2  3  3",
      "text/html": "<div>\n<style scoped>\n    .dataframe tbody tr th:only-of-type {\n        vertical-align: middle;\n    }\n\n    .dataframe tbody tr th {\n        vertical-align: top;\n    }\n\n    .dataframe thead tr th {\n        text-align: left;\n    }\n</style>\n<table border=\"1\" class=\"dataframe\">\n  <thead>\n    <tr>\n      <th></th>\n      <th>0</th>\n      <th>1</th>\n      <th>2</th>\n      <th>0</th>\n      <th>1</th>\n      <th>2</th>\n      <th>0</th>\n      <th>2</th>\n      <th>1</th>\n    </tr>\n    <tr>\n      <th></th>\n      <th>1</th>\n      <th>2</th>\n      <th>1</th>\n      <th>0</th>\n      <th>1</th>\n      <th>0</th>\n      <th>2</th>\n      <th>2</th>\n      <th>0</th>\n    </tr>\n  </thead>\n  <tbody>\n    <tr>\n      <th>QuadradoLatinoSemInferência</th>\n      <td>1</td>\n      <td>1</td>\n      <td>2</td>\n      <td>3</td>\n      <td>3</td>\n      <td>1</td>\n      <td>2</td>\n      <td>3</td>\n      <td>2</td>\n    </tr>\n    <tr>\n      <th>QuadradoLatinoComHeuristica</th>\n      <td>3</td>\n      <td>2</td>\n      <td>2</td>\n      <td>2</td>\n      <td>1</td>\n      <td>1</td>\n      <td>1</td>\n      <td>3</td>\n      <td>3</td>\n    </tr>\n    <tr>\n      <th>QuadradoLatinoComHeuristicaComInferencia</th>\n      <td>3</td>\n      <td>1</td>\n      <td>1</td>\n      <td>1</td>\n      <td>2</td>\n      <td>2</td>\n      <td>2</td>\n      <td>3</td>\n      <td>3</td>\n    </tr>\n  </tbody>\n</table>\n</div>"
     },
     "execution_count": 122,
     "metadata": {},
     "output_type": "execute_result"
    }
   ],
   "source": [
    "sols.drop_duplicates()"
   ],
   "metadata": {
    "collapsed": false,
    "pycharm": {
     "name": "#%%\n"
    }
   }
  },
  {
   "cell_type": "markdown",
   "metadata": {
    "collapsed": false
   },
   "source": [
    "## Visualização do problema"
   ]
  },
  {
   "cell_type": "code",
   "execution_count": 62,
   "metadata": {},
   "outputs": [],
   "source": [
    "def visualizacao_quadrado_latino(n, problema_csp, solucao):\n",
    "    \n",
    "    estado_inicial = [[0 for y in range(n)] for x in range(n)]\n",
    "    for var, dom in problema_csp.domains.items():\n",
    "        if len(dom) == 1:\n",
    "            estado_inicial[var[1]][var[0]] = dom[0]\n",
    "        \n",
    "    estado_final = [[0 for y in range(n)] for x in range(n)]\n",
    "    for var, valor in solucao.items():\n",
    "        estado_final[var[1]][var[0]] = valor\n",
    "    \n",
    "    board_inicial = \"\"\n",
    "    board_final = \"\"\n",
    "    for y in range(n):\n",
    "        for x in range(n):\n",
    "            board_inicial += str(estado_inicial[y][x]) + \" \"\n",
    "            board_final += str(estado_final[y][x]) + \" \"\n",
    "        board_inicial += \"\\n\"\n",
    "        board_final += \"\\n\"\n",
    "    \n",
    "    print(\"Estado Inicial:\")\n",
    "    print(board_inicial)\n",
    "    print(\"Solução:\")\n",
    "    print(board_final)"
   ]
  },
  {
   "cell_type": "code",
   "execution_count": 72,
   "metadata": {
    "collapsed": false,
    "pycharm": {
     "name": "#%%\n"
    }
   },
   "outputs": [
    {
     "name": "stdout",
     "output_type": "stream",
     "text": [
      "Estado Inicial:\n",
      "0 0 0 \n",
      "0 0 0 \n",
      "0 0 0 \n",
      "\n",
      "Solução:\n",
      "3 2 1 \n",
      "1 3 2 \n",
      "2 1 3 \n",
      "\n"
     ]
    }
   ],
   "source": [
    "visualizacao_quadrado_latino(3, quadrado_latino(3), backtracking_search(quadrado_latino(3)))"
   ]
  },
  {
   "cell_type": "code",
   "execution_count": 71,
   "outputs": [
    {
     "name": "stdout",
     "output_type": "stream",
     "text": [
      "Variáveis =  {(0, 1), (1, 2), (2, 1), (0, 0), (1, 1), (2, 0), (0, 2), (2, 2), (1, 0)}\n",
      "Domínios =  {(0, 1): [1, 2, 3], (1, 2): [1, 2, 3], (2, 1): [1, 2, 3], (0, 0): [1, 2, 3], (1, 1): [1, 2, 3], (2, 0): [1, 2, 3], (0, 2): [1, 2, 3], (2, 2): [1, 2, 3], (1, 0): [1, 2, 3]}\n",
      "Vizinhos =  {(0, 1): {(0, 2), (1, 1), (2, 1), (0, 0)}, (1, 2): {(1, 0), (1, 1), (2, 2), (0, 2)}, (2, 1): {(0, 1), (1, 1), (2, 0), (2, 2)}, (0, 0): {(0, 1), (1, 0), (0, 2), (2, 0)}, (1, 1): {(0, 1), (1, 0), (1, 2), (2, 1)}, (2, 0): {(1, 0), (2, 2), (2, 1), (0, 0)}, (0, 2): {(0, 1), (1, 2), (2, 2), (0, 0)}, (2, 2): {(0, 2), (1, 2), (2, 0), (2, 1)}, (1, 0): {(1, 1), (1, 2), (2, 0), (0, 0)}}\n"
     ]
    }
   ],
   "source": [
    "p3 = quadrado_latino(3)\n",
    "print(\"Variáveis = \", p3.variables)\n",
    "print(\"Domínios = \", p3.domains)\n",
    "print(\"Vizinhos = \", p3.neighbors)"
   ],
   "metadata": {
    "collapsed": false,
    "pycharm": {
     "name": "#%%\n"
    }
   }
  },
  {
   "cell_type": "markdown",
   "metadata": {
    "collapsed": false
   },
   "source": [
    "## Criação do problema Futoshiki *5x5*\n",
    "\n",
    "Mostrem que o código está a funcionar, construindo um problema de Futoshiki *5x5*, imprimindo as variáveis, domínios iniciais, e vizinhos. Adicione os comentários necessários. Utilize o [link](https://www.futoshiki.org/) para gerar puzzles e validar a implementação."
   ]
  },
  {
   "cell_type": "code",
   "execution_count": 88,
   "metadata": {
    "collapsed": false,
    "pycharm": {
     "name": "#%%\n"
    }
   },
   "outputs": [],
   "source": [
    "def maior(x,y):\n",
    "    return x > y\n",
    "\n",
    "def menor(x,y):\n",
    "    return x < y\n",
    "\n",
    "def futoshiki(n=3, initial={}, desigualdades={}):\n",
    "    \"\"\"\n",
    "    Pode receber parametros ou não.\n",
    "    Deve devolver um CSP, à semelhança dos guiões das aulas PL.\n",
    "    Comente o código.\n",
    "    \"\"\"\n",
    "    variaveis = {(i,j) for j in range(0,n) for i in range(0,n)}\n",
    "\n",
    "    conjunto = [i for i in range(1,n+1)]\n",
    "    \n",
    "    dominios = initial\n",
    "\n",
    "    # Diferenca dos dois conjuntos vai resultar nas variaveis nao preenchidas\n",
    "    for item in set(variaveis - initial.keys()):\n",
    "            dominios[item] = conjunto\n",
    "    \n",
    "    condicao_vizinhanca = lambda x,y : (x[0] == y[0] and x[1] != y[1]) or (x[0] != y[0] and x[1] == y[1])\n",
    "    \n",
    "    vizinhos = {var : list(filter(lambda x: condicao_vizinhanca(x,var), variaveis)) for var in variaveis}\n",
    "\n",
    "    def restricoes(X, a, Y, b):\n",
    "        if (X,Y) in desigualdades.keys():\n",
    "            if not desigualdades[(X,Y)](a,b):\n",
    "                return False\n",
    "        if (Y,X) in desigualdades.keys():\n",
    "            if not desigualdades[(Y,X)](b,a):\n",
    "                return False\n",
    "        if Y in vizinhos[X]:\n",
    "            return  a != b\n",
    "        return True\n",
    "\n",
    "    return CSP(variaveis, dominios, vizinhos, restricoes)"
   ]
  },
  {
   "cell_type": "code",
   "execution_count": 29,
   "metadata": {
    "collapsed": false,
    "pycharm": {
     "name": "#%%\n"
    }
   },
   "outputs": [],
   "source": [
    "preenchidos = {(1,3) : [1]}\n",
    "desigualdades = {((1,0),(2,0)) : maior, ((2,0),(3,0)) : maior, ((1,1),(1,0)): maior, ((3,3),(3,2)) : maior}"
   ]
  },
  {
   "cell_type": "code",
   "execution_count": 125,
   "metadata": {
    "collapsed": false,
    "pycharm": {
     "name": "#%%\n"
    }
   },
   "outputs": [
    {
     "name": "stdout",
     "output_type": "stream",
     "text": [
      "Variáveis =  {(0, 1), (1, 2), (2, 1), (0, 0), (3, 1), (1, 1), (0, 3), (2, 0), (3, 0), (2, 3), (0, 2), (3, 3), (2, 2), (1, 0), (3, 2), (1, 3)}\n",
      "Domínios =  {(0, 2): {2}, (0, 5): {5}, (2, 2): {6}, (2, 7): {2}, (3, 3): {6}, (5, 4): {3}, (7, 7): {5}, (8, 6): {5}, (8, 8): {4}, (0, 1): {1, 2, 3, 4, 5}, (2, 4): {1, 2, 3, 4, 5}, (4, 0): {1, 2, 3, 4, 5}, (1, 2): {1, 2, 3, 4, 5}, (3, 4): {1, 2, 3, 4, 5}, (0, 4): {1, 2, 3, 4, 5}, (4, 3): {1, 2, 3, 4, 5}, (3, 1): {1, 2, 3, 4, 5}, (2, 1): {1, 2, 3, 4, 5}, (1, 0): {1, 2, 3, 4, 5}, (3, 2): {1, 2, 3, 4, 5}, (1, 3): {1, 2, 3, 4, 5}, (4, 1): {1, 2, 3, 4, 5}, (4, 4): {1, 2, 3, 4, 5}, (0, 0): {1, 2, 3, 4, 5}, (1, 1): {1, 2, 3, 4, 5}, (0, 3): {1, 2, 3, 4, 5}, (2, 0): {1, 2, 3, 4, 5}, (4, 2): {1, 2, 3, 4, 5}, (3, 0): {1, 2, 3, 4, 5}, (1, 4): {1, 2, 3, 4, 5}, (2, 3): {1, 2, 3, 4, 5}, (3, 7): {1, 2, 3, 4, 5, 6, 7, 8, 9}, (4, 6): {1, 2, 3, 4, 5, 6, 7, 8, 9}, (5, 1): {1, 2, 3, 4, 5, 6, 7, 8, 9}, (8, 0): {1, 2, 3, 4, 5, 6, 7, 8, 9}, (5, 7): {1, 2, 3, 4, 5, 6, 7, 8, 9}, (8, 3): {1, 2, 3, 4, 5, 6, 7, 8, 9}, (1, 6): {1, 2, 3, 4, 5, 6, 7, 8, 9}, (0, 8): {1, 2, 3, 4, 5, 6, 7, 8, 9}, (2, 5): {1, 2, 3, 4, 5, 6, 7, 8, 9}, (2, 8): {1, 2, 3, 4, 5, 6, 7, 8, 9}, (7, 4): {1, 2, 3, 4, 5, 6, 7, 8, 9}, (6, 2): {1, 2, 3, 4, 5, 6, 7, 8, 9}, (7, 1): {1, 2, 3, 4, 5, 6, 7, 8, 9}, (6, 5): {1, 2, 3, 4, 5, 6, 7, 8, 9}, (6, 8): {1, 2, 3, 4, 5, 6, 7, 8, 9}, (4, 5): {1, 2, 3, 4, 5, 6, 7, 8, 9}, (5, 0): {1, 2, 3, 4, 5, 6, 7, 8, 9}, (5, 6): {1, 2, 3, 4, 5, 6, 7, 8, 9}, (4, 8): {1, 2, 3, 4, 5, 6, 7, 8, 9}, (3, 6): {1, 2, 3, 4, 5, 6, 7, 8, 9}, (5, 3): {1, 2, 3, 4, 5, 6, 7, 8, 9}, (8, 2): {1, 2, 3, 4, 5, 6, 7, 8, 9}, (8, 5): {1, 2, 3, 4, 5, 6, 7, 8, 9}, (0, 7): {1, 2, 3, 4, 5, 6, 7, 8, 9}, (1, 5): {1, 2, 3, 4, 5, 6, 7, 8, 9}, (6, 1): {1, 2, 3, 4, 5, 6, 7, 8, 9}, (1, 8): {1, 2, 3, 4, 5, 6, 7, 8, 9}, (7, 0): {1, 2, 3, 4, 5, 6, 7, 8, 9}, (6, 4): {1, 2, 3, 4, 5, 6, 7, 8, 9}, (7, 3): {1, 2, 3, 4, 5, 6, 7, 8, 9}, (6, 7): {1, 2, 3, 4, 5, 6, 7, 8, 9}, (7, 6): {1, 2, 3, 4, 5, 6, 7, 8, 9}, (4, 7): {1, 2, 3, 4, 5, 6, 7, 8, 9}, (3, 5): {1, 2, 3, 4, 5, 6, 7, 8, 9}, (5, 2): {1, 2, 3, 4, 5, 6, 7, 8, 9}, (3, 8): {1, 2, 3, 4, 5, 6, 7, 8, 9}, (5, 5): {1, 2, 3, 4, 5, 6, 7, 8, 9}, (8, 4): {1, 2, 3, 4, 5, 6, 7, 8, 9}, (8, 1): {1, 2, 3, 4, 5, 6, 7, 8, 9}, (5, 8): {1, 2, 3, 4, 5, 6, 7, 8, 9}, (8, 7): {1, 2, 3, 4, 5, 6, 7, 8, 9}, (0, 6): {1, 2, 3, 4, 5, 6, 7, 8, 9}, (1, 7): {1, 2, 3, 4, 5, 6, 7, 8, 9}, (2, 6): {1, 2, 3, 4, 5, 6, 7, 8, 9}, (7, 2): {1, 2, 3, 4, 5, 6, 7, 8, 9}, (6, 0): {1, 2, 3, 4, 5, 6, 7, 8, 9}, (6, 6): {1, 2, 3, 4, 5, 6, 7, 8, 9}, (7, 5): {1, 2, 3, 4, 5, 6, 7, 8, 9}, (6, 3): {1, 2, 3, 4, 5, 6, 7, 8, 9}, (7, 8): {1, 2, 3, 4, 5, 6, 7, 8, 9}}\n",
      "Vizinhos =  {(0, 1): {(2, 1), (0, 0), (3, 1), (1, 1), (0, 3), (0, 2)}, (1, 2): {(1, 1), (0, 2), (2, 2), (1, 0), (3, 2), (1, 3)}, (2, 1): {(0, 1), (3, 1), (1, 1), (2, 0), (2, 3), (2, 2)}, (0, 0): {(0, 1), (0, 3), (2, 0), (3, 0), (0, 2), (1, 0)}, (3, 1): {(0, 1), (2, 1), (1, 1), (3, 0), (3, 3), (3, 2)}, (1, 1): {(0, 1), (1, 2), (2, 1), (3, 1), (1, 0), (1, 3)}, (0, 3): {(0, 1), (0, 0), (2, 3), (0, 2), (3, 3), (1, 3)}, (2, 0): {(2, 1), (0, 0), (3, 0), (2, 3), (2, 2), (1, 0)}, (3, 0): {(0, 0), (3, 1), (2, 0), (3, 3), (1, 0), (3, 2)}, (2, 3): {(2, 1), (0, 3), (2, 0), (3, 3), (2, 2), (1, 3)}, (0, 2): {(0, 1), (1, 2), (0, 0), (0, 3), (2, 2), (3, 2)}, (3, 3): {(3, 1), (0, 3), (3, 0), (2, 3), (3, 2), (1, 3)}, (2, 2): {(1, 2), (2, 1), (2, 0), (2, 3), (0, 2), (3, 2)}, (1, 0): {(1, 2), (0, 0), (1, 1), (2, 0), (3, 0), (1, 3)}, (3, 2): {(1, 2), (3, 1), (3, 0), (0, 2), (3, 3), (2, 2)}, (1, 3): {(1, 2), (1, 1), (0, 3), (2, 3), (3, 3), (1, 0)}}\n"
     ]
    }
   ],
   "source": [
    "p = futoshiki(4, preenchidos, desigualdades)\n",
    "print(\"Variáveis = \", p.variables)\n",
    "print(\"Domínios = \", p.domains)\n",
    "print(\"Vizinhos = \", p.neighbors)\n",
    "r = backtracking_search(p)"
   ]
  },
  {
   "cell_type": "code",
   "execution_count": 126,
   "metadata": {},
   "outputs": [
    {
     "name": "stdout",
     "output_type": "stream",
     "text": [
      "{(0, 1): 3, (1, 2): 5, (2, 1): 5, (0, 0): 1, (3, 1): 2, (1, 1): 4, (0, 3): 4, (2, 0): 3, (3, 0): 4, (2, 3): 1, (0, 2): 2, (3, 3): 6, (2, 2): 6, (1, 0): 2, (3, 2): 1, (1, 3): 3}\n"
     ]
    }
   ],
   "source": [
    "print(r)"
   ]
  },
  {
   "cell_type": "markdown",
   "metadata": {
    "collapsed": false
   },
   "source": [
    "Resolva o problema com o backtracking sem inferencia, com inferencia, e com uma heurística. Até que dimensão consegue resolver o problema em menos de 1 minuto?"
   ]
  },
  {
   "cell_type": "code",
   "execution_count": null,
   "metadata": {},
   "outputs": [],
   "source": [
    "# código "
   ]
  },
  {
   "cell_type": "markdown",
   "metadata": {},
   "source": [
    "## Visualização do problema"
   ]
  },
  {
   "cell_type": "code",
   "execution_count": 100,
   "metadata": {},
   "outputs": [],
   "source": [
    "# Implemente uma função que permita visualizar o puzzle Futoshiki, antes e depois de resolvido. Compare com a solução obtida pelo seu algoritmo. \n",
    "# No caso de não implementar esta função, inclua um screenshot do problema e da sua solução.\n",
    "def visualizacao_futoshiki(n, problema_csp, desigualdades, solucao):\n",
    "    \n",
    "    def mapeamento_2D_para_1D(x,y):\n",
    "        return y*(n+(n-1)*3+1) + x\n",
    "\n",
    "    def escrita_numeros(x,y):\n",
    "        return mapeamento_2D_para_1D(x*4, y*2)\n",
    "    \n",
    "    def escrita_desigualdades_linha(x,y):\n",
    "        return mapeamento_2D_para_1D(x*4+2, y*2)\n",
    "    \n",
    "    def escrita_desigualdades_coluna(x,y):\n",
    "        return mapeamento_2D_para_1D(x*4, y*2-1)\n",
    "\n",
    "    def escrever_desigualdade(operacao, direcao):\n",
    "        if direcao == \"x\":\n",
    "            if operacao.__name__ == \"maior\":\n",
    "                return '>'\n",
    "            else:\n",
    "                return '<'\n",
    "        else:\n",
    "            if operacao.__name__ == \"maior\":\n",
    "                return u\"\\u2227\" # Carater ∧\n",
    "            else:\n",
    "                return u\"\\u2228\" # Carater ∨\n",
    "\n",
    "    board_inicial = ([\" \"] * (n+(n-1)*3) + [\"\\n\"]) * (n*2)\n",
    "    for var, dom in problema_csp.domains.items():\n",
    "        if len(dom) == 1:\n",
    "            board_inicial[escrita_numeros(var[0],var[1])] = str(dom[0])\n",
    "        else:\n",
    "            board_inicial[escrita_numeros(var[0],var[1])] = \"0\"\n",
    "    for var, operacao in desigualdades.items():\n",
    "        if (var[0][1] == var[1][1]):\n",
    "            board_inicial[escrita_desigualdades_linha(var[0][0],var[0][1])] = escrever_desigualdade(operacao, \"x\")\n",
    "        else:\n",
    "            board_inicial[escrita_desigualdades_coluna(var[0][0],var[0][1])] = escrever_desigualdade(operacao, \"y\")\n",
    "    \n",
    "    board_final = board_inicial.copy()\n",
    "    for var, valor in solucao.items():\n",
    "        board_final[escrita_numeros(var[0],var[1])] = str(valor)\n",
    "    \n",
    "\n",
    "    print(\"Estado Inicial:\")\n",
    "    print(''.join(board_inicial))\n",
    "    print(\"Solução:\")\n",
    "    print(''.join(board_final))"
   ]
  },
  {
   "cell_type": "code",
   "execution_count": 101,
   "metadata": {},
   "outputs": [
    {
     "name": "stdout",
     "output_type": "stream",
     "text": [
      "Estado Inicial:\n",
      "0   0 > 0 > 0\n",
      "    ∧        \n",
      "0   0   0   0\n",
      "             \n",
      "0   0   0   0\n",
      "            ∧\n",
      "0   1   0   0\n",
      "             \n",
      "\n",
      "Solução:\n",
      "4   3 > 2 > 1\n",
      "    ∧        \n",
      "3   4   1   2\n",
      "             \n",
      "1   2   4   3\n",
      "            ∧\n",
      "2   1   3   4\n",
      "             \n",
      "\n"
     ]
    }
   ],
   "source": [
    "visualizacao_futoshiki(4, p, desigualdades, r)"
   ]
  }
 ],
 "metadata": {
  "interpreter": {
   "hash": "ca0a6ed6c3687464969dd6147ab8a98b55d02ef7a9aec76841b10aa7e05a39c3"
  },
  "kernelspec": {
   "display_name": "Python 3.9.7 ('base')",
   "language": "python",
   "name": "python3"
  },
  "language_info": {
   "codemirror_mode": {
    "name": "ipython",
    "version": 3
   },
   "file_extension": ".py",
   "mimetype": "text/x-python",
   "name": "python",
   "nbconvert_exporter": "python",
   "pygments_lexer": "ipython3",
   "version": "3.9.12"
  },
  "orig_nbformat": 4
 },
 "nbformat": 4,
 "nbformat_minor": 2
}