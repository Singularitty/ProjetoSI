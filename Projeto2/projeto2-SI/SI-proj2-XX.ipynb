{
 "cells": [
  {
   "cell_type": "markdown",
   "id": "bf9c87b1",
   "metadata": {},
   "source": [
    "# Sistemas Inteligentes 2021/2022\n",
    "\n",
    "## Mini-projeto 2: Quadrados Latinos\n"
   ]
  },
  {
   "cell_type": "markdown",
   "id": "d7b8efca",
   "metadata": {},
   "source": [
    "## Grupo: 42\n",
    "\n",
    "### Elementos do Grupo\n",
    "\n",
    "Número:  53687       Nome:   Ariana Dias  \n",
    "Número:  53746       Nome:   Andrei Tataru  \n",
    "Número:  51127       Nome:   Luís Ferreirinha  \n",
    "\n",
    "(Nota: Neste relatório pode adicionar as células de texto e código que achar necessárias.)"
   ]
  },
  {
   "cell_type": "markdown",
   "id": "df10acb0",
   "metadata": {},
   "source": [
    "## Representação de variáveis, domínios, vizinhos e restrições\n",
    "\n",
    "Descreva aqui, textualmente, como decidiu representar as variáveis, domínios, vizinhos e restrições em Python;\n",
    "\n",
    "Considerando a representação do quadrado como uma matriz _n x n_,\n",
    "- Variáveis:\n",
    "    - Representar por uma lista de coordenadas;\n",
    "- Domínios:\n",
    "    - Conjunto de números {1,....,n}\n",
    "- Vizinhos:\n",
    "    - Dicionário que define o grafo de restrições ({(i,j):[todos os elementos da linha i e todos os elementos da coluna j]})\n",
    "- Restrições:\n",
    "    - Todos os elementos da linha i são diferentes, todos os elementos da coluna j são diferentes.\n"
   ]
  },
  {
   "cell_type": "markdown",
   "id": "4ab69211",
   "metadata": {},
   "source": [
    "## Formulação do problema"
   ]
  },
  {
   "cell_type": "code",
   "execution_count": 2,
   "id": "c5327f4f",
   "metadata": {},
   "outputs": [],
   "source": [
    "from csp import *\n",
    "\n",
    "def diferentes(x,y):\n",
    "    \"\"\"x diferente de y\"\"\"\n",
    "    return x != y\n",
    "\n",
    "def quadrado_latino(n = 3):\n",
    "    \"\"\"\n",
    "    Pode receber parametros ou não.\n",
    "    Deve devolver um CSP, à semelhança dos guiões das aulas PL.\n",
    "    Comente o código.\n",
    "    \"\"\"\n",
    "    variaveis = [(i,j) for j in range(0,n) for i in range(0,n)]\n",
    "\n",
    "    conjunto = [i for i in range(1,n+1)]\n",
    "    dominios = {}\n",
    "    for item in variaveis:\n",
    "            dominios[item] = conjunto\n",
    "\n",
    "\n",
    "    #forma n otimizada para vizinhos:\n",
    "    vizinhos = {}\n",
    "    for key in dominios.keys():\n",
    "        lista = []\n",
    "        for i in range(n):\n",
    "            if i!= key[1]:\n",
    "                lista.append((key[0], i))\n",
    "        for j in range(n):\n",
    "            if j!= key[0]:\n",
    "                lista.append((j, key[1]))\n",
    "        vizinhos[key]=lista\n",
    "        \n",
    "    def restricoes(X, a, Y, b):\n",
    "        if Y in vizinhos[X]:\n",
    "            return a != b\n",
    "        return True\n",
    "    return CSP(variaveis, dominios, vizinhos, restricoes)"
   ]
  },
  {
   "cell_type": "markdown",
   "id": "f46b1688",
   "metadata": {},
   "source": [
    "## Criação do problema do quadrado latino simples\n",
    "\n",
    "Mostrem que o código está a funcionar, construindo um problema de quadrado latino *4x4*, imprimindo as variáveis, domínios iniciais, e vizinhos. Adicione os comentários necessários. Mostre como podemos criar um puzzle com quadrados já preenchidos, e qual o impacto que isso tem nas variáveis, domínios iniciais, e vizinhos."
   ]
  },
  {
   "cell_type": "code",
   "id": "0b95b771",
   "metadata": {
    "pycharm": {
     "name": "#%%\n"
    }
   },
   "source": [
    "p2 = quadrado_latino(4)\n",
    "print(\"Variáveis = \", p2.variables)\n",
    "print(\"Domínios = \", p2.domains)\n",
    "print(\"Vizinhos = \", p2.neighbors)"
   ],
   "execution_count": 55,
   "outputs": [
    {
     "name": "stdout",
     "output_type": "stream",
     "text": [
      "Variáveis =  [(0, 0), (1, 0), (2, 0), (3, 0), (0, 1), (1, 1), (2, 1), (3, 1), (0, 2), (1, 2), (2, 2), (3, 2), (0, 3), (1, 3), (2, 3), (3, 3)]\n",
      "Domínios =  {(0, 0): [1, 2, 3, 4], (1, 0): [1, 2, 3, 4], (2, 0): [1, 2, 3, 4], (3, 0): [1, 2, 3, 4], (0, 1): [1, 2, 3, 4], (1, 1): [1, 2, 3, 4], (2, 1): [1, 2, 3, 4], (3, 1): [1, 2, 3, 4], (0, 2): [1, 2, 3, 4], (1, 2): [1, 2, 3, 4], (2, 2): [1, 2, 3, 4], (3, 2): [1, 2, 3, 4], (0, 3): [1, 2, 3, 4], (1, 3): [1, 2, 3, 4], (2, 3): [1, 2, 3, 4], (3, 3): [1, 2, 3, 4]}\n",
      "Vizinhos =  {(0, 0): [(0, 1), (0, 2), (0, 3), (1, 0), (2, 0), (3, 0)], (1, 0): [(1, 1), (1, 2), (1, 3), (0, 0), (2, 0), (3, 0)], (2, 0): [(2, 1), (2, 2), (2, 3), (0, 0), (1, 0), (3, 0)], (3, 0): [(3, 1), (3, 2), (3, 3), (0, 0), (1, 0), (2, 0)], (0, 1): [(0, 0), (0, 2), (0, 3), (1, 1), (2, 1), (3, 1)], (1, 1): [(1, 0), (1, 2), (1, 3), (0, 1), (2, 1), (3, 1)], (2, 1): [(2, 0), (2, 2), (2, 3), (0, 1), (1, 1), (3, 1)], (3, 1): [(3, 0), (3, 2), (3, 3), (0, 1), (1, 1), (2, 1)], (0, 2): [(0, 0), (0, 1), (0, 3), (1, 2), (2, 2), (3, 2)], (1, 2): [(1, 0), (1, 1), (1, 3), (0, 2), (2, 2), (3, 2)], (2, 2): [(2, 0), (2, 1), (2, 3), (0, 2), (1, 2), (3, 2)], (3, 2): [(3, 0), (3, 1), (3, 3), (0, 2), (1, 2), (2, 2)], (0, 3): [(0, 0), (0, 1), (0, 2), (1, 3), (2, 3), (3, 3)], (1, 3): [(1, 0), (1, 1), (1, 2), (0, 3), (2, 3), (3, 3)], (2, 3): [(2, 0), (2, 1), (2, 2), (0, 3), (1, 3), (3, 3)], (3, 3): [(3, 0), (3, 1), (3, 2), (0, 3), (1, 3), (2, 3)]}\n"
     ]
    }
   ]
  },
  {
   "cell_type": "markdown",
   "source": [
    "Para criar um puzzle com quadrados já preenchidos, alteramos a função de formulação do problema, fazendo com que esta agora receba também um dicionário com os quadrados já preenchidos.\n",
    "\n",
    "As variáveis serão as coordenadas para as quais se quer encontrar uma afetação completa e consistente, pelo que as coordenadas dos quadrados já preenchidos seão removidos da lista.\n",
    "\n",
    "Os vizinhos são um dicionário em que cada chave será uma variável que tem como valor uma lista das variáveis com as quais tem restrições.\n",
    "\n",
    "Aos domínios iniciais temos de aplicar as restrições do \"mundo\".\n"
   ],
   "metadata": {
    "collapsed": false,
    "pycharm": {
     "name": "#%% md\n"
    }
   }
  },
  {
   "cell_type": "code",
   "execution_count": 117,
   "outputs": [],
   "source": [
    "def quadrado_latino_semiPreenchido(n = 3, preenchidos = {}):\n",
    "    \"\"\"\n",
    "    Pode receber parametros ou não.\n",
    "    Deve devolver um CSP, à semelhança dos guiões das aulas PL.\n",
    "    Comente o código.\n",
    "    \"\"\"\n",
    "    variaveis = [(i, j) for j in range(0, n) for i in range(0, n)]\n",
    "\n",
    "    ## Alteração\n",
    "    for item in variaveis:\n",
    "        if item in preenchidos.keys():\n",
    "            variaveis.remove(item)\n",
    "    ##\n",
    "\n",
    "    conjunto = [i for i in range(1, n + 1)]\n",
    "    dominios = {}\n",
    "    for item in variaveis:\n",
    "        dominios[item] = conjunto.copy()\n",
    "\n",
    "    ## Alteração\n",
    "    for keyDom in dominios.keys():\n",
    "        for keyPree in preenchidos.keys():\n",
    "            if (keyDom[0] == keyPree[0]) or (keyDom[1] == keyPree[1]):\n",
    "                if preenchidos[keyPree] in dominios[keyDom]:\n",
    "                    dominios[keyDom].remove(preenchidos[keyPree])\n",
    "    ##\n",
    "\n",
    "    vizinhos = {}\n",
    "    for key in dominios.keys():\n",
    "        lista = []\n",
    "        for i in range(n):\n",
    "            if i != key[1]:\n",
    "                if (key[0], i) not in preenchidos:\n",
    "                    lista.append((key[0], i))\n",
    "        for j in range(n):\n",
    "            if j != key[0]:\n",
    "                if (j, key[1]) not in preenchidos:\n",
    "                    lista.append((j, key[1]))\n",
    "        vizinhos[key] = lista\n",
    "\n",
    "\n",
    "\n",
    "    def restricoes(X, a, Y, b):\n",
    "        if Y in vizinhos[X]:\n",
    "            return a != b\n",
    "        return True\n",
    "\n",
    "    return CSP(variaveis, dominios, vizinhos, restricoes)"
   ],
   "metadata": {
    "collapsed": false,
    "pycharm": {
     "name": "#%%\n"
    }
   }
  },
  {
   "cell_type": "code",
   "execution_count": 118,
   "outputs": [
    {
     "name": "stdout",
     "output_type": "stream",
     "text": [
      "Variáveis =  [(1, 0), (2, 0), (3, 0), (0, 1), (2, 1), (3, 1), (0, 2), (1, 2), (3, 2), (0, 3), (1, 3), (2, 3), (3, 3)]\n",
      "Domínios =  {(1, 0): [2, 4], (2, 0): [3, 4], (3, 0): [2, 3, 4], (0, 1): [2, 4], (2, 1): [1, 4], (3, 1): [1, 2, 4], (0, 2): [3, 4], (1, 2): [1, 4], (3, 2): [1, 3, 4], (0, 3): [2, 3, 4], (1, 3): [1, 2, 4], (2, 3): [1, 3, 4], (3, 3): [1, 2, 3, 4]}\n",
      "Vizinhos =  {(1, 0): [(1, 2), (1, 3), (2, 0), (3, 0)], (2, 0): [(2, 1), (2, 3), (1, 0), (3, 0)], (3, 0): [(3, 1), (3, 2), (3, 3), (1, 0), (2, 0)], (0, 1): [(0, 2), (0, 3), (2, 1), (3, 1)], (2, 1): [(2, 0), (2, 3), (0, 1), (3, 1)], (3, 1): [(3, 0), (3, 2), (3, 3), (0, 1), (2, 1)], (0, 2): [(0, 1), (0, 3), (1, 2), (3, 2)], (1, 2): [(1, 0), (1, 3), (0, 2), (3, 2)], (3, 2): [(3, 0), (3, 1), (3, 3), (0, 2), (1, 2)], (0, 3): [(0, 1), (0, 2), (1, 3), (2, 3), (3, 3)], (1, 3): [(1, 0), (1, 2), (0, 3), (2, 3), (3, 3)], (2, 3): [(2, 0), (2, 1), (0, 3), (1, 3), (3, 3)], (3, 3): [(3, 0), (3, 1), (3, 2), (0, 3), (1, 3), (2, 3)]}\n",
      "{(1, 0): 2, (2, 0): 3, (3, 0): 4, (0, 1): 2, (2, 1): 4, (3, 1): 1, (0, 2): 4, (1, 2): 1, (3, 2): 3, (0, 3): 3, (1, 3): 4, (2, 3): 1, (3, 3): 2}\n"
     ]
    }
   ],
   "source": [
    "preenchido = {(0,0): 1, (1,1):3, (2,2):2}\n",
    "\n",
    "pSP = quadrado_latino_semiPreenchido(4, preenchido)\n",
    "print(\"Variáveis = \", pSP.variables)\n",
    "print(\"Domínios = \", pSP.domains)\n",
    "print(\"Vizinhos = \", pSP.neighbors)\n",
    "\n",
    "r = backtracking_search(pSP)\n",
    "print(r)"
   ],
   "metadata": {
    "collapsed": false,
    "pycharm": {
     "name": "#%%\n"
    }
   }
  },
  {
   "cell_type": "markdown",
   "metadata": {},
   "source": [
    "Resolva o problema com o backtracking sem inferencia, com inferencia, e com uma heurística."
   ]
  },
  {
   "cell_type": "code",
   "execution_count": 130,
   "outputs": [],
   "source": [
    "import timeit\n",
    "tempos = {}\n",
    "n = 3"
   ],
   "metadata": {
    "collapsed": false,
    "pycharm": {
     "name": "#%%\n"
    }
   }
  },
  {
   "cell_type": "code",
   "execution_count": 133,
   "outputs": [
    {
     "name": "stdout",
     "output_type": "stream",
     "text": [
      "Time:  0.0009913000103551894\n",
      "Assignment (QuadradoLatinoSemInferência) =  {(0, 0): 1, (1, 0): 2, (2, 0): 3, (0, 1): 2, (1, 1): 3, (2, 1): 1, (0, 2): 3, (1, 2): 1, (2, 2): 2}\n"
     ]
    }
   ],
   "source": [
    "QuadradoLatinoSemInferência = quadrado_latino(n)\n",
    "start = timeit.default_timer()\n",
    "r = backtracking_search(QuadradoLatinoSemInferência)\n",
    "stop = timeit.default_timer()\n",
    "print('Time: ', stop - start)\n",
    "print('Assignment (QuadradoLatinoSemInferência) = ',r)\n",
    "tempos['QuadradoLatinoSemInferência'] = stop - start"
   ],
   "metadata": {
    "collapsed": false,
    "pycharm": {
     "name": "#%%\n"
    }
   }
  },
  {
   "cell_type": "code",
   "execution_count": 134,
   "outputs": [
    {
     "name": "stdout",
     "output_type": "stream",
     "text": [
      "Time:  0.00045980000868439674\n",
      "Assignment (QuadradoLatinoComInferência_FRWDchecking) =  {(0, 0): 1, (1, 0): 2, (2, 0): 3, (0, 1): 2, (1, 1): 3, (2, 1): 1, (0, 2): 3, (1, 2): 1, (2, 2): 2}\n"
     ]
    }
   ],
   "source": [
    "QuadradoLatinoComInferência_FRWDchecking = quadrado_latino(n)\n",
    "start = timeit.default_timer()\n",
    "r = backtracking_search(QuadradoLatinoComInferência_FRWDchecking, inference=forward_checking)\n",
    "stop = timeit.default_timer()\n",
    "print('Time: ', stop - start)\n",
    "print('Assignment (QuadradoLatinoComInferência_FRWDchecking) = ',r)\n",
    "tempos['QuadradoLatinoComInferência_FRWDchecking'] = stop - start"
   ],
   "metadata": {
    "collapsed": false,
    "pycharm": {
     "name": "#%%\n"
    }
   }
  },
  {
   "cell_type": "code",
   "execution_count": 135,
   "outputs": [
    {
     "name": "stdout",
     "output_type": "stream",
     "text": [
      "Time:  0.0008904999995138496\n",
      "Assignment (QuadradoLatinoComAC3) =  {(0, 0): 1, (1, 0): 2, (2, 0): 3, (0, 1): 2, (1, 1): 3, (2, 1): 1, (0, 2): 3, (1, 2): 1, (2, 2): 2}\n"
     ]
    }
   ],
   "source": [
    "QuadradoLatinoComAC3 = quadrado_latino(n)\n",
    "start = timeit.default_timer()\n",
    "p_AC3 = AC3(QuadradoLatinoComAC3)\n",
    "r = backtracking_search(p_AC3)\n",
    "stop = timeit.default_timer()\n",
    "print('Time: ', stop - start)\n",
    "print('Assignment (QuadradoLatinoComAC3) = ',r)\n",
    "tempos['QuadradoLatinoComAC3'] = stop - start"
   ],
   "metadata": {
    "collapsed": false,
    "pycharm": {
     "name": "#%%\n"
    }
   }
  },
  {
   "cell_type": "code",
   "execution_count": 136,
   "outputs": [
    {
     "name": "stdout",
     "output_type": "stream",
     "text": [
      "Time:  0.0012276000052224845\n",
      "Assignment (QuadradoLatinoComInferência_MAC) =  {(0, 0): 1, (1, 0): 2, (2, 0): 3, (0, 1): 2, (1, 1): 3, (2, 1): 1, (0, 2): 3, (1, 2): 1, (2, 2): 2}\n"
     ]
    }
   ],
   "source": [
    "QuadradoLatinoComInferência_MAC = quadrado_latino(n)\n",
    "start = timeit.default_timer()\n",
    "r = backtracking_search(QuadradoLatinoComInferência_MAC, inference=mac)\n",
    "stop = timeit.default_timer()\n",
    "print('Time: ', stop - start)\n",
    "print('Assignment (QuadradoLatinoComInferência_MAC) = ',r)\n",
    "tempos['QuadradoLatinoComInferência_MAC'] = stop - start"
   ],
   "metadata": {
    "collapsed": false,
    "pycharm": {
     "name": "#%%\n"
    }
   }
  },
  {
   "cell_type": "code",
   "execution_count": 137,
   "outputs": [
    {
     "name": "stdout",
     "output_type": "stream",
     "text": [
      "Time:  0.0014221000019460917\n",
      "Assignment (QuadradoLatinoComAC3eInferência_MAC) =  {(0, 0): 1, (1, 0): 2, (2, 0): 3, (0, 1): 2, (1, 1): 3, (2, 1): 1, (0, 2): 3, (1, 2): 1, (2, 2): 2}\n"
     ]
    }
   ],
   "source": [
    "QuadradoLatinoComAC3eInferência_MAC = quadrado_latino(n)\n",
    "start = timeit.default_timer()\n",
    "p_AC3 = AC3(QuadradoLatinoComAC3eInferência_MAC)\n",
    "r = backtracking_search(p_AC3, inference=mac)\n",
    "stop = timeit.default_timer()\n",
    "print('Time: ', stop - start)\n",
    "print('Assignment (QuadradoLatinoComAC3eInferência_MAC) = ',r)\n",
    "tempos['QuadradoLatinoComAC3eInferência_MAC'] = stop - start"
   ],
   "metadata": {
    "collapsed": false,
    "pycharm": {
     "name": "#%%\n"
    }
   }
  },
  {
   "cell_type": "code",
   "execution_count": 138,
   "outputs": [
    {
     "name": "stdout",
     "output_type": "stream",
     "text": [
      "Time:  0.0008126999891828746\n",
      "Assignment (QuadradoLatinoComHeuristica) =  {(1, 0): 1, (1, 1): 2, (0, 1): 1, (0, 2): 2, (2, 0): 2, (0, 0): 3, (2, 1): 3, (1, 2): 3, (2, 2): 1}\n"
     ]
    }
   ],
   "source": [
    "QuadradoLatinoComHeuristica = quadrado_latino(n)\n",
    "start = timeit.default_timer()\n",
    "r = backtracking_search(QuadradoLatinoComHeuristica, select_unassigned_variable = mrv)\n",
    "stop = timeit.default_timer()\n",
    "print('Time: ', stop - start)\n",
    "print('Assignment (QuadradoLatinoComHeuristica) = ',r)\n",
    "tempos['QuadradoLatinoComHeuristica'] = stop - start"
   ],
   "metadata": {
    "collapsed": false,
    "pycharm": {
     "name": "#%%\n"
    }
   }
  },
  {
   "cell_type": "code",
   "execution_count": 139,
   "outputs": [
    {
     "name": "stdout",
     "output_type": "stream",
     "text": [
      "Time:  0.0009966999932657927\n",
      "Assignment (QuadradoLatinoComHeuristicaComInferencia) =  {(2, 2): 1, (1, 2): 2, (0, 2): 3, (2, 0): 2, (0, 0): 1, (0, 1): 2, (1, 0): 3, (1, 1): 1, (2, 1): 3}\n"
     ]
    }
   ],
   "source": [
    "QuadradoLatinoComHeuristicaComInferencia = quadrado_latino(n)\n",
    "start = timeit.default_timer()\n",
    "r = backtracking_search(QuadradoLatinoComHeuristicaComInferencia, select_unassigned_variable = mrv, inference=forward_checking)\n",
    "stop = timeit.default_timer()\n",
    "print('Time: ', stop - start)\n",
    "print('Assignment (QuadradoLatinoComHeuristicaComInferencia) = ',r)\n",
    "tempos['QuadradoLatinoComHeuristicaComInferencia'] = stop - start"
   ],
   "metadata": {
    "collapsed": false,
    "pycharm": {
     "name": "#%%\n"
    }
   }
  },
  {
   "cell_type": "code",
   "execution_count": 142,
   "outputs": [
    {
     "name": "stdout",
     "output_type": "stream",
     "text": [
      "QuadradoLatinoComInferência_FRWDchecking 0.00045980000868439674\n",
      "QuadradoLatinoSemInferência 0.0009913000103551894\n",
      "QuadradoLatinoComAC3 0.0008904999995138496\n",
      "QuadradoLatinoComInferência_MAC 0.0012276000052224845\n",
      "QuadradoLatinoComAC3eInferência_MAC 0.0014221000019460917\n",
      "QuadradoLatinoComHeuristica 0.0008126999891828746\n",
      "QuadradoLatinoComHeuristicaComInferencia 0.0009966999932657927\n"
     ]
    }
   ],
   "source": [
    "for item in tempos:\n",
    "    print(item, tempos[item])"
   ],
   "metadata": {
    "collapsed": false,
    "pycharm": {
     "name": "#%%\n"
    }
   }
  },
  {
   "cell_type": "code",
   "execution_count": 149,
   "outputs": [
    {
     "data": {
      "text/plain": "                                                 0\nQuadradoLatinoComInferência_FRWDchecking  0.000460\nQuadradoLatinoSemInferência               0.000991\nQuadradoLatinoComAC3                      0.000890\nQuadradoLatinoComInferência_MAC           0.001228\nQuadradoLatinoComAC3eInferência_MAC       0.001422\nQuadradoLatinoComHeuristica               0.000813\nQuadradoLatinoComHeuristicaComInferencia  0.000997",
      "text/html": "<div>\n<style scoped>\n    .dataframe tbody tr th:only-of-type {\n        vertical-align: middle;\n    }\n\n    .dataframe tbody tr th {\n        vertical-align: top;\n    }\n\n    .dataframe thead th {\n        text-align: right;\n    }\n</style>\n<table border=\"1\" class=\"dataframe\">\n  <thead>\n    <tr style=\"text-align: right;\">\n      <th></th>\n      <th>0</th>\n    </tr>\n  </thead>\n  <tbody>\n    <tr>\n      <th>QuadradoLatinoComInferência_FRWDchecking</th>\n      <td>0.000460</td>\n    </tr>\n    <tr>\n      <th>QuadradoLatinoSemInferência</th>\n      <td>0.000991</td>\n    </tr>\n    <tr>\n      <th>QuadradoLatinoComAC3</th>\n      <td>0.000890</td>\n    </tr>\n    <tr>\n      <th>QuadradoLatinoComInferência_MAC</th>\n      <td>0.001228</td>\n    </tr>\n    <tr>\n      <th>QuadradoLatinoComAC3eInferência_MAC</th>\n      <td>0.001422</td>\n    </tr>\n    <tr>\n      <th>QuadradoLatinoComHeuristica</th>\n      <td>0.000813</td>\n    </tr>\n    <tr>\n      <th>QuadradoLatinoComHeuristicaComInferencia</th>\n      <td>0.000997</td>\n    </tr>\n  </tbody>\n</table>\n</div>"
     },
     "execution_count": 149,
     "metadata": {},
     "output_type": "execute_result"
    }
   ],
   "source": [
    "import pandas as pd\n",
    "pd.DataFrame(tempos.values(),index = tempos.keys())"
   ],
   "metadata": {
    "collapsed": false,
    "pycharm": {
     "name": "#%%\n"
    }
   }
  },
  {
   "cell_type": "markdown",
   "source": [
    "## Visualização do problema"
   ],
   "metadata": {
    "collapsed": false
   }
  },
  {
   "cell_type": "code",
   "execution_count": null,
   "metadata": {},
   "outputs": [],
   "source": [
    "# Implemente uma função que permita visualizar o quadrado latino, antes e depois de resolvido."
   ]
  },
  {
   "cell_type": "markdown",
   "id": "14a095c8",
   "metadata": {},
   "source": [
    "## Criação do problema Futoshiki *5x5*\n",
    "\n",
    "Mostrem que o código está a funcionar, construindo um problema de Futoshiki *5x5*, imprimindo as variáveis, domínios iniciais, e vizinhos. Adicione os comentários necessários. Utilize o [link](https://www.futoshiki.org/) para gerar puzzles e validar a implementação."
   ]
  },
  {
   "cell_type": "code",
   "execution_count": null,
   "id": "06577d27",
   "metadata": {},
   "outputs": [],
   "source": [
    "# código de aplicação dos algoritmos"
   ]
  },
  {
   "cell_type": "markdown",
   "metadata": {},
   "source": [
    "Resolva o problema com o backtracking sem inferencia, com inferencia, e com uma heurística. Até que dimensão consegue resolver o problema em menos de 1 minuto?"
   ]
  },
  {
   "cell_type": "code",
   "execution_count": null,
   "metadata": {},
   "outputs": [],
   "source": [
    "# código "
   ]
  },
  {
   "cell_type": "markdown",
   "metadata": {},
   "source": [
    "## Visualização do problema"
   ]
  },
  {
   "cell_type": "code",
   "execution_count": null,
   "metadata": {},
   "outputs": [],
   "source": [
    "# Implemente uma função que permita visualizar o puzzle Futoshiki, antes e depois de resolvido. Compare com a solução obtida pelo seu algoritmo. \n",
    "# No caso de não implementar esta função, inclua um screenshot do problema e da sua solução."
   ]
  }
 ],
 "metadata": {
  "interpreter": {
   "hash": "ca0a6ed6c3687464969dd6147ab8a98b55d02ef7a9aec76841b10aa7e05a39c3"
  },
  "kernelspec": {
   "display_name": "Python 3.9.7 ('base')",
   "language": "python",
   "name": "python3"
  },
  "language_info": {
   "codemirror_mode": {
    "name": "ipython",
    "version": 3
   },
   "file_extension": ".py",
   "mimetype": "text/x-python",
   "name": "python",
   "nbconvert_exporter": "python",
   "pygments_lexer": "ipython3",
   "version": "3.9.7"
  },
  "orig_nbformat": 4
 },
 "nbformat": 4,
 "nbformat_minor": 2
}