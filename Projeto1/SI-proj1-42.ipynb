{
 "cells": [
  {
   "cell_type": "markdown",
   "id": "bf9c87b1",
   "metadata": {},
   "source": [
    "# Sistemas Inteligentes 2021/2022\n",
    "\n",
    "## Mini-projeto 1: Pacman comilão\n",
    "\n",
    "<img src=\"pacman.png\" alt=\"Drawing\" style=\"width: 100px;\"/>"
   ]
  },
  {
   "cell_type": "markdown",
   "id": "d7b8efca",
   "metadata": {},
   "source": [
    "## Grupo: 42\n",
    "\n",
    "### Elementos do Grupo\n",
    "\n",
    "Número:  53687       Nome:   Ariana Dias   \n",
    "Número:  53746       Nome:   Andrei Tataru  \n",
    "Número:  51127       Nome:   Luís Ferreirinha  \n",
    "\n",
    "(Nota: Neste relatório pode adicionar as células de texto e código que achar necessárias.)"
   ]
  },
  {
   "cell_type": "markdown",
   "id": "df10acb0",
   "metadata": {},
   "source": [
    "## Representação dos estados\n",
    "\n",
    "(descreva aqui, textualmente, como decidiu representar os estados em Python; ilustre nas células de código abaixo a representação em Python de um estado à sua escolha)"
   ]
  },
  {
   "cell_type": "markdown",
   "id": "c0b86318",
   "metadata": {},
   "source": [
    "Para representar-mos os estados em python, decidimos criar uma classe EspacoPacman, onde cada objeto desta classe representa um estado do nosso problema, para este problema em concreto decidimos que estes objetos devem guardar a posição do pacman, o número de pontos acumulados, o tempo desde a ultima captura de uma pastilha, casas visitadas e número de vezes que foram visitadas e finalmente as coordenadas e tipo das pastilhas que ainda se encontram no campo.\n",
    "\n",
    "- Representação dos Estados:  \n",
    "    - Posição Pacman: tuple $\\left(x,y\\right)$ onde $x,y$ são inteiros\n",
    "    - Pontos: inteiro p\n",
    "    - Tempo: inteiro t\n",
    "    - Casas Visitadas: dicionário onde os elementos têm a seguinte forma $\\{(x,y) : n\\}$, $x,y,n$ são inteiros e $n$ representa o número de visitas a essa casa.\n",
    "    - Conjunto das Pastilhas: dicionário onde os elementos têm a seguinte forma $\\{(x,y) : tipo\\}$, $x,y$ são inteiros e tipo é um character que representa o tipo da pastilha\n",
    "<br/><br/>\n",
    "- Goal Test: $p = M  $\n",
    "\n",
    "- Operadores:  \n",
    "    - Mover-se numa das quatro direcções ortogonais para as quatro células vizinhas, se não for impedido pelos limites do mundo nem por obstáculos:  \n",
    "        - Norte: $(x,y) \\to (x+1,y)$\n",
    "        - Sul: $(x,y) \\to (x-1,y$\n",
    "        - Este: $(x,y) \\to (x,y+1)$\n",
    "        - Oeste: $(x,y) \\to (x,y-1)$\n",
    "    - Se a casa onde o pacman se encontra contem uma pastilha, comer a pastilha, removendo esta e adicionando os respetivos pontos ao seu total de pontos:\n",
    "        - Pontos Totais = Pontos Totais + Pontos da Pastilha\n"
   ]
  },
  {
   "cell_type": "code",
   "execution_count": 33,
   "id": "15d946c3",
   "metadata": {},
   "outputs": [],
   "source": [
    "# se definiu uma classe para representar os estados, inclua aqui o código Python correspondente\n",
    "class EstadoPacman():\n",
    "    \"\"\"Objetos desta classe representam um estado do espaço do problema Pacman comilao\n",
    "    \"\"\"\n",
    "\n",
    "    def __init__(self, posicao_pacman, pastilhas, pontos=0, tempo=0, visitas={}):\n",
    "        self.pos = posicao_pacman\n",
    "        self.pontos = pontos\n",
    "        self.tempo = tempo\n",
    "        self.pastilhas = pastilhas\n",
    "        if visitas == {}:\n",
    "            self.visitas = {posicao_pacman : 1}\n",
    "        else:\n",
    "            self.visitas = visitas\n",
    "\n",
    "    def getPos(self):\n",
    "        return self.pos\n",
    "    \n",
    "    def getPontos(self):\n",
    "        return self.pontos\n",
    "\n",
    "    def getTempo(self):\n",
    "        return self.tempo\n",
    "    \n",
    "    def getPastilhas(self):\n",
    "        return self.pastilhas\n",
    "    \n",
    "    def getVisitas(self):\n",
    "        return self.visitas\n",
    "\n",
    "    def __lt__(self, other):\n",
    "        return self.pontos < other.getPontos()\n",
    "    \n",
    "    def __hash__(self):\n",
    "        # TODO Incluir hashes dos dict pastilhas e visitadas\n",
    "        return hash((self.pos, self.pontos, self.tempo))\n",
    "\n",
    "    def __repr__(self):\n",
    "        return str([self.pos, self.pontos, self.tempo, self.pastilhas, self.visitas])\n",
    "\n",
    "    def __str__(self):\n",
    "        return f\"Posição Pacman: {self.pos}\\nPontos: {self.pontos}\\nTempo desde última pastilha: {self.tempo}\\\n",
    "                \\nPastilhas restantes: {self.pastilhas}\\nCasas Visitadas: {self.visitas}\"\n"
   ]
  },
  {
   "cell_type": "code",
   "execution_count": 31,
   "id": "d335aebe",
   "metadata": {},
   "outputs": [
    {
     "name": "stdout",
     "output_type": "stream",
     "text": [
      "Posição Pacman: (0, 0)\n",
      "Pontos: 0\n",
      "Tempo desde última pastilha: 0                \n",
      "Pastilhas restantes: {(1, 1): 'N', (2, 3): 'D', (0, 2): 'C'}\n",
      "Casas Visitadas: {}\n",
      "-4753941526713220341\n",
      "8389724476318744720\n"
     ]
    },
    {
     "data": {
      "text/plain": [
       "[(0, 0), 0, 0, {(1, 1): 'N', (2, 3): 'D', (0, 2): 'C'}, {}]"
      ]
     },
     "execution_count": 31,
     "metadata": {},
     "output_type": "execute_result"
    }
   ],
   "source": [
    "# representação de um estado à sua escolha\n",
    "\n",
    "# Teste\n",
    "pastilhas = {(1,1) : \"N\", (2,3) : \"D\", (0,2) : \"C\"}\n",
    "Espaço = EstadoPacman((0,0), pastilhas)\n",
    "esp2 = EstadoPacman((0,0),pastilhas,2)\n",
    "print(Espaço)\n",
    "print(hash(Espaço))\n",
    "print(hash(esp2))\n",
    "Espaço"
   ]
  },
  {
   "cell_type": "markdown",
   "id": "4ab69211",
   "metadata": {},
   "source": [
    "## Formulação do problema\n",
    "\n",
    "(explique textualmente como decidiu formular em Python o seu problema)"
   ]
  },
  {
   "cell_type": "code",
   "execution_count": 36,
   "id": "c5327f4f",
   "metadata": {},
   "outputs": [],
   "source": [
    "from searchPlus import *\n",
    "\n",
    "class PacmanPastilhas(Problem):\n",
    "    \n",
    "    mapa = []\n",
    "\n",
    "    def __init__(self, pos, objetivo, pastilhas, obstaculos, dimensao):\n",
    "        \n",
    "        #super().__init__(initial, goal)\n",
    "\n",
    "        # Iniciar Mapa\n",
    "        mapa = [[0]*dimensao for x in range(dimensao)]\n",
    "        for x, y in obstaculos:\n",
    "            mapa[y][x] = 1\n",
    "\n",
    "    def actions(self, state):\n",
    "        pass\n",
    "\n",
    "    def result(self, state, action):\n",
    "        pass\n",
    "\n",
    "    def path_cost(self, cost, state, action, next_state):\n",
    "        pass\n",
    "\n",
    "    def goal_test(self, estado):\n",
    "        return estado[2] == self.goal"
   ]
  },
  {
   "cell_type": "code",
   "execution_count": 37,
   "id": "6b0059f4",
   "metadata": {},
   "outputs": [],
   "source": [
    "def line(x, y, dx, dy, length):\n",
    "    \"\"\"Uma linha de células de comprimento 'length' começando em (x, y) na direcção (dx, dy).\"\"\"\n",
    "    return {(x + i * dx, y + i * dy) for i in range(length)}\n",
    "\n",
    "def quadro(x, y, length):\n",
    "    \"\"\"Uma moldura quadrada de células de comprimento 'length' começando no topo esquerdo (x, y).\"\"\"\n",
    "    return line(x,y,0,1,length) | line(x+length-1,y,0,1,length) | line(x,y,1,0,length) | line(x,y+length-1,1,0,length)"
   ]
  },
  {
   "cell_type": "code",
   "execution_count": 38,
   "id": "154a85d9",
   "metadata": {},
   "outputs": [
    {
     "name": "stdout",
     "output_type": "stream",
     "text": [
      "[[0, 0, 0, 0, 0, 0, 0, 0, 0, 0], [0, 0, 0, 0, 0, 0, 0, 0, 0, 0], [0, 0, 0, 0, 0, 0, 0, 0, 0, 0], [0, 0, 0, 0, 0, 0, 0, 0, 0, 0], [0, 0, 0, 0, 0, 0, 0, 0, 0, 0], [0, 0, 0, 0, 0, 0, 0, 0, 0, 0], [0, 0, 0, 0, 0, 0, 0, 0, 0, 0], [0, 0, 0, 0, 0, 0, 0, 0, 0, 0], [0, 0, 0, 0, 0, 0, 0, 0, 0, 0], [0, 0, 0, 0, 0, 0, 0, 0, 0, 0]]\n",
      "\n"
     ]
    },
    {
     "ename": "TypeError",
     "evalue": "unsupported operand type(s) for |: 'list' and 'set'",
     "output_type": "error",
     "traceback": [
      "\u001b[0;31m---------------------------------------------------------------------------\u001b[0m",
      "\u001b[0;31mTypeError\u001b[0m                                 Traceback (most recent call last)",
      "\u001b[0;32m/tmp/ipykernel_8596/2281840586.py\u001b[0m in \u001b[0;36m<module>\u001b[0;34m\u001b[0m\n\u001b[1;32m      9\u001b[0m     \u001b[0mmapa\u001b[0m\u001b[0;34m[\u001b[0m\u001b[0my\u001b[0m\u001b[0;34m]\u001b[0m\u001b[0;34m[\u001b[0m\u001b[0mx\u001b[0m\u001b[0;34m]\u001b[0m \u001b[0;34m=\u001b[0m \u001b[0;36m1\u001b[0m\u001b[0;34m\u001b[0m\u001b[0;34m\u001b[0m\u001b[0m\n\u001b[1;32m     10\u001b[0m \u001b[0mprint\u001b[0m\u001b[0;34m(\u001b[0m\u001b[0;34m)\u001b[0m\u001b[0;34m\u001b[0m\u001b[0;34m\u001b[0m\u001b[0m\n\u001b[0;32m---> 11\u001b[0;31m \u001b[0mprint\u001b[0m\u001b[0;34m(\u001b[0m\u001b[0mmapa\u001b[0m \u001b[0;34m|\u001b[0m \u001b[0mobstaculos\u001b[0m\u001b[0;34m)\u001b[0m\u001b[0;34m\u001b[0m\u001b[0;34m\u001b[0m\u001b[0m\n\u001b[0m",
      "\u001b[0;31mTypeError\u001b[0m: unsupported operand type(s) for |: 'list' and 'set'"
     ]
    }
   ],
   "source": [
    "dimensao = 10\n",
    "mapa = [[0]*dimensao for x in range(dimensao)]\n",
    "l = line(2,2,1,0,6)\n",
    "c = line(2,3,0,1,4)\n",
    "fronteira = quadro(0,0,10)\n",
    "obstaculos = fronteira | l | c\n",
    "print(mapa)\n",
    "for x,y in obstaculos:\n",
    "    mapa[y][x] = 1\n",
    "print()\n",
    "print(mapa)"
   ]
  },
  {
   "cell_type": "markdown",
   "id": "f46b1688",
   "metadata": {},
   "source": [
    "## Criação de estados e do problema\n",
    "\n",
    "(Mostrem que o código está a funcionar, construindo instâncias da classe **PacmanPastilhas**, fazendo display dos estados, verificando o teste do estado final, gerando as ações para alguns estados, executando ações a partir de alguns estados e gerando novos estados e mostrando a evolução dos custos; verificando que os estados não se modificam com as ações (são gerados novos estados) e que a igualdade e a comparação entre estados funciona. Mostrem que a execução de sequências de ações está a funcionar bem.)"
   ]
  },
  {
   "cell_type": "code",
   "execution_count": null,
   "id": "0b95b771",
   "metadata": {},
   "outputs": [],
   "source": [
    "# código de teste do problema\n",
    "\n",
    "def exec(p,estado,accoes):\n",
    "    custo = 0\n",
    "    for a in accoes:\n",
    "        seg = p.result(estado,a)\n",
    "        custo = p.path_cost(custo,estado,a,seg)\n",
    "        estado = seg\n",
    "    p.display(estado)\n",
    "    print('Custo:',custo)\n",
    "    print('Goal?',p.goal_test(estado))\n",
    "    return (estado,custo)"
   ]
  },
  {
   "cell_type": "markdown",
   "id": "14a095c8",
   "metadata": {},
   "source": [
    "## Teste de procura de solução\n",
    "\n",
    "(utilização de algoritmos de procura aprendidos nas aulas e comparação dos resultados ao nível de tempo de execução e solução obtida; comente aqui os resultados obtidos e o que observa)"
   ]
  },
  {
   "cell_type": "code",
   "execution_count": null,
   "id": "06577d27",
   "metadata": {},
   "outputs": [],
   "source": [
    "# código de aplicação dos algoritmos"
   ]
  }
 ],
 "metadata": {
  "kernelspec": {
   "display_name": "Python 3 (ipykernel)",
   "language": "python",
   "name": "python3"
  },
  "language_info": {
   "codemirror_mode": {
    "name": "ipython",
    "version": 3
   },
   "file_extension": ".py",
   "mimetype": "text/x-python",
   "name": "python",
   "nbconvert_exporter": "python",
   "pygments_lexer": "ipython3",
   "version": "3.9.7"
  }
 },
 "nbformat": 4,
 "nbformat_minor": 5
}
