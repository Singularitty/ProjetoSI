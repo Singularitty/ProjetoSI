{
 "cells": [
  {
   "cell_type": "markdown",
   "id": "bf9c87b1",
   "metadata": {},
   "source": [
    "# Sistemas Inteligentes 2021/2022\n",
    "\n",
    "## Mini-projeto 2: Quadrados Latinos\n"
   ]
  },
  {
   "cell_type": "markdown",
   "id": "d7b8efca",
   "metadata": {},
   "source": [
    "## Grupo: 42\n",
    "\n",
    "### Elementos do Grupo\n",
    "\n",
    "Número:  53687       Nome:   Ariana Dias  \n",
    "Número:  53746       Nome:   Andrei Tataru  \n",
    "Número:  51127       Nome:   Luís Ferreirinha  \n",
    "\n",
    "(Nota: Neste relatório pode adicionar as células de texto e código que achar necessárias.)"
   ]
  },
  {
   "cell_type": "markdown",
   "id": "df10acb0",
   "metadata": {},
   "source": [
    "## Representação de variáveis, domínios, vizinhos e restrições\n",
    "\n",
    "Descreva aqui, textualmente, como decidiu representar as variáveis, domínios, vizinhos e restrições em Python;\n",
    "\n",
    "Considerando a representação do quadrado como uma matriz _n x n_,\n",
    "- Variáveis:\n",
    "    - Representar por uma lista de coordenadas;\n",
    "- Domínios:\n",
    "    - Conjunto de números {1,....,n}\n",
    "- Vizinhos:\n",
    "    - Dicionário que define o grafo de restrições ({(i,j):[todos os elementos da linha i e todos os elementos da coluna j]})\n",
    "- Restrições:\n",
    "    - Todos os elementos da linha i são diferentes, todos os elementos da coluna j são diferentes.\n"
   ]
  },
  {
   "cell_type": "markdown",
   "id": "4ab69211",
   "metadata": {},
   "source": [
    "## Formulação do problema"
   ]
  },
  {
   "cell_type": "code",
   "execution_count": 3,
   "id": "c5327f4f",
   "metadata": {},
   "outputs": [],
   "source": [
    "from csp import *\n",
    "\n",
    "def quadrado_latino(n=3, initial={}) -> CSP:\n",
    "    \"\"\"\n",
    "    Pode receber parametros ou não.\n",
    "    Deve devolver um CSP, à semelhança dos guiões das aulas PL.\n",
    "    Comente o código.\n",
    "    \"\"\"\n",
    "    variaveis = {(i,j) for j in range(0,n) for i in range(0,n)}\n",
    "\n",
    "    conjunto = {i for i in range(1,n+1)}\n",
    "    \n",
    "    dominios = initial\n",
    "\n",
    "    # Diferenca dos dois conjuntos vai resultar nas variaveis nao preenchidas\n",
    "    for item in set(variaveis - initial.keys()):\n",
    "            dominios[item] = conjunto\n",
    "    \n",
    "    condicao_vizinhanca = lambda x,y : (x[0] == y[0] and x[1] != y[1]) or (x[0] != y[0] and x[1] == y[1])\n",
    "    \n",
    "    vizinhos = {var : set(filter(lambda x: condicao_vizinhanca(x,var), variaveis)) for var in variaveis}\n",
    "\n",
    "    def restricoes(X, a, Y, b):\n",
    "        if Y in vizinhos[X]:\n",
    "            return a != b\n",
    "        return True\n",
    "        \n",
    "    return CSP(variaveis, dominios, vizinhos, restricoes)"
   ]
  },
  {
   "cell_type": "markdown",
   "id": "f46b1688",
   "metadata": {},
   "source": [
    "## Criação do problema do quadrado latino simples\n",
    "\n",
    "Mostrem que o código está a funcionar, construindo um problema de quadrado latino *4x4*, imprimindo as variáveis, domínios iniciais, e vizinhos. Adicione os comentários necessários. Mostre como podemos criar um puzzle com quadrados já preenchidos, e qual o impacto que isso tem nas variáveis, domínios iniciais, e vizinhos."
   ]
  },
  {
   "cell_type": "code",
   "execution_count": 24,
   "id": "0b95b771",
   "metadata": {
    "pycharm": {
     "name": "#%%\n"
    }
   },
   "outputs": [
    {
     "name": "stdout",
     "output_type": "stream",
     "text": [
      "Variáveis =  {(0, 1), (1, 2), (2, 1), (0, 0), (3, 1), (1, 1), (0, 3), (2, 0), (3, 0), (2, 3), (0, 2), (3, 3), (2, 2), (1, 0), (3, 2), (1, 3)}\n",
      "Domínios =  {(0, 1): {1, 2, 3, 4}, (1, 2): {1, 2, 3, 4}, (2, 1): {1, 2, 3, 4}, (3, 1): {1, 2, 3, 4}, (0, 2): {1, 2, 3, 4}, (2, 2): {1, 2, 3, 4}, (1, 0): {1, 2, 3, 4}, (3, 2): {1, 2, 3, 4}, (1, 3): {1, 2, 3, 4}, (0, 0): {1, 2, 3, 4}, (1, 1): {1, 2, 3, 4}, (0, 3): {1, 2, 3, 4}, (2, 0): {1, 2, 3, 4}, (3, 0): {1, 2, 3, 4}, (2, 3): {1, 2, 3, 4}, (3, 3): {1, 2, 3, 4}}\n",
      "Vizinhos =  {(0, 1): {(2, 1), (0, 0), (3, 1), (1, 1), (0, 3), (0, 2)}, (1, 2): {(1, 1), (0, 2), (2, 2), (1, 0), (3, 2), (1, 3)}, (2, 1): {(0, 1), (3, 1), (1, 1), (2, 0), (2, 3), (2, 2)}, (0, 0): {(0, 1), (0, 3), (2, 0), (3, 0), (0, 2), (1, 0)}, (3, 1): {(0, 1), (2, 1), (1, 1), (3, 0), (3, 3), (3, 2)}, (1, 1): {(0, 1), (1, 2), (2, 1), (3, 1), (1, 0), (1, 3)}, (0, 3): {(0, 1), (0, 0), (2, 3), (0, 2), (3, 3), (1, 3)}, (2, 0): {(2, 1), (0, 0), (3, 0), (2, 3), (2, 2), (1, 0)}, (3, 0): {(0, 0), (3, 1), (2, 0), (3, 3), (1, 0), (3, 2)}, (2, 3): {(2, 1), (0, 3), (2, 0), (3, 3), (2, 2), (1, 3)}, (0, 2): {(0, 1), (1, 2), (0, 0), (0, 3), (2, 2), (3, 2)}, (3, 3): {(3, 1), (0, 3), (3, 0), (2, 3), (3, 2), (1, 3)}, (2, 2): {(1, 2), (2, 1), (2, 0), (2, 3), (0, 2), (3, 2)}, (1, 0): {(1, 2), (0, 0), (1, 1), (2, 0), (3, 0), (1, 3)}, (3, 2): {(1, 2), (3, 1), (3, 0), (0, 2), (3, 3), (2, 2)}, (1, 3): {(1, 2), (1, 1), (0, 3), (2, 3), (3, 3), (1, 0)}}\n"
     ]
    }
   ],
   "source": [
    "p2 = quadrado_latino(4)\n",
    "print(\"Variáveis = \", p2.variables)\n",
    "print(\"Domínios = \", p2.domains)\n",
    "print(\"Vizinhos = \", p2.neighbors)"
   ]
  },
  {
   "cell_type": "markdown",
   "metadata": {
    "collapsed": false,
    "pycharm": {
     "name": "#%% md\n"
    }
   },
   "source": [
    "Para criar um puzzle com quadrados já preenchidos, alteramos a função de formulação do problema, fazendo com que esta agora receba também um dicionário com os quadrados já preenchidos.\n",
    "\n",
    "O facto de o quadrado ser semi preenchido apenas vai afetar os dominios iniciais, fazendo com que o dominio inicial das variaveis ja com valores atribuidos seja reduzido para essas.\n"
   ]
  },
  {
   "cell_type": "code",
   "execution_count": 18,
   "metadata": {
    "collapsed": false,
    "pycharm": {
     "name": "#%%\n"
    }
   },
   "outputs": [
    {
     "name": "stdout",
     "output_type": "stream",
     "text": [
      "Variáveis =  {(0, 1), (1, 2), (2, 1), (0, 0), (1, 1), (2, 0), (0, 2), (2, 2), (1, 0)}\n",
      "Domínios =  {(0, 0): [1], (1, 1): [3], (2, 2): [2], (0, 1): {1, 2, 3}, (0, 2): {1, 2, 3}, (1, 2): {1, 2, 3}, (2, 1): {1, 2, 3}, (1, 0): {1, 2, 3}, (2, 0): {1, 2, 3}}\n",
      "Vizinhos =  {(0, 1): {(1, 0), (1, 2), (2, 0), (2, 2)}, (1, 2): {(0, 1), (2, 0), (2, 1), (0, 0)}, (2, 1): {(1, 0), (0, 2), (1, 2), (0, 0)}, (0, 0): {(1, 1), (1, 2), (2, 1), (2, 2)}, (1, 1): {(2, 2), (0, 2), (2, 0), (0, 0)}, (2, 0): {(0, 1), (1, 1), (1, 2), (0, 2)}, (0, 2): {(1, 0), (1, 1), (2, 0), (2, 1)}, (2, 2): {(0, 1), (1, 0), (1, 1), (0, 0)}, (1, 0): {(0, 1), (0, 2), (2, 1), (2, 2)}}\n",
      "{(0, 1): 1, (1, 2): 3, (2, 1): 2, (0, 0): 1, (1, 1): 3, (2, 0): 2, (0, 2): 1, (2, 2): 2, (1, 0): 3}\n"
     ]
    }
   ],
   "source": [
    "preenchido = {(0,0): [1], (1,1):[3], (2,2):[2]}\n",
    "\n",
    "pSP = quadrado_latino(3, preenchido)\n",
    "print(\"Variáveis = \", pSP.variables)\n",
    "print(\"Domínios = \", pSP.domains)\n",
    "print(\"Vizinhos = \", pSP.neighbors)\n",
    "\n",
    "r = backtracking_search(pSP)\n",
    "print(r)"
   ]
  },
  {
   "cell_type": "markdown",
   "metadata": {},
   "source": [
    "Resolva o problema com o backtracking sem inferencia, com inferencia, e com uma heurística."
   ]
  },
  {
   "cell_type": "code",
   "execution_count": 25,
   "metadata": {
    "collapsed": false,
    "pycharm": {
     "name": "#%%\n"
    }
   },
   "outputs": [],
   "source": [
    "import timeit\n",
    "tempos = {}\n",
    "n = 3"
   ]
  },
  {
   "cell_type": "code",
   "execution_count": 39,
   "metadata": {
    "collapsed": false,
    "pycharm": {
     "name": "#%%\n"
    }
   },
   "outputs": [
    {
     "name": "stdout",
     "output_type": "stream",
     "text": [
      "Time:  0.0007900999917183071\n",
      "Assignment (QuadradoLatinoSemInferência) =  {(0, 0): 1, (1, 0): 2, (2, 0): 3, (0, 1): 2, (1, 1): 3, (2, 1): 1, (0, 2): 3, (1, 2): 1, (2, 2): 2}\n"
     ]
    }
   ],
   "source": [
    "QuadradoLatinoSemInferência = quadrado_latino(n)\n",
    "start = timeit.default_timer()\n",
    "r = backtracking_search(QuadradoLatinoSemInferência)\n",
    "stop = timeit.default_timer()\n",
    "print('Time: ', stop - start)\n",
    "print('Assignment (QuadradoLatinoSemInferência) = ',r)\n",
    "tempos['QuadradoLatinoSemInferência'] = stop - start"
   ]
  },
  {
   "cell_type": "code",
   "execution_count": 40,
   "metadata": {
    "collapsed": false,
    "pycharm": {
     "name": "#%%\n"
    }
   },
   "outputs": [
    {
     "name": "stdout",
     "output_type": "stream",
     "text": [
      "Time:  0.0006933000113349408\n",
      "Assignment (QuadradoLatinoComInferência_FRWDchecking) =  {(0, 0): 1, (1, 0): 2, (2, 0): 3, (0, 1): 2, (1, 1): 3, (2, 1): 1, (0, 2): 3, (1, 2): 1, (2, 2): 2}\n"
     ]
    }
   ],
   "source": [
    "QuadradoLatinoComInferência_FRWDchecking = quadrado_latino(n)\n",
    "start = timeit.default_timer()\n",
    "r = backtracking_search(QuadradoLatinoComInferência_FRWDchecking, inference=forward_checking)\n",
    "stop = timeit.default_timer()\n",
    "print('Time: ', stop - start)\n",
    "print('Assignment (QuadradoLatinoComInferência_FRWDchecking) = ',r)\n",
    "tempos['QuadradoLatinoComInferência_FRWDchecking'] = stop - start"
   ]
  },
  {
   "cell_type": "code",
   "execution_count": 41,
   "metadata": {
    "collapsed": false,
    "pycharm": {
     "name": "#%%\n"
    }
   },
   "outputs": [
    {
     "name": "stdout",
     "output_type": "stream",
     "text": [
      "Time:  0.0010866000084206462\n",
      "Assignment (QuadradoLatinoComAC3) =  {(0, 0): 1, (1, 0): 2, (2, 0): 3, (0, 1): 2, (1, 1): 3, (2, 1): 1, (0, 2): 3, (1, 2): 1, (2, 2): 2}\n"
     ]
    }
   ],
   "source": [
    "QuadradoLatinoComAC3 = quadrado_latino(n)\n",
    "start = timeit.default_timer()\n",
    "p_AC3 = AC3(QuadradoLatinoComAC3)\n",
    "r = backtracking_search(p_AC3)\n",
    "stop = timeit.default_timer()\n",
    "print('Time: ', stop - start)\n",
    "print('Assignment (QuadradoLatinoComAC3) = ',r)\n",
    "tempos['QuadradoLatinoComAC3'] = stop - start"
   ]
  },
  {
   "cell_type": "code",
   "execution_count": 42,
   "metadata": {
    "collapsed": false,
    "pycharm": {
     "name": "#%%\n"
    }
   },
   "outputs": [
    {
     "name": "stdout",
     "output_type": "stream",
     "text": [
      "Time:  0.001676399988355115\n",
      "Assignment (QuadradoLatinoComInferência_MAC) =  {(0, 0): 1, (1, 0): 2, (2, 0): 3, (0, 1): 2, (1, 1): 3, (2, 1): 1, (0, 2): 3, (1, 2): 1, (2, 2): 2}\n"
     ]
    }
   ],
   "source": [
    "QuadradoLatinoComInferência_MAC = quadrado_latino(n)\n",
    "start = timeit.default_timer()\n",
    "r = backtracking_search(QuadradoLatinoComInferência_MAC, inference=mac)\n",
    "stop = timeit.default_timer()\n",
    "print('Time: ', stop - start)\n",
    "print('Assignment (QuadradoLatinoComInferência_MAC) = ',r)\n",
    "tempos['QuadradoLatinoComInferência_MAC'] = stop - start"
   ]
  },
  {
   "cell_type": "code",
   "execution_count": 43,
   "metadata": {
    "collapsed": false,
    "pycharm": {
     "name": "#%%\n"
    }
   },
   "outputs": [
    {
     "name": "stdout",
     "output_type": "stream",
     "text": [
      "Time:  0.0015719000075478107\n",
      "Assignment (QuadradoLatinoComAC3eInferência_MAC) =  {(0, 0): 1, (1, 0): 2, (2, 0): 3, (0, 1): 2, (1, 1): 3, (2, 1): 1, (0, 2): 3, (1, 2): 1, (2, 2): 2}\n"
     ]
    }
   ],
   "source": [
    "QuadradoLatinoComAC3eInferência_MAC = quadrado_latino(n)\n",
    "start = timeit.default_timer()\n",
    "p_AC3 = AC3(QuadradoLatinoComAC3eInferência_MAC)\n",
    "r = backtracking_search(p_AC3, inference=mac)\n",
    "stop = timeit.default_timer()\n",
    "print('Time: ', stop - start)\n",
    "print('Assignment (QuadradoLatinoComAC3eInferência_MAC) = ',r)\n",
    "tempos['QuadradoLatinoComAC3eInferência_MAC'] = stop - start"
   ]
  },
  {
   "cell_type": "code",
   "execution_count": 44,
   "metadata": {
    "collapsed": false,
    "pycharm": {
     "name": "#%%\n"
    }
   },
   "outputs": [
    {
     "name": "stdout",
     "output_type": "stream",
     "text": [
      "Time:  0.001438899984350428\n",
      "Assignment (QuadradoLatinoComHeuristica) =  {(0, 2): 1, (1, 2): 2, (0, 0): 2, (1, 0): 3, (2, 1): 2, (2, 0): 1, (2, 2): 3, (1, 1): 1, (0, 1): 3}\n"
     ]
    }
   ],
   "source": [
    "QuadradoLatinoComHeuristica = quadrado_latino(n)\n",
    "start = timeit.default_timer()\n",
    "r = backtracking_search(QuadradoLatinoComHeuristica, select_unassigned_variable = mrv)\n",
    "stop = timeit.default_timer()\n",
    "print('Time: ', stop - start)\n",
    "print('Assignment (QuadradoLatinoComHeuristica) = ',r)\n",
    "tempos['QuadradoLatinoComHeuristica'] = stop - start"
   ]
  },
  {
   "cell_type": "code",
   "execution_count": 45,
   "metadata": {
    "collapsed": false,
    "pycharm": {
     "name": "#%%\n"
    }
   },
   "outputs": [
    {
     "name": "stdout",
     "output_type": "stream",
     "text": [
      "Time:  0.0006595999875571579\n",
      "Assignment (QuadradoLatinoComHeuristicaComInferencia) =  {(2, 1): 1, (2, 2): 2, (2, 0): 3, (1, 0): 1, (1, 2): 3, (0, 0): 2, (0, 2): 1, (1, 1): 2, (0, 1): 3}\n"
     ]
    }
   ],
   "source": [
    "QuadradoLatinoComHeuristicaComInferencia = quadrado_latino(n)\n",
    "start = timeit.default_timer()\n",
    "r = backtracking_search(QuadradoLatinoComHeuristicaComInferencia, select_unassigned_variable = mrv, inference=forward_checking)\n",
    "stop = timeit.default_timer()\n",
    "print('Time: ', stop - start)\n",
    "print('Assignment (QuadradoLatinoComHeuristicaComInferencia) = ',r)\n",
    "tempos['QuadradoLatinoComHeuristicaComInferencia'] = [stop - start]"
   ]
  },
  {
   "cell_type": "code",
   "execution_count": 48,
   "metadata": {
    "collapsed": false,
    "pycharm": {
     "name": "#%%\n"
    }
   },
   "outputs": [
    {
     "name": "stdout",
     "output_type": "stream",
     "text": [
      "QuadradoLatinoSemInferência 0.0007900999917183071\n",
      "QuadradoLatinoComInferência_FRWDchecking 0.0006933000113349408\n",
      "QuadradoLatinoComAC3 0.0010866000084206462\n",
      "QuadradoLatinoComInferência_MAC 0.001676399988355115\n",
      "QuadradoLatinoComAC3eInferência_MAC 0.0015719000075478107\n",
      "QuadradoLatinoComHeuristica 0.001438899984350428\n",
      "QuadradoLatinoComHeuristicaComInferencia 0.0006595999875571579\n",
      "dict_keys(['QuadradoLatinoSemInferência', 'QuadradoLatinoComInferência_FRWDchecking', 'QuadradoLatinoComAC3', 'QuadradoLatinoComInferência_MAC', 'QuadradoLatinoComAC3eInferência_MAC', 'QuadradoLatinoComHeuristica', 'QuadradoLatinoComHeuristicaComInferencia'])\n"
     ]
    }
   ],
   "source": [
    "for item in tempos:\n",
    "    print(item, tempos[item])\n",
    "\n",
    "print(tempos.keys())"
   ]
  },
  {
   "cell_type": "code",
   "execution_count": 47,
   "metadata": {
    "collapsed": false,
    "pycharm": {
     "name": "#%%\n"
    }
   },
   "outputs": [
    {
     "data": {
      "text/html": [
       "<div>\n",
       "<style scoped>\n",
       "    .dataframe tbody tr th:only-of-type {\n",
       "        vertical-align: middle;\n",
       "    }\n",
       "\n",
       "    .dataframe tbody tr th {\n",
       "        vertical-align: top;\n",
       "    }\n",
       "\n",
       "    .dataframe thead th {\n",
       "        text-align: right;\n",
       "    }\n",
       "</style>\n",
       "<table border=\"1\" class=\"dataframe\">\n",
       "  <thead>\n",
       "    <tr style=\"text-align: right;\">\n",
       "      <th></th>\n",
       "      <th>3</th>\n",
       "    </tr>\n",
       "  </thead>\n",
       "  <tbody>\n",
       "    <tr>\n",
       "      <th>QuadradoLatinoComHeuristicaComInferencia</th>\n",
       "      <td>0.000660</td>\n",
       "    </tr>\n",
       "    <tr>\n",
       "      <th>QuadradoLatinoComInferência_FRWDchecking</th>\n",
       "      <td>0.000693</td>\n",
       "    </tr>\n",
       "    <tr>\n",
       "      <th>QuadradoLatinoSemInferência</th>\n",
       "      <td>0.000790</td>\n",
       "    </tr>\n",
       "    <tr>\n",
       "      <th>QuadradoLatinoComAC3</th>\n",
       "      <td>0.001087</td>\n",
       "    </tr>\n",
       "    <tr>\n",
       "      <th>QuadradoLatinoComHeuristica</th>\n",
       "      <td>0.001439</td>\n",
       "    </tr>\n",
       "    <tr>\n",
       "      <th>QuadradoLatinoComAC3eInferência_MAC</th>\n",
       "      <td>0.001572</td>\n",
       "    </tr>\n",
       "    <tr>\n",
       "      <th>QuadradoLatinoComInferência_MAC</th>\n",
       "      <td>0.001676</td>\n",
       "    </tr>\n",
       "  </tbody>\n",
       "</table>\n",
       "</div>"
      ],
      "text/plain": [
       "                                                 3\n",
       "QuadradoLatinoComHeuristicaComInferencia  0.000660\n",
       "QuadradoLatinoComInferência_FRWDchecking  0.000693\n",
       "QuadradoLatinoSemInferência               0.000790\n",
       "QuadradoLatinoComAC3                      0.001087\n",
       "QuadradoLatinoComHeuristica               0.001439\n",
       "QuadradoLatinoComAC3eInferência_MAC       0.001572\n",
       "QuadradoLatinoComInferência_MAC           0.001676"
      ]
     },
     "execution_count": 47,
     "metadata": {},
     "output_type": "execute_result"
    }
   ],
   "source": [
    "import pandas as pd\n",
    "temposSorted = dict(sorted(tempos.items(), key=lambda x:x[1]))\n",
    "pd.DataFrame(temposSorted.values(),index = temposSorted.keys(), columns= [n])"
   ]
  },
  {
   "cell_type": "markdown",
   "metadata": {
    "collapsed": false
   },
   "source": [
    "## Big Duvidas AQUI\n",
    "\n",
    "Com a tabela acima é possível concluir que:\n",
    "- o algoritmo que demora menos tempo a encontrar uma solução é a **procura com Retrocesso usando a inferência Forward Checking**, demora apenas 0.00046 segundos;\n",
    "- a solução do problema utilizando a procura com retrocesso sem inferências nem heurísticas demora mais tempo (0.000991 segundos) que a procura com retrocesso depois de pré-processamento com recurso ao algoritmo **AC3** (0.000890 segundos);\n",
    "- a procura com retrocesso usando Inferência e Heuristica (0.000997 segundos) é mais lenta que a procura sem (0.000991 segundos), sendo esta diferença na ordem dos 10 microsegundos;\n",
    "- independentemente da realização de um pré-processamento com AC3, a procura com inferência em que se mantém a consistência (mac), demora mais tempo, diferença na ordem dos 10 milisegundos;"
   ]
  },
  {
   "cell_type": "markdown",
   "metadata": {
    "collapsed": false
   },
   "source": [
    "## Visualização do problema"
   ]
  },
  {
   "cell_type": "code",
   "execution_count": 28,
   "metadata": {
    "collapsed": false,
    "pycharm": {
     "name": "#%%\n"
    }
   },
   "outputs": [
    {
     "ename": "ModuleNotFoundError",
     "evalue": "No module named 'numpy'",
     "output_type": "error",
     "traceback": [
      "\u001b[1;31m---------------------------------------------------------------------------\u001b[0m",
      "\u001b[1;31mModuleNotFoundError\u001b[0m                       Traceback (most recent call last)",
      "\u001b[1;32mc:\\Users\\nulga\\Documents\\Nova pasta\\OneDrive\\Faculdade\\Sistemas Inteligentes\\ProjetoSI\\Projeto2\\projeto2-SI\\SI-proj2-42.ipynb Cell 23'\u001b[0m in \u001b[0;36m<cell line: 1>\u001b[1;34m()\u001b[0m\n\u001b[1;32m----> <a href='vscode-notebook-cell:/c%3A/Users/nulga/Documents/Nova%20pasta/OneDrive/Faculdade/Sistemas%20Inteligentes/ProjetoSI/Projeto2/projeto2-SI/SI-proj2-42.ipynb#ch0000022?line=0'>1</a>\u001b[0m \u001b[39mimport\u001b[39;00m \u001b[39mnumpy\u001b[39;00m \u001b[39mas\u001b[39;00m \u001b[39mnp\u001b[39;00m\n\u001b[0;32m      <a href='vscode-notebook-cell:/c%3A/Users/nulga/Documents/Nova%20pasta/OneDrive/Faculdade/Sistemas%20Inteligentes/ProjetoSI/Projeto2/projeto2-SI/SI-proj2-42.ipynb#ch0000022?line=2'>3</a>\u001b[0m \u001b[39mdef\u001b[39;00m \u001b[39mvisualizacao\u001b[39m(n, variaveis, solucao, preenchidos \u001b[39m=\u001b[39m {}):\n\u001b[0;32m      <a href='vscode-notebook-cell:/c%3A/Users/nulga/Documents/Nova%20pasta/OneDrive/Faculdade/Sistemas%20Inteligentes/ProjetoSI/Projeto2/projeto2-SI/SI-proj2-42.ipynb#ch0000022?line=3'>4</a>\u001b[0m     \u001b[39mdef\u001b[39;00m \u001b[39mgetList\u001b[39m(\u001b[39mdict\u001b[39m):\n",
      "\u001b[1;31mModuleNotFoundError\u001b[0m: No module named 'numpy'"
     ]
    }
   ],
   "source": [
    "import numpy as np\n",
    "\n",
    "def visualizacao(n, variaveis, solucao, preenchidos = {}):\n",
    "    def getList(dict):\n",
    "        list = []\n",
    "        for key in dict.keys():\n",
    "            list.append(key)\n",
    "        return list\n",
    "\n",
    "    coor_preenchidas = getList(preenchidos)\n",
    "    coordenadas = coor_preenchidas + variaveis\n",
    "    matrix = np.zeros((n,n))\n",
    "    for tuple in coordenadas:\n",
    "        if tuple not in variaveis:\n",
    "            matrix[tuple[0]][tuple[1]] = preenchido[tuple]\n",
    "\n",
    "    print('Antes: \\n', matrix)\n",
    "    for tuple in solucao.keys():\n",
    "            matrix[tuple[0]][tuple[1]] = solucao[tuple]\n",
    "    print('Depois: \\n', matrix)"
   ]
  },
  {
   "cell_type": "code",
   "execution_count": 32,
   "metadata": {
    "collapsed": false,
    "pycharm": {
     "name": "#%%\n"
    }
   },
   "outputs": [
    {
     "name": "stdout",
     "output_type": "stream",
     "text": [
      "Antes: \n",
      " [[0. 0. 0. 0. 0. 0.]\n",
      " [0. 0. 0. 0. 0. 0.]\n",
      " [0. 0. 0. 0. 0. 0.]\n",
      " [0. 0. 0. 0. 0. 0.]\n",
      " [0. 0. 0. 0. 0. 0.]\n",
      " [0. 0. 0. 0. 0. 0.]]\n",
      "Depois: \n",
      " [[1. 2. 1. 2. 1. 2.]\n",
      " [2. 1. 2. 1. 2. 1.]\n",
      " [1. 2. 1. 2. 1. 2.]\n",
      " [2. 1. 2. 1. 2. 1.]\n",
      " [1. 2. 1. 2. 1. 2.]\n",
      " [2. 1. 2. 1. 2. 1.]]\n"
     ]
    }
   ],
   "source": [
    "visualizacao(6, quadrado_latino(6).variables, backtracking_search(quadrado_latino(6)))"
   ]
  },
  {
   "cell_type": "code",
   "execution_count": 27,
   "metadata": {},
   "outputs": [
    {
     "ename": "TypeError",
     "evalue": "display() missing 1 required positional argument: 'assignment'",
     "output_type": "error",
     "traceback": [
      "\u001b[1;31m---------------------------------------------------------------------------\u001b[0m",
      "\u001b[1;31mTypeError\u001b[0m                                 Traceback (most recent call last)",
      "\u001b[1;32mc:\\Users\\nulga\\Documents\\Nova pasta\\OneDrive\\Faculdade\\Sistemas Inteligentes\\ProjetoSI\\Projeto2\\projeto2-SI\\SI-proj2-42.ipynb Cell 25'\u001b[0m in \u001b[0;36m<cell line: 1>\u001b[1;34m()\u001b[0m\n\u001b[1;32m----> <a href='vscode-notebook-cell:/c%3A/Users/nulga/Documents/Nova%20pasta/OneDrive/Faculdade/Sistemas%20Inteligentes/ProjetoSI/Projeto2/projeto2-SI/SI-proj2-42.ipynb#ch0000034?line=0'>1</a>\u001b[0m pSP\u001b[39m.\u001b[39;49mdisplay()\n",
      "\u001b[1;31mTypeError\u001b[0m: display() missing 1 required positional argument: 'assignment'"
     ]
    }
   ],
   "source": [
    "pSP.display()"
   ]
  },
  {
   "cell_type": "markdown",
   "metadata": {
    "collapsed": false
   },
   "source": [
    "## Criação do problema Futoshiki *5x5*\n",
    "\n",
    "Mostrem que o código está a funcionar, construindo um problema de Futoshiki *5x5*, imprimindo as variáveis, domínios iniciais, e vizinhos. Adicione os comentários necessários. Utilize o [link](https://www.futoshiki.org/) para gerar puzzles e validar a implementação."
   ]
  },
  {
   "cell_type": "code",
   "execution_count": 24,
   "metadata": {
    "collapsed": false,
    "pycharm": {
     "name": "#%%\n"
    }
   },
   "outputs": [],
   "source": [
    "def maior(x,y):\n",
    "    return x > y\n",
    "\n",
    "def menor(x,y):\n",
    "    return x < y\n",
    "\n",
    "def futoshiki(n=3, initial={}, desigualdades={}):\n",
    "    \"\"\"\n",
    "    Pode receber parametros ou não.\n",
    "    Deve devolver um CSP, à semelhança dos guiões das aulas PL.\n",
    "    Comente o código.\n",
    "    \"\"\"\n",
    "    variaveis = {(i,j) for j in range(0,n) for i in range(0,n)}\n",
    "\n",
    "    conjunto = {i for i in range(1,n+1)}\n",
    "    \n",
    "    dominios = initial\n",
    "\n",
    "    # Diferenca dos dois conjuntos vai resultar nas variaveis nao preenchidas\n",
    "    for item in set(variaveis - initial.keys()):\n",
    "            dominios[item] = conjunto\n",
    "    \n",
    "    condicao_vizinhanca = lambda x,y : (x[0] == y[0] and x[1] != y[1]) or (x[0] != y[0] and x[1] == y[1])\n",
    "    \n",
    "    vizinhos = {var : set(filter(lambda x: condicao_vizinhanca(x,var), variaveis)) for var in variaveis}\n",
    "\n",
    "    def restricoes(X, a, Y, b):\n",
    "        if (X,Y) in desigualdades.keys():\n",
    "            if not desigualdades[(X,Y)](a,b):\n",
    "                return False\n",
    "        if (Y,X) in desigualdades.keys():\n",
    "            if not desigualdades[(Y,X)](b,a):\n",
    "                return False\n",
    "        if Y in vizinhos[X]:\n",
    "            return  a != b\n",
    "        return True\n",
    "\n",
    "\n",
    "\n",
    "    return CSP(variaveis, dominios, vizinhos, restricoes)"
   ]
  },
  {
   "cell_type": "code",
   "execution_count": 22,
   "metadata": {
    "collapsed": false,
    "pycharm": {
     "name": "#%%\n"
    }
   },
   "outputs": [],
   "source": [
    "preenchidos = {(1,2) : {1}}\n",
    "desigualdades = {((1,0),(2,0)) : menor, ((2,0),(3,0)) : menor, ((2,3),(2,2)): maior}"
   ]
  },
  {
   "cell_type": "code",
   "execution_count": 25,
   "metadata": {
    "collapsed": false,
    "pycharm": {
     "name": "#%%\n"
    }
   },
   "outputs": [
    {
     "name": "stdout",
     "output_type": "stream",
     "text": [
      "Variáveis =  {(4, 0), (3, 4), (4, 3), (3, 1), (0, 2), (2, 2), (1, 0), (1, 3), (4, 2), (3, 0), (3, 3), (0, 1), (2, 4), (1, 2), (0, 4), (2, 1), (3, 2), (4, 1), (4, 4), (0, 0), (1, 1), (0, 3), (2, 0), (1, 4), (2, 3)}\n",
      "Domínios =  {(1, 2): {1}, (0, 1): {1, 2, 3, 4, 5}, (2, 4): {1, 2, 3, 4, 5}, (4, 0): {1, 2, 3, 4, 5}, (0, 4): {1, 2, 3, 4, 5}, (3, 4): {1, 2, 3, 4, 5}, (2, 1): {1, 2, 3, 4, 5}, (4, 3): {1, 2, 3, 4, 5}, (3, 1): {1, 2, 3, 4, 5}, (0, 2): {1, 2, 3, 4, 5}, (2, 2): {1, 2, 3, 4, 5}, (1, 0): {1, 2, 3, 4, 5}, (3, 2): {1, 2, 3, 4, 5}, (1, 3): {1, 2, 3, 4, 5}, (4, 1): {1, 2, 3, 4, 5}, (4, 4): {1, 2, 3, 4, 5}, (0, 0): {1, 2, 3, 4, 5}, (1, 1): {1, 2, 3, 4, 5}, (0, 3): {1, 2, 3, 4, 5}, (2, 0): {1, 2, 3, 4, 5}, (4, 2): {1, 2, 3, 4, 5}, (3, 0): {1, 2, 3, 4, 5}, (1, 4): {1, 2, 3, 4, 5}, (2, 3): {1, 2, 3, 4, 5}, (3, 3): {1, 2, 3, 4, 5}}\n",
      "Vizinhos =  {(4, 0): {(4, 4), (4, 3), (0, 0), (2, 0), (4, 2), (3, 0), (1, 0), (4, 1)}, (3, 4): {(4, 4), (2, 4), (0, 4), (3, 1), (1, 4), (3, 0), (3, 3), (3, 2)}, (4, 3): {(4, 4), (4, 0), (4, 1), (0, 3), (4, 2), (2, 3), (3, 3), (1, 3)}, (3, 1): {(0, 1), (2, 1), (3, 4), (1, 1), (3, 0), (3, 3), (3, 2), (4, 1)}, (0, 2): {(0, 1), (1, 2), (0, 4), (0, 0), (0, 3), (4, 2), (2, 2), (3, 2)}, (2, 2): {(2, 4), (1, 2), (2, 1), (2, 0), (4, 2), (2, 3), (0, 2), (3, 2)}, (1, 0): {(1, 2), (4, 0), (0, 0), (1, 1), (2, 0), (1, 4), (3, 0), (1, 3)}, (1, 3): {(1, 2), (4, 3), (1, 1), (0, 3), (1, 4), (2, 3), (3, 3), (1, 0)}, (4, 2): {(4, 4), (1, 2), (4, 0), (4, 3), (0, 2), (2, 2), (3, 2), (4, 1)}, (3, 0): {(4, 0), (3, 4), (0, 0), (3, 1), (2, 0), (3, 3), (1, 0), (3, 2)}, (3, 3): {(3, 4), (4, 3), (3, 1), (0, 3), (3, 0), (2, 3), (3, 2), (1, 3)}, (0, 1): {(0, 4), (2, 1), (0, 0), (3, 1), (1, 1), (0, 3), (0, 2), (4, 1)}, (2, 4): {(4, 4), (0, 4), (2, 1), (3, 4), (2, 0), (1, 4), (2, 3), (2, 2)}, (1, 2): {(1, 1), (4, 2), (1, 4), (0, 2), (2, 2), (1, 0), (3, 2), (1, 3)}, (0, 4): {(0, 1), (4, 4), (2, 4), (3, 4), (0, 0), (0, 3), (1, 4), (0, 2)}, (2, 1): {(0, 1), (2, 4), (3, 1), (1, 1), (2, 0), (2, 3), (2, 2), (4, 1)}, (3, 2): {(1, 2), (3, 4), (3, 1), (4, 2), (3, 0), (0, 2), (3, 3), (2, 2)}, (4, 1): {(0, 1), (4, 4), (4, 0), (2, 1), (4, 3), (3, 1), (1, 1), (4, 2)}, (4, 4): {(2, 4), (4, 0), (0, 4), (3, 4), (4, 3), (4, 2), (1, 4), (4, 1)}, (0, 0): {(0, 1), (4, 0), (0, 4), (0, 3), (2, 0), (3, 0), (0, 2), (1, 0)}, (1, 1): {(0, 1), (1, 2), (2, 1), (4, 1), (3, 1), (1, 4), (1, 0), (1, 3)}, (0, 3): {(0, 1), (0, 4), (4, 3), (0, 0), (2, 3), (0, 2), (3, 3), (1, 3)}, (2, 0): {(2, 4), (4, 0), (2, 1), (0, 0), (3, 0), (2, 3), (2, 2), (1, 0)}, (1, 4): {(4, 4), (2, 4), (1, 2), (0, 4), (3, 4), (1, 1), (1, 0), (1, 3)}, (2, 3): {(2, 4), (2, 1), (4, 3), (0, 3), (2, 0), (3, 3), (2, 2), (1, 3)}}\n"
     ]
    }
   ],
   "source": [
    "p = futoshiki(5, preenchidos, desigualdades)\n",
    "print(\"Variáveis = \", p.variables)\n",
    "print(\"Domínios = \", p.domains)\n",
    "print(\"Vizinhos = \", p.neighbors)\n",
    "r = backtracking_search(p)"
   ]
  },
  {
   "cell_type": "code",
   "execution_count": 29,
   "metadata": {},
   "outputs": [
    {
     "name": "stdout",
     "output_type": "stream",
     "text": [
      "{(4, 0): 1, (3, 4): 1, (4, 3): 2, (3, 1): 2, (0, 2): 2, (2, 2): 4, (1, 0): 2, (1, 3): 4, (4, 2): 3, (3, 0): 4, (3, 3): 3, (0, 1): 3, (2, 4): 2, (1, 2): 1, (0, 4): 4, (2, 1): 1, (3, 2): 5, (4, 1): 4, (4, 4): 5, (0, 0): 5, (1, 1): 5, (0, 3): 1, (2, 0): 3, (1, 4): 3, (2, 3): 5}\n"
     ]
    }
   ],
   "source": [
    "print(r)"
   ]
  },
  {
   "cell_type": "markdown",
   "metadata": {
    "collapsed": false
   },
   "source": [
    "Resolva o problema com o backtracking sem inferencia, com inferencia, e com uma heurística. Até que dimensão consegue resolver o problema em menos de 1 minuto?"
   ]
  },
  {
   "cell_type": "code",
   "execution_count": null,
   "metadata": {},
   "outputs": [],
   "source": [
    "# código "
   ]
  },
  {
   "cell_type": "markdown",
   "metadata": {},
   "source": [
    "## Visualização do problema"
   ]
  },
  {
   "cell_type": "code",
   "execution_count": null,
   "metadata": {},
   "outputs": [],
   "source": [
    "# Implemente uma função que permita visualizar o puzzle Futoshiki, antes e depois de resolvido. Compare com a solução obtida pelo seu algoritmo. \n",
    "# No caso de não implementar esta função, inclua um screenshot do problema e da sua solução."
   ]
  }
 ],
 "metadata": {
  "interpreter": {
   "hash": "ca0a6ed6c3687464969dd6147ab8a98b55d02ef7a9aec76841b10aa7e05a39c3"
  },
  "kernelspec": {
   "display_name": "Python 3.9.7 ('base')",
   "language": "python",
   "name": "python3"
  },
  "language_info": {
   "codemirror_mode": {
    "name": "ipython",
    "version": 3
   },
   "file_extension": ".py",
   "mimetype": "text/x-python",
   "name": "python",
   "nbconvert_exporter": "python",
   "pygments_lexer": "ipython3",
   "version": "3.9.12"
  },
  "orig_nbformat": 4
 },
 "nbformat": 4,
 "nbformat_minor": 2
}
