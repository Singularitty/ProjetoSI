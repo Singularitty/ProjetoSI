{
 "cells": [
  {
   "cell_type": "markdown",
   "id": "bf9c87b1",
   "metadata": {},
   "source": [
    "# Sistemas Inteligentes 2021/2022\n",
    "\n",
    "## Mini-projeto 2: Quadrados Latinos\n"
   ]
  },
  {
   "cell_type": "markdown",
   "id": "d7b8efca",
   "metadata": {},
   "source": [
    "## Grupo: 42\n",
    "\n",
    "### Elementos do Grupo\n",
    "\n",
    "Número:  53687       Nome:   Ariana Dias  \n",
    "Número:  53746       Nome:   Andrei Tataru  \n",
    "Número:  51127       Nome:   Luís Ferreirinha  \n",
    "\n",
    "(Nota: Neste relatório pode adicionar as células de texto e código que achar necessárias.)"
   ]
  },
  {
   "cell_type": "markdown",
   "id": "df10acb0",
   "metadata": {},
   "source": [
    "## Representação de variáveis, domínios, vizinhos e restrições\n",
    "\n",
    "O problema dos quadrados latinos pode ser representado como uma matriz $n \\times n$ em que cada linha e coluna contêm exatmente um número de $1$ a $n$.  \n",
    "\n",
    "Então para caracterizar este CSP em python obtamos pelas seguintes escolhas:  \n",
    "\n",
    "- Variáveis:  \n",
    "  \n",
    "    Cada variável no nosso problema vai representar o valor atribuiado a um elemento da matriz.  \n",
    "    Então em python representamos o conjunto das variáveis como uma lista das coordenadas de cada\n",
    "    elemento na matriz:    \n",
    "    -  var $=[(i_1,j_1),...,(i_n,j_n)]$  \n",
    "<br>\n",
    "- Domínios:  \n",
    "  \n",
    "    Neste problema cada variável pode tomar um valor de $1,...,n$, exceto de houver condições iniciais.\n",
    "    Portanto em python decidimos utilizar um dicionário, onde as chaves são as variáveis e estas correspondem a uma lista de inteiros contento os valores possíveis para aquela variável:\n",
    "    \n",
    "    - dominio $=\\{(i_1,j_1) = [1,..,n], ...\\}$  \n",
    "<br> \n",
    "- Vizinhos:  \n",
    "\n",
    "    Uma variável vai ser vizinha de outra de estiver na mesma linha ou coluna que essa variável.\n",
    "    Em python definimos os vizinhos como um dicionário onde cada variável é uma chave e corresponde a uma lista de variáveis que são suas vizinhas:  \n",
    "    \n",
    "    - vizinhos $=\\{(i_k,i_m) : [(i_1,j_m),...,(i_n,j_m),(i_k,j_1),...,(i_k,j_n)], \\, ...  \\, \\}$  \n",
    "<br>\n",
    "- Restrições:  \n",
    "\n",
    "    A restrição principal deste problema é a impossibilidade de haver repetições de um número\n",
    "    ao longo de uma coluna ou linha, ou seja tem de ser diferente de todos os seus vizinhos.\n",
    "    Em python esta restrição é representada pela comparação dos valores de duas variáveis vizinhas:  \n",
    "\n",
    "    -  ```python\n",
    "       valor_variavel_1 != valor_variavel_2\n",
    "       ```\n",
    "    <br>\n",
    "    Como também temos a variação do Futoshiki, temos de definir outras restrições para esse problema.  \n",
    "\n",
    "    A ideia principal é que duas variáveis adjacentes podem agora ter a restrição adicional de o valor de uma ser maior ou menor que o valor da outra. Então para representar o mapeamento destas novas restrições usamos um dicionário onde as chaves são um tuplos contendos as duas variáveis em questão e vão corresponde a uma função que verifica se os valores destas são menores ou maiores conforme a restrição.\n",
    "\n",
    "    - desigualdades $=\\{((i_k,j_m),(i_k,j_{m+1})) : maior\\, \\, \\text{ou} \\, \\, menor \\}$  \n",
    "\n",
    "    Cada uma destas funções vair comparar os valores das variavéis conforme o seu nome.  \n",
    "\n",
    "    - ```python \n",
    "      def maior(a,b): return a > b\n",
    "      ```\n",
    "\n",
    "    - ```python \n",
    "      def menor(a,b): return a < b\n",
    "      ```\n",
    "\n",
    "\n",
    " "
   ]
  },
  {
   "cell_type": "markdown",
   "id": "4ab69211",
   "metadata": {},
   "source": [
    "## Formulação do problema"
   ]
  },
  {
   "cell_type": "code",
   "execution_count": 37,
   "id": "c5327f4f",
   "metadata": {},
   "outputs": [],
   "source": [
    "from csp import *\n",
    "\n",
    "def quadrado_latino(n=3, initial={}) -> CSP:\n",
    "    \"\"\"\n",
    "    Pode receber parametros ou não.\n",
    "    Deve devolver um CSP, à semelhança dos guiões das aulas PL.\n",
    "    Comente o código.\n",
    "    \"\"\"\n",
    "    variaveis = [(i,j) for i in range(0,n) for j in range(0,n)]\n",
    "\n",
    "    conjunto = [i for i in range(1,n+1)]\n",
    "    \n",
    "    dominios = initial\n",
    "\n",
    "    # Diferenca dos dois conjuntos vai resultar nas variaveis nao preenchidas\n",
    "    for item in set(variaveis - initial.keys()):\n",
    "        dominios[item] = conjunto\n",
    "    \n",
    "    condicao_vizinhanca = lambda x,y : (x[0] == y[0] and x[1] != y[1]) or (x[0] != y[0] and x[1] == y[1])\n",
    "    \n",
    "    vizinhos = {var : list(filter(lambda x: condicao_vizinhanca(x,var), variaveis)) for var in variaveis}\n",
    "\n",
    "    def restricoes(X, a, Y, b):\n",
    "        if Y in vizinhos[X]:\n",
    "            return a != b\n",
    "        return True\n",
    "        \n",
    "    return CSP(variaveis, dominios, vizinhos, restricoes)"
   ]
  },
  {
   "cell_type": "markdown",
   "id": "f46b1688",
   "metadata": {},
   "source": [
    "## Criação do problema do quadrado latino simples\n",
    "\n",
    "Mostrem que o código está a funcionar, construindo um problema de quadrado latino *4x4*, imprimindo as variáveis, domínios iniciais, e vizinhos. Adicione os comentários necessários. Mostre como podemos criar um puzzle com quadrados já preenchidos, e qual o impacto que isso tem nas variáveis, domínios iniciais, e vizinhos."
   ]
  },
  {
   "cell_type": "code",
   "execution_count": 38,
   "id": "0b95b771",
   "metadata": {
    "pycharm": {
     "name": "#%%\n"
    }
   },
   "outputs": [
    {
     "name": "stdout",
     "output_type": "stream",
     "text": [
      "Variáveis =  [(0, 0), (1, 0), (2, 0), (3, 0), (0, 1), (1, 1), (2, 1), (3, 1), (0, 2), (1, 2), (2, 2), (3, 2), (0, 3), (1, 3), (2, 3), (3, 3)]\n",
      "Domínios =  {(0, 1): [1, 2, 3, 4], (1, 2): [1, 2, 3, 4], (2, 1): [1, 2, 3, 4], (3, 1): [1, 2, 3, 4], (0, 2): [1, 2, 3, 4], (2, 2): [1, 2, 3, 4], (1, 0): [1, 2, 3, 4], (3, 2): [1, 2, 3, 4], (1, 3): [1, 2, 3, 4], (0, 0): [1, 2, 3, 4], (1, 1): [1, 2, 3, 4], (0, 3): [1, 2, 3, 4], (2, 0): [1, 2, 3, 4], (3, 0): [1, 2, 3, 4], (2, 3): [1, 2, 3, 4], (3, 3): [1, 2, 3, 4]}\n",
      "Vizinhos =  {(0, 0): [(1, 0), (2, 0), (3, 0), (0, 1), (0, 2), (0, 3)], (1, 0): [(0, 0), (2, 0), (3, 0), (1, 1), (1, 2), (1, 3)], (2, 0): [(0, 0), (1, 0), (3, 0), (2, 1), (2, 2), (2, 3)], (3, 0): [(0, 0), (1, 0), (2, 0), (3, 1), (3, 2), (3, 3)], (0, 1): [(0, 0), (1, 1), (2, 1), (3, 1), (0, 2), (0, 3)], (1, 1): [(1, 0), (0, 1), (2, 1), (3, 1), (1, 2), (1, 3)], (2, 1): [(2, 0), (0, 1), (1, 1), (3, 1), (2, 2), (2, 3)], (3, 1): [(3, 0), (0, 1), (1, 1), (2, 1), (3, 2), (3, 3)], (0, 2): [(0, 0), (0, 1), (1, 2), (2, 2), (3, 2), (0, 3)], (1, 2): [(1, 0), (1, 1), (0, 2), (2, 2), (3, 2), (1, 3)], (2, 2): [(2, 0), (2, 1), (0, 2), (1, 2), (3, 2), (2, 3)], (3, 2): [(3, 0), (3, 1), (0, 2), (1, 2), (2, 2), (3, 3)], (0, 3): [(0, 0), (0, 1), (0, 2), (1, 3), (2, 3), (3, 3)], (1, 3): [(1, 0), (1, 1), (1, 2), (0, 3), (2, 3), (3, 3)], (2, 3): [(2, 0), (2, 1), (2, 2), (0, 3), (1, 3), (3, 3)], (3, 3): [(3, 0), (3, 1), (3, 2), (0, 3), (1, 3), (2, 3)]}\n"
     ]
    }
   ],
   "source": [
    "p2 = quadrado_latino(4)\n",
    "print(\"Variáveis = \", p2.variables)\n",
    "print(\"Domínios = \", p2.domains)\n",
    "print(\"Vizinhos = \", p2.neighbors)"
   ]
  },
  {
   "cell_type": "markdown",
   "metadata": {
    "collapsed": false,
    "pycharm": {
     "name": "#%% md\n"
    }
   },
   "source": [
    "Para criar um puzzle com quadrados já preenchidos, alteramos a função de formulação do problema, fazendo com que esta agora receba também um dicionário com os quadrados já preenchidos.\n",
    "\n",
    "O facto de o quadrado ser semi preenchido apenas vai afetar os dominios iniciais, fazendo com que o dominio inicial das variaveis ja com valores atribuidos seja reduzido para essas.\n"
   ]
  },
  {
   "cell_type": "code",
   "execution_count": 39,
   "metadata": {
    "collapsed": false,
    "pycharm": {
     "name": "#%%\n"
    }
   },
   "outputs": [
    {
     "name": "stdout",
     "output_type": "stream",
     "text": [
      "Variáveis =  [(0, 0), (1, 0), (2, 0), (0, 1), (1, 1), (2, 1), (0, 2), (1, 2), (2, 2)]\n",
      "Domínios =  {(0, 0): [1], (1, 1): [3], (2, 2): [2], (0, 1): [1, 2, 3], (0, 2): [1, 2, 3], (1, 2): [1, 2, 3], (2, 1): [1, 2, 3], (1, 0): [1, 2, 3], (2, 0): [1, 2, 3]}\n",
      "Vizinhos =  {(0, 0): [(1, 0), (2, 0), (0, 1), (0, 2)], (1, 0): [(0, 0), (2, 0), (1, 1), (1, 2)], (2, 0): [(0, 0), (1, 0), (2, 1), (2, 2)], (0, 1): [(0, 0), (1, 1), (2, 1), (0, 2)], (1, 1): [(1, 0), (0, 1), (2, 1), (1, 2)], (2, 1): [(2, 0), (0, 1), (1, 1), (2, 2)], (0, 2): [(0, 0), (0, 1), (1, 2), (2, 2)], (1, 2): [(1, 0), (1, 1), (0, 2), (2, 2)], (2, 2): [(2, 0), (2, 1), (0, 2), (1, 2)]}\n",
      "{(0, 0): 1, (1, 0): 2, (2, 0): 3, (0, 1): 2, (1, 1): 3, (2, 1): 1, (0, 2): 3, (1, 2): 1, (2, 2): 2}\n"
     ]
    }
   ],
   "source": [
    "preenchido = {(0,0): [1], (1,1):[3], (2,2):[2]}\n",
    "\n",
    "pSP = quadrado_latino(3, preenchido)\n",
    "print(\"Variáveis = \", pSP.variables)\n",
    "print(\"Domínios = \", pSP.domains)\n",
    "print(\"Vizinhos = \", pSP.neighbors)\n",
    "\n",
    "r = backtracking_search(pSP)\n",
    "print(r)"
   ]
  },
  {
   "cell_type": "markdown",
   "metadata": {},
   "source": [
    "Resolva o problema com o backtracking sem inferencia, com inferencia, e com uma heurística."
   ]
  },
  {
   "cell_type": "code",
   "execution_count": 40,
   "metadata": {
    "collapsed": false,
    "pycharm": {
     "name": "#%%\n"
    }
   },
   "outputs": [],
   "source": [
    "import timeit\n",
    "tempos = {}\n",
    "solucoes = {}\n",
    "n = 3"
   ]
  },
  {
   "cell_type": "code",
   "execution_count": 41,
   "metadata": {
    "collapsed": false,
    "pycharm": {
     "name": "#%%\n"
    }
   },
   "outputs": [
    {
     "name": "stdout",
     "output_type": "stream",
     "text": [
      "Time:  0.00027939999927184545\n",
      "Assignment (QuadradoLatinoSemInferência) =  {(0, 0): 1, (1, 0): 2, (2, 0): 3, (0, 1): 2, (1, 1): 1, (2, 1): 4, (0, 2): 3, (1, 2): 4, (2, 2): 1}\n"
     ]
    }
   ],
   "source": [
    "QuadradoLatinoSemInferência = quadrado_latino(n)\n",
    "start = timeit.default_timer()\n",
    "r = backtracking_search(QuadradoLatinoSemInferência)\n",
    "stop = timeit.default_timer()\n",
    "print('Time: ', stop - start)\n",
    "print('Assignment (QuadradoLatinoSemInferência) = ',r)\n",
    "tempos['QuadradoLatinoSemInferência'] = stop - start\n",
    "solucoes['QuadradoLatinoSemInferência'] = r"
   ]
  },
  {
   "cell_type": "code",
   "execution_count": 42,
   "metadata": {
    "collapsed": false,
    "pycharm": {
     "name": "#%%\n"
    }
   },
   "outputs": [
    {
     "name": "stdout",
     "output_type": "stream",
     "text": [
      "Time:  0.00030280000100901816\n",
      "Assignment (QuadradoLatinoComInferência_FRWDchecking) =  {(0, 0): 1, (1, 0): 2, (2, 0): 3, (0, 1): 2, (1, 1): 1, (2, 1): 4, (0, 2): 3, (1, 2): 4, (2, 2): 1}\n"
     ]
    }
   ],
   "source": [
    "QuadradoLatinoComInferência_FRWDchecking = quadrado_latino(n)\n",
    "start = timeit.default_timer()\n",
    "r = backtracking_search(QuadradoLatinoComInferência_FRWDchecking, inference=forward_checking)\n",
    "stop = timeit.default_timer()\n",
    "print('Time: ', stop - start)\n",
    "print('Assignment (QuadradoLatinoComInferência_FRWDchecking) = ',r)\n",
    "tempos['QuadradoLatinoComInferência_FRWDchecking'] = stop - start\n",
    "solucoes['QuadradoLatinoComInferência_FRWDchecking'] = r"
   ]
  },
  {
   "cell_type": "code",
   "execution_count": 43,
   "metadata": {
    "collapsed": false,
    "pycharm": {
     "name": "#%%\n"
    }
   },
   "outputs": [
    {
     "name": "stdout",
     "output_type": "stream",
     "text": [
      "Time:  0.0005563999984588008\n",
      "Assignment (QuadradoLatinoComAC3) =  {(0, 0): 1, (1, 0): 2, (2, 0): 3, (0, 1): 2, (1, 1): 1, (2, 1): 4, (0, 2): 3, (1, 2): 4, (2, 2): 1}\n"
     ]
    }
   ],
   "source": [
    "QuadradoLatinoComAC3 = quadrado_latino(n)\n",
    "start = timeit.default_timer()\n",
    "p_AC3 = AC3(QuadradoLatinoComAC3)\n",
    "r = backtracking_search(p_AC3)\n",
    "stop = timeit.default_timer()\n",
    "print('Time: ', stop - start)\n",
    "print('Assignment (QuadradoLatinoComAC3) = ',r)\n",
    "tempos['QuadradoLatinoComAC3'] = stop - start\n",
    "solucoes['QuadradoLatinoComAC3'] = r"
   ]
  },
  {
   "cell_type": "code",
   "execution_count": 44,
   "metadata": {
    "collapsed": false,
    "pycharm": {
     "name": "#%%\n"
    }
   },
   "outputs": [
    {
     "name": "stdout",
     "output_type": "stream",
     "text": [
      "Time:  0.0006183000004966743\n",
      "Assignment (QuadradoLatinoComInferência_MAC) =  {(0, 0): 1, (1, 0): 2, (2, 0): 3, (0, 1): 2, (1, 1): 1, (2, 1): 4, (0, 2): 3, (1, 2): 4, (2, 2): 1}\n"
     ]
    }
   ],
   "source": [
    "QuadradoLatinoComInferência_MAC = quadrado_latino(n)\n",
    "start = timeit.default_timer()\n",
    "r = backtracking_search(QuadradoLatinoComInferência_MAC, inference=mac)\n",
    "stop = timeit.default_timer()\n",
    "print('Time: ', stop - start)\n",
    "print('Assignment (QuadradoLatinoComInferência_MAC) = ',r)\n",
    "tempos['QuadradoLatinoComInferência_MAC'] = stop - start\n",
    "solucoes['QuadradoLatinoComInferência_MAC'] = r"
   ]
  },
  {
   "cell_type": "code",
   "execution_count": 45,
   "metadata": {
    "collapsed": false,
    "pycharm": {
     "name": "#%%\n"
    }
   },
   "outputs": [
    {
     "name": "stdout",
     "output_type": "stream",
     "text": [
      "Time:  0.0008835999997245381\n",
      "Assignment (QuadradoLatinoComAC3eInferência_MAC) =  {(0, 0): 1, (1, 0): 2, (2, 0): 3, (0, 1): 2, (1, 1): 1, (2, 1): 4, (0, 2): 3, (1, 2): 4, (2, 2): 1}\n"
     ]
    }
   ],
   "source": [
    "QuadradoLatinoComAC3eInferência_MAC = quadrado_latino(n)\n",
    "start = timeit.default_timer()\n",
    "p_AC3 = AC3(QuadradoLatinoComAC3eInferência_MAC)\n",
    "r = backtracking_search(p_AC3, inference=mac)\n",
    "stop = timeit.default_timer()\n",
    "print('Time: ', stop - start)\n",
    "print('Assignment (QuadradoLatinoComAC3eInferência_MAC) = ',r)\n",
    "tempos['QuadradoLatinoComAC3eInferência_MAC'] = stop - start\n",
    "solucoes['QuadradoLatinoComAC3eInferência_MAC'] = r"
   ]
  },
  {
   "cell_type": "code",
   "execution_count": 46,
   "metadata": {
    "collapsed": false,
    "pycharm": {
     "name": "#%%\n"
    }
   },
   "outputs": [
    {
     "name": "stdout",
     "output_type": "stream",
     "text": [
      "Time:  0.00048299999980372377\n",
      "Assignment (QuadradoLatinoComHeuristica) =  {(0, 2): 1, (1, 2): 2, (1, 0): 1, (2, 2): 3, (0, 1): 2, (2, 1): 1, (0, 0): 3, (1, 1): 3, (2, 0): 2}\n"
     ]
    }
   ],
   "source": [
    "QuadradoLatinoComHeuristica = quadrado_latino(n)\n",
    "start = timeit.default_timer()\n",
    "r = backtracking_search(QuadradoLatinoComHeuristica, select_unassigned_variable = mrv)\n",
    "stop = timeit.default_timer()\n",
    "print('Time: ', stop - start)\n",
    "print('Assignment (QuadradoLatinoComHeuristica) = ',r)\n",
    "tempos['QuadradoLatinoComHeuristica'] = stop - start\n",
    "solucoes['QuadradoLatinoComHeuristica'] = r"
   ]
  },
  {
   "cell_type": "code",
   "execution_count": 47,
   "metadata": {
    "collapsed": false,
    "pycharm": {
     "name": "#%%\n"
    }
   },
   "outputs": [
    {
     "name": "stdout",
     "output_type": "stream",
     "text": [
      "Time:  0.0005094999996799743\n",
      "Assignment (QuadradoLatinoComHeuristicaComInferencia) =  {(1, 0): 1, (1, 2): 2, (1, 1): 3, (2, 2): 1, (0, 2): 3, (2, 1): 2, (0, 1): 1, (0, 0): 2, (2, 0): 3}\n"
     ]
    }
   ],
   "source": [
    "QuadradoLatinoComHeuristicaComInferencia = quadrado_latino(n)\n",
    "start = timeit.default_timer()\n",
    "r = backtracking_search(QuadradoLatinoComHeuristicaComInferencia, select_unassigned_variable = mrv, inference=forward_checking)\n",
    "stop = timeit.default_timer()\n",
    "print('Time: ', stop - start)\n",
    "print('Assignment (QuadradoLatinoComHeuristicaComInferencia) = ',r)\n",
    "tempos['QuadradoLatinoComHeuristicaComInferencia'] = stop - start\n",
    "solucoes['QuadradoLatinoComHeuristicaComInferencia'] = r"
   ]
  },
  {
   "cell_type": "code",
   "execution_count": 48,
   "metadata": {
    "collapsed": false,
    "pycharm": {
     "name": "#%%\n"
    }
   },
   "outputs": [
    {
     "data": {
      "text/html": [
       "<div>\n",
       "<style scoped>\n",
       "    .dataframe tbody tr th:only-of-type {\n",
       "        vertical-align: middle;\n",
       "    }\n",
       "\n",
       "    .dataframe tbody tr th {\n",
       "        vertical-align: top;\n",
       "    }\n",
       "\n",
       "    .dataframe thead th {\n",
       "        text-align: right;\n",
       "    }\n",
       "</style>\n",
       "<table border=\"1\" class=\"dataframe\">\n",
       "  <thead>\n",
       "    <tr style=\"text-align: right;\">\n",
       "      <th></th>\n",
       "      <th>3</th>\n",
       "    </tr>\n",
       "  </thead>\n",
       "  <tbody>\n",
       "    <tr>\n",
       "      <th>QuadradoLatinoSemInferência</th>\n",
       "      <td>0.000279</td>\n",
       "    </tr>\n",
       "    <tr>\n",
       "      <th>QuadradoLatinoComInferência_FRWDchecking</th>\n",
       "      <td>0.000303</td>\n",
       "    </tr>\n",
       "    <tr>\n",
       "      <th>QuadradoLatinoComHeuristica</th>\n",
       "      <td>0.000483</td>\n",
       "    </tr>\n",
       "    <tr>\n",
       "      <th>QuadradoLatinoComHeuristicaComInferencia</th>\n",
       "      <td>0.000509</td>\n",
       "    </tr>\n",
       "    <tr>\n",
       "      <th>QuadradoLatinoComAC3</th>\n",
       "      <td>0.000556</td>\n",
       "    </tr>\n",
       "    <tr>\n",
       "      <th>QuadradoLatinoComInferência_MAC</th>\n",
       "      <td>0.000618</td>\n",
       "    </tr>\n",
       "    <tr>\n",
       "      <th>QuadradoLatinoComAC3eInferência_MAC</th>\n",
       "      <td>0.000884</td>\n",
       "    </tr>\n",
       "  </tbody>\n",
       "</table>\n",
       "</div>"
      ],
      "text/plain": [
       "                                                 3\n",
       "QuadradoLatinoSemInferência               0.000279\n",
       "QuadradoLatinoComInferência_FRWDchecking  0.000303\n",
       "QuadradoLatinoComHeuristica               0.000483\n",
       "QuadradoLatinoComHeuristicaComInferencia  0.000509\n",
       "QuadradoLatinoComAC3                      0.000556\n",
       "QuadradoLatinoComInferência_MAC           0.000618\n",
       "QuadradoLatinoComAC3eInferência_MAC       0.000884"
      ]
     },
     "execution_count": 48,
     "metadata": {},
     "output_type": "execute_result"
    }
   ],
   "source": [
    "import pandas as pd\n",
    "temposSorted = dict(sorted(tempos.items(), key=lambda x:x[1]))\n",
    "pd.DataFrame(temposSorted.values(),index = temposSorted.keys(), columns= [n])\n"
   ]
  },
  {
   "cell_type": "markdown",
   "metadata": {
    "collapsed": false
   },
   "source": [
    "## Big Duvidas AQUI\n",
    "\n",
    "Com a tabela acima é possível concluir que:\n",
    "- o algoritmo que demora menos tempo a encontrar uma solução é a **procura com Retrocesso usando a inferência Forward Checking**, demora apenas 0.00046 segundos;\n",
    "- a solução do problema utilizando a procura com retrocesso sem inferências nem heurísticas demora mais tempo (0.000991 segundos) que a procura com retrocesso depois de pré-processamento com recurso ao algoritmo **AC3** (0.000890 segundos);\n",
    "- a procura com retrocesso usando Inferência e Heuristica (0.000997 segundos) é mais lenta que a procura sem (0.000991 segundos), sendo esta diferença na ordem dos 10 microsegundos;\n",
    "- independentemente da realização de um pré-processamento com AC3, a procura com inferência em que se mantém a consistência (mac), demora mais tempo, diferença na ordem dos 10 milisegundos;"
   ]
  },
  {
   "cell_type": "code",
   "execution_count": 49,
   "metadata": {
    "collapsed": false,
    "pycharm": {
     "name": "#%%\n"
    }
   },
   "outputs": [
    {
     "data": {
      "text/html": [
       "<div>\n",
       "<style scoped>\n",
       "    .dataframe tbody tr th:only-of-type {\n",
       "        vertical-align: middle;\n",
       "    }\n",
       "\n",
       "    .dataframe tbody tr th {\n",
       "        vertical-align: top;\n",
       "    }\n",
       "\n",
       "    .dataframe thead tr th {\n",
       "        text-align: left;\n",
       "    }\n",
       "</style>\n",
       "<table border=\"1\" class=\"dataframe\">\n",
       "  <thead>\n",
       "    <tr>\n",
       "      <th></th>\n",
       "      <th>0</th>\n",
       "      <th>1</th>\n",
       "      <th>2</th>\n",
       "      <th>0</th>\n",
       "      <th>1</th>\n",
       "      <th>2</th>\n",
       "      <th>0</th>\n",
       "      <th>1</th>\n",
       "      <th>2</th>\n",
       "    </tr>\n",
       "    <tr>\n",
       "      <th></th>\n",
       "      <th>0</th>\n",
       "      <th>0</th>\n",
       "      <th>0</th>\n",
       "      <th>1</th>\n",
       "      <th>1</th>\n",
       "      <th>1</th>\n",
       "      <th>2</th>\n",
       "      <th>2</th>\n",
       "      <th>2</th>\n",
       "    </tr>\n",
       "  </thead>\n",
       "  <tbody>\n",
       "    <tr>\n",
       "      <th>QuadradoLatinoSemInferência</th>\n",
       "      <td>1</td>\n",
       "      <td>2</td>\n",
       "      <td>3</td>\n",
       "      <td>2</td>\n",
       "      <td>1</td>\n",
       "      <td>4</td>\n",
       "      <td>3</td>\n",
       "      <td>4</td>\n",
       "      <td>1</td>\n",
       "    </tr>\n",
       "    <tr>\n",
       "      <th>QuadradoLatinoComInferência_FRWDchecking</th>\n",
       "      <td>1</td>\n",
       "      <td>2</td>\n",
       "      <td>3</td>\n",
       "      <td>2</td>\n",
       "      <td>1</td>\n",
       "      <td>4</td>\n",
       "      <td>3</td>\n",
       "      <td>4</td>\n",
       "      <td>1</td>\n",
       "    </tr>\n",
       "    <tr>\n",
       "      <th>QuadradoLatinoComAC3</th>\n",
       "      <td>1</td>\n",
       "      <td>2</td>\n",
       "      <td>3</td>\n",
       "      <td>2</td>\n",
       "      <td>1</td>\n",
       "      <td>4</td>\n",
       "      <td>3</td>\n",
       "      <td>4</td>\n",
       "      <td>1</td>\n",
       "    </tr>\n",
       "    <tr>\n",
       "      <th>QuadradoLatinoComInferência_MAC</th>\n",
       "      <td>1</td>\n",
       "      <td>2</td>\n",
       "      <td>3</td>\n",
       "      <td>2</td>\n",
       "      <td>1</td>\n",
       "      <td>4</td>\n",
       "      <td>3</td>\n",
       "      <td>4</td>\n",
       "      <td>1</td>\n",
       "    </tr>\n",
       "    <tr>\n",
       "      <th>QuadradoLatinoComAC3eInferência_MAC</th>\n",
       "      <td>1</td>\n",
       "      <td>2</td>\n",
       "      <td>3</td>\n",
       "      <td>2</td>\n",
       "      <td>1</td>\n",
       "      <td>4</td>\n",
       "      <td>3</td>\n",
       "      <td>4</td>\n",
       "      <td>1</td>\n",
       "    </tr>\n",
       "    <tr>\n",
       "      <th>QuadradoLatinoComHeuristica</th>\n",
       "      <td>3</td>\n",
       "      <td>1</td>\n",
       "      <td>2</td>\n",
       "      <td>2</td>\n",
       "      <td>3</td>\n",
       "      <td>1</td>\n",
       "      <td>1</td>\n",
       "      <td>2</td>\n",
       "      <td>3</td>\n",
       "    </tr>\n",
       "    <tr>\n",
       "      <th>QuadradoLatinoComHeuristicaComInferencia</th>\n",
       "      <td>2</td>\n",
       "      <td>1</td>\n",
       "      <td>3</td>\n",
       "      <td>1</td>\n",
       "      <td>3</td>\n",
       "      <td>2</td>\n",
       "      <td>3</td>\n",
       "      <td>2</td>\n",
       "      <td>1</td>\n",
       "    </tr>\n",
       "  </tbody>\n",
       "</table>\n",
       "</div>"
      ],
      "text/plain": [
       "                                          0  1  2  0  1  2  0  1  2\n",
       "                                          0  0  0  1  1  1  2  2  2\n",
       "QuadradoLatinoSemInferência               1  2  3  2  1  4  3  4  1\n",
       "QuadradoLatinoComInferência_FRWDchecking  1  2  3  2  1  4  3  4  1\n",
       "QuadradoLatinoComAC3                      1  2  3  2  1  4  3  4  1\n",
       "QuadradoLatinoComInferência_MAC           1  2  3  2  1  4  3  4  1\n",
       "QuadradoLatinoComAC3eInferência_MAC       1  2  3  2  1  4  3  4  1\n",
       "QuadradoLatinoComHeuristica               3  1  2  2  3  1  1  2  3\n",
       "QuadradoLatinoComHeuristicaComInferencia  2  1  3  1  3  2  3  2  1"
      ]
     },
     "execution_count": 49,
     "metadata": {},
     "output_type": "execute_result"
    }
   ],
   "source": [
    "sols = pd.DataFrame(solucoes).T\n",
    "sols"
   ]
  },
  {
   "cell_type": "code",
   "execution_count": 50,
   "metadata": {
    "collapsed": false,
    "pycharm": {
     "name": "#%%\n"
    }
   },
   "outputs": [
    {
     "data": {
      "text/html": [
       "<div>\n",
       "<style scoped>\n",
       "    .dataframe tbody tr th:only-of-type {\n",
       "        vertical-align: middle;\n",
       "    }\n",
       "\n",
       "    .dataframe tbody tr th {\n",
       "        vertical-align: top;\n",
       "    }\n",
       "\n",
       "    .dataframe thead tr th {\n",
       "        text-align: left;\n",
       "    }\n",
       "</style>\n",
       "<table border=\"1\" class=\"dataframe\">\n",
       "  <thead>\n",
       "    <tr>\n",
       "      <th></th>\n",
       "      <th>0</th>\n",
       "      <th>1</th>\n",
       "      <th>2</th>\n",
       "      <th>0</th>\n",
       "      <th>1</th>\n",
       "      <th>2</th>\n",
       "      <th>0</th>\n",
       "      <th>1</th>\n",
       "      <th>2</th>\n",
       "    </tr>\n",
       "    <tr>\n",
       "      <th></th>\n",
       "      <th>0</th>\n",
       "      <th>0</th>\n",
       "      <th>0</th>\n",
       "      <th>1</th>\n",
       "      <th>1</th>\n",
       "      <th>1</th>\n",
       "      <th>2</th>\n",
       "      <th>2</th>\n",
       "      <th>2</th>\n",
       "    </tr>\n",
       "  </thead>\n",
       "  <tbody>\n",
       "    <tr>\n",
       "      <th>QuadradoLatinoSemInferência</th>\n",
       "      <td>1</td>\n",
       "      <td>2</td>\n",
       "      <td>3</td>\n",
       "      <td>2</td>\n",
       "      <td>1</td>\n",
       "      <td>4</td>\n",
       "      <td>3</td>\n",
       "      <td>4</td>\n",
       "      <td>1</td>\n",
       "    </tr>\n",
       "    <tr>\n",
       "      <th>QuadradoLatinoComHeuristica</th>\n",
       "      <td>3</td>\n",
       "      <td>1</td>\n",
       "      <td>2</td>\n",
       "      <td>2</td>\n",
       "      <td>3</td>\n",
       "      <td>1</td>\n",
       "      <td>1</td>\n",
       "      <td>2</td>\n",
       "      <td>3</td>\n",
       "    </tr>\n",
       "    <tr>\n",
       "      <th>QuadradoLatinoComHeuristicaComInferencia</th>\n",
       "      <td>2</td>\n",
       "      <td>1</td>\n",
       "      <td>3</td>\n",
       "      <td>1</td>\n",
       "      <td>3</td>\n",
       "      <td>2</td>\n",
       "      <td>3</td>\n",
       "      <td>2</td>\n",
       "      <td>1</td>\n",
       "    </tr>\n",
       "  </tbody>\n",
       "</table>\n",
       "</div>"
      ],
      "text/plain": [
       "                                          0  1  2  0  1  2  0  1  2\n",
       "                                          0  0  0  1  1  1  2  2  2\n",
       "QuadradoLatinoSemInferência               1  2  3  2  1  4  3  4  1\n",
       "QuadradoLatinoComHeuristica               3  1  2  2  3  1  1  2  3\n",
       "QuadradoLatinoComHeuristicaComInferencia  2  1  3  1  3  2  3  2  1"
      ]
     },
     "execution_count": 50,
     "metadata": {},
     "output_type": "execute_result"
    }
   ],
   "source": [
    "sols.drop_duplicates()"
   ]
  },
  {
   "cell_type": "markdown",
   "metadata": {
    "collapsed": false
   },
   "source": [
    "## Visualização do problema"
   ]
  },
  {
   "cell_type": "code",
   "execution_count": 51,
   "metadata": {},
   "outputs": [],
   "source": [
    "def visualizacao_quadrado_latino(n, problema_csp, solucao):\n",
    "    \n",
    "    estado_inicial = [[0 for y in range(n)] for x in range(n)]\n",
    "    for var, dom in problema_csp.domains.items():\n",
    "        if len(dom) == 1:\n",
    "            estado_inicial[var[1]][var[0]] = dom[0]\n",
    "        \n",
    "    estado_final = [[0 for y in range(n)] for x in range(n)]\n",
    "    for var, valor in solucao.items():\n",
    "        estado_final[var[1]][var[0]] = valor\n",
    "    \n",
    "    board_inicial = \"\"\n",
    "    board_final = \"\"\n",
    "    for y in range(n):\n",
    "        for x in range(n):\n",
    "            board_inicial += str(estado_inicial[y][x]) + \" \"\n",
    "            board_final += str(estado_final[y][x]) + \" \"\n",
    "        board_inicial += \"\\n\"\n",
    "        board_final += \"\\n\"\n",
    "    \n",
    "    print(\"Estado Inicial:\")\n",
    "    print(board_inicial)\n",
    "    print(\"Solução:\")\n",
    "    print(board_final)"
   ]
  },
  {
   "cell_type": "code",
   "execution_count": 52,
   "metadata": {
    "collapsed": false,
    "pycharm": {
     "name": "#%%\n"
    }
   },
   "outputs": [
    {
     "name": "stdout",
     "output_type": "stream",
     "text": [
      "Estado Inicial:\n",
      "0 0 0 \n",
      "0 0 0 \n",
      "0 0 0 \n",
      "\n",
      "Solução:\n",
      "1 2 3 \n",
      "2 1 4 \n",
      "3 4 1 \n",
      "\n"
     ]
    }
   ],
   "source": [
    "visualizacao_quadrado_latino(3, quadrado_latino(3), backtracking_search(quadrado_latino(3)))"
   ]
  },
  {
   "cell_type": "code",
   "execution_count": 53,
   "metadata": {
    "collapsed": false,
    "pycharm": {
     "name": "#%%\n"
    }
   },
   "outputs": [
    {
     "name": "stdout",
     "output_type": "stream",
     "text": [
      "Variáveis =  [(0, 0), (1, 0), (2, 0), (0, 1), (1, 1), (2, 1), (0, 2), (1, 2), (2, 2)]\n",
      "Domínios =  {(0, 1): [1, 2, 3, 4], (1, 2): [1, 2, 3, 4], (2, 1): [1, 2, 3, 4], (3, 1): [1, 2, 3, 4], (0, 2): [1, 2, 3, 4], (2, 2): [1, 2, 3, 4], (1, 0): [1, 2, 3, 4], (3, 2): [1, 2, 3, 4], (1, 3): [1, 2, 3, 4], (0, 0): [1, 2, 3, 4], (1, 1): [1, 2, 3, 4], (0, 3): [1, 2, 3, 4], (2, 0): [1, 2, 3, 4], (3, 0): [1, 2, 3, 4], (2, 3): [1, 2, 3, 4], (3, 3): [1, 2, 3, 4]}\n",
      "Vizinhos =  {(0, 0): [(1, 0), (2, 0), (0, 1), (0, 2)], (1, 0): [(0, 0), (2, 0), (1, 1), (1, 2)], (2, 0): [(0, 0), (1, 0), (2, 1), (2, 2)], (0, 1): [(0, 0), (1, 1), (2, 1), (0, 2)], (1, 1): [(1, 0), (0, 1), (2, 1), (1, 2)], (2, 1): [(2, 0), (0, 1), (1, 1), (2, 2)], (0, 2): [(0, 0), (0, 1), (1, 2), (2, 2)], (1, 2): [(1, 0), (1, 1), (0, 2), (2, 2)], (2, 2): [(2, 0), (2, 1), (0, 2), (1, 2)]}\n"
     ]
    }
   ],
   "source": [
    "p3 = quadrado_latino(3)\n",
    "print(\"Variáveis = \", p3.variables)\n",
    "print(\"Domínios = \", p3.domains)\n",
    "print(\"Vizinhos = \", p3.neighbors)"
   ]
  },
  {
   "cell_type": "markdown",
   "metadata": {
    "collapsed": false
   },
   "source": [
    "## Criação do problema Futoshiki *5x5*\n",
    "\n",
    "Mostrem que o código está a funcionar, construindo um problema de Futoshiki *5x5*, imprimindo as variáveis, domínios iniciais, e vizinhos. Adicione os comentários necessários. Utilize o [link](https://www.futoshiki.org/) para gerar puzzles e validar a implementação."
   ]
  },
  {
   "cell_type": "code",
   "execution_count": 54,
   "metadata": {
    "collapsed": false,
    "pycharm": {
     "name": "#%%\n"
    }
   },
   "outputs": [],
   "source": [
    "def maior(x,y):\n",
    "    return x > y\n",
    "\n",
    "def menor(x,y):\n",
    "    return x < y\n",
    "\n",
    "def futoshiki(n=3, initial={}, desigualdades={}):\n",
    "    \"\"\"\n",
    "    Pode receber parametros ou não.\n",
    "    Deve devolver um CSP, à semelhança dos guiões das aulas PL.\n",
    "    Comente o código.\n",
    "    \"\"\"\n",
    "    variaveis = [(i,j) for j in range(0,n) for i in range(0,n)]\n",
    "\n",
    "    conjunto = [i for i in range(1,n+1)]\n",
    "    \n",
    "    dominios = initial\n",
    "\n",
    "    # Diferenca dos dois conjuntos vai resultar nas variaveis nao preenchidas\n",
    "    for item in set(variaveis - initial.keys()):\n",
    "        dominios[item] = conjunto\n",
    "    \n",
    "    condicao_vizinhanca = lambda x,y : ((x[0] == y[0] and x[1] != y[1]) or (x[0] != y[0] and x[1] == y[1]))\n",
    "    \n",
    "    vizinhos = {var : list(filter(lambda x: condicao_vizinhanca(x,var), variaveis)) for var in variaveis}\n",
    "\n",
    "    def restricoes(X, a, Y, b):\n",
    "        if (X,Y) in desigualdades.keys():\n",
    "            if not desigualdades[(X,Y)](a,b):\n",
    "                return False\n",
    "        if (Y,X) in desigualdades.keys():\n",
    "            if not desigualdades[(Y,X)](b,a):\n",
    "                return False\n",
    "        if Y in vizinhos[X]:\n",
    "            return  a != b\n",
    "        return True\n",
    "\n",
    "    return CSP(variaveis, dominios, vizinhos, restricoes)"
   ]
  },
  {
   "cell_type": "code",
   "execution_count": 55,
   "metadata": {
    "collapsed": false,
    "pycharm": {
     "name": "#%%\n"
    }
   },
   "outputs": [],
   "source": [
    "preenchidos = {(1,3) : [1]}\n",
    "desigualdades = {((1,0),(2,0)) : maior, ((2,0),(3,0)) : maior, ((1,1),(1,0)): maior, ((3,3),(3,2)) : maior}"
   ]
  },
  {
   "cell_type": "code",
   "execution_count": 56,
   "metadata": {
    "collapsed": false,
    "pycharm": {
     "name": "#%%\n"
    }
   },
   "outputs": [
    {
     "name": "stdout",
     "output_type": "stream",
     "text": [
      "Variáveis =  [(0, 0), (1, 0), (2, 0), (3, 0), (0, 1), (1, 1), (2, 1), (3, 1), (0, 2), (1, 2), (2, 2), (3, 2), (0, 3), (1, 3), (2, 3), (3, 3)]\n",
      "Domínios =  {(1, 3): [1], (0, 1): [1, 2, 3, 4], (1, 2): [1, 2, 3, 4], (2, 1): [1, 2, 3, 4], (0, 0): [1, 2, 3, 4], (3, 1): [1, 2, 3, 4], (1, 1): [1, 2, 3, 4], (0, 3): [1, 2, 3, 4], (2, 0): [1, 2, 3, 4], (3, 0): [1, 2, 3, 4], (2, 3): [1, 2, 3, 4], (0, 2): [1, 2, 3, 4], (3, 3): [1, 2, 3, 4], (2, 2): [1, 2, 3, 4], (1, 0): [1, 2, 3, 4], (3, 2): [1, 2, 3, 4]}\n",
      "Vizinhos =  {(0, 0): [(1, 0), (2, 0), (3, 0), (0, 1), (0, 2), (0, 3)], (1, 0): [(0, 0), (2, 0), (3, 0), (1, 1), (1, 2), (1, 3)], (2, 0): [(0, 0), (1, 0), (3, 0), (2, 1), (2, 2), (2, 3)], (3, 0): [(0, 0), (1, 0), (2, 0), (3, 1), (3, 2), (3, 3)], (0, 1): [(0, 0), (1, 1), (2, 1), (3, 1), (0, 2), (0, 3)], (1, 1): [(1, 0), (0, 1), (2, 1), (3, 1), (1, 2), (1, 3)], (2, 1): [(2, 0), (0, 1), (1, 1), (3, 1), (2, 2), (2, 3)], (3, 1): [(3, 0), (0, 1), (1, 1), (2, 1), (3, 2), (3, 3)], (0, 2): [(0, 0), (0, 1), (1, 2), (2, 2), (3, 2), (0, 3)], (1, 2): [(1, 0), (1, 1), (0, 2), (2, 2), (3, 2), (1, 3)], (2, 2): [(2, 0), (2, 1), (0, 2), (1, 2), (3, 2), (2, 3)], (3, 2): [(3, 0), (3, 1), (0, 2), (1, 2), (2, 2), (3, 3)], (0, 3): [(0, 0), (0, 1), (0, 2), (1, 3), (2, 3), (3, 3)], (1, 3): [(1, 0), (1, 1), (1, 2), (0, 3), (2, 3), (3, 3)], (2, 3): [(2, 0), (2, 1), (2, 2), (0, 3), (1, 3), (3, 3)], (3, 3): [(3, 0), (3, 1), (3, 2), (0, 3), (1, 3), (2, 3)]}\n"
     ]
    }
   ],
   "source": [
    "p = futoshiki(4, preenchidos, desigualdades)\n",
    "print(\"Variáveis = \", p.variables)\n",
    "print(\"Domínios = \", p.domains)\n",
    "print(\"Vizinhos = \", p.neighbors)\n",
    "r = backtracking_search(p)"
   ]
  },
  {
   "cell_type": "code",
   "execution_count": 57,
   "metadata": {},
   "outputs": [
    {
     "name": "stdout",
     "output_type": "stream",
     "text": [
      "{(0, 0): 4, (1, 0): 3, (2, 0): 2, (3, 0): 1, (0, 1): 3, (1, 1): 4, (2, 1): 1, (3, 1): 2, (0, 2): 1, (1, 2): 2, (2, 2): 4, (3, 2): 3, (0, 3): 2, (1, 3): 1, (2, 3): 3, (3, 3): 4}\n"
     ]
    }
   ],
   "source": [
    "print(r)"
   ]
  },
  {
   "cell_type": "markdown",
   "metadata": {
    "collapsed": false
   },
   "source": [
    "Resolva o problema com o backtracking sem inferencia, com inferencia, e com uma heurística. Até que dimensão consegue resolver o problema em menos de 1 minuto?"
   ]
  },
  {
   "cell_type": "markdown",
   "metadata": {
    "collapsed": false,
    "pycharm": {
     "name": "#%% md\n"
    }
   },
   "source": [
    "#### Problema Futoshiki *5x5*"
   ]
  },
  {
   "cell_type": "code",
   "execution_count": 58,
   "metadata": {
    "collapsed": false,
    "pycharm": {
     "name": "#%%\n"
    }
   },
   "outputs": [],
   "source": [
    "preenchidos5={(0,4):[2], (3,0):[4]}\n",
    "desigualdades5 = { ((0,0),(0,1)) : maior, ((1,0),(2,0)) : maior,((1,1),(2,1)) : menor , ((1,3),(2,3)) : maior, ((3,1),(3,2)) : menor, ((2,3),(3,3)) : menor, ((3,1),(4,1)) : maior, ((3,2),(4,2)) : menor}\n",
    "futoshiki5 = futoshiki(5, preenchidos5, desigualdades5)"
   ]
  },
  {
   "cell_type": "code",
   "execution_count": 59,
   "metadata": {
    "collapsed": false,
    "pycharm": {
     "name": "#%%\n"
    }
   },
   "outputs": [
    {
     "name": "stdout",
     "output_type": "stream",
     "text": [
      "Variáveis =  [(0, 0), (1, 0), (2, 0), (3, 0), (4, 0), (0, 1), (1, 1), (2, 1), (3, 1), (4, 1), (0, 2), (1, 2), (2, 2), (3, 2), (4, 2), (0, 3), (1, 3), (2, 3), (3, 3), (4, 3), (0, 4), (1, 4), (2, 4), (3, 4), (4, 4)]\n",
      "Domínios =  {(0, 4): [2], (3, 0): [4], (0, 1): [1, 2, 3, 4, 5], (2, 4): [1, 2, 3, 4, 5], (4, 0): [1, 2, 3, 4, 5], (1, 2): [1, 2, 3, 4, 5], (3, 4): [1, 2, 3, 4, 5], (2, 1): [1, 2, 3, 4, 5], (4, 3): [1, 2, 3, 4, 5], (3, 1): [1, 2, 3, 4, 5], (0, 2): [1, 2, 3, 4, 5], (2, 2): [1, 2, 3, 4, 5], (1, 0): [1, 2, 3, 4, 5], (3, 2): [1, 2, 3, 4, 5], (1, 3): [1, 2, 3, 4, 5], (4, 1): [1, 2, 3, 4, 5], (4, 4): [1, 2, 3, 4, 5], (0, 0): [1, 2, 3, 4, 5], (1, 1): [1, 2, 3, 4, 5], (0, 3): [1, 2, 3, 4, 5], (2, 0): [1, 2, 3, 4, 5], (4, 2): [1, 2, 3, 4, 5], (1, 4): [1, 2, 3, 4, 5], (2, 3): [1, 2, 3, 4, 5], (3, 3): [1, 2, 3, 4, 5]}\n",
      "Vizinhos =  {(0, 0): [(1, 0), (2, 0), (3, 0), (4, 0), (0, 1), (0, 2), (0, 3), (0, 4)], (1, 0): [(0, 0), (2, 0), (3, 0), (4, 0), (1, 1), (1, 2), (1, 3), (1, 4)], (2, 0): [(0, 0), (1, 0), (3, 0), (4, 0), (2, 1), (2, 2), (2, 3), (2, 4)], (3, 0): [(0, 0), (1, 0), (2, 0), (4, 0), (3, 1), (3, 2), (3, 3), (3, 4)], (4, 0): [(0, 0), (1, 0), (2, 0), (3, 0), (4, 1), (4, 2), (4, 3), (4, 4)], (0, 1): [(0, 0), (1, 1), (2, 1), (3, 1), (4, 1), (0, 2), (0, 3), (0, 4)], (1, 1): [(1, 0), (0, 1), (2, 1), (3, 1), (4, 1), (1, 2), (1, 3), (1, 4)], (2, 1): [(2, 0), (0, 1), (1, 1), (3, 1), (4, 1), (2, 2), (2, 3), (2, 4)], (3, 1): [(3, 0), (0, 1), (1, 1), (2, 1), (4, 1), (3, 2), (3, 3), (3, 4)], (4, 1): [(4, 0), (0, 1), (1, 1), (2, 1), (3, 1), (4, 2), (4, 3), (4, 4)], (0, 2): [(0, 0), (0, 1), (1, 2), (2, 2), (3, 2), (4, 2), (0, 3), (0, 4)], (1, 2): [(1, 0), (1, 1), (0, 2), (2, 2), (3, 2), (4, 2), (1, 3), (1, 4)], (2, 2): [(2, 0), (2, 1), (0, 2), (1, 2), (3, 2), (4, 2), (2, 3), (2, 4)], (3, 2): [(3, 0), (3, 1), (0, 2), (1, 2), (2, 2), (4, 2), (3, 3), (3, 4)], (4, 2): [(4, 0), (4, 1), (0, 2), (1, 2), (2, 2), (3, 2), (4, 3), (4, 4)], (0, 3): [(0, 0), (0, 1), (0, 2), (1, 3), (2, 3), (3, 3), (4, 3), (0, 4)], (1, 3): [(1, 0), (1, 1), (1, 2), (0, 3), (2, 3), (3, 3), (4, 3), (1, 4)], (2, 3): [(2, 0), (2, 1), (2, 2), (0, 3), (1, 3), (3, 3), (4, 3), (2, 4)], (3, 3): [(3, 0), (3, 1), (3, 2), (0, 3), (1, 3), (2, 3), (4, 3), (3, 4)], (4, 3): [(4, 0), (4, 1), (4, 2), (0, 3), (1, 3), (2, 3), (3, 3), (4, 4)], (0, 4): [(0, 0), (0, 1), (0, 2), (0, 3), (1, 4), (2, 4), (3, 4), (4, 4)], (1, 4): [(1, 0), (1, 1), (1, 2), (1, 3), (0, 4), (2, 4), (3, 4), (4, 4)], (2, 4): [(2, 0), (2, 1), (2, 2), (2, 3), (0, 4), (1, 4), (3, 4), (4, 4)], (3, 4): [(3, 0), (3, 1), (3, 2), (3, 3), (0, 4), (1, 4), (2, 4), (4, 4)], (4, 4): [(4, 0), (4, 1), (4, 2), (4, 3), (0, 4), (1, 4), (2, 4), (3, 4)]}\n"
     ]
    }
   ],
   "source": [
    "print(\"Variáveis = \", futoshiki5.variables)\n",
    "print(\"Domínios = \", futoshiki5.domains)\n",
    "print(\"Vizinhos = \", futoshiki5.neighbors)"
   ]
  },
  {
   "cell_type": "code",
   "execution_count": 60,
   "metadata": {
    "collapsed": false,
    "pycharm": {
     "name": "#%%\n"
    }
   },
   "outputs": [
    {
     "name": "stdout",
     "output_type": "stream",
     "text": [
      "None\n"
     ]
    }
   ],
   "source": [
    "r = backtracking_search(futoshiki5)\n",
    "print(r)"
   ]
  },
  {
   "cell_type": "markdown",
   "metadata": {
    "collapsed": false,
    "pycharm": {
     "name": "#%% md\n"
    }
   },
   "source": [
    "#### Problema Futoshiki *6x6*"
   ]
  },
  {
   "cell_type": "code",
   "execution_count": 61,
   "metadata": {
    "collapsed": false,
    "pycharm": {
     "name": "#%%\n"
    }
   },
   "outputs": [],
   "source": [
    "preenchidos = {(4,3): [1], (5,4): [2]}\n",
    "desigualdades = {((0,0),(1,0)):menor, ((1,0),(1,1)):menor, ((0,2),(1,2)):maior, ((3,0),(3,1)):maior, ((3,2),(3,3)):menor, ((2,4),(3,4)):maior, ((3,3),(3,4)):menor, ((3,0),(4,0)):menor, ((4,0),(4,1)):menor, ((4,1),(4,2)):menor, ((5,0),(5,1)):maior, ((5,1),(5,2)):maior}\n",
    "futoshiki6 = futoshiki(6, preenchidos, desigualdades)"
   ]
  },
  {
   "cell_type": "code",
   "execution_count": 62,
   "metadata": {
    "collapsed": false,
    "pycharm": {
     "name": "#%%\n"
    }
   },
   "outputs": [
    {
     "name": "stdout",
     "output_type": "stream",
     "text": [
      "Variáveis =  [(0, 0), (1, 0), (2, 0), (3, 0), (4, 0), (5, 0), (0, 1), (1, 1), (2, 1), (3, 1), (4, 1), (5, 1), (0, 2), (1, 2), (2, 2), (3, 2), (4, 2), (5, 2), (0, 3), (1, 3), (2, 3), (3, 3), (4, 3), (5, 3), (0, 4), (1, 4), (2, 4), (3, 4), (4, 4), (5, 4), (0, 5), (1, 5), (2, 5), (3, 5), (4, 5), (5, 5)]\n",
      "Domínios =  {(4, 3): [1], (5, 4): [2], (4, 0): [1, 2, 3, 4, 5, 6], (3, 4): [1, 2, 3, 4, 5, 6], (3, 1): [1, 2, 3, 4, 5, 6], (5, 1): [1, 2, 3, 4, 5, 6], (0, 2): [1, 2, 3, 4, 5, 6], (0, 5): [1, 2, 3, 4, 5, 6], (2, 2): [1, 2, 3, 4, 5, 6], (1, 0): [1, 2, 3, 4, 5, 6], (2, 5): [1, 2, 3, 4, 5, 6], (1, 3): [1, 2, 3, 4, 5, 6], (4, 2): [1, 2, 3, 4, 5, 6], (3, 0): [1, 2, 3, 4, 5, 6], (4, 5): [1, 2, 3, 4, 5, 6], (3, 3): [1, 2, 3, 4, 5, 6], (5, 0): [1, 2, 3, 4, 5, 6], (5, 3): [1, 2, 3, 4, 5, 6], (0, 1): [1, 2, 3, 4, 5, 6], (2, 4): [1, 2, 3, 4, 5, 6], (1, 2): [1, 2, 3, 4, 5, 6], (0, 4): [1, 2, 3, 4, 5, 6], (2, 1): [1, 2, 3, 4, 5, 6], (1, 5): [1, 2, 3, 4, 5, 6], (3, 2): [1, 2, 3, 4, 5, 6], (4, 1): [1, 2, 3, 4, 5, 6], (3, 5): [1, 2, 3, 4, 5, 6], (5, 2): [1, 2, 3, 4, 5, 6], (4, 4): [1, 2, 3, 4, 5, 6], (5, 5): [1, 2, 3, 4, 5, 6], (0, 0): [1, 2, 3, 4, 5, 6], (1, 1): [1, 2, 3, 4, 5, 6], (0, 3): [1, 2, 3, 4, 5, 6], (2, 0): [1, 2, 3, 4, 5, 6], (1, 4): [1, 2, 3, 4, 5, 6], (2, 3): [1, 2, 3, 4, 5, 6]}\n",
      "Vizinhos =  {(0, 0): [(1, 0), (2, 0), (3, 0), (4, 0), (5, 0), (0, 1), (0, 2), (0, 3), (0, 4), (0, 5)], (1, 0): [(0, 0), (2, 0), (3, 0), (4, 0), (5, 0), (1, 1), (1, 2), (1, 3), (1, 4), (1, 5)], (2, 0): [(0, 0), (1, 0), (3, 0), (4, 0), (5, 0), (2, 1), (2, 2), (2, 3), (2, 4), (2, 5)], (3, 0): [(0, 0), (1, 0), (2, 0), (4, 0), (5, 0), (3, 1), (3, 2), (3, 3), (3, 4), (3, 5)], (4, 0): [(0, 0), (1, 0), (2, 0), (3, 0), (5, 0), (4, 1), (4, 2), (4, 3), (4, 4), (4, 5)], (5, 0): [(0, 0), (1, 0), (2, 0), (3, 0), (4, 0), (5, 1), (5, 2), (5, 3), (5, 4), (5, 5)], (0, 1): [(0, 0), (1, 1), (2, 1), (3, 1), (4, 1), (5, 1), (0, 2), (0, 3), (0, 4), (0, 5)], (1, 1): [(1, 0), (0, 1), (2, 1), (3, 1), (4, 1), (5, 1), (1, 2), (1, 3), (1, 4), (1, 5)], (2, 1): [(2, 0), (0, 1), (1, 1), (3, 1), (4, 1), (5, 1), (2, 2), (2, 3), (2, 4), (2, 5)], (3, 1): [(3, 0), (0, 1), (1, 1), (2, 1), (4, 1), (5, 1), (3, 2), (3, 3), (3, 4), (3, 5)], (4, 1): [(4, 0), (0, 1), (1, 1), (2, 1), (3, 1), (5, 1), (4, 2), (4, 3), (4, 4), (4, 5)], (5, 1): [(5, 0), (0, 1), (1, 1), (2, 1), (3, 1), (4, 1), (5, 2), (5, 3), (5, 4), (5, 5)], (0, 2): [(0, 0), (0, 1), (1, 2), (2, 2), (3, 2), (4, 2), (5, 2), (0, 3), (0, 4), (0, 5)], (1, 2): [(1, 0), (1, 1), (0, 2), (2, 2), (3, 2), (4, 2), (5, 2), (1, 3), (1, 4), (1, 5)], (2, 2): [(2, 0), (2, 1), (0, 2), (1, 2), (3, 2), (4, 2), (5, 2), (2, 3), (2, 4), (2, 5)], (3, 2): [(3, 0), (3, 1), (0, 2), (1, 2), (2, 2), (4, 2), (5, 2), (3, 3), (3, 4), (3, 5)], (4, 2): [(4, 0), (4, 1), (0, 2), (1, 2), (2, 2), (3, 2), (5, 2), (4, 3), (4, 4), (4, 5)], (5, 2): [(5, 0), (5, 1), (0, 2), (1, 2), (2, 2), (3, 2), (4, 2), (5, 3), (5, 4), (5, 5)], (0, 3): [(0, 0), (0, 1), (0, 2), (1, 3), (2, 3), (3, 3), (4, 3), (5, 3), (0, 4), (0, 5)], (1, 3): [(1, 0), (1, 1), (1, 2), (0, 3), (2, 3), (3, 3), (4, 3), (5, 3), (1, 4), (1, 5)], (2, 3): [(2, 0), (2, 1), (2, 2), (0, 3), (1, 3), (3, 3), (4, 3), (5, 3), (2, 4), (2, 5)], (3, 3): [(3, 0), (3, 1), (3, 2), (0, 3), (1, 3), (2, 3), (4, 3), (5, 3), (3, 4), (3, 5)], (4, 3): [(4, 0), (4, 1), (4, 2), (0, 3), (1, 3), (2, 3), (3, 3), (5, 3), (4, 4), (4, 5)], (5, 3): [(5, 0), (5, 1), (5, 2), (0, 3), (1, 3), (2, 3), (3, 3), (4, 3), (5, 4), (5, 5)], (0, 4): [(0, 0), (0, 1), (0, 2), (0, 3), (1, 4), (2, 4), (3, 4), (4, 4), (5, 4), (0, 5)], (1, 4): [(1, 0), (1, 1), (1, 2), (1, 3), (0, 4), (2, 4), (3, 4), (4, 4), (5, 4), (1, 5)], (2, 4): [(2, 0), (2, 1), (2, 2), (2, 3), (0, 4), (1, 4), (3, 4), (4, 4), (5, 4), (2, 5)], (3, 4): [(3, 0), (3, 1), (3, 2), (3, 3), (0, 4), (1, 4), (2, 4), (4, 4), (5, 4), (3, 5)], (4, 4): [(4, 0), (4, 1), (4, 2), (4, 3), (0, 4), (1, 4), (2, 4), (3, 4), (5, 4), (4, 5)], (5, 4): [(5, 0), (5, 1), (5, 2), (5, 3), (0, 4), (1, 4), (2, 4), (3, 4), (4, 4), (5, 5)], (0, 5): [(0, 0), (0, 1), (0, 2), (0, 3), (0, 4), (1, 5), (2, 5), (3, 5), (4, 5), (5, 5)], (1, 5): [(1, 0), (1, 1), (1, 2), (1, 3), (1, 4), (0, 5), (2, 5), (3, 5), (4, 5), (5, 5)], (2, 5): [(2, 0), (2, 1), (2, 2), (2, 3), (2, 4), (0, 5), (1, 5), (3, 5), (4, 5), (5, 5)], (3, 5): [(3, 0), (3, 1), (3, 2), (3, 3), (3, 4), (0, 5), (1, 5), (2, 5), (4, 5), (5, 5)], (4, 5): [(4, 0), (4, 1), (4, 2), (4, 3), (4, 4), (0, 5), (1, 5), (2, 5), (3, 5), (5, 5)], (5, 5): [(5, 0), (5, 1), (5, 2), (5, 3), (5, 4), (0, 5), (1, 5), (2, 5), (3, 5), (4, 5)]}\n"
     ]
    }
   ],
   "source": [
    "print(\"Variáveis = \", futoshiki6.variables)\n",
    "print(\"Domínios = \", futoshiki6.domains)\n",
    "print(\"Vizinhos = \", futoshiki6.neighbors)"
   ]
  },
  {
   "cell_type": "code",
   "execution_count": 63,
   "metadata": {
    "collapsed": false,
    "pycharm": {
     "name": "#%%\n"
    }
   },
   "outputs": [],
   "source": [
    "r = backtracking_search(futoshiki6)"
   ]
  },
  {
   "cell_type": "code",
   "execution_count": 68,
   "metadata": {
    "collapsed": false,
    "pycharm": {
     "name": "#%%\n"
    }
   },
   "outputs": [
    {
     "name": "stdout",
     "output_type": "stream",
     "text": [
      "Estado Inicial:\n",
      "0 < 0   0   0 < 0   0\n",
      "                ∨   ∧\n",
      "0   0   0   0   0   0\n",
      "            ∨        \n",
      "0 > 0   0   0   0   0\n",
      "            ∨        \n",
      "0   0   0   0   1   0\n",
      "                     \n",
      "0   0   0 > 0   0   2\n",
      "                     \n",
      "0   0   0   0   0   0\n",
      "    ∨       ∧   ∨   ∧\n",
      "\n",
      "Solução:\n",
      "1 < 2   5   3 < 4   6\n",
      "                ∨   ∧\n",
      "6   3   2   1   5   4\n",
      "            ∨        \n",
      "5 > 4   1   2   6   3\n",
      "            ∨        \n",
      "2   6   3   4   1   5\n",
      "                     \n",
      "4   1   6 > 5   3   2\n",
      "                     \n",
      "3   5   4   6   2   1\n",
      "    ∨       ∧   ∨   ∧\n",
      "\n"
     ]
    }
   ],
   "source": [
    "visualizacao_futoshiki(6, futoshiki6, desigualdades, r)"
   ]
  },
  {
   "cell_type": "markdown",
   "metadata": {},
   "source": [
    "## Visualização do problema"
   ]
  },
  {
   "cell_type": "code",
   "execution_count": 65,
   "metadata": {},
   "outputs": [],
   "source": [
    "# Implemente uma função que permita visualizar o puzzle Futoshiki, antes e depois de resolvido. Compare com a solução obtida pelo seu algoritmo. \n",
    "# No caso de não implementar esta função, inclua um screenshot do problema e da sua solução.\n",
    "def visualizacao_futoshiki(n, problema_csp, desigualdades, solucao):\n",
    "    \n",
    "    def mapeamento_2D_para_1D(x,y):\n",
    "        return y*(n+(n-1)*3+1) + x\n",
    "\n",
    "    def escrita_numeros(x,y):\n",
    "        return mapeamento_2D_para_1D(x*4, y*2)\n",
    "    \n",
    "    def escrita_desigualdades_linha(x,y):\n",
    "        return mapeamento_2D_para_1D(x*4+2, y*2)\n",
    "    \n",
    "    def escrita_desigualdades_coluna(x,y):\n",
    "        return mapeamento_2D_para_1D(x*4, y*2-1)\n",
    "\n",
    "    def escrever_desigualdade(operacao, direcao):\n",
    "        if direcao == \"x\":\n",
    "            if operacao.__name__ == \"maior\":\n",
    "                return '>'\n",
    "            else:\n",
    "                return '<'\n",
    "        else:\n",
    "            if operacao.__name__ == \"maior\":\n",
    "                return u\"\\u2227\" # Carater ∧\n",
    "            else:\n",
    "                return u\"\\u2228\" # Carater ∨\n",
    "\n",
    "    board_inicial = ([\" \"] * (n+(n-1)*3) + [\"\\n\"]) * (n*2)\n",
    "    for var, dom in problema_csp.domains.items():\n",
    "        if len(dom) == 1:\n",
    "            board_inicial[escrita_numeros(var[0],var[1])] = str(dom[0])\n",
    "        else:\n",
    "            board_inicial[escrita_numeros(var[0],var[1])] = \"0\"\n",
    "    for var, operacao in desigualdades.items():\n",
    "        if (var[0][1] == var[1][1]):\n",
    "            board_inicial[escrita_desigualdades_linha(var[0][0],var[0][1])] = escrever_desigualdade(operacao, \"x\")\n",
    "        else:\n",
    "            board_inicial[escrita_desigualdades_coluna(var[0][0],var[0][1])] = escrever_desigualdade(operacao, \"y\")\n",
    "    \n",
    "    board_final = board_inicial.copy()\n",
    "    for var, valor in solucao.items():\n",
    "        board_final[escrita_numeros(var[0],var[1])] = str(valor)\n",
    "    \n",
    "\n",
    "    print(\"Estado Inicial:\")\n",
    "    print(''.join(board_inicial))\n",
    "    print(\"Solução:\")\n",
    "    print(''.join(board_final))"
   ]
  }
 ],
 "metadata": {
  "interpreter": {
   "hash": "ca0a6ed6c3687464969dd6147ab8a98b55d02ef7a9aec76841b10aa7e05a39c3"
  },
  "kernelspec": {
   "display_name": "Python 3.9.7 ('base')",
   "language": "python",
   "name": "python3"
  },
  "language_info": {
   "codemirror_mode": {
    "name": "ipython",
    "version": 3
   },
   "file_extension": ".py",
   "mimetype": "text/x-python",
   "name": "python",
   "nbconvert_exporter": "python",
   "pygments_lexer": "ipython3",
   "version": "3.9.12"
  },
  "orig_nbformat": 4
 },
 "nbformat": 4,
 "nbformat_minor": 2
}
