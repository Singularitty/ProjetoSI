{
 "cells": [
  {
   "cell_type": "markdown",
   "id": "bf9c87b1",
   "metadata": {},
   "source": [
    "# Sistemas Inteligentes 2021/2022\n",
    "\n",
    "## Mini-projeto 2: Quadrados Latinos\n"
   ]
  },
  {
   "cell_type": "markdown",
   "id": "d7b8efca",
   "metadata": {},
   "source": [
    "## Grupo: 42\n",
    "\n",
    "### Elementos do Grupo\n",
    "\n",
    "Número:  53687       Nome:   Ariana Dias  \n",
    "Número:  53746       Nome:   Andrei Tataru  \n",
    "Número:  51127       Nome:   Luís Ferreirinha  \n",
    "\n",
    "(Nota: Neste relatório pode adicionar as células de texto e código que achar necessárias.)"
   ]
  },
  {
   "cell_type": "markdown",
   "id": "df10acb0",
   "metadata": {},
   "source": [
    "## Representação de variáveis, domínios, vizinhos e restrições\n",
    "\n",
    "Descreva aqui, textualmente, como decidiu representar as variáveis, domínios, vizinhos e restrições em Python;\n",
    "\n",
    "Considerando a representação do quadrado como uma matriz _n x n_,\n",
    "- Variáveis:\n",
    "    - Representar por uma lista de coordenadas;\n",
    "- Domínios:\n",
    "    - Conjunto de números {1,....,n}\n",
    "- Vizinhos:\n",
    "    - Dicionário que define o grafo de restrições ({(i,j):[todos os elementos da linha i e todos os elementos da coluna j]})\n",
    "- Restrições:\n",
    "    - Todos os elementos da linha i são diferentes, todos os elementos da coluna j são diferentes.\n"
   ]
  },
  {
   "cell_type": "markdown",
   "id": "4ab69211",
   "metadata": {},
   "source": [
    "## Formulação do problema"
   ]
  },
  {
   "cell_type": "code",
   "execution_count": 20,
   "id": "c5327f4f",
   "metadata": {},
   "outputs": [],
   "source": [
    "from csp import *\n",
    "\n",
    "def diferentes(x,y):\n",
    "    \"\"\"x diferente de y\"\"\"\n",
    "    return x != y\n",
    "\n",
    "def quadrado_latino(n = 3):\n",
    "    \"\"\"\n",
    "    Pode receber parametros ou não.\n",
    "    Deve devolver um CSP, à semelhança dos guiões das aulas PL.\n",
    "    Comente o código.\n",
    "    \"\"\"\n",
    "    variaveis = [(i,j) for j in range(0,n) for i in range(0,n)]\n",
    "\n",
    "    conjunto = [i for i in range(1,n+1)]\n",
    "    dominios = {}\n",
    "    for item in variaveis:\n",
    "            dominios[item] = conjunto\n",
    "\n",
    "\n",
    "    #forma n otimizada para vizinhos:\n",
    "    vizinhos = {}\n",
    "    for key in dominios.keys():\n",
    "        lista = []\n",
    "        for i in range(n):\n",
    "            if i!= key[1]:\n",
    "                lista.append((key[0], i))\n",
    "        for j in range(n):\n",
    "            if j!= key[0]:\n",
    "                lista.append((j, key[1]))\n",
    "        vizinhos[key]=lista\n",
    "        \n",
    "    def restricoes(X, a, Y, b):\n",
    "        if Y in vizinhos[X]:\n",
    "            return a != b\n",
    "        return True\n",
    "    return CSP(variaveis, dominios, vizinhos, restricoes)"
   ]
  },
  {
   "cell_type": "markdown",
   "id": "f46b1688",
   "metadata": {},
   "source": [
    "## Criação do problema do quadrado latino simples\n",
    "\n",
    "Mostrem que o código está a funcionar, construindo um problema de quadrado latino *4x4*, imprimindo as variáveis, domínios iniciais, e vizinhos. Adicione os comentários necessários. Mostre como podemos criar um puzzle com quadrados já preenchidos, e qual o impacto que isso tem nas variáveis, domínios iniciais, e vizinhos."
   ]
  },
  {
   "cell_type": "code",
   "id": "0b95b771",
   "metadata": {
    "pycharm": {
     "name": "#%%\n"
    }
   },
   "source": [
    "p2 = quadrado_latino(4)\n",
    "print(\"Variáveis = \", p2.variables)\n",
    "print(\"Domínios = \", p2.domains)\n",
    "print(\"Vizinhos = \", p2.neighbors)"
   ],
   "execution_count": 2,
   "outputs": [
    {
     "name": "stdout",
     "output_type": "stream",
     "text": [
      "Variáveis =  [(0, 0), (1, 0), (2, 0), (3, 0), (0, 1), (1, 1), (2, 1), (3, 1), (0, 2), (1, 2), (2, 2), (3, 2), (0, 3), (1, 3), (2, 3), (3, 3)]\n",
      "Domínios =  {(0, 0): [1, 2, 3, 4], (1, 0): [1, 2, 3, 4], (2, 0): [1, 2, 3, 4], (3, 0): [1, 2, 3, 4], (0, 1): [1, 2, 3, 4], (1, 1): [1, 2, 3, 4], (2, 1): [1, 2, 3, 4], (3, 1): [1, 2, 3, 4], (0, 2): [1, 2, 3, 4], (1, 2): [1, 2, 3, 4], (2, 2): [1, 2, 3, 4], (3, 2): [1, 2, 3, 4], (0, 3): [1, 2, 3, 4], (1, 3): [1, 2, 3, 4], (2, 3): [1, 2, 3, 4], (3, 3): [1, 2, 3, 4]}\n",
      "Vizinhos =  {(0, 0): [(0, 1), (0, 2), (0, 3), (1, 0), (2, 0), (3, 0)], (1, 0): [(1, 1), (1, 2), (1, 3), (0, 0), (2, 0), (3, 0)], (2, 0): [(2, 1), (2, 2), (2, 3), (0, 0), (1, 0), (3, 0)], (3, 0): [(3, 1), (3, 2), (3, 3), (0, 0), (1, 0), (2, 0)], (0, 1): [(0, 0), (0, 2), (0, 3), (1, 1), (2, 1), (3, 1)], (1, 1): [(1, 0), (1, 2), (1, 3), (0, 1), (2, 1), (3, 1)], (2, 1): [(2, 0), (2, 2), (2, 3), (0, 1), (1, 1), (3, 1)], (3, 1): [(3, 0), (3, 2), (3, 3), (0, 1), (1, 1), (2, 1)], (0, 2): [(0, 0), (0, 1), (0, 3), (1, 2), (2, 2), (3, 2)], (1, 2): [(1, 0), (1, 1), (1, 3), (0, 2), (2, 2), (3, 2)], (2, 2): [(2, 0), (2, 1), (2, 3), (0, 2), (1, 2), (3, 2)], (3, 2): [(3, 0), (3, 1), (3, 3), (0, 2), (1, 2), (2, 2)], (0, 3): [(0, 0), (0, 1), (0, 2), (1, 3), (2, 3), (3, 3)], (1, 3): [(1, 0), (1, 1), (1, 2), (0, 3), (2, 3), (3, 3)], (2, 3): [(2, 0), (2, 1), (2, 2), (0, 3), (1, 3), (3, 3)], (3, 3): [(3, 0), (3, 1), (3, 2), (0, 3), (1, 3), (2, 3)]}\n"
     ]
    }
   ]
  },
  {
   "cell_type": "markdown",
   "source": [
    "Para criar um puzzle com quadrados já preenchidos, alteramos a função de formulação do problema, fazendo com que esta agora receba também um dicionário com os quadrados já preenchidos.\n",
    "\n",
    "O facto de o quadrado ser semi preenchido apenas vai afetar os dominios iniciais, fazendo com que o dominio inicial das variaveis ja com valores atribuidos seja reduzido para essas.\n"
   ],
   "metadata": {
    "collapsed": false,
    "pycharm": {
     "name": "#%% md\n"
    }
   }
  },
  {
   "cell_type": "code",
   "execution_count": 47,
   "outputs": [],
   "source": [
    "def quadrado_latino_semiPreenchido(n = 3, preenchidos = {}):\n",
    "    \"\"\"\n",
    "    Pode receber parametros ou não.\n",
    "    Deve devolver um CSP, à semelhança dos guiões das aulas PL.\n",
    "    Comente o código.\n",
    "    \"\"\"\n",
    "    variaveis = [(i, j) for j in range(0, n) for i in range(0, n)]\n",
    "\n",
    "    conjunto = [i for i in range(1, n + 1)]\n",
    "    dominios = {}\n",
    "    for item in variaveis:\n",
    "        if item in preenchidos:\n",
    "            dominios[item] = preenchidos[item]\n",
    "        else:\n",
    "            dominios[item] = conjunto\n",
    "\n",
    "    vizinhos = {}\n",
    "    for key in dominios.keys():\n",
    "        lista = []\n",
    "        for i in range(n):\n",
    "            if i!= key[1]:\n",
    "                lista.append((key[0], i))\n",
    "        for j in range(n):\n",
    "            if j!= key[0]:\n",
    "                lista.append((j, key[1]))\n",
    "        vizinhos[key]=lista\n",
    "\n",
    "    def restricoes(X, a, Y, b):\n",
    "        if Y in vizinhos[X]:\n",
    "            return a != b\n",
    "        return True\n",
    "\n",
    "    return CSP(variaveis, dominios, vizinhos, restricoes)"
   ],
   "metadata": {
    "collapsed": false,
    "pycharm": {
     "name": "#%%\n"
    }
   }
  },
  {
   "cell_type": "code",
   "execution_count": 48,
   "outputs": [
    {
     "name": "stdout",
     "output_type": "stream",
     "text": [
      "Variáveis =  [(0, 0), (1, 0), (2, 0), (0, 1), (1, 1), (2, 1), (0, 2), (1, 2), (2, 2)]\n",
      "Domínios =  {(0, 0): [1], (1, 0): [1, 2, 3], (2, 0): [1, 2, 3], (0, 1): [1, 2, 3], (1, 1): [3], (2, 1): [1, 2, 3], (0, 2): [1, 2, 3], (1, 2): [1, 2, 3], (2, 2): [2]}\n",
      "Vizinhos =  {(0, 0): [(0, 1), (0, 2), (1, 0), (2, 0)], (1, 0): [(1, 1), (1, 2), (0, 0), (2, 0)], (2, 0): [(2, 1), (2, 2), (0, 0), (1, 0)], (0, 1): [(0, 0), (0, 2), (1, 1), (2, 1)], (1, 1): [(1, 0), (1, 2), (0, 1), (2, 1)], (2, 1): [(2, 0), (2, 2), (0, 1), (1, 1)], (0, 2): [(0, 0), (0, 1), (1, 2), (2, 2)], (1, 2): [(1, 0), (1, 1), (0, 2), (2, 2)], (2, 2): [(2, 0), (2, 1), (0, 2), (1, 2)]}\n",
      "{(0, 0): 1, (1, 0): 2, (2, 0): 3, (0, 1): 2, (1, 1): 3, (2, 1): 1, (0, 2): 3, (1, 2): 1, (2, 2): 2}\n"
     ]
    }
   ],
   "source": [
    "preenchido = {(0,0): [1], (1,1):[3], (2,2):[2]}\n",
    "\n",
    "pSP = quadrado_latino_semiPreenchido(3, preenchido)\n",
    "print(\"Variáveis = \", pSP.variables)\n",
    "print(\"Domínios = \", pSP.domains)\n",
    "print(\"Vizinhos = \", pSP.neighbors)\n",
    "\n",
    "r = backtracking_search(pSP)\n",
    "print(r)"
   ],
   "metadata": {
    "collapsed": false,
    "pycharm": {
     "name": "#%%\n"
    }
   }
  },
  {
   "cell_type": "markdown",
   "metadata": {},
   "source": [
    "Resolva o problema com o backtracking sem inferencia, com inferencia, e com uma heurística."
   ]
  },
  {
   "cell_type": "code",
   "execution_count": 25,
   "outputs": [],
   "source": [
    "import timeit\n",
    "tempos = {}\n",
    "n = 3"
   ],
   "metadata": {
    "collapsed": false,
    "pycharm": {
     "name": "#%%\n"
    }
   }
  },
  {
   "cell_type": "code",
   "execution_count": 39,
   "outputs": [
    {
     "name": "stdout",
     "output_type": "stream",
     "text": [
      "Time:  0.0007900999917183071\n",
      "Assignment (QuadradoLatinoSemInferência) =  {(0, 0): 1, (1, 0): 2, (2, 0): 3, (0, 1): 2, (1, 1): 3, (2, 1): 1, (0, 2): 3, (1, 2): 1, (2, 2): 2}\n"
     ]
    }
   ],
   "source": [
    "QuadradoLatinoSemInferência = quadrado_latino(n)\n",
    "start = timeit.default_timer()\n",
    "r = backtracking_search(QuadradoLatinoSemInferência)\n",
    "stop = timeit.default_timer()\n",
    "print('Time: ', stop - start)\n",
    "print('Assignment (QuadradoLatinoSemInferência) = ',r)\n",
    "tempos['QuadradoLatinoSemInferência'] = stop - start"
   ],
   "metadata": {
    "collapsed": false,
    "pycharm": {
     "name": "#%%\n"
    }
   }
  },
  {
   "cell_type": "code",
   "execution_count": 40,
   "outputs": [
    {
     "name": "stdout",
     "output_type": "stream",
     "text": [
      "Time:  0.0006933000113349408\n",
      "Assignment (QuadradoLatinoComInferência_FRWDchecking) =  {(0, 0): 1, (1, 0): 2, (2, 0): 3, (0, 1): 2, (1, 1): 3, (2, 1): 1, (0, 2): 3, (1, 2): 1, (2, 2): 2}\n"
     ]
    }
   ],
   "source": [
    "QuadradoLatinoComInferência_FRWDchecking = quadrado_latino(n)\n",
    "start = timeit.default_timer()\n",
    "r = backtracking_search(QuadradoLatinoComInferência_FRWDchecking, inference=forward_checking)\n",
    "stop = timeit.default_timer()\n",
    "print('Time: ', stop - start)\n",
    "print('Assignment (QuadradoLatinoComInferência_FRWDchecking) = ',r)\n",
    "tempos['QuadradoLatinoComInferência_FRWDchecking'] = stop - start"
   ],
   "metadata": {
    "collapsed": false,
    "pycharm": {
     "name": "#%%\n"
    }
   }
  },
  {
   "cell_type": "code",
   "execution_count": 41,
   "outputs": [
    {
     "name": "stdout",
     "output_type": "stream",
     "text": [
      "Time:  0.0010866000084206462\n",
      "Assignment (QuadradoLatinoComAC3) =  {(0, 0): 1, (1, 0): 2, (2, 0): 3, (0, 1): 2, (1, 1): 3, (2, 1): 1, (0, 2): 3, (1, 2): 1, (2, 2): 2}\n"
     ]
    }
   ],
   "source": [
    "QuadradoLatinoComAC3 = quadrado_latino(n)\n",
    "start = timeit.default_timer()\n",
    "p_AC3 = AC3(QuadradoLatinoComAC3)\n",
    "r = backtracking_search(p_AC3)\n",
    "stop = timeit.default_timer()\n",
    "print('Time: ', stop - start)\n",
    "print('Assignment (QuadradoLatinoComAC3) = ',r)\n",
    "tempos['QuadradoLatinoComAC3'] = stop - start"
   ],
   "metadata": {
    "collapsed": false,
    "pycharm": {
     "name": "#%%\n"
    }
   }
  },
  {
   "cell_type": "code",
   "execution_count": 42,
   "outputs": [
    {
     "name": "stdout",
     "output_type": "stream",
     "text": [
      "Time:  0.001676399988355115\n",
      "Assignment (QuadradoLatinoComInferência_MAC) =  {(0, 0): 1, (1, 0): 2, (2, 0): 3, (0, 1): 2, (1, 1): 3, (2, 1): 1, (0, 2): 3, (1, 2): 1, (2, 2): 2}\n"
     ]
    }
   ],
   "source": [
    "QuadradoLatinoComInferência_MAC = quadrado_latino(n)\n",
    "start = timeit.default_timer()\n",
    "r = backtracking_search(QuadradoLatinoComInferência_MAC, inference=mac)\n",
    "stop = timeit.default_timer()\n",
    "print('Time: ', stop - start)\n",
    "print('Assignment (QuadradoLatinoComInferência_MAC) = ',r)\n",
    "tempos['QuadradoLatinoComInferência_MAC'] = stop - start"
   ],
   "metadata": {
    "collapsed": false,
    "pycharm": {
     "name": "#%%\n"
    }
   }
  },
  {
   "cell_type": "code",
   "execution_count": 43,
   "outputs": [
    {
     "name": "stdout",
     "output_type": "stream",
     "text": [
      "Time:  0.0015719000075478107\n",
      "Assignment (QuadradoLatinoComAC3eInferência_MAC) =  {(0, 0): 1, (1, 0): 2, (2, 0): 3, (0, 1): 2, (1, 1): 3, (2, 1): 1, (0, 2): 3, (1, 2): 1, (2, 2): 2}\n"
     ]
    }
   ],
   "source": [
    "QuadradoLatinoComAC3eInferência_MAC = quadrado_latino(n)\n",
    "start = timeit.default_timer()\n",
    "p_AC3 = AC3(QuadradoLatinoComAC3eInferência_MAC)\n",
    "r = backtracking_search(p_AC3, inference=mac)\n",
    "stop = timeit.default_timer()\n",
    "print('Time: ', stop - start)\n",
    "print('Assignment (QuadradoLatinoComAC3eInferência_MAC) = ',r)\n",
    "tempos['QuadradoLatinoComAC3eInferência_MAC'] = stop - start"
   ],
   "metadata": {
    "collapsed": false,
    "pycharm": {
     "name": "#%%\n"
    }
   }
  },
  {
   "cell_type": "code",
   "execution_count": 44,
   "outputs": [
    {
     "name": "stdout",
     "output_type": "stream",
     "text": [
      "Time:  0.001438899984350428\n",
      "Assignment (QuadradoLatinoComHeuristica) =  {(0, 2): 1, (1, 2): 2, (0, 0): 2, (1, 0): 3, (2, 1): 2, (2, 0): 1, (2, 2): 3, (1, 1): 1, (0, 1): 3}\n"
     ]
    }
   ],
   "source": [
    "QuadradoLatinoComHeuristica = quadrado_latino(n)\n",
    "start = timeit.default_timer()\n",
    "r = backtracking_search(QuadradoLatinoComHeuristica, select_unassigned_variable = mrv)\n",
    "stop = timeit.default_timer()\n",
    "print('Time: ', stop - start)\n",
    "print('Assignment (QuadradoLatinoComHeuristica) = ',r)\n",
    "tempos['QuadradoLatinoComHeuristica'] = stop - start"
   ],
   "metadata": {
    "collapsed": false,
    "pycharm": {
     "name": "#%%\n"
    }
   }
  },
  {
   "cell_type": "code",
   "execution_count": 45,
   "outputs": [
    {
     "name": "stdout",
     "output_type": "stream",
     "text": [
      "Time:  0.0006595999875571579\n",
      "Assignment (QuadradoLatinoComHeuristicaComInferencia) =  {(2, 1): 1, (2, 2): 2, (2, 0): 3, (1, 0): 1, (1, 2): 3, (0, 0): 2, (0, 2): 1, (1, 1): 2, (0, 1): 3}\n"
     ]
    }
   ],
   "source": [
    "QuadradoLatinoComHeuristicaComInferencia = quadrado_latino(n)\n",
    "start = timeit.default_timer()\n",
    "r = backtracking_search(QuadradoLatinoComHeuristicaComInferencia, select_unassigned_variable = mrv, inference=forward_checking)\n",
    "stop = timeit.default_timer()\n",
    "print('Time: ', stop - start)\n",
    "print('Assignment (QuadradoLatinoComHeuristicaComInferencia) = ',r)\n",
    "tempos['QuadradoLatinoComHeuristicaComInferencia'] = [stop - start]"
   ],
   "metadata": {
    "collapsed": false,
    "pycharm": {
     "name": "#%%\n"
    }
   }
  },
  {
   "cell_type": "code",
   "execution_count": 48,
   "outputs": [
    {
     "name": "stdout",
     "output_type": "stream",
     "text": [
      "QuadradoLatinoSemInferência 0.0007900999917183071\n",
      "QuadradoLatinoComInferência_FRWDchecking 0.0006933000113349408\n",
      "QuadradoLatinoComAC3 0.0010866000084206462\n",
      "QuadradoLatinoComInferência_MAC 0.001676399988355115\n",
      "QuadradoLatinoComAC3eInferência_MAC 0.0015719000075478107\n",
      "QuadradoLatinoComHeuristica 0.001438899984350428\n",
      "QuadradoLatinoComHeuristicaComInferencia 0.0006595999875571579\n",
      "dict_keys(['QuadradoLatinoSemInferência', 'QuadradoLatinoComInferência_FRWDchecking', 'QuadradoLatinoComAC3', 'QuadradoLatinoComInferência_MAC', 'QuadradoLatinoComAC3eInferência_MAC', 'QuadradoLatinoComHeuristica', 'QuadradoLatinoComHeuristicaComInferencia'])\n"
     ]
    }
   ],
   "source": [
    "for item in tempos:\n",
    "    print(item, tempos[item])\n",
    "\n",
    "print(tempos.keys())"
   ],
   "metadata": {
    "collapsed": false,
    "pycharm": {
     "name": "#%%\n"
    }
   }
  },
  {
   "cell_type": "code",
   "execution_count": 47,
   "outputs": [
    {
     "data": {
      "text/plain": "                                                 3\nQuadradoLatinoComHeuristicaComInferencia  0.000660\nQuadradoLatinoComInferência_FRWDchecking  0.000693\nQuadradoLatinoSemInferência               0.000790\nQuadradoLatinoComAC3                      0.001087\nQuadradoLatinoComHeuristica               0.001439\nQuadradoLatinoComAC3eInferência_MAC       0.001572\nQuadradoLatinoComInferência_MAC           0.001676",
      "text/html": "<div>\n<style scoped>\n    .dataframe tbody tr th:only-of-type {\n        vertical-align: middle;\n    }\n\n    .dataframe tbody tr th {\n        vertical-align: top;\n    }\n\n    .dataframe thead th {\n        text-align: right;\n    }\n</style>\n<table border=\"1\" class=\"dataframe\">\n  <thead>\n    <tr style=\"text-align: right;\">\n      <th></th>\n      <th>3</th>\n    </tr>\n  </thead>\n  <tbody>\n    <tr>\n      <th>QuadradoLatinoComHeuristicaComInferencia</th>\n      <td>0.000660</td>\n    </tr>\n    <tr>\n      <th>QuadradoLatinoComInferência_FRWDchecking</th>\n      <td>0.000693</td>\n    </tr>\n    <tr>\n      <th>QuadradoLatinoSemInferência</th>\n      <td>0.000790</td>\n    </tr>\n    <tr>\n      <th>QuadradoLatinoComAC3</th>\n      <td>0.001087</td>\n    </tr>\n    <tr>\n      <th>QuadradoLatinoComHeuristica</th>\n      <td>0.001439</td>\n    </tr>\n    <tr>\n      <th>QuadradoLatinoComAC3eInferência_MAC</th>\n      <td>0.001572</td>\n    </tr>\n    <tr>\n      <th>QuadradoLatinoComInferência_MAC</th>\n      <td>0.001676</td>\n    </tr>\n  </tbody>\n</table>\n</div>"
     },
     "execution_count": 47,
     "metadata": {},
     "output_type": "execute_result"
    }
   ],
   "source": [
    "import pandas as pd\n",
    "temposSorted = dict(sorted(tempos.items(), key=lambda x:x[1]))\n",
    "pd.DataFrame(temposSorted.values(),index = temposSorted.keys(), columns= [n])"
   ],
   "metadata": {
    "collapsed": false,
    "pycharm": {
     "name": "#%%\n"
    }
   }
  },
  {
   "cell_type": "markdown",
   "source": [
    "## Big Duvidas AQUI\n",
    "\n",
    "Com a tabela acima é possível concluir que:\n",
    "- o algoritmo que demora menos tempo a encontrar uma solução é a **procura com Retrocesso usando a inferência Forward Checking**, demora apenas 0.00046 segundos;\n",
    "- a solução do problema utilizando a procura com retrocesso sem inferências nem heurísticas demora mais tempo (0.000991 segundos) que a procura com retrocesso depois de pré-processamento com recurso ao algoritmo **AC3** (0.000890 segundos);\n",
    "- a procura com retrocesso usando Inferência e Heuristica (0.000997 segundos) é mais lenta que a procura sem (0.000991 segundos), sendo esta diferença na ordem dos 10 microsegundos;\n",
    "- independentemente da realização de um pré-processamento com AC3, a procura com inferência em que se mantém a consistência (mac), demora mais tempo, diferença na ordem dos 10 milisegundos;"
   ],
   "metadata": {
    "collapsed": false
   }
  },
  {
   "cell_type": "markdown",
   "source": [
    "## Visualização do problema"
   ],
   "metadata": {
    "collapsed": false
   }
  },
  {
   "cell_type": "code",
   "execution_count": 31,
   "outputs": [],
   "source": [
    "import numpy as np\n",
    "\n",
    "def visualizacao(n, variaveis, solucao, preenchidos = {}):\n",
    "    def getList(dict):\n",
    "        list = []\n",
    "        for key in dict.keys():\n",
    "            list.append(key)\n",
    "        return list\n",
    "\n",
    "    coor_preenchidas = getList(preenchidos)\n",
    "    coordenadas = coor_preenchidas + variaveis\n",
    "    matrix = np.zeros((n,n))\n",
    "    for tuple in coordenadas:\n",
    "        if tuple not in variaveis:\n",
    "            matrix[tuple[0]][tuple[1]] = preenchido[tuple]\n",
    "\n",
    "    print('Antes: \\n', matrix)\n",
    "    for tuple in solucao.keys():\n",
    "            matrix[tuple[0]][tuple[1]] = solucao[tuple]\n",
    "    print('Depois: \\n', matrix)"
   ],
   "metadata": {
    "collapsed": false,
    "pycharm": {
     "name": "#%%\n"
    }
   }
  },
  {
   "cell_type": "code",
   "execution_count": 32,
   "outputs": [
    {
     "name": "stdout",
     "output_type": "stream",
     "text": [
      "Antes: \n",
      " [[0. 0. 0. 0. 0. 0.]\n",
      " [0. 0. 0. 0. 0. 0.]\n",
      " [0. 0. 0. 0. 0. 0.]\n",
      " [0. 0. 0. 0. 0. 0.]\n",
      " [0. 0. 0. 0. 0. 0.]\n",
      " [0. 0. 0. 0. 0. 0.]]\n",
      "Depois: \n",
      " [[1. 2. 1. 2. 1. 2.]\n",
      " [2. 1. 2. 1. 2. 1.]\n",
      " [1. 2. 1. 2. 1. 2.]\n",
      " [2. 1. 2. 1. 2. 1.]\n",
      " [1. 2. 1. 2. 1. 2.]\n",
      " [2. 1. 2. 1. 2. 1.]]\n"
     ]
    }
   ],
   "source": [
    "visualizacao(6, quadrado_latino(6).variables, backtracking_search(quadrado_latino(6)))"
   ],
   "metadata": {
    "collapsed": false,
    "pycharm": {
     "name": "#%%\n"
    }
   }
  },
  {
   "cell_type": "markdown",
   "source": [
    "## Criação do problema Futoshiki *5x5*\n",
    "\n",
    "Mostrem que o código está a funcionar, construindo um problema de Futoshiki *5x5*, imprimindo as variáveis, domínios iniciais, e vizinhos. Adicione os comentários necessários. Utilize o [link](https://www.futoshiki.org/) para gerar puzzles e validar a implementação."
   ],
   "metadata": {
    "collapsed": false
   }
  },
  {
   "cell_type": "markdown",
   "source": [
    "<img src=\"futoshiki_exemplo.png\" style=\"width:20px;\"/>"
   ],
   "metadata": {
    "collapsed": false,
    "pycharm": {
     "name": "#%% md\n"
    }
   }
  },
  {
   "cell_type": "code",
   "execution_count": 80,
   "outputs": [],
   "source": [
    "# código de aplicação dos algoritmos\n",
    "def maior(a,b):\n",
    "    return a>b\n",
    "def menor(a,b):\n",
    "    return a<b\n",
    "\n",
    "def futoshiki(n, preenchidos , pares_desigualdades):\n",
    "    \"\"\"\n",
    "    Pode receber parametros ou não.\n",
    "    Deve devolver um CSP, à semelhança dos guiões das aulas PL.\n",
    "    Comente o código.\n",
    "    \"\"\"\n",
    "    variaveis = [(i, j) for j in range(0, n) for i in range(0, n)]\n",
    "\n",
    "    conjunto = [i for i in range(1, n + 1)]\n",
    "    dominios = {}\n",
    "    for item in variaveis:\n",
    "        if item in preenchidos:\n",
    "            dominios[item] = preenchidos[item]\n",
    "        else:\n",
    "            dominios[item] = conjunto\n",
    "\n",
    "    vizinhos = {}\n",
    "    for key in dominios.keys():\n",
    "        lista = []\n",
    "        for i in range(n):\n",
    "            if i!= key[1]:\n",
    "                lista.append((key[0], i))\n",
    "        for j in range(n):\n",
    "            if j!= key[0]:\n",
    "                lista.append((j, key[1]))\n",
    "        vizinhos[key]=lista\n",
    "\n",
    "    def restricoes(X, a, Y, b):\n",
    "        flag = True\n",
    "        if Y in vizinhos[X]:\n",
    "            if (X,Y) in pares_desigualdades:\n",
    "                return pares_desigualdades[(X,Y)](a,b)\n",
    "            else:\n",
    "                return a != b\n",
    "        return True\n",
    "\n",
    "        # if Y in vizinhos[X]:\n",
    "        #     if (X,Y) in desigualdades:\n",
    "        #         return a!=b and desigualdades[(X,Y)](a,b)\n",
    "        #     return a!=b\n",
    "        # return True\n",
    "\n",
    "    return CSP(variaveis, dominios, vizinhos, restricoes)"
   ],
   "metadata": {
    "collapsed": false,
    "pycharm": {
     "name": "#%%\n"
    }
   }
  },
  {
   "cell_type": "code",
   "execution_count": 84,
   "outputs": [],
   "source": [
    "preenchidos = {(3,0): [4], (0,4):[2]}\n",
    "desigualdades = {((0,0),(0,1)): maior, ((1,0),(2,0)): maior, ((1,1),(2,1)):menor, ((2,2),(2,3)): maior, ((2,3),(3,3)): menor, ((3,1),(3,2)): menor, ((3,1),(4,1)): maior, ((3,2),(4,2)): maior}"
   ],
   "metadata": {
    "collapsed": false,
    "pycharm": {
     "name": "#%%\n"
    }
   }
  },
  {
   "cell_type": "code",
   "execution_count": 86,
   "outputs": [
    {
     "name": "stdout",
     "output_type": "stream",
     "text": [
      "Variáveis =  [(0, 0), (1, 0), (2, 0), (3, 0), (4, 0), (0, 1), (1, 1), (2, 1), (3, 1), (4, 1), (0, 2), (1, 2), (2, 2), (3, 2), (4, 2), (0, 3), (1, 3), (2, 3), (3, 3), (4, 3), (0, 4), (1, 4), (2, 4), (3, 4), (4, 4)]\n",
      "Domínios =  {(0, 0): [1, 2, 3, 4, 5], (1, 0): [1, 2, 3, 4, 5], (2, 0): [1, 2, 3, 4, 5], (3, 0): [4], (4, 0): [1, 2, 3, 4, 5], (0, 1): [1, 2, 3, 4, 5], (1, 1): [1, 2, 3, 4, 5], (2, 1): [1, 2, 3, 4, 5], (3, 1): [1, 2, 3, 4, 5], (4, 1): [1, 2, 3, 4, 5], (0, 2): [1, 2, 3, 4, 5], (1, 2): [1, 2, 3, 4, 5], (2, 2): [1, 2, 3, 4, 5], (3, 2): [1, 2, 3, 4, 5], (4, 2): [1, 2, 3, 4, 5], (0, 3): [1, 2, 3, 4, 5], (1, 3): [1, 2, 3, 4, 5], (2, 3): [1, 2, 3, 4, 5], (3, 3): [1, 2, 3, 4, 5], (4, 3): [1, 2, 3, 4, 5], (0, 4): [2], (1, 4): [1, 2, 3, 4, 5], (2, 4): [1, 2, 3, 4, 5], (3, 4): [1, 2, 3, 4, 5], (4, 4): [1, 2, 3, 4, 5]}\n",
      "Vizinhos =  {(0, 0): [(0, 1), (0, 2), (0, 3), (0, 4), (1, 0), (2, 0), (3, 0), (4, 0)], (1, 0): [(1, 1), (1, 2), (1, 3), (1, 4), (0, 0), (2, 0), (3, 0), (4, 0)], (2, 0): [(2, 1), (2, 2), (2, 3), (2, 4), (0, 0), (1, 0), (3, 0), (4, 0)], (3, 0): [(3, 1), (3, 2), (3, 3), (3, 4), (0, 0), (1, 0), (2, 0), (4, 0)], (4, 0): [(4, 1), (4, 2), (4, 3), (4, 4), (0, 0), (1, 0), (2, 0), (3, 0)], (0, 1): [(0, 0), (0, 2), (0, 3), (0, 4), (1, 1), (2, 1), (3, 1), (4, 1)], (1, 1): [(1, 0), (1, 2), (1, 3), (1, 4), (0, 1), (2, 1), (3, 1), (4, 1)], (2, 1): [(2, 0), (2, 2), (2, 3), (2, 4), (0, 1), (1, 1), (3, 1), (4, 1)], (3, 1): [(3, 0), (3, 2), (3, 3), (3, 4), (0, 1), (1, 1), (2, 1), (4, 1)], (4, 1): [(4, 0), (4, 2), (4, 3), (4, 4), (0, 1), (1, 1), (2, 1), (3, 1)], (0, 2): [(0, 0), (0, 1), (0, 3), (0, 4), (1, 2), (2, 2), (3, 2), (4, 2)], (1, 2): [(1, 0), (1, 1), (1, 3), (1, 4), (0, 2), (2, 2), (3, 2), (4, 2)], (2, 2): [(2, 0), (2, 1), (2, 3), (2, 4), (0, 2), (1, 2), (3, 2), (4, 2)], (3, 2): [(3, 0), (3, 1), (3, 3), (3, 4), (0, 2), (1, 2), (2, 2), (4, 2)], (4, 2): [(4, 0), (4, 1), (4, 3), (4, 4), (0, 2), (1, 2), (2, 2), (3, 2)], (0, 3): [(0, 0), (0, 1), (0, 2), (0, 4), (1, 3), (2, 3), (3, 3), (4, 3)], (1, 3): [(1, 0), (1, 1), (1, 2), (1, 4), (0, 3), (2, 3), (3, 3), (4, 3)], (2, 3): [(2, 0), (2, 1), (2, 2), (2, 4), (0, 3), (1, 3), (3, 3), (4, 3)], (3, 3): [(3, 0), (3, 1), (3, 2), (3, 4), (0, 3), (1, 3), (2, 3), (4, 3)], (4, 3): [(4, 0), (4, 1), (4, 2), (4, 4), (0, 3), (1, 3), (2, 3), (3, 3)], (0, 4): [(0, 0), (0, 1), (0, 2), (0, 3), (1, 4), (2, 4), (3, 4), (4, 4)], (1, 4): [(1, 0), (1, 1), (1, 2), (1, 3), (0, 4), (2, 4), (3, 4), (4, 4)], (2, 4): [(2, 0), (2, 1), (2, 2), (2, 3), (0, 4), (1, 4), (3, 4), (4, 4)], (3, 4): [(3, 0), (3, 1), (3, 2), (3, 3), (0, 4), (1, 4), (2, 4), (4, 4)], (4, 4): [(4, 0), (4, 1), (4, 2), (4, 3), (0, 4), (1, 4), (2, 4), (3, 4)]}\n"
     ]
    },
    {
     "ename": "AssertionError",
     "evalue": "",
     "output_type": "error",
     "traceback": [
      "\u001B[1;31m---------------------------------------------------------------------------\u001B[0m",
      "\u001B[1;31mAssertionError\u001B[0m                            Traceback (most recent call last)",
      "Input \u001B[1;32mIn [86]\u001B[0m, in \u001B[0;36m<module>\u001B[1;34m\u001B[0m\n\u001B[0;32m      3\u001B[0m \u001B[38;5;28mprint\u001B[39m(\u001B[38;5;124m\"\u001B[39m\u001B[38;5;124mDomínios = \u001B[39m\u001B[38;5;124m\"\u001B[39m, p\u001B[38;5;241m.\u001B[39mdomains)\n\u001B[0;32m      4\u001B[0m \u001B[38;5;28mprint\u001B[39m(\u001B[38;5;124m\"\u001B[39m\u001B[38;5;124mVizinhos = \u001B[39m\u001B[38;5;124m\"\u001B[39m, p\u001B[38;5;241m.\u001B[39mneighbors)\n\u001B[1;32m----> 5\u001B[0m r \u001B[38;5;241m=\u001B[39m \u001B[43mbacktracking_search\u001B[49m\u001B[43m(\u001B[49m\u001B[43mp\u001B[49m\u001B[43m)\u001B[49m\n",
      "File \u001B[1;32m~\\Documents\\SInteligentes\\ProjetoSI\\Projeto2\\projeto2-SI\\csp.py:359\u001B[0m, in \u001B[0;36mbacktracking_search\u001B[1;34m(csp, select_unassigned_variable, order_domain_values, inference, verbose)\u001B[0m\n\u001B[0;32m    356\u001B[0m     \u001B[38;5;28;01mreturn\u001B[39;00m \u001B[38;5;28;01mNone\u001B[39;00m\n\u001B[0;32m    358\u001B[0m result \u001B[38;5;241m=\u001B[39m backtrack({})\n\u001B[1;32m--> 359\u001B[0m \u001B[38;5;28;01massert\u001B[39;00m result \u001B[38;5;129;01mis\u001B[39;00m \u001B[38;5;28;01mNone\u001B[39;00m \u001B[38;5;129;01mor\u001B[39;00m csp\u001B[38;5;241m.\u001B[39mgoal_test(result)\n\u001B[0;32m    360\u001B[0m \u001B[38;5;28;01mreturn\u001B[39;00m result\n",
      "\u001B[1;31mAssertionError\u001B[0m: "
     ]
    }
   ],
   "source": [
    "p = futoshiki(5, preenchidos, desigualdades)\n",
    "print(\"Variáveis = \", p.variables)\n",
    "print(\"Domínios = \", p.domains)\n",
    "print(\"Vizinhos = \", p.neighbors)\n",
    "r = backtracking_search(p)"
   ],
   "metadata": {
    "collapsed": false,
    "pycharm": {
     "name": "#%%\n"
    }
   }
  },
  {
   "cell_type": "markdown",
   "source": [
    "Resolva o problema com o backtracking sem inferencia, com inferencia, e com uma heurística. Até que dimensão consegue resolver o problema em menos de 1 minuto?"
   ],
   "metadata": {
    "collapsed": false
   }
  },
  {
   "cell_type": "code",
   "execution_count": null,
   "metadata": {},
   "outputs": [],
   "source": [
    "# código "
   ]
  },
  {
   "cell_type": "markdown",
   "metadata": {},
   "source": [
    "## Visualização do problema"
   ]
  },
  {
   "cell_type": "code",
   "execution_count": null,
   "metadata": {},
   "outputs": [],
   "source": [
    "# Implemente uma função que permita visualizar o puzzle Futoshiki, antes e depois de resolvido. Compare com a solução obtida pelo seu algoritmo. \n",
    "# No caso de não implementar esta função, inclua um screenshot do problema e da sua solução."
   ]
  }
 ],
 "metadata": {
  "interpreter": {
   "hash": "ca0a6ed6c3687464969dd6147ab8a98b55d02ef7a9aec76841b10aa7e05a39c3"
  },
  "kernelspec": {
   "display_name": "Python 3.9.7 ('base')",
   "language": "python",
   "name": "python3"
  },
  "language_info": {
   "codemirror_mode": {
    "name": "ipython",
    "version": 3
   },
   "file_extension": ".py",
   "mimetype": "text/x-python",
   "name": "python",
   "nbconvert_exporter": "python",
   "pygments_lexer": "ipython3",
   "version": "3.9.7"
  },
  "orig_nbformat": 4
 },
 "nbformat": 4,
 "nbformat_minor": 2
}