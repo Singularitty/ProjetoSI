{
 "cells": [
  {
   "cell_type": "markdown",
   "id": "bf9c87b1",
   "metadata": {},
   "source": [
    "# Sistemas Inteligentes 2021/2022\n",
    "\n",
    "## Mini-projeto 2: Quadrados Latinos\n"
   ]
  },
  {
   "cell_type": "markdown",
   "id": "d7b8efca",
   "metadata": {},
   "source": [
    "## Grupo: 42\n",
    "\n",
    "### Elementos do Grupo\n",
    "\n",
    "Número:  53687       Nome:   Ariana Dias  \n",
    "Número:  51127       Nome:   Luís Ferreirinha\n",
    "\n",
    "\n",
    "_o 3º colega não participou em nada_\n",
    "\n",
    "(Nota: Neste relatório pode adicionar as células de texto e código que achar necessárias.)"
   ]
  },
  {
   "cell_type": "markdown",
   "id": "df10acb0",
   "metadata": {},
   "source": [
    "## Representação de variáveis, domínios, vizinhos e restrições\n",
    "\n",
    "O problema dos quadrados latinos pode ser representado como uma matriz $n \\times n$ em que cada linha e coluna contêm exatmente um número de $1$ a $n$.  \n",
    "\n",
    "Então para caracterizar este CSP em python obtamos pelas seguintes escolhas:  \n",
    "\n",
    "- Variáveis:  \n",
    "  \n",
    "    Cada variável no nosso problema vai representar o valor atribuiado a um elemento da matriz.  \n",
    "    Então em python representamos o conjunto das variáveis como uma lista das coordenadas de cada\n",
    "    elemento na matriz:    \n",
    "    -  var $=[(i_1,j_1),...,(i_n,j_n)]$  \n",
    "<br>\n",
    "- Domínios:  \n",
    "  \n",
    "    Neste problema cada variável pode tomar um valor de $1,...,n$, exceto de houver condições iniciais.\n",
    "    Portanto em python decidimos utilizar um dicionário, onde as chaves são as variáveis e estas correspondem a uma lista de inteiros contento os valores possíveis para aquela variável:\n",
    "    \n",
    "    - dominio $=\\{(i_1,j_1) = [1,..,n], ...\\}$  \n",
    "<br> \n",
    "- Vizinhos:  \n",
    "\n",
    "    Uma variável vai ser vizinha de outra de estiver na mesma linha ou coluna que essa variável.\n",
    "    Em python definimos os vizinhos como um dicionário onde cada variável é uma chave e corresponde a uma lista de variáveis que são suas vizinhas:  \n",
    "    \n",
    "    - vizinhos $=\\{(i_k,i_m) : [(i_1,j_m),...,(i_n,j_m),(i_k,j_1),...,(i_k,j_n)], \\, ...  \\, \\}$  \n",
    "<br>\n",
    "- Restrições:  \n",
    "\n",
    "    A restrição principal deste problema é a impossibilidade de haver repetições de um número\n",
    "    ao longo de uma coluna ou linha, ou seja tem de ser diferente de todos os seus vizinhos.\n",
    "    Em python esta restrição é representada pela comparação dos valores de duas variáveis vizinhas:  \n",
    "\n",
    "    -  ```python\n",
    "       valor_variavel_1 != valor_variavel_2\n",
    "       ```\n",
    "    <br>\n",
    "    Como também temos a variação do Futoshiki, temos de definir outras restrições para esse problema.  \n",
    "\n",
    "    A ideia principal é que duas variáveis adjacentes podem agora ter a restrição adicional de o valor de uma ser maior ou menor que o valor da outra. Então para representar o mapeamento destas novas restrições usamos um dicionário onde as chaves são um tuplos contendos as duas variáveis em questão e vão corresponde a uma função que verifica se os valores destas são menores ou maiores conforme a restrição.\n",
    "\n",
    "    - desigualdades $=\\{((i_k,j_m),(i_k,j_{m+1})) : maior\\, \\, \\text{ou} \\, \\, menor \\}$  \n",
    "\n",
    "    Cada uma destas funções vair comparar os valores das variavéis conforme o seu nome.  \n",
    "\n",
    "    - ```python \n",
    "      def maior(a,b): return a > b\n",
    "      ```\n",
    "\n",
    "    - ```python \n",
    "      def menor(a,b): return a < b\n",
    "      ```\n",
    "\n",
    "\n",
    " "
   ]
  },
  {
   "cell_type": "markdown",
   "id": "4ab69211",
   "metadata": {},
   "source": [
    "## Formulação do problema"
   ]
  },
  {
   "cell_type": "code",
   "execution_count": 83,
   "metadata": {
    "collapsed": false,
    "pycharm": {
     "name": "#%%\n"
    }
   },
   "outputs": [],
   "source": [
    "from csp import *\n",
    "\n",
    "# Funcoes restricao\n",
    "def maior(x,y):\n",
    "    return x > y\n",
    "\n",
    "def menor(x,y):\n",
    "    return x < y\n",
    "\n",
    "def quadrado_latino(n=3, initial={}, desigualdades={}) -> CSP:\n",
    "    \"\"\"Gera um CSP para o problema do futoshiki\n",
    "\n",
    "    Args:\n",
    "        n (int, optional): Dimensao da matriz do problema. Defaults to 3.\n",
    "        initial (dict, optional): Valores iniciais para cada um dos elementos da matriz. Defaults to {}.\n",
    "        desigualdades (dict, optional): Restrições adicionais do problema futoshiki. Defaults to {}.\n",
    "\n",
    "    Returns:\n",
    "        CSP: Objeto CSP para o problema do futoshiki\n",
    "    \"\"\"    \n",
    "    \n",
    "    # definicao das variaveis, as coordenadas x,y vão de 0 a n-1\n",
    "    variaveis = [(i,j) for i in range(0,n) for j in range(0,n)]\n",
    "\n",
    "    # Valores possiveis para as variaveis dada a dimensao n do problema\n",
    "    conjunto = [i for i in range(1,n+1)]\n",
    "    \n",
    "    # Iniciamos os dominios com os valores iniciais dados para as variaveis\n",
    "    dominios = initial\n",
    "\n",
    "    # Diferenca dos dois conjuntos vai resultar nas variaveis nao preenchidas\n",
    "    for item in set(variaveis - initial.keys()):\n",
    "        dominios[item] = conjunto\n",
    "    \n",
    "    # Condicao que determina de duas variaveis sao vizinhas, verifica se tem alguma das coordendas x ou y iguais\n",
    "    condicao_vizinhanca = lambda x,y : (x[0] == y[0] and x[1] != y[1]) or (x[0] != y[0] and x[1] == y[1])\n",
    "\n",
    "    # Para cada variavel vamos atribuir uma lista resultante de filtrar a lista de todas as variaveis\n",
    "    # com a condicao de que as variaveis sejam vizinhas da variavel chave\n",
    "    vizinhos = {var : list(filter(lambda x: condicao_vizinhanca(x,var), variaveis)) for var in variaveis}\n",
    "\n",
    "    # Restricoes do futoshiki, para o utilizador nao ter de escrever as restricoes de desigualdade nas duas direcoes\n",
    "    # Vamos criar um dicionario com essas restricoes de forma bi-direcional\n",
    "    restricoes_desigualdades = desigualdades.copy()\n",
    "    for var, restricao in desigualdades.items():\n",
    "        if restricao.__name__ == \"maior\":\n",
    "            restricoes_desigualdades[(var[1],var[0])] = menor\n",
    "        else:\n",
    "            restricoes_desigualdades[(var[1],var[0])] = maior\n",
    "\n",
    "    def restricoes(X, a, Y, b):\n",
    "        # Restricoes futoshiki\n",
    "        # Vamos verificar se a var X tem alguma condição de desigualdade com outra var Y\n",
    "        if (X,Y) in restricoes_desigualdades.keys():\n",
    "            if not restricoes_desigualdades[(X,Y)](a,b):\n",
    "                return False\n",
    "        # Restricao normal quadrado latino\n",
    "        # Verifica se sao vizinhos\n",
    "        if Y in vizinhos[X]:\n",
    "            return  a != b\n",
    "        return True\n",
    "\n",
    "    return CSP(variaveis, dominios, vizinhos, restricoes)"
   ]
  },
  {
   "cell_type": "markdown",
   "id": "f46b1688",
   "metadata": {},
   "source": [
    "## Criação do problema do quadrado latino simples\n",
    "\n",
    "Mostrem que o código está a funcionar, construindo um problema de quadrado latino *4x4*, imprimindo as variáveis, domínios iniciais, e vizinhos. Adicione os comentários necessários. Mostre como podemos criar um puzzle com quadrados já preenchidos, e qual o impacto que isso tem nas variáveis, domínios iniciais, e vizinhos."
   ]
  },
  {
   "cell_type": "markdown",
   "metadata": {},
   "source": [
    "Para criar um problema quadrado latino 4x4 sem valores iniciais para as variáveis basta executar"
   ]
  },
  {
   "cell_type": "code",
   "execution_count": 84,
   "metadata": {},
   "outputs": [],
   "source": [
    "q4 = quadrado_latino(5)"
   ]
  },
  {
   "cell_type": "markdown",
   "metadata": {},
   "source": [
    "Tendo o problema definido, podemos agora ver as variáveis, domínios e os vizinhos deste problema"
   ]
  },
  {
   "cell_type": "code",
   "execution_count": 85,
   "id": "0b95b771",
   "metadata": {
    "pycharm": {
     "name": "#%%\n"
    }
   },
   "outputs": [
    {
     "name": "stdout",
     "output_type": "stream",
     "text": [
      "Variáveis = [(0, 0), (0, 1), (0, 2), (0, 3), (0, 4), (1, 0), (1, 1), (1, 2), (1, 3), (1, 4), (2, 0), (2, 1), (2, 2), (2, 3), (2, 4), (3, 0), (3, 1), (3, 2), (3, 3), (3, 4), (4, 0), (4, 1), (4, 2), (4, 3), (4, 4)]\n",
      "\n",
      "Domínios = {(0, 1): [1, 2, 3, 4, 5], (2, 4): [1, 2, 3, 4, 5], (4, 0): [1, 2, 3, 4, 5], (1, 2): [1, 2, 3, 4, 5], (3, 4): [1, 2, 3, 4, 5], (0, 4): [1, 2, 3, 4, 5], (4, 3): [1, 2, 3, 4, 5], (3, 1): [1, 2, 3, 4, 5], (2, 1): [1, 2, 3, 4, 5], (0, 2): [1, 2, 3, 4, 5], (2, 2): [1, 2, 3, 4, 5], (1, 0): [1, 2, 3, 4, 5], (3, 2): [1, 2, 3, 4, 5], (1, 3): [1, 2, 3, 4, 5], (4, 1): [1, 2, 3, 4, 5], (4, 4): [1, 2, 3, 4, 5], (0, 0): [1, 2, 3, 4, 5], (1, 1): [1, 2, 3, 4, 5], (0, 3): [1, 2, 3, 4, 5], (2, 0): [1, 2, 3, 4, 5], (4, 2): [1, 2, 3, 4, 5], (3, 0): [1, 2, 3, 4, 5], (1, 4): [1, 2, 3, 4, 5], (2, 3): [1, 2, 3, 4, 5], (3, 3): [1, 2, 3, 4, 5]}\n",
      "\n",
      "Vizinhos = {(0, 0): [(0, 1), (0, 2), (0, 3), (0, 4), (1, 0), (2, 0), (3, 0), (4, 0)], (0, 1): [(0, 0), (0, 2), (0, 3), (0, 4), (1, 1), (2, 1), (3, 1), (4, 1)], (0, 2): [(0, 0), (0, 1), (0, 3), (0, 4), (1, 2), (2, 2), (3, 2), (4, 2)], (0, 3): [(0, 0), (0, 1), (0, 2), (0, 4), (1, 3), (2, 3), (3, 3), (4, 3)], (0, 4): [(0, 0), (0, 1), (0, 2), (0, 3), (1, 4), (2, 4), (3, 4), (4, 4)], (1, 0): [(0, 0), (1, 1), (1, 2), (1, 3), (1, 4), (2, 0), (3, 0), (4, 0)], (1, 1): [(0, 1), (1, 0), (1, 2), (1, 3), (1, 4), (2, 1), (3, 1), (4, 1)], (1, 2): [(0, 2), (1, 0), (1, 1), (1, 3), (1, 4), (2, 2), (3, 2), (4, 2)], (1, 3): [(0, 3), (1, 0), (1, 1), (1, 2), (1, 4), (2, 3), (3, 3), (4, 3)], (1, 4): [(0, 4), (1, 0), (1, 1), (1, 2), (1, 3), (2, 4), (3, 4), (4, 4)], (2, 0): [(0, 0), (1, 0), (2, 1), (2, 2), (2, 3), (2, 4), (3, 0), (4, 0)], (2, 1): [(0, 1), (1, 1), (2, 0), (2, 2), (2, 3), (2, 4), (3, 1), (4, 1)], (2, 2): [(0, 2), (1, 2), (2, 0), (2, 1), (2, 3), (2, 4), (3, 2), (4, 2)], (2, 3): [(0, 3), (1, 3), (2, 0), (2, 1), (2, 2), (2, 4), (3, 3), (4, 3)], (2, 4): [(0, 4), (1, 4), (2, 0), (2, 1), (2, 2), (2, 3), (3, 4), (4, 4)], (3, 0): [(0, 0), (1, 0), (2, 0), (3, 1), (3, 2), (3, 3), (3, 4), (4, 0)], (3, 1): [(0, 1), (1, 1), (2, 1), (3, 0), (3, 2), (3, 3), (3, 4), (4, 1)], (3, 2): [(0, 2), (1, 2), (2, 2), (3, 0), (3, 1), (3, 3), (3, 4), (4, 2)], (3, 3): [(0, 3), (1, 3), (2, 3), (3, 0), (3, 1), (3, 2), (3, 4), (4, 3)], (3, 4): [(0, 4), (1, 4), (2, 4), (3, 0), (3, 1), (3, 2), (3, 3), (4, 4)], (4, 0): [(0, 0), (1, 0), (2, 0), (3, 0), (4, 1), (4, 2), (4, 3), (4, 4)], (4, 1): [(0, 1), (1, 1), (2, 1), (3, 1), (4, 0), (4, 2), (4, 3), (4, 4)], (4, 2): [(0, 2), (1, 2), (2, 2), (3, 2), (4, 0), (4, 1), (4, 3), (4, 4)], (4, 3): [(0, 3), (1, 3), (2, 3), (3, 3), (4, 0), (4, 1), (4, 2), (4, 4)], (4, 4): [(0, 4), (1, 4), (2, 4), (3, 4), (4, 0), (4, 1), (4, 2), (4, 3)]}\n",
      "\n"
     ]
    }
   ],
   "source": [
    "print(f\"Variáveis = {q4.variables}\\n\")\n",
    "print(f\"Domínios = {q4.domains}\\n\")\n",
    "print(f\"Vizinhos = {q4.neighbors}\\n\")"
   ]
  },
  {
   "cell_type": "markdown",
   "metadata": {},
   "source": [
    "Para criar-mos um problema com um quadrado semi-preenchido temos primeiro de definir quais os elementos da matriz que vão estar preenchidos e qual o seu valor. Para fazer-mos isso podemos definir um dicionário com essa informação da seguinte forma:"
   ]
  },
  {
   "cell_type": "code",
   "execution_count": 86,
   "metadata": {},
   "outputs": [],
   "source": [
    "valores_preenchidos = {(0,0) : [1], (1,1) : [3], (2,2) : [2]}"
   ]
  },
  {
   "cell_type": "markdown",
   "metadata": {},
   "source": [
    "Depois basta passar esse dicionário como segundo argumento à função quadrado_latino"
   ]
  },
  {
   "cell_type": "code",
   "execution_count": 87,
   "metadata": {},
   "outputs": [],
   "source": [
    "q4_semi = quadrado_latino(n=4, initial=valores_preenchidos)"
   ]
  },
  {
   "cell_type": "markdown",
   "metadata": {
    "collapsed": false,
    "pycharm": {
     "name": "#%% md\n"
    }
   },
   "source": [
    "O facto de o quadrado ser semi preenchido apenas vai afetar os domínios iniciais, fazendo com que o dominio inicial das variáveis já com valores atribuidos seja reduzido esses valores."
   ]
  },
  {
   "cell_type": "code",
   "execution_count": 88,
   "metadata": {
    "collapsed": false,
    "pycharm": {
     "name": "#%%\n"
    }
   },
   "outputs": [
    {
     "name": "stdout",
     "output_type": "stream",
     "text": [
      "Variáveis = [(0, 0), (0, 1), (0, 2), (0, 3), (1, 0), (1, 1), (1, 2), (1, 3), (2, 0), (2, 1), (2, 2), (2, 3), (3, 0), (3, 1), (3, 2), (3, 3)]\n",
      "\n",
      "Domínios = {(0, 0): [1], (1, 1): [3], (2, 2): [2], (0, 1): [1, 2, 3, 4], (1, 2): [1, 2, 3, 4], (2, 1): [1, 2, 3, 4], (3, 1): [1, 2, 3, 4], (0, 3): [1, 2, 3, 4], (2, 0): [1, 2, 3, 4], (3, 0): [1, 2, 3, 4], (2, 3): [1, 2, 3, 4], (0, 2): [1, 2, 3, 4], (3, 3): [1, 2, 3, 4], (1, 0): [1, 2, 3, 4], (3, 2): [1, 2, 3, 4], (1, 3): [1, 2, 3, 4]}\n",
      "\n",
      "Vizinhos = {(0, 0): [(0, 1), (0, 2), (0, 3), (1, 0), (2, 0), (3, 0)], (0, 1): [(0, 0), (0, 2), (0, 3), (1, 1), (2, 1), (3, 1)], (0, 2): [(0, 0), (0, 1), (0, 3), (1, 2), (2, 2), (3, 2)], (0, 3): [(0, 0), (0, 1), (0, 2), (1, 3), (2, 3), (3, 3)], (1, 0): [(0, 0), (1, 1), (1, 2), (1, 3), (2, 0), (3, 0)], (1, 1): [(0, 1), (1, 0), (1, 2), (1, 3), (2, 1), (3, 1)], (1, 2): [(0, 2), (1, 0), (1, 1), (1, 3), (2, 2), (3, 2)], (1, 3): [(0, 3), (1, 0), (1, 1), (1, 2), (2, 3), (3, 3)], (2, 0): [(0, 0), (1, 0), (2, 1), (2, 2), (2, 3), (3, 0)], (2, 1): [(0, 1), (1, 1), (2, 0), (2, 2), (2, 3), (3, 1)], (2, 2): [(0, 2), (1, 2), (2, 0), (2, 1), (2, 3), (3, 2)], (2, 3): [(0, 3), (1, 3), (2, 0), (2, 1), (2, 2), (3, 3)], (3, 0): [(0, 0), (1, 0), (2, 0), (3, 1), (3, 2), (3, 3)], (3, 1): [(0, 1), (1, 1), (2, 1), (3, 0), (3, 2), (3, 3)], (3, 2): [(0, 2), (1, 2), (2, 2), (3, 0), (3, 1), (3, 3)], (3, 3): [(0, 3), (1, 3), (2, 3), (3, 0), (3, 1), (3, 2)]}\n",
      "\n"
     ]
    }
   ],
   "source": [
    "print(f\"Variáveis = {q4_semi.variables}\\n\")\n",
    "print(f\"Domínios = {q4_semi.domains}\\n\")\n",
    "print(f\"Vizinhos = {q4_semi.neighbors}\\n\")"
   ]
  },
  {
   "cell_type": "markdown",
   "metadata": {},
   "source": [
    "Resolva o problema com o backtracking sem inferencia, com inferencia, e com uma heurística."
   ]
  },
  {
   "cell_type": "markdown",
   "metadata": {},
   "source": [
    "Podemos resolver o problema utilizando a função backtracking_seach da biblioteca CSP"
   ]
  },
  {
   "cell_type": "code",
   "execution_count": 89,
   "metadata": {},
   "outputs": [],
   "source": [
    "sol_q4_semi = backtracking_search(q4_semi)"
   ]
  },
  {
   "cell_type": "markdown",
   "metadata": {},
   "source": [
    "E como a função devolve um dicionário com os valores solução afetados às variáveis podemos imprimir este"
   ]
  },
  {
   "cell_type": "code",
   "execution_count": 90,
   "metadata": {},
   "outputs": [
    {
     "name": "stdout",
     "output_type": "stream",
     "text": [
      "{(0, 0): 1, (0, 1): 2, (0, 2): 3, (0, 3): 4, (1, 0): 2, (1, 1): 3, (1, 2): 4, (1, 3): 1, (2, 0): 4, (2, 1): 1, (2, 2): 2, (2, 3): 3, (3, 0): 3, (3, 1): 4, (3, 2): 1, (3, 3): 2}\n"
     ]
    }
   ],
   "source": [
    "print(sol_q4_semi)"
   ]
  },
  {
   "cell_type": "markdown",
   "metadata": {},
   "source": [
    "Vamos agora aplicar diferentes algoritmos durante a procura e comparar as soluções obtidas"
   ]
  },
  {
   "cell_type": "code",
   "execution_count": 91,
   "metadata": {},
   "outputs": [],
   "source": [
    "p_q4 = quadrado_latino(4)\n",
    "\n",
    "solucoes_1 = {}\n",
    "solucoes_1[\"NORMAL\"] = backtracking_search(p_q4)\n",
    "solucoes_1[\"MRV\"] = backtracking_search(p_q4, select_unassigned_variable=mrv)\n",
    "solucoes_1[\"MAC\"] = backtracking_search(p_q4, inference=mac)\n",
    "solucoes_1[\"AC3\"] = backtracking_search(AC3(p_q4))"
   ]
  },
  {
   "cell_type": "markdown",
   "metadata": {},
   "source": [
    "Podemos agora fazer uma tabela onde representamos o valor atríbuido a cada varíavel. (Primeiro indice = x e segundo indice = y)"
   ]
  },
  {
   "cell_type": "code",
   "execution_count": 92,
   "metadata": {},
   "outputs": [
    {
     "data": {
      "text/html": [
       "<div>\n",
       "<style scoped>\n",
       "    .dataframe tbody tr th:only-of-type {\n",
       "        vertical-align: middle;\n",
       "    }\n",
       "\n",
       "    .dataframe tbody tr th {\n",
       "        vertical-align: top;\n",
       "    }\n",
       "\n",
       "    .dataframe thead tr th {\n",
       "        text-align: left;\n",
       "    }\n",
       "</style>\n",
       "<table border=\"1\" class=\"dataframe\">\n",
       "  <thead>\n",
       "    <tr>\n",
       "      <th></th>\n",
       "      <th colspan=\"4\" halign=\"left\">0</th>\n",
       "      <th colspan=\"4\" halign=\"left\">1</th>\n",
       "      <th colspan=\"4\" halign=\"left\">2</th>\n",
       "      <th colspan=\"4\" halign=\"left\">3</th>\n",
       "    </tr>\n",
       "    <tr>\n",
       "      <th></th>\n",
       "      <th>0</th>\n",
       "      <th>1</th>\n",
       "      <th>2</th>\n",
       "      <th>3</th>\n",
       "      <th>0</th>\n",
       "      <th>1</th>\n",
       "      <th>2</th>\n",
       "      <th>3</th>\n",
       "      <th>0</th>\n",
       "      <th>1</th>\n",
       "      <th>2</th>\n",
       "      <th>3</th>\n",
       "      <th>0</th>\n",
       "      <th>1</th>\n",
       "      <th>2</th>\n",
       "      <th>3</th>\n",
       "    </tr>\n",
       "  </thead>\n",
       "  <tbody>\n",
       "    <tr>\n",
       "      <th>NORMAL</th>\n",
       "      <td>1</td>\n",
       "      <td>2</td>\n",
       "      <td>3</td>\n",
       "      <td>4</td>\n",
       "      <td>2</td>\n",
       "      <td>1</td>\n",
       "      <td>4</td>\n",
       "      <td>3</td>\n",
       "      <td>3</td>\n",
       "      <td>4</td>\n",
       "      <td>1</td>\n",
       "      <td>2</td>\n",
       "      <td>4</td>\n",
       "      <td>3</td>\n",
       "      <td>2</td>\n",
       "      <td>1</td>\n",
       "    </tr>\n",
       "    <tr>\n",
       "      <th>MRV</th>\n",
       "      <td>1</td>\n",
       "      <td>2</td>\n",
       "      <td>3</td>\n",
       "      <td>4</td>\n",
       "      <td>2</td>\n",
       "      <td>1</td>\n",
       "      <td>4</td>\n",
       "      <td>3</td>\n",
       "      <td>3</td>\n",
       "      <td>4</td>\n",
       "      <td>1</td>\n",
       "      <td>2</td>\n",
       "      <td>4</td>\n",
       "      <td>3</td>\n",
       "      <td>2</td>\n",
       "      <td>1</td>\n",
       "    </tr>\n",
       "    <tr>\n",
       "      <th>MAC</th>\n",
       "      <td>1</td>\n",
       "      <td>2</td>\n",
       "      <td>3</td>\n",
       "      <td>4</td>\n",
       "      <td>2</td>\n",
       "      <td>1</td>\n",
       "      <td>4</td>\n",
       "      <td>3</td>\n",
       "      <td>3</td>\n",
       "      <td>4</td>\n",
       "      <td>1</td>\n",
       "      <td>2</td>\n",
       "      <td>4</td>\n",
       "      <td>3</td>\n",
       "      <td>2</td>\n",
       "      <td>1</td>\n",
       "    </tr>\n",
       "    <tr>\n",
       "      <th>AC3</th>\n",
       "      <td>1</td>\n",
       "      <td>2</td>\n",
       "      <td>3</td>\n",
       "      <td>4</td>\n",
       "      <td>2</td>\n",
       "      <td>1</td>\n",
       "      <td>4</td>\n",
       "      <td>3</td>\n",
       "      <td>3</td>\n",
       "      <td>4</td>\n",
       "      <td>1</td>\n",
       "      <td>2</td>\n",
       "      <td>4</td>\n",
       "      <td>3</td>\n",
       "      <td>2</td>\n",
       "      <td>1</td>\n",
       "    </tr>\n",
       "  </tbody>\n",
       "</table>\n",
       "</div>"
      ],
      "text/plain": [
       "        0           1           2           3         \n",
       "        0  1  2  3  0  1  2  3  0  1  2  3  0  1  2  3\n",
       "NORMAL  1  2  3  4  2  1  4  3  3  4  1  2  4  3  2  1\n",
       "MRV     1  2  3  4  2  1  4  3  3  4  1  2  4  3  2  1\n",
       "MAC     1  2  3  4  2  1  4  3  3  4  1  2  4  3  2  1\n",
       "AC3     1  2  3  4  2  1  4  3  3  4  1  2  4  3  2  1"
      ]
     },
     "execution_count": 92,
     "metadata": {},
     "output_type": "execute_result"
    }
   ],
   "source": [
    "import pandas as pd\n",
    "\n",
    "pd.DataFrame(solucoes_1).T"
   ]
  },
  {
   "cell_type": "markdown",
   "metadata": {},
   "source": [
    "E retirar os duplicados para ver apenas as soluções únicas"
   ]
  },
  {
   "cell_type": "code",
   "execution_count": 93,
   "metadata": {},
   "outputs": [
    {
     "data": {
      "text/html": [
       "<div>\n",
       "<style scoped>\n",
       "    .dataframe tbody tr th:only-of-type {\n",
       "        vertical-align: middle;\n",
       "    }\n",
       "\n",
       "    .dataframe tbody tr th {\n",
       "        vertical-align: top;\n",
       "    }\n",
       "\n",
       "    .dataframe thead tr th {\n",
       "        text-align: left;\n",
       "    }\n",
       "</style>\n",
       "<table border=\"1\" class=\"dataframe\">\n",
       "  <thead>\n",
       "    <tr>\n",
       "      <th></th>\n",
       "      <th colspan=\"4\" halign=\"left\">0</th>\n",
       "      <th colspan=\"4\" halign=\"left\">1</th>\n",
       "      <th colspan=\"4\" halign=\"left\">2</th>\n",
       "      <th colspan=\"4\" halign=\"left\">3</th>\n",
       "    </tr>\n",
       "    <tr>\n",
       "      <th></th>\n",
       "      <th>0</th>\n",
       "      <th>1</th>\n",
       "      <th>2</th>\n",
       "      <th>3</th>\n",
       "      <th>0</th>\n",
       "      <th>1</th>\n",
       "      <th>2</th>\n",
       "      <th>3</th>\n",
       "      <th>0</th>\n",
       "      <th>1</th>\n",
       "      <th>2</th>\n",
       "      <th>3</th>\n",
       "      <th>0</th>\n",
       "      <th>1</th>\n",
       "      <th>2</th>\n",
       "      <th>3</th>\n",
       "    </tr>\n",
       "  </thead>\n",
       "  <tbody>\n",
       "    <tr>\n",
       "      <th>NORMAL</th>\n",
       "      <td>1</td>\n",
       "      <td>2</td>\n",
       "      <td>3</td>\n",
       "      <td>4</td>\n",
       "      <td>2</td>\n",
       "      <td>1</td>\n",
       "      <td>4</td>\n",
       "      <td>3</td>\n",
       "      <td>3</td>\n",
       "      <td>4</td>\n",
       "      <td>1</td>\n",
       "      <td>2</td>\n",
       "      <td>4</td>\n",
       "      <td>3</td>\n",
       "      <td>2</td>\n",
       "      <td>1</td>\n",
       "    </tr>\n",
       "  </tbody>\n",
       "</table>\n",
       "</div>"
      ],
      "text/plain": [
       "        0           1           2           3         \n",
       "        0  1  2  3  0  1  2  3  0  1  2  3  0  1  2  3\n",
       "NORMAL  1  2  3  4  2  1  4  3  3  4  1  2  4  3  2  1"
      ]
     },
     "execution_count": 93,
     "metadata": {},
     "output_type": "execute_result"
    }
   ],
   "source": [
    "pd.DataFrame(solucoes_1).T.drop_duplicates()"
   ]
  },
  {
   "cell_type": "markdown",
   "metadata": {},
   "source": [
    "Como podemos ver para este caso os algoritmos chegaram todos à mesma solução. Mas esse pode não ser sempre o caso em problemas que têm mais do que uma solução."
   ]
  },
  {
   "cell_type": "markdown",
   "metadata": {},
   "source": [
    "Vamos agora resolver um problema de maior dimensão pois temos como objetivo comparar os tempos de procura quando são aplicados diferentes algoritmos durante a procura (ou antes caso do pré processamento AC3).  \n",
    "Para isso vamos definir uma função wrapper que vai calcular o tempo de execução da pesquisa."
   ]
  },
  {
   "cell_type": "code",
   "execution_count": 108,
   "metadata": {},
   "outputs": [],
   "source": [
    "import timeit\n",
    "\n",
    "def search_time(func, *args, **kwargs):\n",
    "    \"\"\"Calcula o tempo de execução de uma função e devolve\n",
    "    o seu output e este tempo\n",
    "\n",
    "    Args:\n",
    "        func: função a ser cronometrada\n",
    "    \"\"\"\n",
    "    start = timeit.default_timer()\n",
    "    sol = func(*args, **kwargs)\n",
    "    stop = timeit.default_timer()\n",
    "    return sol, (stop-start)\n",
    "\n",
    "# Guardar os dados e solucoes para analisar mais tarde\n",
    "tempos = {}\n",
    "solucoes = {}"
   ]
  },
  {
   "cell_type": "markdown",
   "metadata": {},
   "source": [
    "- Definição do problema"
   ]
  },
  {
   "cell_type": "code",
   "execution_count": 109,
   "metadata": {},
   "outputs": [],
   "source": [
    "def board_to_dict(board) -> dict:\n",
    "    \"\"\"Coverte uma matriz quadrada de inteiros para um dicionario\n",
    "    contendo as posicoes dos inteiros nao nulos\n",
    "    \"\"\"\n",
    "    n = len(board)\n",
    "    iniciais = {}\n",
    "    for j in range(n):\n",
    "        for i in range(n):\n",
    "            x = board[j][i]\n",
    "            if x != 0:\n",
    "                iniciais[(i,j)] = [x]\n",
    "    return iniciais"
   ]
  },
  {
   "cell_type": "markdown",
   "metadata": {},
   "source": [
    "Vamos utilizar o seguinte problema retirado do website dado no enunciado."
   ]
  },
  {
   "cell_type": "code",
   "execution_count": 110,
   "metadata": {},
   "outputs": [],
   "source": [
    "n = 7\n",
    "\n",
    "board = [[6,0,0,0,0,0,0],\n",
    "         [0,6,0,1,0,0,3],\n",
    "         [2,0,7,0,0,0,0],\n",
    "         [4,0,0,2,0,0,1],\n",
    "         [0,3,1,5,6,0,0],\n",
    "         [1,0,0,7,0,2,4],\n",
    "         [0,0,0,0,0,0,7]]\n",
    "\n",
    "p_quadrado_latino = quadrado_latino(n, initial=board_to_dict(board))"
   ]
  },
  {
   "cell_type": "markdown",
   "metadata": {},
   "source": [
    "- Backtracking sem inferência"
   ]
  },
  {
   "cell_type": "code",
   "execution_count": 111,
   "metadata": {
    "collapsed": false,
    "pycharm": {
     "name": "#%%\n"
    }
   },
   "outputs": [
    {
     "name": "stdout",
     "output_type": "stream",
     "text": [
      "Tempo médio de execução: 20.468750 s\n",
      "Assignment (SemInferência) =  {(0, 0): 6, (0, 1): 5, (0, 2): 2, (0, 3): 4, (0, 4): 7, (0, 5): 1, (0, 6): 3, (1, 0): 1, (1, 1): 6, (1, 2): 4, (1, 3): 7, (1, 4): 3, (1, 5): 5, (1, 6): 2, (2, 0): 2, (2, 1): 4, (2, 2): 7, (2, 3): 3, (2, 4): 1, (2, 5): 6, (2, 6): 5, (3, 0): 4, (3, 1): 1, (3, 2): 3, (3, 3): 2, (3, 4): 5, (3, 5): 7, (3, 6): 6, (4, 0): 7, (4, 1): 2, (4, 2): 1, (4, 3): 5, (4, 4): 6, (4, 5): 3, (4, 6): 4, (5, 0): 3, (5, 1): 7, (5, 2): 5, (5, 3): 6, (5, 4): 4, (5, 5): 2, (5, 6): 1, (6, 0): 5, (6, 1): 3, (6, 2): 6, (6, 3): 1, (6, 4): 2, (6, 5): 4, (6, 6): 7}\n"
     ]
    }
   ],
   "source": [
    "# Guardar solucao\n",
    "sol1, tempo1 = search_time(backtracking_search, p_quadrado_latino)\n",
    "# Guardar resultados\n",
    "tempos['SemInferência'] = tempo1\n",
    "solucoes['SemInferência'] = sol1\n",
    "# Imprimir resultados\n",
    "print(f\"Tempo médio de execução: {tempo1:.6f} s\")\n",
    "print('Assignment (SemInferência) = ',sol1)"
   ]
  },
  {
   "cell_type": "markdown",
   "metadata": {},
   "source": [
    "- Backtracking com inferência Foward-Checking"
   ]
  },
  {
   "cell_type": "code",
   "execution_count": 112,
   "metadata": {
    "collapsed": false,
    "pycharm": {
     "name": "#%%\n"
    }
   },
   "outputs": [
    {
     "name": "stdout",
     "output_type": "stream",
     "text": [
      "Tempo médio de execução: 0.001997 s\n",
      "Assignment (FRWDchecking) =  {(0, 0): 6, (0, 1): 5, (0, 2): 2, (0, 3): 4, (0, 4): 7, (0, 5): 1, (0, 6): 3, (1, 0): 1, (1, 1): 6, (1, 2): 4, (1, 3): 7, (1, 4): 3, (1, 5): 5, (1, 6): 2, (2, 0): 2, (2, 1): 4, (2, 2): 7, (2, 3): 3, (2, 4): 1, (2, 5): 6, (2, 6): 5, (3, 0): 4, (3, 1): 1, (3, 2): 3, (3, 3): 2, (3, 4): 5, (3, 5): 7, (3, 6): 6, (4, 0): 7, (4, 1): 2, (4, 2): 1, (4, 3): 5, (4, 4): 6, (4, 5): 3, (4, 6): 4, (5, 0): 3, (5, 1): 7, (5, 2): 5, (5, 3): 6, (5, 4): 4, (5, 5): 2, (5, 6): 1, (6, 0): 5, (6, 1): 3, (6, 2): 6, (6, 3): 1, (6, 4): 2, (6, 5): 4, (6, 6): 7}\n"
     ]
    }
   ],
   "source": [
    "# Resolver e guardar solucao\n",
    "sol2, tempo2 = search_time(backtracking_search, p_quadrado_latino, inference=forward_checking)\n",
    "# Guardar resultados\n",
    "tempos['FRWDchecking'] = tempo2\n",
    "solucoes['FRWDchecking'] = sol2\n",
    "# Imprimir resultados\n",
    "print(f\"Tempo médio de execução: {tempo2:.6f} s\")\n",
    "print('Assignment (FRWDchecking) = ',sol2)"
   ]
  },
  {
   "cell_type": "markdown",
   "metadata": {},
   "source": [
    "- Backtracking com inferência MAC"
   ]
  },
  {
   "cell_type": "code",
   "execution_count": 113,
   "metadata": {
    "collapsed": false,
    "pycharm": {
     "name": "#%%\n"
    }
   },
   "outputs": [
    {
     "name": "stdout",
     "output_type": "stream",
     "text": [
      "Tempo médio de execução: 0.003087  s\n",
      "Assignment (MAC) =  {(0, 0): 6, (0, 1): 5, (0, 2): 2, (0, 3): 4, (0, 4): 7, (0, 5): 1, (0, 6): 3, (1, 0): 1, (1, 1): 6, (1, 2): 4, (1, 3): 7, (1, 4): 3, (1, 5): 5, (1, 6): 2, (2, 0): 2, (2, 1): 4, (2, 2): 7, (2, 3): 3, (2, 4): 1, (2, 5): 6, (2, 6): 5, (3, 0): 4, (3, 1): 1, (3, 2): 3, (3, 3): 2, (3, 4): 5, (3, 5): 7, (3, 6): 6, (4, 0): 7, (4, 1): 2, (4, 2): 1, (4, 3): 5, (4, 4): 6, (4, 5): 3, (4, 6): 4, (5, 0): 3, (5, 1): 7, (5, 2): 5, (5, 3): 6, (5, 4): 4, (5, 5): 2, (5, 6): 1, (6, 0): 5, (6, 1): 3, (6, 2): 6, (6, 3): 1, (6, 4): 2, (6, 5): 4, (6, 6): 7}\n"
     ]
    }
   ],
   "source": [
    "# Resolver e guardar solucao\n",
    "sol3, tempo3 = search_time(backtracking_search, p_quadrado_latino, inference=mac)\n",
    "# Guarda resultados\n",
    "tempos['MAC'] = tempo3\n",
    "solucoes['MAC'] = sol3\n",
    "# Imprimir resultados\n",
    "print(f\"Tempo médio de execução: {tempo3:.6f}  s\")\n",
    "print('Assignment (MAC) = ', sol3)"
   ]
  },
  {
   "cell_type": "markdown",
   "metadata": {},
   "source": [
    "- Backtracking com pré-processamento AC3"
   ]
  },
  {
   "cell_type": "code",
   "execution_count": 114,
   "metadata": {
    "collapsed": false,
    "pycharm": {
     "name": "#%%\n"
    }
   },
   "outputs": [
    {
     "name": "stdout",
     "output_type": "stream",
     "text": [
      "Tempo médio de execução: 0.001927  s\n",
      "Assignment (QuadradoLatinoComAC3) =  {(0, 0): 6, (0, 1): 5, (0, 2): 2, (0, 3): 4, (0, 4): 7, (0, 5): 1, (0, 6): 3, (1, 0): 1, (1, 1): 6, (1, 2): 4, (1, 3): 7, (1, 4): 3, (1, 5): 5, (1, 6): 2, (2, 0): 2, (2, 1): 4, (2, 2): 7, (2, 3): 3, (2, 4): 1, (2, 5): 6, (2, 6): 5, (3, 0): 4, (3, 1): 1, (3, 2): 3, (3, 3): 2, (3, 4): 5, (3, 5): 7, (3, 6): 6, (4, 0): 7, (4, 1): 2, (4, 2): 1, (4, 3): 5, (4, 4): 6, (4, 5): 3, (4, 6): 4, (5, 0): 3, (5, 1): 7, (5, 2): 5, (5, 3): 6, (5, 4): 4, (5, 5): 2, (5, 6): 1, (6, 0): 5, (6, 1): 3, (6, 2): 6, (6, 3): 1, (6, 4): 2, (6, 5): 4, (6, 6): 7}\n"
     ]
    }
   ],
   "source": [
    "# Aplicar pre-processamento\n",
    "p_quadrado_AC3 = AC3(p_quadrado_latino)\n",
    "# Resolver e guardar solucao\n",
    "sol4, tempo4 = search_time(backtracking_search, p_quadrado_AC3)\n",
    "# Guarda resultados\n",
    "tempos['AC3'] = tempo4\n",
    "solucoes['AC3'] = sol4\n",
    "# Imprimir resultados\n",
    "print(f\"Tempo médio de execução: {tempo4:.6f}  s\")\n",
    "print('Assignment (QuadradoLatinoComAC3) = ', sol4)"
   ]
  },
  {
   "cell_type": "markdown",
   "metadata": {},
   "source": [
    "- Backtracking com Heurística MRV"
   ]
  },
  {
   "cell_type": "code",
   "execution_count": 115,
   "metadata": {
    "collapsed": false,
    "pycharm": {
     "name": "#%%\n"
    }
   },
   "outputs": [
    {
     "name": "stdout",
     "output_type": "stream",
     "text": [
      "Tempo médio de execução: 0.003122 s\n",
      "Assignment (QuadradoLatinoComHeuristica) =  {(2, 6): 5, (3, 5): 7, (1, 0): 1, (4, 2): 1, (4, 4): 6, (3, 1): 1, (5, 4): 4, (0, 3): 4, (1, 5): 5, (3, 6): 6, (0, 5): 1, (6, 4): 2, (3, 0): 4, (2, 2): 7, (6, 2): 6, (1, 4): 3, (0, 1): 5, (5, 1): 7, (2, 1): 4, (5, 0): 3, (0, 4): 7, (6, 6): 7, (1, 6): 2, (0, 0): 6, (2, 3): 3, (4, 1): 2, (1, 2): 4, (3, 3): 2, (2, 4): 1, (5, 6): 1, (6, 3): 1, (4, 6): 4, (2, 5): 6, (1, 1): 6, (6, 1): 3, (4, 3): 5, (1, 3): 7, (4, 5): 3, (0, 2): 2, (2, 0): 2, (4, 0): 7, (0, 6): 3, (3, 4): 5, (5, 5): 2, (5, 2): 5, (6, 0): 5, (3, 2): 3, (6, 5): 4, (5, 3): 6}\n"
     ]
    }
   ],
   "source": [
    "# Resolver e guardar\n",
    "sol5, tempo5 = search_time(backtracking_search, p_quadrado_latino, select_unassigned_variable = mrv)\n",
    "# Guarda resultados\n",
    "tempos['MRV'] = tempo5\n",
    "solucoes['MRV'] = sol5\n",
    "# Imprimir resultados\n",
    "print(f\"Tempo médio de execução: {tempo5:.6f} s\")\n",
    "print('Assignment (QuadradoLatinoComHeuristica) = ', sol5)"
   ]
  },
  {
   "cell_type": "markdown",
   "metadata": {},
   "source": [
    "- Backtracking com Heurística MRV, Inferência foward_checking e pré-processamento AC3"
   ]
  },
  {
   "cell_type": "code",
   "execution_count": 116,
   "metadata": {},
   "outputs": [
    {
     "name": "stdout",
     "output_type": "stream",
     "text": [
      "Tempo médio de execução: 0.003511 s\n",
      "Assignment (QuadradoLatinoHeuristicaInferenciaAC3) =  {(2, 2): 7, (0, 2): 2, (0, 4): 7, (3, 5): 7, (4, 5): 3, (1, 0): 1, (5, 2): 5, (4, 3): 5, (0, 1): 5, (5, 5): 2, (6, 2): 6, (1, 4): 3, (4, 1): 2, (6, 6): 7, (5, 6): 1, (5, 0): 3, (3, 3): 2, (1, 5): 5, (6, 4): 2, (2, 3): 3, (0, 3): 4, (5, 4): 4, (2, 6): 5, (6, 0): 5, (2, 0): 2, (2, 4): 1, (4, 4): 6, (4, 6): 4, (1, 1): 6, (3, 0): 4, (2, 1): 4, (3, 4): 5, (3, 6): 6, (3, 2): 3, (6, 5): 4, (4, 2): 1, (3, 1): 1, (5, 1): 7, (0, 6): 3, (6, 1): 3, (1, 3): 7, (0, 5): 1, (1, 2): 4, (4, 0): 7, (0, 0): 6, (5, 3): 6, (2, 5): 6, (6, 3): 1, (1, 6): 2}\n"
     ]
    }
   ],
   "source": [
    "# Pre processamento\n",
    "p_quadrado_AC3 = AC3(p_quadrado_latino)\n",
    "# Resolver e guardar\n",
    "sol6, tempo6 = search_time(backtracking_search, p_quadrado_AC3, select_unassigned_variable=mrv, inference=forward_checking)\n",
    "# Guarda resultados\n",
    "tempos['AC3_MVR_MAC'] = tempo6\n",
    "solucoes['AC3_MVR_MAC'] = sol6\n",
    "# Imprimir resultados\n",
    "print(f\"Tempo médio de execução: {tempo6:.6f} s\")\n",
    "print('Assignment (QuadradoLatinoHeuristicaInferenciaAC3) = ', sol6)"
   ]
  },
  {
   "cell_type": "markdown",
   "metadata": {},
   "source": [
    "#### Análise dos tempos de execução"
   ]
  },
  {
   "cell_type": "code",
   "execution_count": 144,
   "metadata": {
    "collapsed": false,
    "pycharm": {
     "name": "#%%\n"
    }
   },
   "outputs": [
    {
     "data": {
      "text/html": [
       "<div>\n",
       "<style scoped>\n",
       "    .dataframe tbody tr th:only-of-type {\n",
       "        vertical-align: middle;\n",
       "    }\n",
       "\n",
       "    .dataframe tbody tr th {\n",
       "        vertical-align: top;\n",
       "    }\n",
       "\n",
       "    .dataframe thead th {\n",
       "        text-align: right;\n",
       "    }\n",
       "</style>\n",
       "<table border=\"1\" class=\"dataframe\">\n",
       "  <thead>\n",
       "    <tr style=\"text-align: right;\">\n",
       "      <th></th>\n",
       "      <th>Tempos (s)</th>\n",
       "    </tr>\n",
       "  </thead>\n",
       "  <tbody>\n",
       "    <tr>\n",
       "      <th>AC3</th>\n",
       "      <td>0.001927</td>\n",
       "    </tr>\n",
       "    <tr>\n",
       "      <th>FRWDchecking</th>\n",
       "      <td>0.001997</td>\n",
       "    </tr>\n",
       "    <tr>\n",
       "      <th>MAC</th>\n",
       "      <td>0.003087</td>\n",
       "    </tr>\n",
       "    <tr>\n",
       "      <th>MRV</th>\n",
       "      <td>0.003122</td>\n",
       "    </tr>\n",
       "    <tr>\n",
       "      <th>AC3_MVR_MAC</th>\n",
       "      <td>0.003511</td>\n",
       "    </tr>\n",
       "    <tr>\n",
       "      <th>SemInferência</th>\n",
       "      <td>20.468750</td>\n",
       "    </tr>\n",
       "  </tbody>\n",
       "</table>\n",
       "</div>"
      ],
      "text/plain": [
       "               Tempos (s)\n",
       "AC3              0.001927\n",
       "FRWDchecking     0.001997\n",
       "MAC              0.003087\n",
       "MRV              0.003122\n",
       "AC3_MVR_MAC      0.003511\n",
       "SemInferência   20.468750"
      ]
     },
     "execution_count": 144,
     "metadata": {},
     "output_type": "execute_result"
    }
   ],
   "source": [
    "import pandas as pd\n",
    "temposSorted = dict(sorted(tempos.items(), key=lambda x:x[1]))\n",
    "data_latino = pd.DataFrame(temposSorted.values() ,index = temposSorted.keys(), columns= [\"Tempos (s)\"])\n",
    "data_latino"
   ]
  },
  {
   "cell_type": "markdown",
   "metadata": {},
   "source": [
    "Após análisar os tempos de execução pudemos concluir que a aplicação de heurísticas, inferência durante a procura ou o uso de pré-processamento, reduz significativamente o tempo de procura para um problema mais complexo.  \n",
    "<br>\n",
    "Podemos notar também que os métodos mais simples como o backtracking normal com pré-processamento AC3 e backtracking com inferência foward checking foram mais rápidos, isto deve-se ao facto de que estes efetuam ou nenhums (AC3) ou alguns checks adicionais durante o execução do algoritmo backtracking search, enquanto outros algoritmos mais complexos podem executar mais checks durante a execução como por exemplo o MAC que mantem a consistência dos arcos. Estes checks adicionais resultam num tempo de procura maior relativamente aos outros para este problema de complexidade média. Caso fosse um problema altamente complexo, seria provável ver um maior beníficio ao utilizar estes algoritmos."
   ]
  },
  {
   "cell_type": "markdown",
   "metadata": {
    "collapsed": false
   },
   "source": [
    "## Visualização do problema"
   ]
  },
  {
   "cell_type": "code",
   "execution_count": 120,
   "metadata": {},
   "outputs": [],
   "source": [
    "def visualizacao_csp_quadrado_latino(n, problema_csp, solucao):\n",
    "    \"\"\"Gera uma visualização do estado inicial e da solução de um problema de quadrados\n",
    "    latinos de dimensão n\n",
    "    \n",
    "    Args:\n",
    "        n (int): Dimensão do problema\n",
    "        problema_csp (CSP): Object CSP do problema em questão\n",
    "        solucao (dict): Solução do problema\n",
    "    \"\"\"    \n",
    "    \n",
    "    # Construir matriz inicial com os valores do problema\n",
    "    estado_inicial = [[0 for y in range(n)] for x in range(n)]\n",
    "    for var, dom in problema_csp.domains.items():\n",
    "        if len(dom) == 1:\n",
    "            estado_inicial[var[1]][var[0]] = dom[0]\n",
    "        \n",
    "    # Construir matriz final com os valores do problema\n",
    "    estado_final = [[0 for y in range(n)] for x in range(n)]\n",
    "    for var, valor in solucao.items():\n",
    "        estado_final[var[1]][var[0]] = valor\n",
    "    \n",
    "    # Construir strings que representam as matrizes\n",
    "    board_inicial = \"\"\n",
    "    board_final = \"\"\n",
    "    for y in range(n):\n",
    "        for x in range(n):\n",
    "            board_inicial += str(estado_inicial[y][x]) + \" \"\n",
    "            board_final += str(estado_final[y][x]) + \" \"\n",
    "        board_inicial += \"\\n\"\n",
    "        board_final += \"\\n\"\n",
    "    \n",
    "    print(\"Estado Inicial:\")\n",
    "    print(board_inicial)\n",
    "    print(\"Solução:\")\n",
    "    print(board_final)\n",
    "\n",
    "def visualizacao_board(board):\n",
    "    \"\"\"Dada uma board de um problema quadrado latino, faz\n",
    "    print do output\n",
    "    \"\"\"\n",
    "    n = len(board)\n",
    "    output = \"\"\n",
    "    for j in range(n):\n",
    "        for i in range(n):\n",
    "            output += str(board[j][i]) + \" \"\n",
    "        output += \"\\n\"\n",
    "    print(output)"
   ]
  },
  {
   "cell_type": "markdown",
   "metadata": {},
   "source": [
    "Para visualizar a solução do problema anterior basta invocar a função visualizacao_quadrado_latino dando a dimensao e a solução como argumentos"
   ]
  },
  {
   "cell_type": "code",
   "execution_count": 121,
   "metadata": {
    "collapsed": false,
    "pycharm": {
     "name": "#%%\n"
    }
   },
   "outputs": [
    {
     "name": "stdout",
     "output_type": "stream",
     "text": [
      "Estado Inicial:\n",
      "6 0 0 0 0 0 0 \n",
      "0 6 0 1 0 0 3 \n",
      "2 0 7 0 0 0 0 \n",
      "4 0 0 2 0 0 1 \n",
      "0 3 1 5 6 0 0 \n",
      "1 0 0 7 0 2 4 \n",
      "0 0 0 0 0 0 7 \n",
      "\n",
      "Solução:\n",
      "6 1 2 4 7 3 5 \n",
      "5 6 4 1 2 7 3 \n",
      "2 4 7 3 1 5 6 \n",
      "4 7 3 2 5 6 1 \n",
      "7 3 1 5 6 4 2 \n",
      "1 5 6 7 3 2 4 \n",
      "3 2 5 6 4 1 7 \n",
      "\n"
     ]
    }
   ],
   "source": [
    "visualizacao_csp_quadrado_latino(n, p_quadrado_latino, backtracking_search(p_quadrado_latino))"
   ]
  },
  {
   "cell_type": "markdown",
   "metadata": {},
   "source": [
    "Podemos ver a board original e solução já conhecida do website do enunciado para comparar com o obtido pelo algoritmo"
   ]
  },
  {
   "cell_type": "code",
   "execution_count": 122,
   "metadata": {},
   "outputs": [
    {
     "name": "stdout",
     "output_type": "stream",
     "text": [
      "Antes:\n",
      "6 0 0 0 0 0 0 \n",
      "0 6 0 1 0 0 3 \n",
      "2 0 7 0 0 0 0 \n",
      "4 0 0 2 0 0 1 \n",
      "0 3 1 5 6 0 0 \n",
      "1 0 0 7 0 2 4 \n",
      "0 0 0 0 0 0 7 \n",
      "\n",
      "Depois:\n",
      "6 1 2 4 7 3 5 \n",
      "5 6 4 1 2 7 2 \n",
      "2 4 7 3 1 5 6 \n",
      "4 7 3 2 5 6 1 \n",
      "7 3 1 5 6 4 2 \n",
      "1 5 6 7 3 2 4 \n",
      "3 2 5 6 4 1 7 \n",
      "\n"
     ]
    }
   ],
   "source": [
    "solution = [[6,1,2,4,7,3,5],\n",
    "            [5,6,4,1,2,7,2],\n",
    "            [2,4,7,3,1,5,6],\n",
    "            [4,7,3,2,5,6,1],\n",
    "            [7,3,1,5,6,4,2],\n",
    "            [1,5,6,7,3,2,4],\n",
    "            [3,2,5,6,4,1,7]]\n",
    "\n",
    "print(\"Antes:\")\n",
    "visualizacao_board(board)\n",
    "print(\"Depois:\")\n",
    "visualizacao_board(solution)"
   ]
  },
  {
   "cell_type": "markdown",
   "metadata": {
    "collapsed": false
   },
   "source": [
    "## Criação do problema Futoshiki *5x5*\n",
    "\n",
    "Mostrem que o código está a funcionar, construindo um problema de Futoshiki *5x5*, imprimindo as variáveis, domínios iniciais, e vizinhos. Adicione os comentários necessários. Utilize o [link](https://www.futoshiki.org/) para gerar puzzles e validar a implementação."
   ]
  },
  {
   "cell_type": "markdown",
   "metadata": {},
   "source": [
    "Para criar um problema Futoshiki vamos ter definir os elementos da matriz que estão preenchidos e estabelecer as relações de desigualdade presentes no problema."
   ]
  },
  {
   "cell_type": "code",
   "execution_count": 168,
   "metadata": {},
   "outputs": [],
   "source": [
    "preenchidos5 = {(0,3) : [2], (4,3) : [3]}\n",
    "desigualdades5 = {((3,0),(4,0)) : maior, ((1,1),(0,1)) : menor, ((1,2),(0,2)) : menor,\\\n",
    "                 ((3,3),(3,2)) : menor, ((1,4),(2,4)) : maior, ((2,3),(2,4)) : maior, \\\n",
    "                 ((4,4),(4,3)) : maior}"
   ]
  },
  {
   "cell_type": "markdown",
   "metadata": {},
   "source": [
    "Podemos então criar um problema Futoshiki 5x5 da seguinte forma"
   ]
  },
  {
   "cell_type": "code",
   "execution_count": 156,
   "metadata": {},
   "outputs": [],
   "source": [
    "futoshiki5 = quadrado_latino(5, preenchidos5, desigualdades5)"
   ]
  },
  {
   "cell_type": "markdown",
   "metadata": {},
   "source": [
    "E ver as variáveis, domínios e vizinhos"
   ]
  },
  {
   "cell_type": "code",
   "execution_count": 157,
   "metadata": {},
   "outputs": [
    {
     "name": "stdout",
     "output_type": "stream",
     "text": [
      "Variáveis =  [(0, 0), (0, 1), (0, 2), (0, 3), (0, 4), (1, 0), (1, 1), (1, 2), (1, 3), (1, 4), (2, 0), (2, 1), (2, 2), (2, 3), (2, 4), (3, 0), (3, 1), (3, 2), (3, 3), (3, 4), (4, 0), (4, 1), (4, 2), (4, 3), (4, 4)] \n",
      "\n",
      "Domínios =  {(0, 3): [2], (4, 3): [3], (0, 1): [1, 2, 3, 4, 5], (2, 4): [1, 2, 3, 4, 5], (4, 0): [1, 2, 3, 4, 5], (1, 2): [1, 2, 3, 4, 5], (3, 4): [1, 2, 3, 4, 5], (0, 4): [1, 2, 3, 4, 5], (2, 1): [1, 2, 3, 4, 5], (3, 1): [1, 2, 3, 4, 5], (0, 2): [1, 2, 3, 4, 5], (2, 2): [1, 2, 3, 4, 5], (1, 0): [1, 2, 3, 4, 5], (3, 2): [1, 2, 3, 4, 5], (1, 3): [1, 2, 3, 4, 5], (4, 1): [1, 2, 3, 4, 5], (4, 4): [1, 2, 3, 4, 5], (0, 0): [1, 2, 3, 4, 5], (1, 1): [1, 2, 3, 4, 5], (2, 0): [1, 2, 3, 4, 5], (4, 2): [1, 2, 3, 4, 5], (3, 0): [1, 2, 3, 4, 5], (1, 4): [1, 2, 3, 4, 5], (2, 3): [1, 2, 3, 4, 5], (3, 3): [1, 2, 3, 4, 5]} \n",
      "\n",
      "Vizinhos =  {(0, 0): [(0, 1), (0, 2), (0, 3), (0, 4), (1, 0), (2, 0), (3, 0), (4, 0)], (0, 1): [(0, 0), (0, 2), (0, 3), (0, 4), (1, 1), (2, 1), (3, 1), (4, 1)], (0, 2): [(0, 0), (0, 1), (0, 3), (0, 4), (1, 2), (2, 2), (3, 2), (4, 2)], (0, 3): [(0, 0), (0, 1), (0, 2), (0, 4), (1, 3), (2, 3), (3, 3), (4, 3)], (0, 4): [(0, 0), (0, 1), (0, 2), (0, 3), (1, 4), (2, 4), (3, 4), (4, 4)], (1, 0): [(0, 0), (1, 1), (1, 2), (1, 3), (1, 4), (2, 0), (3, 0), (4, 0)], (1, 1): [(0, 1), (1, 0), (1, 2), (1, 3), (1, 4), (2, 1), (3, 1), (4, 1)], (1, 2): [(0, 2), (1, 0), (1, 1), (1, 3), (1, 4), (2, 2), (3, 2), (4, 2)], (1, 3): [(0, 3), (1, 0), (1, 1), (1, 2), (1, 4), (2, 3), (3, 3), (4, 3)], (1, 4): [(0, 4), (1, 0), (1, 1), (1, 2), (1, 3), (2, 4), (3, 4), (4, 4)], (2, 0): [(0, 0), (1, 0), (2, 1), (2, 2), (2, 3), (2, 4), (3, 0), (4, 0)], (2, 1): [(0, 1), (1, 1), (2, 0), (2, 2), (2, 3), (2, 4), (3, 1), (4, 1)], (2, 2): [(0, 2), (1, 2), (2, 0), (2, 1), (2, 3), (2, 4), (3, 2), (4, 2)], (2, 3): [(0, 3), (1, 3), (2, 0), (2, 1), (2, 2), (2, 4), (3, 3), (4, 3)], (2, 4): [(0, 4), (1, 4), (2, 0), (2, 1), (2, 2), (2, 3), (3, 4), (4, 4)], (3, 0): [(0, 0), (1, 0), (2, 0), (3, 1), (3, 2), (3, 3), (3, 4), (4, 0)], (3, 1): [(0, 1), (1, 1), (2, 1), (3, 0), (3, 2), (3, 3), (3, 4), (4, 1)], (3, 2): [(0, 2), (1, 2), (2, 2), (3, 0), (3, 1), (3, 3), (3, 4), (4, 2)], (3, 3): [(0, 3), (1, 3), (2, 3), (3, 0), (3, 1), (3, 2), (3, 4), (4, 3)], (3, 4): [(0, 4), (1, 4), (2, 4), (3, 0), (3, 1), (3, 2), (3, 3), (4, 4)], (4, 0): [(0, 0), (1, 0), (2, 0), (3, 0), (4, 1), (4, 2), (4, 3), (4, 4)], (4, 1): [(0, 1), (1, 1), (2, 1), (3, 1), (4, 0), (4, 2), (4, 3), (4, 4)], (4, 2): [(0, 2), (1, 2), (2, 2), (3, 2), (4, 0), (4, 1), (4, 3), (4, 4)], (4, 3): [(0, 3), (1, 3), (2, 3), (3, 3), (4, 0), (4, 1), (4, 2), (4, 4)], (4, 4): [(0, 4), (1, 4), (2, 4), (3, 4), (4, 0), (4, 1), (4, 2), (4, 3)]} \n",
      "\n"
     ]
    }
   ],
   "source": [
    "print(\"Variáveis = \", futoshiki5.variables, \"\\n\")\n",
    "print(\"Domínios = \", futoshiki5.domains,\"\\n\")\n",
    "print(\"Vizinhos = \", futoshiki5.neighbors, \"\\n\")"
   ]
  },
  {
   "cell_type": "markdown",
   "metadata": {},
   "source": [
    "E podemos resolver usando o backtracking search"
   ]
  },
  {
   "cell_type": "code",
   "execution_count": 158,
   "metadata": {},
   "outputs": [
    {
     "name": "stdout",
     "output_type": "stream",
     "text": [
      "Solução: {(0, 0): 5, (0, 1): 3, (0, 2): 1, (0, 3): 2, (0, 4): 4, (1, 0): 1, (1, 1): 4, (1, 2): 2, (1, 3): 5, (1, 4): 3, (2, 0): 4, (2, 1): 5, (2, 2): 3, (2, 3): 1, (2, 4): 2, (3, 0): 3, (3, 1): 2, (3, 2): 5, (3, 3): 4, (3, 4): 1, (4, 0): 2, (4, 1): 1, (4, 2): 4, (4, 3): 3, (4, 4): 5}\n"
     ]
    }
   ],
   "source": [
    "sol_futo = backtracking_search(futoshiki5)\n",
    "print(\"Solução:\", sol_futo)"
   ]
  },
  {
   "cell_type": "markdown",
   "metadata": {
    "collapsed": false
   },
   "source": [
    "Resolva o problema com o backtracking sem inferencia, com inferencia, e com uma heurística. Até que dimensão consegue resolver o problema em menos de 1 minuto?"
   ]
  },
  {
   "cell_type": "markdown",
   "metadata": {},
   "source": [
    "Tal como para os quadrados latinos vamos criar um problema de maior dimensão com restrições complexas de forma a pudermos comparar melhor os tempos de execução. Vamos utilizar a função search_time definida no problema dos quadrados latino para calcular o tempo de execução"
   ]
  },
  {
   "cell_type": "code",
   "execution_count": 123,
   "metadata": {
    "collapsed": false,
    "pycharm": {
     "name": "#%%\n"
    }
   },
   "outputs": [],
   "source": [
    "solucoesFutoshiki = {}\n",
    "temposFutoshiki = {}"
   ]
  },
  {
   "cell_type": "code",
   "execution_count": 138,
   "metadata": {
    "collapsed": false,
    "pycharm": {
     "name": "#%%\n"
    }
   },
   "outputs": [],
   "source": [
    "preenchidos7ext = {(3,2) : [2], (4,0) : [4]}\n",
    "\n",
    "desigualdades7ext = {((1,0),(2,0)):menor, ((2,0),(3,0)):menor, ((5,0),(6,0)):maior, \\\n",
    "                     ((2,1),(2,0)):menor, ((5,1),(5,0)):menor, ((0,1),(1,1)):maior, \\\n",
    "                     ((1,1),(2,1)):maior, ((2,1),(3,1)):menor, ((4,1),(5,1)):menor, \\\n",
    "                     ((2,2),(2,1)):menor, ((5,2),(5,1)):maior, ((1,3),(1,2)):menor, \\\n",
    "                     ((2,3),(2,2)):maior, ((0,3),(1,3)):maior, ((2,3),(3,3)):menor, \\\n",
    "                     ((4,3),(5,3)):menor, ((0,4),(0,3)):maior, ((1,4),(1,3)):menor, \\\n",
    "                     ((6,4),(6,3)):menor, ((3,4),(4,4)):menor, ((4,4),(5,4)):menor, \\\n",
    "                     ((3,6),(3,5)):maior, ((3,5),(3,4)):menor, ((0,6),(0,5)):maior, \\\n",
    "                     ((0,2),(1,2)):maior}\n",
    "\n",
    "futoshiki7ext = quadrado_latino(7, preenchidos7ext, desigualdades7ext)"
   ]
  },
  {
   "cell_type": "markdown",
   "metadata": {
    "collapsed": false,
    "pycharm": {
     "name": "#%% md\n"
    }
   },
   "source": [
    "- Backtracking sem inferência"
   ]
  },
  {
   "cell_type": "code",
   "execution_count": 131,
   "metadata": {
    "collapsed": false,
    "pycharm": {
     "name": "#%%\n"
    }
   },
   "outputs": [
    {
     "name": "stdout",
     "output_type": "stream",
     "text": [
      "Tempo médio de execução: 51.047881 s\n",
      "Assignment (SemInferência) =  {(0, 0): 1, (0, 1): 7, (0, 2): 6, (0, 3): 4, (0, 4): 5, (0, 5): 2, (0, 6): 3, (1, 0): 2, (1, 1): 6, (1, 2): 4, (1, 3): 3, (1, 4): 1, (1, 5): 7, (1, 6): 5, (2, 0): 3, (2, 1): 2, (2, 2): 1, (2, 3): 5, (2, 4): 4, (2, 5): 6, (2, 6): 7, (3, 0): 7, (3, 1): 5, (3, 2): 2, (3, 3): 6, (3, 4): 3, (3, 5): 1, (3, 6): 4, (4, 0): 4, (4, 1): 3, (4, 2): 7, (4, 3): 1, (4, 4): 6, (4, 5): 5, (4, 6): 2, (5, 0): 6, (5, 1): 4, (5, 2): 5, (5, 3): 2, (5, 4): 7, (5, 5): 3, (5, 6): 1, (6, 0): 5, (6, 1): 1, (6, 2): 3, (6, 3): 7, (6, 4): 2, (6, 5): 4, (6, 6): 6}\n"
     ]
    }
   ],
   "source": [
    "# Guardar solucao\n",
    "sol1, tempo1 = search_time(backtracking_search, futoshiki7ext)\n",
    "# Guardar resultados\n",
    "temposFutoshiki['SemInferência'] = tempo1\n",
    "solucoesFutoshiki['SemInferência'] = sol1\n",
    "# Imprimir resultados\n",
    "print(f\"Tempo médio de execução: {tempo1:.6f} s\")\n",
    "print('Assignment (SemInferência) = ',sol1)"
   ]
  },
  {
   "cell_type": "markdown",
   "metadata": {
    "collapsed": false,
    "pycharm": {
     "name": "#%% md\n"
    }
   },
   "source": [
    "- Backtracking com inferência Forward Checking"
   ]
  },
  {
   "cell_type": "code",
   "execution_count": 132,
   "metadata": {
    "collapsed": false,
    "pycharm": {
     "name": "#%%\n"
    }
   },
   "outputs": [
    {
     "name": "stdout",
     "output_type": "stream",
     "text": [
      "Tempo médio de execução: 0.002068 s\n",
      "Assignment (FRWDchecking) =  {(0, 0): 1, (0, 1): 7, (0, 2): 6, (0, 3): 4, (0, 4): 5, (0, 5): 2, (0, 6): 3, (1, 0): 2, (1, 1): 6, (1, 2): 4, (1, 3): 3, (1, 4): 1, (1, 5): 7, (1, 6): 5, (2, 0): 3, (2, 1): 2, (2, 2): 1, (2, 3): 5, (2, 4): 4, (2, 5): 6, (2, 6): 7, (3, 0): 7, (3, 1): 5, (3, 2): 2, (3, 3): 6, (3, 4): 3, (3, 5): 1, (3, 6): 4, (4, 0): 4, (4, 1): 3, (4, 2): 7, (4, 3): 1, (4, 4): 6, (4, 5): 5, (4, 6): 2, (5, 0): 6, (5, 1): 4, (5, 2): 5, (5, 3): 2, (5, 4): 7, (5, 5): 3, (5, 6): 1, (6, 0): 5, (6, 1): 1, (6, 2): 3, (6, 3): 7, (6, 4): 2, (6, 5): 4, (6, 6): 6}\n"
     ]
    }
   ],
   "source": [
    "# Guardar solucao\n",
    "sol2, tempo2 = search_time(backtracking_search, futoshiki7ext, inference=forward_checking)\n",
    "# Guardar resultados\n",
    "temposFutoshiki['FRWDchecking'] = tempo2\n",
    "solucoesFutoshiki['FRWDchecking'] = sol2\n",
    "# Imprimir resultados\n",
    "print(f\"Tempo médio de execução: {tempo2:.6f} s\")\n",
    "print('Assignment (FRWDchecking) = ',sol2)"
   ]
  },
  {
   "cell_type": "markdown",
   "metadata": {},
   "source": [
    "- Backtracking com inferência MAC"
   ]
  },
  {
   "cell_type": "code",
   "execution_count": 133,
   "metadata": {},
   "outputs": [
    {
     "name": "stdout",
     "output_type": "stream",
     "text": [
      "Tempo médio de execução: 0.003263 s\n",
      "Assignment (MAC) =  {(0, 0): 1, (0, 1): 7, (0, 2): 6, (0, 3): 4, (0, 4): 5, (0, 5): 2, (0, 6): 3, (1, 0): 2, (1, 1): 6, (1, 2): 4, (1, 3): 3, (1, 4): 1, (1, 5): 7, (1, 6): 5, (2, 0): 3, (2, 1): 2, (2, 2): 1, (2, 3): 5, (2, 4): 4, (2, 5): 6, (2, 6): 7, (3, 0): 7, (3, 1): 5, (3, 2): 2, (3, 3): 6, (3, 4): 3, (3, 5): 1, (3, 6): 4, (4, 0): 4, (4, 1): 3, (4, 2): 7, (4, 3): 1, (4, 4): 6, (4, 5): 5, (4, 6): 2, (5, 0): 6, (5, 1): 4, (5, 2): 5, (5, 3): 2, (5, 4): 7, (5, 5): 3, (5, 6): 1, (6, 0): 5, (6, 1): 1, (6, 2): 3, (6, 3): 7, (6, 4): 2, (6, 5): 4, (6, 6): 6}\n"
     ]
    }
   ],
   "source": [
    "# Guardar solucao\n",
    "sol3, tempo3 = search_time(backtracking_search, futoshiki7ext, inference=mac)\n",
    "# Guardar resultados\n",
    "temposFutoshiki['MAC'] = tempo3\n",
    "solucoesFutoshiki['MAC'] = sol3\n",
    "# Imprimir resultados\n",
    "print(f\"Tempo médio de execução: {tempo3:.6f} s\")\n",
    "print('Assignment (MAC) = ',sol3)"
   ]
  },
  {
   "cell_type": "markdown",
   "metadata": {},
   "source": [
    "- Backtracking com pré-processamento AC3"
   ]
  },
  {
   "cell_type": "code",
   "execution_count": 134,
   "metadata": {},
   "outputs": [
    {
     "name": "stdout",
     "output_type": "stream",
     "text": [
      "Tempo médio de execução: 0.001737  s\n",
      "Assignment (FutoshikiComAC3) =  {(0, 0): 1, (0, 1): 7, (0, 2): 6, (0, 3): 4, (0, 4): 5, (0, 5): 2, (0, 6): 3, (1, 0): 2, (1, 1): 6, (1, 2): 4, (1, 3): 3, (1, 4): 1, (1, 5): 7, (1, 6): 5, (2, 0): 3, (2, 1): 2, (2, 2): 1, (2, 3): 5, (2, 4): 4, (2, 5): 6, (2, 6): 7, (3, 0): 7, (3, 1): 5, (3, 2): 2, (3, 3): 6, (3, 4): 3, (3, 5): 1, (3, 6): 4, (4, 0): 4, (4, 1): 3, (4, 2): 7, (4, 3): 1, (4, 4): 6, (4, 5): 5, (4, 6): 2, (5, 0): 6, (5, 1): 4, (5, 2): 5, (5, 3): 2, (5, 4): 7, (5, 5): 3, (5, 6): 1, (6, 0): 5, (6, 1): 1, (6, 2): 3, (6, 3): 7, (6, 4): 2, (6, 5): 4, (6, 6): 6}\n"
     ]
    }
   ],
   "source": [
    "# Aplicar pre-processamento\n",
    "p_quadrado_AC3 = AC3(p_quadrado_latino)\n",
    "# Resolver e guardar solucao\n",
    "sol4, tempo4 = search_time(backtracking_search, futoshiki7ext)\n",
    "# Guarda resultados\n",
    "temposFutoshiki['AC3'] = tempo4\n",
    "solucoesFutoshiki['AC3'] = sol4\n",
    "# Imprimir resultados\n",
    "print(f\"Tempo médio de execução: {tempo4:.6f}  s\")\n",
    "print('Assignment (FutoshikiComAC3) = ', sol4)"
   ]
  },
  {
   "cell_type": "markdown",
   "metadata": {},
   "source": [
    "- Backtracking com heurística MRV"
   ]
  },
  {
   "cell_type": "code",
   "execution_count": 135,
   "metadata": {},
   "outputs": [
    {
     "name": "stdout",
     "output_type": "stream",
     "text": [
      "Tempo médio de execução: 0.003140 s\n",
      "Assignment (FutoshikiComHeuristica) =  {(3, 0): 7, (0, 6): 3, (6, 4): 2, (1, 3): 3, (4, 2): 7, (0, 2): 6, (6, 6): 6, (4, 5): 5, (6, 3): 7, (0, 1): 7, (6, 2): 3, (2, 4): 4, (2, 3): 5, (5, 2): 5, (3, 3): 6, (0, 3): 4, (4, 1): 3, (4, 4): 6, (5, 4): 7, (4, 6): 2, (6, 0): 5, (3, 4): 3, (0, 0): 1, (2, 0): 3, (5, 3): 2, (1, 2): 4, (2, 2): 1, (6, 5): 4, (5, 6): 1, (5, 5): 3, (1, 6): 5, (1, 5): 7, (1, 4): 1, (0, 4): 5, (0, 5): 2, (2, 5): 6, (3, 6): 4, (2, 6): 7, (4, 3): 1, (4, 0): 4, (5, 0): 6, (3, 2): 2, (6, 1): 1, (1, 1): 6, (2, 1): 2, (3, 5): 1, (3, 1): 5, (5, 1): 4, (1, 0): 2}\n"
     ]
    }
   ],
   "source": [
    "# Resolver e guardar\n",
    "sol5, tempo5 = search_time(backtracking_search, futoshiki7ext, select_unassigned_variable = mrv)\n",
    "# Guarda resultados\n",
    "temposFutoshiki['MRV'] = tempo5\n",
    "solucoesFutoshiki['MRV'] = sol5\n",
    "# Imprimir resultados\n",
    "print(f\"Tempo médio de execução: {tempo5:.6f} s\")\n",
    "print('Assignment (FutoshikiComHeuristica) = ', sol5)"
   ]
  },
  {
   "cell_type": "markdown",
   "metadata": {},
   "source": [
    "- Backtracking com Heurística MRV, Inferência Forward-Checking e pré-processamento AC3"
   ]
  },
  {
   "cell_type": "code",
   "execution_count": 136,
   "metadata": {},
   "outputs": [
    {
     "name": "stdout",
     "output_type": "stream",
     "text": [
      "Tempo médio de execução: 0.003599 s\n",
      "Assignment (FutoshikiHeuristicaInferenciaAC3) =  {(6, 3): 7, (3, 1): 5, (1, 4): 1, (2, 2): 1, (4, 0): 4, (0, 6): 3, (3, 0): 7, (0, 3): 4, (2, 0): 3, (2, 3): 5, (4, 2): 7, (3, 3): 6, (5, 1): 4, (1, 1): 6, (5, 5): 3, (4, 5): 5, (0, 2): 6, (5, 6): 1, (5, 3): 2, (0, 0): 1, (1, 5): 7, (6, 6): 6, (3, 4): 3, (0, 5): 2, (6, 0): 5, (6, 5): 4, (5, 0): 6, (3, 5): 1, (2, 1): 2, (5, 2): 5, (2, 5): 6, (2, 4): 4, (1, 2): 4, (1, 6): 5, (6, 1): 1, (1, 3): 3, (6, 2): 3, (5, 4): 7, (1, 0): 2, (6, 4): 2, (0, 1): 7, (4, 1): 3, (3, 2): 2, (0, 4): 5, (3, 6): 4, (2, 6): 7, (4, 4): 6, (4, 3): 1, (4, 6): 2}\n"
     ]
    }
   ],
   "source": [
    "futo_AC3 = AC3(futoshiki7ext)\n",
    "# Resolver e guardar\n",
    "sol6, tempo6 = search_time(backtracking_search, futo_AC3, select_unassigned_variable=mrv, inference=forward_checking)\n",
    "# Guarda resultados\n",
    "temposFutoshiki['AC3_MVR_MAC'] = tempo6\n",
    "solucoesFutoshiki['AC3_MVR_MAC'] = sol6\n",
    "# Imprimir resultados\n",
    "print(f\"Tempo médio de execução: {tempo6:.6f} s\")\n",
    "print('Assignment (FutoshikiHeuristicaInferenciaAC3) = ', sol6)"
   ]
  },
  {
   "cell_type": "markdown",
   "metadata": {},
   "source": [
    "Vamos rapidamente comparar as soluções de todas as procuras, como este problema foi retirado do website do enunciado é suposto ter apenas uma solução possível. Por isso esperamos obter apenas um resultado quando filtrar-mos as soluções duplicadas na tabela"
   ]
  },
  {
   "cell_type": "code",
   "execution_count": 56,
   "metadata": {
    "collapsed": false,
    "pycharm": {
     "name": "#%%\n"
    }
   },
   "outputs": [
    {
     "data": {
      "text/html": [
       "<div>\n",
       "<style scoped>\n",
       "    .dataframe tbody tr th:only-of-type {\n",
       "        vertical-align: middle;\n",
       "    }\n",
       "\n",
       "    .dataframe tbody tr th {\n",
       "        vertical-align: top;\n",
       "    }\n",
       "\n",
       "    .dataframe thead tr th {\n",
       "        text-align: left;\n",
       "    }\n",
       "</style>\n",
       "<table border=\"1\" class=\"dataframe\">\n",
       "  <thead>\n",
       "    <tr>\n",
       "      <th></th>\n",
       "      <th colspan=\"7\" halign=\"left\">0</th>\n",
       "      <th colspan=\"3\" halign=\"left\">1</th>\n",
       "      <th>...</th>\n",
       "      <th colspan=\"3\" halign=\"left\">5</th>\n",
       "      <th colspan=\"7\" halign=\"left\">6</th>\n",
       "    </tr>\n",
       "    <tr>\n",
       "      <th></th>\n",
       "      <th>0</th>\n",
       "      <th>1</th>\n",
       "      <th>2</th>\n",
       "      <th>3</th>\n",
       "      <th>4</th>\n",
       "      <th>5</th>\n",
       "      <th>6</th>\n",
       "      <th>0</th>\n",
       "      <th>1</th>\n",
       "      <th>2</th>\n",
       "      <th>...</th>\n",
       "      <th>4</th>\n",
       "      <th>5</th>\n",
       "      <th>6</th>\n",
       "      <th>0</th>\n",
       "      <th>1</th>\n",
       "      <th>2</th>\n",
       "      <th>3</th>\n",
       "      <th>4</th>\n",
       "      <th>5</th>\n",
       "      <th>6</th>\n",
       "    </tr>\n",
       "  </thead>\n",
       "  <tbody>\n",
       "    <tr>\n",
       "      <th>SemInferência</th>\n",
       "      <td>1</td>\n",
       "      <td>7</td>\n",
       "      <td>6</td>\n",
       "      <td>4</td>\n",
       "      <td>5</td>\n",
       "      <td>2</td>\n",
       "      <td>3</td>\n",
       "      <td>2</td>\n",
       "      <td>6</td>\n",
       "      <td>4</td>\n",
       "      <td>...</td>\n",
       "      <td>7</td>\n",
       "      <td>3</td>\n",
       "      <td>1</td>\n",
       "      <td>5</td>\n",
       "      <td>1</td>\n",
       "      <td>3</td>\n",
       "      <td>7</td>\n",
       "      <td>2</td>\n",
       "      <td>4</td>\n",
       "      <td>6</td>\n",
       "    </tr>\n",
       "  </tbody>\n",
       "</table>\n",
       "<p>1 rows × 49 columns</p>\n",
       "</div>"
      ],
      "text/plain": [
       "               0                    1        ...  5        6                  \n",
       "               0  1  2  3  4  5  6  0  1  2  ...  4  5  6  0  1  2  3  4  5  6\n",
       "SemInferência  1  7  6  4  5  2  3  2  6  4  ...  7  3  1  5  1  3  7  2  4  6\n",
       "\n",
       "[1 rows x 49 columns]"
      ]
     },
     "execution_count": 56,
     "metadata": {},
     "output_type": "execute_result"
    }
   ],
   "source": [
    "pd.DataFrame(solucoesFutoshiki).T.drop_duplicates()"
   ]
  },
  {
   "cell_type": "markdown",
   "metadata": {},
   "source": [
    "Fica assim confirmado que todas as procuras encontraram a mesma solução."
   ]
  },
  {
   "cell_type": "markdown",
   "metadata": {},
   "source": [
    "#### Análise dos tempos de execução"
   ]
  },
  {
   "cell_type": "code",
   "execution_count": 146,
   "metadata": {
    "collapsed": false,
    "pycharm": {
     "name": "#%%\n"
    }
   },
   "outputs": [
    {
     "data": {
      "text/html": [
       "<div>\n",
       "<style scoped>\n",
       "    .dataframe tbody tr th:only-of-type {\n",
       "        vertical-align: middle;\n",
       "    }\n",
       "\n",
       "    .dataframe tbody tr th {\n",
       "        vertical-align: top;\n",
       "    }\n",
       "\n",
       "    .dataframe thead th {\n",
       "        text-align: right;\n",
       "    }\n",
       "</style>\n",
       "<table border=\"1\" class=\"dataframe\">\n",
       "  <thead>\n",
       "    <tr style=\"text-align: right;\">\n",
       "      <th></th>\n",
       "      <th>Tempos (s)</th>\n",
       "    </tr>\n",
       "  </thead>\n",
       "  <tbody>\n",
       "    <tr>\n",
       "      <th>AC3</th>\n",
       "      <td>0.001737</td>\n",
       "    </tr>\n",
       "    <tr>\n",
       "      <th>FRWDchecking</th>\n",
       "      <td>0.002068</td>\n",
       "    </tr>\n",
       "    <tr>\n",
       "      <th>MRV</th>\n",
       "      <td>0.003140</td>\n",
       "    </tr>\n",
       "    <tr>\n",
       "      <th>MAC</th>\n",
       "      <td>0.003263</td>\n",
       "    </tr>\n",
       "    <tr>\n",
       "      <th>AC3_MVR_MAC</th>\n",
       "      <td>0.003599</td>\n",
       "    </tr>\n",
       "    <tr>\n",
       "      <th>SemInferência</th>\n",
       "      <td>51.047881</td>\n",
       "    </tr>\n",
       "  </tbody>\n",
       "</table>\n",
       "</div>"
      ],
      "text/plain": [
       "               Tempos (s)\n",
       "AC3              0.001737\n",
       "FRWDchecking     0.002068\n",
       "MRV              0.003140\n",
       "MAC              0.003263\n",
       "AC3_MVR_MAC      0.003599\n",
       "SemInferência   51.047881"
      ]
     },
     "execution_count": 146,
     "metadata": {},
     "output_type": "execute_result"
    }
   ],
   "source": [
    "temposSortedFuto = dict(sorted(temposFutoshiki.items(), key=lambda x:x[1]))\n",
    "data_futo = pd.DataFrame(temposSortedFuto, index=['Tempos (s)']).T\n",
    "data_futo"
   ]
  },
  {
   "cell_type": "markdown",
   "metadata": {},
   "source": [
    "Podemos notar que o tempo de execução do bracktracking search sem inferência aumentou por um factor superior a 2, e que os tempos de execução para os outros algoritmos foram bastante pequenos.  \n",
    "Vamos agora colocar os tempos de execução dos quadrados latinos e do futoshiki lado a lado (apenas vamos fazer isto porque ambos os tempos correspondem a um problema de dimensão igual)"
   ]
  },
  {
   "cell_type": "code",
   "execution_count": 152,
   "metadata": {},
   "outputs": [
    {
     "data": {
      "text/html": [
       "<div>\n",
       "<style scoped>\n",
       "    .dataframe tbody tr th:only-of-type {\n",
       "        vertical-align: middle;\n",
       "    }\n",
       "\n",
       "    .dataframe tbody tr th {\n",
       "        vertical-align: top;\n",
       "    }\n",
       "\n",
       "    .dataframe thead tr th {\n",
       "        text-align: left;\n",
       "    }\n",
       "</style>\n",
       "<table border=\"1\" class=\"dataframe\">\n",
       "  <thead>\n",
       "    <tr>\n",
       "      <th></th>\n",
       "      <th>Quadrado Latino (7x7)</th>\n",
       "      <th>Futoshiki (7x7)</th>\n",
       "    </tr>\n",
       "    <tr>\n",
       "      <th></th>\n",
       "      <th>Tempos (s)</th>\n",
       "      <th>Tempos (s)</th>\n",
       "    </tr>\n",
       "  </thead>\n",
       "  <tbody>\n",
       "    <tr>\n",
       "      <th>AC3</th>\n",
       "      <td>0.001927</td>\n",
       "      <td>0.001737</td>\n",
       "    </tr>\n",
       "    <tr>\n",
       "      <th>FRWDchecking</th>\n",
       "      <td>0.001997</td>\n",
       "      <td>0.002068</td>\n",
       "    </tr>\n",
       "    <tr>\n",
       "      <th>MAC</th>\n",
       "      <td>0.003087</td>\n",
       "      <td>0.003263</td>\n",
       "    </tr>\n",
       "    <tr>\n",
       "      <th>MRV</th>\n",
       "      <td>0.003122</td>\n",
       "      <td>0.003140</td>\n",
       "    </tr>\n",
       "    <tr>\n",
       "      <th>AC3_MVR_MAC</th>\n",
       "      <td>0.003511</td>\n",
       "      <td>0.003599</td>\n",
       "    </tr>\n",
       "    <tr>\n",
       "      <th>SemInferência</th>\n",
       "      <td>20.468750</td>\n",
       "      <td>51.047881</td>\n",
       "    </tr>\n",
       "  </tbody>\n",
       "</table>\n",
       "</div>"
      ],
      "text/plain": [
       "              Quadrado Latino (7x7) Futoshiki (7x7)\n",
       "                         Tempos (s)      Tempos (s)\n",
       "AC3                        0.001927        0.001737\n",
       "FRWDchecking               0.001997        0.002068\n",
       "MAC                        0.003087        0.003263\n",
       "MRV                        0.003122        0.003140\n",
       "AC3_MVR_MAC                0.003511        0.003599\n",
       "SemInferência             20.468750       51.047881"
      ]
     },
     "execution_count": 152,
     "metadata": {},
     "output_type": "execute_result"
    }
   ],
   "source": [
    "frames = [data_latino, data_futo]\n",
    "pd.concat(frames, keys=[\"Quadrado Latino (7x7)\", \"Futoshiki (7x7)\"], axis=1)"
   ]
  },
  {
   "cell_type": "markdown",
   "metadata": {},
   "source": [
    "Como podemos observar os tempos de procura para dois problemas diferentes de dimensão igual são muito semelhantes exceto para o backtracking search normal (sem infêrencia na tabela), o que nos leva a concluir que para problemas deste tipo (futoshiki) os algoritmos utilizados durante a procura são pouco afetados pela quantidade de restrições no problema. Isto faz sentido pois neste caso como ambos os problemas têm a mesma dimensão ao aplicar estes algoritmos vamos alterar o domínio das variáveis e simplificar o problema, e como o quadrado latino pode ser pensado como sendo uma versão mais simples do futoshiki ao simplificar ambos os problemas vamos acabar com problemas muito semelhantes e com um número de passos semelhante no backtracking search em ambos."
   ]
  },
  {
   "cell_type": "markdown",
   "metadata": {},
   "source": [
    "Em relação à dimensão do problema que conseguimos resolver até 1 minuto:\n",
    "- Para a nossa configuração encontramos que um problema 7x7 de dificuldade extrema do website indicado no enunciado do projeto tem um tempo de execução por volta de 60 segundos. Portanto conseguimos resolver problemas 6x6 em menos de 1 minuto, e alguns problemas 7x7 mais simples em menos de um minuto. Isto sem aplicar nenhum algoritmo durante a execução ou pré-processamento."
   ]
  },
  {
   "cell_type": "markdown",
   "metadata": {},
   "source": [
    "## Visualização do problema"
   ]
  },
  {
   "cell_type": "code",
   "execution_count": 188,
   "metadata": {},
   "outputs": [],
   "source": [
    "def visualizacao_futoshiki(n : int, initial : dict, desigualdades : dict, solucao : dict):\n",
    "    \"\"\"Permite visualizar um problema futoshiki com as desigualdades.\n",
    "    As desigualdades têm de ter o seguinte formato {(A,B) : maior/menor}\n",
    "\n",
    "    Args:\n",
    "        n (int): dimensao do problema\n",
    "        initial (dict): dominio das variaveis ou condicoes iniciais: formato {(x,y) : [k]}\n",
    "        desigualdades (dict): desigualdades do problema: formato {(A,B) : maior/menor}\n",
    "        solucao (dict): solucao do problema: formato {(x,y) : k}\n",
    "    \"\"\"\n",
    "    \n",
    "    def mapeamento_2D_para_1D(x,y):\n",
    "        return y*(n+(n-1)*3+1) + x\n",
    "\n",
    "    def escrita_numeros(x,y):\n",
    "        return mapeamento_2D_para_1D(x*4, y*2)\n",
    "    \n",
    "    def escrita_desigualdades_linha(x,y):\n",
    "        return mapeamento_2D_para_1D(x*4+2, y*2)\n",
    "    \n",
    "    def escrita_desigualdades_coluna(x,y):\n",
    "        return mapeamento_2D_para_1D(x*4, y*2-1)\n",
    "\n",
    "    def escrever_desigualdade(operacao, direcao):\n",
    "        if direcao == \"x\":\n",
    "            if operacao.__name__ == \"maior\":\n",
    "                return '>'\n",
    "            else:\n",
    "                return '<'\n",
    "        else:\n",
    "            if operacao.__name__ == \"maior\":\n",
    "                return u\"\\u2227\" # Carater ∧\n",
    "            else:\n",
    "                return u\"\\u2228\" # Carater ∨\n",
    "\n",
    "    # Permite determinar em que lado por o sinal em relação à primeira var do par dado\n",
    "    sinal = lambda x, y: -1 if y - x < 0 else 0\n",
    "\n",
    "    board_inicial = ([\" \"] * (n+(n-1)*3) + [\"\\n\"]) * (n*2)\n",
    "\n",
    "    for y in range(n):\n",
    "        for x in range(n):\n",
    "            if (x,y) in initial.keys() and len(initial[(x,y)]) == 1:\n",
    "                board_inicial[escrita_numeros(x,y)] = str(initial[(x,y)][0])\n",
    "            else:\n",
    "                board_inicial[escrita_numeros(x,y)] = \"0\"\n",
    "\n",
    "    for var, operacao in desigualdades.items():\n",
    "        if (var[0][1] == var[1][1]):\n",
    "            board_inicial[escrita_desigualdades_linha( sinal(var[0][0],var[1][0]) + var[0][0] , var[0][1] )] = escrever_desigualdade(operacao, \"x\")\n",
    "        else:\n",
    "            board_inicial[escrita_desigualdades_coluna( var[0][0] , var[0][1] - sinal(var[1][1],var[0][1]) )] = escrever_desigualdade(operacao, \"y\")\n",
    "    \n",
    "    board_final = board_inicial.copy()\n",
    "    for var, valor in solucao.items():\n",
    "        board_final[escrita_numeros(var[0],var[1])] = str(valor)\n",
    "    \n",
    "\n",
    "    print(\"Estado Inicial:\")\n",
    "    print(''.join(board_inicial))\n",
    "    print(\"Solução:\")\n",
    "    print(''.join(board_final))\n",
    "\n",
    "def board_to_dict_int(board) -> dict:\n",
    "    \"\"\"Coverte uma matriz quadrada de inteiros para um dicionario\n",
    "    contendo as posicoes dos inteiros nao nulos\n",
    "    \"\"\"\n",
    "    n = len(board)\n",
    "    iniciais = {}\n",
    "    for j in range(n):\n",
    "        for i in range(n):\n",
    "            x = board[j][i]\n",
    "            if x != 0:\n",
    "                iniciais[(i,j)] = x\n",
    "    return iniciais"
   ]
  },
  {
   "cell_type": "markdown",
   "metadata": {},
   "source": [
    "Podemos agora visualizar os problemas anteriores"
   ]
  },
  {
   "cell_type": "markdown",
   "metadata": {},
   "source": [
    "- 5x5"
   ]
  },
  {
   "cell_type": "markdown",
   "metadata": {},
   "source": [
    "Resultado obtido pelo backtracking search"
   ]
  },
  {
   "cell_type": "code",
   "execution_count": 186,
   "metadata": {},
   "outputs": [
    {
     "name": "stdout",
     "output_type": "stream",
     "text": [
      "Estado Inicial:\n",
      "0   0   0   0 > 0\n",
      "                 \n",
      "0 < 0   0   0   0\n",
      "                 \n",
      "0 < 0   0   0   0\n",
      "            ∨    \n",
      "2   0   0   0   3\n",
      "        ∧       ∧\n",
      "0   0 > 0   0   0\n",
      "                 \n",
      "\n",
      "Solução:\n",
      "5   1   4   3 > 2\n",
      "                 \n",
      "3 < 4   5   2   1\n",
      "                 \n",
      "1 < 2   3   5   4\n",
      "            ∨    \n",
      "2   5   1   4   3\n",
      "        ∧       ∧\n",
      "4   3 > 2   1   5\n",
      "                 \n",
      "\n"
     ]
    }
   ],
   "source": [
    "visualizacao_futoshiki(5, futoshiki5.domains, desigualdades5, backtracking_search(futoshiki5))"
   ]
  },
  {
   "cell_type": "markdown",
   "metadata": {},
   "source": [
    "Solução do problema retirado do website"
   ]
  },
  {
   "cell_type": "code",
   "execution_count": 189,
   "metadata": {},
   "outputs": [
    {
     "name": "stdout",
     "output_type": "stream",
     "text": [
      "Estado Inicial:\n",
      "0   0   0   0 > 0\n",
      "                 \n",
      "0 < 0   0   0   0\n",
      "                 \n",
      "0 < 0   0   0   0\n",
      "            ∨    \n",
      "2   0   0   0   3\n",
      "        ∧       ∧\n",
      "0   0 > 0   0   0\n",
      "                 \n",
      "\n",
      "Solução:\n",
      "5   1   4   3 > 2\n",
      "                 \n",
      "3 < 4   5   2   1\n",
      "                 \n",
      "1 < 2   3   5   4\n",
      "            ∨    \n",
      "2   5   1   4   3\n",
      "        ∧       ∧\n",
      "4   3 > 2   1   5\n",
      "                 \n",
      "\n"
     ]
    }
   ],
   "source": [
    "solution5 = [[5,1,4,3,2],\n",
    "            [3,4,5,2,1],\n",
    "            [1,2,3,5,4],\n",
    "            [2,5,1,4,3],\n",
    "            [4,3,2,1,5]]\n",
    "\n",
    "visualizacao_futoshiki(5, preenchidos5, desigualdades5, board_to_dict_int(solution5))"
   ]
  },
  {
   "cell_type": "markdown",
   "metadata": {},
   "source": [
    "- 7x7"
   ]
  },
  {
   "cell_type": "markdown",
   "metadata": {},
   "source": [
    "Solução do backtracking search"
   ]
  },
  {
   "cell_type": "code",
   "execution_count": 178,
   "metadata": {
    "collapsed": false,
    "pycharm": {
     "name": "#%%\n"
    }
   },
   "outputs": [
    {
     "name": "stdout",
     "output_type": "stream",
     "text": [
      "Estado Inicial:\n",
      "0   0 < 0 < 0   4   0 > 0\n",
      "        ∨           ∨    \n",
      "0 > 0 > 0 < 0   0 < 0   0\n",
      "        ∨           ∧    \n",
      "0 > 0   0   2   0   0   0\n",
      "    ∨   ∧                \n",
      "0 > 0   0 < 0   0 < 0   0\n",
      "∧   ∨                   ∨\n",
      "0   0   0   0 < 0 < 0   0\n",
      "            ∨            \n",
      "0   0   0   0   0   0   0\n",
      "∧           ∧            \n",
      "0   0   0   0   0   0   0\n",
      "                         \n",
      "\n",
      "Solução:\n",
      "1   2 < 3 < 7   4   6 > 5\n",
      "        ∨           ∨    \n",
      "7 > 6 > 2 < 5   3 < 4   1\n",
      "        ∨           ∧    \n",
      "6 > 4   1   2   7   5   3\n",
      "    ∨   ∧                \n",
      "4 > 3   5 < 6   1 < 2   7\n",
      "∧   ∨                   ∨\n",
      "5   1   4   3 < 6 < 7   2\n",
      "            ∨            \n",
      "2   7   6   1   5   3   4\n",
      "∧           ∧            \n",
      "3   5   7   4   2   1   6\n",
      "                         \n",
      "\n"
     ]
    }
   ],
   "source": [
    "visualizacao_futoshiki(7, futoshiki7ext.domains, desigualdades7ext, solucoesFutoshiki[\"AC3\"])"
   ]
  },
  {
   "cell_type": "markdown",
   "metadata": {},
   "source": [
    "Solução do problema retirado do website"
   ]
  },
  {
   "cell_type": "code",
   "execution_count": 191,
   "metadata": {},
   "outputs": [
    {
     "name": "stdout",
     "output_type": "stream",
     "text": [
      "Estado Inicial:\n",
      "0   0 < 0 < 0   4   0 > 0\n",
      "        ∨           ∨    \n",
      "0 > 0 > 0 < 0   0 < 0   0\n",
      "        ∨           ∧    \n",
      "0 > 0   0   2   0   0   0\n",
      "    ∨   ∧                \n",
      "0 > 0   0 < 0   0 < 0   0\n",
      "∧   ∨                   ∨\n",
      "0   0   0   0 < 0 < 0   0\n",
      "            ∨            \n",
      "0   0   0   0   0   0   0\n",
      "∧           ∧            \n",
      "0   0   0   0   0   0   0\n",
      "                         \n",
      "\n",
      "Solução:\n",
      "1   2 < 3 < 7   4   6 > 5\n",
      "        ∨           ∨    \n",
      "7 > 6 > 2 < 5   3 < 4   1\n",
      "        ∨           ∧    \n",
      "6 > 4   1   2   7   5   3\n",
      "    ∨   ∧                \n",
      "4 > 3   5 < 6   1 < 2   7\n",
      "∧   ∨                   ∨\n",
      "5   1   4   3 < 6 < 7   2\n",
      "            ∨            \n",
      "2   7   6   1   5   3   4\n",
      "∧           ∧            \n",
      "3   5   7   4   2   1   6\n",
      "                         \n",
      "\n"
     ]
    }
   ],
   "source": [
    "solucao7 = [[1,2,3,7,4,6,5],\n",
    "            [7,6,2,5,3,4,1],\n",
    "            [6,4,1,2,7,5,3],\n",
    "            [4,3,5,6,1,2,7],\n",
    "            [5,1,4,3,6,7,2],\n",
    "            [2,7,6,1,5,3,4],\n",
    "            [3,5,7,4,2,1,6]]\n",
    "\n",
    "visualizacao_futoshiki(7, preenchidos7ext, desigualdades7ext, board_to_dict_int(solucao7))"
   ]
  }
 ],
 "metadata": {
  "interpreter": {
   "hash": "ca0a6ed6c3687464969dd6147ab8a98b55d02ef7a9aec76841b10aa7e05a39c3"
  },
  "kernelspec": {
   "display_name": "Python 3.9.7 ('base')",
   "language": "python",
   "name": "python3"
  },
  "language_info": {
   "codemirror_mode": {
    "name": "ipython",
    "version": 3
   },
   "file_extension": ".py",
   "mimetype": "text/x-python",
   "name": "python",
   "nbconvert_exporter": "python",
   "pygments_lexer": "ipython3",
   "version": "3.9.7"
  },
  "orig_nbformat": 4
 },
 "nbformat": 4,
 "nbformat_minor": 2
}
