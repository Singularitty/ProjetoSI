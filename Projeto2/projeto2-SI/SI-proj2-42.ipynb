{
 "cells": [
  {
   "cell_type": "markdown",
   "id": "bf9c87b1",
   "metadata": {},
   "source": [
    "# Sistemas Inteligentes 2021/2022\n",
    "\n",
    "## Mini-projeto 2: Quadrados Latinos\n"
   ]
  },
  {
   "cell_type": "markdown",
   "id": "d7b8efca",
   "metadata": {},
   "source": [
    "## Grupo: 42\n",
    "\n",
    "### Elementos do Grupo\n",
    "\n",
    "Número:  53687       Nome:   Ariana Dias  \n",
    "Número:  51127       Nome:   Luís Ferreirinha\n",
    "\n",
    "\n",
    "_o 3º colega não participou em nada_\n",
    "\n",
    "(Nota: Neste relatório pode adicionar as células de texto e código que achar necessárias.)"
   ]
  },
  {
   "cell_type": "markdown",
   "id": "df10acb0",
   "metadata": {},
   "source": [
    "## Representação de variáveis, domínios, vizinhos e restrições\n",
    "\n",
    "O problema dos quadrados latinos pode ser representado como uma matriz $n \\times n$ em que cada linha e coluna contêm exatmente um número de $1$ a $n$.  \n",
    "\n",
    "Então para caracterizar este CSP em python obtamos pelas seguintes escolhas:  \n",
    "\n",
    "- Variáveis:  \n",
    "  \n",
    "    Cada variável no nosso problema vai representar o valor atribuiado a um elemento da matriz.  \n",
    "    Então em python representamos o conjunto das variáveis como uma lista das coordenadas de cada\n",
    "    elemento na matriz:    \n",
    "    -  var $=[(i_1,j_1),...,(i_n,j_n)]$  \n",
    "<br>\n",
    "- Domínios:  \n",
    "  \n",
    "    Neste problema cada variável pode tomar um valor de $1,...,n$, exceto de houver condições iniciais.\n",
    "    Portanto em python decidimos utilizar um dicionário, onde as chaves são as variáveis e estas correspondem a uma lista de inteiros contento os valores possíveis para aquela variável:\n",
    "    \n",
    "    - dominio $=\\{(i_1,j_1) = [1,..,n], ...\\}$  \n",
    "<br> \n",
    "- Vizinhos:  \n",
    "\n",
    "    Uma variável vai ser vizinha de outra de estiver na mesma linha ou coluna que essa variável.\n",
    "    Em python definimos os vizinhos como um dicionário onde cada variável é uma chave e corresponde a uma lista de variáveis que são suas vizinhas:  \n",
    "    \n",
    "    - vizinhos $=\\{(i_k,i_m) : [(i_1,j_m),...,(i_n,j_m),(i_k,j_1),...,(i_k,j_n)], \\, ...  \\, \\}$  \n",
    "<br>\n",
    "- Restrições:  \n",
    "\n",
    "    A restrição principal deste problema é a impossibilidade de haver repetições de um número\n",
    "    ao longo de uma coluna ou linha, ou seja tem de ser diferente de todos os seus vizinhos.\n",
    "    Em python esta restrição é representada pela comparação dos valores de duas variáveis vizinhas:  \n",
    "\n",
    "    -  ```python\n",
    "       valor_variavel_1 != valor_variavel_2\n",
    "       ```\n",
    "    <br>\n",
    "    Como também temos a variação do Futoshiki, temos de definir outras restrições para esse problema.  \n",
    "\n",
    "    A ideia principal é que duas variáveis adjacentes podem agora ter a restrição adicional de o valor de uma ser maior ou menor que o valor da outra. Então para representar o mapeamento destas novas restrições usamos um dicionário onde as chaves são um tuplos contendos as duas variáveis em questão e vão corresponde a uma função que verifica se os valores destas são menores ou maiores conforme a restrição.\n",
    "\n",
    "    - desigualdades $=\\{((i_k,j_m),(i_k,j_{m+1})) : maior\\, \\, \\text{ou} \\, \\, menor \\}$  \n",
    "\n",
    "    Cada uma destas funções vair comparar os valores das variavéis conforme o seu nome.  \n",
    "\n",
    "    - ```python \n",
    "      def maior(a,b): return a > b\n",
    "      ```\n",
    "\n",
    "    - ```python \n",
    "      def menor(a,b): return a < b\n",
    "      ```\n",
    "\n",
    "\n",
    " "
   ]
  },
  {
   "cell_type": "markdown",
   "id": "4ab69211",
   "metadata": {},
   "source": [
    "## Formulação do problema"
   ]
  },
  {
   "cell_type": "markdown",
   "metadata": {},
   "source": [
    "- Quadrados Latinos"
   ]
  },
  {
   "cell_type": "code",
   "execution_count": 1,
   "id": "c5327f4f",
   "metadata": {},
   "outputs": [],
   "source": [
    "from csp import *\n",
    "\n",
    "def quadrado_latino(n=3, initial={}) -> CSP:\n",
    "    \"\"\"Gera um CSP para o problema dos quadrados latinos\n",
    "\n",
    "    Args:\n",
    "        n (int, optional): Dimensao da matriz do problema. Defaults to 3.\n",
    "        initial (dict, optional): Valores iniciais para cada um dos elementos da matriz. Defaults to {}.\n",
    "\n",
    "    Returns:\n",
    "        CSP: Objeto CSP para o problema dos quadrados latinos\n",
    "    \"\"\"    \n",
    "    \n",
    "    # definicao das variaveis, as coordenadas x,y vão de 0 a n-1\n",
    "    variaveis = [(i,j) for i in range(0,n) for j in range(0,n)]\n",
    "\n",
    "    # Valores possiveis para as variaveis dada a dimensao n do problema\n",
    "    conjunto = [i for i in range(1,n+1)]\n",
    "    \n",
    "    # Iniciamos os dominios com os valores iniciais dados para as variaveis\n",
    "    dominios = initial\n",
    "\n",
    "    # Diferenca dos dois conjuntos vai resultar nas variaveis nao preenchidas\n",
    "    for item in set(variaveis - initial.keys()):\n",
    "        dominios[item] = conjunto\n",
    "    \n",
    "    # Condicao que determina de duas variaveis sao vizinhas, verifica se tem alguma das coordendas x ou y iguais\n",
    "    condicao_vizinhanca = lambda x,y : (x[0] == y[0] and x[1] != y[1]) or (x[0] != y[0] and x[1] == y[1])\n",
    "\n",
    "    # Para cada variavel vamos atribuir uma lista resultante de filtrar a lista de todas as variaveis\n",
    "    # com a condicao de que as variaveis sejam vizinhas da variavel chave\n",
    "    vizinhos = {var : list(filter(lambda x: condicao_vizinhanca(x,var), variaveis)) for var in variaveis}\n",
    "\n",
    "    def restricoes(X, a, Y, b):\n",
    "        # Verifica-se se duas variaveis sao vizinhas antes de verficar que tem valores diferentes entre si\n",
    "        if Y in vizinhos[X]:\n",
    "            return a != b\n",
    "        return True\n",
    "        \n",
    "    return CSP(variaveis, dominios, vizinhos, restricoes)"
   ]
  },
  {
   "cell_type": "markdown",
   "metadata": {},
   "source": [
    "- Futoshiki"
   ]
  },
  {
   "cell_type": "code",
   "execution_count": 2,
   "metadata": {
    "collapsed": false,
    "pycharm": {
     "name": "#%%\n"
    }
   },
   "outputs": [],
   "source": [
    "# Funcoes restricao\n",
    "def maior(x,y):\n",
    "    return x > y\n",
    "\n",
    "def menor(x,y):\n",
    "    return x < y\n",
    "\n",
    "def futoshiki(n=3, initial={}, desigualdades={}):\n",
    "    \"\"\"Gera um CSP para o problema do futoshiki\n",
    "\n",
    "    Args:\n",
    "        n (int, optional): Dimensao da matriz do problema. Defaults to 3.\n",
    "        initial (dict, optional): Valores iniciais para cada um dos elementos da matriz. Defaults to {}.\n",
    "        desigualdades (dict, optional): Restrições adicionais do problema futoshiki. Defaults to {}.\n",
    "\n",
    "    Returns:\n",
    "        CSP: Objeto CSP para o problema dos quadrados latinos\n",
    "    \"\"\"    \n",
    "    \n",
    "    # definicao das variaveis, as coordenadas x,y vão de 0 a n-1\n",
    "    variaveis = [(i,j) for i in range(0,n) for j in range(0,n)]\n",
    "\n",
    "    # Valores possiveis para as variaveis dada a dimensao n do problema\n",
    "    conjunto = [i for i in range(1,n+1)]\n",
    "    \n",
    "    # Iniciamos os dominios com os valores iniciais dados para as variaveis\n",
    "    dominios = initial\n",
    "\n",
    "    # Diferenca dos dois conjuntos vai resultar nas variaveis nao preenchidas\n",
    "    for item in set(variaveis - initial.keys()):\n",
    "        dominios[item] = conjunto\n",
    "    \n",
    "    # Condicao que determina de duas variaveis sao vizinhas, verifica se tem alguma das coordendas x ou y iguais\n",
    "    condicao_vizinhanca = lambda x,y : (x[0] == y[0] and x[1] != y[1]) or (x[0] != y[0] and x[1] == y[1])\n",
    "\n",
    "    # Para cada variavel vamos atribuir uma lista resultante de filtrar a lista de todas as variaveis\n",
    "    # com a condicao de que as variaveis sejam vizinhas da variavel chave\n",
    "    vizinhos = {var : list(filter(lambda x: condicao_vizinhanca(x,var), variaveis)) for var in variaveis}\n",
    "\n",
    "    restricoes_desigualdades = desigualdades.copy()\n",
    "    for var, restricao in desigualdades.items():\n",
    "        if restricao.__name__ == \"maior\":\n",
    "            restricoes_desigualdades[(var[1],var[0])] = menor\n",
    "        else:\n",
    "            restricoes_desigualdades[(var[1],var[0])] = maior\n",
    "\n",
    "    def restricoes(X, a, Y, b):\n",
    "        # Vamos verificar se a var X tem alguma condição de desigualdade com outra var Y\n",
    "        if (X,Y) in restricoes_desigualdades.keys():\n",
    "            if not restricoes_desigualdades[(X,Y)](a,b):\n",
    "                return False\n",
    "        # Verifica se sao vizinhos\n",
    "        if Y in vizinhos[X]:\n",
    "            return  a != b\n",
    "        return True\n",
    "\n",
    "    return CSP(variaveis, dominios, vizinhos, restricoes)"
   ]
  },
  {
   "cell_type": "markdown",
   "id": "f46b1688",
   "metadata": {},
   "source": [
    "## Criação do problema do quadrado latino simples\n",
    "\n",
    "Mostrem que o código está a funcionar, construindo um problema de quadrado latino *4x4*, imprimindo as variáveis, domínios iniciais, e vizinhos. Adicione os comentários necessários. Mostre como podemos criar um puzzle com quadrados já preenchidos, e qual o impacto que isso tem nas variáveis, domínios iniciais, e vizinhos."
   ]
  },
  {
   "cell_type": "markdown",
   "metadata": {},
   "source": [
    "Para criar um problema quadrado latino 4x4 sem valores iniciais para as variáveis basta executar"
   ]
  },
  {
   "cell_type": "code",
   "execution_count": 3,
   "metadata": {},
   "outputs": [],
   "source": [
    "q4 = quadrado_latino(4)"
   ]
  },
  {
   "cell_type": "markdown",
   "metadata": {},
   "source": [
    "Tendo o problema definido, podemos agora ver as variáveis, domínios e os vizinhos deste problema"
   ]
  },
  {
   "cell_type": "code",
   "execution_count": 4,
   "id": "0b95b771",
   "metadata": {
    "pycharm": {
     "name": "#%%\n"
    }
   },
   "outputs": [
    {
     "name": "stdout",
     "output_type": "stream",
     "text": [
      "Variáveis = [(0, 0), (0, 1), (0, 2), (0, 3), (1, 0), (1, 1), (1, 2), (1, 3), (2, 0), (2, 1), (2, 2), (2, 3), (3, 0), (3, 1), (3, 2), (3, 3)]\n",
      "\n",
      "Domínios = {(0, 1): [1, 2, 3, 4], (1, 2): [1, 2, 3, 4], (2, 1): [1, 2, 3, 4], (3, 1): [1, 2, 3, 4], (0, 2): [1, 2, 3, 4], (2, 2): [1, 2, 3, 4], (1, 0): [1, 2, 3, 4], (3, 2): [1, 2, 3, 4], (1, 3): [1, 2, 3, 4], (0, 0): [1, 2, 3, 4], (1, 1): [1, 2, 3, 4], (0, 3): [1, 2, 3, 4], (2, 0): [1, 2, 3, 4], (3, 0): [1, 2, 3, 4], (2, 3): [1, 2, 3, 4], (3, 3): [1, 2, 3, 4]}\n",
      "\n",
      "Vizinhos = {(0, 0): [(0, 1), (0, 2), (0, 3), (1, 0), (2, 0), (3, 0)], (0, 1): [(0, 0), (0, 2), (0, 3), (1, 1), (2, 1), (3, 1)], (0, 2): [(0, 0), (0, 1), (0, 3), (1, 2), (2, 2), (3, 2)], (0, 3): [(0, 0), (0, 1), (0, 2), (1, 3), (2, 3), (3, 3)], (1, 0): [(0, 0), (1, 1), (1, 2), (1, 3), (2, 0), (3, 0)], (1, 1): [(0, 1), (1, 0), (1, 2), (1, 3), (2, 1), (3, 1)], (1, 2): [(0, 2), (1, 0), (1, 1), (1, 3), (2, 2), (3, 2)], (1, 3): [(0, 3), (1, 0), (1, 1), (1, 2), (2, 3), (3, 3)], (2, 0): [(0, 0), (1, 0), (2, 1), (2, 2), (2, 3), (3, 0)], (2, 1): [(0, 1), (1, 1), (2, 0), (2, 2), (2, 3), (3, 1)], (2, 2): [(0, 2), (1, 2), (2, 0), (2, 1), (2, 3), (3, 2)], (2, 3): [(0, 3), (1, 3), (2, 0), (2, 1), (2, 2), (3, 3)], (3, 0): [(0, 0), (1, 0), (2, 0), (3, 1), (3, 2), (3, 3)], (3, 1): [(0, 1), (1, 1), (2, 1), (3, 0), (3, 2), (3, 3)], (3, 2): [(0, 2), (1, 2), (2, 2), (3, 0), (3, 1), (3, 3)], (3, 3): [(0, 3), (1, 3), (2, 3), (3, 0), (3, 1), (3, 2)]}\n",
      "\n"
     ]
    }
   ],
   "source": [
    "print(f\"Variáveis = {q4.variables}\\n\")\n",
    "print(f\"Domínios = {q4.domains}\\n\")\n",
    "print(f\"Vizinhos = {q4.neighbors}\\n\")"
   ]
  },
  {
   "cell_type": "markdown",
   "metadata": {},
   "source": [
    "Para criar-mos um problema com um quadrado semi-preenchido temos primeiro de definir quais os elementos da matriz que vão estar preenchidos e qual o seu valor. Para fazer-mos isso podemos definir um dicionário com essa informação da seguinte forma:"
   ]
  },
  {
   "cell_type": "code",
   "execution_count": 5,
   "metadata": {},
   "outputs": [],
   "source": [
    "valores_preenchidos = {(0,0) : [1], (1,1) : [3], (2,2) : [2]}"
   ]
  },
  {
   "cell_type": "markdown",
   "metadata": {},
   "source": [
    "Depois basta passar esse dicionário como segundo argumento à função quadrado_latino"
   ]
  },
  {
   "cell_type": "code",
   "execution_count": 6,
   "metadata": {},
   "outputs": [],
   "source": [
    "q4_semi = quadrado_latino(n=4, initial=valores_preenchidos)"
   ]
  },
  {
   "cell_type": "markdown",
   "metadata": {
    "collapsed": false,
    "pycharm": {
     "name": "#%% md\n"
    }
   },
   "source": [
    "O facto de o quadrado ser semi preenchido apenas vai afetar os domínios iniciais, fazendo com que o dominio inicial das variáveis já com valores atribuidos seja reduzido esses valores."
   ]
  },
  {
   "cell_type": "code",
   "execution_count": 7,
   "metadata": {
    "collapsed": false,
    "pycharm": {
     "name": "#%%\n"
    }
   },
   "outputs": [
    {
     "name": "stdout",
     "output_type": "stream",
     "text": [
      "Variáveis = [(0, 0), (0, 1), (0, 2), (0, 3), (1, 0), (1, 1), (1, 2), (1, 3), (2, 0), (2, 1), (2, 2), (2, 3), (3, 0), (3, 1), (3, 2), (3, 3)]\n",
      "\n",
      "Domínios = {(0, 0): [1], (1, 1): [3], (2, 2): [2], (0, 1): [1, 2, 3, 4], (1, 2): [1, 2, 3, 4], (2, 1): [1, 2, 3, 4], (3, 1): [1, 2, 3, 4], (0, 3): [1, 2, 3, 4], (2, 0): [1, 2, 3, 4], (3, 0): [1, 2, 3, 4], (2, 3): [1, 2, 3, 4], (0, 2): [1, 2, 3, 4], (3, 3): [1, 2, 3, 4], (1, 0): [1, 2, 3, 4], (3, 2): [1, 2, 3, 4], (1, 3): [1, 2, 3, 4]}\n",
      "\n",
      "Vizinhos = {(0, 0): [(0, 1), (0, 2), (0, 3), (1, 0), (2, 0), (3, 0)], (0, 1): [(0, 0), (0, 2), (0, 3), (1, 1), (2, 1), (3, 1)], (0, 2): [(0, 0), (0, 1), (0, 3), (1, 2), (2, 2), (3, 2)], (0, 3): [(0, 0), (0, 1), (0, 2), (1, 3), (2, 3), (3, 3)], (1, 0): [(0, 0), (1, 1), (1, 2), (1, 3), (2, 0), (3, 0)], (1, 1): [(0, 1), (1, 0), (1, 2), (1, 3), (2, 1), (3, 1)], (1, 2): [(0, 2), (1, 0), (1, 1), (1, 3), (2, 2), (3, 2)], (1, 3): [(0, 3), (1, 0), (1, 1), (1, 2), (2, 3), (3, 3)], (2, 0): [(0, 0), (1, 0), (2, 1), (2, 2), (2, 3), (3, 0)], (2, 1): [(0, 1), (1, 1), (2, 0), (2, 2), (2, 3), (3, 1)], (2, 2): [(0, 2), (1, 2), (2, 0), (2, 1), (2, 3), (3, 2)], (2, 3): [(0, 3), (1, 3), (2, 0), (2, 1), (2, 2), (3, 3)], (3, 0): [(0, 0), (1, 0), (2, 0), (3, 1), (3, 2), (3, 3)], (3, 1): [(0, 1), (1, 1), (2, 1), (3, 0), (3, 2), (3, 3)], (3, 2): [(0, 2), (1, 2), (2, 2), (3, 0), (3, 1), (3, 3)], (3, 3): [(0, 3), (1, 3), (2, 3), (3, 0), (3, 1), (3, 2)]}\n",
      "\n"
     ]
    }
   ],
   "source": [
    "print(f\"Variáveis = {q4_semi.variables}\\n\")\n",
    "print(f\"Domínios = {q4_semi.domains}\\n\")\n",
    "print(f\"Vizinhos = {q4_semi.neighbors}\\n\")"
   ]
  },
  {
   "cell_type": "markdown",
   "metadata": {},
   "source": [
    "Resolva o problema com o backtracking sem inferencia, com inferencia, e com uma heurística."
   ]
  },
  {
   "cell_type": "markdown",
   "metadata": {},
   "source": [
    "Como a procura para um problema de dimensão baixa demora muito pouco tempo (ordem dos $1\\times10^{-4}\\, s$) Vamos definir uma função que executa uma pesquisa $n$ vezes (neste caso 50) e calcula a média dos tempos de execução da pesquisa. Desta forma podemos obter tempos de execução mais consistentes que não vão depender tanto de variações na velocidade do processador durante a execução das diferentes procuras."
   ]
  },
  {
   "cell_type": "code",
   "execution_count": 16,
   "metadata": {},
   "outputs": [],
   "source": [
    "import timeit\n",
    "\n",
    "def avg_run_time(func, *args, **kwargs):\n",
    "    \"\"\"Corre uma função n vezes medindo o tempo de execução de cada vez\n",
    "    e imprime a média dos tempos\n",
    "\n",
    "    Args:\n",
    "        func: Função a correr\n",
    "    \"\"\"\n",
    "    n = 100000\n",
    "    run_times = []\n",
    "    for i in range(n):\n",
    "        start = timeit.default_timer()\n",
    "        func(*args, **kwargs)\n",
    "        stop = timeit.default_timer()\n",
    "        run_times.append(stop-start)\n",
    "    return (sum(run_times) / n)\n",
    "\n",
    "# Guardar os dados e solucoes para analisar mais tarde\n",
    "tempos = {}\n",
    "solucoes = {}"
   ]
  },
  {
   "cell_type": "markdown",
   "metadata": {},
   "source": [
    "- Dimensão do problema:"
   ]
  },
  {
   "cell_type": "code",
   "execution_count": 17,
   "metadata": {},
   "outputs": [],
   "source": [
    "n = 4"
   ]
  },
  {
   "cell_type": "markdown",
   "metadata": {},
   "source": [
    "- Backtracking sem inferência"
   ]
  },
  {
   "cell_type": "code",
   "execution_count": 18,
   "metadata": {
    "collapsed": false,
    "pycharm": {
     "name": "#%%\n"
    }
   },
   "outputs": [
    {
     "name": "stdout",
     "output_type": "stream",
     "text": [
      "Tempo médio de execução: 0.000195 s\n",
      "Assignment (SemInferência) =  {(0, 0): 1, (0, 1): 2, (0, 2): 3, (0, 3): 4, (1, 0): 2, (1, 1): 1, (1, 2): 4, (1, 3): 3, (2, 0): 3, (2, 1): 4, (2, 2): 1, (2, 3): 2, (3, 0): 4, (3, 1): 3, (3, 2): 2, (3, 3): 1}\n"
     ]
    }
   ],
   "source": [
    "# Definir problema\n",
    "QuadradoLatinoSemInferência = quadrado_latino(n)\n",
    "# Guardar solucao\n",
    "sol_1 = backtracking_search(QuadradoLatinoSemInferência)\n",
    "# Calcular tempo medio executando 20 vezes\n",
    "tempo_medio1 = avg_run_time(backtracking_search, QuadradoLatinoSemInferência)\n",
    "# Guardar resultados\n",
    "tempos['SemInferência'] = tempo_medio1\n",
    "solucoes['SemInferência'] = sol_1\n",
    "# Imprimir resultados\n",
    "print(f\"Tempo médio de execução: {tempo_medio1:.6f} s\")\n",
    "print('Assignment (SemInferência) = ',sol_1)"
   ]
  },
  {
   "cell_type": "markdown",
   "metadata": {},
   "source": [
    "- Backtracking com inferência Foward-Checking"
   ]
  },
  {
   "cell_type": "code",
   "execution_count": 19,
   "metadata": {
    "collapsed": false,
    "pycharm": {
     "name": "#%%\n"
    }
   },
   "outputs": [
    {
     "name": "stdout",
     "output_type": "stream",
     "text": [
      "Tempo médio de execução: 0.000303 s\n",
      "Assignment (FRWDchecking) =  {(0, 0): 1, (0, 1): 2, (0, 2): 3, (0, 3): 4, (1, 0): 2, (1, 1): 1, (1, 2): 4, (1, 3): 3, (2, 0): 3, (2, 1): 4, (2, 2): 1, (2, 3): 2, (3, 0): 4, (3, 1): 3, (3, 2): 2, (3, 3): 1}\n"
     ]
    }
   ],
   "source": [
    "# Definir problema\n",
    "QuadradoLatinoComInferência_FRWDchecking = quadrado_latino(n)\n",
    "# Resolver e guardar solucao\n",
    "sol_2 = backtracking_search(QuadradoLatinoComInferência_FRWDchecking, inference=forward_checking)\n",
    "# Calcular o tempo medio de execucao\n",
    "tempo_medio2 = avg_run_time(backtracking_search, QuadradoLatinoComInferência_FRWDchecking, inference=forward_checking)\n",
    "# Guardar resultados\n",
    "tempos['FRWDchecking'] = tempo_medio2\n",
    "solucoes['FRWDchecking'] = sol_2\n",
    "# Imprimir resultados\n",
    "print(f\"Tempo médio de execução: {tempo_medio2:.6f} s\")\n",
    "print('Assignment (FRWDchecking) = ',sol_2)"
   ]
  },
  {
   "cell_type": "markdown",
   "metadata": {},
   "source": [
    "- Backtracking com inferência MAC"
   ]
  },
  {
   "cell_type": "code",
   "execution_count": 22,
   "metadata": {
    "collapsed": false,
    "pycharm": {
     "name": "#%%\n"
    }
   },
   "outputs": [
    {
     "name": "stdout",
     "output_type": "stream",
     "text": [
      "Tempo médio de execução: 0.000406  s\n",
      "Assignment (MAC) =  {(0, 0): 1, (0, 1): 2, (0, 2): 3, (0, 3): 4, (1, 0): 2, (1, 1): 1, (1, 2): 4, (1, 3): 3, (2, 0): 3, (2, 1): 4, (2, 2): 1, (2, 3): 2, (3, 0): 4, (3, 1): 3, (3, 2): 2, (3, 3): 1}\n"
     ]
    }
   ],
   "source": [
    "# Definir problema\n",
    "QuadradoLatinoComInferência_MAC = quadrado_latino(n)\n",
    "# Resolver e guardar solucao\n",
    "sol_4 = backtracking_search(QuadradoLatinoComInferência_MAC, inference=mac)\n",
    "# Calcular tempo medio de execucao\n",
    "tempo_medio4 = avg_run_time(backtracking_search, QuadradoLatinoComInferência_MAC, inference=mac)\n",
    "# Guarda resultados\n",
    "tempos['MAC'] = tempo_medio4\n",
    "solucoes['MAC'] = sol_4\n",
    "# Imprimir resultados\n",
    "print(f\"Tempo médio de execução: {tempo_medio4:.6f}  s\")\n",
    "print('Assignment (MAC) = ', sol_4)"
   ]
  },
  {
   "cell_type": "markdown",
   "metadata": {},
   "source": [
    "- Backtracking com pré-processamento AC3"
   ]
  },
  {
   "cell_type": "code",
   "execution_count": 23,
   "metadata": {
    "collapsed": false,
    "pycharm": {
     "name": "#%%\n"
    }
   },
   "outputs": [
    {
     "name": "stdout",
     "output_type": "stream",
     "text": [
      "Tempo médio de execução: 0.000200  s\n",
      "Assignment (QuadradoLatinoComAC3) =  {(0, 0): 1, (0, 1): 2, (0, 2): 3, (0, 3): 4, (1, 0): 2, (1, 1): 1, (1, 2): 4, (1, 3): 3, (2, 0): 3, (2, 1): 4, (2, 2): 1, (2, 3): 2, (3, 0): 4, (3, 1): 3, (3, 2): 2, (3, 3): 1}\n"
     ]
    }
   ],
   "source": [
    "# Definir problema\n",
    "QuadradoLatinoComAC3 = quadrado_latino(n)\n",
    "# Aplicar pre-processamento\n",
    "p_AC3 = AC3(QuadradoLatinoComAC3)\n",
    "# Resolver e guardar solucao\n",
    "sol_3 = backtracking_search(p_AC3)\n",
    "# Calcular o tempo medio de execucao\n",
    "tempo_medio3 = avg_run_time(backtracking_search, p_AC3)\n",
    "# Guarda resultados\n",
    "tempos['AC3'] = tempo_medio3\n",
    "solucoes['AC3'] = sol_3\n",
    "# Imprimir resultados\n",
    "print(f\"Tempo médio de execução: {tempo_medio3:.6f}  s\")\n",
    "print('Assignment (QuadradoLatinoComAC3) = ', sol_3)"
   ]
  },
  {
   "cell_type": "markdown",
   "metadata": {},
   "source": [
    "- Backtracking com Heurística MRV"
   ]
  },
  {
   "cell_type": "code",
   "execution_count": 24,
   "metadata": {
    "collapsed": false,
    "pycharm": {
     "name": "#%%\n"
    }
   },
   "outputs": [
    {
     "name": "stdout",
     "output_type": "stream",
     "text": [
      "Tempo médio de execução: 0.000347 s\n",
      "Assignment (QuadradoLatinoComHeuristica) =  {(3, 0): 1, (2, 0): 2, (1, 3): 1, (1, 0): 3, (1, 1): 2, (0, 1): 1, (1, 2): 4, (3, 2): 2, (0, 0): 4, (3, 1): 3, (2, 2): 1, (0, 3): 2, (2, 3): 3, (2, 1): 4, (0, 2): 3, (3, 3): 4}\n"
     ]
    }
   ],
   "source": [
    "# Definir problema\n",
    "QuadradoLatinoComHeuristica = quadrado_latino(n)\n",
    "# Resolver e guardar\n",
    "sol_6 = backtracking_search(QuadradoLatinoComHeuristica, select_unassigned_variable = mrv)\n",
    "# Tempo medio\n",
    "tempo_medio6 = avg_run_time(backtracking_search, QuadradoLatinoComHeuristica, select_unassigned_variable = mrv)\n",
    "# Guarda resultados\n",
    "tempos['MRV'] = tempo_medio6\n",
    "solucoes['MRV'] = sol_6\n",
    "# Imprimir resultados\n",
    "print(f\"Tempo médio de execução: {tempo_medio6:.6f} s\")\n",
    "print('Assignment (QuadradoLatinoComHeuristica) = ', sol_6)"
   ]
  },
  {
   "cell_type": "markdown",
   "metadata": {},
   "source": [
    "- Backtracking com Heurística MRV, Inferência foward_checking e pré-processamento AC3"
   ]
  },
  {
   "cell_type": "code",
   "execution_count": 25,
   "metadata": {},
   "outputs": [
    {
     "name": "stdout",
     "output_type": "stream",
     "text": [
      "Tempo médio de execução: 0.000521 s\n",
      "Assignment (QuadradoLatinoHeuristicaInferenciaAC3) =  {(0, 3): 1, (1, 3): 2, (2, 3): 3, (3, 3): 4, (2, 0): 1, (2, 1): 2, (2, 2): 4, (3, 0): 2, (1, 0): 3, (0, 2): 2, (1, 1): 4, (0, 0): 4, (0, 1): 3, (3, 2): 3, (1, 2): 1, (3, 1): 1}\n"
     ]
    }
   ],
   "source": [
    "# Definir problema\n",
    "QuadradoLatinoHeuristicaInferenciaAC3 = quadrado_latino(n)\n",
    "# Pre processamento\n",
    "p_AC3 = AC3(QuadradoLatinoHeuristicaInferenciaAC3)\n",
    "# Resolver e guardar\n",
    "sol_7 = backtracking_search(p_AC3, select_unassigned_variable=mrv, inference=mac)\n",
    "# Tempo medio\n",
    "tempo_medio7 = avg_run_time(backtracking_search, p_AC3, select_unassigned_variable=mrv, inference=mac)\n",
    "# Guarda resultados\n",
    "tempos['AC3_MVR_MAC'] = tempo_medio7\n",
    "solucoes['AC3_MVR_MAC'] = sol_7\n",
    "# Imprimir resultados\n",
    "print(f\"Tempo médio de execução: {tempo_medio7:.6f} s\")\n",
    "print('Assignment (QuadradoLatinoHeuristicaInferenciaAC3) = ', sol_7)"
   ]
  },
  {
   "cell_type": "markdown",
   "metadata": {},
   "source": [
    "#### Análise dos tempos de execução"
   ]
  },
  {
   "cell_type": "code",
   "execution_count": 26,
   "metadata": {
    "collapsed": false,
    "pycharm": {
     "name": "#%%\n"
    }
   },
   "outputs": [
    {
     "data": {
      "text/plain": "                 Tempos\nSemInferência  0.000195\nAC3            0.000200\nFRWDchecking   0.000303\nMRV            0.000347\nMAC            0.000406\nAC3_MVR_MAC    0.000521",
      "text/html": "<div>\n<style scoped>\n    .dataframe tbody tr th:only-of-type {\n        vertical-align: middle;\n    }\n\n    .dataframe tbody tr th {\n        vertical-align: top;\n    }\n\n    .dataframe thead th {\n        text-align: right;\n    }\n</style>\n<table border=\"1\" class=\"dataframe\">\n  <thead>\n    <tr style=\"text-align: right;\">\n      <th></th>\n      <th>Tempos</th>\n    </tr>\n  </thead>\n  <tbody>\n    <tr>\n      <th>SemInferência</th>\n      <td>0.000195</td>\n    </tr>\n    <tr>\n      <th>AC3</th>\n      <td>0.000200</td>\n    </tr>\n    <tr>\n      <th>FRWDchecking</th>\n      <td>0.000303</td>\n    </tr>\n    <tr>\n      <th>MRV</th>\n      <td>0.000347</td>\n    </tr>\n    <tr>\n      <th>MAC</th>\n      <td>0.000406</td>\n    </tr>\n    <tr>\n      <th>AC3_MVR_MAC</th>\n      <td>0.000521</td>\n    </tr>\n  </tbody>\n</table>\n</div>"
     },
     "execution_count": 26,
     "metadata": {},
     "output_type": "execute_result"
    }
   ],
   "source": [
    "import pandas as pd\n",
    "temposSorted = dict(sorted(tempos.items(), key=lambda x:x[1]))\n",
    "pd.DataFrame(temposSorted.values() ,index = temposSorted.keys(), columns= [\"Tempos\"])\n"
   ]
  },
  {
   "cell_type": "markdown",
   "metadata": {
    "collapsed": false
   },
   "source": [
    "#### Conclusões sobre os resultados temporais\n",
    "_(todos os valores são referentes a médias)_\n",
    "Com a tabela acima é possível concluir que:\n",
    "- o algoritmo que demora menos tempo a encontrar uma solução é a **procura com Retrocesso usando a inferência Forward Checking**, demora apenas 0.000219 segundos;\n",
    "- usando procura com retrocesso com inferência, verifica-se que **Forward Checking** é mais eficiente que **MAC**;\n",
    "- a solução do problema utilizando a procura com retrocesso sem inferências nem heurísticas demora menos tempo (0.000337 segundos) que a procura com retrocesso com inferência e heurisrica após pré-processamento com recurso ao algoritmo **AC3** (0.000623 segundos), quase o dobro do tempo;\n"
   ]
  },
  {
   "cell_type": "markdown",
   "metadata": {},
   "source": [
    "#### Análise das soluções obtidas"
   ]
  },
  {
   "cell_type": "code",
   "execution_count": 27,
   "metadata": {
    "collapsed": false,
    "pycharm": {
     "name": "#%%\n"
    }
   },
   "outputs": [
    {
     "data": {
      "text/plain": "               0           1           2           3         \n               0  1  2  3  0  1  2  3  0  1  2  3  0  1  2  3\nSemInferência  1  2  3  4  2  1  4  3  3  4  1  2  4  3  2  1\nFRWDchecking   1  2  3  4  2  1  4  3  3  4  1  2  4  3  2  1\nMAC            1  2  3  4  2  1  4  3  3  4  1  2  4  3  2  1\nAC3            1  2  3  4  2  1  4  3  3  4  1  2  4  3  2  1\nMRV            4  1  3  2  3  2  4  1  2  4  1  3  1  3  2  4\nAC3_MVR_MAC    4  3  2  1  3  4  1  2  1  2  4  3  2  1  3  4",
      "text/html": "<div>\n<style scoped>\n    .dataframe tbody tr th:only-of-type {\n        vertical-align: middle;\n    }\n\n    .dataframe tbody tr th {\n        vertical-align: top;\n    }\n\n    .dataframe thead tr th {\n        text-align: left;\n    }\n</style>\n<table border=\"1\" class=\"dataframe\">\n  <thead>\n    <tr>\n      <th></th>\n      <th colspan=\"4\" halign=\"left\">0</th>\n      <th colspan=\"4\" halign=\"left\">1</th>\n      <th colspan=\"4\" halign=\"left\">2</th>\n      <th colspan=\"4\" halign=\"left\">3</th>\n    </tr>\n    <tr>\n      <th></th>\n      <th>0</th>\n      <th>1</th>\n      <th>2</th>\n      <th>3</th>\n      <th>0</th>\n      <th>1</th>\n      <th>2</th>\n      <th>3</th>\n      <th>0</th>\n      <th>1</th>\n      <th>2</th>\n      <th>3</th>\n      <th>0</th>\n      <th>1</th>\n      <th>2</th>\n      <th>3</th>\n    </tr>\n  </thead>\n  <tbody>\n    <tr>\n      <th>SemInferência</th>\n      <td>1</td>\n      <td>2</td>\n      <td>3</td>\n      <td>4</td>\n      <td>2</td>\n      <td>1</td>\n      <td>4</td>\n      <td>3</td>\n      <td>3</td>\n      <td>4</td>\n      <td>1</td>\n      <td>2</td>\n      <td>4</td>\n      <td>3</td>\n      <td>2</td>\n      <td>1</td>\n    </tr>\n    <tr>\n      <th>FRWDchecking</th>\n      <td>1</td>\n      <td>2</td>\n      <td>3</td>\n      <td>4</td>\n      <td>2</td>\n      <td>1</td>\n      <td>4</td>\n      <td>3</td>\n      <td>3</td>\n      <td>4</td>\n      <td>1</td>\n      <td>2</td>\n      <td>4</td>\n      <td>3</td>\n      <td>2</td>\n      <td>1</td>\n    </tr>\n    <tr>\n      <th>MAC</th>\n      <td>1</td>\n      <td>2</td>\n      <td>3</td>\n      <td>4</td>\n      <td>2</td>\n      <td>1</td>\n      <td>4</td>\n      <td>3</td>\n      <td>3</td>\n      <td>4</td>\n      <td>1</td>\n      <td>2</td>\n      <td>4</td>\n      <td>3</td>\n      <td>2</td>\n      <td>1</td>\n    </tr>\n    <tr>\n      <th>AC3</th>\n      <td>1</td>\n      <td>2</td>\n      <td>3</td>\n      <td>4</td>\n      <td>2</td>\n      <td>1</td>\n      <td>4</td>\n      <td>3</td>\n      <td>3</td>\n      <td>4</td>\n      <td>1</td>\n      <td>2</td>\n      <td>4</td>\n      <td>3</td>\n      <td>2</td>\n      <td>1</td>\n    </tr>\n    <tr>\n      <th>MRV</th>\n      <td>4</td>\n      <td>1</td>\n      <td>3</td>\n      <td>2</td>\n      <td>3</td>\n      <td>2</td>\n      <td>4</td>\n      <td>1</td>\n      <td>2</td>\n      <td>4</td>\n      <td>1</td>\n      <td>3</td>\n      <td>1</td>\n      <td>3</td>\n      <td>2</td>\n      <td>4</td>\n    </tr>\n    <tr>\n      <th>AC3_MVR_MAC</th>\n      <td>4</td>\n      <td>3</td>\n      <td>2</td>\n      <td>1</td>\n      <td>3</td>\n      <td>4</td>\n      <td>1</td>\n      <td>2</td>\n      <td>1</td>\n      <td>2</td>\n      <td>4</td>\n      <td>3</td>\n      <td>2</td>\n      <td>1</td>\n      <td>3</td>\n      <td>4</td>\n    </tr>\n  </tbody>\n</table>\n</div>"
     },
     "execution_count": 27,
     "metadata": {},
     "output_type": "execute_result"
    }
   ],
   "source": [
    "sols = pd.DataFrame(solucoes).T\n",
    "sols"
   ]
  },
  {
   "cell_type": "code",
   "execution_count": 28,
   "metadata": {
    "collapsed": false,
    "pycharm": {
     "name": "#%%\n"
    }
   },
   "outputs": [
    {
     "data": {
      "text/plain": "               0           1           2           3         \n               0  1  2  3  0  1  2  3  0  1  2  3  0  1  2  3\nSemInferência  1  2  3  4  2  1  4  3  3  4  1  2  4  3  2  1\nMRV            4  1  3  2  3  2  4  1  2  4  1  3  1  3  2  4\nAC3_MVR_MAC    4  3  2  1  3  4  1  2  1  2  4  3  2  1  3  4",
      "text/html": "<div>\n<style scoped>\n    .dataframe tbody tr th:only-of-type {\n        vertical-align: middle;\n    }\n\n    .dataframe tbody tr th {\n        vertical-align: top;\n    }\n\n    .dataframe thead tr th {\n        text-align: left;\n    }\n</style>\n<table border=\"1\" class=\"dataframe\">\n  <thead>\n    <tr>\n      <th></th>\n      <th colspan=\"4\" halign=\"left\">0</th>\n      <th colspan=\"4\" halign=\"left\">1</th>\n      <th colspan=\"4\" halign=\"left\">2</th>\n      <th colspan=\"4\" halign=\"left\">3</th>\n    </tr>\n    <tr>\n      <th></th>\n      <th>0</th>\n      <th>1</th>\n      <th>2</th>\n      <th>3</th>\n      <th>0</th>\n      <th>1</th>\n      <th>2</th>\n      <th>3</th>\n      <th>0</th>\n      <th>1</th>\n      <th>2</th>\n      <th>3</th>\n      <th>0</th>\n      <th>1</th>\n      <th>2</th>\n      <th>3</th>\n    </tr>\n  </thead>\n  <tbody>\n    <tr>\n      <th>SemInferência</th>\n      <td>1</td>\n      <td>2</td>\n      <td>3</td>\n      <td>4</td>\n      <td>2</td>\n      <td>1</td>\n      <td>4</td>\n      <td>3</td>\n      <td>3</td>\n      <td>4</td>\n      <td>1</td>\n      <td>2</td>\n      <td>4</td>\n      <td>3</td>\n      <td>2</td>\n      <td>1</td>\n    </tr>\n    <tr>\n      <th>MRV</th>\n      <td>4</td>\n      <td>1</td>\n      <td>3</td>\n      <td>2</td>\n      <td>3</td>\n      <td>2</td>\n      <td>4</td>\n      <td>1</td>\n      <td>2</td>\n      <td>4</td>\n      <td>1</td>\n      <td>3</td>\n      <td>1</td>\n      <td>3</td>\n      <td>2</td>\n      <td>4</td>\n    </tr>\n    <tr>\n      <th>AC3_MVR_MAC</th>\n      <td>4</td>\n      <td>3</td>\n      <td>2</td>\n      <td>1</td>\n      <td>3</td>\n      <td>4</td>\n      <td>1</td>\n      <td>2</td>\n      <td>1</td>\n      <td>2</td>\n      <td>4</td>\n      <td>3</td>\n      <td>2</td>\n      <td>1</td>\n      <td>3</td>\n      <td>4</td>\n    </tr>\n  </tbody>\n</table>\n</div>"
     },
     "execution_count": 28,
     "metadata": {},
     "output_type": "execute_result"
    }
   ],
   "source": [
    "sols.drop_duplicates()"
   ]
  },
  {
   "cell_type": "markdown",
   "metadata": {
    "collapsed": false,
    "pycharm": {
     "name": "#%% md\n"
    }
   },
   "source": [
    "#### Conclusões sobre os resultados de soluções\n",
    "\n",
    "Podemos concluir que usando a heurística MRV a solução do problema é diferente quando não a usamos. Mais ainda, verifica-se que mesmo usando a heurística MRV, a solução do problema é diferente quando se fez um pré-processamento com recurso ao algoritmo AC3.\n",
    "\n"
   ]
  },
  {
   "cell_type": "markdown",
   "metadata": {
    "collapsed": false
   },
   "source": [
    "## Visualização do problema"
   ]
  },
  {
   "cell_type": "code",
   "execution_count": 29,
   "metadata": {},
   "outputs": [],
   "source": [
    "def visualizacao_quadrado_latino(n, problema_csp, solucao):\n",
    "    \"\"\"Gera uma visualização do estado inicial e da solução de um problema de quadrados\n",
    "    latinos de dimensão n\n",
    "    \n",
    "    Args:\n",
    "        n (int): Dimensão do problema\n",
    "        problema_csp (CSP): Object CSP do problema em questão\n",
    "        solucao (dict): Solução do problema\n",
    "    \"\"\"    \n",
    "    \n",
    "    # Construir matriz inicial com os valores do problema\n",
    "    estado_inicial = [[0 for y in range(n)] for x in range(n)]\n",
    "    for var, dom in problema_csp.domains.items():\n",
    "        if len(dom) == 1:\n",
    "            estado_inicial[var[1]][var[0]] = dom[0]\n",
    "        \n",
    "    # Construir matriz final com os valores do problema\n",
    "    estado_final = [[0 for y in range(n)] for x in range(n)]\n",
    "    for var, valor in solucao.items():\n",
    "        estado_final[var[1]][var[0]] = valor\n",
    "    \n",
    "    # Construir strings que representam as matrizes\n",
    "    board_inicial = \"\"\n",
    "    board_final = \"\"\n",
    "    for y in range(n):\n",
    "        for x in range(n):\n",
    "            board_inicial += str(estado_inicial[y][x]) + \" \"\n",
    "            board_final += str(estado_final[y][x]) + \" \"\n",
    "        board_inicial += \"\\n\"\n",
    "        board_final += \"\\n\"\n",
    "    \n",
    "    print(\"Estado Inicial:\")\n",
    "    print(board_inicial)\n",
    "    print(\"Solução:\")\n",
    "    print(board_final)"
   ]
  },
  {
   "cell_type": "markdown",
   "metadata": {},
   "source": [
    "Para visualizar o problema anterior basta invocar a função visualizacao_quadrado_latino dando a dimensao, o CSP e a solução como argumentos"
   ]
  },
  {
   "cell_type": "code",
   "execution_count": 30,
   "metadata": {
    "collapsed": false,
    "pycharm": {
     "name": "#%%\n"
    }
   },
   "outputs": [
    {
     "name": "stdout",
     "output_type": "stream",
     "text": [
      "Estado Inicial:\n",
      "0 0 0 0 \n",
      "0 0 0 0 \n",
      "0 0 0 0 \n",
      "0 0 0 0 \n",
      "\n",
      "Solução:\n",
      "1 2 3 4 \n",
      "2 1 4 3 \n",
      "3 4 1 2 \n",
      "4 3 2 1 \n",
      "\n"
     ]
    }
   ],
   "source": [
    "visualizacao_quadrado_latino(n, quadrado_latino(n), backtracking_search(quadrado_latino(n)))"
   ]
  },
  {
   "cell_type": "markdown",
   "metadata": {
    "collapsed": false
   },
   "source": [
    "## Criação do problema Futoshiki *5x5*\n",
    "\n",
    "Mostrem que o código está a funcionar, construindo um problema de Futoshiki *5x5*, imprimindo as variáveis, domínios iniciais, e vizinhos. Adicione os comentários necessários. Utilize o [link](https://www.futoshiki.org/) para gerar puzzles e validar a implementação."
   ]
  },
  {
   "cell_type": "markdown",
   "metadata": {},
   "source": [
    "Para criar um problema Futoshiki vamos ter definir os elementos da matriz que estão preenchidos e estabelecer as relações de desigualdade presentes no problema."
   ]
  },
  {
   "cell_type": "code",
   "execution_count": 31,
   "metadata": {},
   "outputs": [],
   "source": [
    "preenchidos5 = {(0,3) : [2], (4,3) : [3]}\n",
    "desigualdades5 = {((3,0),(4,0)) : maior, ((0,1),(1,1)) : menor, ((0,2),(1,2)) : menor,\\\n",
    "                 ((3,3),(3,2)) : menor, ((1,4),(2,4)) : maior, ((2,4),(2,3)) : maior, \\\n",
    "                 ((4,4),(4,3)) : maior}"
   ]
  },
  {
   "cell_type": "markdown",
   "metadata": {},
   "source": [
    "Podemos então criar um problema Futoshiki 5x5 da seguinte forma"
   ]
  },
  {
   "cell_type": "code",
   "execution_count": 32,
   "metadata": {},
   "outputs": [],
   "source": [
    "futoshiki5 = futoshiki(5, preenchidos5, desigualdades5)"
   ]
  },
  {
   "cell_type": "markdown",
   "metadata": {},
   "source": [
    "E ver as variáveis, domínios e vizinhos"
   ]
  },
  {
   "cell_type": "code",
   "execution_count": 33,
   "metadata": {},
   "outputs": [
    {
     "name": "stdout",
     "output_type": "stream",
     "text": [
      "Variáveis =  [(0, 0), (0, 1), (0, 2), (0, 3), (0, 4), (1, 0), (1, 1), (1, 2), (1, 3), (1, 4), (2, 0), (2, 1), (2, 2), (2, 3), (2, 4), (3, 0), (3, 1), (3, 2), (3, 3), (3, 4), (4, 0), (4, 1), (4, 2), (4, 3), (4, 4)] \n",
      "\n",
      "Domínios =  {(0, 3): [2], (4, 3): [3], (0, 1): [1, 2, 3, 4, 5], (2, 4): [1, 2, 3, 4, 5], (4, 0): [1, 2, 3, 4, 5], (1, 2): [1, 2, 3, 4, 5], (3, 4): [1, 2, 3, 4, 5], (0, 4): [1, 2, 3, 4, 5], (2, 1): [1, 2, 3, 4, 5], (3, 1): [1, 2, 3, 4, 5], (0, 2): [1, 2, 3, 4, 5], (2, 2): [1, 2, 3, 4, 5], (1, 0): [1, 2, 3, 4, 5], (3, 2): [1, 2, 3, 4, 5], (1, 3): [1, 2, 3, 4, 5], (4, 1): [1, 2, 3, 4, 5], (4, 4): [1, 2, 3, 4, 5], (0, 0): [1, 2, 3, 4, 5], (1, 1): [1, 2, 3, 4, 5], (2, 0): [1, 2, 3, 4, 5], (4, 2): [1, 2, 3, 4, 5], (3, 0): [1, 2, 3, 4, 5], (1, 4): [1, 2, 3, 4, 5], (2, 3): [1, 2, 3, 4, 5], (3, 3): [1, 2, 3, 4, 5]} \n",
      "\n",
      "Vizinhos =  {(0, 0): [(0, 1), (0, 2), (0, 3), (0, 4), (1, 0), (2, 0), (3, 0), (4, 0)], (0, 1): [(0, 0), (0, 2), (0, 3), (0, 4), (1, 1), (2, 1), (3, 1), (4, 1)], (0, 2): [(0, 0), (0, 1), (0, 3), (0, 4), (1, 2), (2, 2), (3, 2), (4, 2)], (0, 3): [(0, 0), (0, 1), (0, 2), (0, 4), (1, 3), (2, 3), (3, 3), (4, 3)], (0, 4): [(0, 0), (0, 1), (0, 2), (0, 3), (1, 4), (2, 4), (3, 4), (4, 4)], (1, 0): [(0, 0), (1, 1), (1, 2), (1, 3), (1, 4), (2, 0), (3, 0), (4, 0)], (1, 1): [(0, 1), (1, 0), (1, 2), (1, 3), (1, 4), (2, 1), (3, 1), (4, 1)], (1, 2): [(0, 2), (1, 0), (1, 1), (1, 3), (1, 4), (2, 2), (3, 2), (4, 2)], (1, 3): [(0, 3), (1, 0), (1, 1), (1, 2), (1, 4), (2, 3), (3, 3), (4, 3)], (1, 4): [(0, 4), (1, 0), (1, 1), (1, 2), (1, 3), (2, 4), (3, 4), (4, 4)], (2, 0): [(0, 0), (1, 0), (2, 1), (2, 2), (2, 3), (2, 4), (3, 0), (4, 0)], (2, 1): [(0, 1), (1, 1), (2, 0), (2, 2), (2, 3), (2, 4), (3, 1), (4, 1)], (2, 2): [(0, 2), (1, 2), (2, 0), (2, 1), (2, 3), (2, 4), (3, 2), (4, 2)], (2, 3): [(0, 3), (1, 3), (2, 0), (2, 1), (2, 2), (2, 4), (3, 3), (4, 3)], (2, 4): [(0, 4), (1, 4), (2, 0), (2, 1), (2, 2), (2, 3), (3, 4), (4, 4)], (3, 0): [(0, 0), (1, 0), (2, 0), (3, 1), (3, 2), (3, 3), (3, 4), (4, 0)], (3, 1): [(0, 1), (1, 1), (2, 1), (3, 0), (3, 2), (3, 3), (3, 4), (4, 1)], (3, 2): [(0, 2), (1, 2), (2, 2), (3, 0), (3, 1), (3, 3), (3, 4), (4, 2)], (3, 3): [(0, 3), (1, 3), (2, 3), (3, 0), (3, 1), (3, 2), (3, 4), (4, 3)], (3, 4): [(0, 4), (1, 4), (2, 4), (3, 0), (3, 1), (3, 2), (3, 3), (4, 4)], (4, 0): [(0, 0), (1, 0), (2, 0), (3, 0), (4, 1), (4, 2), (4, 3), (4, 4)], (4, 1): [(0, 1), (1, 1), (2, 1), (3, 1), (4, 0), (4, 2), (4, 3), (4, 4)], (4, 2): [(0, 2), (1, 2), (2, 2), (3, 2), (4, 0), (4, 1), (4, 3), (4, 4)], (4, 3): [(0, 3), (1, 3), (2, 3), (3, 3), (4, 0), (4, 1), (4, 2), (4, 4)], (4, 4): [(0, 4), (1, 4), (2, 4), (3, 4), (4, 0), (4, 1), (4, 2), (4, 3)]} \n",
      "\n"
     ]
    }
   ],
   "source": [
    "print(\"Variáveis = \", futoshiki5.variables, \"\\n\")\n",
    "print(\"Domínios = \", futoshiki5.domains,\"\\n\")\n",
    "print(\"Vizinhos = \", futoshiki5.neighbors, \"\\n\")"
   ]
  },
  {
   "cell_type": "markdown",
   "metadata": {
    "collapsed": false
   },
   "source": [
    "Resolva o problema com o backtracking sem inferencia, com inferencia, e com uma heurística. Até que dimensão consegue resolver o problema em menos de 1 minuto?"
   ]
  },
  {
   "cell_type": "code",
   "execution_count": 65,
   "metadata": {
    "collapsed": false,
    "pycharm": {
     "name": "#%%\n"
    }
   },
   "outputs": [],
   "source": [
    "import timeit\n",
    "\n",
    "def avg_run_time(func, *args, **kwargs):\n",
    "    \"\"\"Corre uma função n vezes medindo o tempo de execução de cada vez\n",
    "    e imprime a média dos tempos\n",
    "\n",
    "    Args:\n",
    "        func: Função a correr\n",
    "    \"\"\"\n",
    "    n = 1\n",
    "    run_times = []\n",
    "    for i in range(n):\n",
    "        start = timeit.default_timer()\n",
    "        func(*args, **kwargs)\n",
    "        stop = timeit.default_timer()\n",
    "        run_times.append(stop-start)\n",
    "    return sum(run_times) / n\n",
    "\n",
    "solucoesFutoshiki = {}\n",
    "temposFutoshiki = {}"
   ]
  },
  {
   "cell_type": "code",
   "execution_count": 66,
   "outputs": [],
   "source": [
    "preenchidos7ext = {(3,2) : [2], (4,0) : [4]}\n",
    "desigualdades7ext = {((1,0),(2,0)):menor, ((2,0),(3,0)):menor, ((5,0),(6,0)): maior, ((2,1),(2,0)):menor, ((5,1),(5,0)):menor, ((0,1),(1,1)):maior, ((1,1),(2,1)):maior, ((2,1),(3,1)): menor, ((4,1),(5,1)):menor, ((2,2),(2,1)): menor, ((5,2),(5,1)): maior, ((1,3),(1,2)): menor, ((2,3),(2,2)): maior, ((0,3),(1,3)):maior, ((2,3),(3,3)):menor, ((4,3),(5,3)): menor, ((0,4),(0,3)):maior,((1,4),(1,3)):menor,((6,4),(6,3)):menor, ((3,4),(4,4)):menor,((4,4),(5,4)):menor,((3,6),(3,5)):maior, ((3,5),(3,4)):menor, ((0,6),(0,5)): maior, ((0,2),(1,2)): maior}\n"
   ],
   "metadata": {
    "collapsed": false,
    "pycharm": {
     "name": "#%%\n"
    }
   }
  },
  {
   "cell_type": "markdown",
   "metadata": {
    "collapsed": false,
    "pycharm": {
     "name": "#%% md\n"
    }
   },
   "source": [
    "- Backtracking sem inferência"
   ]
  },
  {
   "cell_type": "code",
   "execution_count": 68,
   "metadata": {
    "collapsed": false,
    "pycharm": {
     "name": "#%%\n"
    }
   },
   "outputs": [
    {
     "name": "stdout",
     "output_type": "stream",
     "text": [
      "Tempo de execução: 0.006189999985508621 s\n",
      "Assignment (Futoshiki7ExtSemInferência) =  {(0, 0): 1, (0, 1): 7, (0, 2): 6, (0, 3): 4, (0, 4): 5, (0, 5): 2, (0, 6): 3, (1, 0): 2, (1, 1): 6, (1, 2): 4, (1, 3): 3, (1, 4): 1, (1, 5): 7, (1, 6): 5, (2, 0): 3, (2, 1): 2, (2, 2): 1, (2, 3): 5, (2, 4): 4, (2, 5): 6, (2, 6): 7, (3, 0): 7, (3, 1): 5, (3, 2): 2, (3, 3): 6, (3, 4): 3, (3, 5): 1, (3, 6): 4, (4, 0): 4, (4, 1): 3, (4, 2): 7, (4, 3): 1, (4, 4): 6, (4, 5): 5, (4, 6): 2, (5, 0): 6, (5, 1): 4, (5, 2): 5, (5, 3): 2, (5, 4): 7, (5, 5): 3, (5, 6): 1, (6, 0): 5, (6, 1): 1, (6, 2): 3, (6, 3): 7, (6, 4): 2, (6, 5): 4, (6, 6): 6}\n"
     ]
    }
   ],
   "source": [
    "# Definir problema\n",
    "Futoshiki7ExtSemInferência = futoshiki(7, preenchidos7ext, desigualdades7ext)\n",
    "# Guardar solucao\n",
    "sol_1 = backtracking_search(Futoshiki7ExtSemInferência)\n",
    "# Calcular tempo medio executando 20 vezes\n",
    "tempo_medio1 = avg_run_time(backtracking_search,Futoshiki7ExtSemInferência)\n",
    "# Guardar resultados\n",
    "temposFutoshiki['Futoshiki7ExtSemInferência'] = tempo_medio1\n",
    "solucoesFutoshiki['Futoshiki7ExtSemInferência'] = sol_1\n",
    "# Imprimir resultados\n",
    "print(f\"Tempo de execução: {tempo_medio1} s\")\n",
    "print('Assignment (Futoshiki7ExtSemInferência) = ',sol_1)\n"
   ]
  },
  {
   "cell_type": "markdown",
   "metadata": {
    "collapsed": false,
    "pycharm": {
     "name": "#%% md\n"
    }
   },
   "source": [
    "- Backtracking com inferência Forward Checking"
   ]
  },
  {
   "cell_type": "code",
   "execution_count": 69,
   "metadata": {
    "collapsed": false,
    "pycharm": {
     "name": "#%%\n"
    }
   },
   "outputs": [
    {
     "name": "stdout",
     "output_type": "stream",
     "text": [
      "Tempo de execução: 0.003122100024484098\n",
      "Assignment (Futoshiki7ExtComInferência_FRWDchecking) =  {(0, 0): 1, (0, 1): 7, (0, 2): 6, (0, 3): 4, (0, 4): 5, (0, 5): 2, (0, 6): 3, (1, 0): 2, (1, 1): 6, (1, 2): 4, (1, 3): 3, (1, 4): 1, (1, 5): 7, (1, 6): 5, (2, 0): 3, (2, 1): 2, (2, 2): 1, (2, 3): 5, (2, 4): 4, (2, 5): 6, (2, 6): 7, (3, 0): 7, (3, 1): 5, (3, 2): 2, (3, 3): 6, (3, 4): 3, (3, 5): 1, (3, 6): 4, (4, 0): 4, (4, 1): 3, (4, 2): 7, (4, 3): 1, (4, 4): 6, (4, 5): 5, (4, 6): 2, (5, 0): 6, (5, 1): 4, (5, 2): 5, (5, 3): 2, (5, 4): 7, (5, 5): 3, (5, 6): 1, (6, 0): 5, (6, 1): 1, (6, 2): 3, (6, 3): 7, (6, 4): 2, (6, 5): 4, (6, 6): 6}\n"
     ]
    }
   ],
   "source": [
    "# Definir problema\n",
    "Futoshiki7ExtComInferência_FRWDchecking = futoshiki(7, preenchidos7ext, desigualdades7ext)\n",
    "# Resolver e guardar solucao\n",
    "sol_2= backtracking_search(Futoshiki7ExtComInferência_FRWDchecking, inference=forward_checking)\n",
    "# Calcular o tempo medio de execucao\n",
    "tempo_medio2 = avg_run_time(backtracking_search, Futoshiki7ExtComInferência_FRWDchecking, inference=forward_checking)\n",
    "# Guardar resultados\n",
    "temposFutoshiki['Futoshiki7ExtComInferência_FRWDchecking'] = tempo_medio2\n",
    "solucoesFutoshiki['Futoshiki7ExtComInferência_FRWDchecking'] = sol_2\n",
    "# Imprimir resultados\n",
    "print(f\"Tempo de execução: {tempo_medio2}\")\n",
    "print('Assignment (Futoshiki7ExtComInferência_FRWDchecking) = ',sol_2)"
   ]
  },
  {
   "cell_type": "markdown",
   "metadata": {},
   "source": [
    "- Backtracking com inferência MAC"
   ]
  },
  {
   "cell_type": "code",
   "execution_count": 70,
   "metadata": {},
   "outputs": [
    {
     "name": "stdout",
     "output_type": "stream",
     "text": [
      "Tempo de execução: 0.007914200075902045\n",
      "Assignment (Futoshiki7Ext_MAC) =  {(0, 0): 1, (0, 1): 7, (0, 2): 6, (0, 3): 4, (0, 4): 5, (0, 5): 2, (0, 6): 3, (1, 0): 2, (1, 1): 6, (1, 2): 4, (1, 3): 3, (1, 4): 1, (1, 5): 7, (1, 6): 5, (2, 0): 3, (2, 1): 2, (2, 2): 1, (2, 3): 5, (2, 4): 4, (2, 5): 6, (2, 6): 7, (3, 0): 7, (3, 1): 5, (3, 2): 2, (3, 3): 6, (3, 4): 3, (3, 5): 1, (3, 6): 4, (4, 0): 4, (4, 1): 3, (4, 2): 7, (4, 3): 1, (4, 4): 6, (4, 5): 5, (4, 6): 2, (5, 0): 6, (5, 1): 4, (5, 2): 5, (5, 3): 2, (5, 4): 7, (5, 5): 3, (5, 6): 1, (6, 0): 5, (6, 1): 1, (6, 2): 3, (6, 3): 7, (6, 4): 2, (6, 5): 4, (6, 6): 6}\n"
     ]
    }
   ],
   "source": [
    "# Definir problema\n",
    "Futoshiki7ExtComInferência_MAC = futoshiki(7, preenchidos7ext, desigualdades7ext)\n",
    "# Resolver e guardar solucao\n",
    "sol_4 = backtracking_search(Futoshiki7ExtComInferência_MAC, inference=mac)\n",
    "# Tempo medio\n",
    "tempo_medio4 = avg_run_time(backtracking_search, Futoshiki7ExtComInferência_MAC, inference=mac)\n",
    "# Guardar resultados\n",
    "temposFutoshiki['Futoshiki7Ext_MAC'] = tempo_medio4\n",
    "solucoesFutoshiki['Futoshiki7Ext_MAC'] = sol_4\n",
    "# Imprimir resultados\n",
    "print(f\"Tempo de execução: {tempo_medio4}\")\n",
    "print('Assignment (Futoshiki7Ext_MAC) = ',sol_4)"
   ]
  },
  {
   "cell_type": "markdown",
   "metadata": {},
   "source": [
    "- Backtracking com pré-processamento AC3"
   ]
  },
  {
   "cell_type": "code",
   "execution_count": 71,
   "metadata": {},
   "outputs": [
    {
     "name": "stdout",
     "output_type": "stream",
     "text": [
      "Tempo de execução: 0.002294400008395314\n",
      "Assignment (Futoshiki5_AC3) =  {(0, 0): 1, (0, 1): 7, (0, 2): 6, (0, 3): 4, (0, 4): 5, (0, 5): 2, (0, 6): 3, (1, 0): 2, (1, 1): 6, (1, 2): 4, (1, 3): 3, (1, 4): 1, (1, 5): 7, (1, 6): 5, (2, 0): 3, (2, 1): 2, (2, 2): 1, (2, 3): 5, (2, 4): 4, (2, 5): 6, (2, 6): 7, (3, 0): 7, (3, 1): 5, (3, 2): 2, (3, 3): 6, (3, 4): 3, (3, 5): 1, (3, 6): 4, (4, 0): 4, (4, 1): 3, (4, 2): 7, (4, 3): 1, (4, 4): 6, (4, 5): 5, (4, 6): 2, (5, 0): 6, (5, 1): 4, (5, 2): 5, (5, 3): 2, (5, 4): 7, (5, 5): 3, (5, 6): 1, (6, 0): 5, (6, 1): 1, (6, 2): 3, (6, 3): 7, (6, 4): 2, (6, 5): 4, (6, 6): 6}\n"
     ]
    }
   ],
   "source": [
    "# Definir problema\n",
    "Futoshiki7ExtComPreProcAC3 = futoshiki(7, preenchidos7ext, desigualdades7ext)\n",
    "# Pre Processamento\n",
    "futo7Ext_AC3 = AC3(Futoshiki7ExtComPreProcAC3)\n",
    "# Resolver e guardar\n",
    "sol_5 = backtracking_search(futo7Ext_AC3)\n",
    "# Tempo medio\n",
    "tempo_medio5 = avg_run_time(backtracking_search, futo7Ext_AC3)\n",
    "# Guardar resultados\n",
    "temposFutoshiki['Futoshiki5_AC3'] = tempo_medio5\n",
    "solucoesFutoshiki['Futoshiki5_AC3'] = sol_5\n",
    "# Imprimir resultados\n",
    "print(f\"Tempo de execução: {tempo_medio5}\")\n",
    "print('Assignment (Futoshiki5_AC3) = ',sol_5)"
   ]
  },
  {
   "cell_type": "markdown",
   "metadata": {},
   "source": [
    "- Backtracking com heurística MRV"
   ]
  },
  {
   "cell_type": "code",
   "execution_count": 72,
   "metadata": {},
   "outputs": [
    {
     "ename": "KeyboardInterrupt",
     "evalue": "",
     "output_type": "error",
     "traceback": [
      "\u001B[1;31m---------------------------------------------------------------------------\u001B[0m",
      "\u001B[1;31mKeyboardInterrupt\u001B[0m                         Traceback (most recent call last)",
      "Input \u001B[1;32mIn [72]\u001B[0m, in \u001B[0;36m<module>\u001B[1;34m\u001B[0m\n\u001B[0;32m      2\u001B[0m Futoshiki7ExtComHeurMRV \u001B[38;5;241m=\u001B[39m futoshiki(\u001B[38;5;241m7\u001B[39m, preenchidos7ext, desigualdades7ext)\n\u001B[0;32m      3\u001B[0m \u001B[38;5;66;03m# Resolver e guardar\u001B[39;00m\n\u001B[1;32m----> 4\u001B[0m sol_6 \u001B[38;5;241m=\u001B[39m \u001B[43mbacktracking_search\u001B[49m\u001B[43m(\u001B[49m\u001B[43mFutoshiki7ExtComHeurMRV\u001B[49m\u001B[43m,\u001B[49m\u001B[43m \u001B[49m\u001B[43mselect_unassigned_variable\u001B[49m\u001B[38;5;241;43m=\u001B[39;49m\u001B[43mmrv\u001B[49m\u001B[43m)\u001B[49m\n\u001B[0;32m      5\u001B[0m \u001B[38;5;66;03m# tempo medio\u001B[39;00m\n\u001B[0;32m      6\u001B[0m tempo_medio6 \u001B[38;5;241m=\u001B[39m avg_run_time(backtracking_search, Futoshiki7ExtComHeurMRV, select_unassigned_variable\u001B[38;5;241m=\u001B[39mmrv)\n",
      "File \u001B[1;32m~\\Documents\\SInteligentes\\ProjetoSI\\Projeto2\\projeto2-SI\\csp.py:358\u001B[0m, in \u001B[0;36mbacktracking_search\u001B[1;34m(csp, select_unassigned_variable, order_domain_values, inference, verbose)\u001B[0m\n\u001B[0;32m    355\u001B[0m     csp\u001B[38;5;241m.\u001B[39munassign(var, assignment)\n\u001B[0;32m    356\u001B[0m     \u001B[38;5;28;01mreturn\u001B[39;00m \u001B[38;5;28;01mNone\u001B[39;00m\n\u001B[1;32m--> 358\u001B[0m result \u001B[38;5;241m=\u001B[39m \u001B[43mbacktrack\u001B[49m\u001B[43m(\u001B[49m\u001B[43m{\u001B[49m\u001B[43m}\u001B[49m\u001B[43m)\u001B[49m\n\u001B[0;32m    359\u001B[0m \u001B[38;5;28;01massert\u001B[39;00m result \u001B[38;5;129;01mis\u001B[39;00m \u001B[38;5;28;01mNone\u001B[39;00m \u001B[38;5;129;01mor\u001B[39;00m csp\u001B[38;5;241m.\u001B[39mgoal_test(result)\n\u001B[0;32m    360\u001B[0m \u001B[38;5;28;01mreturn\u001B[39;00m result\n",
      "File \u001B[1;32m~\\Documents\\SInteligentes\\ProjetoSI\\Projeto2\\projeto2-SI\\csp.py:345\u001B[0m, in \u001B[0;36mbacktracking_search.<locals>.backtrack\u001B[1;34m(assignment)\u001B[0m\n\u001B[0;32m    343\u001B[0m \u001B[38;5;28;01mif\u001B[39;00m verbose:\n\u001B[0;32m    344\u001B[0m     \u001B[38;5;28mprint\u001B[39m(\u001B[38;5;124m'\u001B[39m\u001B[38;5;124m----Assigned!\u001B[39m\u001B[38;5;124m'\u001B[39m)\n\u001B[1;32m--> 345\u001B[0m result \u001B[38;5;241m=\u001B[39m \u001B[43mbacktrack\u001B[49m\u001B[43m(\u001B[49m\u001B[43massignment\u001B[49m\u001B[43m)\u001B[49m\n\u001B[0;32m    346\u001B[0m \u001B[38;5;28;01mif\u001B[39;00m result \u001B[38;5;129;01mis\u001B[39;00m \u001B[38;5;129;01mnot\u001B[39;00m \u001B[38;5;28;01mNone\u001B[39;00m:\n\u001B[0;32m    347\u001B[0m     \u001B[38;5;28;01mreturn\u001B[39;00m result\n",
      "File \u001B[1;32m~\\Documents\\SInteligentes\\ProjetoSI\\Projeto2\\projeto2-SI\\csp.py:345\u001B[0m, in \u001B[0;36mbacktracking_search.<locals>.backtrack\u001B[1;34m(assignment)\u001B[0m\n\u001B[0;32m    343\u001B[0m \u001B[38;5;28;01mif\u001B[39;00m verbose:\n\u001B[0;32m    344\u001B[0m     \u001B[38;5;28mprint\u001B[39m(\u001B[38;5;124m'\u001B[39m\u001B[38;5;124m----Assigned!\u001B[39m\u001B[38;5;124m'\u001B[39m)\n\u001B[1;32m--> 345\u001B[0m result \u001B[38;5;241m=\u001B[39m \u001B[43mbacktrack\u001B[49m\u001B[43m(\u001B[49m\u001B[43massignment\u001B[49m\u001B[43m)\u001B[49m\n\u001B[0;32m    346\u001B[0m \u001B[38;5;28;01mif\u001B[39;00m result \u001B[38;5;129;01mis\u001B[39;00m \u001B[38;5;129;01mnot\u001B[39;00m \u001B[38;5;28;01mNone\u001B[39;00m:\n\u001B[0;32m    347\u001B[0m     \u001B[38;5;28;01mreturn\u001B[39;00m result\n",
      "    \u001B[1;31m[... skipping similar frames: backtracking_search.<locals>.backtrack at line 345 (26 times)]\u001B[0m\n",
      "File \u001B[1;32m~\\Documents\\SInteligentes\\ProjetoSI\\Projeto2\\projeto2-SI\\csp.py:345\u001B[0m, in \u001B[0;36mbacktracking_search.<locals>.backtrack\u001B[1;34m(assignment)\u001B[0m\n\u001B[0;32m    343\u001B[0m \u001B[38;5;28;01mif\u001B[39;00m verbose:\n\u001B[0;32m    344\u001B[0m     \u001B[38;5;28mprint\u001B[39m(\u001B[38;5;124m'\u001B[39m\u001B[38;5;124m----Assigned!\u001B[39m\u001B[38;5;124m'\u001B[39m)\n\u001B[1;32m--> 345\u001B[0m result \u001B[38;5;241m=\u001B[39m \u001B[43mbacktrack\u001B[49m\u001B[43m(\u001B[49m\u001B[43massignment\u001B[49m\u001B[43m)\u001B[49m\n\u001B[0;32m    346\u001B[0m \u001B[38;5;28;01mif\u001B[39;00m result \u001B[38;5;129;01mis\u001B[39;00m \u001B[38;5;129;01mnot\u001B[39;00m \u001B[38;5;28;01mNone\u001B[39;00m:\n\u001B[0;32m    347\u001B[0m     \u001B[38;5;28;01mreturn\u001B[39;00m result\n",
      "File \u001B[1;32m~\\Documents\\SInteligentes\\ProjetoSI\\Projeto2\\projeto2-SI\\csp.py:336\u001B[0m, in \u001B[0;36mbacktracking_search.<locals>.backtrack\u001B[1;34m(assignment)\u001B[0m\n\u001B[0;32m    333\u001B[0m \u001B[38;5;28;01mif\u001B[39;00m (verbose):\n\u001B[0;32m    334\u001B[0m     \u001B[38;5;28mprint\u001B[39m(\u001B[38;5;124m\"\u001B[39m\u001B[38;5;124m--Test\u001B[39m\u001B[38;5;124m\"\u001B[39m, var, value)\n\u001B[1;32m--> 336\u001B[0m \u001B[38;5;28;01mif\u001B[39;00m \u001B[38;5;241m0\u001B[39m \u001B[38;5;241m==\u001B[39m \u001B[43mcsp\u001B[49m\u001B[38;5;241;43m.\u001B[39;49m\u001B[43mnconflicts\u001B[49m\u001B[43m(\u001B[49m\u001B[43mvar\u001B[49m\u001B[43m,\u001B[49m\u001B[43m \u001B[49m\u001B[43mvalue\u001B[49m\u001B[43m,\u001B[49m\u001B[43m \u001B[49m\u001B[43massignment\u001B[49m\u001B[43m)\u001B[49m:\n\u001B[0;32m    337\u001B[0m     csp\u001B[38;5;241m.\u001B[39massign(var, value, assignment)\n\u001B[0;32m    338\u001B[0m     \u001B[38;5;66;03m#if verbose:\u001B[39;00m\n\u001B[0;32m    339\u001B[0m     \u001B[38;5;66;03m#    print('---UAU No Conflicts with already assigned variables!')\u001B[39;00m\n",
      "File \u001B[1;32m~\\Documents\\SInteligentes\\ProjetoSI\\Projeto2\\projeto2-SI\\csp.py:82\u001B[0m, in \u001B[0;36mCSP.nconflicts\u001B[1;34m(self, var, val, assignment)\u001B[0m\n\u001B[0;32m     79\u001B[0m \u001B[38;5;28;01mdef\u001B[39;00m \u001B[38;5;21mconflict\u001B[39m(var2):\n\u001B[0;32m     80\u001B[0m     \u001B[38;5;28;01mreturn\u001B[39;00m (var2 \u001B[38;5;129;01min\u001B[39;00m assignment \u001B[38;5;129;01mand\u001B[39;00m\n\u001B[0;32m     81\u001B[0m             \u001B[38;5;129;01mnot\u001B[39;00m \u001B[38;5;28mself\u001B[39m\u001B[38;5;241m.\u001B[39mconstraints(var, val, var2, assignment[var2]))\n\u001B[1;32m---> 82\u001B[0m \u001B[38;5;28;01mreturn\u001B[39;00m \u001B[43mcount\u001B[49m\u001B[43m(\u001B[49m\u001B[43mconflict\u001B[49m\u001B[43m(\u001B[49m\u001B[43mv\u001B[49m\u001B[43m)\u001B[49m\u001B[43m \u001B[49m\u001B[38;5;28;43;01mfor\u001B[39;49;00m\u001B[43m \u001B[49m\u001B[43mv\u001B[49m\u001B[43m \u001B[49m\u001B[38;5;129;43;01min\u001B[39;49;00m\u001B[43m \u001B[49m\u001B[38;5;28;43mself\u001B[39;49m\u001B[38;5;241;43m.\u001B[39;49m\u001B[43mneighbors\u001B[49m\u001B[43m[\u001B[49m\u001B[43mvar\u001B[49m\u001B[43m]\u001B[49m\u001B[43m)\u001B[49m\n",
      "File \u001B[1;32m~\\Documents\\SInteligentes\\ProjetoSI\\Projeto2\\projeto2-SI\\utils.py:39\u001B[0m, in \u001B[0;36mcount\u001B[1;34m(seq)\u001B[0m\n\u001B[0;32m     37\u001B[0m \u001B[38;5;28;01mdef\u001B[39;00m \u001B[38;5;21mcount\u001B[39m(seq):\n\u001B[0;32m     38\u001B[0m     \u001B[38;5;124;03m\"\"\"Count the number of items in sequence that are interpreted as true.\"\"\"\u001B[39;00m\n\u001B[1;32m---> 39\u001B[0m     \u001B[38;5;28;01mreturn\u001B[39;00m \u001B[38;5;28;43msum\u001B[39;49m\u001B[43m(\u001B[49m\u001B[38;5;28;43mbool\u001B[39;49m\u001B[43m(\u001B[49m\u001B[43mx\u001B[49m\u001B[43m)\u001B[49m\u001B[43m \u001B[49m\u001B[38;5;28;43;01mfor\u001B[39;49;00m\u001B[43m \u001B[49m\u001B[43mx\u001B[49m\u001B[43m \u001B[49m\u001B[38;5;129;43;01min\u001B[39;49;00m\u001B[43m \u001B[49m\u001B[43mseq\u001B[49m\u001B[43m)\u001B[49m\n",
      "File \u001B[1;32m~\\Documents\\SInteligentes\\ProjetoSI\\Projeto2\\projeto2-SI\\utils.py:39\u001B[0m, in \u001B[0;36m<genexpr>\u001B[1;34m(.0)\u001B[0m\n\u001B[0;32m     37\u001B[0m \u001B[38;5;28;01mdef\u001B[39;00m \u001B[38;5;21mcount\u001B[39m(seq):\n\u001B[0;32m     38\u001B[0m     \u001B[38;5;124;03m\"\"\"Count the number of items in sequence that are interpreted as true.\"\"\"\u001B[39;00m\n\u001B[1;32m---> 39\u001B[0m     \u001B[38;5;28;01mreturn\u001B[39;00m \u001B[38;5;28msum\u001B[39m(\u001B[38;5;28mbool\u001B[39m(x) \u001B[38;5;28;01mfor\u001B[39;00m x \u001B[38;5;129;01min\u001B[39;00m seq)\n",
      "File \u001B[1;32m~\\Documents\\SInteligentes\\ProjetoSI\\Projeto2\\projeto2-SI\\csp.py:82\u001B[0m, in \u001B[0;36m<genexpr>\u001B[1;34m(.0)\u001B[0m\n\u001B[0;32m     79\u001B[0m \u001B[38;5;28;01mdef\u001B[39;00m \u001B[38;5;21mconflict\u001B[39m(var2):\n\u001B[0;32m     80\u001B[0m     \u001B[38;5;28;01mreturn\u001B[39;00m (var2 \u001B[38;5;129;01min\u001B[39;00m assignment \u001B[38;5;129;01mand\u001B[39;00m\n\u001B[0;32m     81\u001B[0m             \u001B[38;5;129;01mnot\u001B[39;00m \u001B[38;5;28mself\u001B[39m\u001B[38;5;241m.\u001B[39mconstraints(var, val, var2, assignment[var2]))\n\u001B[1;32m---> 82\u001B[0m \u001B[38;5;28;01mreturn\u001B[39;00m count(\u001B[43mconflict\u001B[49m\u001B[43m(\u001B[49m\u001B[43mv\u001B[49m\u001B[43m)\u001B[49m \u001B[38;5;28;01mfor\u001B[39;00m v \u001B[38;5;129;01min\u001B[39;00m \u001B[38;5;28mself\u001B[39m\u001B[38;5;241m.\u001B[39mneighbors[var])\n",
      "File \u001B[1;32m~\\Documents\\SInteligentes\\ProjetoSI\\Projeto2\\projeto2-SI\\csp.py:81\u001B[0m, in \u001B[0;36mCSP.nconflicts.<locals>.conflict\u001B[1;34m(var2)\u001B[0m\n\u001B[0;32m     79\u001B[0m \u001B[38;5;28;01mdef\u001B[39;00m \u001B[38;5;21mconflict\u001B[39m(var2):\n\u001B[0;32m     80\u001B[0m     \u001B[38;5;28;01mreturn\u001B[39;00m (var2 \u001B[38;5;129;01min\u001B[39;00m assignment \u001B[38;5;129;01mand\u001B[39;00m\n\u001B[1;32m---> 81\u001B[0m             \u001B[38;5;129;01mnot\u001B[39;00m \u001B[38;5;28;43mself\u001B[39;49m\u001B[38;5;241;43m.\u001B[39;49m\u001B[43mconstraints\u001B[49m\u001B[43m(\u001B[49m\u001B[43mvar\u001B[49m\u001B[43m,\u001B[49m\u001B[43m \u001B[49m\u001B[43mval\u001B[49m\u001B[43m,\u001B[49m\u001B[43m \u001B[49m\u001B[43mvar2\u001B[49m\u001B[43m,\u001B[49m\u001B[43m \u001B[49m\u001B[43massignment\u001B[49m\u001B[43m[\u001B[49m\u001B[43mvar2\u001B[49m\u001B[43m]\u001B[49m\u001B[43m)\u001B[49m)\n",
      "\u001B[1;31mKeyboardInterrupt\u001B[0m: "
     ]
    }
   ],
   "source": [
    "# Definir problema\n",
    "Futoshiki7ExtComHeurMRV = futoshiki(7, preenchidos7ext, desigualdades7ext)\n",
    "# Resolver e guardar\n",
    "sol_6 = backtracking_search(Futoshiki7ExtComHeurMRV, select_unassigned_variable=mrv)\n",
    "# tempo medio\n",
    "tempo_medio6 = avg_run_time(backtracking_search, Futoshiki7ExtComHeurMRV, select_unassigned_variable=mrv)\n",
    "# Guardar resultados\n",
    "temposFutoshiki['Futoshiki7Ext_MRV'] = tempo_medio6\n",
    "solucoesFutoshiki['Futoshiki7Ext_MRV'] = sol_6\n",
    "# Imprimir resultados\n",
    "print(f\"Tempo de execução: {tempo_medio6}\")\n",
    "print('Assignment (Futoshiki7Ext_MRV) = ',sol_6)"
   ]
  },
  {
   "cell_type": "markdown",
   "metadata": {},
   "source": [
    "- Backtracking com Heurística MRV, Inferência Forward-Checking e pré-processamento AC3"
   ]
  },
  {
   "cell_type": "code",
   "execution_count": null,
   "metadata": {},
   "outputs": [],
   "source": [
    "# Definir problema\n",
    "Futoshiki7ExtComHeurMRV_FRWDchecking_AC3 = futoshiki(7, preenchidos7ext, desigualdades7ext)\n",
    "\n",
    "# Pre processamento\n",
    "futo7Ext_ac3 = AC3(Futoshiki7ExtComHeurMRV_FRWDchecking_AC3)\n",
    "# Resolver e guardar\n",
    "sol_7 = backtracking_search(futo7Ext_ac3, select_unassigned_variable=mrv, inference=mac)\n",
    "# tempo medio\n",
    "tempo_medio7 = avg_run_time(backtracking_search, futo7Ext_ac3, select_unassigned_variable=mrv, inference=mac)\n",
    "# Guardar resultados\n",
    "temposFutoshiki['Futoshiki7ExtHeuristicaInferenciaAC3'] = tempo_medio7\n",
    "solucoesFutoshiki['Futoshiki7ExtHeuristicaInferenciaAC3'] = sol_7\n",
    "# Imprimir resultados\n",
    "print(f\"Tempo de execução: {tempo_medio7}\")\n",
    "print('Assignment (Futoshiki7ExtHeuristicaInferenciaAC3) = ',sol_7)"
   ]
  },
  {
   "cell_type": "code",
   "execution_count": null,
   "metadata": {
    "collapsed": false,
    "pycharm": {
     "name": "#%%\n"
    }
   },
   "outputs": [
    {
     "data": {
      "text/html": [
       "<div>\n",
       "<style scoped>\n",
       "    .dataframe tbody tr th:only-of-type {\n",
       "        vertical-align: middle;\n",
       "    }\n",
       "\n",
       "    .dataframe tbody tr th {\n",
       "        vertical-align: top;\n",
       "    }\n",
       "\n",
       "    .dataframe thead th {\n",
       "        text-align: right;\n",
       "    }\n",
       "</style>\n",
       "<table border=\"1\" class=\"dataframe\">\n",
       "  <thead>\n",
       "    <tr style=\"text-align: right;\">\n",
       "      <th></th>\n",
       "      <th>Tempo médio de execução</th>\n",
       "    </tr>\n",
       "  </thead>\n",
       "  <tbody>\n",
       "    <tr>\n",
       "      <th>Futoshiki5ComHeuristica</th>\n",
       "      <td>0.001394</td>\n",
       "    </tr>\n",
       "    <tr>\n",
       "      <th>Futoshiki5ComInferência_AC3</th>\n",
       "      <td>0.001609</td>\n",
       "    </tr>\n",
       "    <tr>\n",
       "      <th>Futoshiki5SemInferência</th>\n",
       "      <td>0.001752</td>\n",
       "    </tr>\n",
       "    <tr>\n",
       "      <th>Futoshiki5ComInferência_FRWDchecking</th>\n",
       "      <td>0.001998</td>\n",
       "    </tr>\n",
       "    <tr>\n",
       "      <th>Futoshiki5ComInferência_MAC</th>\n",
       "      <td>0.002322</td>\n",
       "    </tr>\n",
       "    <tr>\n",
       "      <th>Futoshiki5ComHeuristica_FRWDchecking_AC3</th>\n",
       "      <td>0.002778</td>\n",
       "    </tr>\n",
       "  </tbody>\n",
       "</table>\n",
       "</div>"
      ],
      "text/plain": [
       "                                          Tempo médio de execução\n",
       "Futoshiki5ComHeuristica                                  0.001394\n",
       "Futoshiki5ComInferência_AC3                              0.001609\n",
       "Futoshiki5SemInferência                                  0.001752\n",
       "Futoshiki5ComInferência_FRWDchecking                     0.001998\n",
       "Futoshiki5ComInferência_MAC                              0.002322\n",
       "Futoshiki5ComHeuristica_FRWDchecking_AC3                 0.002778"
      ]
     },
     "metadata": {},
     "output_type": "display_data"
    }
   ],
   "source": [
    "temposSorted = dict(sorted(temposFutoshiki.items(), key=lambda x:x[1]))\n",
    "pd.DataFrame(temposSorted, index=['Tempo médio de execução']).T"
   ]
  },
  {
   "cell_type": "code",
   "execution_count": null,
   "metadata": {
    "collapsed": false,
    "pycharm": {
     "name": "#%%\n"
    }
   },
   "outputs": [
    {
     "data": {
      "text/html": [
       "<div>\n",
       "<style scoped>\n",
       "    .dataframe tbody tr th:only-of-type {\n",
       "        vertical-align: middle;\n",
       "    }\n",
       "\n",
       "    .dataframe tbody tr th {\n",
       "        vertical-align: top;\n",
       "    }\n",
       "\n",
       "    .dataframe thead tr th {\n",
       "        text-align: left;\n",
       "    }\n",
       "</style>\n",
       "<table border=\"1\" class=\"dataframe\">\n",
       "  <thead>\n",
       "    <tr>\n",
       "      <th></th>\n",
       "      <th colspan=\"5\" halign=\"left\">0</th>\n",
       "      <th colspan=\"5\" halign=\"left\">1</th>\n",
       "      <th>...</th>\n",
       "      <th colspan=\"5\" halign=\"left\">3</th>\n",
       "      <th colspan=\"5\" halign=\"left\">4</th>\n",
       "    </tr>\n",
       "    <tr>\n",
       "      <th></th>\n",
       "      <th>0</th>\n",
       "      <th>1</th>\n",
       "      <th>2</th>\n",
       "      <th>3</th>\n",
       "      <th>4</th>\n",
       "      <th>0</th>\n",
       "      <th>1</th>\n",
       "      <th>2</th>\n",
       "      <th>3</th>\n",
       "      <th>4</th>\n",
       "      <th>...</th>\n",
       "      <th>0</th>\n",
       "      <th>1</th>\n",
       "      <th>2</th>\n",
       "      <th>3</th>\n",
       "      <th>4</th>\n",
       "      <th>0</th>\n",
       "      <th>1</th>\n",
       "      <th>2</th>\n",
       "      <th>3</th>\n",
       "      <th>4</th>\n",
       "    </tr>\n",
       "  </thead>\n",
       "  <tbody>\n",
       "    <tr>\n",
       "      <th>Futoshiki5SemInferência</th>\n",
       "      <td>5</td>\n",
       "      <td>3</td>\n",
       "      <td>1</td>\n",
       "      <td>2</td>\n",
       "      <td>4</td>\n",
       "      <td>1</td>\n",
       "      <td>4</td>\n",
       "      <td>2</td>\n",
       "      <td>5</td>\n",
       "      <td>3</td>\n",
       "      <td>...</td>\n",
       "      <td>3</td>\n",
       "      <td>2</td>\n",
       "      <td>5</td>\n",
       "      <td>4</td>\n",
       "      <td>1</td>\n",
       "      <td>2</td>\n",
       "      <td>1</td>\n",
       "      <td>4</td>\n",
       "      <td>3</td>\n",
       "      <td>5</td>\n",
       "    </tr>\n",
       "  </tbody>\n",
       "</table>\n",
       "<p>1 rows × 25 columns</p>\n",
       "</div>"
      ],
      "text/plain": [
       "                         0              1              ...  3              4  \\\n",
       "                         0  1  2  3  4  0  1  2  3  4  ...  0  1  2  3  4  0   \n",
       "Futoshiki5SemInferência  5  3  1  2  4  1  4  2  5  3  ...  3  2  5  4  1  2   \n",
       "\n",
       "                                     \n",
       "                         1  2  3  4  \n",
       "Futoshiki5SemInferência  1  4  3  5  \n",
       "\n",
       "[1 rows x 25 columns]"
      ]
     },
     "metadata": {},
     "output_type": "display_data"
    }
   ],
   "source": [
    "pd.DataFrame(solucoesFutoshiki).T.drop_duplicates()"
   ]
  },
  {
   "cell_type": "markdown",
   "metadata": {},
   "source": [
    "Para a nossa configuração encontramos que um problema 7x7 de dificuldade extrema do website indicado no enunciado do projeto, tem um tempo de execução por volta de 60 segundos. Portanto conseguimos resolver problemas 6x6 em menos de 1 minuto, e alguns problemas 7x7 mais simples em menos de um minuto.  \n",
    "<br>\n",
    "Isto permite-nos concluir que a complexidade das restrições de desigualdade impostas no problema vão afetar bastante o tempo de procura."
   ]
  },
  {
   "cell_type": "code",
   "execution_count": 1,
   "metadata": {},
   "outputs": [
    {
     "ename": "NameError",
     "evalue": "name 'menor' is not defined",
     "output_type": "error",
     "traceback": [
      "\u001B[0;31m---------------------------------------------------------------------------\u001B[0m",
      "\u001B[0;31mNameError\u001B[0m                                 Traceback (most recent call last)",
      "\u001B[0;32m/tmp/ipykernel_6595/3539158456.py\u001B[0m in \u001B[0;36m<module>\u001B[0;34m\u001B[0m\n\u001B[1;32m      1\u001B[0m \u001B[0mpreenchidos7ext\u001B[0m \u001B[0;34m=\u001B[0m \u001B[0;34m{\u001B[0m\u001B[0;34m(\u001B[0m\u001B[0;36m3\u001B[0m\u001B[0;34m,\u001B[0m\u001B[0;36m2\u001B[0m\u001B[0;34m)\u001B[0m \u001B[0;34m:\u001B[0m \u001B[0;34m[\u001B[0m\u001B[0;36m2\u001B[0m\u001B[0;34m]\u001B[0m\u001B[0;34m,\u001B[0m \u001B[0;34m(\u001B[0m\u001B[0;36m4\u001B[0m\u001B[0;34m,\u001B[0m\u001B[0;36m0\u001B[0m\u001B[0;34m)\u001B[0m \u001B[0;34m:\u001B[0m \u001B[0;34m[\u001B[0m\u001B[0;36m4\u001B[0m\u001B[0;34m]\u001B[0m\u001B[0;34m}\u001B[0m\u001B[0;34m\u001B[0m\u001B[0;34m\u001B[0m\u001B[0m\n\u001B[0;32m----> 2\u001B[0;31m \u001B[0mdesigualdades7ext\u001B[0m \u001B[0;34m=\u001B[0m \u001B[0;34m{\u001B[0m\u001B[0;34m(\u001B[0m\u001B[0;34m(\u001B[0m\u001B[0;36m1\u001B[0m\u001B[0;34m,\u001B[0m\u001B[0;36m0\u001B[0m\u001B[0;34m)\u001B[0m\u001B[0;34m,\u001B[0m\u001B[0;34m(\u001B[0m\u001B[0;36m2\u001B[0m\u001B[0;34m,\u001B[0m\u001B[0;36m0\u001B[0m\u001B[0;34m)\u001B[0m\u001B[0;34m)\u001B[0m\u001B[0;34m:\u001B[0m\u001B[0mmenor\u001B[0m\u001B[0;34m,\u001B[0m \u001B[0;34m(\u001B[0m\u001B[0;34m(\u001B[0m\u001B[0;36m2\u001B[0m\u001B[0;34m,\u001B[0m\u001B[0;36m0\u001B[0m\u001B[0;34m)\u001B[0m\u001B[0;34m,\u001B[0m\u001B[0;34m(\u001B[0m\u001B[0;36m3\u001B[0m\u001B[0;34m,\u001B[0m\u001B[0;36m0\u001B[0m\u001B[0;34m)\u001B[0m\u001B[0;34m)\u001B[0m\u001B[0;34m:\u001B[0m\u001B[0mmenor\u001B[0m\u001B[0;34m,\u001B[0m \u001B[0;34m(\u001B[0m\u001B[0;34m(\u001B[0m\u001B[0;36m5\u001B[0m\u001B[0;34m,\u001B[0m\u001B[0;36m0\u001B[0m\u001B[0;34m)\u001B[0m\u001B[0;34m,\u001B[0m\u001B[0;34m(\u001B[0m\u001B[0;36m6\u001B[0m\u001B[0;34m,\u001B[0m\u001B[0;36m0\u001B[0m\u001B[0;34m)\u001B[0m\u001B[0;34m)\u001B[0m\u001B[0;34m:\u001B[0m \u001B[0mmaior\u001B[0m\u001B[0;34m,\u001B[0m \u001B[0;34m(\u001B[0m\u001B[0;34m(\u001B[0m\u001B[0;36m2\u001B[0m\u001B[0;34m,\u001B[0m\u001B[0;36m1\u001B[0m\u001B[0;34m)\u001B[0m\u001B[0;34m,\u001B[0m\u001B[0;34m(\u001B[0m\u001B[0;36m2\u001B[0m\u001B[0;34m,\u001B[0m\u001B[0;36m0\u001B[0m\u001B[0;34m)\u001B[0m\u001B[0;34m)\u001B[0m\u001B[0;34m:\u001B[0m\u001B[0mmenor\u001B[0m\u001B[0;34m,\u001B[0m \u001B[0;34m(\u001B[0m\u001B[0;34m(\u001B[0m\u001B[0;36m5\u001B[0m\u001B[0;34m,\u001B[0m\u001B[0;36m1\u001B[0m\u001B[0;34m)\u001B[0m\u001B[0;34m,\u001B[0m\u001B[0;34m(\u001B[0m\u001B[0;36m5\u001B[0m\u001B[0;34m,\u001B[0m\u001B[0;36m0\u001B[0m\u001B[0;34m)\u001B[0m\u001B[0;34m)\u001B[0m\u001B[0;34m:\u001B[0m\u001B[0mmenor\u001B[0m\u001B[0;34m,\u001B[0m \u001B[0;34m(\u001B[0m\u001B[0;34m(\u001B[0m\u001B[0;36m0\u001B[0m\u001B[0;34m,\u001B[0m\u001B[0;36m1\u001B[0m\u001B[0;34m)\u001B[0m\u001B[0;34m,\u001B[0m\u001B[0;34m(\u001B[0m\u001B[0;36m1\u001B[0m\u001B[0;34m,\u001B[0m\u001B[0;36m1\u001B[0m\u001B[0;34m)\u001B[0m\u001B[0;34m)\u001B[0m\u001B[0;34m:\u001B[0m\u001B[0mmaior\u001B[0m\u001B[0;34m,\u001B[0m \u001B[0;34m(\u001B[0m\u001B[0;34m(\u001B[0m\u001B[0;36m1\u001B[0m\u001B[0;34m,\u001B[0m\u001B[0;36m1\u001B[0m\u001B[0;34m)\u001B[0m\u001B[0;34m,\u001B[0m\u001B[0;34m(\u001B[0m\u001B[0;36m2\u001B[0m\u001B[0;34m,\u001B[0m\u001B[0;36m1\u001B[0m\u001B[0;34m)\u001B[0m\u001B[0;34m)\u001B[0m\u001B[0;34m:\u001B[0m\u001B[0mmaior\u001B[0m\u001B[0;34m,\u001B[0m \u001B[0;34m(\u001B[0m\u001B[0;34m(\u001B[0m\u001B[0;36m2\u001B[0m\u001B[0;34m,\u001B[0m\u001B[0;36m1\u001B[0m\u001B[0;34m)\u001B[0m\u001B[0;34m,\u001B[0m\u001B[0;34m(\u001B[0m\u001B[0;36m3\u001B[0m\u001B[0;34m,\u001B[0m\u001B[0;36m1\u001B[0m\u001B[0;34m)\u001B[0m\u001B[0;34m)\u001B[0m\u001B[0;34m:\u001B[0m \u001B[0mmenor\u001B[0m\u001B[0;34m,\u001B[0m \u001B[0;34m(\u001B[0m\u001B[0;34m(\u001B[0m\u001B[0;36m4\u001B[0m\u001B[0;34m,\u001B[0m\u001B[0;36m1\u001B[0m\u001B[0;34m)\u001B[0m\u001B[0;34m,\u001B[0m\u001B[0;34m(\u001B[0m\u001B[0;36m5\u001B[0m\u001B[0;34m,\u001B[0m\u001B[0;36m1\u001B[0m\u001B[0;34m)\u001B[0m\u001B[0;34m)\u001B[0m\u001B[0;34m:\u001B[0m\u001B[0mmenor\u001B[0m\u001B[0;34m,\u001B[0m \u001B[0;34m(\u001B[0m\u001B[0;34m(\u001B[0m\u001B[0;36m2\u001B[0m\u001B[0;34m,\u001B[0m\u001B[0;36m2\u001B[0m\u001B[0;34m)\u001B[0m\u001B[0;34m,\u001B[0m\u001B[0;34m(\u001B[0m\u001B[0;36m2\u001B[0m\u001B[0;34m,\u001B[0m\u001B[0;36m1\u001B[0m\u001B[0;34m)\u001B[0m\u001B[0;34m)\u001B[0m\u001B[0;34m:\u001B[0m \u001B[0mmenor\u001B[0m\u001B[0;34m,\u001B[0m \u001B[0;34m(\u001B[0m\u001B[0;34m(\u001B[0m\u001B[0;36m5\u001B[0m\u001B[0;34m,\u001B[0m\u001B[0;36m2\u001B[0m\u001B[0;34m)\u001B[0m\u001B[0;34m,\u001B[0m\u001B[0;34m(\u001B[0m\u001B[0;36m5\u001B[0m\u001B[0;34m,\u001B[0m\u001B[0;36m1\u001B[0m\u001B[0;34m)\u001B[0m\u001B[0;34m)\u001B[0m\u001B[0;34m:\u001B[0m \u001B[0mmaior\u001B[0m\u001B[0;34m,\u001B[0m \u001B[0;34m(\u001B[0m\u001B[0;34m(\u001B[0m\u001B[0;36m1\u001B[0m\u001B[0;34m,\u001B[0m\u001B[0;36m3\u001B[0m\u001B[0;34m)\u001B[0m\u001B[0;34m,\u001B[0m\u001B[0;34m(\u001B[0m\u001B[0;36m1\u001B[0m\u001B[0;34m,\u001B[0m\u001B[0;36m2\u001B[0m\u001B[0;34m)\u001B[0m\u001B[0;34m)\u001B[0m\u001B[0;34m:\u001B[0m \u001B[0mmenor\u001B[0m\u001B[0;34m,\u001B[0m \u001B[0;34m(\u001B[0m\u001B[0;34m(\u001B[0m\u001B[0;36m2\u001B[0m\u001B[0;34m,\u001B[0m\u001B[0;36m3\u001B[0m\u001B[0;34m)\u001B[0m\u001B[0;34m,\u001B[0m\u001B[0;34m(\u001B[0m\u001B[0;36m2\u001B[0m\u001B[0;34m,\u001B[0m\u001B[0;36m2\u001B[0m\u001B[0;34m)\u001B[0m\u001B[0;34m)\u001B[0m\u001B[0;34m:\u001B[0m \u001B[0mmaior\u001B[0m\u001B[0;34m,\u001B[0m \u001B[0;34m(\u001B[0m\u001B[0;34m(\u001B[0m\u001B[0;36m0\u001B[0m\u001B[0;34m,\u001B[0m\u001B[0;36m3\u001B[0m\u001B[0;34m)\u001B[0m\u001B[0;34m,\u001B[0m\u001B[0;34m(\u001B[0m\u001B[0;36m1\u001B[0m\u001B[0;34m,\u001B[0m\u001B[0;36m3\u001B[0m\u001B[0;34m)\u001B[0m\u001B[0;34m)\u001B[0m\u001B[0;34m:\u001B[0m\u001B[0mmaior\u001B[0m\u001B[0;34m,\u001B[0m \u001B[0;34m(\u001B[0m\u001B[0;34m(\u001B[0m\u001B[0;36m2\u001B[0m\u001B[0;34m,\u001B[0m\u001B[0;36m3\u001B[0m\u001B[0;34m)\u001B[0m\u001B[0;34m,\u001B[0m\u001B[0;34m(\u001B[0m\u001B[0;36m3\u001B[0m\u001B[0;34m,\u001B[0m\u001B[0;36m3\u001B[0m\u001B[0;34m)\u001B[0m\u001B[0;34m)\u001B[0m\u001B[0;34m:\u001B[0m\u001B[0mmenor\u001B[0m\u001B[0;34m,\u001B[0m \u001B[0;34m(\u001B[0m\u001B[0;34m(\u001B[0m\u001B[0;36m4\u001B[0m\u001B[0;34m,\u001B[0m\u001B[0;36m3\u001B[0m\u001B[0;34m)\u001B[0m\u001B[0;34m,\u001B[0m\u001B[0;34m(\u001B[0m\u001B[0;36m5\u001B[0m\u001B[0;34m,\u001B[0m\u001B[0;36m3\u001B[0m\u001B[0;34m)\u001B[0m\u001B[0;34m)\u001B[0m\u001B[0;34m:\u001B[0m \u001B[0mmenor\u001B[0m\u001B[0;34m,\u001B[0m \u001B[0;34m(\u001B[0m\u001B[0;34m(\u001B[0m\u001B[0;36m0\u001B[0m\u001B[0;34m,\u001B[0m\u001B[0;36m4\u001B[0m\u001B[0;34m)\u001B[0m\u001B[0;34m,\u001B[0m\u001B[0;34m(\u001B[0m\u001B[0;36m0\u001B[0m\u001B[0;34m,\u001B[0m\u001B[0;36m3\u001B[0m\u001B[0;34m)\u001B[0m\u001B[0;34m)\u001B[0m\u001B[0;34m:\u001B[0m\u001B[0mmaior\u001B[0m\u001B[0;34m,\u001B[0m\u001B[0;34m(\u001B[0m\u001B[0;34m(\u001B[0m\u001B[0;36m1\u001B[0m\u001B[0;34m,\u001B[0m\u001B[0;36m4\u001B[0m\u001B[0;34m)\u001B[0m\u001B[0;34m,\u001B[0m\u001B[0;34m(\u001B[0m\u001B[0;36m1\u001B[0m\u001B[0;34m,\u001B[0m\u001B[0;36m3\u001B[0m\u001B[0;34m)\u001B[0m\u001B[0;34m)\u001B[0m\u001B[0;34m:\u001B[0m\u001B[0mmenor\u001B[0m\u001B[0;34m,\u001B[0m\u001B[0;34m(\u001B[0m\u001B[0;34m(\u001B[0m\u001B[0;36m6\u001B[0m\u001B[0;34m,\u001B[0m\u001B[0;36m4\u001B[0m\u001B[0;34m)\u001B[0m\u001B[0;34m,\u001B[0m\u001B[0;34m(\u001B[0m\u001B[0;36m6\u001B[0m\u001B[0;34m,\u001B[0m\u001B[0;36m3\u001B[0m\u001B[0;34m)\u001B[0m\u001B[0;34m)\u001B[0m\u001B[0;34m:\u001B[0m\u001B[0mmenor\u001B[0m\u001B[0;34m,\u001B[0m \u001B[0;34m(\u001B[0m\u001B[0;34m(\u001B[0m\u001B[0;36m3\u001B[0m\u001B[0;34m,\u001B[0m\u001B[0;36m4\u001B[0m\u001B[0;34m)\u001B[0m\u001B[0;34m,\u001B[0m\u001B[0;34m(\u001B[0m\u001B[0;36m4\u001B[0m\u001B[0;34m,\u001B[0m\u001B[0;36m4\u001B[0m\u001B[0;34m)\u001B[0m\u001B[0;34m)\u001B[0m\u001B[0;34m:\u001B[0m\u001B[0mmenor\u001B[0m\u001B[0;34m,\u001B[0m\u001B[0;34m(\u001B[0m\u001B[0;34m(\u001B[0m\u001B[0;36m4\u001B[0m\u001B[0;34m,\u001B[0m\u001B[0;36m4\u001B[0m\u001B[0;34m)\u001B[0m\u001B[0;34m,\u001B[0m\u001B[0;34m(\u001B[0m\u001B[0;36m5\u001B[0m\u001B[0;34m,\u001B[0m\u001B[0;36m4\u001B[0m\u001B[0;34m)\u001B[0m\u001B[0;34m)\u001B[0m\u001B[0;34m:\u001B[0m\u001B[0mmenor\u001B[0m\u001B[0;34m,\u001B[0m\u001B[0;34m(\u001B[0m\u001B[0;34m(\u001B[0m\u001B[0;36m3\u001B[0m\u001B[0;34m,\u001B[0m\u001B[0;36m6\u001B[0m\u001B[0;34m)\u001B[0m\u001B[0;34m,\u001B[0m\u001B[0;34m(\u001B[0m\u001B[0;36m3\u001B[0m\u001B[0;34m,\u001B[0m\u001B[0;36m5\u001B[0m\u001B[0;34m)\u001B[0m\u001B[0;34m)\u001B[0m\u001B[0;34m:\u001B[0m\u001B[0mmaior\u001B[0m\u001B[0;34m,\u001B[0m \u001B[0;34m(\u001B[0m\u001B[0;34m(\u001B[0m\u001B[0;36m3\u001B[0m\u001B[0;34m,\u001B[0m\u001B[0;36m5\u001B[0m\u001B[0;34m)\u001B[0m\u001B[0;34m,\u001B[0m\u001B[0;34m(\u001B[0m\u001B[0;36m3\u001B[0m\u001B[0;34m,\u001B[0m\u001B[0;36m4\u001B[0m\u001B[0;34m)\u001B[0m\u001B[0;34m)\u001B[0m\u001B[0;34m:\u001B[0m\u001B[0mmenor\u001B[0m\u001B[0;34m,\u001B[0m \u001B[0;34m(\u001B[0m\u001B[0;34m(\u001B[0m\u001B[0;36m0\u001B[0m\u001B[0;34m,\u001B[0m\u001B[0;36m6\u001B[0m\u001B[0;34m)\u001B[0m\u001B[0;34m,\u001B[0m\u001B[0;34m(\u001B[0m\u001B[0;36m0\u001B[0m\u001B[0;34m,\u001B[0m\u001B[0;36m5\u001B[0m\u001B[0;34m)\u001B[0m\u001B[0;34m)\u001B[0m\u001B[0;34m:\u001B[0m \u001B[0mmaior\u001B[0m\u001B[0;34m,\u001B[0m \u001B[0;34m(\u001B[0m\u001B[0;34m(\u001B[0m\u001B[0;36m0\u001B[0m\u001B[0;34m,\u001B[0m\u001B[0;36m2\u001B[0m\u001B[0;34m)\u001B[0m\u001B[0;34m,\u001B[0m\u001B[0;34m(\u001B[0m\u001B[0;36m1\u001B[0m\u001B[0;34m,\u001B[0m\u001B[0;36m2\u001B[0m\u001B[0;34m)\u001B[0m\u001B[0;34m)\u001B[0m\u001B[0;34m:\u001B[0m \u001B[0mmaior\u001B[0m\u001B[0;34m}\u001B[0m\u001B[0;34m\u001B[0m\u001B[0;34m\u001B[0m\u001B[0m\n\u001B[0m\u001B[1;32m      3\u001B[0m \u001B[0mfutoshiki7Extreme\u001B[0m \u001B[0;34m=\u001B[0m \u001B[0mfutoshiki\u001B[0m\u001B[0;34m(\u001B[0m\u001B[0;36m7\u001B[0m\u001B[0;34m,\u001B[0m \u001B[0mpreenchidos7ext\u001B[0m\u001B[0;34m,\u001B[0m \u001B[0mdesigualdades7ext\u001B[0m\u001B[0;34m)\u001B[0m\u001B[0;34m\u001B[0m\u001B[0;34m\u001B[0m\u001B[0m\n\u001B[1;32m      4\u001B[0m \u001B[0;34m\u001B[0m\u001B[0m\n\u001B[1;32m      5\u001B[0m \u001B[0;34m\u001B[0m\u001B[0m\n",
      "\u001B[0;31mNameError\u001B[0m: name 'menor' is not defined"
     ]
    }
   ],
   "source": [
    "preenchidos7ext = {(3,2) : [2], (4,0) : [4]}\n",
    "desigualdades7ext = {((1,0),(2,0)):menor, ((2,0),(3,0)):menor, ((5,0),(6,0)): maior, ((2,1),(2,0)):menor, ((5,1),(5,0)):menor, ((0,1),(1,1)):maior, ((1,1),(2,1)):maior, ((2,1),(3,1)): menor, ((4,1),(5,1)):menor, ((2,2),(2,1)): menor, ((5,2),(5,1)): maior, ((1,3),(1,2)): menor, ((2,3),(2,2)): maior, ((0,3),(1,3)):maior, ((2,3),(3,3)):menor, ((4,3),(5,3)): menor, ((0,4),(0,3)):maior,((1,4),(1,3)):menor,((6,4),(6,3)):menor, ((3,4),(4,4)):menor,((4,4),(5,4)):menor,((3,6),(3,5)):maior, ((3,5),(3,4)):menor, ((0,6),(0,5)): maior, ((0,2),(1,2)): maior}\n",
    "futoshiki7Extreme = futoshiki(7, preenchidos7ext, desigualdades7ext)\n",
    "\n",
    "\n",
    "futo7_ac3 = AC3(futoshiki7Extreme)\n",
    "start = timeit.default_timer()\n",
    "sol_futo7ext = backtracking_search(futo7_ac3, inference=forward_checking)\n",
    "end = timeit.default_timer()\n",
    "print(f\"Tempo de execução: {end-start}\")"
   ]
  },
  {
   "cell_type": "markdown",
   "metadata": {},
   "source": [
    "Futoshiki 8x8"
   ]
  },
  {
   "cell_type": "code",
   "execution_count": 4,
   "metadata": {},
   "outputs": [],
   "source": [
    "valores_iniciais8 = {(0,2) : [5], (0,4) : [8], (4,4) : [4], (0,6) : [2], (1,6) : [5], \n",
    "                     (0,7) : [7], (3,7) : [3]}\n",
    "\n",
    "desigualdades8 = {((3,0),(4,0)) : maior, ((1,1),(1,0)) : maior, ((3,1),(4,1)) : menor, \\\n",
    "                  ((4,1),(4,0)) : menor, ((5,1),(5,0)) : maior, ((6,1),(7,1)) : menor, \\\n",
    "                  ((0,2),(1,2)) : menor, ((2,2),(2,1)) : menor, ((0,3),(0,2)) : menor, \\\n",
    "                  ((0,3),(1,3)) : maior, ((2,3),(3,3)) : maior, ((3,3),(3,2)) : menor, \\\n",
    "                  ((4,3),(5,3)) : menor, ((6,3),(7,3)) : menor, ((7,3),(7,2)) : menor, \\\n",
    "                  ((3,4),(4,4)) : menor, ((0,6),(0,5)) : maior, ((1,6),(1,5)) : menor, \\\n",
    "                  ((2,6),(3,6)) : maior, ((3,6),(3,5)) : maior, ((4,6),(5,6)) : maior, \\\n",
    "                  ((5,6),(5,5)) : maior, ((6,6),(7,6)) : menor, ((7,6),(7,5)) : menor, \\\n",
    "                  ((1,7),(1,6)) : maior, ((3,7),(4,7)) : maior, ((4,7),(5,7)) : menor, \\\n",
    "                  ((6,7),(7,7)) : menor}"
   ]
  },
  {
   "cell_type": "code",
   "execution_count": 15,
   "metadata": {},
   "outputs": [
    {
     "name": "stdout",
     "output_type": "stream",
     "text": [
      "{(0, 0): 3, (0, 1): 6, (0, 2): 5, (0, 3): 4, (0, 4): 8, (0, 5): 1, (0, 6): 2, (0, 7): 7, (1, 0): 1, (1, 1): 4, (1, 2): 6, (1, 3): 2, (1, 4): 3, (1, 5): 7, (1, 6): 5, (1, 7): 8, (2, 0): 4, (2, 1): 8, (2, 2): 2, (2, 3): 6, (2, 4): 5, (2, 5): 3, (2, 6): 7, (2, 7): 1, (3, 0): 8, (3, 1): 1, (3, 2): 7, (3, 3): 5, (3, 4): 2, (3, 5): 4, (3, 6): 6, (3, 7): 3, (4, 0): 7, (4, 1): 5, (4, 2): 3, (4, 3): 1, (4, 4): 4, (4, 5): 6, (4, 6): 8, (4, 7): 2, (5, 0): 5, (5, 1): 7, (5, 2): 1, (5, 3): 8, (5, 4): 6, (5, 5): 2, (5, 6): 3, (5, 7): 4, (6, 0): 6, (6, 1): 2, (6, 2): 4, (6, 3): 3, (6, 4): 7, (6, 5): 8, (6, 6): 1, (6, 7): 5, (7, 0): 2, (7, 1): 3, (7, 2): 8, (7, 3): 7, (7, 4): 1, (7, 5): 5, (7, 6): 4, (7, 7): 6}\n",
      "Estado Inicial:\n",
      "0   0   0   0 > 0   0   0   0\n",
      "    ∧           ∨   ∧        \n",
      "0   0   0   0 < 0   0   0 < 0\n",
      "        ∨                    \n",
      "5 < 0   0   0   0   0   0   0\n",
      "∨           ∨               ∨\n",
      "0 > 0   0 > 0   0 < 0   0 < 0\n",
      "                             \n",
      "8   0   0   0 < 4   0   0   0\n",
      "                             \n",
      "0   0   0   0   0   0   0   0\n",
      "∧   ∨       ∧       ∧       ∨\n",
      "2   5   0 > 0   0 > 0   0 < 0\n",
      "    ∧                        \n",
      "7   0   0   3 > 0 < 0   0 < 0\n",
      "                             \n",
      "\n",
      "Solução:\n",
      "3   1   4   8 > 7   5   6   2\n",
      "    ∧           ∨   ∧        \n",
      "6   4   8   1 < 5   7   2 < 3\n",
      "        ∨                    \n",
      "5 < 6   2   7   3   1   4   8\n",
      "∨           ∨               ∨\n",
      "4 > 2   6 > 5   1 < 8   3 < 7\n",
      "                             \n",
      "8   3   5   2 < 4   6   7   1\n",
      "                             \n",
      "1   7   3   4   6   2   8   5\n",
      "∧   ∨       ∧       ∧       ∨\n",
      "2   5   7 > 6   8 > 3   1 < 4\n",
      "    ∧                        \n",
      "7   8   1   3 > 2 < 4   5 < 6\n",
      "                             \n",
      "\n"
     ]
    }
   ],
   "source": [
    "futo8 = futoshiki(8, valores_iniciais8, desigualdades8)\n",
    "f8_ac3 = AC3(futo8)\n",
    "start = timeit.default_timer()\n",
    "solution = backtracking_search(f8_ac3, inference=forward_checking)\n",
    "end = timeit.default_timer()\n",
    "print(solution)\n",
    "\n",
    "visualizacao_futoshiki(8, futo8, desigualdades8, solution)"
   ]
  },
  {
   "cell_type": "markdown",
   "metadata": {},
   "source": [
    "## Visualização do problema"
   ]
  },
  {
   "cell_type": "code",
   "execution_count": 12,
   "metadata": {},
   "outputs": [],
   "source": [
    "def visualizacao_futoshiki(n, problema_csp, desigualdades, solucao):\n",
    "    \n",
    "    def mapeamento_2D_para_1D(x,y):\n",
    "        return y*(n+(n-1)*3+1) + x\n",
    "\n",
    "    def escrita_numeros(x,y):\n",
    "        return mapeamento_2D_para_1D(x*4, y*2)\n",
    "    \n",
    "    def escrita_desigualdades_linha(x,y):\n",
    "        return mapeamento_2D_para_1D(x*4+2, y*2)\n",
    "    \n",
    "    def escrita_desigualdades_coluna(x,y):\n",
    "        return mapeamento_2D_para_1D(x*4, y*2-1)\n",
    "\n",
    "    def escrever_desigualdade(operacao, direcao):\n",
    "        if direcao == \"x\":\n",
    "            if operacao.__name__ == \"maior\":\n",
    "                return '>'\n",
    "            else:\n",
    "                return '<'\n",
    "        else:\n",
    "            if operacao.__name__ == \"maior\":\n",
    "                return u\"\\u2227\" # Carater ∧\n",
    "            else:\n",
    "                return u\"\\u2228\" # Carater ∨\n",
    "\n",
    "    board_inicial = ([\" \"] * (n+(n-1)*3) + [\"\\n\"]) * (n*2)\n",
    "    for var, dom in problema_csp.domains.items():\n",
    "        if len(dom) == 1:\n",
    "            board_inicial[escrita_numeros(var[0],var[1])] = str(dom[0])\n",
    "        else:\n",
    "            board_inicial[escrita_numeros(var[0],var[1])] = \"0\"\n",
    "    for var, operacao in desigualdades.items():\n",
    "        if (var[0][1] == var[1][1]):\n",
    "            board_inicial[escrita_desigualdades_linha(var[0][0],var[0][1])] = escrever_desigualdade(operacao, \"x\")\n",
    "        else:\n",
    "            board_inicial[escrita_desigualdades_coluna(var[0][0],var[0][1])] = escrever_desigualdade(operacao, \"y\")\n",
    "    \n",
    "    board_final = board_inicial.copy()\n",
    "    for var, valor in solucao.items():\n",
    "        board_final[escrita_numeros(var[0],var[1])] = str(valor)\n",
    "    \n",
    "\n",
    "    print(\"Estado Inicial:\")\n",
    "    print(''.join(board_inicial))\n",
    "    print(\"Solução:\")\n",
    "    print(''.join(board_final))"
   ]
  },
  {
   "cell_type": "markdown",
   "metadata": {},
   "source": [
    "Podemos agora visualizar o problema futoshiki 5x5"
   ]
  },
  {
   "cell_type": "code",
   "execution_count": null,
   "metadata": {},
   "outputs": [
    {
     "name": "stdout",
     "output_type": "stream",
     "text": [
      "Estado Inicial:\n",
      "0   0   0   0 > 0\n",
      "                 \n",
      "0 < 0   0   0   0\n",
      "                 \n",
      "0 < 0   0   0   0\n",
      "            ∨    \n",
      "2   0   0   0   3\n",
      "        ∧       ∧\n",
      "0   0 > 0   0   0\n",
      "                 \n",
      "\n",
      "Solução:\n",
      "5   1   4   3 > 2\n",
      "                 \n",
      "3 < 4   5   2   1\n",
      "                 \n",
      "1 < 2   3   5   4\n",
      "            ∨    \n",
      "2   5   1   4   3\n",
      "        ∧       ∧\n",
      "4   3 > 2   1   5\n",
      "                 \n",
      "\n"
     ]
    }
   ],
   "source": [
    "visualizacao_futoshiki(5, futoshiki5, desigualdades, backtracking_search(futoshiki5))"
   ]
  },
  {
   "cell_type": "markdown",
   "metadata": {},
   "source": [
    "E o problema futoshiki 7x7"
   ]
  }
 ],
 "metadata": {
  "interpreter": {
   "hash": "ca0a6ed6c3687464969dd6147ab8a98b55d02ef7a9aec76841b10aa7e05a39c3"
  },
  "kernelspec": {
   "display_name": "Python 3.9.7 ('base')",
   "language": "python",
   "name": "python3"
  },
  "language_info": {
   "codemirror_mode": {
    "name": "ipython",
    "version": 3
   },
   "file_extension": ".py",
   "mimetype": "text/x-python",
   "name": "python",
   "nbconvert_exporter": "python",
   "pygments_lexer": "ipython3",
   "version": "3.9.7"
  },
  "orig_nbformat": 4
 },
 "nbformat": 4,
 "nbformat_minor": 2
}