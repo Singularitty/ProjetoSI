{
 "cells": [
  {
   "cell_type": "markdown",
   "id": "bf9c87b1",
   "metadata": {},
   "source": [
    "# Sistemas Inteligentes 2021/2022\n",
    "\n",
    "## Mini-projeto 2: Quadrados Latinos\n"
   ]
  },
  {
   "cell_type": "markdown",
   "id": "d7b8efca",
   "metadata": {},
   "source": [
    "## Grupo: 42\n",
    "\n",
    "### Elementos do Grupo\n",
    "\n",
    "Número:  53687       Nome:   Ariana Dias  \n",
    "Número:  51127       Nome:   Luís Ferreirinha\n",
    "\n",
    "\n",
    "_o 3º colega não participou em nada_\n",
    "\n",
    "(Nota: Neste relatório pode adicionar as células de texto e código que achar necessárias.)"
   ]
  },
  {
   "cell_type": "markdown",
   "id": "df10acb0",
   "metadata": {},
   "source": [
    "## Representação de variáveis, domínios, vizinhos e restrições\n",
    "\n",
    "O problema dos quadrados latinos pode ser representado como uma matriz $n \\times n$ em que cada linha e coluna contêm exatmente um número de $1$ a $n$.  \n",
    "\n",
    "Então para caracterizar este CSP em python obtamos pelas seguintes escolhas:  \n",
    "\n",
    "- Variáveis:  \n",
    "  \n",
    "    Cada variável no nosso problema vai representar o valor atribuiado a um elemento da matriz.  \n",
    "    Então em python representamos o conjunto das variáveis como uma lista das coordenadas de cada\n",
    "    elemento na matriz:    \n",
    "    -  var $=[(i_1,j_1),...,(i_n,j_n)]$  \n",
    "<br>\n",
    "- Domínios:  \n",
    "  \n",
    "    Neste problema cada variável pode tomar um valor de $1,...,n$, exceto de houver condições iniciais.\n",
    "    Portanto em python decidimos utilizar um dicionário, onde as chaves são as variáveis e estas correspondem a uma lista de inteiros contento os valores possíveis para aquela variável:\n",
    "    \n",
    "    - dominio $=\\{(i_1,j_1) = [1,..,n], ...\\}$  \n",
    "<br> \n",
    "- Vizinhos:  \n",
    "\n",
    "    Uma variável vai ser vizinha de outra de estiver na mesma linha ou coluna que essa variável.\n",
    "    Em python definimos os vizinhos como um dicionário onde cada variável é uma chave e corresponde a uma lista de variáveis que são suas vizinhas:  \n",
    "    \n",
    "    - vizinhos $=\\{(i_k,i_m) : [(i_1,j_m),...,(i_n,j_m),(i_k,j_1),...,(i_k,j_n)], \\, ...  \\, \\}$  \n",
    "<br>\n",
    "- Restrições:  \n",
    "\n",
    "    A restrição principal deste problema é a impossibilidade de haver repetições de um número\n",
    "    ao longo de uma coluna ou linha, ou seja tem de ser diferente de todos os seus vizinhos.\n",
    "    Em python esta restrição é representada pela comparação dos valores de duas variáveis vizinhas:  \n",
    "\n",
    "    -  ```python\n",
    "       valor_variavel_1 != valor_variavel_2\n",
    "       ```\n",
    "    <br>\n",
    "    Como também temos a variação do Futoshiki, temos de definir outras restrições para esse problema.  \n",
    "\n",
    "    A ideia principal é que duas variáveis adjacentes podem agora ter a restrição adicional de o valor de uma ser maior ou menor que o valor da outra. Então para representar o mapeamento destas novas restrições usamos um dicionário onde as chaves são um tuplos contendos as duas variáveis em questão e vão corresponde a uma função que verifica se os valores destas são menores ou maiores conforme a restrição.\n",
    "\n",
    "    - desigualdades $=\\{((i_k,j_m),(i_k,j_{m+1})) : maior\\, \\, \\text{ou} \\, \\, menor \\}$  \n",
    "\n",
    "    Cada uma destas funções vair comparar os valores das variavéis conforme o seu nome.  \n",
    "\n",
    "    - ```python \n",
    "      def maior(a,b): return a > b\n",
    "      ```\n",
    "\n",
    "    - ```python \n",
    "      def menor(a,b): return a < b\n",
    "      ```\n",
    "\n",
    "\n",
    " "
   ]
  },
  {
   "cell_type": "markdown",
   "id": "4ab69211",
   "metadata": {},
   "source": [
    "## Formulação do problema"
   ]
  },
  {
   "cell_type": "code",
   "execution_count": 1,
   "metadata": {
    "collapsed": false,
    "pycharm": {
     "name": "#%%\n"
    }
   },
   "outputs": [],
   "source": [
    "from csp import *\n",
    "\n",
    "# Funcoes restricao\n",
    "def maior(x,y):\n",
    "    return x > y\n",
    "\n",
    "def menor(x,y):\n",
    "    return x < y\n",
    "\n",
    "def quadrado_latino(n=3, initial={}, desigualdades={}) -> CSP:\n",
    "    \"\"\"Gera um CSP para o problema do futoshiki\n",
    "\n",
    "    Args:\n",
    "        n (int, optional): Dimensao da matriz do problema. Defaults to 3.\n",
    "        initial (dict, optional): Valores iniciais para cada um dos elementos da matriz. Defaults to {}.\n",
    "        desigualdades (dict, optional): Restrições adicionais do problema futoshiki. Defaults to {}.\n",
    "\n",
    "    Returns:\n",
    "        CSP: Objeto CSP para o problema do futoshiki\n",
    "    \"\"\"    \n",
    "    \n",
    "    # definicao das variaveis, as coordenadas x,y vão de 0 a n-1\n",
    "    variaveis = [(i,j) for i in range(0,n) for j in range(0,n)]\n",
    "\n",
    "    # Valores possiveis para as variaveis dada a dimensao n do problema\n",
    "    conjunto = [i for i in range(1,n+1)]\n",
    "    \n",
    "    # Iniciamos os dominios com os valores iniciais dados para as variaveis\n",
    "    dominios = initial\n",
    "\n",
    "    # Diferenca dos dois conjuntos vai resultar nas variaveis nao preenchidas\n",
    "    for item in set(variaveis - initial.keys()):\n",
    "        dominios[item] = conjunto\n",
    "    \n",
    "    # Condicao que determina de duas variaveis sao vizinhas, verifica se tem alguma das coordendas x ou y iguais\n",
    "    condicao_vizinhanca = lambda x,y : (x[0] == y[0] and x[1] != y[1]) or (x[0] != y[0] and x[1] == y[1])\n",
    "\n",
    "    # Para cada variavel vamos atribuir uma lista resultante de filtrar a lista de todas as variaveis\n",
    "    # com a condicao de que as variaveis sejam vizinhas da variavel chave\n",
    "    vizinhos = {var : list(filter(lambda x: condicao_vizinhanca(x,var), variaveis)) for var in variaveis}\n",
    "\n",
    "    # Restricoes do futoshiki, para o utilizador nao ter de escrever as restricoes de desigualdade nas duas direcoes\n",
    "    # Vamos criar um dicionario com essas restricoes de forma bi-direcional\n",
    "    restricoes_desigualdades = desigualdades.copy()\n",
    "    for var, restricao in desigualdades.items():\n",
    "        if restricao.__name__ == \"maior\":\n",
    "            restricoes_desigualdades[(var[1],var[0])] = menor\n",
    "        else:\n",
    "            restricoes_desigualdades[(var[1],var[0])] = maior\n",
    "\n",
    "    def restricoes(X, a, Y, b):\n",
    "        # Restricoes futoshiki\n",
    "        # Vamos verificar se a var X tem alguma condição de desigualdade com outra var Y\n",
    "        if (X,Y) in restricoes_desigualdades.keys():\n",
    "            if not restricoes_desigualdades[(X,Y)](a,b):\n",
    "                return False\n",
    "        # Restricao normal quadrado latino\n",
    "        # Verifica se sao vizinhos\n",
    "        if Y in vizinhos[X]:\n",
    "            return  a != b\n",
    "        return True\n",
    "\n",
    "    return CSP(variaveis, dominios, vizinhos, restricoes)"
   ]
  },
  {
   "cell_type": "markdown",
   "id": "f46b1688",
   "metadata": {},
   "source": [
    "## Criação do problema do quadrado latino simples\n",
    "\n",
    "Mostrem que o código está a funcionar, construindo um problema de quadrado latino *4x4*, imprimindo as variáveis, domínios iniciais, e vizinhos. Adicione os comentários necessários. Mostre como podemos criar um puzzle com quadrados já preenchidos, e qual o impacto que isso tem nas variáveis, domínios iniciais, e vizinhos."
   ]
  },
  {
   "cell_type": "markdown",
   "metadata": {},
   "source": [
    "Para criar um problema quadrado latino 4x4 sem valores iniciais para as variáveis basta executar"
   ]
  },
  {
   "cell_type": "code",
   "execution_count": 2,
   "metadata": {},
   "outputs": [],
   "source": [
    "q4 = quadrado_latino(4)"
   ]
  },
  {
   "cell_type": "markdown",
   "metadata": {},
   "source": [
    "Tendo o problema definido, podemos agora ver as variáveis, domínios e os vizinhos deste problema"
   ]
  },
  {
   "cell_type": "code",
   "execution_count": 3,
   "id": "0b95b771",
   "metadata": {
    "pycharm": {
     "name": "#%%\n"
    }
   },
   "outputs": [
    {
     "name": "stdout",
     "output_type": "stream",
     "text": [
      "Variáveis = [(0, 0), (0, 1), (0, 2), (0, 3), (1, 0), (1, 1), (1, 2), (1, 3), (2, 0), (2, 1), (2, 2), (2, 3), (3, 0), (3, 1), (3, 2), (3, 3)]\n",
      "\n",
      "Domínios = {(0, 1): [1, 2, 3, 4], (1, 2): [1, 2, 3, 4], (2, 1): [1, 2, 3, 4], (3, 1): [1, 2, 3, 4], (0, 2): [1, 2, 3, 4], (2, 2): [1, 2, 3, 4], (1, 0): [1, 2, 3, 4], (3, 2): [1, 2, 3, 4], (1, 3): [1, 2, 3, 4], (0, 0): [1, 2, 3, 4], (1, 1): [1, 2, 3, 4], (0, 3): [1, 2, 3, 4], (2, 0): [1, 2, 3, 4], (3, 0): [1, 2, 3, 4], (2, 3): [1, 2, 3, 4], (3, 3): [1, 2, 3, 4]}\n",
      "\n",
      "Vizinhos = {(0, 0): [(0, 1), (0, 2), (0, 3), (1, 0), (2, 0), (3, 0)], (0, 1): [(0, 0), (0, 2), (0, 3), (1, 1), (2, 1), (3, 1)], (0, 2): [(0, 0), (0, 1), (0, 3), (1, 2), (2, 2), (3, 2)], (0, 3): [(0, 0), (0, 1), (0, 2), (1, 3), (2, 3), (3, 3)], (1, 0): [(0, 0), (1, 1), (1, 2), (1, 3), (2, 0), (3, 0)], (1, 1): [(0, 1), (1, 0), (1, 2), (1, 3), (2, 1), (3, 1)], (1, 2): [(0, 2), (1, 0), (1, 1), (1, 3), (2, 2), (3, 2)], (1, 3): [(0, 3), (1, 0), (1, 1), (1, 2), (2, 3), (3, 3)], (2, 0): [(0, 0), (1, 0), (2, 1), (2, 2), (2, 3), (3, 0)], (2, 1): [(0, 1), (1, 1), (2, 0), (2, 2), (2, 3), (3, 1)], (2, 2): [(0, 2), (1, 2), (2, 0), (2, 1), (2, 3), (3, 2)], (2, 3): [(0, 3), (1, 3), (2, 0), (2, 1), (2, 2), (3, 3)], (3, 0): [(0, 0), (1, 0), (2, 0), (3, 1), (3, 2), (3, 3)], (3, 1): [(0, 1), (1, 1), (2, 1), (3, 0), (3, 2), (3, 3)], (3, 2): [(0, 2), (1, 2), (2, 2), (3, 0), (3, 1), (3, 3)], (3, 3): [(0, 3), (1, 3), (2, 3), (3, 0), (3, 1), (3, 2)]}\n",
      "\n"
     ]
    }
   ],
   "source": [
    "print(f\"Variáveis = {q4.variables}\\n\")\n",
    "print(f\"Domínios = {q4.domains}\\n\")\n",
    "print(f\"Vizinhos = {q4.neighbors}\\n\")"
   ]
  },
  {
   "cell_type": "markdown",
   "metadata": {},
   "source": [
    "Para criar-mos um problema com um quadrado semi-preenchido temos primeiro de definir quais os elementos da matriz que vão estar preenchidos e qual o seu valor. Para fazer-mos isso podemos definir um dicionário com essa informação da seguinte forma:"
   ]
  },
  {
   "cell_type": "code",
   "execution_count": 4,
   "metadata": {},
   "outputs": [],
   "source": [
    "valores_preenchidos = {(0,0) : [1], (1,1) : [3], (2,2) : [2]}"
   ]
  },
  {
   "cell_type": "markdown",
   "metadata": {},
   "source": [
    "Depois basta passar esse dicionário como segundo argumento à função quadrado_latino"
   ]
  },
  {
   "cell_type": "code",
   "execution_count": 5,
   "metadata": {},
   "outputs": [],
   "source": [
    "q4_semi = quadrado_latino(n=4, initial=valores_preenchidos)"
   ]
  },
  {
   "cell_type": "markdown",
   "metadata": {
    "collapsed": false,
    "pycharm": {
     "name": "#%% md\n"
    }
   },
   "source": [
    "O facto de o quadrado ser semi preenchido apenas vai afetar os domínios iniciais, fazendo com que o dominio inicial das variáveis já com valores atribuidos seja reduzido esses valores."
   ]
  },
  {
   "cell_type": "code",
   "execution_count": 6,
   "metadata": {
    "collapsed": false,
    "pycharm": {
     "name": "#%%\n"
    }
   },
   "outputs": [
    {
     "name": "stdout",
     "output_type": "stream",
     "text": [
      "Variáveis = [(0, 0), (0, 1), (0, 2), (0, 3), (1, 0), (1, 1), (1, 2), (1, 3), (2, 0), (2, 1), (2, 2), (2, 3), (3, 0), (3, 1), (3, 2), (3, 3)]\n",
      "\n",
      "Domínios = {(0, 0): [1], (1, 1): [3], (2, 2): [2], (0, 1): [1, 2, 3, 4], (1, 2): [1, 2, 3, 4], (2, 1): [1, 2, 3, 4], (3, 1): [1, 2, 3, 4], (0, 3): [1, 2, 3, 4], (2, 0): [1, 2, 3, 4], (3, 0): [1, 2, 3, 4], (2, 3): [1, 2, 3, 4], (0, 2): [1, 2, 3, 4], (3, 3): [1, 2, 3, 4], (1, 0): [1, 2, 3, 4], (3, 2): [1, 2, 3, 4], (1, 3): [1, 2, 3, 4]}\n",
      "\n",
      "Vizinhos = {(0, 0): [(0, 1), (0, 2), (0, 3), (1, 0), (2, 0), (3, 0)], (0, 1): [(0, 0), (0, 2), (0, 3), (1, 1), (2, 1), (3, 1)], (0, 2): [(0, 0), (0, 1), (0, 3), (1, 2), (2, 2), (3, 2)], (0, 3): [(0, 0), (0, 1), (0, 2), (1, 3), (2, 3), (3, 3)], (1, 0): [(0, 0), (1, 1), (1, 2), (1, 3), (2, 0), (3, 0)], (1, 1): [(0, 1), (1, 0), (1, 2), (1, 3), (2, 1), (3, 1)], (1, 2): [(0, 2), (1, 0), (1, 1), (1, 3), (2, 2), (3, 2)], (1, 3): [(0, 3), (1, 0), (1, 1), (1, 2), (2, 3), (3, 3)], (2, 0): [(0, 0), (1, 0), (2, 1), (2, 2), (2, 3), (3, 0)], (2, 1): [(0, 1), (1, 1), (2, 0), (2, 2), (2, 3), (3, 1)], (2, 2): [(0, 2), (1, 2), (2, 0), (2, 1), (2, 3), (3, 2)], (2, 3): [(0, 3), (1, 3), (2, 0), (2, 1), (2, 2), (3, 3)], (3, 0): [(0, 0), (1, 0), (2, 0), (3, 1), (3, 2), (3, 3)], (3, 1): [(0, 1), (1, 1), (2, 1), (3, 0), (3, 2), (3, 3)], (3, 2): [(0, 2), (1, 2), (2, 2), (3, 0), (3, 1), (3, 3)], (3, 3): [(0, 3), (1, 3), (2, 3), (3, 0), (3, 1), (3, 2)]}\n",
      "\n"
     ]
    }
   ],
   "source": [
    "print(f\"Variáveis = {q4_semi.variables}\\n\")\n",
    "print(f\"Domínios = {q4_semi.domains}\\n\")\n",
    "print(f\"Vizinhos = {q4_semi.neighbors}\\n\")"
   ]
  },
  {
   "cell_type": "markdown",
   "metadata": {},
   "source": [
    "E podemos resolver utilizando a função backtracking_seach da biblioteca CSP"
   ]
  },
  {
   "cell_type": "code",
   "execution_count": 7,
   "metadata": {},
   "outputs": [],
   "source": [
    "sol_q4_semi = backtracking_search(q4_semi)"
   ]
  },
  {
   "cell_type": "markdown",
   "metadata": {},
   "source": [
    "E como a função devolve um dicionário com os valores solução afetados às variáveis podemos imprimir este"
   ]
  },
  {
   "cell_type": "code",
   "execution_count": 8,
   "metadata": {},
   "outputs": [
    {
     "name": "stdout",
     "output_type": "stream",
     "text": [
      "{(0, 0): 1, (0, 1): 2, (0, 2): 3, (0, 3): 4, (1, 0): 2, (1, 1): 3, (1, 2): 4, (1, 3): 1, (2, 0): 4, (2, 1): 1, (2, 2): 2, (2, 3): 3, (3, 0): 3, (3, 1): 4, (3, 2): 1, (3, 3): 2}\n"
     ]
    }
   ],
   "source": [
    "print(sol_q4_semi)"
   ]
  },
  {
   "cell_type": "markdown",
   "metadata": {},
   "source": [
    "Resolva o problema com o backtracking sem inferencia, com inferencia, e com uma heurística."
   ]
  },
  {
   "cell_type": "markdown",
   "metadata": {},
   "source": [
    "Vamos agora resolver um problema de maior dimensão pois temos como objetivo comparar os tempos de procura quando são aplicados diferentes algoritmos durante a procura (ou antes caso do pré processamento AC3).  \n",
    "Para isso vamos definir uma função wrapper que vai calcular o tempo de execução da pesquisa."
   ]
  },
  {
   "cell_type": "code",
   "execution_count": 9,
   "metadata": {},
   "outputs": [],
   "source": [
    "import timeit\n",
    "\n",
    "def search_time(func, *args, **kwargs):\n",
    "    \"\"\"Calcula o tempo de execução de uma função e devolve\n",
    "    o seu output e este tempo\n",
    "\n",
    "    Args:\n",
    "        func: função a ser cronometrada\n",
    "    \"\"\"\n",
    "    start = timeit.default_timer()\n",
    "    sol = func(*args, **kwargs)\n",
    "    stop = timeit.default_timer()\n",
    "    return sol, (stop-start)\n",
    "\n",
    "# Guardar os dados e solucoes para analisar mais tarde\n",
    "tempos = {}\n",
    "solucoes = {}"
   ]
  },
  {
   "cell_type": "markdown",
   "metadata": {},
   "source": [
    "- Definição do problema"
   ]
  },
  {
   "cell_type": "code",
   "execution_count": 10,
   "metadata": {},
   "outputs": [],
   "source": [
    "def board_to_dict(board) -> dict:\n",
    "    \"\"\"Coverte uma matriz quadrada de inteiros para um dicionario\n",
    "    contendo as posicoes dos inteiros nao nulos\n",
    "    \"\"\"\n",
    "    n = len(board)\n",
    "    iniciais = {}\n",
    "    for j in range(n):\n",
    "        for i in range(n):\n",
    "            x = board[j][i]\n",
    "            if x != 0:\n",
    "                iniciais[(i,j)] = [x]\n",
    "    return iniciais"
   ]
  },
  {
   "cell_type": "code",
   "execution_count": 11,
   "metadata": {},
   "outputs": [],
   "source": [
    "n = 7\n",
    "\n",
    "board = [[6,0,0,0,0,0,0],\n",
    "         [0,6,0,1,0,0,3],\n",
    "         [2,0,7,0,0,0,0],\n",
    "         [4,0,0,2,0,0,1],\n",
    "         [0,3,1,5,6,0,0],\n",
    "         [1,0,0,7,0,2,4],\n",
    "         [0,0,0,0,0,0,7]]\n",
    "\n",
    "\n",
    "p_quadrado_latino = quadrado_latino(n, initial=board_to_dict(board))"
   ]
  },
  {
   "cell_type": "markdown",
   "metadata": {},
   "source": [
    "- Backtracking sem inferência"
   ]
  },
  {
   "cell_type": "code",
   "execution_count": 12,
   "metadata": {
    "collapsed": false,
    "pycharm": {
     "name": "#%%\n"
    }
   },
   "outputs": [
    {
     "name": "stdout",
     "output_type": "stream",
     "text": [
      "Tempo médio de execução: 17.008735 s\n",
      "Assignment (SemInferência) =  {(0, 0): 6, (0, 1): 5, (0, 2): 2, (0, 3): 4, (0, 4): 7, (0, 5): 1, (0, 6): 3, (1, 0): 1, (1, 1): 6, (1, 2): 4, (1, 3): 7, (1, 4): 3, (1, 5): 5, (1, 6): 2, (2, 0): 2, (2, 1): 4, (2, 2): 7, (2, 3): 3, (2, 4): 1, (2, 5): 6, (2, 6): 5, (3, 0): 4, (3, 1): 1, (3, 2): 3, (3, 3): 2, (3, 4): 5, (3, 5): 7, (3, 6): 6, (4, 0): 7, (4, 1): 2, (4, 2): 1, (4, 3): 5, (4, 4): 6, (4, 5): 3, (4, 6): 4, (5, 0): 3, (5, 1): 7, (5, 2): 5, (5, 3): 6, (5, 4): 4, (5, 5): 2, (5, 6): 1, (6, 0): 5, (6, 1): 3, (6, 2): 6, (6, 3): 1, (6, 4): 2, (6, 5): 4, (6, 6): 7}\n"
     ]
    }
   ],
   "source": [
    "# Guardar solucao\n",
    "sol1, tempo1 = search_time(backtracking_search, p_quadrado_latino)\n",
    "# Guardar resultados\n",
    "tempos['SemInferência'] = tempo1\n",
    "solucoes['SemInferência'] = sol1\n",
    "# Imprimir resultados\n",
    "print(f\"Tempo médio de execução: {tempo1:.6f} s\")\n",
    "print('Assignment (SemInferência) = ',sol1)"
   ]
  },
  {
   "cell_type": "markdown",
   "metadata": {},
   "source": [
    "- Backtracking com inferência Foward-Checking"
   ]
  },
  {
   "cell_type": "code",
   "execution_count": 13,
   "metadata": {
    "collapsed": false,
    "pycharm": {
     "name": "#%%\n"
    }
   },
   "outputs": [
    {
     "name": "stdout",
     "output_type": "stream",
     "text": [
      "Tempo médio de execução: 0.002879 s\n",
      "Assignment (FRWDchecking) =  {(0, 0): 6, (0, 1): 5, (0, 2): 2, (0, 3): 4, (0, 4): 7, (0, 5): 1, (0, 6): 3, (1, 0): 1, (1, 1): 6, (1, 2): 4, (1, 3): 7, (1, 4): 3, (1, 5): 5, (1, 6): 2, (2, 0): 2, (2, 1): 4, (2, 2): 7, (2, 3): 3, (2, 4): 1, (2, 5): 6, (2, 6): 5, (3, 0): 4, (3, 1): 1, (3, 2): 3, (3, 3): 2, (3, 4): 5, (3, 5): 7, (3, 6): 6, (4, 0): 7, (4, 1): 2, (4, 2): 1, (4, 3): 5, (4, 4): 6, (4, 5): 3, (4, 6): 4, (5, 0): 3, (5, 1): 7, (5, 2): 5, (5, 3): 6, (5, 4): 4, (5, 5): 2, (5, 6): 1, (6, 0): 5, (6, 1): 3, (6, 2): 6, (6, 3): 1, (6, 4): 2, (6, 5): 4, (6, 6): 7}\n"
     ]
    }
   ],
   "source": [
    "# Resolver e guardar solucao\n",
    "sol2, tempo2 = search_time(backtracking_search, p_quadrado_latino, inference=forward_checking)\n",
    "# Guardar resultados\n",
    "tempos['FRWDchecking'] = tempo2\n",
    "solucoes['FRWDchecking'] = sol2\n",
    "# Imprimir resultados\n",
    "print(f\"Tempo médio de execução: {tempo2:.6f} s\")\n",
    "print('Assignment (FRWDchecking) = ',sol2)"
   ]
  },
  {
   "cell_type": "markdown",
   "metadata": {},
   "source": [
    "- Backtracking com inferência MAC"
   ]
  },
  {
   "cell_type": "code",
   "execution_count": 14,
   "metadata": {
    "collapsed": false,
    "pycharm": {
     "name": "#%%\n"
    }
   },
   "outputs": [
    {
     "name": "stdout",
     "output_type": "stream",
     "text": [
      "Tempo médio de execução: 0.001931  s\n",
      "Assignment (MAC) =  {(0, 0): 6, (0, 1): 5, (0, 2): 2, (0, 3): 4, (0, 4): 7, (0, 5): 1, (0, 6): 3, (1, 0): 1, (1, 1): 6, (1, 2): 4, (1, 3): 7, (1, 4): 3, (1, 5): 5, (1, 6): 2, (2, 0): 2, (2, 1): 4, (2, 2): 7, (2, 3): 3, (2, 4): 1, (2, 5): 6, (2, 6): 5, (3, 0): 4, (3, 1): 1, (3, 2): 3, (3, 3): 2, (3, 4): 5, (3, 5): 7, (3, 6): 6, (4, 0): 7, (4, 1): 2, (4, 2): 1, (4, 3): 5, (4, 4): 6, (4, 5): 3, (4, 6): 4, (5, 0): 3, (5, 1): 7, (5, 2): 5, (5, 3): 6, (5, 4): 4, (5, 5): 2, (5, 6): 1, (6, 0): 5, (6, 1): 3, (6, 2): 6, (6, 3): 1, (6, 4): 2, (6, 5): 4, (6, 6): 7}\n"
     ]
    }
   ],
   "source": [
    "# Resolver e guardar solucao\n",
    "sol3, tempo3 = search_time(backtracking_search, p_quadrado_latino, inference=mac)\n",
    "# Guarda resultados\n",
    "tempos['MAC'] = tempo3\n",
    "solucoes['MAC'] = sol3\n",
    "# Imprimir resultados\n",
    "print(f\"Tempo médio de execução: {tempo3:.6f}  s\")\n",
    "print('Assignment (MAC) = ', sol3)"
   ]
  },
  {
   "cell_type": "markdown",
   "metadata": {},
   "source": [
    "- Backtracking com pré-processamento AC3"
   ]
  },
  {
   "cell_type": "code",
   "execution_count": 15,
   "metadata": {
    "collapsed": false,
    "pycharm": {
     "name": "#%%\n"
    }
   },
   "outputs": [
    {
     "name": "stdout",
     "output_type": "stream",
     "text": [
      "Tempo médio de execução: 0.001106  s\n",
      "Assignment (QuadradoLatinoComAC3) =  {(0, 0): 6, (0, 1): 5, (0, 2): 2, (0, 3): 4, (0, 4): 7, (0, 5): 1, (0, 6): 3, (1, 0): 1, (1, 1): 6, (1, 2): 4, (1, 3): 7, (1, 4): 3, (1, 5): 5, (1, 6): 2, (2, 0): 2, (2, 1): 4, (2, 2): 7, (2, 3): 3, (2, 4): 1, (2, 5): 6, (2, 6): 5, (3, 0): 4, (3, 1): 1, (3, 2): 3, (3, 3): 2, (3, 4): 5, (3, 5): 7, (3, 6): 6, (4, 0): 7, (4, 1): 2, (4, 2): 1, (4, 3): 5, (4, 4): 6, (4, 5): 3, (4, 6): 4, (5, 0): 3, (5, 1): 7, (5, 2): 5, (5, 3): 6, (5, 4): 4, (5, 5): 2, (5, 6): 1, (6, 0): 5, (6, 1): 3, (6, 2): 6, (6, 3): 1, (6, 4): 2, (6, 5): 4, (6, 6): 7}\n"
     ]
    }
   ],
   "source": [
    "# Aplicar pre-processamento\n",
    "p_quadrado_AC3 = AC3(p_quadrado_latino)\n",
    "# Resolver e guardar solucao\n",
    "sol4, tempo4 = search_time(backtracking_search, p_quadrado_AC3)\n",
    "# Guarda resultados\n",
    "tempos['AC3'] = tempo4\n",
    "solucoes['AC3'] = sol4\n",
    "# Imprimir resultados\n",
    "print(f\"Tempo médio de execução: {tempo4:.6f}  s\")\n",
    "print('Assignment (QuadradoLatinoComAC3) = ', sol4)"
   ]
  },
  {
   "cell_type": "markdown",
   "metadata": {},
   "source": [
    "- Backtracking com Heurística MRV"
   ]
  },
  {
   "cell_type": "code",
   "execution_count": 16,
   "metadata": {
    "collapsed": false,
    "pycharm": {
     "name": "#%%\n"
    }
   },
   "outputs": [
    {
     "name": "stdout",
     "output_type": "stream",
     "text": [
      "Tempo médio de execução: 0.003627 s\n",
      "Assignment (QuadradoLatinoComHeuristica) =  {(0, 6): 3, (1, 5): 5, (3, 0): 4, (1, 3): 7, (0, 4): 7, (2, 5): 6, (5, 2): 5, (4, 5): 3, (5, 0): 3, (0, 1): 5, (2, 2): 7, (4, 1): 2, (3, 4): 5, (3, 3): 2, (1, 2): 4, (3, 5): 7, (2, 6): 5, (4, 3): 5, (1, 1): 6, (5, 6): 1, (6, 6): 7, (2, 1): 4, (6, 0): 5, (2, 4): 1, (3, 6): 6, (0, 2): 2, (6, 5): 4, (2, 3): 3, (1, 6): 2, (6, 4): 2, (2, 0): 2, (4, 4): 6, (3, 2): 3, (1, 0): 1, (0, 5): 1, (6, 1): 3, (5, 4): 4, (4, 6): 4, (4, 0): 7, (1, 4): 3, (4, 2): 1, (0, 0): 6, (5, 1): 7, (3, 1): 1, (0, 3): 4, (5, 5): 2, (5, 3): 6, (6, 3): 1, (6, 2): 6}\n"
     ]
    }
   ],
   "source": [
    "# Resolver e guardar\n",
    "sol5, tempo5 = search_time(backtracking_search, p_quadrado_latino, select_unassigned_variable = mrv)\n",
    "# Guarda resultados\n",
    "tempos['MRV'] = tempo5\n",
    "solucoes['MRV'] = sol5\n",
    "# Imprimir resultados\n",
    "print(f\"Tempo médio de execução: {tempo5:.6f} s\")\n",
    "print('Assignment (QuadradoLatinoComHeuristica) = ', sol5)"
   ]
  },
  {
   "cell_type": "markdown",
   "metadata": {},
   "source": [
    "- Backtracking com Heurística MRV, Inferência foward_checking e pré-processamento AC3"
   ]
  },
  {
   "cell_type": "code",
   "execution_count": 17,
   "metadata": {},
   "outputs": [
    {
     "name": "stdout",
     "output_type": "stream",
     "text": [
      "Tempo médio de execução: 0.002556 s\n",
      "Assignment (QuadradoLatinoHeuristicaInferenciaAC3) =  {(2, 5): 6, (4, 2): 1, (1, 5): 5, (2, 4): 1, (3, 0): 4, (2, 1): 4, (4, 3): 5, (1, 2): 4, (5, 3): 6, (1, 4): 3, (3, 4): 5, (5, 5): 2, (6, 0): 5, (5, 0): 3, (0, 2): 2, (0, 5): 1, (6, 5): 4, (6, 4): 2, (3, 3): 2, (3, 1): 1, (0, 1): 5, (1, 1): 6, (5, 6): 1, (0, 4): 7, (5, 4): 4, (4, 0): 7, (0, 3): 4, (4, 5): 3, (6, 1): 3, (6, 3): 1, (3, 5): 7, (6, 6): 7, (1, 6): 2, (3, 2): 3, (6, 2): 6, (1, 3): 7, (0, 0): 6, (1, 0): 1, (2, 0): 2, (2, 3): 3, (5, 1): 7, (4, 4): 6, (2, 2): 7, (4, 6): 4, (0, 6): 3, (4, 1): 2, (2, 6): 5, (3, 6): 6, (5, 2): 5}\n"
     ]
    }
   ],
   "source": [
    "# Pre processamento\n",
    "p_quadrado_AC3 = AC3(p_quadrado_latino)\n",
    "# Resolver e guardar\n",
    "sol6, tempo6 = search_time(backtracking_search, p_quadrado_AC3, select_unassigned_variable=mrv, inference=forward_checking)\n",
    "# Guarda resultados\n",
    "tempos['AC3_MVR_MAC'] = tempo6\n",
    "solucoes['AC3_MVR_MAC'] = sol6\n",
    "# Imprimir resultados\n",
    "print(f\"Tempo médio de execução: {tempo6:.6f} s\")\n",
    "print('Assignment (QuadradoLatinoHeuristicaInferenciaAC3) = ', sol6)"
   ]
  },
  {
   "cell_type": "markdown",
   "metadata": {},
   "source": [
    "#### Análise dos tempos de execução"
   ]
  },
  {
   "cell_type": "code",
   "execution_count": 18,
   "metadata": {
    "collapsed": false,
    "pycharm": {
     "name": "#%%\n"
    }
   },
   "outputs": [
    {
     "data": {
      "text/plain": "               Tempos (s)\nAC3              0.001106\nMAC              0.001931\nAC3_MVR_MAC      0.002556\nFRWDchecking     0.002879\nMRV              0.003627\nSemInferência   17.008735",
      "text/html": "<div>\n<style scoped>\n    .dataframe tbody tr th:only-of-type {\n        vertical-align: middle;\n    }\n\n    .dataframe tbody tr th {\n        vertical-align: top;\n    }\n\n    .dataframe thead th {\n        text-align: right;\n    }\n</style>\n<table border=\"1\" class=\"dataframe\">\n  <thead>\n    <tr style=\"text-align: right;\">\n      <th></th>\n      <th>Tempos (s)</th>\n    </tr>\n  </thead>\n  <tbody>\n    <tr>\n      <th>AC3</th>\n      <td>0.001106</td>\n    </tr>\n    <tr>\n      <th>MAC</th>\n      <td>0.001931</td>\n    </tr>\n    <tr>\n      <th>AC3_MVR_MAC</th>\n      <td>0.002556</td>\n    </tr>\n    <tr>\n      <th>FRWDchecking</th>\n      <td>0.002879</td>\n    </tr>\n    <tr>\n      <th>MRV</th>\n      <td>0.003627</td>\n    </tr>\n    <tr>\n      <th>SemInferência</th>\n      <td>17.008735</td>\n    </tr>\n  </tbody>\n</table>\n</div>"
     },
     "execution_count": 18,
     "metadata": {},
     "output_type": "execute_result"
    }
   ],
   "source": [
    "import pandas as pd\n",
    "temposSorted = dict(sorted(tempos.items(), key=lambda x:x[1]))\n",
    "pd.DataFrame(temposSorted.values() ,index = temposSorted.keys(), columns= [\"Tempos (s)\"])"
   ]
  },
  {
   "cell_type": "code",
   "execution_count": 26,
   "outputs": [
    {
     "data": {
      "text/plain": "               0                    1        ...  5        6                  \n               0  1  2  3  4  5  6  0  1  2  ...  4  5  6  0  1  2  3  4  5  6\nSemInferência  6  5  2  4  7  1  3  1  6  4  ...  4  2  1  5  3  6  1  2  4  7\n\n[1 rows x 49 columns]",
      "text/html": "<div>\n<style scoped>\n    .dataframe tbody tr th:only-of-type {\n        vertical-align: middle;\n    }\n\n    .dataframe tbody tr th {\n        vertical-align: top;\n    }\n\n    .dataframe thead tr th {\n        text-align: left;\n    }\n</style>\n<table border=\"1\" class=\"dataframe\">\n  <thead>\n    <tr>\n      <th></th>\n      <th colspan=\"7\" halign=\"left\">0</th>\n      <th colspan=\"3\" halign=\"left\">1</th>\n      <th>...</th>\n      <th colspan=\"3\" halign=\"left\">5</th>\n      <th colspan=\"7\" halign=\"left\">6</th>\n    </tr>\n    <tr>\n      <th></th>\n      <th>0</th>\n      <th>1</th>\n      <th>2</th>\n      <th>3</th>\n      <th>4</th>\n      <th>5</th>\n      <th>6</th>\n      <th>0</th>\n      <th>1</th>\n      <th>2</th>\n      <th>...</th>\n      <th>4</th>\n      <th>5</th>\n      <th>6</th>\n      <th>0</th>\n      <th>1</th>\n      <th>2</th>\n      <th>3</th>\n      <th>4</th>\n      <th>5</th>\n      <th>6</th>\n    </tr>\n  </thead>\n  <tbody>\n    <tr>\n      <th>SemInferência</th>\n      <td>6</td>\n      <td>5</td>\n      <td>2</td>\n      <td>4</td>\n      <td>7</td>\n      <td>1</td>\n      <td>3</td>\n      <td>1</td>\n      <td>6</td>\n      <td>4</td>\n      <td>...</td>\n      <td>4</td>\n      <td>2</td>\n      <td>1</td>\n      <td>5</td>\n      <td>3</td>\n      <td>6</td>\n      <td>1</td>\n      <td>2</td>\n      <td>4</td>\n      <td>7</td>\n    </tr>\n  </tbody>\n</table>\n<p>1 rows × 49 columns</p>\n</div>"
     },
     "execution_count": 26,
     "metadata": {},
     "output_type": "execute_result"
    }
   ],
   "source": [
    "pd.DataFrame(solucoes).T.drop_duplicates()"
   ],
   "metadata": {
    "collapsed": false,
    "pycharm": {
     "name": "#%%\n"
    }
   }
  },
  {
   "cell_type": "markdown",
   "metadata": {},
   "source": [
    "Comparando os tempos obtidos nas diferentes configurações do algoritmo backtracking search pudemos concluir que para um problema de baixa dimensão e com poucas restrições como é o caso deste (quadrado latino 8x8 sem casas inicializadas) nem sempre a aplicação de uma heurística ou de uma inferência vai reduzir o tempo de procura. Isto deve-se ao facto de estes algoritmos que correm durante a procura fazerem checks adicionais em cada iteração do backtracking search, resultando no fim em menos iterações do backtracking search mas mais demorosas. Num problema de grande complexidade isto ajuda a reduzir o domínio das variavéis e a convergir numa solução mais rápidamente, mas para este problema simples acaba-se por demorar mais tempo a fazer estes checks do que a experimentar combinações de acordo com a ordem no domínio das variáveis. Mesmo assim têm o seu mérito pois a inferência foward checking demorou menos tempo que o backtracking sem inferência e os outros tiveram tempos semelhantes.\n",
    "O pré-processamento AC3 como trata de reduzir o domínio das varíaveis antes da execução da procura obtem o melhor tempo, pois este simplifica o problema antes de ser resolvido.  \n",
    "<br>\n",
    "Podemos notar também que as soluções obtidas por todas as configurações de procura foram iguais."
   ]
  },
  {
   "cell_type": "markdown",
   "metadata": {
    "collapsed": false
   },
   "source": [
    "## Visualização do problema"
   ]
  },
  {
   "cell_type": "code",
   "execution_count": 27,
   "metadata": {},
   "outputs": [],
   "source": [
    "def visualizacao_csp_quadrado_latino(n, problema_csp, solucao):\n",
    "    \"\"\"Gera uma visualização do estado inicial e da solução de um problema de quadrados\n",
    "    latinos de dimensão n\n",
    "    \n",
    "    Args:\n",
    "        n (int): Dimensão do problema\n",
    "        problema_csp (CSP): Object CSP do problema em questão\n",
    "        solucao (dict): Solução do problema\n",
    "    \"\"\"    \n",
    "    \n",
    "    # Construir matriz inicial com os valores do problema\n",
    "    estado_inicial = [[0 for y in range(n)] for x in range(n)]\n",
    "    for var, dom in problema_csp.domains.items():\n",
    "        if len(dom) == 1:\n",
    "            estado_inicial[var[1]][var[0]] = dom[0]\n",
    "        \n",
    "    # Construir matriz final com os valores do problema\n",
    "    estado_final = [[0 for y in range(n)] for x in range(n)]\n",
    "    for var, valor in solucao.items():\n",
    "        estado_final[var[1]][var[0]] = valor\n",
    "    \n",
    "    # Construir strings que representam as matrizes\n",
    "    board_inicial = \"\"\n",
    "    board_final = \"\"\n",
    "    for y in range(n):\n",
    "        for x in range(n):\n",
    "            board_inicial += str(estado_inicial[y][x]) + \" \"\n",
    "            board_final += str(estado_final[y][x]) + \" \"\n",
    "        board_inicial += \"\\n\"\n",
    "        board_final += \"\\n\"\n",
    "    \n",
    "    print(\"Estado Inicial:\")\n",
    "    print(board_inicial)\n",
    "    print(\"Solução:\")\n",
    "    print(board_final)\n",
    "\n",
    "def visualizacao_board(board):\n",
    "    \"\"\"Dada uma board de um problema quadrado latino, faz\n",
    "    print do output\n",
    "    \"\"\"\n",
    "    n = len(board)\n",
    "    output = \"\"\n",
    "    for j in range(n):\n",
    "        for i in range(n):\n",
    "            output += str(board[j][i]) + \" \"\n",
    "        output += \"\\n\"\n",
    "    print(output)"
   ]
  },
  {
   "cell_type": "markdown",
   "metadata": {},
   "source": [
    "Podemos ver a board orignal e solução já conhecida para comparar com o obtido pelo algoritmo"
   ]
  },
  {
   "cell_type": "code",
   "execution_count": 28,
   "metadata": {},
   "outputs": [
    {
     "name": "stdout",
     "output_type": "stream",
     "text": [
      "Antes:\n",
      "6 0 0 0 0 0 0 \n",
      "0 6 0 1 0 0 3 \n",
      "2 0 7 0 0 0 0 \n",
      "4 0 0 2 0 0 1 \n",
      "0 3 1 5 6 0 0 \n",
      "1 0 0 7 0 2 4 \n",
      "0 0 0 0 0 0 7 \n",
      "\n",
      "Depois:\n",
      "6 1 2 4 7 3 5 \n",
      "5 6 4 1 2 7 2 \n",
      "2 4 7 3 1 5 6 \n",
      "4 7 3 2 5 6 1 \n",
      "7 3 1 5 6 4 2 \n",
      "1 5 6 7 3 2 4 \n",
      "3 2 5 6 4 1 7 \n",
      "\n"
     ]
    }
   ],
   "source": [
    "solution = [[6,1,2,4,7,3,5],\n",
    "            [5,6,4,1,2,7,2],\n",
    "            [2,4,7,3,1,5,6],\n",
    "            [4,7,3,2,5,6,1],\n",
    "            [7,3,1,5,6,4,2],\n",
    "            [1,5,6,7,3,2,4],\n",
    "            [3,2,5,6,4,1,7]]\n",
    "\n",
    "print(\"Antes:\")\n",
    "visualizacao_board(board)\n",
    "print(\"Depois:\")\n",
    "visualizacao_board(solution)"
   ]
  },
  {
   "cell_type": "markdown",
   "metadata": {},
   "source": [
    "Para visualizar a solução do problema anterior basta invocar a função visualizacao_quadrado_latino dando a dimensao e a solução como argumentos"
   ]
  },
  {
   "cell_type": "code",
   "execution_count": 29,
   "metadata": {
    "collapsed": false,
    "pycharm": {
     "name": "#%%\n"
    }
   },
   "outputs": [
    {
     "name": "stdout",
     "output_type": "stream",
     "text": [
      "Estado Inicial:\n",
      "6 0 0 0 0 0 0 \n",
      "0 6 0 1 0 0 3 \n",
      "2 0 7 0 0 0 0 \n",
      "4 0 0 2 0 0 1 \n",
      "0 3 1 5 6 0 0 \n",
      "1 0 0 7 0 2 4 \n",
      "0 0 0 0 0 0 7 \n",
      "\n",
      "Solução:\n",
      "6 1 2 4 7 3 5 \n",
      "5 6 4 1 2 7 3 \n",
      "2 4 7 3 1 5 6 \n",
      "4 7 3 2 5 6 1 \n",
      "7 3 1 5 6 4 2 \n",
      "1 5 6 7 3 2 4 \n",
      "3 2 5 6 4 1 7 \n",
      "\n"
     ]
    }
   ],
   "source": [
    "visualizacao_csp_quadrado_latino(n, p_quadrado_latino, backtracking_search(p_quadrado_latino))"
   ]
  },
  {
   "cell_type": "markdown",
   "metadata": {
    "collapsed": false
   },
   "source": [
    "## Criação do problema Futoshiki *5x5*\n",
    "\n",
    "Mostrem que o código está a funcionar, construindo um problema de Futoshiki *5x5*, imprimindo as variáveis, domínios iniciais, e vizinhos. Adicione os comentários necessários. Utilize o [link](https://www.futoshiki.org/) para gerar puzzles e validar a implementação."
   ]
  },
  {
   "cell_type": "markdown",
   "metadata": {},
   "source": [
    "Para criar um problema Futoshiki vamos ter definir os elementos da matriz que estão preenchidos e estabelecer as relações de desigualdade presentes no problema."
   ]
  },
  {
   "cell_type": "code",
   "execution_count": 30,
   "metadata": {},
   "outputs": [],
   "source": [
    "preenchidos5 = {(0,3) : [2], (4,3) : [3]}\n",
    "desigualdades5 = {((3,0),(4,0)) : maior, ((0,1),(1,1)) : menor, ((0,2),(1,2)) : menor,\\\n",
    "                 ((3,3),(3,2)) : menor, ((1,4),(2,4)) : maior, ((2,4),(2,3)) : maior, \\\n",
    "                 ((4,4),(4,3)) : maior}"
   ]
  },
  {
   "cell_type": "markdown",
   "metadata": {},
   "source": [
    "Podemos então criar um problema Futoshiki 5x5 da seguinte forma"
   ]
  },
  {
   "cell_type": "code",
   "execution_count": 31,
   "metadata": {},
   "outputs": [],
   "source": [
    "futoshiki5 = quadrado_latino(5, preenchidos5, desigualdades5)"
   ]
  },
  {
   "cell_type": "markdown",
   "metadata": {},
   "source": [
    "E ver as variáveis, domínios e vizinhos"
   ]
  },
  {
   "cell_type": "code",
   "execution_count": 32,
   "metadata": {},
   "outputs": [
    {
     "name": "stdout",
     "output_type": "stream",
     "text": [
      "Variáveis =  [(0, 0), (0, 1), (0, 2), (0, 3), (0, 4), (1, 0), (1, 1), (1, 2), (1, 3), (1, 4), (2, 0), (2, 1), (2, 2), (2, 3), (2, 4), (3, 0), (3, 1), (3, 2), (3, 3), (3, 4), (4, 0), (4, 1), (4, 2), (4, 3), (4, 4)] \n",
      "\n",
      "Domínios =  {(0, 3): [2], (4, 3): [3], (0, 1): [1, 2, 3, 4, 5], (2, 4): [1, 2, 3, 4, 5], (4, 0): [1, 2, 3, 4, 5], (1, 2): [1, 2, 3, 4, 5], (3, 4): [1, 2, 3, 4, 5], (0, 4): [1, 2, 3, 4, 5], (2, 1): [1, 2, 3, 4, 5], (3, 1): [1, 2, 3, 4, 5], (0, 2): [1, 2, 3, 4, 5], (2, 2): [1, 2, 3, 4, 5], (1, 0): [1, 2, 3, 4, 5], (3, 2): [1, 2, 3, 4, 5], (1, 3): [1, 2, 3, 4, 5], (4, 1): [1, 2, 3, 4, 5], (4, 4): [1, 2, 3, 4, 5], (0, 0): [1, 2, 3, 4, 5], (1, 1): [1, 2, 3, 4, 5], (2, 0): [1, 2, 3, 4, 5], (4, 2): [1, 2, 3, 4, 5], (3, 0): [1, 2, 3, 4, 5], (1, 4): [1, 2, 3, 4, 5], (2, 3): [1, 2, 3, 4, 5], (3, 3): [1, 2, 3, 4, 5]} \n",
      "\n",
      "Vizinhos =  {(0, 0): [(0, 1), (0, 2), (0, 3), (0, 4), (1, 0), (2, 0), (3, 0), (4, 0)], (0, 1): [(0, 0), (0, 2), (0, 3), (0, 4), (1, 1), (2, 1), (3, 1), (4, 1)], (0, 2): [(0, 0), (0, 1), (0, 3), (0, 4), (1, 2), (2, 2), (3, 2), (4, 2)], (0, 3): [(0, 0), (0, 1), (0, 2), (0, 4), (1, 3), (2, 3), (3, 3), (4, 3)], (0, 4): [(0, 0), (0, 1), (0, 2), (0, 3), (1, 4), (2, 4), (3, 4), (4, 4)], (1, 0): [(0, 0), (1, 1), (1, 2), (1, 3), (1, 4), (2, 0), (3, 0), (4, 0)], (1, 1): [(0, 1), (1, 0), (1, 2), (1, 3), (1, 4), (2, 1), (3, 1), (4, 1)], (1, 2): [(0, 2), (1, 0), (1, 1), (1, 3), (1, 4), (2, 2), (3, 2), (4, 2)], (1, 3): [(0, 3), (1, 0), (1, 1), (1, 2), (1, 4), (2, 3), (3, 3), (4, 3)], (1, 4): [(0, 4), (1, 0), (1, 1), (1, 2), (1, 3), (2, 4), (3, 4), (4, 4)], (2, 0): [(0, 0), (1, 0), (2, 1), (2, 2), (2, 3), (2, 4), (3, 0), (4, 0)], (2, 1): [(0, 1), (1, 1), (2, 0), (2, 2), (2, 3), (2, 4), (3, 1), (4, 1)], (2, 2): [(0, 2), (1, 2), (2, 0), (2, 1), (2, 3), (2, 4), (3, 2), (4, 2)], (2, 3): [(0, 3), (1, 3), (2, 0), (2, 1), (2, 2), (2, 4), (3, 3), (4, 3)], (2, 4): [(0, 4), (1, 4), (2, 0), (2, 1), (2, 2), (2, 3), (3, 4), (4, 4)], (3, 0): [(0, 0), (1, 0), (2, 0), (3, 1), (3, 2), (3, 3), (3, 4), (4, 0)], (3, 1): [(0, 1), (1, 1), (2, 1), (3, 0), (3, 2), (3, 3), (3, 4), (4, 1)], (3, 2): [(0, 2), (1, 2), (2, 2), (3, 0), (3, 1), (3, 3), (3, 4), (4, 2)], (3, 3): [(0, 3), (1, 3), (2, 3), (3, 0), (3, 1), (3, 2), (3, 4), (4, 3)], (3, 4): [(0, 4), (1, 4), (2, 4), (3, 0), (3, 1), (3, 2), (3, 3), (4, 4)], (4, 0): [(0, 0), (1, 0), (2, 0), (3, 0), (4, 1), (4, 2), (4, 3), (4, 4)], (4, 1): [(0, 1), (1, 1), (2, 1), (3, 1), (4, 0), (4, 2), (4, 3), (4, 4)], (4, 2): [(0, 2), (1, 2), (2, 2), (3, 2), (4, 0), (4, 1), (4, 3), (4, 4)], (4, 3): [(0, 3), (1, 3), (2, 3), (3, 3), (4, 0), (4, 1), (4, 2), (4, 4)], (4, 4): [(0, 4), (1, 4), (2, 4), (3, 4), (4, 0), (4, 1), (4, 2), (4, 3)]} \n",
      "\n"
     ]
    }
   ],
   "source": [
    "print(\"Variáveis = \", futoshiki5.variables, \"\\n\")\n",
    "print(\"Domínios = \", futoshiki5.domains,\"\\n\")\n",
    "print(\"Vizinhos = \", futoshiki5.neighbors, \"\\n\")"
   ]
  },
  {
   "cell_type": "markdown",
   "metadata": {},
   "source": [
    "E podemos resolver usando o backtracking search"
   ]
  },
  {
   "cell_type": "code",
   "execution_count": 33,
   "metadata": {},
   "outputs": [
    {
     "name": "stdout",
     "output_type": "stream",
     "text": [
      "Solução: {(0, 0): 5, (0, 1): 3, (0, 2): 1, (0, 3): 2, (0, 4): 4, (1, 0): 1, (1, 1): 4, (1, 2): 2, (1, 3): 5, (1, 4): 3, (2, 0): 4, (2, 1): 5, (2, 2): 3, (2, 3): 1, (2, 4): 2, (3, 0): 3, (3, 1): 2, (3, 2): 5, (3, 3): 4, (3, 4): 1, (4, 0): 2, (4, 1): 1, (4, 2): 4, (4, 3): 3, (4, 4): 5}\n"
     ]
    }
   ],
   "source": [
    "sol_futo = backtracking_search(futoshiki5)\n",
    "print(\"Solução:\", sol_futo)"
   ]
  },
  {
   "cell_type": "markdown",
   "metadata": {
    "collapsed": false
   },
   "source": [
    "Resolva o problema com o backtracking sem inferencia, com inferencia, e com uma heurística. Até que dimensão consegue resolver o problema em menos de 1 minuto?"
   ]
  },
  {
   "cell_type": "markdown",
   "metadata": {},
   "source": [
    "Tal como para os quadrados latinos vamos criar um problema de maior dimensão com restrições complexas de forma a pudermos comparar melhor os tempos de execução."
   ]
  },
  {
   "cell_type": "code",
   "execution_count": 45,
   "metadata": {
    "collapsed": false,
    "pycharm": {
     "name": "#%%\n"
    }
   },
   "outputs": [],
   "source": [
    "# import timeit\n",
    "#\n",
    "# def avg_run_time(func, *args, **kwargs):\n",
    "#     \"\"\"Corre uma função n vezes medindo o tempo de execução de cada vez\n",
    "#     e imprime a média dos tempos\n",
    "#\n",
    "#     Args:\n",
    "#         func: Função a correr\n",
    "#     \"\"\"\n",
    "#     n = 1\n",
    "#     run_times = []\n",
    "#     for i in range(n):\n",
    "#         start = timeit.default_timer()\n",
    "#         func(*args, **kwargs)\n",
    "#         stop = timeit.default_timer()\n",
    "#         run_times.append(stop-start)\n",
    "#     return sum(run_times) / n\n",
    "\n",
    "solucoesFutoshiki = {}\n",
    "temposFutoshiki = {}"
   ]
  },
  {
   "cell_type": "code",
   "execution_count": 46,
   "metadata": {
    "collapsed": false,
    "pycharm": {
     "name": "#%%\n"
    }
   },
   "outputs": [],
   "source": [
    "preenchidos7ext = {(3,2) : [2], (4,0) : [4]}\n",
    "desigualdades7ext = {((1,0),(2,0)):menor, ((2,0),(3,0)):menor, ((5,0),(6,0)): maior, ((2,1),(2,0)):menor, ((5,1),(5,0)):menor, ((0,1),(1,1)):maior, ((1,1),(2,1)):maior, ((2,1),(3,1)): menor, ((4,1),(5,1)):menor, ((2,2),(2,1)): menor, ((5,2),(5,1)): maior, ((1,3),(1,2)): menor, ((2,3),(2,2)): maior, ((0,3),(1,3)):maior, ((2,3),(3,3)):menor, ((4,3),(5,3)): menor, ((0,4),(0,3)):maior,((1,4),(1,3)):menor,((6,4),(6,3)):menor, ((3,4),(4,4)):menor,((4,4),(5,4)):menor,((3,6),(3,5)):maior, ((3,5),(3,4)):menor, ((0,6),(0,5)): maior, ((0,2),(1,2)): maior}\n",
    "futoshiki7ext = quadrado_latino(7, preenchidos7ext, desigualdades7ext)"
   ]
  },
  {
   "cell_type": "markdown",
   "metadata": {
    "collapsed": false,
    "pycharm": {
     "name": "#%% md\n"
    }
   },
   "source": [
    "- Backtracking sem inferência"
   ]
  },
  {
   "cell_type": "code",
   "execution_count": 47,
   "metadata": {
    "collapsed": false,
    "pycharm": {
     "name": "#%%\n"
    }
   },
   "outputs": [
    {
     "name": "stdout",
     "output_type": "stream",
     "text": [
      "Tempo médio de execução: 51.257967 s\n",
      "Assignment (SemInferência) =  {(0, 0): 1, (0, 1): 7, (0, 2): 6, (0, 3): 4, (0, 4): 5, (0, 5): 2, (0, 6): 3, (1, 0): 2, (1, 1): 6, (1, 2): 4, (1, 3): 3, (1, 4): 1, (1, 5): 7, (1, 6): 5, (2, 0): 3, (2, 1): 2, (2, 2): 1, (2, 3): 5, (2, 4): 4, (2, 5): 6, (2, 6): 7, (3, 0): 7, (3, 1): 5, (3, 2): 2, (3, 3): 6, (3, 4): 3, (3, 5): 1, (3, 6): 4, (4, 0): 4, (4, 1): 3, (4, 2): 7, (4, 3): 1, (4, 4): 6, (4, 5): 5, (4, 6): 2, (5, 0): 6, (5, 1): 4, (5, 2): 5, (5, 3): 2, (5, 4): 7, (5, 5): 3, (5, 6): 1, (6, 0): 5, (6, 1): 1, (6, 2): 3, (6, 3): 7, (6, 4): 2, (6, 5): 4, (6, 6): 6}\n"
     ]
    }
   ],
   "source": [
    "# Guardar solucao\n",
    "sol1, tempo1 = search_time(backtracking_search, futoshiki7ext)\n",
    "# Guardar resultados\n",
    "temposFutoshiki['SemInferência'] = tempo1\n",
    "solucoesFutoshiki['SemInferência'] = sol1\n",
    "# Imprimir resultados\n",
    "print(f\"Tempo médio de execução: {tempo1:.6f} s\")\n",
    "print('Assignment (SemInferência) = ',sol1)"
   ]
  },
  {
   "cell_type": "markdown",
   "metadata": {
    "collapsed": false,
    "pycharm": {
     "name": "#%% md\n"
    }
   },
   "source": [
    "- Backtracking com inferência Forward Checking"
   ]
  },
  {
   "cell_type": "code",
   "execution_count": 48,
   "metadata": {
    "collapsed": false,
    "pycharm": {
     "name": "#%%\n"
    }
   },
   "outputs": [
    {
     "name": "stdout",
     "output_type": "stream",
     "text": [
      "Tempo médio de execução: 0.004150 s\n",
      "Assignment (FRWDchecking) =  {(0, 0): 1, (0, 1): 7, (0, 2): 6, (0, 3): 4, (0, 4): 5, (0, 5): 2, (0, 6): 3, (1, 0): 2, (1, 1): 6, (1, 2): 4, (1, 3): 3, (1, 4): 1, (1, 5): 7, (1, 6): 5, (2, 0): 3, (2, 1): 2, (2, 2): 1, (2, 3): 5, (2, 4): 4, (2, 5): 6, (2, 6): 7, (3, 0): 7, (3, 1): 5, (3, 2): 2, (3, 3): 6, (3, 4): 3, (3, 5): 1, (3, 6): 4, (4, 0): 4, (4, 1): 3, (4, 2): 7, (4, 3): 1, (4, 4): 6, (4, 5): 5, (4, 6): 2, (5, 0): 6, (5, 1): 4, (5, 2): 5, (5, 3): 2, (5, 4): 7, (5, 5): 3, (5, 6): 1, (6, 0): 5, (6, 1): 1, (6, 2): 3, (6, 3): 7, (6, 4): 2, (6, 5): 4, (6, 6): 6}\n"
     ]
    }
   ],
   "source": [
    "# Guardar solucao\n",
    "sol2, tempo2 = search_time(backtracking_search, futoshiki7ext, inference=forward_checking)\n",
    "# Guardar resultados\n",
    "temposFutoshiki['FRWDchecking'] = tempo2\n",
    "solucoesFutoshiki['FRWDchecking'] = sol2\n",
    "# Imprimir resultados\n",
    "print(f\"Tempo médio de execução: {tempo2:.6f} s\")\n",
    "print('Assignment (FRWDchecking) = ',sol2)"
   ]
  },
  {
   "cell_type": "markdown",
   "metadata": {},
   "source": [
    "- Backtracking com inferência MAC"
   ]
  },
  {
   "cell_type": "code",
   "execution_count": 49,
   "metadata": {},
   "outputs": [
    {
     "name": "stdout",
     "output_type": "stream",
     "text": [
      "Tempo médio de execução: 0.006409 s\n",
      "Assignment (MAC) =  {(0, 0): 1, (0, 1): 7, (0, 2): 6, (0, 3): 4, (0, 4): 5, (0, 5): 2, (0, 6): 3, (1, 0): 2, (1, 1): 6, (1, 2): 4, (1, 3): 3, (1, 4): 1, (1, 5): 7, (1, 6): 5, (2, 0): 3, (2, 1): 2, (2, 2): 1, (2, 3): 5, (2, 4): 4, (2, 5): 6, (2, 6): 7, (3, 0): 7, (3, 1): 5, (3, 2): 2, (3, 3): 6, (3, 4): 3, (3, 5): 1, (3, 6): 4, (4, 0): 4, (4, 1): 3, (4, 2): 7, (4, 3): 1, (4, 4): 6, (4, 5): 5, (4, 6): 2, (5, 0): 6, (5, 1): 4, (5, 2): 5, (5, 3): 2, (5, 4): 7, (5, 5): 3, (5, 6): 1, (6, 0): 5, (6, 1): 1, (6, 2): 3, (6, 3): 7, (6, 4): 2, (6, 5): 4, (6, 6): 6}\n"
     ]
    }
   ],
   "source": [
    "# Guardar solucao\n",
    "sol3, tempo3 = search_time(backtracking_search, futoshiki7ext, inference=mac)\n",
    "# Guardar resultados\n",
    "temposFutoshiki['MAC'] = tempo3\n",
    "solucoesFutoshiki['MAC'] = sol3\n",
    "# Imprimir resultados\n",
    "print(f\"Tempo médio de execução: {tempo3:.6f} s\")\n",
    "print('Assignment (MAC) = ',sol3)"
   ]
  },
  {
   "cell_type": "markdown",
   "metadata": {},
   "source": [
    "- Backtracking com pré-processamento AC3"
   ]
  },
  {
   "cell_type": "code",
   "execution_count": 50,
   "metadata": {},
   "outputs": [
    {
     "name": "stdout",
     "output_type": "stream",
     "text": [
      "Tempo médio de execução: 0.004550  s\n",
      "Assignment (FutoshikiComAC3) =  {(0, 0): 1, (0, 1): 7, (0, 2): 6, (0, 3): 4, (0, 4): 5, (0, 5): 2, (0, 6): 3, (1, 0): 2, (1, 1): 6, (1, 2): 4, (1, 3): 3, (1, 4): 1, (1, 5): 7, (1, 6): 5, (2, 0): 3, (2, 1): 2, (2, 2): 1, (2, 3): 5, (2, 4): 4, (2, 5): 6, (2, 6): 7, (3, 0): 7, (3, 1): 5, (3, 2): 2, (3, 3): 6, (3, 4): 3, (3, 5): 1, (3, 6): 4, (4, 0): 4, (4, 1): 3, (4, 2): 7, (4, 3): 1, (4, 4): 6, (4, 5): 5, (4, 6): 2, (5, 0): 6, (5, 1): 4, (5, 2): 5, (5, 3): 2, (5, 4): 7, (5, 5): 3, (5, 6): 1, (6, 0): 5, (6, 1): 1, (6, 2): 3, (6, 3): 7, (6, 4): 2, (6, 5): 4, (6, 6): 6}\n"
     ]
    }
   ],
   "source": [
    "# Aplicar pre-processamento\n",
    "p_quadrado_AC3 = AC3(p_quadrado_latino)\n",
    "# Resolver e guardar solucao\n",
    "sol4, tempo4 = search_time(backtracking_search, futoshiki7ext)\n",
    "# Guarda resultados\n",
    "temposFutoshiki['AC3'] = tempo4\n",
    "solucoesFutoshiki['AC3'] = sol4\n",
    "# Imprimir resultados\n",
    "print(f\"Tempo médio de execução: {tempo4:.6f}  s\")\n",
    "print('Assignment (FutoshikiComAC3) = ', sol4)"
   ]
  },
  {
   "cell_type": "markdown",
   "metadata": {},
   "source": [
    "- Backtracking com heurística MRV"
   ]
  },
  {
   "cell_type": "code",
   "execution_count": 51,
   "metadata": {},
   "outputs": [
    {
     "name": "stdout",
     "output_type": "stream",
     "text": [
      "Tempo médio de execução: 0.005948 s\n",
      "Assignment (FutoshikiComHeuristica) =  {(6, 2): 3, (2, 3): 5, (2, 1): 2, (0, 6): 3, (5, 5): 3, (0, 2): 6, (0, 5): 2, (1, 3): 3, (4, 3): 1, (2, 4): 4, (6, 0): 5, (1, 6): 5, (5, 6): 1, (5, 1): 4, (6, 5): 4, (3, 6): 4, (3, 0): 7, (0, 3): 4, (3, 5): 1, (0, 0): 1, (6, 3): 7, (1, 0): 2, (5, 4): 7, (2, 5): 6, (1, 4): 1, (1, 2): 4, (5, 2): 5, (5, 3): 2, (6, 6): 6, (0, 4): 5, (4, 6): 2, (6, 1): 1, (3, 2): 2, (2, 6): 7, (3, 4): 3, (4, 0): 4, (2, 0): 3, (6, 4): 2, (2, 2): 1, (0, 1): 7, (3, 3): 6, (4, 4): 6, (5, 0): 6, (3, 1): 5, (4, 2): 7, (1, 1): 6, (4, 1): 3, (1, 5): 7, (4, 5): 5}\n"
     ]
    }
   ],
   "source": [
    "# Resolver e guardar\n",
    "sol5, tempo5 = search_time(backtracking_search, futoshiki7ext, select_unassigned_variable = mrv)\n",
    "# Guarda resultados\n",
    "temposFutoshiki['MRV'] = tempo5\n",
    "solucoesFutoshiki['MRV'] = sol5\n",
    "# Imprimir resultados\n",
    "print(f\"Tempo médio de execução: {tempo5:.6f} s\")\n",
    "print('Assignment (FutoshikiComHeuristica) = ', sol5)"
   ]
  },
  {
   "cell_type": "markdown",
   "metadata": {},
   "source": [
    "- Backtracking com Heurística MRV, Inferência Forward-Checking e pré-processamento AC3"
   ]
  },
  {
   "cell_type": "code",
   "execution_count": 54,
   "metadata": {},
   "outputs": [
    {
     "name": "stdout",
     "output_type": "stream",
     "text": [
      "Tempo médio de execução: 0.010983 s\n",
      "Assignment (FutoshikiHeuristicaInferenciaAC3) =  {(3, 2): 2, (0, 4): 5, (5, 1): 4, (4, 0): 4, (6, 6): 6, (6, 5): 4, (3, 6): 4, (1, 2): 4, (6, 3): 7, (5, 2): 5, (2, 4): 4, (0, 0): 1, (2, 6): 7, (4, 4): 6, (4, 1): 3, (1, 1): 6, (3, 1): 5, (4, 5): 5, (0, 2): 6, (3, 4): 3, (4, 6): 2, (3, 0): 7, (3, 5): 1, (1, 4): 1, (5, 6): 1, (6, 2): 3, (1, 5): 7, (5, 3): 2, (3, 3): 6, (1, 3): 3, (2, 0): 3, (4, 2): 7, (2, 1): 2, (6, 4): 2, (0, 6): 3, (0, 5): 2, (5, 4): 7, (2, 3): 5, (0, 3): 4, (1, 6): 5, (1, 0): 2, (0, 1): 7, (6, 1): 1, (2, 2): 1, (5, 5): 3, (4, 3): 1, (6, 0): 5, (2, 5): 6, (5, 0): 6}\n"
     ]
    }
   ],
   "source": [
    "futo_AC3 = AC3(futoshiki7ext)\n",
    "# Resolver e guardar\n",
    "sol6, tempo6 = search_time(backtracking_search, futo_AC3, select_unassigned_variable=mrv, inference=forward_checking)\n",
    "# Guarda resultados\n",
    "temposFutoshiki['AC3_MVR_MAC'] = tempo6\n",
    "solucoesFutoshiki['AC3_MVR_MAC'] = sol6\n",
    "# Imprimir resultados\n",
    "print(f\"Tempo médio de execução: {tempo6:.6f} s\")\n",
    "print('Assignment (FutoshikiHeuristicaInferenciaAC3) = ', sol6)"
   ]
  },
  {
   "cell_type": "code",
   "execution_count": 55,
   "metadata": {
    "collapsed": false,
    "pycharm": {
     "name": "#%%\n"
    }
   },
   "outputs": [
    {
     "data": {
      "text/plain": "               Tempo médio de execução\nFRWDchecking                  0.004150\nAC3                           0.004550\nMRV                           0.005948\nMAC                           0.006409\nAC3_MVR_MAC                   0.010983\nSemInferência                51.257967",
      "text/html": "<div>\n<style scoped>\n    .dataframe tbody tr th:only-of-type {\n        vertical-align: middle;\n    }\n\n    .dataframe tbody tr th {\n        vertical-align: top;\n    }\n\n    .dataframe thead th {\n        text-align: right;\n    }\n</style>\n<table border=\"1\" class=\"dataframe\">\n  <thead>\n    <tr style=\"text-align: right;\">\n      <th></th>\n      <th>Tempo médio de execução</th>\n    </tr>\n  </thead>\n  <tbody>\n    <tr>\n      <th>FRWDchecking</th>\n      <td>0.004150</td>\n    </tr>\n    <tr>\n      <th>AC3</th>\n      <td>0.004550</td>\n    </tr>\n    <tr>\n      <th>MRV</th>\n      <td>0.005948</td>\n    </tr>\n    <tr>\n      <th>MAC</th>\n      <td>0.006409</td>\n    </tr>\n    <tr>\n      <th>AC3_MVR_MAC</th>\n      <td>0.010983</td>\n    </tr>\n    <tr>\n      <th>SemInferência</th>\n      <td>51.257967</td>\n    </tr>\n  </tbody>\n</table>\n</div>"
     },
     "execution_count": 55,
     "metadata": {},
     "output_type": "execute_result"
    }
   ],
   "source": [
    "temposSorted = dict(sorted(temposFutoshiki.items(), key=lambda x:x[1]))\n",
    "pd.DataFrame(temposSorted, index=['Tempo médio de execução']).T"
   ]
  },
  {
   "cell_type": "code",
   "execution_count": 56,
   "metadata": {
    "collapsed": false,
    "pycharm": {
     "name": "#%%\n"
    }
   },
   "outputs": [
    {
     "data": {
      "text/plain": "               0                    1        ...  5        6                  \n               0  1  2  3  4  5  6  0  1  2  ...  4  5  6  0  1  2  3  4  5  6\nSemInferência  1  7  6  4  5  2  3  2  6  4  ...  7  3  1  5  1  3  7  2  4  6\n\n[1 rows x 49 columns]",
      "text/html": "<div>\n<style scoped>\n    .dataframe tbody tr th:only-of-type {\n        vertical-align: middle;\n    }\n\n    .dataframe tbody tr th {\n        vertical-align: top;\n    }\n\n    .dataframe thead tr th {\n        text-align: left;\n    }\n</style>\n<table border=\"1\" class=\"dataframe\">\n  <thead>\n    <tr>\n      <th></th>\n      <th colspan=\"7\" halign=\"left\">0</th>\n      <th colspan=\"3\" halign=\"left\">1</th>\n      <th>...</th>\n      <th colspan=\"3\" halign=\"left\">5</th>\n      <th colspan=\"7\" halign=\"left\">6</th>\n    </tr>\n    <tr>\n      <th></th>\n      <th>0</th>\n      <th>1</th>\n      <th>2</th>\n      <th>3</th>\n      <th>4</th>\n      <th>5</th>\n      <th>6</th>\n      <th>0</th>\n      <th>1</th>\n      <th>2</th>\n      <th>...</th>\n      <th>4</th>\n      <th>5</th>\n      <th>6</th>\n      <th>0</th>\n      <th>1</th>\n      <th>2</th>\n      <th>3</th>\n      <th>4</th>\n      <th>5</th>\n      <th>6</th>\n    </tr>\n  </thead>\n  <tbody>\n    <tr>\n      <th>SemInferência</th>\n      <td>1</td>\n      <td>7</td>\n      <td>6</td>\n      <td>4</td>\n      <td>5</td>\n      <td>2</td>\n      <td>3</td>\n      <td>2</td>\n      <td>6</td>\n      <td>4</td>\n      <td>...</td>\n      <td>7</td>\n      <td>3</td>\n      <td>1</td>\n      <td>5</td>\n      <td>1</td>\n      <td>3</td>\n      <td>7</td>\n      <td>2</td>\n      <td>4</td>\n      <td>6</td>\n    </tr>\n  </tbody>\n</table>\n<p>1 rows × 49 columns</p>\n</div>"
     },
     "execution_count": 56,
     "metadata": {},
     "output_type": "execute_result"
    }
   ],
   "source": [
    "pd.DataFrame(solucoesFutoshiki).T.drop_duplicates()"
   ]
  },
  {
   "cell_type": "markdown",
   "metadata": {},
   "source": [
    "Para a nossa configuração encontramos que um problema 7x7 de dificuldade extrema do website indicado no enunciado do projeto, tem um tempo de execução por volta de 60 segundos. Portanto conseguimos resolver problemas 6x6 em menos de 1 minuto, e alguns problemas 7x7 mais simples em menos de um minuto.\n",
    "<br>\n",
    "Podemos ainda comparar os tempos de execução dos diferentes algoritmos. Como seria de esperar, o algoritmo sem inferência, sem heurística e sem pré-processamento demora muito mais tempo que os restantes, uma vez que este não tem nenhuma informação que lhe permita inferir um melhor percurso\n",
    "<br>\n",
    "Isto permite-nos concluir que a complexidade das restrições de desigualdade impostas no problema vão afetar bastante o tempo de procura."
   ]
  },
  {
   "cell_type": "markdown",
   "metadata": {},
   "source": [
    "Futoshiki 8x8"
   ]
  },
  {
   "cell_type": "code",
   "execution_count": 58,
   "metadata": {},
   "outputs": [],
   "source": [
    "valores_iniciais8 = {(0,2) : [5], (0,4) : [8], (4,4) : [4], (0,6) : [2], (1,6) : [5], \n",
    "                     (0,7) : [7], (3,7) : [3]}\n",
    "\n",
    "desigualdades8 = {((3,0),(4,0)) : maior, ((1,1),(1,0)) : maior, ((3,1),(4,1)) : menor, \\\n",
    "                  ((4,1),(4,0)) : menor, ((5,1),(5,0)) : maior, ((6,1),(7,1)) : menor, \\\n",
    "                  ((0,2),(1,2)) : menor, ((2,2),(2,1)) : menor, ((0,3),(0,2)) : menor, \\\n",
    "                  ((0,3),(1,3)) : maior, ((2,3),(3,3)) : maior, ((3,3),(3,2)) : menor, \\\n",
    "                  ((4,3),(5,3)) : menor, ((6,3),(7,3)) : menor, ((7,3),(7,2)) : menor, \\\n",
    "                  ((3,4),(4,4)) : menor, ((0,6),(0,5)) : maior, ((1,6),(1,5)) : menor, \\\n",
    "                  ((2,6),(3,6)) : maior, ((3,6),(3,5)) : maior, ((4,6),(5,6)) : maior, \\\n",
    "                  ((5,6),(5,5)) : maior, ((6,6),(7,6)) : menor, ((7,6),(7,5)) : menor, \\\n",
    "                  ((1,7),(1,6)) : maior, ((3,7),(4,7)) : maior, ((4,7),(5,7)) : menor, \\\n",
    "                  ((6,7),(7,7)) : menor}"
   ]
  },
  {
   "cell_type": "code",
   "execution_count": 59,
   "metadata": {},
   "outputs": [
    {
     "name": "stdout",
     "output_type": "stream",
     "text": [
      "{(0, 0): 3, (0, 1): 6, (0, 2): 5, (0, 3): 4, (0, 4): 8, (0, 5): 1, (0, 6): 2, (0, 7): 7, (1, 0): 1, (1, 1): 4, (1, 2): 6, (1, 3): 2, (1, 4): 3, (1, 5): 7, (1, 6): 5, (1, 7): 8, (2, 0): 4, (2, 1): 8, (2, 2): 2, (2, 3): 6, (2, 4): 5, (2, 5): 3, (2, 6): 7, (2, 7): 1, (3, 0): 8, (3, 1): 1, (3, 2): 7, (3, 3): 5, (3, 4): 2, (3, 5): 4, (3, 6): 6, (3, 7): 3, (4, 0): 7, (4, 1): 5, (4, 2): 3, (4, 3): 1, (4, 4): 4, (4, 5): 6, (4, 6): 8, (4, 7): 2, (5, 0): 5, (5, 1): 7, (5, 2): 1, (5, 3): 8, (5, 4): 6, (5, 5): 2, (5, 6): 3, (5, 7): 4, (6, 0): 6, (6, 1): 2, (6, 2): 4, (6, 3): 3, (6, 4): 7, (6, 5): 8, (6, 6): 1, (6, 7): 5, (7, 0): 2, (7, 1): 3, (7, 2): 8, (7, 3): 7, (7, 4): 1, (7, 5): 5, (7, 6): 4, (7, 7): 6}\n"
     ]
    }
   ],
   "source": [
    "futo8 = quadrado_latino(8, valores_iniciais8, desigualdades8)\n",
    "f8_ac3 = AC3(futo8)\n",
    "start = timeit.default_timer()\n",
    "solution = backtracking_search(f8_ac3, inference=forward_checking)\n",
    "end = timeit.default_timer()\n",
    "print(solution)"
   ]
  },
  {
   "cell_type": "code",
   "execution_count": 61,
   "outputs": [
    {
     "name": "stdout",
     "output_type": "stream",
     "text": [
      "Estado Inicial:\n",
      "0   0   0   0 > 0   0   0   0\n",
      "    ∧           ∨   ∧        \n",
      "0   0   0   0 < 0   0   0 < 0\n",
      "        ∨                    \n",
      "5 < 0   0   0   0   0   0   0\n",
      "∨           ∨               ∨\n",
      "0 > 0   0 > 0   0 < 0   0 < 0\n",
      "                             \n",
      "8   0   0   0 < 4   0   0   0\n",
      "                             \n",
      "0   0   0   0   0   0   0   0\n",
      "∧   ∨       ∧       ∧       ∨\n",
      "2   5   0 > 0   0 > 0   0 < 0\n",
      "    ∧                        \n",
      "7   0   0   3 > 0 < 0   0 < 0\n",
      "                             \n",
      "\n",
      "Solução:\n",
      "3   1   4   8 > 7   5   6   2\n",
      "    ∧           ∨   ∧        \n",
      "6   4   8   1 < 5   7   2 < 3\n",
      "        ∨                    \n",
      "5 < 6   2   7   3   1   4   8\n",
      "∨           ∨               ∨\n",
      "4 > 2   6 > 5   1 < 8   3 < 7\n",
      "                             \n",
      "8   3   5   2 < 4   6   7   1\n",
      "                             \n",
      "1   7   3   4   6   2   8   5\n",
      "∧   ∨       ∧       ∧       ∨\n",
      "2   5   7 > 6   8 > 3   1 < 4\n",
      "    ∧                        \n",
      "7   8   1   3 > 2 < 4   5 < 6\n",
      "                             \n",
      "\n"
     ]
    }
   ],
   "source": [
    "visualizacao_futoshiki(8, futo8, desigualdades8, solution)"
   ],
   "metadata": {
    "collapsed": false,
    "pycharm": {
     "name": "#%%\n"
    }
   }
  },
  {
   "cell_type": "markdown",
   "metadata": {},
   "source": [
    "## Visualização do problema"
   ]
  },
  {
   "cell_type": "code",
   "execution_count": 60,
   "metadata": {},
   "outputs": [],
   "source": [
    "def visualizacao_futoshiki(n, problema_csp, desigualdades, solucao):\n",
    "    \n",
    "    def mapeamento_2D_para_1D(x,y):\n",
    "        return y*(n+(n-1)*3+1) + x\n",
    "\n",
    "    def escrita_numeros(x,y):\n",
    "        return mapeamento_2D_para_1D(x*4, y*2)\n",
    "    \n",
    "    def escrita_desigualdades_linha(x,y):\n",
    "        return mapeamento_2D_para_1D(x*4+2, y*2)\n",
    "    \n",
    "    def escrita_desigualdades_coluna(x,y):\n",
    "        return mapeamento_2D_para_1D(x*4, y*2-1)\n",
    "\n",
    "    def escrever_desigualdade(operacao, direcao):\n",
    "        if direcao == \"x\":\n",
    "            if operacao.__name__ == \"maior\":\n",
    "                return '>'\n",
    "            else:\n",
    "                return '<'\n",
    "        else:\n",
    "            if operacao.__name__ == \"maior\":\n",
    "                return u\"\\u2227\" # Carater ∧\n",
    "            else:\n",
    "                return u\"\\u2228\" # Carater ∨\n",
    "\n",
    "    board_inicial = ([\" \"] * (n+(n-1)*3) + [\"\\n\"]) * (n*2)\n",
    "    for var, dom in problema_csp.domains.items():\n",
    "        if len(dom) == 1:\n",
    "            board_inicial[escrita_numeros(var[0],var[1])] = str(dom[0])\n",
    "        else:\n",
    "            board_inicial[escrita_numeros(var[0],var[1])] = \"0\"\n",
    "    for var, operacao in desigualdades.items():\n",
    "        if (var[0][1] == var[1][1]):\n",
    "            board_inicial[escrita_desigualdades_linha(var[0][0],var[0][1])] = escrever_desigualdade(operacao, \"x\")\n",
    "        else:\n",
    "            board_inicial[escrita_desigualdades_coluna(var[0][0],var[0][1])] = escrever_desigualdade(operacao, \"y\")\n",
    "    \n",
    "    board_final = board_inicial.copy()\n",
    "    for var, valor in solucao.items():\n",
    "        board_final[escrita_numeros(var[0],var[1])] = str(valor)\n",
    "    \n",
    "\n",
    "    print(\"Estado Inicial:\")\n",
    "    print(''.join(board_inicial))\n",
    "    print(\"Solução:\")\n",
    "    print(''.join(board_final))"
   ]
  },
  {
   "cell_type": "markdown",
   "metadata": {},
   "source": [
    "Podemos agora visualizar o problema futoshiki 5x5"
   ]
  },
  {
   "cell_type": "code",
   "execution_count": 62,
   "metadata": {},
   "outputs": [
    {
     "name": "stdout",
     "output_type": "stream",
     "text": [
      "Estado Inicial:\n",
      "0   0   0   0 > 0\n",
      "                 \n",
      "0 < 0   0   0   0\n",
      "                 \n",
      "0 < 0   0   0   0\n",
      "            ∨    \n",
      "2   0   0   0   3\n",
      "        ∧       ∧\n",
      "0   0 > 0   0   0\n",
      "                 \n",
      "\n",
      "Solução:\n",
      "5   1   4   3 > 2\n",
      "                 \n",
      "3 < 4   5   2   1\n",
      "                 \n",
      "1 < 2   3   5   4\n",
      "            ∨    \n",
      "2   5   1   4   3\n",
      "        ∧       ∧\n",
      "4   3 > 2   1   5\n",
      "                 \n",
      "\n"
     ]
    }
   ],
   "source": [
    "visualizacao_futoshiki(5, futoshiki5, desigualdades5, backtracking_search(futoshiki5))"
   ]
  },
  {
   "cell_type": "markdown",
   "metadata": {},
   "source": [
    "E o problema futoshiki 7x7"
   ]
  },
  {
   "cell_type": "code",
   "execution_count": 65,
   "outputs": [
    {
     "name": "stdout",
     "output_type": "stream",
     "text": [
      "Estado Inicial:\n",
      "0   0 < 0 < 0   4   0 > 0\n",
      "        ∨           ∨    \n",
      "0 > 0 > 0 < 0   0 < 0   0\n",
      "        ∨           ∧    \n",
      "0 > 0   0   2   0   0   0\n",
      "    ∨   ∧                \n",
      "0 > 0   0 < 0   0 < 0   0\n",
      "∧   ∨                   ∨\n",
      "0   0   0   0 < 0 < 0   0\n",
      "            ∨            \n",
      "0   0   0   0   0   0   0\n",
      "∧           ∧            \n",
      "0   0   0   0   0   0   0\n",
      "                         \n",
      "\n",
      "Solução:\n",
      "1   2 < 3 < 7   4   6 > 5\n",
      "        ∨           ∨    \n",
      "7 > 6 > 2 < 5   3 < 4   1\n",
      "        ∨           ∧    \n",
      "6 > 4   1   2   7   5   3\n",
      "    ∨   ∧                \n",
      "4 > 3   5 < 6   1 < 2   7\n",
      "∧   ∨                   ∨\n",
      "5   1   4   3 < 6 < 7   2\n",
      "            ∨            \n",
      "2   7   6   1   5   3   4\n",
      "∧           ∧            \n",
      "3   5   7   4   2   1   6\n",
      "                         \n",
      "\n"
     ]
    }
   ],
   "source": [
    "visualizacao_futoshiki(7, futoshiki7ext, desigualdades7ext, backtracking_search(futoshiki7ext))"
   ],
   "metadata": {
    "collapsed": false,
    "pycharm": {
     "name": "#%%\n"
    }
   }
  }
 ],
 "metadata": {
  "interpreter": {
   "hash": "ca0a6ed6c3687464969dd6147ab8a98b55d02ef7a9aec76841b10aa7e05a39c3"
  },
  "kernelspec": {
   "display_name": "Python 3.9.7 ('base')",
   "language": "python",
   "name": "python3"
  },
  "language_info": {
   "codemirror_mode": {
    "name": "ipython",
    "version": 3
   },
   "file_extension": ".py",
   "mimetype": "text/x-python",
   "name": "python",
   "nbconvert_exporter": "python",
   "pygments_lexer": "ipython3",
   "version": "3.9.7"
  },
  "orig_nbformat": 4
 },
 "nbformat": 4,
 "nbformat_minor": 2
}