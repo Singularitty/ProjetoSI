{
 "cells": [
  {
   "cell_type": "markdown",
   "id": "bf9c87b1",
   "metadata": {},
   "source": [
    "# Sistemas Inteligentes 2021/2022\n",
    "\n",
    "## Mini-projeto 2: Quadrados Latinos\n"
   ]
  },
  {
   "cell_type": "markdown",
   "id": "d7b8efca",
   "metadata": {},
   "source": [
    "## Grupo: 42\n",
    "\n",
    "### Elementos do Grupo\n",
    "\n",
    "Número:  53687       Nome:   Ariana Dias  \n",
    "Número:  53746       Nome:   Andrei Tataru  \n",
    "Número:  51127       Nome:   Luís Ferreirinha  \n",
    "\n",
    "(Nota: Neste relatório pode adicionar as células de texto e código que achar necessárias.)"
   ]
  },
  {
   "cell_type": "markdown",
   "id": "df10acb0",
   "metadata": {},
   "source": [
    "## Representação de variáveis, domínios, vizinhos e restrições\n",
    "\n",
    "O problema dos quadrados latinos pode ser representado como uma matriz $n \\times n$ em que cada linha e coluna contêm exatmente um número de $1$ a $n$.  \n",
    "\n",
    "Então para caracterizar este CSP em python obtamos pelas seguintes escolhas:  \n",
    "\n",
    "- Variáveis:  \n",
    "  \n",
    "    Cada variável no nosso problema vai representar o valor atribuiado a um elemento da matriz.  \n",
    "    Então em python representamos o conjunto das variáveis como uma lista das coordenadas de cada\n",
    "    elemento na matriz:    \n",
    "    -  var $=[(i_1,j_1),...,(i_n,j_n)]$  \n",
    "<br>\n",
    "- Domínios:  \n",
    "  \n",
    "    Neste problema cada variável pode tomar um valor de $1,...,n$, exceto de houver condições iniciais.\n",
    "    Portanto em python decidimos utilizar um dicionário, onde as chaves são as variáveis e estas correspondem a uma lista de inteiros contento os valores possíveis para aquela variável:\n",
    "    \n",
    "    - dominio $=\\{(i_1,j_1) = [1,..,n], ...\\}$  \n",
    "<br> \n",
    "- Vizinhos:  \n",
    "\n",
    "    Uma variável vai ser vizinha de outra de estiver na mesma linha ou coluna que essa variável.\n",
    "    Em python definimos os vizinhos como um dicionário onde cada variável é uma chave e corresponde a uma lista de variáveis que são suas vizinhas:  \n",
    "    \n",
    "    - vizinhos $=\\{(i_k,i_m) : [(i_1,j_m),...,(i_n,j_m),(i_k,j_1),...,(i_k,j_n)], \\, ...  \\, \\}$  \n",
    "<br>\n",
    "- Restrições:  \n",
    "\n",
    "    A restrição principal deste problema é a impossibilidade de haver repetições de um número\n",
    "    ao longo de uma coluna ou linha, ou seja tem de ser diferente de todos os seus vizinhos.\n",
    "    Em python esta restrição é representada pela comparação dos valores de duas variáveis vizinhas:  \n",
    "\n",
    "    -  ```python\n",
    "       valor_variavel_1 != valor_variavel_2\n",
    "       ```\n",
    "    <br>\n",
    "    Como também temos a variação do Futoshiki, temos de definir outras restrições para esse problema.  \n",
    "\n",
    "    A ideia principal é que duas variáveis adjacentes podem agora ter a restrição adicional de o valor de uma ser maior ou menor que o valor da outra. Então para representar o mapeamento destas novas restrições usamos um dicionário onde as chaves são um tuplos contendos as duas variáveis em questão e vão corresponde a uma função que verifica se os valores destas são menores ou maiores conforme a restrição.\n",
    "\n",
    "    - desigualdades $=\\{((i_k,j_m),(i_k,j_{m+1})) : maior\\, \\, \\text{ou} \\, \\, menor \\}$  \n",
    "\n",
    "    Cada uma destas funções vair comparar os valores das variavéis conforme o seu nome.  \n",
    "\n",
    "    - ```python \n",
    "      def maior(a,b): return a > b\n",
    "      ```\n",
    "\n",
    "    - ```python \n",
    "      def menor(a,b): return a < b\n",
    "      ```\n",
    "\n",
    "\n",
    " "
   ]
  },
  {
   "cell_type": "markdown",
   "id": "4ab69211",
   "metadata": {},
   "source": [
    "## Formulação do problema"
   ]
  },
  {
   "cell_type": "code",
   "execution_count": 1,
   "id": "c5327f4f",
   "metadata": {},
   "outputs": [],
   "source": [
    "from csp import *\n",
    "\n",
    "def quadrado_latino(n=3, initial={}) -> CSP:\n",
    "    \"\"\"Gera um CSP para o problema dos quadrados latinos\n",
    "\n",
    "    Args:\n",
    "        n (int, optional): Dimensao da matriz do problema. Defaults to 3.\n",
    "        initial (dict, optional): Valores iniciais para cada um dos elementos da matriz. Defaults to {}.\n",
    "\n",
    "    Returns:\n",
    "        CSP: Objeto CSP para o problema dos quadrados latinos\n",
    "    \"\"\"    \n",
    "    \n",
    "    # definicao das variaveis, as coordenadas x,y vão de 0 a n-1\n",
    "    variaveis = [(i,j) for i in range(0,n) for j in range(0,n)]\n",
    "\n",
    "    # Valores possiveis para as variaveis dada a dimensao n do problema\n",
    "    conjunto = [i for i in range(1,n+1)]\n",
    "    \n",
    "    # Iniciamos os dominios com os valores iniciais dados para as variaveis\n",
    "    dominios = initial\n",
    "\n",
    "    # Diferenca dos dois conjuntos vai resultar nas variaveis nao preenchidas\n",
    "    for item in set(variaveis - initial.keys()):\n",
    "        dominios[item] = conjunto\n",
    "    \n",
    "    # Condicao que determina de duas variaveis sao vizinhas, verifica se tem alguma das coordendas x ou y iguais\n",
    "    condicao_vizinhanca = lambda x,y : (x[0] == y[0] and x[1] != y[1]) or (x[0] != y[0] and x[1] == y[1])\n",
    "\n",
    "    # Para cada variavel vamos atribuir uma lista resultante de filtrar a lista de todas as variaveis\n",
    "    # com a condicao de que as variaveis sejam vizinhas da variavel chave\n",
    "    vizinhos = {var : list(filter(lambda x: condicao_vizinhanca(x,var), variaveis)) for var in variaveis}\n",
    "\n",
    "    def restricoes(X, a, Y, b):\n",
    "        # Verifica-se se duas variaveis sao vizinhas antes de verficar que tem valores diferentes entre si\n",
    "        if Y in vizinhos[X]:\n",
    "            return a != b\n",
    "        return True\n",
    "        \n",
    "    return CSP(variaveis, dominios, vizinhos, restricoes)"
   ]
  },
  {
   "cell_type": "code",
   "execution_count": 59,
   "metadata": {
    "collapsed": false,
    "pycharm": {
     "name": "#%%\n"
    }
   },
   "outputs": [],
   "source": [
    "# Funcoes restricao\n",
    "def maior(x,y):\n",
    "    return x > y\n",
    "\n",
    "def menor(x,y):\n",
    "    return x < y\n",
    "\n",
    "def futoshiki(n=3, initial={}, desigualdades={}):\n",
    "    \"\"\"Gera um CSP para o problema do futoshiki\n",
    "\n",
    "    Args:\n",
    "        n (int, optional): Dimensao da matriz do problema. Defaults to 3.\n",
    "        initial (dict, optional): Valores iniciais para cada um dos elementos da matriz. Defaults to {}.\n",
    "        desigualdades (dict, optional): Restrições adicionais do problema futoshiki. Defaults to {}.\n",
    "\n",
    "    Returns:\n",
    "        CSP: Objeto CSP para o problema dos quadrados latinos\n",
    "    \"\"\"    \n",
    "    \n",
    "    # definicao das variaveis, as coordenadas x,y vão de 0 a n-1\n",
    "    variaveis = [(i,j) for i in range(0,n) for j in range(0,n)]\n",
    "\n",
    "    # Valores possiveis para as variaveis dada a dimensao n do problema\n",
    "    conjunto = [i for i in range(1,n+1)]\n",
    "    \n",
    "    # Iniciamos os dominios com os valores iniciais dados para as variaveis\n",
    "    dominios = initial\n",
    "\n",
    "    # Diferenca dos dois conjuntos vai resultar nas variaveis nao preenchidas\n",
    "    for item in set(variaveis - initial.keys()):\n",
    "        dominios[item] = conjunto\n",
    "    \n",
    "    # Condicao que determina de duas variaveis sao vizinhas, verifica se tem alguma das coordendas x ou y iguais\n",
    "    condicao_vizinhanca = lambda x,y : (x[0] == y[0] and x[1] != y[1]) or (x[0] != y[0] and x[1] == y[1])\n",
    "\n",
    "    # Para cada variavel vamos atribuir uma lista resultante de filtrar a lista de todas as variaveis\n",
    "    # com a condicao de que as variaveis sejam vizinhas da variavel chave\n",
    "    vizinhos = {var : list(filter(lambda x: condicao_vizinhanca(x,var), variaveis)) for var in variaveis}\n",
    "\n",
    "    restricoes_desigualdades = desigualdades.copy()\n",
    "    for var, restricao in desigualdades.items():\n",
    "        if restricao.__name__ == \"maior\":\n",
    "            restricoes_desigualdades[(var[1],var[0])] = menor\n",
    "        else:\n",
    "            restricoes_desigualdades[(var[1],var[0])] = maior\n",
    "\n",
    "    def restricoes(X, a, Y, b):\n",
    "        # Vamos verificar se a var X tem alguma condição de desigualdade com outra var Y\n",
    "        if (X,Y) in restricoes_desigualdades.keys():\n",
    "            if not restricoes_desigualdades[(X,Y)](a,b):\n",
    "                return False\n",
    "        # Verifica se sao vizinhos\n",
    "        if Y in vizinhos[X]:\n",
    "            return  a != b\n",
    "        return True\n",
    "\n",
    "    return CSP(variaveis, dominios, vizinhos, restricoes)"
   ]
  },
  {
   "cell_type": "markdown",
   "id": "f46b1688",
   "metadata": {},
   "source": [
    "## Criação do problema do quadrado latino simples\n",
    "\n",
    "Mostrem que o código está a funcionar, construindo um problema de quadrado latino *4x4*, imprimindo as variáveis, domínios iniciais, e vizinhos. Adicione os comentários necessários. Mostre como podemos criar um puzzle com quadrados já preenchidos, e qual o impacto que isso tem nas variáveis, domínios iniciais, e vizinhos."
   ]
  },
  {
   "cell_type": "markdown",
   "metadata": {},
   "source": [
    "Para criar um problema quadrado latino 4x4 sem valores iniciais para as variáveis basta executar"
   ]
  },
  {
   "cell_type": "code",
   "execution_count": 3,
   "metadata": {},
   "outputs": [],
   "source": [
    "q4 = quadrado_latino(4)"
   ]
  },
  {
   "cell_type": "markdown",
   "metadata": {},
   "source": [
    "Tendo o problema definido, podemos agora ver as variáveis, domínios e os vizinhos deste problema"
   ]
  },
  {
   "cell_type": "code",
   "execution_count": 4,
   "id": "0b95b771",
   "metadata": {
    "pycharm": {
     "name": "#%%\n"
    }
   },
   "outputs": [
    {
     "name": "stdout",
     "output_type": "stream",
     "text": [
      "Variáveis = [(0, 0), (0, 1), (0, 2), (0, 3), (1, 0), (1, 1), (1, 2), (1, 3), (2, 0), (2, 1), (2, 2), (2, 3), (3, 0), (3, 1), (3, 2), (3, 3)]\n",
      "\n",
      "Domínios = {(0, 1): [1, 2, 3, 4], (1, 2): [1, 2, 3, 4], (2, 1): [1, 2, 3, 4], (3, 1): [1, 2, 3, 4], (0, 2): [1, 2, 3, 4], (2, 2): [1, 2, 3, 4], (1, 0): [1, 2, 3, 4], (3, 2): [1, 2, 3, 4], (1, 3): [1, 2, 3, 4], (0, 0): [1, 2, 3, 4], (1, 1): [1, 2, 3, 4], (0, 3): [1, 2, 3, 4], (2, 0): [1, 2, 3, 4], (3, 0): [1, 2, 3, 4], (2, 3): [1, 2, 3, 4], (3, 3): [1, 2, 3, 4]}\n",
      "\n",
      "Vizinhos = {(0, 0): [(0, 1), (0, 2), (0, 3), (1, 0), (2, 0), (3, 0)], (0, 1): [(0, 0), (0, 2), (0, 3), (1, 1), (2, 1), (3, 1)], (0, 2): [(0, 0), (0, 1), (0, 3), (1, 2), (2, 2), (3, 2)], (0, 3): [(0, 0), (0, 1), (0, 2), (1, 3), (2, 3), (3, 3)], (1, 0): [(0, 0), (1, 1), (1, 2), (1, 3), (2, 0), (3, 0)], (1, 1): [(0, 1), (1, 0), (1, 2), (1, 3), (2, 1), (3, 1)], (1, 2): [(0, 2), (1, 0), (1, 1), (1, 3), (2, 2), (3, 2)], (1, 3): [(0, 3), (1, 0), (1, 1), (1, 2), (2, 3), (3, 3)], (2, 0): [(0, 0), (1, 0), (2, 1), (2, 2), (2, 3), (3, 0)], (2, 1): [(0, 1), (1, 1), (2, 0), (2, 2), (2, 3), (3, 1)], (2, 2): [(0, 2), (1, 2), (2, 0), (2, 1), (2, 3), (3, 2)], (2, 3): [(0, 3), (1, 3), (2, 0), (2, 1), (2, 2), (3, 3)], (3, 0): [(0, 0), (1, 0), (2, 0), (3, 1), (3, 2), (3, 3)], (3, 1): [(0, 1), (1, 1), (2, 1), (3, 0), (3, 2), (3, 3)], (3, 2): [(0, 2), (1, 2), (2, 2), (3, 0), (3, 1), (3, 3)], (3, 3): [(0, 3), (1, 3), (2, 3), (3, 0), (3, 1), (3, 2)]}\n",
      "\n"
     ]
    }
   ],
   "source": [
    "print(f\"Variáveis = {q4.variables}\\n\")\n",
    "print(f\"Domínios = {q4.domains}\\n\")\n",
    "print(f\"Vizinhos = {q4.neighbors}\\n\")"
   ]
  },
  {
   "cell_type": "markdown",
   "metadata": {},
   "source": [
    "Para criar-mos um problema com um quadrado semi-preenchido temos primeiro de definir quais os elementos da matriz que vão estar preenchidos e qual o seu valor. Para fazer-mos isso podemos definir um dicionário com essa informação da seguinte forma:"
   ]
  },
  {
   "cell_type": "code",
   "execution_count": 5,
   "metadata": {},
   "outputs": [],
   "source": [
    "valores_preenchidos = {(0,0) : [1], (1,1) : [3], (2,2) : [2]}"
   ]
  },
  {
   "cell_type": "markdown",
   "metadata": {},
   "source": [
    "Depois basta passar esse dicionário como segundo argumento à função quadrado_latino"
   ]
  },
  {
   "cell_type": "code",
   "execution_count": 6,
   "metadata": {},
   "outputs": [],
   "source": [
    "q4_semi = quadrado_latino(n=4, initial=valores_preenchidos)"
   ]
  },
  {
   "cell_type": "markdown",
   "metadata": {
    "collapsed": false,
    "pycharm": {
     "name": "#%% md\n"
    }
   },
   "source": [
    "O facto de o quadrado ser semi preenchido apenas vai afetar os domínios iniciais, fazendo com que o dominio inicial das variáveis já com valores atribuidos seja reduzido esses valores."
   ]
  },
  {
   "cell_type": "code",
   "execution_count": 7,
   "metadata": {
    "collapsed": false,
    "pycharm": {
     "name": "#%%\n"
    }
   },
   "outputs": [
    {
     "name": "stdout",
     "output_type": "stream",
     "text": [
      "Variáveis = [(0, 0), (0, 1), (0, 2), (0, 3), (1, 0), (1, 1), (1, 2), (1, 3), (2, 0), (2, 1), (2, 2), (2, 3), (3, 0), (3, 1), (3, 2), (3, 3)]\n",
      "\n",
      "Domínios = {(0, 0): [1], (1, 1): [3], (2, 2): [2], (0, 1): [1, 2, 3, 4], (1, 2): [1, 2, 3, 4], (2, 1): [1, 2, 3, 4], (3, 1): [1, 2, 3, 4], (0, 3): [1, 2, 3, 4], (2, 0): [1, 2, 3, 4], (3, 0): [1, 2, 3, 4], (2, 3): [1, 2, 3, 4], (0, 2): [1, 2, 3, 4], (3, 3): [1, 2, 3, 4], (1, 0): [1, 2, 3, 4], (3, 2): [1, 2, 3, 4], (1, 3): [1, 2, 3, 4]}\n",
      "\n",
      "Vizinhos = {(0, 0): [(0, 1), (0, 2), (0, 3), (1, 0), (2, 0), (3, 0)], (0, 1): [(0, 0), (0, 2), (0, 3), (1, 1), (2, 1), (3, 1)], (0, 2): [(0, 0), (0, 1), (0, 3), (1, 2), (2, 2), (3, 2)], (0, 3): [(0, 0), (0, 1), (0, 2), (1, 3), (2, 3), (3, 3)], (1, 0): [(0, 0), (1, 1), (1, 2), (1, 3), (2, 0), (3, 0)], (1, 1): [(0, 1), (1, 0), (1, 2), (1, 3), (2, 1), (3, 1)], (1, 2): [(0, 2), (1, 0), (1, 1), (1, 3), (2, 2), (3, 2)], (1, 3): [(0, 3), (1, 0), (1, 1), (1, 2), (2, 3), (3, 3)], (2, 0): [(0, 0), (1, 0), (2, 1), (2, 2), (2, 3), (3, 0)], (2, 1): [(0, 1), (1, 1), (2, 0), (2, 2), (2, 3), (3, 1)], (2, 2): [(0, 2), (1, 2), (2, 0), (2, 1), (2, 3), (3, 2)], (2, 3): [(0, 3), (1, 3), (2, 0), (2, 1), (2, 2), (3, 3)], (3, 0): [(0, 0), (1, 0), (2, 0), (3, 1), (3, 2), (3, 3)], (3, 1): [(0, 1), (1, 1), (2, 1), (3, 0), (3, 2), (3, 3)], (3, 2): [(0, 2), (1, 2), (2, 2), (3, 0), (3, 1), (3, 3)], (3, 3): [(0, 3), (1, 3), (2, 3), (3, 0), (3, 1), (3, 2)]}\n",
      "\n"
     ]
    }
   ],
   "source": [
    "print(f\"Variáveis = {q4_semi.variables}\\n\")\n",
    "print(f\"Domínios = {q4_semi.domains}\\n\")\n",
    "print(f\"Vizinhos = {q4_semi.neighbors}\\n\")"
   ]
  },
  {
   "cell_type": "markdown",
   "metadata": {},
   "source": [
    "Resolva o problema com o backtracking sem inferencia, com inferencia, e com uma heurística."
   ]
  },
  {
   "cell_type": "markdown",
   "metadata": {},
   "source": [
    "Como a procura para um problema de dimensão baixa demora muito pouco tempo (ordem dos $1\\times10^{-4}\\, s$) Vamos definir uma função que executa uma pesquisa $n$ vezes (neste caso 50) e calcula a média dos tempos de execução da pesquisa. Desta forma podemos obter tempos de execução mais consistentes que não vão depender tanto de variações na velocidade do processador durante a execução das diferentes procuras."
   ]
  },
  {
   "cell_type": "code",
   "execution_count": 8,
   "metadata": {},
   "outputs": [],
   "source": [
    "import timeit\n",
    "\n",
    "def avg_run_time(func, *args, **kwargs):\n",
    "    \"\"\"Corre uma função n vezes medindo o tempo de execução de cada vez\n",
    "    e imprime a média dos tempos\n",
    "\n",
    "    Args:\n",
    "        func: Função a correr\n",
    "    \"\"\"\n",
    "    n = 20\n",
    "    run_times = []\n",
    "    for i in range(n):\n",
    "        start = timeit.default_timer()\n",
    "        func(*args, **kwargs)\n",
    "        stop = timeit.default_timer()\n",
    "        run_times.append(stop-start)\n",
    "    return sum(run_times) / n\n",
    "\n",
    "# Guardar os dados e solucoes para analisar mais tarde\n",
    "tempos = {}\n",
    "solucoes = {}"
   ]
  },
  {
   "cell_type": "markdown",
   "metadata": {},
   "source": [
    "- Dimensão do problema:"
   ]
  },
  {
   "cell_type": "code",
   "execution_count": 9,
   "metadata": {},
   "outputs": [],
   "source": [
    "n = 4"
   ]
  },
  {
   "cell_type": "markdown",
   "metadata": {},
   "source": [
    "- Backtracking sem inferência"
   ]
  },
  {
   "cell_type": "code",
   "execution_count": 10,
   "metadata": {
    "collapsed": false,
    "pycharm": {
     "name": "#%%\n"
    }
   },
   "outputs": [
    {
     "name": "stdout",
     "output_type": "stream",
     "text": [
      "Tempo médio de execução: 0.00039077019999353977\n",
      "Assignment (QuadradoLatinoSemInferência) =  {(0, 0): 1, (0, 1): 2, (0, 2): 3, (0, 3): 4, (1, 0): 2, (1, 1): 1, (1, 2): 4, (1, 3): 3, (2, 0): 3, (2, 1): 4, (2, 2): 1, (2, 3): 2, (3, 0): 4, (3, 1): 3, (3, 2): 2, (3, 3): 1}\n"
     ]
    }
   ],
   "source": [
    "# Definir problema\n",
    "QuadradoLatinoSemInferência = quadrado_latino(n)\n",
    "# Guardar solucao\n",
    "sol_1 = backtracking_search(QuadradoLatinoSemInferência)\n",
    "# Calcular tempo medio executando 20 vezes\n",
    "tempo_medio1 = avg_run_time(backtracking_search, QuadradoLatinoSemInferência)\n",
    "# Guardar resultados\n",
    "tempos['QuadradoLatinoSemInferência'] = tempo_medio1\n",
    "solucoes['QuadradoLatinoSemInferência'] = sol_1\n",
    "# Imprimir resultados\n",
    "print(f\"Tempo médio de execução: {tempo_medio1}\")\n",
    "print('Assignment (QuadradoLatinoSemInferência) = ',sol_1)"
   ]
  },
  {
   "cell_type": "markdown",
   "metadata": {},
   "source": [
    "- Backtracking com inferência Foward-Checking"
   ]
  },
  {
   "cell_type": "code",
   "execution_count": 11,
   "metadata": {
    "collapsed": false,
    "pycharm": {
     "name": "#%%\n"
    }
   },
   "outputs": [
    {
     "name": "stdout",
     "output_type": "stream",
     "text": [
      "Tempo médio de execução: 0.0004356507499892359\n",
      "Assignment (QuadradoLatinoComInferência_FRWDchecking) =  {(0, 0): 1, (0, 1): 2, (0, 2): 3, (0, 3): 4, (1, 0): 2, (1, 1): 1, (1, 2): 4, (1, 3): 3, (2, 0): 3, (2, 1): 4, (2, 2): 1, (2, 3): 2, (3, 0): 4, (3, 1): 3, (3, 2): 2, (3, 3): 1}\n"
     ]
    }
   ],
   "source": [
    "# Definir problema\n",
    "QuadradoLatinoComInferência_FRWDchecking = quadrado_latino(n)\n",
    "# Resolver e guardar solucao\n",
    "sol_2 = backtracking_search(QuadradoLatinoComInferência_FRWDchecking, inference=forward_checking)\n",
    "# Calcular o tempo medio de execucao\n",
    "tempo_medio2 = avg_run_time(backtracking_search, QuadradoLatinoComInferência_FRWDchecking, inference=forward_checking)\n",
    "# Guardar resultados\n",
    "tempos['QuadradoLatinoComInferência_FRWDchecking'] = tempo_medio2\n",
    "solucoes['QuadradoLatinoComInferência_FRWDchecking'] = sol_2\n",
    "# Imprimir resultados\n",
    "print(f\"Tempo médio de execução: {tempo_medio2}\")\n",
    "print('Assignment (QuadradoLatinoComInferência_FRWDchecking) = ',sol_2)"
   ]
  },
  {
   "cell_type": "markdown",
   "metadata": {},
   "source": [
    "- Backtracking com inferência MAC"
   ]
  },
  {
   "cell_type": "code",
   "execution_count": 12,
   "metadata": {
    "collapsed": false,
    "pycharm": {
     "name": "#%%\n"
    }
   },
   "outputs": [
    {
     "name": "stdout",
     "output_type": "stream",
     "text": [
      "Tempo médio de execução: 0.0006312500999911208\n",
      "Assignment (QuadradoLatinoComInferência_MAC) =  {(0, 0): 1, (0, 1): 2, (0, 2): 3, (0, 3): 4, (1, 0): 2, (1, 1): 1, (1, 2): 4, (1, 3): 3, (2, 0): 3, (2, 1): 4, (2, 2): 1, (2, 3): 2, (3, 0): 4, (3, 1): 3, (3, 2): 2, (3, 3): 1}\n"
     ]
    }
   ],
   "source": [
    "# Definir problema\n",
    "QuadradoLatinoComInferência_MAC = quadrado_latino(n)\n",
    "# Resolver e guardar solucao\n",
    "sol_4 = backtracking_search(QuadradoLatinoComInferência_MAC, inference=mac)\n",
    "# Calcular tempo medio de execucao\n",
    "tempo_medio4 = avg_run_time(backtracking_search, QuadradoLatinoComInferência_MAC, inference=mac)\n",
    "# Guarda resultados\n",
    "tempos['QuadradoLatinoComInferência_MAC'] = tempo_medio4\n",
    "solucoes['QuadradoLatinoComInferência_MAC'] = sol_4\n",
    "# Imprimir resultados\n",
    "print(f\"Tempo médio de execução: {tempo_medio4}\")\n",
    "print('Assignment (QuadradoLatinoComInferência_MAC) = ', sol_4)"
   ]
  },
  {
   "cell_type": "markdown",
   "metadata": {},
   "source": [
    "- Backtracking com pré-processamento AC3"
   ]
  },
  {
   "cell_type": "code",
   "execution_count": 13,
   "metadata": {
    "collapsed": false,
    "pycharm": {
     "name": "#%%\n"
    }
   },
   "outputs": [
    {
     "name": "stdout",
     "output_type": "stream",
     "text": [
      "Tempo médio de execução: 0.0003988103499864337\n",
      "Assignment (QuadradoLatinoComAC3) =  {(0, 0): 1, (0, 1): 2, (0, 2): 3, (0, 3): 4, (1, 0): 2, (1, 1): 1, (1, 2): 4, (1, 3): 3, (2, 0): 3, (2, 1): 4, (2, 2): 1, (2, 3): 2, (3, 0): 4, (3, 1): 3, (3, 2): 2, (3, 3): 1}\n"
     ]
    }
   ],
   "source": [
    "# Definir problema\n",
    "QuadradoLatinoComAC3 = quadrado_latino(n)\n",
    "# Aplicar pre-processamento\n",
    "p_AC3 = AC3(QuadradoLatinoComAC3)\n",
    "# Resolver e guardar solucao\n",
    "sol_3 = backtracking_search(p_AC3)\n",
    "# Calcular o tempo medio de execucao\n",
    "tempo_medio3 = avg_run_time(backtracking_search, p_AC3)\n",
    "# Guarda resultados\n",
    "tempos['QuadradoLatinoComAC3'] = tempo_medio3\n",
    "solucoes['QuadradoLatinoComAC3'] = sol_3\n",
    "# Imprimir resultados\n",
    "print(f\"Tempo médio de execução: {tempo_medio3}\")\n",
    "print('Assignment (QuadradoLatinoComAC3) = ', sol_3)"
   ]
  },
  {
   "cell_type": "markdown",
   "metadata": {},
   "source": [
    "- Backtracking com Heurística MRV"
   ]
  },
  {
   "cell_type": "code",
   "execution_count": 14,
   "metadata": {
    "collapsed": false,
    "pycharm": {
     "name": "#%%\n"
    }
   },
   "outputs": [
    {
     "name": "stdout",
     "output_type": "stream",
     "text": [
      "Tempo médio de execução: 0.0007167750999883538\n",
      "Assignment (QuadradoLatinoComHeuristica) =  {(2, 1): 1, (2, 2): 2, (1, 3): 1, (3, 1): 2, (1, 1): 3, (0, 2): 1, (3, 0): 1, (1, 2): 4, (2, 3): 3, (1, 0): 2, (0, 1): 4, (3, 3): 4, (0, 0): 3, (3, 2): 3, (0, 3): 2, (2, 0): 4}\n"
     ]
    }
   ],
   "source": [
    "# Definir problema\n",
    "QuadradoLatinoComHeuristica = quadrado_latino(n)\n",
    "# Resolver e guardar\n",
    "sol_6 = backtracking_search(QuadradoLatinoComHeuristica, select_unassigned_variable = mrv)\n",
    "# Tempo medio\n",
    "tempo_medio6 = avg_run_time(backtracking_search, QuadradoLatinoComHeuristica, select_unassigned_variable = mrv)\n",
    "# Guarda resultados\n",
    "tempos['QuadradoLatinoComHeuristica'] = tempo_medio6\n",
    "solucoes['QuadradoLatinoComHeuristica'] = sol_6\n",
    "# Imprimir resultados\n",
    "print(f\"Tempo médio de execução: {tempo_medio6}\")\n",
    "print('Assignment (QuadradoLatinoComHeuristica) = ', sol_6)"
   ]
  },
  {
   "cell_type": "markdown",
   "metadata": {},
   "source": [
    "- Backtracking com Heurística MRV, Inferência foward_checking e pré-processamento AC3"
   ]
  },
  {
   "cell_type": "code",
   "execution_count": 15,
   "metadata": {},
   "outputs": [
    {
     "name": "stdout",
     "output_type": "stream",
     "text": [
      "Tempo médio de execução: 0.0008534170000075392\n",
      "Assignment (QuadradoLatinoHeuristicaInferenciaAC3) =  {(2, 2): 1, (2, 1): 2, (2, 0): 3, (2, 3): 4, (1, 2): 2, (3, 2): 3, (0, 2): 4, (0, 0): 1, (1, 3): 3, (3, 3): 1, (1, 0): 4, (0, 3): 2, (1, 1): 1, (0, 1): 3, (3, 1): 4, (3, 0): 2}\n"
     ]
    }
   ],
   "source": [
    "# Definir problema\n",
    "QuadradoLatinoHeuristicaInferenciaAC3 = quadrado_latino(n)\n",
    "# Pre processamento\n",
    "p_AC3 = AC3(QuadradoLatinoHeuristicaInferenciaAC3)\n",
    "# Resolver e guardar\n",
    "sol_7 = backtracking_search(p_AC3, select_unassigned_variable=mrv, inference=mac)\n",
    "# Tempo medio\n",
    "tempo_medio7 = avg_run_time(backtracking_search, p_AC3, select_unassigned_variable=mrv, inference=mac)\n",
    "# Guarda resultados\n",
    "tempos['QuadradoLatinoHeuristicaInferenciaAC3'] = tempo_medio7\n",
    "solucoes['QuadradoLatinoHeuristicaInferenciaAC3'] = sol_7\n",
    "# Imprimir resultados\n",
    "print(f\"Tempo médio de execução: {tempo_medio7}\")\n",
    "print('Assignment (QuadradoLatinoHeuristicaInferenciaAC3) = ', sol_7)"
   ]
  },
  {
   "cell_type": "code",
   "execution_count": 16,
   "metadata": {
    "collapsed": false,
    "pycharm": {
     "name": "#%%\n"
    }
   },
   "outputs": [
    {
     "data": {
      "text/html": [
       "<div>\n",
       "<style scoped>\n",
       "    .dataframe tbody tr th:only-of-type {\n",
       "        vertical-align: middle;\n",
       "    }\n",
       "\n",
       "    .dataframe tbody tr th {\n",
       "        vertical-align: top;\n",
       "    }\n",
       "\n",
       "    .dataframe thead th {\n",
       "        text-align: right;\n",
       "    }\n",
       "</style>\n",
       "<table border=\"1\" class=\"dataframe\">\n",
       "  <thead>\n",
       "    <tr style=\"text-align: right;\">\n",
       "      <th></th>\n",
       "      <th>Tempos</th>\n",
       "    </tr>\n",
       "  </thead>\n",
       "  <tbody>\n",
       "    <tr>\n",
       "      <th>QuadradoLatinoSemInferência</th>\n",
       "      <td>0.000391</td>\n",
       "    </tr>\n",
       "    <tr>\n",
       "      <th>QuadradoLatinoComAC3</th>\n",
       "      <td>0.000399</td>\n",
       "    </tr>\n",
       "    <tr>\n",
       "      <th>QuadradoLatinoComInferência_FRWDchecking</th>\n",
       "      <td>0.000436</td>\n",
       "    </tr>\n",
       "    <tr>\n",
       "      <th>QuadradoLatinoComInferência_MAC</th>\n",
       "      <td>0.000631</td>\n",
       "    </tr>\n",
       "    <tr>\n",
       "      <th>QuadradoLatinoComHeuristica</th>\n",
       "      <td>0.000717</td>\n",
       "    </tr>\n",
       "    <tr>\n",
       "      <th>QuadradoLatinoHeuristicaInferenciaAC3</th>\n",
       "      <td>0.000853</td>\n",
       "    </tr>\n",
       "  </tbody>\n",
       "</table>\n",
       "</div>"
      ],
      "text/plain": [
       "                                            Tempos\n",
       "QuadradoLatinoSemInferência               0.000391\n",
       "QuadradoLatinoComAC3                      0.000399\n",
       "QuadradoLatinoComInferência_FRWDchecking  0.000436\n",
       "QuadradoLatinoComInferência_MAC           0.000631\n",
       "QuadradoLatinoComHeuristica               0.000717\n",
       "QuadradoLatinoHeuristicaInferenciaAC3     0.000853"
      ]
     },
     "execution_count": 16,
     "metadata": {},
     "output_type": "execute_result"
    }
   ],
   "source": [
    "import pandas as pd\n",
    "temposSorted = dict(sorted(tempos.items(), key=lambda x:x[1]))\n",
    "pd.DataFrame(temposSorted.values(),index = temposSorted.keys(), columns= [\"Tempos\"])\n"
   ]
  },
  {
   "cell_type": "markdown",
   "metadata": {
    "collapsed": false
   },
   "source": [
    "## Conclusões sobre os resultados temporais\n",
    "_(todos os valores são referentes a médias)_\n",
    "Com a tabela acima é possível concluir que:\n",
    "- o algoritmo que demora menos tempo a encontrar uma solução é a **procura com Retrocesso usando a inferência Forward Checking**, demora apenas 0.000219 segundos;\n",
    "- usando procura com retrocesso com inferência, verifica-se que **Forward Checking** é mais eficiente que **MAC**;\n",
    "- a solução do problema utilizando a procura com retrocesso sem inferências nem heurísticas demora menos tempo (0.000337 segundos) que a procura com retrocesso com inferência e heurisrica após pré-processamento com recurso ao algoritmo **AC3** (0.000623 segundos), quase o dobro do tempo;\n"
   ]
  },
  {
   "cell_type": "code",
   "execution_count": 17,
   "metadata": {
    "collapsed": false,
    "pycharm": {
     "name": "#%%\n"
    }
   },
   "outputs": [
    {
     "data": {
      "text/html": [
       "<div>\n",
       "<style scoped>\n",
       "    .dataframe tbody tr th:only-of-type {\n",
       "        vertical-align: middle;\n",
       "    }\n",
       "\n",
       "    .dataframe tbody tr th {\n",
       "        vertical-align: top;\n",
       "    }\n",
       "\n",
       "    .dataframe thead tr th {\n",
       "        text-align: left;\n",
       "    }\n",
       "</style>\n",
       "<table border=\"1\" class=\"dataframe\">\n",
       "  <thead>\n",
       "    <tr>\n",
       "      <th></th>\n",
       "      <th colspan=\"4\" halign=\"left\">0</th>\n",
       "      <th colspan=\"4\" halign=\"left\">1</th>\n",
       "      <th colspan=\"4\" halign=\"left\">2</th>\n",
       "      <th colspan=\"4\" halign=\"left\">3</th>\n",
       "    </tr>\n",
       "    <tr>\n",
       "      <th></th>\n",
       "      <th>0</th>\n",
       "      <th>1</th>\n",
       "      <th>2</th>\n",
       "      <th>3</th>\n",
       "      <th>0</th>\n",
       "      <th>1</th>\n",
       "      <th>2</th>\n",
       "      <th>3</th>\n",
       "      <th>0</th>\n",
       "      <th>1</th>\n",
       "      <th>2</th>\n",
       "      <th>3</th>\n",
       "      <th>0</th>\n",
       "      <th>1</th>\n",
       "      <th>2</th>\n",
       "      <th>3</th>\n",
       "    </tr>\n",
       "  </thead>\n",
       "  <tbody>\n",
       "    <tr>\n",
       "      <th>QuadradoLatinoSemInferência</th>\n",
       "      <td>1</td>\n",
       "      <td>2</td>\n",
       "      <td>3</td>\n",
       "      <td>4</td>\n",
       "      <td>2</td>\n",
       "      <td>1</td>\n",
       "      <td>4</td>\n",
       "      <td>3</td>\n",
       "      <td>3</td>\n",
       "      <td>4</td>\n",
       "      <td>1</td>\n",
       "      <td>2</td>\n",
       "      <td>4</td>\n",
       "      <td>3</td>\n",
       "      <td>2</td>\n",
       "      <td>1</td>\n",
       "    </tr>\n",
       "    <tr>\n",
       "      <th>QuadradoLatinoComInferência_FRWDchecking</th>\n",
       "      <td>1</td>\n",
       "      <td>2</td>\n",
       "      <td>3</td>\n",
       "      <td>4</td>\n",
       "      <td>2</td>\n",
       "      <td>1</td>\n",
       "      <td>4</td>\n",
       "      <td>3</td>\n",
       "      <td>3</td>\n",
       "      <td>4</td>\n",
       "      <td>1</td>\n",
       "      <td>2</td>\n",
       "      <td>4</td>\n",
       "      <td>3</td>\n",
       "      <td>2</td>\n",
       "      <td>1</td>\n",
       "    </tr>\n",
       "    <tr>\n",
       "      <th>QuadradoLatinoComInferência_MAC</th>\n",
       "      <td>1</td>\n",
       "      <td>2</td>\n",
       "      <td>3</td>\n",
       "      <td>4</td>\n",
       "      <td>2</td>\n",
       "      <td>1</td>\n",
       "      <td>4</td>\n",
       "      <td>3</td>\n",
       "      <td>3</td>\n",
       "      <td>4</td>\n",
       "      <td>1</td>\n",
       "      <td>2</td>\n",
       "      <td>4</td>\n",
       "      <td>3</td>\n",
       "      <td>2</td>\n",
       "      <td>1</td>\n",
       "    </tr>\n",
       "    <tr>\n",
       "      <th>QuadradoLatinoComAC3</th>\n",
       "      <td>1</td>\n",
       "      <td>2</td>\n",
       "      <td>3</td>\n",
       "      <td>4</td>\n",
       "      <td>2</td>\n",
       "      <td>1</td>\n",
       "      <td>4</td>\n",
       "      <td>3</td>\n",
       "      <td>3</td>\n",
       "      <td>4</td>\n",
       "      <td>1</td>\n",
       "      <td>2</td>\n",
       "      <td>4</td>\n",
       "      <td>3</td>\n",
       "      <td>2</td>\n",
       "      <td>1</td>\n",
       "    </tr>\n",
       "    <tr>\n",
       "      <th>QuadradoLatinoComHeuristica</th>\n",
       "      <td>3</td>\n",
       "      <td>4</td>\n",
       "      <td>1</td>\n",
       "      <td>2</td>\n",
       "      <td>2</td>\n",
       "      <td>3</td>\n",
       "      <td>4</td>\n",
       "      <td>1</td>\n",
       "      <td>4</td>\n",
       "      <td>1</td>\n",
       "      <td>2</td>\n",
       "      <td>3</td>\n",
       "      <td>1</td>\n",
       "      <td>2</td>\n",
       "      <td>3</td>\n",
       "      <td>4</td>\n",
       "    </tr>\n",
       "    <tr>\n",
       "      <th>QuadradoLatinoHeuristicaInferenciaAC3</th>\n",
       "      <td>1</td>\n",
       "      <td>3</td>\n",
       "      <td>4</td>\n",
       "      <td>2</td>\n",
       "      <td>4</td>\n",
       "      <td>1</td>\n",
       "      <td>2</td>\n",
       "      <td>3</td>\n",
       "      <td>3</td>\n",
       "      <td>2</td>\n",
       "      <td>1</td>\n",
       "      <td>4</td>\n",
       "      <td>2</td>\n",
       "      <td>4</td>\n",
       "      <td>3</td>\n",
       "      <td>1</td>\n",
       "    </tr>\n",
       "  </tbody>\n",
       "</table>\n",
       "</div>"
      ],
      "text/plain": [
       "                                          0           1           2           \\\n",
       "                                          0  1  2  3  0  1  2  3  0  1  2  3   \n",
       "QuadradoLatinoSemInferência               1  2  3  4  2  1  4  3  3  4  1  2   \n",
       "QuadradoLatinoComInferência_FRWDchecking  1  2  3  4  2  1  4  3  3  4  1  2   \n",
       "QuadradoLatinoComInferência_MAC           1  2  3  4  2  1  4  3  3  4  1  2   \n",
       "QuadradoLatinoComAC3                      1  2  3  4  2  1  4  3  3  4  1  2   \n",
       "QuadradoLatinoComHeuristica               3  4  1  2  2  3  4  1  4  1  2  3   \n",
       "QuadradoLatinoHeuristicaInferenciaAC3     1  3  4  2  4  1  2  3  3  2  1  4   \n",
       "\n",
       "                                          3           \n",
       "                                          0  1  2  3  \n",
       "QuadradoLatinoSemInferência               4  3  2  1  \n",
       "QuadradoLatinoComInferência_FRWDchecking  4  3  2  1  \n",
       "QuadradoLatinoComInferência_MAC           4  3  2  1  \n",
       "QuadradoLatinoComAC3                      4  3  2  1  \n",
       "QuadradoLatinoComHeuristica               1  2  3  4  \n",
       "QuadradoLatinoHeuristicaInferenciaAC3     2  4  3  1  "
      ]
     },
     "execution_count": 17,
     "metadata": {},
     "output_type": "execute_result"
    }
   ],
   "source": [
    "sols = pd.DataFrame(solucoes).T\n",
    "sols"
   ]
  },
  {
   "cell_type": "code",
   "execution_count": 18,
   "metadata": {
    "collapsed": false,
    "pycharm": {
     "name": "#%%\n"
    }
   },
   "outputs": [
    {
     "data": {
      "text/html": [
       "<div>\n",
       "<style scoped>\n",
       "    .dataframe tbody tr th:only-of-type {\n",
       "        vertical-align: middle;\n",
       "    }\n",
       "\n",
       "    .dataframe tbody tr th {\n",
       "        vertical-align: top;\n",
       "    }\n",
       "\n",
       "    .dataframe thead tr th {\n",
       "        text-align: left;\n",
       "    }\n",
       "</style>\n",
       "<table border=\"1\" class=\"dataframe\">\n",
       "  <thead>\n",
       "    <tr>\n",
       "      <th></th>\n",
       "      <th colspan=\"4\" halign=\"left\">0</th>\n",
       "      <th colspan=\"4\" halign=\"left\">1</th>\n",
       "      <th colspan=\"4\" halign=\"left\">2</th>\n",
       "      <th colspan=\"4\" halign=\"left\">3</th>\n",
       "    </tr>\n",
       "    <tr>\n",
       "      <th></th>\n",
       "      <th>0</th>\n",
       "      <th>1</th>\n",
       "      <th>2</th>\n",
       "      <th>3</th>\n",
       "      <th>0</th>\n",
       "      <th>1</th>\n",
       "      <th>2</th>\n",
       "      <th>3</th>\n",
       "      <th>0</th>\n",
       "      <th>1</th>\n",
       "      <th>2</th>\n",
       "      <th>3</th>\n",
       "      <th>0</th>\n",
       "      <th>1</th>\n",
       "      <th>2</th>\n",
       "      <th>3</th>\n",
       "    </tr>\n",
       "  </thead>\n",
       "  <tbody>\n",
       "    <tr>\n",
       "      <th>QuadradoLatinoSemInferência</th>\n",
       "      <td>1</td>\n",
       "      <td>2</td>\n",
       "      <td>3</td>\n",
       "      <td>4</td>\n",
       "      <td>2</td>\n",
       "      <td>1</td>\n",
       "      <td>4</td>\n",
       "      <td>3</td>\n",
       "      <td>3</td>\n",
       "      <td>4</td>\n",
       "      <td>1</td>\n",
       "      <td>2</td>\n",
       "      <td>4</td>\n",
       "      <td>3</td>\n",
       "      <td>2</td>\n",
       "      <td>1</td>\n",
       "    </tr>\n",
       "    <tr>\n",
       "      <th>QuadradoLatinoComHeuristica</th>\n",
       "      <td>3</td>\n",
       "      <td>4</td>\n",
       "      <td>1</td>\n",
       "      <td>2</td>\n",
       "      <td>2</td>\n",
       "      <td>3</td>\n",
       "      <td>4</td>\n",
       "      <td>1</td>\n",
       "      <td>4</td>\n",
       "      <td>1</td>\n",
       "      <td>2</td>\n",
       "      <td>3</td>\n",
       "      <td>1</td>\n",
       "      <td>2</td>\n",
       "      <td>3</td>\n",
       "      <td>4</td>\n",
       "    </tr>\n",
       "    <tr>\n",
       "      <th>QuadradoLatinoHeuristicaInferenciaAC3</th>\n",
       "      <td>1</td>\n",
       "      <td>3</td>\n",
       "      <td>4</td>\n",
       "      <td>2</td>\n",
       "      <td>4</td>\n",
       "      <td>1</td>\n",
       "      <td>2</td>\n",
       "      <td>3</td>\n",
       "      <td>3</td>\n",
       "      <td>2</td>\n",
       "      <td>1</td>\n",
       "      <td>4</td>\n",
       "      <td>2</td>\n",
       "      <td>4</td>\n",
       "      <td>3</td>\n",
       "      <td>1</td>\n",
       "    </tr>\n",
       "  </tbody>\n",
       "</table>\n",
       "</div>"
      ],
      "text/plain": [
       "                                       0           1           2           3  \\\n",
       "                                       0  1  2  3  0  1  2  3  0  1  2  3  0   \n",
       "QuadradoLatinoSemInferência            1  2  3  4  2  1  4  3  3  4  1  2  4   \n",
       "QuadradoLatinoComHeuristica            3  4  1  2  2  3  4  1  4  1  2  3  1   \n",
       "QuadradoLatinoHeuristicaInferenciaAC3  1  3  4  2  4  1  2  3  3  2  1  4  2   \n",
       "\n",
       "                                                \n",
       "                                       1  2  3  \n",
       "QuadradoLatinoSemInferência            3  2  1  \n",
       "QuadradoLatinoComHeuristica            2  3  4  \n",
       "QuadradoLatinoHeuristicaInferenciaAC3  4  3  1  "
      ]
     },
     "execution_count": 18,
     "metadata": {},
     "output_type": "execute_result"
    }
   ],
   "source": [
    "sols.drop_duplicates()"
   ]
  },
  {
   "cell_type": "markdown",
   "metadata": {
    "collapsed": false,
    "pycharm": {
     "name": "#%% md\n"
    }
   },
   "source": [
    "## Conclusões sobre os resultados de soluções\n",
    "\n",
    "Podemos concluir que usando a heurística MRV a solução do problema é diferente quando não a usamos. Mais ainda, verifica-se que mesmo usando a heurística MRV, a solução do problema é diferente quando se fez um pré-processamento com recurso ao algoritmo AC3.\n",
    "\n"
   ]
  },
  {
   "cell_type": "markdown",
   "metadata": {
    "collapsed": false
   },
   "source": [
    "## Visualização do problema"
   ]
  },
  {
   "cell_type": "code",
   "execution_count": 19,
   "metadata": {},
   "outputs": [],
   "source": [
    "def visualizacao_quadrado_latino(n, problema_csp, solucao):\n",
    "    \"\"\"Gera uma visualização do estado inicial e da solução de um problema de quadrados\n",
    "    latinos de dimensão n\n",
    "    \n",
    "    Args:\n",
    "        n (int): Dimensão do problema\n",
    "        problema_csp (CSP): Object CSP do problema em questão\n",
    "        solucao (dict): Solução do problema\n",
    "    \"\"\"    \n",
    "    \n",
    "    # Construir matriz inicial com os valores do problema\n",
    "    estado_inicial = [[0 for y in range(n)] for x in range(n)]\n",
    "    for var, dom in problema_csp.domains.items():\n",
    "        if len(dom) == 1:\n",
    "            estado_inicial[var[1]][var[0]] = dom[0]\n",
    "        \n",
    "    # Construir matriz final com os valores do problema\n",
    "    estado_final = [[0 for y in range(n)] for x in range(n)]\n",
    "    for var, valor in solucao.items():\n",
    "        estado_final[var[1]][var[0]] = valor\n",
    "    \n",
    "    # Construir strings que representam as matrizes\n",
    "    board_inicial = \"\"\n",
    "    board_final = \"\"\n",
    "    for y in range(n):\n",
    "        for x in range(n):\n",
    "            board_inicial += str(estado_inicial[y][x]) + \" \"\n",
    "            board_final += str(estado_final[y][x]) + \" \"\n",
    "        board_inicial += \"\\n\"\n",
    "        board_final += \"\\n\"\n",
    "    \n",
    "    print(\"Estado Inicial:\")\n",
    "    print(board_inicial)\n",
    "    print(\"Solução:\")\n",
    "    print(board_final)"
   ]
  },
  {
   "cell_type": "markdown",
   "metadata": {},
   "source": [
    "Para visualizar o problema anterior basta invocar a função visualizacao_quadrado_latino dando a dimensao, o CSP e a solução como argumentos"
   ]
  },
  {
   "cell_type": "code",
   "execution_count": 20,
   "metadata": {
    "collapsed": false,
    "pycharm": {
     "name": "#%%\n"
    }
   },
   "outputs": [
    {
     "name": "stdout",
     "output_type": "stream",
     "text": [
      "Estado Inicial:\n",
      "0 0 0 0 \n",
      "0 0 0 0 \n",
      "0 0 0 0 \n",
      "0 0 0 0 \n",
      "\n",
      "Solução:\n",
      "1 2 3 4 \n",
      "2 1 4 3 \n",
      "3 4 1 2 \n",
      "4 3 2 1 \n",
      "\n"
     ]
    }
   ],
   "source": [
    "visualizacao_quadrado_latino(n, quadrado_latino(n), backtracking_search(quadrado_latino(n)))"
   ]
  },
  {
   "cell_type": "markdown",
   "metadata": {
    "collapsed": false
   },
   "source": [
    "## Criação do problema Futoshiki *5x5*\n",
    "\n",
    "Mostrem que o código está a funcionar, construindo um problema de Futoshiki *5x5*, imprimindo as variáveis, domínios iniciais, e vizinhos. Adicione os comentários necessários. Utilize o [link](https://www.futoshiki.org/) para gerar puzzles e validar a implementação."
   ]
  },
  {
   "cell_type": "markdown",
   "metadata": {},
   "source": [
    "Para criar um problema Futoshiki vamos ter definir os elementos da matriz que estão preenchidos e estabelecer as relações de desigualdade presentes no problema."
   ]
  },
  {
   "cell_type": "code",
   "execution_count": 31,
   "metadata": {},
   "outputs": [],
   "source": [
    "preenchidos5 = {(0,3) : [2], (4,3) : [3]}\n",
    "desigualdades5 = {((3,0),(4,0)) : maior, ((0,1),(1,1)) : menor, ((0,2),(1,2)) : menor,\\\n",
    "                 ((3,3),(3,2)) : menor, ((1,4),(2,4)) : maior, ((2,4),(2,3)) : maior, \\\n",
    "                 ((4,4),(4,3)) : maior}"
   ]
  },
  {
   "cell_type": "markdown",
   "metadata": {},
   "source": [
    "Podemos então criar um problema Futoshiki 5x5 da seguinte forma"
   ]
  },
  {
   "cell_type": "code",
   "execution_count": 51,
   "metadata": {},
   "outputs": [],
   "source": [
    "futoshiki5 = futoshiki(5, preenchidos, desigualdades)"
   ]
  },
  {
   "cell_type": "markdown",
   "metadata": {},
   "source": [
    "E ver as variáveis, domínios e vizinhos"
   ]
  },
  {
   "cell_type": "code",
   "execution_count": 52,
   "metadata": {},
   "outputs": [
    {
     "name": "stdout",
     "output_type": "stream",
     "text": [
      "Variáveis =  [(0, 0), (0, 1), (0, 2), (0, 3), (0, 4), (1, 0), (1, 1), (1, 2), (1, 3), (1, 4), (2, 0), (2, 1), (2, 2), (2, 3), (2, 4), (3, 0), (3, 1), (3, 2), (3, 3), (3, 4), (4, 0), (4, 1), (4, 2), (4, 3), (4, 4)] \n",
      "\n",
      "Domínios =  {(0, 3): [2], (4, 3): [3], (0, 1): [1, 2, 3, 4, 5], (2, 4): [1, 2, 3, 4, 5], (4, 0): [1, 2, 3, 4, 5], (1, 2): [1, 2, 3, 4, 5], (3, 4): [1, 2, 3, 4, 5], (0, 4): [1, 2, 3, 4, 5], (2, 1): [1, 2, 3, 4, 5], (3, 1): [1, 2, 3, 4, 5], (0, 2): [1, 2, 3, 4, 5], (2, 2): [1, 2, 3, 4, 5], (1, 0): [1, 2, 3, 4, 5], (3, 2): [1, 2, 3, 4, 5], (1, 3): [1, 2, 3, 4, 5], (4, 1): [1, 2, 3, 4, 5], (4, 4): [1, 2, 3, 4, 5], (0, 0): [1, 2, 3, 4, 5], (1, 1): [1, 2, 3, 4, 5], (2, 0): [1, 2, 3, 4, 5], (4, 2): [1, 2, 3, 4, 5], (3, 0): [1, 2, 3, 4, 5], (1, 4): [1, 2, 3, 4, 5], (2, 3): [1, 2, 3, 4, 5], (3, 3): [1, 2, 3, 4, 5]} \n",
      "\n",
      "Vizinhos =  {(0, 0): [(0, 1), (0, 2), (0, 3), (0, 4), (1, 0), (2, 0), (3, 0), (4, 0)], (0, 1): [(0, 0), (0, 2), (0, 3), (0, 4), (1, 1), (2, 1), (3, 1), (4, 1)], (0, 2): [(0, 0), (0, 1), (0, 3), (0, 4), (1, 2), (2, 2), (3, 2), (4, 2)], (0, 3): [(0, 0), (0, 1), (0, 2), (0, 4), (1, 3), (2, 3), (3, 3), (4, 3)], (0, 4): [(0, 0), (0, 1), (0, 2), (0, 3), (1, 4), (2, 4), (3, 4), (4, 4)], (1, 0): [(0, 0), (1, 1), (1, 2), (1, 3), (1, 4), (2, 0), (3, 0), (4, 0)], (1, 1): [(0, 1), (1, 0), (1, 2), (1, 3), (1, 4), (2, 1), (3, 1), (4, 1)], (1, 2): [(0, 2), (1, 0), (1, 1), (1, 3), (1, 4), (2, 2), (3, 2), (4, 2)], (1, 3): [(0, 3), (1, 0), (1, 1), (1, 2), (1, 4), (2, 3), (3, 3), (4, 3)], (1, 4): [(0, 4), (1, 0), (1, 1), (1, 2), (1, 3), (2, 4), (3, 4), (4, 4)], (2, 0): [(0, 0), (1, 0), (2, 1), (2, 2), (2, 3), (2, 4), (3, 0), (4, 0)], (2, 1): [(0, 1), (1, 1), (2, 0), (2, 2), (2, 3), (2, 4), (3, 1), (4, 1)], (2, 2): [(0, 2), (1, 2), (2, 0), (2, 1), (2, 3), (2, 4), (3, 2), (4, 2)], (2, 3): [(0, 3), (1, 3), (2, 0), (2, 1), (2, 2), (2, 4), (3, 3), (4, 3)], (2, 4): [(0, 4), (1, 4), (2, 0), (2, 1), (2, 2), (2, 3), (3, 4), (4, 4)], (3, 0): [(0, 0), (1, 0), (2, 0), (3, 1), (3, 2), (3, 3), (3, 4), (4, 0)], (3, 1): [(0, 1), (1, 1), (2, 1), (3, 0), (3, 2), (3, 3), (3, 4), (4, 1)], (3, 2): [(0, 2), (1, 2), (2, 2), (3, 0), (3, 1), (3, 3), (3, 4), (4, 2)], (3, 3): [(0, 3), (1, 3), (2, 3), (3, 0), (3, 1), (3, 2), (3, 4), (4, 3)], (3, 4): [(0, 4), (1, 4), (2, 4), (3, 0), (3, 1), (3, 2), (3, 3), (4, 4)], (4, 0): [(0, 0), (1, 0), (2, 0), (3, 0), (4, 1), (4, 2), (4, 3), (4, 4)], (4, 1): [(0, 1), (1, 1), (2, 1), (3, 1), (4, 0), (4, 2), (4, 3), (4, 4)], (4, 2): [(0, 2), (1, 2), (2, 2), (3, 2), (4, 0), (4, 1), (4, 3), (4, 4)], (4, 3): [(0, 3), (1, 3), (2, 3), (3, 3), (4, 0), (4, 1), (4, 2), (4, 4)], (4, 4): [(0, 4), (1, 4), (2, 4), (3, 4), (4, 0), (4, 1), (4, 2), (4, 3)]} \n",
      "\n"
     ]
    }
   ],
   "source": [
    "print(\"Variáveis = \", futoshiki5.variables, \"\\n\")\n",
    "print(\"Domínios = \", futoshiki5.domains,\"\\n\")\n",
    "print(\"Vizinhos = \", futoshiki5.neighbors, \"\\n\")"
   ]
  },
  {
   "cell_type": "markdown",
   "metadata": {
    "collapsed": false
   },
   "source": [
    "Resolva o problema com o backtracking sem inferencia, com inferencia, e com uma heurística. Até que dimensão consegue resolver o problema em menos de 1 minuto?"
   ]
  },
  {
   "cell_type": "code",
   "execution_count": 33,
   "metadata": {
    "collapsed": false,
    "pycharm": {
     "name": "#%%\n"
    }
   },
   "outputs": [],
   "source": [
    "solucoesFutoshiki = {}\n",
    "temposFutoshiki = {}"
   ]
  },
  {
   "cell_type": "markdown",
   "metadata": {
    "collapsed": false,
    "pycharm": {
     "name": "#%% md\n"
    }
   },
   "source": [
    "- Backtracking sem inferência"
   ]
  },
  {
   "cell_type": "code",
   "execution_count": 53,
   "metadata": {
    "collapsed": false,
    "pycharm": {
     "name": "#%%\n"
    }
   },
   "outputs": [
    {
     "name": "stdout",
     "output_type": "stream",
     "text": [
      "Tempo médio de execução: 0.0007363411999904201\n",
      "Assignment (Futoshiki5SemInferência) =  {(0, 0): 5, (0, 1): 3, (0, 2): 1, (0, 3): 2, (0, 4): 4, (1, 0): 1, (1, 1): 4, (1, 2): 2, (1, 3): 5, (1, 4): 3, (2, 0): 4, (2, 1): 5, (2, 2): 3, (2, 3): 1, (2, 4): 2, (3, 0): 3, (3, 1): 2, (3, 2): 5, (3, 3): 4, (3, 4): 1, (4, 0): 2, (4, 1): 1, (4, 2): 4, (4, 3): 3, (4, 4): 5}\n"
     ]
    }
   ],
   "source": [
    "# Definir problema\n",
    "Futoshiki5SemInferência = futoshiki(5, preenchidos5, desigualdades5)\n",
    "# Guardar solucao\n",
    "sol_15 = backtracking_search(Futoshiki5SemInferência)\n",
    "# Calcular tempo medio executando 20 vezes\n",
    "tempo_medio15 = avg_run_time(backtracking_search,Futoshiki5SemInferência)\n",
    "# Guardar resultados\n",
    "temposFutoshiki['Futoshiki5SemInferência'] = tempo_medio15\n",
    "solucoesFutoshiki['Futoshiki5SemInferência'] = sol_15\n",
    "# Imprimir resultados\n",
    "print(f\"Tempo médio de execução: {tempo_medio15}\")\n",
    "print('Assignment (Futoshiki5SemInferência) = ',sol_15)\n"
   ]
  },
  {
   "cell_type": "markdown",
   "metadata": {
    "collapsed": false,
    "pycharm": {
     "name": "#%% md\n"
    }
   },
   "source": [
    "- Backtracking com inferência Forward Checking"
   ]
  },
  {
   "cell_type": "code",
   "execution_count": 61,
   "metadata": {
    "collapsed": false,
    "pycharm": {
     "name": "#%%\n"
    }
   },
   "outputs": [
    {
     "name": "stdout",
     "output_type": "stream",
     "text": [
      "Tempo médio de execução: 0.0008168489499666975\n",
      "Assignment (Futoshiki5ComInferência_FRWDchecking) =  {(0, 0): 5, (0, 1): 3, (0, 2): 1, (0, 3): 2, (0, 4): 4, (1, 0): 1, (1, 1): 4, (1, 2): 2, (1, 3): 5, (1, 4): 3, (2, 0): 4, (2, 1): 5, (2, 2): 3, (2, 3): 1, (2, 4): 2, (3, 0): 3, (3, 1): 2, (3, 2): 5, (3, 3): 4, (3, 4): 1, (4, 0): 2, (4, 1): 1, (4, 2): 4, (4, 3): 3, (4, 4): 5}\n"
     ]
    }
   ],
   "source": [
    "# Definir problema\n",
    "Futoshiki5ComInferência_FRWDchecking = futoshiki(5, preenchidos5, desigualdades5)\n",
    "# Resolver e guardar solucao\n",
    "sol_25 = backtracking_search(Futoshiki5ComInferência_FRWDchecking, inference=forward_checking)\n",
    "# Calcular o tempo medio de execucao\n",
    "tempo_medio25 = avg_run_time(backtracking_search, Futoshiki5ComInferência_FRWDchecking, inference=forward_checking)\n",
    "# Guardar resultados\n",
    "tempos['Futoshiki5ComInferência_FRWDchecking'] = tempo_medio25\n",
    "solucoes['Futoshiki5ComInferência_FRWDchecking'] = sol_25\n",
    "# Imprimir resultados\n",
    "print(f\"Tempo médio de execução: {tempo_medio25}\")\n",
    "print('Assignment (Futoshiki5ComInferência_FRWDchecking) = ',sol_25)"
   ]
  },
  {
   "cell_type": "markdown",
   "metadata": {},
   "source": [
    "- Backtracking com inferência Foward-Checking"
   ]
  },
  {
   "cell_type": "code",
   "execution_count": 74,
   "metadata": {},
   "outputs": [
    {
     "name": "stdout",
     "output_type": "stream",
     "text": [
      "Tempo médio de execução: 0.0008018177999929322\n",
      "Assignment (Futoshiki5_FWDCheck) =  {(0, 0): 5, (0, 1): 3, (0, 2): 1, (0, 3): 2, (0, 4): 4, (1, 0): 1, (1, 1): 4, (1, 2): 2, (1, 3): 5, (1, 4): 3, (2, 0): 4, (2, 1): 5, (2, 2): 3, (2, 3): 1, (2, 4): 2, (3, 0): 3, (3, 1): 2, (3, 2): 5, (3, 3): 4, (3, 4): 1, (4, 0): 2, (4, 1): 1, (4, 2): 4, (4, 3): 3, (4, 4): 5}\n"
     ]
    }
   ],
   "source": [
    "# Resolver e guardar solucao\n",
    "sol_35 = backtracking_search(futoshiki5, inference=forward_checking)\n",
    "# Tempo medio\n",
    "tempo_medio35 = avg_run_time(backtracking_search, futoshiki5, inference=forward_checking)\n",
    "# Guardar resultados\n",
    "tempos['Futoshiki5_FWDCheck'] = tempo_medio35\n",
    "solucoes['Futoshiki5_FWDCheck'] = sol_35\n",
    "# Imprimir resultados\n",
    "print(f\"Tempo médio de execução: {tempo_medio35}\")\n",
    "print('Assignment (Futoshiki5_FWDCheck) = ',sol_35)"
   ]
  },
  {
   "cell_type": "markdown",
   "metadata": {},
   "source": [
    "- Backtracking com inferência MAC"
   ]
  },
  {
   "cell_type": "code",
   "execution_count": 90,
   "metadata": {},
   "outputs": [
    {
     "name": "stdout",
     "output_type": "stream",
     "text": [
      "Tempo médio de execução: 0.0013611990000072182\n",
      "Assignment (Futoshiki5_MAC) =  {(0, 0): 5, (0, 1): 3, (0, 2): 1, (0, 3): 2, (0, 4): 4, (1, 0): 1, (1, 1): 4, (1, 2): 2, (1, 3): 5, (1, 4): 3, (2, 0): 4, (2, 1): 5, (2, 2): 3, (2, 3): 1, (2, 4): 2, (3, 0): 3, (3, 1): 2, (3, 2): 5, (3, 3): 4, (3, 4): 1, (4, 0): 2, (4, 1): 1, (4, 2): 4, (4, 3): 3, (4, 4): 5}\n"
     ]
    }
   ],
   "source": [
    "# Resolver e guardar solucao\n",
    "sol_45 = backtracking_search(futoshiki5, inference=mac)\n",
    "# Tempo medio\n",
    "tempo_medio45 = avg_run_time(backtracking_search, futoshiki5, inference=mac)\n",
    "# Guardar resultados\n",
    "tempos['Futoshiki5_MAC'] = tempo_medio45\n",
    "solucoes['Futoshiki5_MAC'] = sol_45\n",
    "# Imprimir resultados\n",
    "print(f\"Tempo médio de execução: {tempo_medio45}\")\n",
    "print('Assignment (Futoshiki5_MAC) = ',sol_45)"
   ]
  },
  {
   "cell_type": "markdown",
   "metadata": {},
   "source": [
    "- Backtracking com pré-processamento AC3"
   ]
  },
  {
   "cell_type": "code",
   "execution_count": 103,
   "metadata": {},
   "outputs": [
    {
     "name": "stdout",
     "output_type": "stream",
     "text": [
      "Tempo médio de execução: 0.0007378833499842585\n",
      "Assignment (Futoshiki5_AC3) =  {(0, 0): 5, (0, 1): 3, (0, 2): 1, (0, 3): 2, (0, 4): 4, (1, 0): 1, (1, 1): 4, (1, 2): 2, (1, 3): 5, (1, 4): 3, (2, 0): 4, (2, 1): 5, (2, 2): 3, (2, 3): 1, (2, 4): 2, (3, 0): 3, (3, 1): 2, (3, 2): 5, (3, 3): 4, (3, 4): 1, (4, 0): 2, (4, 1): 1, (4, 2): 4, (4, 3): 3, (4, 4): 5}\n"
     ]
    }
   ],
   "source": [
    "# Pre Processamento\n",
    "futo5_AC3 = AC3(futoshiki5)\n",
    "# Resolver e guardar\n",
    "sol_55 = backtracking_search(futo5_AC3)\n",
    "# Tempo medio\n",
    "tempo_medio55 = avg_run_time(backtracking_search, futo5_AC3)\n",
    "# Guardar resultados\n",
    "tempos['Futoshiki5_AC3'] = tempo_medio55\n",
    "solucoes['Futoshiki5_AC3'] = sol_55\n",
    "# Imprimir resultados\n",
    "print(f\"Tempo médio de execução: {tempo_medio55}\")\n",
    "print('Assignment (Futoshiki5_AC3) = ',sol_55)"
   ]
  },
  {
   "cell_type": "markdown",
   "metadata": {},
   "source": [
    "- Backtracking com heurística MRV"
   ]
  },
  {
   "cell_type": "code",
   "execution_count": 111,
   "metadata": {},
   "outputs": [
    {
     "name": "stdout",
     "output_type": "stream",
     "text": [
      "Tempo médio de execução: 0.001351907400021446\n",
      "Assignment (Futoshiki5_MRV) =  {(4, 4): 5, (0, 1): 3, (4, 0): 2, (1, 2): 2, (2, 1): 5, (2, 4): 2, (0, 0): 5, (4, 1): 1, (0, 3): 2, (4, 3): 3, (4, 2): 4, (0, 2): 1, (3, 3): 4, (1, 4): 3, (1, 0): 1, (3, 2): 5, (3, 0): 3, (2, 3): 1, (2, 0): 4, (3, 4): 1, (0, 4): 4, (2, 2): 3, (1, 1): 4, (1, 3): 5, (3, 1): 2}\n"
     ]
    }
   ],
   "source": [
    "# Resolver e guardar\n",
    "sol_65 = backtracking_search(futoshiki5, select_unassigned_variable=mrv)\n",
    "# tempo medio\n",
    "tempo_medio65 = avg_run_time(backtracking_search, futoshiki5, select_unassigned_variable=mrv)\n",
    "# Guardar resultados\n",
    "tempos['Futoshiki5_MRV'] = tempo_medio65\n",
    "solucoes['Futoshiki5_MRV'] = sol_65\n",
    "# Imprimir resultados\n",
    "print(f\"Tempo médio de execução: {tempo_medio65}\")\n",
    "print('Assignment (Futoshiki5_MRV) = ',sol_65)"
   ]
  },
  {
   "cell_type": "markdown",
   "metadata": {},
   "source": [
    "- Backtracking com Heurística MRV, Inferência Forward-Checking e pré-processamento AC3"
   ]
  },
  {
   "cell_type": "code",
   "execution_count": 113,
   "metadata": {},
   "outputs": [
    {
     "name": "stdout",
     "output_type": "stream",
     "text": [
      "Tempo médio de execução: 0.001351907400021446\n",
      "Assignment (Futoshiki5HeuristicaInferenciaAC3) =  {(3, 3): 4, (0, 4): 4, (2, 4): 2, (3, 0): 3, (2, 3): 1, (3, 4): 1, (1, 1): 4, (4, 3): 3, (2, 2): 3, (0, 0): 5, (1, 3): 5, (2, 0): 4, (0, 2): 1, (4, 0): 2, (3, 1): 2, (3, 2): 5, (0, 1): 3, (4, 4): 5, (1, 2): 2, (1, 0): 1, (4, 2): 4, (4, 1): 1, (1, 4): 3, (2, 1): 5, (0, 3): 2}\n"
     ]
    }
   ],
   "source": [
    "# Pre processamento \n",
    "futo5_ac3 = AC3(futoshiki5)\n",
    "# Resolver e guardar\n",
    "sol_75 = backtracking_search(futo5_ac3, select_unassigned_variable=mrv, inference=mac)\n",
    "# tempo medio\n",
    "tempo_medio75 = avg_run_time(backtracking_search, futo5_ac3, select_unassigned_variable=mrv, inference=mac)\n",
    "# Guardar resultados\n",
    "tempos['Futoshiki5HeuristicaInferenciaAC3'] = tempo_medio75\n",
    "solucoes['Futoshiki5HeuristicaInferenciaAC3'] = sol_75\n",
    "# Imprimir resultados\n",
    "print(f\"Tempo médio de execução: {tempo_medio65}\")\n",
    "print('Assignment (Futoshiki5HeuristicaInferenciaAC3) = ',sol_75)"
   ]
  },
  {
   "cell_type": "markdown",
   "metadata": {},
   "source": [
    "Para a nossa configuração encontramos que um problema 7x7 de dificuldade extrema do website indicado no enunciado do projeto, tem um tempo de execução por volta de 60 segundos. Portanto conseguimos resolver problemas 6x6 em menos de 1 minuto, e alguns problemas 7x7 mais simples em menos de um minuto.  \n",
    "<br>\n",
    "Isto permite-nos concluir que a complexidade das restrições de desigualdade impostas no problema vão afetar bastante o tempo de procura."
   ]
  },
  {
   "cell_type": "code",
   "execution_count": 116,
   "metadata": {},
   "outputs": [
    {
     "name": "stdout",
     "output_type": "stream",
     "text": [
      "Tempo de execução: 3.87209727499976\n",
      "Estado Inicial:\n",
      "0   0 < 0 < 0   4   0 > 0\n",
      "        ∨           ∨    \n",
      "0 > 0 > 0 < 0   0 < 0   0\n",
      "        ∨           ∧    \n",
      "0 > 0   0   2   0   0   0\n",
      "    ∨   ∧                \n",
      "0 > 0   0 < 0   0 < 0   0\n",
      "∧   ∨                   ∨\n",
      "0   0   0   0 < 0 < 0   0\n",
      "            ∨            \n",
      "0   0   0   0   0   0   0\n",
      "∧           ∧            \n",
      "0   0   0   0   0   0   0\n",
      "                         \n",
      "\n",
      "Solução:\n",
      "1   2 < 3 < 7   4   6 > 5\n",
      "        ∨           ∨    \n",
      "7 > 6 > 2 < 5   3 < 4   1\n",
      "        ∨           ∧    \n",
      "6 > 4   1   2   7   5   3\n",
      "    ∨   ∧                \n",
      "4 > 3   5 < 6   1 < 2   7\n",
      "∧   ∨                   ∨\n",
      "5   1   4   3 < 6 < 7   2\n",
      "            ∨            \n",
      "2   7   6   1   5   3   4\n",
      "∧           ∧            \n",
      "3   5   7   4   2   1   6\n",
      "                         \n",
      "\n"
     ]
    }
   ],
   "source": [
    "preenchidos7ext = {(3,2) : [2], (4,0) : [4]}\n",
    "desigualdades7ext = {((1,0),(2,0)):menor, ((2,0),(3,0)):menor, ((5,0),(6,0)): maior, ((2,1),(2,0)):menor, ((5,1),(5,0)):menor, ((0,1),(1,1)):maior, ((1,1),(2,1)):maior, ((2,1),(3,1)): menor, ((4,1),(5,1)):menor, ((2,2),(2,1)): menor, ((5,2),(5,1)): maior, ((1,3),(1,2)): menor, ((2,3),(2,2)): maior, ((0,3),(1,3)):maior, ((2,3),(3,3)):menor, ((4,3),(5,3)): menor, ((0,4),(0,3)):maior,((1,4),(1,3)):menor,((6,4),(6,3)):menor, ((3,4),(4,4)):menor,((4,4),(5,4)):menor,((3,6),(3,5)):maior, ((3,5),(3,4)):menor, ((0,6),(0,5)): maior, ((0,2),(1,2)): maior}\n",
    "futoshiki7Extreme = futoshiki(7, preenchidos7ext, desigualdades7ext)\n",
    "\n",
    "\n",
    "futo7_ac3 = AC3(futoshiki7Extreme)\n",
    "start = timeit.default_timer()\n",
    "sol_futo7ext = backtracking_search(futo7_ac3, inference=forward_checking)\n",
    "end = timeit.default_timer()\n",
    "print(f\"Tempo de execução: {end-start}\")\n",
    "visualizacao_futoshiki(7, futoshiki7Extreme, desigualdades7ext, sol_futo7ext)"
   ]
  },
  {
   "cell_type": "markdown",
   "metadata": {},
   "source": [
    "Futoshiki 9x9 dificuldade extrema de acordo com o website  \n",
    "\n",
    "Isto foi desperdicio de tempo pq nao esta a encontrar solucao em tempo util :("
   ]
  },
  {
   "cell_type": "code",
   "execution_count": 55,
   "metadata": {},
   "outputs": [],
   "source": [
    "preenchidos9x9 = {(0,0) :  [6], (6,0) : [3], (2,1) : [2], (5,4) : [4], (2,6) : [3], (0,7) : [4], \\\n",
    "                  (2,8) : [6], (4,8) : [5], (8,8) : [8]}\n",
    "\n",
    "# Quero chorar\n",
    "desigualdades9x9 = {((0,0),(1,0)) : menor, ((1,1),(1,0)) : maior, ((3,1),(4,1)) : maior, ((4,1),(5,1)) : maior, \\\n",
    "                    ((7,1),(7,0)) : menor, ((7,1),(8,1)) : maior, ((0,2),(0,1)) : maior, ((2,2),(2,1)) : maior, \\\n",
    "                    ((4,2),(4,1)) : maior, ((5,2),(6,2)) : menor, ((6,2),(6,1)) : menor, ((8,2),(8,1)) : menor, \\\n",
    "                    ((3,3),(3,2)) : menor, ((3,3),(4,3)) : menor, ((7,3),(7,2)) : menor, ((8,3),(8,2)) : menor, \\\n",
    "                    ((0,4),(1,4)) : menor, ((2,4),(3,4)) : maior, ((4,4),(4,3)) : maior, ((6,4),(7,4)) : menor, \\\n",
    "                    ((7,4),(8,4)) : menor, ((0,5),(1,5)) : maior, ((1,5),(1,4)) : maior, ((7,4),(7,3)) : menor, \\\n",
    "                    ((6,5),(7,5)) : maior, ((7,5),(8,5)) : menor, ((3,6),(4,6)) : maior, ((5,6),(5,5)) : menor, \\\n",
    "                    ((6,6),(7,6)) : maior, ((7,6),(7,5)) : menor, ((7,6),(8,6)) : menor, ((0,7),(0,6)) : menor, \\\n",
    "                    ((3,7),(4,7)) : menor, ((4,7),(4,6)) : menor, ((7,7),(7,6)) : menor, ((1,8),(2,8)) : maior, \\\n",
    "                    ((2,8),(2,7)) : menor, ((4,8),(4,7)) : menor, ((7,8),(8,8)) : maior}"
   ]
  },
  {
   "cell_type": "code",
   "execution_count": 127,
   "metadata": {},
   "outputs": [],
   "source": [
    "futoshiki9 = futoshiki(9, preenchidos9x9, desigualdades9x9)"
   ]
  },
  {
   "cell_type": "code",
   "execution_count": 133,
   "metadata": {},
   "outputs": [
    {
     "name": "stdout",
     "output_type": "stream",
     "text": [
      "False\n"
     ]
    },
    {
     "ename": "AttributeError",
     "evalue": "'bool' object has no attribute 'variables'",
     "output_type": "error",
     "traceback": [
      "\u001b[0;31m---------------------------------------------------------------------------\u001b[0m",
      "\u001b[0;31mAttributeError\u001b[0m                            Traceback (most recent call last)",
      "\u001b[0;32m/tmp/ipykernel_3492/3675951691.py\u001b[0m in \u001b[0;36m<module>\u001b[0;34m\u001b[0m\n\u001b[1;32m      2\u001b[0m \u001b[0mprint\u001b[0m\u001b[0;34m(\u001b[0m\u001b[0mfuto9_ac3\u001b[0m\u001b[0;34m)\u001b[0m\u001b[0;34m\u001b[0m\u001b[0;34m\u001b[0m\u001b[0m\n\u001b[1;32m      3\u001b[0m \u001b[0mstart\u001b[0m \u001b[0;34m=\u001b[0m \u001b[0mtimeit\u001b[0m\u001b[0;34m.\u001b[0m\u001b[0mdefault_timer\u001b[0m\u001b[0;34m(\u001b[0m\u001b[0;34m)\u001b[0m\u001b[0;34m\u001b[0m\u001b[0;34m\u001b[0m\u001b[0m\n\u001b[0;32m----> 4\u001b[0;31m \u001b[0msol_sad\u001b[0m \u001b[0;34m=\u001b[0m \u001b[0mbacktracking_search\u001b[0m\u001b[0;34m(\u001b[0m\u001b[0mfuto9_ac3\u001b[0m\u001b[0;34m)\u001b[0m\u001b[0;34m\u001b[0m\u001b[0;34m\u001b[0m\u001b[0m\n\u001b[0m\u001b[1;32m      5\u001b[0m \u001b[0mvisualizacao_futoshiki\u001b[0m\u001b[0;34m(\u001b[0m\u001b[0;36m9\u001b[0m\u001b[0;34m,\u001b[0m \u001b[0mfutoshiki9\u001b[0m\u001b[0;34m,\u001b[0m \u001b[0mdesigualdades9x9\u001b[0m\u001b[0;34m,\u001b[0m \u001b[0msol_sad\u001b[0m\u001b[0;34m)\u001b[0m\u001b[0;34m\u001b[0m\u001b[0;34m\u001b[0m\u001b[0m\n\u001b[1;32m      6\u001b[0m \u001b[0mend\u001b[0m \u001b[0;34m=\u001b[0m \u001b[0mtimeit\u001b[0m\u001b[0;34m.\u001b[0m\u001b[0mdefault_timer\u001b[0m\u001b[0;34m(\u001b[0m\u001b[0;34m)\u001b[0m\u001b[0;34m\u001b[0m\u001b[0;34m\u001b[0m\u001b[0m\n",
      "\u001b[0;32m~/OneDrive/Faculdade/Sistemas Inteligentes/ProjetoSI/Projeto2/projeto2-SI/csp.py\u001b[0m in \u001b[0;36mbacktracking_search\u001b[0;34m(csp, select_unassigned_variable, order_domain_values, inference, verbose)\u001b[0m\n\u001b[1;32m    356\u001b[0m         \u001b[0;32mreturn\u001b[0m \u001b[0;32mNone\u001b[0m\u001b[0;34m\u001b[0m\u001b[0;34m\u001b[0m\u001b[0m\n\u001b[1;32m    357\u001b[0m \u001b[0;34m\u001b[0m\u001b[0m\n\u001b[0;32m--> 358\u001b[0;31m     \u001b[0mresult\u001b[0m \u001b[0;34m=\u001b[0m \u001b[0mbacktrack\u001b[0m\u001b[0;34m(\u001b[0m\u001b[0;34m{\u001b[0m\u001b[0;34m}\u001b[0m\u001b[0;34m)\u001b[0m\u001b[0;34m\u001b[0m\u001b[0;34m\u001b[0m\u001b[0m\n\u001b[0m\u001b[1;32m    359\u001b[0m     \u001b[0;32massert\u001b[0m \u001b[0mresult\u001b[0m \u001b[0;32mis\u001b[0m \u001b[0;32mNone\u001b[0m \u001b[0;32mor\u001b[0m \u001b[0mcsp\u001b[0m\u001b[0;34m.\u001b[0m\u001b[0mgoal_test\u001b[0m\u001b[0;34m(\u001b[0m\u001b[0mresult\u001b[0m\u001b[0;34m)\u001b[0m\u001b[0;34m\u001b[0m\u001b[0;34m\u001b[0m\u001b[0m\n\u001b[1;32m    360\u001b[0m     \u001b[0;32mreturn\u001b[0m \u001b[0mresult\u001b[0m\u001b[0;34m\u001b[0m\u001b[0;34m\u001b[0m\u001b[0m\n",
      "\u001b[0;32m~/OneDrive/Faculdade/Sistemas Inteligentes/ProjetoSI/Projeto2/projeto2-SI/csp.py\u001b[0m in \u001b[0;36mbacktrack\u001b[0;34m(assignment)\u001b[0m\n\u001b[1;32m    320\u001b[0m \u001b[0;34m\u001b[0m\u001b[0m\n\u001b[1;32m    321\u001b[0m     \u001b[0;32mdef\u001b[0m \u001b[0mbacktrack\u001b[0m\u001b[0;34m(\u001b[0m\u001b[0massignment\u001b[0m\u001b[0;34m)\u001b[0m\u001b[0;34m:\u001b[0m\u001b[0;34m\u001b[0m\u001b[0;34m\u001b[0m\u001b[0m\n\u001b[0;32m--> 322\u001b[0;31m         \u001b[0;32mif\u001b[0m \u001b[0mlen\u001b[0m\u001b[0;34m(\u001b[0m\u001b[0massignment\u001b[0m\u001b[0;34m)\u001b[0m \u001b[0;34m==\u001b[0m \u001b[0mlen\u001b[0m\u001b[0;34m(\u001b[0m\u001b[0mcsp\u001b[0m\u001b[0;34m.\u001b[0m\u001b[0mvariables\u001b[0m\u001b[0;34m)\u001b[0m\u001b[0;34m:\u001b[0m\u001b[0;34m\u001b[0m\u001b[0;34m\u001b[0m\u001b[0m\n\u001b[0m\u001b[1;32m    323\u001b[0m             \u001b[0;32mreturn\u001b[0m \u001b[0massignment\u001b[0m\u001b[0;34m\u001b[0m\u001b[0;34m\u001b[0m\u001b[0m\n\u001b[1;32m    324\u001b[0m         \u001b[0;32mif\u001b[0m \u001b[0mverbose\u001b[0m\u001b[0;34m:\u001b[0m\u001b[0;34m\u001b[0m\u001b[0;34m\u001b[0m\u001b[0m\n",
      "\u001b[0;31mAttributeError\u001b[0m: 'bool' object has no attribute 'variables'"
     ]
    }
   ],
   "source": [
    "futo9_ac3 = AC3(futoshiki9)\n",
    "print(futo9_ac3)\n",
    "start = timeit.default_timer()\n",
    "sol_sad = backtracking_search(futo9_ac3)\n",
    "visualizacao_futoshiki(9, futoshiki9, desigualdades9x9, sol_sad)\n",
    "end = timeit.default_timer()\n",
    "print(f\"Tempo de execução: {end-start}\")"
   ]
  },
  {
   "cell_type": "markdown",
   "metadata": {},
   "source": [
    "## Visualização do problema"
   ]
  },
  {
   "cell_type": "code",
   "execution_count": 25,
   "metadata": {},
   "outputs": [],
   "source": [
    "def visualizacao_futoshiki(n, problema_csp, desigualdades, solucao):\n",
    "    \n",
    "    def mapeamento_2D_para_1D(x,y):\n",
    "        return y*(n+(n-1)*3+1) + x\n",
    "\n",
    "    def escrita_numeros(x,y):\n",
    "        return mapeamento_2D_para_1D(x*4, y*2)\n",
    "    \n",
    "    def escrita_desigualdades_linha(x,y):\n",
    "        return mapeamento_2D_para_1D(x*4+2, y*2)\n",
    "    \n",
    "    def escrita_desigualdades_coluna(x,y):\n",
    "        return mapeamento_2D_para_1D(x*4, y*2-1)\n",
    "\n",
    "    def escrever_desigualdade(operacao, direcao):\n",
    "        if direcao == \"x\":\n",
    "            if operacao.__name__ == \"maior\":\n",
    "                return '>'\n",
    "            else:\n",
    "                return '<'\n",
    "        else:\n",
    "            if operacao.__name__ == \"maior\":\n",
    "                return u\"\\u2227\" # Carater ∧\n",
    "            else:\n",
    "                return u\"\\u2228\" # Carater ∨\n",
    "\n",
    "    board_inicial = ([\" \"] * (n+(n-1)*3) + [\"\\n\"]) * (n*2)\n",
    "    for var, dom in problema_csp.domains.items():\n",
    "        if len(dom) == 1:\n",
    "            board_inicial[escrita_numeros(var[0],var[1])] = str(dom[0])\n",
    "        else:\n",
    "            board_inicial[escrita_numeros(var[0],var[1])] = \"0\"\n",
    "    for var, operacao in desigualdades.items():\n",
    "        if (var[0][1] == var[1][1]):\n",
    "            board_inicial[escrita_desigualdades_linha(var[0][0],var[0][1])] = escrever_desigualdade(operacao, \"x\")\n",
    "        else:\n",
    "            board_inicial[escrita_desigualdades_coluna(var[0][0],var[0][1])] = escrever_desigualdade(operacao, \"y\")\n",
    "    \n",
    "    board_final = board_inicial.copy()\n",
    "    for var, valor in solucao.items():\n",
    "        board_final[escrita_numeros(var[0],var[1])] = str(valor)\n",
    "    \n",
    "\n",
    "    print(\"Estado Inicial:\")\n",
    "    print(''.join(board_inicial))\n",
    "    print(\"Solução:\")\n",
    "    print(''.join(board_final))"
   ]
  },
  {
   "cell_type": "markdown",
   "metadata": {},
   "source": [
    "Podemos agora visualizar o problema futoshiki 5x5"
   ]
  },
  {
   "cell_type": "code",
   "execution_count": 17,
   "metadata": {},
   "outputs": [
    {
     "name": "stdout",
     "output_type": "stream",
     "text": [
      "Estado Inicial:\n",
      "0   0   0   0 > 0\n",
      "                 \n",
      "0 < 0   0   0   0\n",
      "                 \n",
      "0 < 0   0   0   0\n",
      "            ∨    \n",
      "2   0   0   0   3\n",
      "        ∧       ∧\n",
      "0   0 > 0   0   0\n",
      "                 \n",
      "\n",
      "Solução:\n",
      "5   1   4   3 > 2\n",
      "                 \n",
      "3 < 4   5   2   1\n",
      "                 \n",
      "1 < 2   3   5   4\n",
      "            ∨    \n",
      "2   5   1   4   3\n",
      "        ∧       ∧\n",
      "4   3 > 2   1   5\n",
      "                 \n",
      "\n"
     ]
    }
   ],
   "source": [
    "visualizacao_futoshiki(5, futoshiki5, desigualdades, backtracking_search(futoshiki5))"
   ]
  }
 ],
 "metadata": {
  "interpreter": {
   "hash": "ca0a6ed6c3687464969dd6147ab8a98b55d02ef7a9aec76841b10aa7e05a39c3"
  },
  "kernelspec": {
   "display_name": "Python 3.9.7 ('base')",
   "language": "python",
   "name": "python3"
  },
  "language_info": {
   "codemirror_mode": {
    "name": "ipython",
    "version": 3
   },
   "file_extension": ".py",
   "mimetype": "text/x-python",
   "name": "python",
   "nbconvert_exporter": "python",
   "pygments_lexer": "ipython3",
   "version": "3.9.7"
  },
  "orig_nbformat": 4
 },
 "nbformat": 4,
 "nbformat_minor": 2
}
