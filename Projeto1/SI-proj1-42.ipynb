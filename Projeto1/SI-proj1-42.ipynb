{
 "cells": [
  {
   "cell_type": "markdown",
   "id": "bf9c87b1",
   "metadata": {},
   "source": [
    "# Sistemas Inteligentes 2021/2022\n",
    "\n",
    "## Mini-projeto 1: Pacman comilão\n",
    "\n",
    "<img src=\"pacman.png\" alt=\"Drawing\" style=\"width: 100px;\"/>"
   ]
  },
  {
   "cell_type": "markdown",
   "id": "d7b8efca",
   "metadata": {},
   "source": [
    "## Grupo: 42\n",
    "\n",
    "### Elementos do Grupo\n",
    "\n",
    "Número:  53687       Nome:   Ariana Dias   \n",
    "Número:  53746       Nome:   Andrei Tataru  \n",
    "Número:  51127       Nome:   Luís Ferreirinha  \n",
    "\n",
    "(Nota: Neste relatório pode adicionar as células de texto e código que achar necessárias.)"
   ]
  },
  {
   "cell_type": "markdown",
   "id": "df10acb0",
   "metadata": {},
   "source": [
    "## Representação dos estados\n",
    "\n",
    "(descreva aqui, textualmente, como decidiu representar os estados em Python; ilustre nas células de código abaixo a representação em Python de um estado à sua escolha)"
   ]
  },
  {
   "cell_type": "markdown",
   "id": "c0b86318",
   "metadata": {},
   "source": [
    "Para representar-mos os estados em python, decidimos criar uma classe EspacoPacman, onde cada objeto desta classe representa um estado do nosso problema, para este problema em concreto decidimos que estes objetos devem guardar a posição do pacman, o número de pontos acumulados, o tempo desde a ultima captura de uma pastilha, casas visitadas e número de vezes que foram visitadas e finalmente as coordenadas e tipo das pastilhas que ainda se encontram no campo.\n",
    "\n",
    "- Representação dos Estados:  \n",
    "    - Posição Pacman: tuple $\\left(x,y\\right)$ onde $x,y$ são inteiros\n",
    "    - Pontos: inteiro p\n",
    "    - Tempo: inteiro t\n",
    "    - Casas Visitadas: dicionário onde os elementos têm a seguinte forma $\\{(x,y) : n\\}$, $x,y,n$ são inteiros e $n$ representa o número de visitas a essa casa.\n",
    "    - Conjunto das Pastilhas: dicionário onde os elementos têm a seguinte forma $\\{(x,y) : tipo\\}$, $x,y$ são inteiros e tipo é um character que representa o tipo da pastilha\n"
   ]
  },
  {
   "cell_type": "code",
   "execution_count": 36,
   "id": "15d946c3",
   "metadata": {},
   "outputs": [],
   "source": [
    "# se definiu uma classe para representar os estados, inclua aqui o código Python correspondente\n",
    "import copy\n",
    "\n",
    "class EstadoPacman():\n",
    "    \"\"\"Objetos desta classe representam um estado do espaço do problema Pacman comilao\n",
    "    \"\"\"\n",
    "\n",
    "    def __init__(self, posicao_pacman, pastilhas, pontos=0, tempo=0, visitas={}):\n",
    "        self.pos = posicao_pacman\n",
    "        self.pontos = pontos\n",
    "        self.tempo = tempo\n",
    "        self.pastilhas = copy.deepcopy(pastilhas)\n",
    "        if visitas == {}:\n",
    "            self.visitas = {posicao_pacman : 1}\n",
    "        else:\n",
    "            self.visitas = copy.deepcopy(visitas)\n",
    "\n",
    "    def __lt__(self, other):\n",
    "        return self.pontos < other.pontos\n",
    "            \n",
    "    def __eq__(self,other):\n",
    "        if not isinstance(other, EstadoPacman): return False\n",
    "        return other.pos == self.pos and other.pontos == self.pontos and other.tempo == self.tempo \\\n",
    "            and other.pastilhas == self.pastilhas and other.visitas == self.visitas\n",
    "    \n",
    "    def __hash__(self):\n",
    "        return hash((self.pos, self.pontos, self.tempo)) + \\\n",
    "               hash(frozenset(self.pastilhas)) + \\\n",
    "               hash(frozenset(self.visitas))\n",
    "\n",
    "    def __repr__(self):\n",
    "        return str([self.pos, self.pontos, self.tempo, self.pastilhas, self.visitas])\n",
    "\n",
    "    def __str__(self):\n",
    "        return f\"Posição Pacman: {self.pos}\\nPontos: {self.pontos}\\nTempo desde última pastilha: {self.tempo}\\\n",
    "                \\nPastilhas restantes: {self.pastilhas}\\nCasas Visitadas: {self.visitas}\"\n"
   ]
  },
  {
   "cell_type": "markdown",
   "id": "8006d980",
   "metadata": {},
   "source": [
    "Vamos representar o seguinte estado:\n",
    "-   Pacman está em (1,2)\n",
    "-   Tem 2 pontos\n",
    "-   Passaram 2 unidades de tempo desda a última pastilha comida\n",
    "-   Restam as seguintes pastilhas: {(5,6) : \"N\", (3,2) : \"D\"}\n",
    "-   Foram visitadas as seguintes casas: {(0,0) : 1, (1,0) : 1, (1,1) : 1, (1,2) : 1}"
   ]
  },
  {
   "cell_type": "code",
   "execution_count": 31,
   "id": "d335aebe",
   "metadata": {},
   "outputs": [
    {
     "data": {
      "text/plain": [
       "True"
      ]
     },
     "execution_count": 31,
     "metadata": {},
     "output_type": "execute_result"
    }
   ],
   "source": [
    "# representação de um estado à sua escolha\n",
    "# Criamos um objecto do tipo EstadoPacman com os parametros anteriores\n",
    "pastilhas_exemplo = {(5,6) : \"N\", (3,2) : \"D\"}\n",
    "visitas_exemplo = {(0,0) : 1, (1,0) : 1, (1,1) : 1, (1,2) : 1}\n",
    "estado_exemplo = EstadoPacman((1,2), pastilhas_exemplo , 2, 2, visitas_exemplo)"
   ]
  },
  {
   "cell_type": "markdown",
   "id": "e0846a0f",
   "metadata": {},
   "source": [
    "Como foi definido o método ```__str__``` para esta classe podemos imprimir o objecto para visualizar melhor o estado"
   ]
  },
  {
   "cell_type": "code",
   "execution_count": 40,
   "id": "ba6f1258",
   "metadata": {},
   "outputs": [
    {
     "name": "stdout",
     "output_type": "stream",
     "text": [
      "Posição Pacman: (1, 2)\n",
      "Pontos: 2\n",
      "Tempo desde última pastilha: 2                \n",
      "Pastilhas restantes: {(5, 6): 'N', (3, 2): 'D'}\n",
      "Casas Visitadas: {(0, 0): 1, (1, 0): 1, (1, 1): 1, (1, 2): 1}\n"
     ]
    }
   ],
   "source": [
    "print(estado_exemplo)"
   ]
  },
  {
   "cell_type": "markdown",
   "id": "4ab69211",
   "metadata": {},
   "source": [
    "## Formulação do problema\n",
    "\n",
    "(explique textualmente como decidiu formular em Python o seu problema)"
   ]
  },
  {
   "cell_type": "markdown",
   "id": "fe2fcd8c",
   "metadata": {},
   "source": [
    "- Goal Test: Pontos Totais = Pontos Objetivo\n",
    "\n",
    "- Operadores:  \n",
    "    - Mover-se numa das quatro direcções ortogonais para as quatro células vizinhas, se não for impedido pelos limites do mundo nem por obstáculos:  \n",
    "        - Norte: $(x,y) \\to (x+1,y)$\n",
    "        - Sul: $(x,y) \\to (x-1,y$\n",
    "        - Este: $(x,y) \\to (x,y+1)$\n",
    "        - Oeste: $(x,y) \\to (x,y-1)$\n",
    "    - Se a casa onde o pacman se encontra contem uma pastilha, ele come a pastilha, removendo esta e adicionando os respetivos pontos ao seu total de pontos:\n",
    "        - Pontos Totais = Pontos Totais + Pontos da Pastilha"
   ]
  },
  {
   "cell_type": "code",
   "execution_count": 35,
   "id": "c5327f4f",
   "metadata": {},
   "outputs": [],
   "source": [
    "from searchPlus import *\n",
    "import copy\n",
    "\n",
    "class PacmanPastilhas(Problem):\n",
    "\n",
    "    moves = {\"N\" : (0,-1), \"S\" : (0,1), \"E\" : (-1,0), \"O\" : (1,0)}\n",
    "\n",
    "    def __init__(self, pos, objetivo, pastilhas, obstaculos, dimensao):\n",
    "        \n",
    "        #super().__init__(EstadoPacman(pos, pastilhas), goal=objetivo)\n",
    "        self.initial = EstadoPacman(pos, pastilhas)\n",
    "        self.goal = objetivo\n",
    "        self.obstacles = obstaculos\n",
    "        self.dim = dimensao\n",
    "        \n",
    "\n",
    "    def calculate_points(time, pastilha):\n",
    "        if pastilha == \"N\":\n",
    "            return 1\n",
    "        elif pastilha == \"D\":\n",
    "            return max(0,5-time)\n",
    "        else:\n",
    "            return time\n",
    "    \n",
    "    def calculate_position(pos, direction):\n",
    "        return (pos[0]+self.moves[direction][0], pos[1]+self.moves[direction][1])\n",
    "\n",
    "    def actions(self, state):\n",
    "        return [d for d in self.moves.keys() if self.calculate_position(state.pos,d) not in self.obstacles]\n",
    "\n",
    "    def result(self, state, action):\n",
    "        new_position = self.calculate_position(state.pos, action)\n",
    "        new_visitas = copy.deepcopy(state.visitas)\n",
    "        if new_position in new_visitas.keys():\n",
    "            new_visitas[new_position] += 1\n",
    "        else:\n",
    "            new_visitas[new_position] = 1\n",
    "\n",
    "        if new_position in state.pastilhas.keys():\n",
    "            new_points = state.pontos + self.calculate_points(state.tempo, state.pastilhas[new_position])\n",
    "            new_pastilhas = copy.deepcopy(state.pastilhas)\n",
    "            new_pastilhas.pop(new_position)\n",
    "            new_time = 0\n",
    "            return EstadoPacman(new_position, new_pastilhas, new_points, new_time, new_visitas)\n",
    "        \n",
    "        return EstadoPacman(new_position, state.pastilhas, state.pontos, state.tempo+1, new_visitas)\n",
    "\n",
    "\n",
    "    def path_cost(self, cost, state, action, next_state):\n",
    "        return cost+next_state.visitas[next_state.pos]\n",
    "\n",
    "    def display(self, state):\n",
    "        board = \"\"\n",
    "        for y in range(self.dim):\n",
    "            for x in range(self.dim):\n",
    "                if state.pos == (x,y):\n",
    "                    board += \"@ \"\n",
    "                elif (x,y) in self.obstacles:\n",
    "                    board += \"# \"\n",
    "                elif (x,y) in state.pastilhas.keys():\n",
    "                    board += f\"{state.pastilhas[(x,y)]} \"\n",
    "                else:\n",
    "                    board += \". \"\n",
    "            board += \"\\n\"\n",
    "        print(board)\n",
    "\n",
    "    def goal_test(self, state):\n",
    "        return state.points == self.goal"
   ]
  },
  {
   "cell_type": "markdown",
   "id": "f46b1688",
   "metadata": {},
   "source": [
    "## Criação de estados e do problema\n",
    "\n",
    "(Mostrem que o código está a funcionar, construindo instâncias da classe **PacmanPastilhas**, fazendo display dos estados, verificando o teste do estado final, gerando as ações para alguns estados, executando ações a partir de alguns estados e gerando novos estados e mostrando a evolução dos custos; verificando que os estados não se modificam com as ações (são gerados novos estados) e que a igualdade e a comparação entre estados funciona. Mostrem que a execução de sequências de ações está a funcionar bem.)"
   ]
  },
  {
   "cell_type": "code",
   "execution_count": null,
   "id": "0b95b771",
   "metadata": {},
   "outputs": [],
   "source": [
    "# código de teste do problema\n",
    "\n",
    "def line(x, y, dx, dy, length):\n",
    "    \"\"\"Uma linha de células de comprimento 'length' começando em (x, y) na direcção (dx, dy).\"\"\"\n",
    "    return {(x + i * dx, y + i * dy) for i in range(length)}\n",
    "\n",
    "def quadro(x, y, length):\n",
    "    \"\"\"Uma moldura quadrada de células de comprimento 'length' começando no topo esquerdo (x, y).\"\"\"\n",
    "    return line(x,y,0,1,length) | line(x+length-1,y,0,1,length) | line(x,y,1,0,length) | line(x,y+length-1,1,0,length)\n",
    "\n",
    "def exec(p,estado,accoes):\n",
    "    custo = 0\n",
    "    for a in accoes:\n",
    "        seg = p.result(estado,a)\n",
    "        custo = p.path_cost(custo,estado,a,seg)\n",
    "        estado = seg\n",
    "    p.display(estado)\n",
    "    print('Custo:',custo)\n",
    "    print('Goal?',p.goal_test(estado))\n",
    "    return (estado,custo)"
   ]
  },
  {
   "cell_type": "markdown",
   "id": "14a095c8",
   "metadata": {},
   "source": [
    "## Teste de procura de solução\n",
    "\n",
    "(utilização de algoritmos de procura aprendidos nas aulas e comparação dos resultados ao nível de tempo de execução e solução obtida; comente aqui os resultados obtidos e o que observa)"
   ]
  },
  {
   "cell_type": "code",
   "execution_count": null,
   "id": "06577d27",
   "metadata": {},
   "outputs": [],
   "source": [
    "# código de aplicação dos algoritmos"
   ]
  }
 ],
 "metadata": {
  "kernelspec": {
   "display_name": "Python 3 (ipykernel)",
   "language": "python",
   "name": "python3"
  },
  "language_info": {
   "codemirror_mode": {
    "name": "ipython",
    "version": 3
   },
   "file_extension": ".py",
   "mimetype": "text/x-python",
   "name": "python",
   "nbconvert_exporter": "python",
   "pygments_lexer": "ipython3",
   "version": "3.9.7"
  }
 },
 "nbformat": 4,
 "nbformat_minor": 5
}
