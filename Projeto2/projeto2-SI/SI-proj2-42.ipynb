{
 "cells": [
  {
   "cell_type": "markdown",
   "id": "bf9c87b1",
   "metadata": {},
   "source": [
    "# Sistemas Inteligentes 2021/2022\n",
    "\n",
    "## Mini-projeto 2: Quadrados Latinos\n"
   ]
  },
  {
   "cell_type": "markdown",
   "id": "d7b8efca",
   "metadata": {},
   "source": [
    "## Grupo: 42\n",
    "\n",
    "### Elementos do Grupo\n",
    "\n",
    "Número:  53687       Nome:   Ariana Dias  \n",
    "Número:  53746       Nome:   Andrei Tataru  \n",
    "Número:  51127       Nome:   Luís Ferreirinha  \n",
    "\n",
    "(Nota: Neste relatório pode adicionar as células de texto e código que achar necessárias.)"
   ]
  },
  {
   "cell_type": "markdown",
   "id": "df10acb0",
   "metadata": {},
   "source": [
    "## Representação de variáveis, domínios, vizinhos e restrições\n",
    "\n",
    "O problema dos quadrados latinos pode ser representado como uma matriz $n \\times n$ em que cada linha e coluna contêm exatmente um número de $1$ a $n$.  \n",
    "\n",
    "Então para caracterizar este CSP em python obtamos pelas seguintes escolhas:  \n",
    "\n",
    "- Variáveis:  \n",
    "  \n",
    "    Cada variável no nosso problema vai representar o valor atribuiado a um elemento da matriz.  \n",
    "    Então em python representamos o conjunto das variáveis como uma lista das coordenadas de cada\n",
    "    elemento na matriz:    \n",
    "    -  var $=[(i_1,j_1),...,(i_n,j_n)]$  \n",
    "<br>\n",
    "- Domínios:  \n",
    "  \n",
    "    Neste problema cada variável pode tomar um valor de $1,...,n$, exceto de houver condições iniciais.\n",
    "    Portanto em python decidimos utilizar um dicionário, onde as chaves são as variáveis e estas correspondem a uma lista de inteiros contento os valores possíveis para aquela variável:\n",
    "    \n",
    "    - dominio $=\\{(i_1,j_1) = [1,..,n], ...\\}$  \n",
    "<br> \n",
    "- Vizinhos:  \n",
    "\n",
    "    Uma variável vai ser vizinha de outra de estiver na mesma linha ou coluna que essa variável.\n",
    "    Em python definimos os vizinhos como um dicionário onde cada variável é uma chave e corresponde a uma lista de variáveis que são suas vizinhas:  \n",
    "    \n",
    "    - vizinhos $=\\{(i_k,i_m) : [(i_1,j_m),...,(i_n,j_m),(i_k,j_1),...,(i_k,j_n)], \\, ...  \\, \\}$  \n",
    "<br>\n",
    "- Restrições:  \n",
    "\n",
    "    A restrição principal deste problema é a impossibilidade de haver repetições de um número\n",
    "    ao longo de uma coluna ou linha, ou seja tem de ser diferente de todos os seus vizinhos.\n",
    "    Em python esta restrição é representada pela comparação dos valores de duas variáveis vizinhas:  \n",
    "\n",
    "    -  ```python\n",
    "       valor_variavel_1 != valor_variavel_2\n",
    "       ```\n",
    "    <br>\n",
    "    Como também temos a variação do Futoshiki, temos de definir outras restrições para esse problema.  \n",
    "\n",
    "    A ideia principal é que duas variáveis adjacentes podem agora ter a restrição adicional de o valor de uma ser maior ou menor que o valor da outra. Então para representar o mapeamento destas novas restrições usamos um dicionário onde as chaves são um tuplos contendos as duas variáveis em questão e vão corresponde a uma função que verifica se os valores destas são menores ou maiores conforme a restrição.\n",
    "\n",
    "    - desigualdades $=\\{((i_k,j_m),(i_k,j_{m+1})) : maior\\, \\, \\text{ou} \\, \\, menor \\}$  \n",
    "\n",
    "    Cada uma destas funções vair comparar os valores das variavéis conforme o seu nome.  \n",
    "\n",
    "    - ```python \n",
    "      def maior(a,b): return a > b\n",
    "      ```\n",
    "\n",
    "    - ```python \n",
    "      def menor(a,b): return a < b\n",
    "      ```\n",
    "\n",
    "\n",
    " "
   ]
  },
  {
   "cell_type": "markdown",
   "id": "4ab69211",
   "metadata": {},
   "source": [
    "## Formulação do problema"
   ]
  },
  {
   "cell_type": "code",
   "execution_count": 1,
   "id": "c5327f4f",
   "metadata": {},
   "outputs": [],
   "source": [
    "from csp import *\n",
    "\n",
    "def quadrado_latino(n=3, initial={}) -> CSP:\n",
    "    \"\"\"Gera um CSP para o problema dos quadrados latinos\n",
    "\n",
    "    Args:\n",
    "        n (int, optional): Dimensao da matriz do problema. Defaults to 3.\n",
    "        initial (dict, optional): Valores iniciais para cada um dos elementos da matriz. Defaults to {}.\n",
    "\n",
    "    Returns:\n",
    "        CSP: Objeto CSP para o problema dos quadrados latinos\n",
    "    \"\"\"    \n",
    "    \n",
    "    # definicao das variaveis, as coordenadas x,y vão de 0 a n-1\n",
    "    variaveis = [(i,j) for i in range(0,n) for j in range(0,n)]\n",
    "\n",
    "    # Valores possiveis para as variaveis dada a dimensao n do problema\n",
    "    conjunto = [i for i in range(1,n+1)]\n",
    "    \n",
    "    # Iniciamos os dominios com os valores iniciais dados para as variaveis\n",
    "    dominios = initial\n",
    "\n",
    "    # Diferenca dos dois conjuntos vai resultar nas variaveis nao preenchidas\n",
    "    for item in set(variaveis - initial.keys()):\n",
    "        dominios[item] = conjunto\n",
    "    \n",
    "    # Condicao que determina de duas variaveis sao vizinhas, verifica se tem alguma das coordendas x ou y iguais\n",
    "    condicao_vizinhanca = lambda x,y : (x[0] == y[0] and x[1] != y[1]) or (x[0] != y[0] and x[1] == y[1])\n",
    "\n",
    "    # Para cada variavel vamos atribuir uma lista resultante de filtrar a lista de todas as variaveis\n",
    "    # com a condicao de que as variaveis sejam vizinhas da variavel chave\n",
    "    vizinhos = {var : list(filter(lambda x: condicao_vizinhanca(x,var), variaveis)) for var in variaveis}\n",
    "\n",
    "    def restricoes(X, a, Y, b):\n",
    "        # Verifica-se se duas variaveis sao vizinhas antes de verficar que tem valores diferentes entre si\n",
    "        if Y in vizinhos[X]:\n",
    "            return a != b\n",
    "        return True\n",
    "        \n",
    "    return CSP(variaveis, dominios, vizinhos, restricoes)"
   ]
  },
  {
   "cell_type": "markdown",
   "id": "f46b1688",
   "metadata": {},
   "source": [
    "## Criação do problema do quadrado latino simples\n",
    "\n",
    "Mostrem que o código está a funcionar, construindo um problema de quadrado latino *4x4*, imprimindo as variáveis, domínios iniciais, e vizinhos. Adicione os comentários necessários. Mostre como podemos criar um puzzle com quadrados já preenchidos, e qual o impacto que isso tem nas variáveis, domínios iniciais, e vizinhos."
   ]
  },
  {
   "cell_type": "markdown",
   "metadata": {},
   "source": [
    "Para criar um problema quadrado latino 4x4 sem valores iniciais para as variáveis basta executar"
   ]
  },
  {
   "cell_type": "code",
   "execution_count": 2,
   "metadata": {},
   "outputs": [],
   "source": [
    "q4 = quadrado_latino(4)"
   ]
  },
  {
   "cell_type": "markdown",
   "metadata": {},
   "source": [
    "Tendo o problema definido, podemos agora ver as variáveis, domínios e os vizinhos deste problema"
   ]
  },
  {
   "cell_type": "code",
   "execution_count": 3,
   "id": "0b95b771",
   "metadata": {
    "pycharm": {
     "name": "#%%\n"
    }
   },
   "outputs": [
    {
     "name": "stdout",
     "output_type": "stream",
     "text": [
      "Variáveis = [(0, 0), (0, 1), (0, 2), (0, 3), (1, 0), (1, 1), (1, 2), (1, 3), (2, 0), (2, 1), (2, 2), (2, 3), (3, 0), (3, 1), (3, 2), (3, 3)]\n",
      "\n",
      "Domínios = {(0, 1): [1, 2, 3, 4], (1, 2): [1, 2, 3, 4], (2, 1): [1, 2, 3, 4], (3, 1): [1, 2, 3, 4], (0, 2): [1, 2, 3, 4], (2, 2): [1, 2, 3, 4], (1, 0): [1, 2, 3, 4], (3, 2): [1, 2, 3, 4], (1, 3): [1, 2, 3, 4], (0, 0): [1, 2, 3, 4], (1, 1): [1, 2, 3, 4], (0, 3): [1, 2, 3, 4], (2, 0): [1, 2, 3, 4], (3, 0): [1, 2, 3, 4], (2, 3): [1, 2, 3, 4], (3, 3): [1, 2, 3, 4]}\n",
      "\n",
      "Vizinhos = {(0, 0): [(0, 1), (0, 2), (0, 3), (1, 0), (2, 0), (3, 0)], (0, 1): [(0, 0), (0, 2), (0, 3), (1, 1), (2, 1), (3, 1)], (0, 2): [(0, 0), (0, 1), (0, 3), (1, 2), (2, 2), (3, 2)], (0, 3): [(0, 0), (0, 1), (0, 2), (1, 3), (2, 3), (3, 3)], (1, 0): [(0, 0), (1, 1), (1, 2), (1, 3), (2, 0), (3, 0)], (1, 1): [(0, 1), (1, 0), (1, 2), (1, 3), (2, 1), (3, 1)], (1, 2): [(0, 2), (1, 0), (1, 1), (1, 3), (2, 2), (3, 2)], (1, 3): [(0, 3), (1, 0), (1, 1), (1, 2), (2, 3), (3, 3)], (2, 0): [(0, 0), (1, 0), (2, 1), (2, 2), (2, 3), (3, 0)], (2, 1): [(0, 1), (1, 1), (2, 0), (2, 2), (2, 3), (3, 1)], (2, 2): [(0, 2), (1, 2), (2, 0), (2, 1), (2, 3), (3, 2)], (2, 3): [(0, 3), (1, 3), (2, 0), (2, 1), (2, 2), (3, 3)], (3, 0): [(0, 0), (1, 0), (2, 0), (3, 1), (3, 2), (3, 3)], (3, 1): [(0, 1), (1, 1), (2, 1), (3, 0), (3, 2), (3, 3)], (3, 2): [(0, 2), (1, 2), (2, 2), (3, 0), (3, 1), (3, 3)], (3, 3): [(0, 3), (1, 3), (2, 3), (3, 0), (3, 1), (3, 2)]}\n",
      "\n"
     ]
    }
   ],
   "source": [
    "print(f\"Variáveis = {q4.variables}\\n\")\n",
    "print(f\"Domínios = {q4.domains}\\n\")\n",
    "print(f\"Vizinhos = {q4.neighbors}\\n\")"
   ]
  },
  {
   "cell_type": "markdown",
   "metadata": {},
   "source": [
    "Para criar-mos um problema com um quadrado semi-preenchido temos primeiro de definir quais os elementos da matriz que vão estar preenchidos e qual o seu valor. Para fazer-mos isso podemos definir um dicionário com essa informação da seguinte forma:"
   ]
  },
  {
   "cell_type": "code",
   "execution_count": 4,
   "metadata": {},
   "outputs": [],
   "source": [
    "valores_preenchidos = {(0,0) : [1], (1,1) : [3], (2,2) : [2]}"
   ]
  },
  {
   "cell_type": "markdown",
   "metadata": {},
   "source": [
    "Depois basta passar esse dicionário como segundo argumento à função quadrado_latino"
   ]
  },
  {
   "cell_type": "code",
   "execution_count": 5,
   "metadata": {},
   "outputs": [],
   "source": [
    "q4_semi = quadrado_latino(n=4, initial=valores_preenchidos)"
   ]
  },
  {
   "cell_type": "markdown",
   "metadata": {
    "collapsed": false,
    "pycharm": {
     "name": "#%% md\n"
    }
   },
   "source": [
    "O facto de o quadrado ser semi preenchido apenas vai afetar os domínios iniciais, fazendo com que o dominio inicial das variáveis já com valores atribuidos seja reduzido esses valores."
   ]
  },
  {
   "cell_type": "code",
   "execution_count": 6,
   "metadata": {
    "collapsed": false,
    "pycharm": {
     "name": "#%%\n"
    }
   },
   "outputs": [
    {
     "name": "stdout",
     "output_type": "stream",
     "text": [
      "Variáveis = [(0, 0), (0, 1), (0, 2), (0, 3), (1, 0), (1, 1), (1, 2), (1, 3), (2, 0), (2, 1), (2, 2), (2, 3), (3, 0), (3, 1), (3, 2), (3, 3)]\n",
      "\n",
      "Domínios = {(0, 0): [1], (1, 1): [3], (2, 2): [2], (0, 1): [1, 2, 3, 4], (1, 2): [1, 2, 3, 4], (2, 1): [1, 2, 3, 4], (3, 1): [1, 2, 3, 4], (0, 3): [1, 2, 3, 4], (2, 0): [1, 2, 3, 4], (3, 0): [1, 2, 3, 4], (2, 3): [1, 2, 3, 4], (0, 2): [1, 2, 3, 4], (3, 3): [1, 2, 3, 4], (1, 0): [1, 2, 3, 4], (3, 2): [1, 2, 3, 4], (1, 3): [1, 2, 3, 4]}\n",
      "\n",
      "Vizinhos = {(0, 0): [(0, 1), (0, 2), (0, 3), (1, 0), (2, 0), (3, 0)], (0, 1): [(0, 0), (0, 2), (0, 3), (1, 1), (2, 1), (3, 1)], (0, 2): [(0, 0), (0, 1), (0, 3), (1, 2), (2, 2), (3, 2)], (0, 3): [(0, 0), (0, 1), (0, 2), (1, 3), (2, 3), (3, 3)], (1, 0): [(0, 0), (1, 1), (1, 2), (1, 3), (2, 0), (3, 0)], (1, 1): [(0, 1), (1, 0), (1, 2), (1, 3), (2, 1), (3, 1)], (1, 2): [(0, 2), (1, 0), (1, 1), (1, 3), (2, 2), (3, 2)], (1, 3): [(0, 3), (1, 0), (1, 1), (1, 2), (2, 3), (3, 3)], (2, 0): [(0, 0), (1, 0), (2, 1), (2, 2), (2, 3), (3, 0)], (2, 1): [(0, 1), (1, 1), (2, 0), (2, 2), (2, 3), (3, 1)], (2, 2): [(0, 2), (1, 2), (2, 0), (2, 1), (2, 3), (3, 2)], (2, 3): [(0, 3), (1, 3), (2, 0), (2, 1), (2, 2), (3, 3)], (3, 0): [(0, 0), (1, 0), (2, 0), (3, 1), (3, 2), (3, 3)], (3, 1): [(0, 1), (1, 1), (2, 1), (3, 0), (3, 2), (3, 3)], (3, 2): [(0, 2), (1, 2), (2, 2), (3, 0), (3, 1), (3, 3)], (3, 3): [(0, 3), (1, 3), (2, 3), (3, 0), (3, 1), (3, 2)]}\n",
      "\n"
     ]
    }
   ],
   "source": [
    "print(f\"Variáveis = {q4_semi.variables}\\n\")\n",
    "print(f\"Domínios = {q4_semi.domains}\\n\")\n",
    "print(f\"Vizinhos = {q4_semi.neighbors}\\n\")"
   ]
  },
  {
   "cell_type": "markdown",
   "metadata": {},
   "source": [
    "Resolva o problema com o backtracking sem inferencia, com inferencia, e com uma heurística."
   ]
  },
  {
   "cell_type": "markdown",
   "metadata": {},
   "source": [
    "Vamos definir uma função que executa uma pesquisa $n$ vezes (neste caso 50) e calcula a média dos tempos de execução da pesquisa. Desta forma podemos obter tempos de execução mais consistentes que não vão depender tanto de variações na velocidade do processador durante a execução das diferentes procuras."
   ]
  },
  {
   "cell_type": "code",
   "execution_count": 7,
   "metadata": {},
   "outputs": [],
   "source": [
    "import timeit\n",
    "\n",
    "def avg_run_time(func, *args, **kwargs):\n",
    "    \"\"\"Corre uma função n vezes medindo o tempo de execução de cada vez\n",
    "    e imprime a média dos tempos\n",
    "\n",
    "    Args:\n",
    "        func: Função a correr\n",
    "    \"\"\"\n",
    "    n = 20\n",
    "    run_times = []\n",
    "    for i in range(n):\n",
    "        start = timeit.default_timer()\n",
    "        func(*args, **kwargs)\n",
    "        stop = timeit.default_timer()\n",
    "        run_times.append(stop-start)\n",
    "    return sum(run_times) / n\n",
    "\n",
    "# Guardar os dados e solucoes para analisar mais tarde\n",
    "tempos = {}\n",
    "solucoes = {}"
   ]
  },
  {
   "cell_type": "markdown",
   "metadata": {},
   "source": [
    "- Dimensão do problema:"
   ]
  },
  {
   "cell_type": "code",
   "execution_count": 8,
   "metadata": {},
   "outputs": [],
   "source": [
    "n = 4"
   ]
  },
  {
   "cell_type": "markdown",
   "metadata": {},
   "source": [
    "- Backtracking sem inferência"
   ]
  },
  {
   "cell_type": "code",
   "execution_count": 9,
   "metadata": {
    "collapsed": false,
    "pycharm": {
     "name": "#%%\n"
    }
   },
   "outputs": [
    {
     "name": "stdout",
     "output_type": "stream",
     "text": [
      "Tempo médio de execução: 0.00033662999339867383\n",
      "Assignment (QuadradoLatinoSemInferência) =  {(0, 0): 1, (0, 1): 2, (0, 2): 3, (0, 3): 4, (1, 0): 2, (1, 1): 1, (1, 2): 4, (1, 3): 3, (2, 0): 3, (2, 1): 4, (2, 2): 1, (2, 3): 2, (3, 0): 4, (3, 1): 3, (3, 2): 2, (3, 3): 1}\n"
     ]
    }
   ],
   "source": [
    "# Definir problema\n",
    "QuadradoLatinoSemInferência = quadrado_latino(n)\n",
    "# Guardar solucao\n",
    "sol_1 = backtracking_search(QuadradoLatinoSemInferência)\n",
    "# Calcular tempo medio executando 20 vezes\n",
    "tempo_medio1 = avg_run_time(backtracking_search, QuadradoLatinoSemInferência)\n",
    "# Guardar resultados\n",
    "tempos['QuadradoLatinoSemInferência'] = tempo_medio1\n",
    "solucoes['QuadradoLatinoSemInferência'] = sol_1\n",
    "# Imprimir resultados\n",
    "print(f\"Tempo médio de execução: {tempo_medio1}\")\n",
    "print('Assignment (QuadradoLatinoSemInferência) = ',sol_1)"
   ]
  },
  {
   "cell_type": "markdown",
   "metadata": {},
   "source": [
    "- Backtracking com inferência Foward-Checking"
   ]
  },
  {
   "cell_type": "code",
   "execution_count": 10,
   "metadata": {
    "collapsed": false,
    "pycharm": {
     "name": "#%%\n"
    }
   },
   "outputs": [
    {
     "name": "stdout",
     "output_type": "stream",
     "text": [
      "Tempo médio de execução: 0.00021894499950576575\n",
      "Assignment (QuadradoLatinoComInferência_FRWDchecking) =  {(0, 0): 1, (0, 1): 2, (0, 2): 3, (0, 3): 4, (1, 0): 2, (1, 1): 1, (1, 2): 4, (1, 3): 3, (2, 0): 3, (2, 1): 4, (2, 2): 1, (2, 3): 2, (3, 0): 4, (3, 1): 3, (3, 2): 2, (3, 3): 1}\n"
     ]
    }
   ],
   "source": [
    "# Definir problema\n",
    "QuadradoLatinoComInferência_FRWDchecking = quadrado_latino(n)\n",
    "# Resolver e guardar solucao\n",
    "sol_2 = backtracking_search(QuadradoLatinoComInferência_FRWDchecking, inference=forward_checking)\n",
    "# Calcular o tempo medio de execucao\n",
    "tempo_medio2 = avg_run_time(backtracking_search, QuadradoLatinoComInferência_FRWDchecking, inference=forward_checking)\n",
    "# Guardar resultados\n",
    "tempos['QuadradoLatinoComInferência_FRWDchecking'] = tempo_medio2\n",
    "solucoes['QuadradoLatinoComInferência_FRWDchecking'] = sol_2\n",
    "# Imprimir resultados\n",
    "print(f\"Tempo médio de execução: {tempo_medio2}\")\n",
    "print('Assignment (QuadradoLatinoComInferência_FRWDchecking) = ',sol_2)"
   ]
  },
  {
   "cell_type": "markdown",
   "metadata": {},
   "source": [
    "- Backtracking com inferência MAC"
   ]
  },
  {
   "cell_type": "code",
   "execution_count": 11,
   "metadata": {
    "collapsed": false,
    "pycharm": {
     "name": "#%%\n"
    }
   },
   "outputs": [
    {
     "name": "stdout",
     "output_type": "stream",
     "text": [
      "Tempo médio de execução: 0.0006403200008207932\n",
      "Assignment (QuadradoLatinoComInferência_MAC) =  {(0, 0): 1, (0, 1): 2, (0, 2): 3, (0, 3): 4, (1, 0): 2, (1, 1): 1, (1, 2): 4, (1, 3): 3, (2, 0): 3, (2, 1): 4, (2, 2): 1, (2, 3): 2, (3, 0): 4, (3, 1): 3, (3, 2): 2, (3, 3): 1}\n"
     ]
    }
   ],
   "source": [
    "# Definir problema\n",
    "QuadradoLatinoComInferência_MAC = quadrado_latino(n)\n",
    "# Resolver e guardar solucao\n",
    "sol_4 = backtracking_search(QuadradoLatinoComInferência_MAC, inference=mac)\n",
    "# Calcular tempo medio de execucao\n",
    "tempo_medio4 = avg_run_time(backtracking_search, QuadradoLatinoComInferência_MAC, inference=mac)\n",
    "# Guarda resultados\n",
    "tempos['QuadradoLatinoComInferência_MAC'] = tempo_medio4\n",
    "solucoes['QuadradoLatinoComInferência_MAC'] = sol_4\n",
    "# Imprimir resultados\n",
    "print(f\"Tempo médio de execução: {tempo_medio4}\")\n",
    "print('Assignment (QuadradoLatinoComInferência_MAC) = ', sol_4)"
   ]
  },
  {
   "cell_type": "markdown",
   "metadata": {},
   "source": [
    "- Backtracking com pré-processamento AC3"
   ]
  },
  {
   "cell_type": "code",
   "execution_count": 12,
   "metadata": {
    "collapsed": false,
    "pycharm": {
     "name": "#%%\n"
    }
   },
   "outputs": [
    {
     "name": "stdout",
     "output_type": "stream",
     "text": [
      "Tempo médio de execução: 0.0003123099886579439\n",
      "Assignment (QuadradoLatinoComAC3) =  {(0, 0): 1, (0, 1): 2, (0, 2): 3, (0, 3): 4, (1, 0): 2, (1, 1): 1, (1, 2): 4, (1, 3): 3, (2, 0): 3, (2, 1): 4, (2, 2): 1, (2, 3): 2, (3, 0): 4, (3, 1): 3, (3, 2): 2, (3, 3): 1}\n"
     ]
    }
   ],
   "source": [
    "# Definir problema\n",
    "QuadradoLatinoComAC3 = quadrado_latino(n)\n",
    "# Aplicar pre-processamento\n",
    "p_AC3 = AC3(QuadradoLatinoComAC3)\n",
    "# Resolver e guardar solucao\n",
    "sol_3 = backtracking_search(p_AC3)\n",
    "# Calcular o tempo medio de execucao\n",
    "tempo_medio3 = avg_run_time(backtracking_search, p_AC3)\n",
    "# Guarda resultados\n",
    "tempos['QuadradoLatinoComAC3'] = tempo_medio3\n",
    "solucoes['QuadradoLatinoComAC3'] = sol_3\n",
    "# Imprimir resultados\n",
    "print(f\"Tempo médio de execução: {tempo_medio3}\")\n",
    "print('Assignment (QuadradoLatinoComAC3) = ', sol_3)"
   ]
  },
  {
   "cell_type": "markdown",
   "metadata": {},
   "source": [
    "- Backtracking com Heurística MRV"
   ]
  },
  {
   "cell_type": "code",
   "execution_count": 13,
   "metadata": {
    "collapsed": false,
    "pycharm": {
     "name": "#%%\n"
    }
   },
   "outputs": [
    {
     "name": "stdout",
     "output_type": "stream",
     "text": [
      "Tempo médio de execução: 0.0005113949999213218\n",
      "Assignment (QuadradoLatinoComHeuristica) =  {(1, 0): 1, (2, 0): 2, (3, 3): 1, (3, 2): 2, (1, 2): 3, (2, 2): 1, (0, 2): 4, (0, 0): 3, (2, 1): 4, (3, 0): 4, (1, 1): 2, (0, 3): 2, (3, 1): 3, (2, 3): 3, (1, 3): 4, (0, 1): 1}\n"
     ]
    }
   ],
   "source": [
    "# Definir problema\n",
    "QuadradoLatinoComHeuristica = quadrado_latino(n)\n",
    "# Resolver e guardar\n",
    "sol_6 = backtracking_search(QuadradoLatinoComHeuristica, select_unassigned_variable = mrv)\n",
    "# Tempo medio\n",
    "tempo_medio6 = avg_run_time(backtracking_search, QuadradoLatinoComHeuristica, select_unassigned_variable = mrv)\n",
    "# Guarda resultados\n",
    "tempos['QuadradoLatinoComHeuristica'] = tempo_medio6\n",
    "solucoes['QuadradoLatinoComHeuristica'] = sol_6\n",
    "# Imprimir resultados\n",
    "print(f\"Tempo médio de execução: {tempo_medio6}\")\n",
    "print('Assignment (QuadradoLatinoComHeuristica) = ', sol_6)"
   ]
  },
  {
   "cell_type": "markdown",
   "metadata": {},
   "source": [
    "- Backtracking com Heurística MRV, Inferência MAC e pré-processamento AC3"
   ]
  },
  {
   "cell_type": "code",
   "execution_count": 14,
   "metadata": {},
   "outputs": [
    {
     "name": "stdout",
     "output_type": "stream",
     "text": [
      "Tempo médio de execução: 0.0006232399988221005\n",
      "Assignment (QuadradoLatinoHeuristicaInferenciaAC3) =  {(2, 2): 1, (3, 2): 2, (1, 2): 3, (0, 2): 4, (3, 3): 1, (3, 1): 3, (3, 0): 4, (1, 3): 2, (0, 3): 3, (1, 0): 1, (2, 3): 4, (2, 0): 3, (2, 1): 2, (1, 1): 4, (0, 1): 1, (0, 0): 2}\n"
     ]
    }
   ],
   "source": [
    "# Definir problema\n",
    "QuadradoLatinoHeuristicaInferenciaAC3 = quadrado_latino(n)\n",
    "# Pre processamento\n",
    "p_AC3 = AC3(QuadradoLatinoHeuristicaInferenciaAC3)\n",
    "# Resolver e guardar\n",
    "sol_7 = backtracking_search(p_AC3, select_unassigned_variable=mrv, inference=mac)\n",
    "# Tempo medio\n",
    "tempo_medio7 = avg_run_time(backtracking_search, p_AC3, select_unassigned_variable=mrv, inference=mac)\n",
    "# Guarda resultados\n",
    "tempos['QuadradoLatinoHeuristicaInferenciaAC3'] = tempo_medio7\n",
    "solucoes['QuadradoLatinoHeuristicaInferenciaAC3'] = sol_7\n",
    "# Imprimir resultados\n",
    "print(f\"Tempo médio de execução: {tempo_medio7}\")\n",
    "print('Assignment (QuadradoLatinoHeuristicaInferenciaAC3) = ', sol_7)"
   ]
  },
  {
   "cell_type": "code",
   "execution_count": 15,
   "metadata": {
    "collapsed": false,
    "pycharm": {
     "name": "#%%\n"
    }
   },
   "outputs": [
    {
     "data": {
      "text/plain": "                                                 4\nQuadradoLatinoComInferência_FRWDchecking  0.000219\nQuadradoLatinoComAC3                      0.000312\nQuadradoLatinoSemInferência               0.000337\nQuadradoLatinoComHeuristica               0.000511\nQuadradoLatinoHeuristicaInferenciaAC3     0.000623\nQuadradoLatinoComInferência_MAC           0.000640",
      "text/html": "<div>\n<style scoped>\n    .dataframe tbody tr th:only-of-type {\n        vertical-align: middle;\n    }\n\n    .dataframe tbody tr th {\n        vertical-align: top;\n    }\n\n    .dataframe thead th {\n        text-align: right;\n    }\n</style>\n<table border=\"1\" class=\"dataframe\">\n  <thead>\n    <tr style=\"text-align: right;\">\n      <th></th>\n      <th>4</th>\n    </tr>\n  </thead>\n  <tbody>\n    <tr>\n      <th>QuadradoLatinoComInferência_FRWDchecking</th>\n      <td>0.000219</td>\n    </tr>\n    <tr>\n      <th>QuadradoLatinoComAC3</th>\n      <td>0.000312</td>\n    </tr>\n    <tr>\n      <th>QuadradoLatinoSemInferência</th>\n      <td>0.000337</td>\n    </tr>\n    <tr>\n      <th>QuadradoLatinoComHeuristica</th>\n      <td>0.000511</td>\n    </tr>\n    <tr>\n      <th>QuadradoLatinoHeuristicaInferenciaAC3</th>\n      <td>0.000623</td>\n    </tr>\n    <tr>\n      <th>QuadradoLatinoComInferência_MAC</th>\n      <td>0.000640</td>\n    </tr>\n  </tbody>\n</table>\n</div>"
     },
     "execution_count": 15,
     "metadata": {},
     "output_type": "execute_result"
    }
   ],
   "source": [
    "import pandas as pd\n",
    "temposSorted = dict(sorted(tempos.items(), key=lambda x:x[1]))\n",
    "pd.DataFrame(temposSorted.values(),index = temposSorted.keys(), columns= [n])\n"
   ]
  },
  {
   "cell_type": "markdown",
   "metadata": {
    "collapsed": false
   },
   "source": [
    "## Conclusões sobre os resultados temporais\n",
    "_(todos os valores são referentes a médias)_\n",
    "Com a tabela acima é possível concluir que:\n",
    "- o algoritmo que demora menos tempo a encontrar uma solução é a **procura com Retrocesso usando a inferência Forward Checking**, demora apenas 0.000219 segundos;\n",
    "- usando procura com retrocesso com inferência, verifica-se que **Forward Checking** é mais eficiente que **MAC**;\n",
    "- a solução do problema utilizando a procura com retrocesso sem inferências nem heurísticas demora menos tempo (0.000337 segundos) que a procura com retrocesso com inferência e heurisrica após pré-processamento com recurso ao algoritmo **AC3** (0.000623 segundos), quase o dobro do tempo;\n"
   ]
  },
  {
   "cell_type": "markdown",
   "metadata": {},
   "source": [
    "Acho que como a dimensao deste problema é muito pequena, a procura com retrocesso normal acaba por ser a mais rapida porque vai realizar menos verificações ao longo da execução, e o custo de fazer essas verificações vai ser maior que o custo de voltar a atrás mais vezes na procura porque este problema é muito pequeno, se fosse maior iamos ver mais diferenças."
   ]
  },
  {
   "cell_type": "code",
   "execution_count": 17,
   "metadata": {
    "collapsed": false,
    "pycharm": {
     "name": "#%%\n"
    }
   },
   "outputs": [
    {
     "data": {
      "text/plain": "                                          0           1           2           \\\n                                          0  1  2  3  0  1  2  3  0  1  2  3   \nQuadradoLatinoSemInferência               1  2  3  4  2  1  4  3  3  4  1  2   \nQuadradoLatinoComInferência_FRWDchecking  1  2  3  4  2  1  4  3  3  4  1  2   \nQuadradoLatinoComInferência_MAC           1  2  3  4  2  1  4  3  3  4  1  2   \nQuadradoLatinoComAC3                      1  2  3  4  2  1  4  3  3  4  1  2   \nQuadradoLatinoComHeuristica               3  1  4  2  1  2  3  4  2  4  1  3   \nQuadradoLatinoHeuristicaInferenciaAC3     2  1  4  3  1  4  3  2  3  2  1  4   \n\n                                          3           \n                                          0  1  2  3  \nQuadradoLatinoSemInferência               4  3  2  1  \nQuadradoLatinoComInferência_FRWDchecking  4  3  2  1  \nQuadradoLatinoComInferência_MAC           4  3  2  1  \nQuadradoLatinoComAC3                      4  3  2  1  \nQuadradoLatinoComHeuristica               4  3  2  1  \nQuadradoLatinoHeuristicaInferenciaAC3     4  3  2  1  ",
      "text/html": "<div>\n<style scoped>\n    .dataframe tbody tr th:only-of-type {\n        vertical-align: middle;\n    }\n\n    .dataframe tbody tr th {\n        vertical-align: top;\n    }\n\n    .dataframe thead tr th {\n        text-align: left;\n    }\n</style>\n<table border=\"1\" class=\"dataframe\">\n  <thead>\n    <tr>\n      <th></th>\n      <th colspan=\"4\" halign=\"left\">0</th>\n      <th colspan=\"4\" halign=\"left\">1</th>\n      <th colspan=\"4\" halign=\"left\">2</th>\n      <th colspan=\"4\" halign=\"left\">3</th>\n    </tr>\n    <tr>\n      <th></th>\n      <th>0</th>\n      <th>1</th>\n      <th>2</th>\n      <th>3</th>\n      <th>0</th>\n      <th>1</th>\n      <th>2</th>\n      <th>3</th>\n      <th>0</th>\n      <th>1</th>\n      <th>2</th>\n      <th>3</th>\n      <th>0</th>\n      <th>1</th>\n      <th>2</th>\n      <th>3</th>\n    </tr>\n  </thead>\n  <tbody>\n    <tr>\n      <th>QuadradoLatinoSemInferência</th>\n      <td>1</td>\n      <td>2</td>\n      <td>3</td>\n      <td>4</td>\n      <td>2</td>\n      <td>1</td>\n      <td>4</td>\n      <td>3</td>\n      <td>3</td>\n      <td>4</td>\n      <td>1</td>\n      <td>2</td>\n      <td>4</td>\n      <td>3</td>\n      <td>2</td>\n      <td>1</td>\n    </tr>\n    <tr>\n      <th>QuadradoLatinoComInferência_FRWDchecking</th>\n      <td>1</td>\n      <td>2</td>\n      <td>3</td>\n      <td>4</td>\n      <td>2</td>\n      <td>1</td>\n      <td>4</td>\n      <td>3</td>\n      <td>3</td>\n      <td>4</td>\n      <td>1</td>\n      <td>2</td>\n      <td>4</td>\n      <td>3</td>\n      <td>2</td>\n      <td>1</td>\n    </tr>\n    <tr>\n      <th>QuadradoLatinoComInferência_MAC</th>\n      <td>1</td>\n      <td>2</td>\n      <td>3</td>\n      <td>4</td>\n      <td>2</td>\n      <td>1</td>\n      <td>4</td>\n      <td>3</td>\n      <td>3</td>\n      <td>4</td>\n      <td>1</td>\n      <td>2</td>\n      <td>4</td>\n      <td>3</td>\n      <td>2</td>\n      <td>1</td>\n    </tr>\n    <tr>\n      <th>QuadradoLatinoComAC3</th>\n      <td>1</td>\n      <td>2</td>\n      <td>3</td>\n      <td>4</td>\n      <td>2</td>\n      <td>1</td>\n      <td>4</td>\n      <td>3</td>\n      <td>3</td>\n      <td>4</td>\n      <td>1</td>\n      <td>2</td>\n      <td>4</td>\n      <td>3</td>\n      <td>2</td>\n      <td>1</td>\n    </tr>\n    <tr>\n      <th>QuadradoLatinoComHeuristica</th>\n      <td>3</td>\n      <td>1</td>\n      <td>4</td>\n      <td>2</td>\n      <td>1</td>\n      <td>2</td>\n      <td>3</td>\n      <td>4</td>\n      <td>2</td>\n      <td>4</td>\n      <td>1</td>\n      <td>3</td>\n      <td>4</td>\n      <td>3</td>\n      <td>2</td>\n      <td>1</td>\n    </tr>\n    <tr>\n      <th>QuadradoLatinoHeuristicaInferenciaAC3</th>\n      <td>2</td>\n      <td>1</td>\n      <td>4</td>\n      <td>3</td>\n      <td>1</td>\n      <td>4</td>\n      <td>3</td>\n      <td>2</td>\n      <td>3</td>\n      <td>2</td>\n      <td>1</td>\n      <td>4</td>\n      <td>4</td>\n      <td>3</td>\n      <td>2</td>\n      <td>1</td>\n    </tr>\n  </tbody>\n</table>\n</div>"
     },
     "execution_count": 17,
     "metadata": {},
     "output_type": "execute_result"
    }
   ],
   "source": [
    "sols = pd.DataFrame(solucoes).T\n",
    "sols"
   ]
  },
  {
   "cell_type": "code",
   "execution_count": 21,
   "metadata": {
    "collapsed": false,
    "pycharm": {
     "name": "#%%\n"
    }
   },
   "outputs": [
    {
     "data": {
      "text/plain": "QuadradoLatinoSemInferência                 False\nQuadradoLatinoComInferência_FRWDchecking     True\nQuadradoLatinoComInferência_MAC              True\nQuadradoLatinoComAC3                         True\nQuadradoLatinoComHeuristica                 False\nQuadradoLatinoHeuristicaInferenciaAC3       False\ndtype: bool"
     },
     "execution_count": 21,
     "metadata": {},
     "output_type": "execute_result"
    }
   ],
   "source": [
    "sols.duplicated()"
   ]
  },
  {
   "cell_type": "code",
   "execution_count": 22,
   "outputs": [
    {
     "data": {
      "text/plain": "                                       0           1           2           3  \\\n                                       0  1  2  3  0  1  2  3  0  1  2  3  0   \nQuadradoLatinoSemInferência            1  2  3  4  2  1  4  3  3  4  1  2  4   \nQuadradoLatinoComHeuristica            3  1  4  2  1  2  3  4  2  4  1  3  4   \nQuadradoLatinoHeuristicaInferenciaAC3  2  1  4  3  1  4  3  2  3  2  1  4  4   \n\n                                                \n                                       1  2  3  \nQuadradoLatinoSemInferência            3  2  1  \nQuadradoLatinoComHeuristica            3  2  1  \nQuadradoLatinoHeuristicaInferenciaAC3  3  2  1  ",
      "text/html": "<div>\n<style scoped>\n    .dataframe tbody tr th:only-of-type {\n        vertical-align: middle;\n    }\n\n    .dataframe tbody tr th {\n        vertical-align: top;\n    }\n\n    .dataframe thead tr th {\n        text-align: left;\n    }\n</style>\n<table border=\"1\" class=\"dataframe\">\n  <thead>\n    <tr>\n      <th></th>\n      <th colspan=\"4\" halign=\"left\">0</th>\n      <th colspan=\"4\" halign=\"left\">1</th>\n      <th colspan=\"4\" halign=\"left\">2</th>\n      <th colspan=\"4\" halign=\"left\">3</th>\n    </tr>\n    <tr>\n      <th></th>\n      <th>0</th>\n      <th>1</th>\n      <th>2</th>\n      <th>3</th>\n      <th>0</th>\n      <th>1</th>\n      <th>2</th>\n      <th>3</th>\n      <th>0</th>\n      <th>1</th>\n      <th>2</th>\n      <th>3</th>\n      <th>0</th>\n      <th>1</th>\n      <th>2</th>\n      <th>3</th>\n    </tr>\n  </thead>\n  <tbody>\n    <tr>\n      <th>QuadradoLatinoSemInferência</th>\n      <td>1</td>\n      <td>2</td>\n      <td>3</td>\n      <td>4</td>\n      <td>2</td>\n      <td>1</td>\n      <td>4</td>\n      <td>3</td>\n      <td>3</td>\n      <td>4</td>\n      <td>1</td>\n      <td>2</td>\n      <td>4</td>\n      <td>3</td>\n      <td>2</td>\n      <td>1</td>\n    </tr>\n    <tr>\n      <th>QuadradoLatinoComHeuristica</th>\n      <td>3</td>\n      <td>1</td>\n      <td>4</td>\n      <td>2</td>\n      <td>1</td>\n      <td>2</td>\n      <td>3</td>\n      <td>4</td>\n      <td>2</td>\n      <td>4</td>\n      <td>1</td>\n      <td>3</td>\n      <td>4</td>\n      <td>3</td>\n      <td>2</td>\n      <td>1</td>\n    </tr>\n    <tr>\n      <th>QuadradoLatinoHeuristicaInferenciaAC3</th>\n      <td>2</td>\n      <td>1</td>\n      <td>4</td>\n      <td>3</td>\n      <td>1</td>\n      <td>4</td>\n      <td>3</td>\n      <td>2</td>\n      <td>3</td>\n      <td>2</td>\n      <td>1</td>\n      <td>4</td>\n      <td>4</td>\n      <td>3</td>\n      <td>2</td>\n      <td>1</td>\n    </tr>\n  </tbody>\n</table>\n</div>"
     },
     "execution_count": 22,
     "metadata": {},
     "output_type": "execute_result"
    }
   ],
   "source": [
    "sols.drop_duplicates()"
   ],
   "metadata": {
    "collapsed": false,
    "pycharm": {
     "name": "#%%\n"
    }
   }
  },
  {
   "cell_type": "markdown",
   "source": [
    "## Conclusões sobre os resultados de soluções\n",
    "\n",
    "Podemos concluir que usando a heurística MRV a solução do problema é diferente quando não a usamos. Mais ainda, verifica-se que mesmo usando a heurística MRV, a solução do problema é diferente quando se fez um pré-processamento com recurso ao algoritmo AC3.\n",
    "\n"
   ],
   "metadata": {
    "collapsed": false,
    "pycharm": {
     "name": "#%% md\n"
    }
   }
  },
  {
   "cell_type": "markdown",
   "metadata": {
    "collapsed": false
   },
   "source": [
    "## Visualização do problema"
   ]
  },
  {
   "cell_type": "code",
   "execution_count": 23,
   "metadata": {},
   "outputs": [],
   "source": [
    "def visualizacao_quadrado_latino(n, problema_csp, solucao):\n",
    "    \"\"\"Gera uma visualização do estado inicial e da solução de um problema de quadrados\n",
    "    latinos de dimensão n\n",
    "    \n",
    "    Args:\n",
    "        n (int): Dimensão do problema\n",
    "        problema_csp (CSP): Object CSP do problema em questão\n",
    "        solucao (dict): Solução do problema\n",
    "    \"\"\"    \n",
    "    \n",
    "    estado_inicial = [[0 for y in range(n)] for x in range(n)]\n",
    "    for var, dom in problema_csp.domains.items():\n",
    "        if len(dom) == 1:\n",
    "            estado_inicial[var[1]][var[0]] = dom[0]\n",
    "        \n",
    "    estado_final = [[0 for y in range(n)] for x in range(n)]\n",
    "    for var, valor in solucao.items():\n",
    "        estado_final[var[1]][var[0]] = valor\n",
    "    \n",
    "    board_inicial = \"\"\n",
    "    board_final = \"\"\n",
    "    for y in range(n):\n",
    "        for x in range(n):\n",
    "            board_inicial += str(estado_inicial[y][x]) + \" \"\n",
    "            board_final += str(estado_final[y][x]) + \" \"\n",
    "        board_inicial += \"\\n\"\n",
    "        board_final += \"\\n\"\n",
    "    \n",
    "    print(\"Estado Inicial:\")\n",
    "    print(board_inicial)\n",
    "    print(\"Solução:\")\n",
    "    print(board_final)"
   ]
  },
  {
   "cell_type": "code",
   "execution_count": 24,
   "metadata": {
    "collapsed": false,
    "pycharm": {
     "name": "#%%\n"
    }
   },
   "outputs": [
    {
     "name": "stdout",
     "output_type": "stream",
     "text": [
      "Estado Inicial:\n",
      "0 0 0 0 \n",
      "0 0 0 0 \n",
      "0 0 0 0 \n",
      "0 0 0 0 \n",
      "\n",
      "Solução:\n",
      "1 2 3 4 \n",
      "2 1 4 3 \n",
      "3 4 1 2 \n",
      "4 3 2 1 \n",
      "\n"
     ]
    }
   ],
   "source": [
    "visualizacao_quadrado_latino(4, quadrado_latino(4), backtracking_search(quadrado_latino(4)))"
   ]
  },
  {
   "cell_type": "markdown",
   "metadata": {
    "collapsed": false
   },
   "source": [
    "## Criação do problema Futoshiki *5x5*\n",
    "\n",
    "Mostrem que o código está a funcionar, construindo um problema de Futoshiki *5x5*, imprimindo as variáveis, domínios iniciais, e vizinhos. Adicione os comentários necessários. Utilize o [link](https://www.futoshiki.org/) para gerar puzzles e validar a implementação."
   ]
  },
  {
   "cell_type": "code",
   "execution_count": 25,
   "metadata": {
    "collapsed": false,
    "pycharm": {
     "name": "#%%\n"
    }
   },
   "outputs": [],
   "source": [
    "def maior(x,y):\n",
    "    return x > y\n",
    "\n",
    "def menor(x,y):\n",
    "    return x < y\n",
    "\n",
    "def futoshiki(n=3, initial={}, desigualdades={}):\n",
    "    \"\"\"\n",
    "    Pode receber parametros ou não.\n",
    "    Deve devolver um CSP, à semelhança dos guiões das aulas PL.\n",
    "    Comente o código.\n",
    "    \"\"\"\n",
    "    variaveis = [(i,j) for j in range(0,n) for i in range(0,n)]\n",
    "\n",
    "    conjunto = [i for i in range(1,n+1)]\n",
    "    \n",
    "    dominios = initial\n",
    "\n",
    "    # Diferenca dos dois conjuntos vai resultar nas variaveis nao preenchidas\n",
    "    for item in set(variaveis - initial.keys()):\n",
    "        dominios[item] = conjunto\n",
    "    \n",
    "    condicao_vizinhanca = lambda x,y : ((x[0] == y[0] and x[1] != y[1]) or (x[0] != y[0] and x[1] == y[1]))\n",
    "    \n",
    "    vizinhos = {var : list(filter(lambda x: condicao_vizinhanca(x,var), variaveis)) for var in variaveis}\n",
    "\n",
    "    def restricoes(X, a, Y, b):\n",
    "        if (X,Y) in desigualdades.keys():\n",
    "            if not desigualdades[(X,Y)](a,b):\n",
    "                return False\n",
    "        if (Y,X) in desigualdades.keys():\n",
    "            if not desigualdades[(Y,X)](b,a):\n",
    "                return False\n",
    "        if Y in vizinhos[X]:\n",
    "            return  a != b\n",
    "        return True\n",
    "\n",
    "    return CSP(variaveis, dominios, vizinhos, restricoes)"
   ]
  },
  {
   "cell_type": "code",
   "execution_count": 26,
   "metadata": {
    "collapsed": false,
    "pycharm": {
     "name": "#%%\n"
    }
   },
   "outputs": [],
   "source": [
    "preenchidos = {(1,3) : [1]}\n",
    "desigualdades = {((1,0),(2,0)) : maior, ((2,0),(3,0)) : maior, ((1,1),(1,0)): maior, ((3,3),(3,2)) : maior}"
   ]
  },
  {
   "cell_type": "code",
   "execution_count": 27,
   "metadata": {
    "collapsed": false,
    "pycharm": {
     "name": "#%%\n"
    }
   },
   "outputs": [
    {
     "name": "stdout",
     "output_type": "stream",
     "text": [
      "Variáveis =  [(0, 0), (1, 0), (2, 0), (3, 0), (0, 1), (1, 1), (2, 1), (3, 1), (0, 2), (1, 2), (2, 2), (3, 2), (0, 3), (1, 3), (2, 3), (3, 3)]\n",
      "Domínios =  {(1, 3): [1], (0, 1): [1, 2, 3, 4], (1, 2): [1, 2, 3, 4], (2, 1): [1, 2, 3, 4], (0, 0): [1, 2, 3, 4], (3, 1): [1, 2, 3, 4], (1, 1): [1, 2, 3, 4], (0, 3): [1, 2, 3, 4], (2, 0): [1, 2, 3, 4], (3, 0): [1, 2, 3, 4], (2, 3): [1, 2, 3, 4], (0, 2): [1, 2, 3, 4], (3, 3): [1, 2, 3, 4], (2, 2): [1, 2, 3, 4], (1, 0): [1, 2, 3, 4], (3, 2): [1, 2, 3, 4]}\n",
      "Vizinhos =  {(0, 0): [(1, 0), (2, 0), (3, 0), (0, 1), (0, 2), (0, 3)], (1, 0): [(0, 0), (2, 0), (3, 0), (1, 1), (1, 2), (1, 3)], (2, 0): [(0, 0), (1, 0), (3, 0), (2, 1), (2, 2), (2, 3)], (3, 0): [(0, 0), (1, 0), (2, 0), (3, 1), (3, 2), (3, 3)], (0, 1): [(0, 0), (1, 1), (2, 1), (3, 1), (0, 2), (0, 3)], (1, 1): [(1, 0), (0, 1), (2, 1), (3, 1), (1, 2), (1, 3)], (2, 1): [(2, 0), (0, 1), (1, 1), (3, 1), (2, 2), (2, 3)], (3, 1): [(3, 0), (0, 1), (1, 1), (2, 1), (3, 2), (3, 3)], (0, 2): [(0, 0), (0, 1), (1, 2), (2, 2), (3, 2), (0, 3)], (1, 2): [(1, 0), (1, 1), (0, 2), (2, 2), (3, 2), (1, 3)], (2, 2): [(2, 0), (2, 1), (0, 2), (1, 2), (3, 2), (2, 3)], (3, 2): [(3, 0), (3, 1), (0, 2), (1, 2), (2, 2), (3, 3)], (0, 3): [(0, 0), (0, 1), (0, 2), (1, 3), (2, 3), (3, 3)], (1, 3): [(1, 0), (1, 1), (1, 2), (0, 3), (2, 3), (3, 3)], (2, 3): [(2, 0), (2, 1), (2, 2), (0, 3), (1, 3), (3, 3)], (3, 3): [(3, 0), (3, 1), (3, 2), (0, 3), (1, 3), (2, 3)]}\n"
     ]
    }
   ],
   "source": [
    "p = futoshiki(4, preenchidos, desigualdades)\n",
    "print(\"Variáveis = \", p.variables)\n",
    "print(\"Domínios = \", p.domains)\n",
    "print(\"Vizinhos = \", p.neighbors)\n",
    "r = backtracking_search(p)"
   ]
  },
  {
   "cell_type": "code",
   "execution_count": 28,
   "metadata": {},
   "outputs": [
    {
     "name": "stdout",
     "output_type": "stream",
     "text": [
      "{(0, 0): 4, (1, 0): 3, (2, 0): 2, (3, 0): 1, (0, 1): 3, (1, 1): 4, (2, 1): 1, (3, 1): 2, (0, 2): 1, (1, 2): 2, (2, 2): 4, (3, 2): 3, (0, 3): 2, (1, 3): 1, (2, 3): 3, (3, 3): 4}\n"
     ]
    }
   ],
   "source": [
    "print(r)"
   ]
  },
  {
   "cell_type": "markdown",
   "metadata": {
    "collapsed": false
   },
   "source": [
    "Resolva o problema com o backtracking sem inferencia, com inferencia, e com uma heurística. Até que dimensão consegue resolver o problema em menos de 1 minuto?"
   ]
  },
  {
   "cell_type": "markdown",
   "metadata": {
    "collapsed": false,
    "pycharm": {
     "name": "#%% md\n"
    }
   },
   "source": [
    "#### Problema Futoshiki *5x5*"
   ]
  },
  {
   "cell_type": "code",
   "execution_count": 122,
   "metadata": {
    "collapsed": false,
    "pycharm": {
     "name": "#%%\n"
    }
   },
   "outputs": [],
   "source": [
    "preenchidos5={(0,0):[3], (1,4):[2], (4,4):[1]}\n",
    "\n",
    "desigualdades5 = { ((0,0),(1,0)) : maior, ((2,0),(3,0)) : menor,((1,2),(2,2)) : menor , ((2,2),(3,2)) : menor, ((0,4),(0,3)) : maior}\n",
    "futoshiki5 = futoshiki(5, preenchidos5, desigualdades5)"
   ]
  },
  {
   "cell_type": "markdown",
   "metadata": {
    "collapsed": false,
    "pycharm": {
     "name": "#%% md\n"
    }
   },
   "source": [
    "#### Problema Futoshiki *6x6*"
   ]
  },
  {
   "cell_type": "code",
   "execution_count": 123,
   "metadata": {
    "collapsed": false,
    "pycharm": {
     "name": "#%%\n"
    }
   },
   "outputs": [],
   "source": [
    "preenchidos6 = {(4,3): [1], (5,4): [2]}\n",
    "desigualdades6 = {((0,0),(1,0)):menor, ((1,0),(1,1)):menor, ((0,2),(1,2)):maior, ((3,0),(3,1)):maior, ((3,2),(3,3)):menor, ((2,4),(3,4)):maior, ((3,3),(3,4)):menor, ((3,0),(4,0)):menor, ((4,0),(4,1)):menor, ((4,1),(4,2)):menor, ((5,0),(5,1)):maior, ((5,1),(5,2)):maior}\n",
    "futoshiki6 = futoshiki(6, preenchidos6, desigualdades6)"
   ]
  },
  {
   "cell_type": "markdown",
   "source": [
    "#### Problema Futoshiki *7x7*"
   ],
   "metadata": {
    "collapsed": false,
    "pycharm": {
     "name": "#%% md\n"
    }
   }
  },
  {
   "cell_type": "code",
   "execution_count": 124,
   "outputs": [],
   "source": [
    "preenchidos7 = {(1,3): [5], (5,2): [5]}\n",
    "desigualdades7 = { ((0,0),(1,0)) : menor, ((0,1),(0,0)) : menor, ((4,1),(4,0)) : menor,((4,1),(5,1)) : maior, ((6,1),(6,0)) : menor, ((0,2),(1,2)) : maior, ((2,2),(3,2)) : menor, ((5,2),(6,2)) : maior, ((3,3),(3,2)) : maior, ((6,3),(6,2)) : maior, ((1,3),(2,3)) : maior, ((0,4),(0,3)) : maior, ((4,4),(4,3)) : menor, ((1,4),(2,4)) : maior, ((1,5),(1,4)) : maior, ((4,5),(4,4)) : menor, ((4,6),(4,5)) : maior, ((6,5),(6,4)) : menor, ((0,6),(1,6)) : maior, ((2,6),(3,6)) : maior}\n",
    "futoshiki7 = futoshiki(7, preenchidos7, desigualdades7)"
   ],
   "metadata": {
    "collapsed": false,
    "pycharm": {
     "name": "#%%\n"
    }
   }
  },
  {
   "cell_type": "markdown",
   "source": [
    "##### extreme"
   ],
   "metadata": {
    "collapsed": false,
    "pycharm": {
     "name": "#%% md\n"
    }
   }
  },
  {
   "cell_type": "code",
   "execution_count": 125,
   "outputs": [],
   "source": [
    "preenchidos7ext = {(3,2) : [2], (4,0) : [4]}\n",
    "desigualdades7ext = {((1,0),(2,0)):menor, ((2,0),(3,0)):menor, ((5,0),(6,0)): maior, ((2,1),(2,0)):menor, ((5,1),(5,0)):menor, ((0,1),(1,1)):maior, ((1,1),(2,1)):maior, ((2,1),(3,1)): menor, ((4,1),(5,1)):menor, ((2,2),(2,1)): menor, ((5,2),(5,1)): maior, ((1,3),(1,2)): menor, ((2,3),(2,2)): maior, ((0,3),(1,3)):maior, ((2,3),(3,3)):menor, ((4,3),(5,3)): menor, ((0,4),(0,3)):maior,((1,4),(1,3)):menor,((6,4),(6,3)):menor, ((3,4),(4,4)):menor,((4,4),(5,4)):menor,((3,6),(3,5)):maior, ((3,5),(3,4)):menor, ((0,6),(0,5)): maior, ((0,2),(1,2)): maior}\n",
    "\n",
    "futoshiki7Extreme = futoshiki(7, preenchidos7ext, desigualdades7ext)"
   ],
   "metadata": {
    "collapsed": false,
    "pycharm": {
     "name": "#%%\n"
    }
   }
  },
  {
   "cell_type": "markdown",
   "source": [
    "### Aplicação de Algoritmos"
   ],
   "metadata": {
    "collapsed": false,
    "pycharm": {
     "name": "#%% md\n"
    }
   }
  },
  {
   "cell_type": "code",
   "execution_count": 127,
   "outputs": [],
   "source": [
    "solucoesFutoshiki = {}\n",
    "temposFutoshiki = {}"
   ],
   "metadata": {
    "collapsed": false,
    "pycharm": {
     "name": "#%%\n"
    }
   }
  },
  {
   "cell_type": "markdown",
   "source": [
    "- Backtracking sem inferência"
   ],
   "metadata": {
    "collapsed": false,
    "pycharm": {
     "name": "#%% md\n"
    }
   }
  },
  {
   "cell_type": "code",
   "execution_count": 135,
   "outputs": [
    {
     "name": "stdout",
     "output_type": "stream",
     "text": [
      "Tempo médio de execução: 0.0007503600005293265\n",
      "Assignment (Futoshiki5SemInferência) =  {(0, 0): 3, (1, 0): 1, (2, 0): 2, (3, 0): 4, (4, 0): 5, (0, 1): 5, (1, 1): 4, (2, 1): 1, (3, 1): 2, (4, 1): 3, (0, 2): 1, (1, 2): 3, (2, 2): 4, (3, 2): 5, (4, 2): 2, (0, 3): 2, (1, 3): 5, (2, 3): 3, (3, 3): 1, (4, 3): 4, (0, 4): 4, (1, 4): 2, (2, 4): 5, (3, 4): 3, (4, 4): 1}\n",
      "Tempo médio de execução: 0.0017226850031875074\n",
      "Assignment (Futoshiki6SemInferência) =  {(0, 0): 1, (1, 0): 2, (2, 0): 5, (3, 0): 3, (4, 0): 4, (5, 0): 6, (0, 1): 6, (1, 1): 3, (2, 1): 2, (3, 1): 1, (4, 1): 5, (5, 1): 4, (0, 2): 5, (1, 2): 4, (2, 2): 1, (3, 2): 2, (4, 2): 6, (5, 2): 3, (0, 3): 2, (1, 3): 6, (2, 3): 3, (3, 3): 4, (4, 3): 1, (5, 3): 5, (0, 4): 4, (1, 4): 1, (2, 4): 6, (3, 4): 5, (4, 4): 3, (5, 4): 2, (0, 5): 3, (1, 5): 5, (2, 5): 4, (3, 5): 6, (4, 5): 2, (5, 5): 1}\n",
      "Tempo médio de execução: 0.0015082550002261997\n",
      "Assignment (Futoshiki7SemInferência) =  {(0, 0): 2, (1, 0): 7, (2, 0): 6, (3, 0): 3, (4, 0): 4, (5, 0): 1, (6, 0): 5, (0, 1): 1, (1, 1): 6, (2, 1): 7, (3, 1): 5, (4, 1): 3, (5, 1): 2, (6, 1): 4, (0, 2): 3, (1, 2): 2, (2, 2): 4, (3, 2): 6, (4, 2): 7, (5, 2): 5, (6, 2): 1, (0, 3): 4, (1, 3): 5, (2, 3): 1, (3, 3): 7, (4, 3): 6, (5, 3): 3, (6, 3): 2, (0, 4): 6, (1, 4): 3, (2, 4): 2, (3, 4): 1, (4, 4): 5, (5, 4): 4, (6, 4): 7, (0, 5): 5, (1, 5): 4, (2, 5): 3, (3, 5): 2, (4, 5): 1, (5, 5): 7, (6, 5): 6, (0, 6): 7, (1, 6): 1, (2, 6): 5, (3, 6): 4, (4, 6): 2, (5, 6): 6, (6, 6): 3}\n",
      "Tempo médio de execução: 0.0015660250006476416\n",
      "Assignment (Futoshiki7ExtSemInferência) =  {(0, 0): 1, (1, 0): 2, (2, 0): 3, (3, 0): 7, (4, 0): 4, (5, 0): 6, (6, 0): 5, (0, 1): 7, (1, 1): 6, (2, 1): 2, (3, 1): 5, (4, 1): 3, (5, 1): 4, (6, 1): 1, (0, 2): 6, (1, 2): 4, (2, 2): 1, (3, 2): 2, (4, 2): 7, (5, 2): 5, (6, 2): 3, (0, 3): 4, (1, 3): 3, (2, 3): 5, (3, 3): 6, (4, 3): 1, (5, 3): 2, (6, 3): 7, (0, 4): 5, (1, 4): 1, (2, 4): 4, (3, 4): 3, (4, 4): 6, (5, 4): 7, (6, 4): 2, (0, 5): 2, (1, 5): 7, (2, 5): 6, (3, 5): 1, (4, 5): 5, (5, 5): 3, (6, 5): 4, (0, 6): 3, (1, 6): 5, (2, 6): 7, (3, 6): 4, (4, 6): 2, (5, 6): 1, (6, 6): 6}\n"
     ]
    }
   ],
   "source": [
    "# Definir problema\n",
    "Futoshiki5SemInferência = futoshiki(5, preenchidos5, desigualdades5)\n",
    "# Guardar solucao\n",
    "sol_15 = backtracking_search(Futoshiki5SemInferência)\n",
    "# Calcular tempo medio executando 20 vezes\n",
    "tempo_medio15 = avg_run_time(backtracking_search,Futoshiki5SemInferência)\n",
    "# Guardar resultados\n",
    "temposFutoshiki['Futoshiki5SemInferência'] = tempo_medio15\n",
    "solucoesFutoshiki['Futoshiki5SemInferência'] = sol_15\n",
    "# Imprimir resultados\n",
    "print(f\"Tempo médio de execução: {tempo_medio15}\")\n",
    "print('Assignment (Futoshiki5SemInferência) = ',sol_15)\n",
    "\n",
    "# Definir problema\n",
    "Futoshiki6SemInferência = futoshiki(6, preenchidos6, desigualdades6)\n",
    "# Guardar solucao\n",
    "sol_16 = backtracking_search(Futoshiki6SemInferência)\n",
    "# Calcular tempo medio executando 20 vezes\n",
    "tempo_medio16 = avg_run_time(backtracking_search,Futoshiki6SemInferência)\n",
    "# Guardar resultados\n",
    "temposFutoshiki['Futoshiki6SemInferência'] = tempo_medio16\n",
    "solucoesFutoshiki['Futoshiki6SemInferência'] = sol_16\n",
    "# Imprimir resultados\n",
    "print(f\"Tempo médio de execução: {tempo_medio16}\")\n",
    "print('Assignment (Futoshiki6SemInferência) = ',sol_16)\n",
    "\n",
    "# Definir problema\n",
    "Futoshiki7SemInferência = futoshiki(7, preenchidos7, desigualdades7)\n",
    "# Guardar solucao\n",
    "sol_17 = backtracking_search(Futoshiki7SemInferência)\n",
    "# Calcular tempo medio executando 20 vezes\n",
    "tempo_medio17 = avg_run_time(backtracking_search,Futoshiki7SemInferência)\n",
    "# Guardar resultados\n",
    "temposFutoshiki['Futoshiki7SemInferência'] = tempo_medio17\n",
    "solucoesFutoshiki['Futoshiki7SemInferência'] = sol_17\n",
    "# Imprimir resultados\n",
    "print(f\"Tempo médio de execução: {tempo_medio17}\")\n",
    "print('Assignment (Futoshiki7SemInferência) = ',sol_17)\n",
    "\n",
    "# Definir problema\n",
    "Futoshiki7ExtSemInferência = futoshiki(7, preenchidos7ext, desigualdades7ext)\n",
    "# Guardar solucao\n",
    "sol_17ext = backtracking_search(Futoshiki7ExtSemInferência)\n",
    "# Calcular tempo medio executando 20 vezes\n",
    "tempo_medio17ext = avg_run_time(backtracking_search,Futoshiki7ExtSemInferência)\n",
    "# Guardar resultados\n",
    "temposFutoshiki['Futoshiki7ExtSemInferência'] = tempo_medio17ext\n",
    "solucoesFutoshiki['Futoshiki7ExtSemInferência'] = sol_17ext\n",
    "# Imprimir resultados\n",
    "print(f\"Tempo médio de execução: {tempo_medio17ext}\")\n",
    "print('Assignment (Futoshiki7ExtSemInferência) = ',sol_17ext)"
   ],
   "metadata": {
    "collapsed": false,
    "pycharm": {
     "name": "#%%\n"
    }
   }
  },
  {
   "cell_type": "markdown",
   "source": [
    "- Backtracking com inferência Forward Checking"
   ],
   "metadata": {
    "collapsed": false,
    "pycharm": {
     "name": "#%% md\n"
    }
   }
  },
  {
   "cell_type": "code",
   "execution_count": 136,
   "outputs": [
    {
     "name": "stdout",
     "output_type": "stream",
     "text": [
      "Tempo médio de execução: 0.0008416299941018223\n",
      "Assignment (Futoshiki5ComInferência_FRWDchecking) =  {(0, 0): 3, (1, 0): 1, (2, 0): 2, (3, 0): 4, (4, 0): 5, (0, 1): 5, (1, 1): 4, (2, 1): 1, (3, 1): 2, (4, 1): 3, (0, 2): 1, (1, 2): 3, (2, 2): 4, (3, 2): 5, (4, 2): 2, (0, 3): 2, (1, 3): 5, (2, 3): 3, (3, 3): 1, (4, 3): 4, (0, 4): 4, (1, 4): 2, (2, 4): 5, (3, 4): 3, (4, 4): 1}\n",
      "Tempo médio de execução: 0.0013467600132571534\n",
      "Assignment (Futoshiki6ComInferência_FRWDchecking) =  {(0, 0): 1, (1, 0): 2, (2, 0): 5, (3, 0): 3, (4, 0): 4, (5, 0): 6, (0, 1): 2, (1, 1): 6, (2, 1): 3, (3, 1): 1, (4, 1): 5, (5, 1): 4, (0, 2): 5, (1, 2): 3, (2, 2): 4, (3, 2): 2, (4, 2): 6, (5, 2): 1, (0, 3): 6, (1, 3): 5, (2, 3): 2, (3, 3): 4, (4, 3): 1, (5, 3): 3, (0, 4): 4, (1, 4): 1, (2, 4): 6, (3, 4): 5, (4, 4): 3, (5, 4): 2, (0, 5): 3, (1, 5): 4, (2, 5): 1, (3, 5): 6, (4, 5): 2, (5, 5): 5}\n",
      "Tempo médio de execução: 0.001965565004502423\n",
      "Assignment (Futoshiki7ComInferência_FRWDchecking) =  {(0, 0): 2, (1, 0): 3, (2, 0): 4, (3, 0): 5, (4, 0): 6, (5, 0): 1, (6, 0): 7, (0, 1): 1, (1, 1): 2, (2, 1): 3, (3, 1): 7, (4, 1): 5, (5, 1): 4, (6, 1): 6, (0, 2): 6, (1, 2): 4, (2, 2): 2, (3, 2): 3, (4, 2): 7, (5, 2): 5, (6, 2): 1, (0, 3): 3, (1, 3): 5, (2, 3): 1, (3, 3): 6, (4, 3): 4, (5, 3): 7, (6, 3): 2, (0, 4): 7, (1, 4): 6, (2, 4): 5, (3, 4): 1, (4, 4): 2, (5, 4): 3, (6, 4): 4, (0, 5): 5, (1, 5): 7, (2, 5): 6, (3, 5): 4, (4, 5): 1, (5, 5): 2, (6, 5): 3, (0, 6): 4, (1, 6): 1, (2, 6): 7, (3, 6): 2, (4, 6): 3, (5, 6): 6, (6, 6): 5}\n",
      "Tempo médio de execução: 0.002125369996065274\n",
      "Assignment (Futoshiki7extComInferência_FRWDchecking) =  {(0, 0): 1, (1, 0): 2, (2, 0): 3, (3, 0): 7, (4, 0): 4, (5, 0): 6, (6, 0): 5, (0, 1): 7, (1, 1): 6, (2, 1): 2, (3, 1): 5, (4, 1): 3, (5, 1): 4, (6, 1): 1, (0, 2): 6, (1, 2): 4, (2, 2): 1, (3, 2): 2, (4, 2): 7, (5, 2): 5, (6, 2): 3, (0, 3): 4, (1, 3): 3, (2, 3): 5, (3, 3): 6, (4, 3): 1, (5, 3): 2, (6, 3): 7, (0, 4): 5, (1, 4): 1, (2, 4): 4, (3, 4): 3, (4, 4): 6, (5, 4): 7, (6, 4): 2, (0, 5): 2, (1, 5): 7, (2, 5): 6, (3, 5): 1, (4, 5): 5, (5, 5): 3, (6, 5): 4, (0, 6): 3, (1, 6): 5, (2, 6): 7, (3, 6): 4, (4, 6): 2, (5, 6): 1, (6, 6): 6}\n"
     ]
    }
   ],
   "source": [
    "# Definir problema\n",
    "Futoshiki5ComInferência_FRWDchecking = futoshiki(5, preenchidos5, desigualdades5)\n",
    "# Resolver e guardar solucao\n",
    "sol_25 = backtracking_search(Futoshiki5ComInferência_FRWDchecking, inference=forward_checking)\n",
    "# Calcular o tempo medio de execucao\n",
    "tempo_medio25 = avg_run_time(backtracking_search, Futoshiki5ComInferência_FRWDchecking, inference=forward_checking)\n",
    "# Guardar resultados\n",
    "tempos['Futoshiki5ComInferência_FRWDchecking'] = tempo_medio25\n",
    "solucoes['Futoshiki5ComInferência_FRWDchecking'] = sol_25\n",
    "# Imprimir resultados\n",
    "print(f\"Tempo médio de execução: {tempo_medio25}\")\n",
    "print('Assignment (Futoshiki5ComInferência_FRWDchecking) = ',sol_25)\n",
    "\n",
    "# Definir problema\n",
    "Futoshiki6ComInferência_FRWDchecking = futoshiki(6, preenchidos6, desigualdades6)\n",
    "# Resolver e guardar solucao\n",
    "sol_26 = backtracking_search(Futoshiki6ComInferência_FRWDchecking, inference=forward_checking)\n",
    "# Calcular o tempo medio de execucao\n",
    "tempo_medio26 = avg_run_time(backtracking_search, Futoshiki6ComInferência_FRWDchecking, inference=forward_checking)\n",
    "# Guardar resultados\n",
    "tempos['Futoshiki6ComInferência_FRWDchecking'] = tempo_medio26\n",
    "solucoes['Futoshiki6ComInferência_FRWDchecking'] = sol_26\n",
    "# Imprimir resultados\n",
    "print(f\"Tempo médio de execução: {tempo_medio26}\")\n",
    "print('Assignment (Futoshiki6ComInferência_FRWDchecking) = ', sol_26)\n",
    "\n",
    "# Definir problema\n",
    "Futoshiki7ComInferência_FRWDchecking = futoshiki(7, preenchidos7, desigualdades7)\n",
    "# Resolver e guardar solucao\n",
    "sol_27 = backtracking_search(Futoshiki7ComInferência_FRWDchecking, inference=forward_checking)\n",
    "# Calcular o tempo medio de execucao\n",
    "tempo_medio27 = avg_run_time(backtracking_search, Futoshiki7ComInferência_FRWDchecking, inference=forward_checking)\n",
    "# Guardar resultados\n",
    "tempos['Futoshiki7ComInferência_FRWDchecking'] = tempo_medio27\n",
    "solucoes['Futoshiki7ComInferência_FRWDchecking'] = sol_27\n",
    "# Imprimir resultados\n",
    "print(f\"Tempo médio de execução: {tempo_medio27}\")\n",
    "print('Assignment (Futoshiki7ComInferência_FRWDchecking) = ', sol_27)\n",
    "\n",
    "# Definir problema\n",
    "Futoshiki7extComInferência_FRWDchecking = futoshiki(7, preenchidos7ext, desigualdades7ext)\n",
    "# Resolver e guardar solucao\n",
    "sol_27ext = backtracking_search(Futoshiki7extComInferência_FRWDchecking, inference=forward_checking)\n",
    "# Calcular o tempo medio de execucao\n",
    "tempo_medio27ext = avg_run_time(backtracking_search, Futoshiki7extComInferência_FRWDchecking, inference=forward_checking)\n",
    "# Guardar resultados\n",
    "tempos['Futoshiki7extComInferência_FRWDchecking'] = tempo_medio27ext\n",
    "solucoes['Futoshiki7extComInferência_FRWDchecking'] = sol_27ext\n",
    "# Imprimir resultados\n",
    "print(f\"Tempo médio de execução: {tempo_medio27ext}\")\n",
    "print('Assignment (Futoshiki7extComInferência_FRWDchecking) = ', sol_27ext)"
   ],
   "metadata": {
    "collapsed": false,
    "pycharm": {
     "name": "#%%\n"
    }
   }
  },
  {
   "cell_type": "markdown",
   "source": [
    "## Visualização do problema"
   ],
   "metadata": {
    "collapsed": false,
    "pycharm": {
     "name": "#%% md\n"
    }
   }
  },
  {
   "cell_type": "code",
   "metadata": {
    "pycharm": {
     "name": "#%%\n"
    }
   },
   "source": [
    "# Implemente uma função que permita visualizar o puzzle Futoshiki, antes e depois de resolvido. Compare com a solução obtida pelo seu algoritmo. \n",
    "# No caso de não implementar esta função, inclua um screenshot do problema e da sua solução.\n",
    "def visualizacao_futoshiki(n, problema_csp, desigualdades, solucao):\n",
    "    \n",
    "    def mapeamento_2D_para_1D(x,y):\n",
    "        return y*(n+(n-1)*3+1) + x\n",
    "\n",
    "    def escrita_numeros(x,y):\n",
    "        return mapeamento_2D_para_1D(x*4, y*2)\n",
    "    \n",
    "    def escrita_desigualdades_linha(x,y):\n",
    "        return mapeamento_2D_para_1D(x*4+2, y*2)\n",
    "    \n",
    "    def escrita_desigualdades_coluna(x,y):\n",
    "        return mapeamento_2D_para_1D(x*4, y*2-1)\n",
    "\n",
    "    def escrever_desigualdade(operacao, direcao):\n",
    "        if direcao == \"x\":\n",
    "            if operacao.__name__ == \"maior\":\n",
    "                return '>'\n",
    "            else:\n",
    "                return '<'\n",
    "        else:\n",
    "            if operacao.__name__ == \"maior\":\n",
    "                return u\"\\u2227\" # Carater ∧\n",
    "            else:\n",
    "                return u\"\\u2228\" # Carater ∨\n",
    "\n",
    "    board_inicial = ([\" \"] * (n+(n-1)*3) + [\"\\n\"]) * (n*2)\n",
    "    for var, dom in problema_csp.domains.items():\n",
    "        if len(dom) == 1:\n",
    "            board_inicial[escrita_numeros(var[0],var[1])] = str(dom[0])\n",
    "        else:\n",
    "            board_inicial[escrita_numeros(var[0],var[1])] = \"0\"\n",
    "    for var, operacao in desigualdades.items():\n",
    "        if (var[0][1] == var[1][1]):\n",
    "            board_inicial[escrita_desigualdades_linha(var[0][0],var[0][1])] = escrever_desigualdade(operacao, \"x\")\n",
    "        else:\n",
    "            board_inicial[escrita_desigualdades_coluna(var[0][0],var[0][1])] = escrever_desigualdade(operacao, \"y\")\n",
    "    \n",
    "    board_final = board_inicial.copy()\n",
    "    for var, valor in solucao.items():\n",
    "        board_final[escrita_numeros(var[0],var[1])] = str(valor)\n",
    "    \n",
    "\n",
    "    print(\"Estado Inicial:\")\n",
    "    print(''.join(board_inicial))\n",
    "    print(\"Solução:\")\n",
    "    print(''.join(board_final))"
   ],
   "execution_count": null,
   "outputs": []
  },
  {
   "cell_type": "markdown",
   "metadata": {
    "pycharm": {
     "name": "#%% md\n"
    }
   },
   "source": [
    "# Implentação de ALgoritmos"
   ]
  },
  {
   "cell_type": "markdown",
   "source": [
    "- Backtracking sem inferência"
   ],
   "metadata": {
    "collapsed": false,
    "pycharm": {
     "name": "#%% md\n"
    }
   }
  },
  {
   "cell_type": "code",
   "execution_count": null,
   "outputs": [],
   "source": [
    "# Definir problema\n",
    "QuadradoLatinoSemInferência = quadrado_latino(n)\n",
    "# Guardar solucao\n",
    "sol_1 = backtracking_search(QuadradoLatinoSemInferência)\n",
    "# Calcular tempo medio executando 20 vezes\n",
    "tempo_medio1 = avg_run_time(backtracking_search, QuadradoLatinoSemInferência)\n",
    "# Guardar resultados\n",
    "tempos['QuadradoLatinoSemInferência'] = tempo_medio1\n",
    "solucoes['QuadradoLatinoSemInferência'] = sol_1\n",
    "# Imprimir resultados\n",
    "print(f\"Tempo médio de execução: {tempo_medio1}\")\n",
    "print('Assignment (QuadradoLatinoSemInferência) = ',sol_1)"
   ],
   "metadata": {
    "collapsed": false,
    "pycharm": {
     "name": "#%%\n"
    }
   }
  }
 ],
 "metadata": {
  "interpreter": {
   "hash": "ca0a6ed6c3687464969dd6147ab8a98b55d02ef7a9aec76841b10aa7e05a39c3"
  },
  "kernelspec": {
   "display_name": "Python 3.9.7 ('base')",
   "language": "python",
   "name": "python3"
  },
  "language_info": {
   "codemirror_mode": {
    "name": "ipython",
    "version": 3
   },
   "file_extension": ".py",
   "mimetype": "text/x-python",
   "name": "python",
   "nbconvert_exporter": "python",
   "pygments_lexer": "ipython3",
   "version": "3.9.12"
  },
  "orig_nbformat": 4
 },
 "nbformat": 4,
 "nbformat_minor": 2
}