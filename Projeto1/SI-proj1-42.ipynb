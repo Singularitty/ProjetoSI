{
 "cells": [
  {
   "cell_type": "markdown",
   "id": "bf9c87b1",
   "metadata": {},
   "source": [
    "# Sistemas Inteligentes 2021/2022\n",
    "\n",
    "## Mini-projeto 1: Pacman comilão\n",
    "\n",
    "<img src=\"pacman.png\" alt=\"Drawing\" style=\"width: 100px;\"/>"
   ]
  },
  {
   "cell_type": "markdown",
   "id": "d7b8efca",
   "metadata": {},
   "source": [
    "## Grupo: 42\n",
    "\n",
    "### Elementos do Grupo\n",
    "\n",
    "Número:  53687       Nome:   Ariana Dias   \n",
    "Número:  53746       Nome:   Andrei Tataru  \n",
    "Número:  51127       Nome:   Luís Ferreirinha  \n",
    "\n",
    "(Nota: Neste relatório pode adicionar as células de texto e código que achar necessárias.)"
   ]
  },
  {
   "cell_type": "markdown",
   "id": "df10acb0",
   "metadata": {},
   "source": [
    "## Representação dos estados\n",
    "\n",
    "(descreva aqui, textualmente, como decidiu representar os estados em Python; ilustre nas células de código abaixo a representação em Python de um estado à sua escolha)"
   ]
  },
  {
   "cell_type": "markdown",
   "id": "c0b86318",
   "metadata": {},
   "source": [
    "-  Estados  \n",
    "    - Posição Pacman: $\\left(x,y\\right)$ onde $x,y=$ inteiros\n",
    "    - Pontos: inteiro\n",
    "    - Tempo: inteiro\n",
    "    - Casas Visitadas: {(x,y) : n}, x,y,n = inteiros, n representa o número de visitas a uma casa\n",
    "    - Conjunto das Pastilhas: {(x,y) : tipo}, x,y = inteiros, tipo é um char que representa o tipo da pastilha   \n",
    "   \n",
    "- Estado Inicial: [Posicao Pacmam, Pontos = 0, tempo = 0, Casas Vistadas = {}, Pastilhas]\n",
    "\n",
    "- Goal Test: Pontos = M  \n",
    "\n",
    "- Operadores:  \n",
    "    - Mover-se nas quatro direcções ortogonais para as quatro células vizinhas:  \n",
    "        - $(x,y) \\to (x+i,y+j)$,  onde  $i,j = 0 \\, \\, ou \\, \\, 1$  \n",
    "        - Se não for impedido pelos limites do mundo nem por obstáculos.\n",
    "    - Comer a pastilha na casa, removendo esta e adicionando os respetivos pontos ao seu total de pontos:\n",
    "        - Pontos Totais = Pontos Totais + Pontos da Pastilha\n",
    "        - Se a casa onde o pacman se encontra contem uma pastilha\n"
   ]
  },
  {
   "cell_type": "code",
   "execution_count": 13,
   "id": "15d946c3",
   "metadata": {},
   "outputs": [],
   "source": [
    "# se definiu uma classe para representar os estados, inclua aqui o código Python correspondente\n",
    "class EspacoPacman():\n",
    "\n",
    "    def __init__(self, Pos_Pacman : tuple[int, int], Pastilhas : dict, Visitas : dict):\n",
    "        self.Pos = Pos_Pacman\n",
    "        self.Pontos = 0\n",
    "        self.Tempo = 0\n",
    "        self.Pastilhas = Pastilhas\n",
    "\n",
    "    def getEstado(self):\n",
    "        return [self.Pos, self.Tempo, self.Pontos, self.Pastilhas]\n",
    "\n",
    "    def setEstado(self, Pos, Tempo, Pontos, Pastilhas):\n",
    "        self.Pos = Pos\n",
    "        self.Pontos = Pontos\n",
    "        self.Tempo = Tempo\n",
    "        self.Pastilhas = Pastilhas\n"
   ]
  },
  {
   "cell_type": "code",
   "execution_count": 15,
   "id": "d335aebe",
   "metadata": {},
   "outputs": [
    {
     "name": "stdout",
     "output_type": "stream",
     "text": [
      "[(0, 0), 0, {(1, 1): 'N', (2, 3): 'D', (0, 2): 'C'}]\n",
      "[(2, 3), 1, {(1, 1): 'N', (2, 3): 'D', (0, 2): 'C'}]\n"
     ]
    }
   ],
   "source": [
    "# representação de um estado à sua escolha\n",
    "\n",
    "# Teste\n",
    "pastilhas = {(1,1) : \"N\", (2,3) : \"D\", (0,2) : \"C\"}\n",
    "Espaço = EspacoPacman((0,0), pastilhas)\n",
    "print(Espaço.getEstado())\n",
    "estado1 = Espaço.getEstado()\n",
    "\n",
    "Espaço.setEstado((2,3),1,pastilhas)\n",
    "estado2 = Espaço.getEstado()\n",
    "print(estado2)"
   ]
  },
  {
   "cell_type": "markdown",
   "id": "4ab69211",
   "metadata": {},
   "source": [
    "## Formulação do problema\n",
    "\n",
    "(explique textualmente como decidiu formular em Python o seu problema)"
   ]
  },
  {
   "cell_type": "code",
   "execution_count": 1,
   "id": "c5327f4f",
   "metadata": {},
   "outputs": [],
   "source": [
    "from searchPlus import *\n",
    "\n",
    "class PacmanPastilhas(Problem):\n",
    "    \n",
    "    mapa = []\n",
    "\n",
    "    def __init__(self, pos, objetivo, pastilhas, obstaculos, dimensao):\n",
    "        initial = EspaçoEstados(pos, pastilhas)\n",
    "        super().__init__(initial, goal)\n",
    "\n",
    "        # Iniciar Mapa\n",
    "        mapa = [[0]*dimensao for x in range(dimensao)]\n",
    "        for x, y in obstaculos:\n",
    "            mapa[y][x] = 1\n",
    "\n",
    "    def actions(self, state):\n",
    "        pass\n",
    "\n",
    "    def result(self, state, action):\n",
    "        pass\n",
    "\n",
    "    def path_cost(self, cost, state, action, next_state)\n",
    "        pass\n",
    "\n",
    "    def goal_test(self, estado):\n",
    "        return estado[2] == self.goal"
   ]
  },
  {
   "cell_type": "code",
   "execution_count": 18,
   "id": "6b0059f4",
   "metadata": {},
   "outputs": [],
   "source": [
    "def line(x, y, dx, dy, length):\n",
    "    \"\"\"Uma linha de células de comprimento 'length' começando em (x, y) na direcção (dx, dy).\"\"\"\n",
    "    return {(x + i * dx, y + i * dy) for i in range(length)}\n",
    "\n",
    "def quadro(x, y, length):\n",
    "    \"\"\"Uma moldura quadrada de células de comprimento 'length' começando no topo esquerdo (x, y).\"\"\"\n",
    "    return line(x,y,0,1,length) | line(x+length-1,y,0,1,length) | line(x,y,1,0,length) | line(x,y+length-1,1,0,length)"
   ]
  },
  {
   "cell_type": "code",
   "execution_count": 26,
   "id": "154a85d9",
   "metadata": {},
   "outputs": [
    {
     "name": "stdout",
     "output_type": "stream",
     "text": [
      "[[0, 0, 0, 0, 0, 0, 0, 0, 0, 0], [0, 0, 0, 0, 0, 0, 0, 0, 0, 0], [0, 0, 0, 0, 0, 0, 0, 0, 0, 0], [0, 0, 0, 0, 0, 0, 0, 0, 0, 0], [0, 0, 0, 0, 0, 0, 0, 0, 0, 0], [0, 0, 0, 0, 0, 0, 0, 0, 0, 0], [0, 0, 0, 0, 0, 0, 0, 0, 0, 0], [0, 0, 0, 0, 0, 0, 0, 0, 0, 0], [0, 0, 0, 0, 0, 0, 0, 0, 0, 0], [0, 0, 0, 0, 0, 0, 0, 0, 0, 0]]\n",
      "\n",
      "[[1, 1, 1, 1, 1, 1, 1, 1, 1, 1], [1, 0, 0, 0, 0, 0, 0, 0, 0, 1], [1, 0, 1, 1, 1, 1, 1, 1, 0, 1], [1, 0, 1, 0, 0, 0, 0, 0, 0, 1], [1, 0, 1, 0, 0, 0, 0, 0, 0, 1], [1, 0, 1, 0, 0, 0, 0, 0, 0, 1], [1, 0, 1, 0, 0, 0, 0, 0, 0, 1], [1, 0, 0, 0, 0, 0, 0, 0, 0, 1], [1, 0, 0, 0, 0, 0, 0, 0, 0, 1], [1, 1, 1, 1, 1, 1, 1, 1, 1, 1]]\n"
     ]
    }
   ],
   "source": [
    "dimensao = 10\n",
    "mapa = [[0]*dimensao for x in range(dimensao)]\n",
    "l = line(2,2,1,0,6)\n",
    "c = line(2,3,0,1,4)\n",
    "fronteira = quadro(0,0,10)\n",
    "obstaculos = fronteira | l | c\n",
    "print(mapa)\n",
    "for x,y in obstaculos:\n",
    "    mapa[y][x] = 1\n",
    "print()\n",
    "print(mapa)"
   ]
  },
  {
   "cell_type": "markdown",
   "id": "f46b1688",
   "metadata": {},
   "source": [
    "## Criação de estados e do problema\n",
    "\n",
    "(Mostrem que o código está a funcionar, construindo instâncias da classe **PacmanPastilhas**, fazendo display dos estados, verificando o teste do estado final, gerando as ações para alguns estados, executando ações a partir de alguns estados e gerando novos estados e mostrando a evolução dos custos; verificando que os estados não se modificam com as ações (são gerados novos estados) e que a igualdade e a comparação entre estados funciona. Mostrem que a execução de sequências de ações está a funcionar bem.)"
   ]
  },
  {
   "cell_type": "code",
   "execution_count": null,
   "id": "0b95b771",
   "metadata": {},
   "outputs": [],
   "source": [
    "# código de teste do problema\n",
    "\n",
    "def exec(p,estado,accoes):\n",
    "    custo = 0\n",
    "    for a in accoes:\n",
    "        seg = p.result(estado,a)\n",
    "        custo = p.path_cost(custo,estado,a,seg)\n",
    "        estado = seg\n",
    "    p.display(estado)\n",
    "    print('Custo:',custo)\n",
    "    print('Goal?',p.goal_test(estado))\n",
    "    return (estado,custo)"
   ]
  },
  {
   "cell_type": "markdown",
   "id": "14a095c8",
   "metadata": {},
   "source": [
    "## Teste de procura de solução\n",
    "\n",
    "(utilização de algoritmos de procura aprendidos nas aulas e comparação dos resultados ao nível de tempo de execução e solução obtida; comente aqui os resultados obtidos e o que observa)"
   ]
  },
  {
   "cell_type": "code",
   "execution_count": null,
   "id": "06577d27",
   "metadata": {},
   "outputs": [],
   "source": [
    "# código de aplicação dos algoritmos"
   ]
  }
 ],
 "metadata": {
  "kernelspec": {
   "display_name": "Python 3 (ipykernel)",
   "language": "python",
   "name": "python3"
  },
  "language_info": {
   "codemirror_mode": {
    "name": "ipython",
    "version": 3
   },
   "file_extension": ".py",
   "mimetype": "text/x-python",
   "name": "python",
   "nbconvert_exporter": "python",
   "pygments_lexer": "ipython3",
   "version": "3.9.7"
  }
 },
 "nbformat": 4,
 "nbformat_minor": 5
}
