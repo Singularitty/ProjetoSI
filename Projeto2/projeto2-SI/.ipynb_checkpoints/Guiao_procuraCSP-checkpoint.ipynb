{
 "cells": [
  {
   "cell_type": "markdown",
   "metadata": {},
   "source": [
    "# Sistemas Inteligentes\n",
    "\n",
    "## Resolução de Problemas de Satisfação de Restrições\n",
    "\n",
    "## Conteúdos\n",
    "\n",
    "* Revisão da definição de CSP\n",
    "* Procura com retrocesso (backtracking-search)\n",
    "* Relevância da ordem inicial das variáveis\n",
    "* Relevância da ordem inicial dos domínios\n",
    "* Inferência forward checking\n",
    "* Procura com retrocesso usando a inferência forward checking\n",
    "* Pré-processamento usando AC3\n",
    "* Procura com inferência em que se mantém a consistência (mac)\n",
    "* Utilização de heurísticas no backtracking-search (mrv)\n",
    "* Exercícios"
   ]
  },
  {
   "cell_type": "markdown",
   "metadata": {},
   "source": [
    "### Introdução\n",
    "\n",
    "Nesta aula vamos formular e resolver problemas de satisfação de restrições - **Constraint Satisfaction Problems (CSP)**. O contexto é o analisado nas aulas T e TP em que um CSP é caracterizado por 3 componentes:\n",
    "\n",
    "- **Variáveis** - para as quais se quer encontrar uma afetação (*assigment*) completa e consistente (solução); podem ser discretas ou contínuas.\n",
    "- **Domínios** - indicam os valores possíveis das variáveis; podem ser finitos ou infinitos.\n",
    "- **Restrições** - especificam combinações possíveis de valores para subconjuntos de variáveis; podem ser: \n",
    "    1. unárias, por exemplo `<(X1): X1=5>`, \n",
    "    2. binárias, por exemplo `<(X1,X2): X1=X2>`, ou de \n",
    "    3. ordem superior, por exemplo `<(X1,X2,X3), alldiff(X1,X2,X3)>`."
   ]
  },
  {
   "cell_type": "markdown",
   "metadata": {},
   "source": [
    "Neste contexto, **em CSP**:\n",
    "\n",
    "* **Estado** - é um conjunto de variaveis com valores nos seus domínios (afetação/assignment); uma afectação pode ser 1) completa, se todas as variáveis tem valor, ou parcial, caso contrário; e 2) consistente, se  satisfaz todas as restrições, ou inconsistente, caso contrário. \n",
    "* **Procura** - é efetuada usando propagação de restrições e, quando ainda há diversas soluções possíveis, algoritmos de procura que usam heurísticas genéricas em vez de heurística específica do problema, como acontecia na resolução dos Problemas de Espaços de Estados (PEE).\n",
    "* **Solução** - é uma afetação completa e consistente.\n",
    "\n",
    "**A resolução de um CSP tem 2 passos**:\n",
    "\n",
    "**Passo 1)** Formulação do problema (definir variáveis, domínios, restrições)\n",
    "\n",
    "**Passo 2)** Resolução do problema (usar algoritmo de procura)\n",
    "\n",
    "Na última aula de laboratório dedicámo-nos à formulação e esta aula será dedicada à resolução dos CSPs."
   ]
  },
  {
   "cell_type": "markdown",
   "metadata": {},
   "source": [
    "Recorde o algoritmo de procura **BACKTRACKING-SEARCH**, dado na aula T e usado na aula TP, que efetua procura em profundidade primeiro com retrocesso fazendo afetação a uma única variável a cada nível da procura.\n",
    "\n",
    "Recorde também que o **funcionamento do BACKTRACKING-SEARCH pode ser melhorado**:\n",
    "\n",
    "**1)** Usando o algorimo **AC3** (ARC CONSISTENCY ALGORITHM) como pré-processamento para inferir reduções nos domínios das variáveis antes de efectuar a procura.\n",
    "\n",
    "**2)** Usando **heurísticas** no BACKTRACKING-SEARCH para decidir qual variável e a ordem dos valores da variável a testar. \n",
    "\n",
    "2.1) Que variável testar primeiro? (diferentes implementações da função SELECT-UNASSIGNED-VARIABLE)\n",
    "* **MINIMUM-REMAINING-VALUES (MRV)** - heurística que escolhe a variável com o menor número de valores no domínio. Nesta implementação em caso de empate escolhe-se a próxima variável de modo aleatório.  \n",
    "\n",
    "2.2) Qual a ordem dos valores a testar? (diferentes implementações da função ORDER-DOMAIN-VALUES)\n",
    "* **LEAST-CONSTRAINING-VALUE** - heurística que escolhe o valor menos limitador\n",
    "\n",
    "**3)** Usando inferência de forma a detectar falhas precocemente (diferentes implementações da função INFERENCE).\n",
    "* **FORWARD-CHECKING**\n",
    "* **MAC** (Mantain Arc Consistenty) \n",
    "\n",
    "**4)** Usando uma **combinação** das estratégias anteriores."
   ]
  },
  {
   "cell_type": "markdown",
   "metadata": {},
   "source": [
    "### Módulo *csp.py* - Breve Explicação\n",
    "\n",
    "Este módulo foi construído com base no módulo **CSP.py** disponível no [repositório habitual](https://github.com/aimacode/aima-python). A diferença é que tem um modo que deixa um traço do processo de procura, permitindo acompanhar/visualizar a execução da procura nas suas variantes, quando se coloca o argumento 'verbose' a `True`; por omissão está a `False`.\n",
    "\n",
    "No essencial, é disponibilizado o seguinte:\n",
    "* Classe **CSP**, que serve de base à definição dos problemas CSP;\n",
    "* Função **AC3**, que implementa o algoritmo AC3;\n",
    "* Funções **first_unassigned_variable** e **mrv**, que implementam heurísticas para seleccionar a variável a testar primeiro.\n",
    "* Função **unordered_domain_values** e **lcv** que implementam heurísticas para ordenação dos valores a testar primeiro.\n",
    "* Funções **no_inference**, **forward_checking** e **mac** que implementam diferentes tipos de inferência.\n",
    "* Função **backtracking_search** que implementa o algoritmo BACKTRACKING-SEARCH.\n",
    "\n",
    "Este módulo tem que ser importado, mas **não deverá alterá-lo**."
   ]
  },
  {
   "cell_type": "code",
   "execution_count": null,
   "metadata": {},
   "outputs": [],
   "source": [
    "from csp import *"
   ]
  },
  {
   "cell_type": "markdown",
   "metadata": {},
   "source": [
    "### Criação de um CSP usando a classe **CSP**\n",
    "\n",
    "Esta classe permite definir um CSP assumindo que os domínios das variáveis são finitos. Para definir um CSP concreto é necessário definir as variáveis, os domínios, o grafo de restrições e as restrições que serão depois usadas para criar um objecto da classe CSP.\n",
    "\n",
    "Neste contexto, o construtor \n",
    "```python\n",
    "def __init__(self, variables, domains, neighbors, constraints)\n",
    "```\n",
    "tem os seguintes argumentos:\n",
    "  \n",
    "* **`variables`** : Lista de variáveis (strings ou inteiros).\n",
    "\n",
    "* **`domains`** : Dicionário com elementos do tipo `{var:[valor, ...]}`.\n",
    "\n",
    "* **`neighbors`**: Dicionário com elementos do tipo `{var:[var,...]}` em que cada variável var (chave) tem como valor uma lista das variáveis com as quais tem restrições (vizinhos no grafo de restrições), que define o grafo de restrições.\n",
    "\n",
    "* **`constraints`** : Função do tipo `f(A, a, B, b)` que devolve `True` se os vizinhos `A` e `B` satisfazem a restrição quando têm valores `A=a` e `B=b`. "
   ]
  },
  {
   "cell_type": "markdown",
   "metadata": {},
   "source": [
    "### Solução de um CSP usando o algoritmo BACKTRACKING-SEARCH\n",
    "\n",
    "Após criado um CSP (veremos a seguir como definir os parâmetros para um exemplo concreto) usando o construtor da classe CSP:\n",
    "```python\n",
    "p = CSP(variables, domains, neighbors, constraints)\n",
    "```\n",
    "\n",
    "utiliza-se o algoritmo BACKTRACKING-SEARCH implementado na função **`backtracking_search`** para o resolver. \n",
    "\n",
    "Neste contexto, a função \n",
    "```python\n",
    "def backtracking_search(csp,\n",
    "                        select_unassigned_variable=first_unassigned_variable,\n",
    "                        order_domain_values=unordered_domain_values,\n",
    "                        inference=no_inference, verbose = False)\n",
    "```\n",
    "\n",
    "tem os seguintes argumentos\n",
    "  \n",
    "* **`csp`** : objecto da classe CSP com o problema a resolver.\n",
    "\n",
    "* **`select_unassigned_variable`** : heurística a usar para seleccionar a variável (`first_unassigned_variable` - por omissão usa a ordem natural das variáveis).\n",
    "\n",
    "* **`order_domain_values`**: heurística a usar para ordenar os valores (`unordered_domain_values` - por omissão usa a ordem natural das variáveis).\n",
    "\n",
    "* **`inference`** : inferência a usar para detectar falhas precocemente (`no_inference` - nenhuma inferência por omissão).\n",
    "\n",
    "* **`verbose`** : usar o modo verbose que permite vizualizar a execução do algorimo (`False` por omissão)"
   ]
  },
  {
   "cell_type": "markdown",
   "metadata": {},
   "source": [
    "### Exemplo de formulação de um problema com 3 variáveis\n",
    "\n",
    "Consideremos que temos 3 variáveis, A, B e C, onde A e C tem 4 valores possíveis {4,3,2,1} e B apenas tem 3 valores possíveis {3,2,1} e as restrições obrigam a que A < B e B < C. Queremos encontrar os valores para as variáveis de modo a satisfazer as restrições."
   ]
  },
  {
   "cell_type": "code",
   "execution_count": null,
   "metadata": {},
   "outputs": [],
   "source": [
    "def CSP_abc ():\n",
    "    \"\"\"\n",
    "    Retorna um objecto da classe CSP inicializado com as variáveis, os domínios,\n",
    "    os vizinhos e restrições do problema ABC\n",
    "    \"\"\"\n",
    "    \n",
    "    #Definir Variáveis\n",
    "    variaveis_abc = ['A', 'B', 'C']\n",
    "    \n",
    "    \"\"\"Definir Domínios\n",
    "    Devolve um dicionario com os domínios das variáveis do problema.\n",
    "    \"\"\"   \n",
    "    dominios_abc = {}\n",
    "    for v in variaveis_abc :\n",
    "        dominios_abc[v] = [4,3,2,1]\n",
    "    dominios_abc['B'] = [3,2,1]\n",
    " \n",
    "    #Definir Vizinhos    \n",
    "    # parse_neighbors trata da simetria. do not worry\n",
    "    vizinhos_abc = parse_neighbors('A : B ; B: C')\n",
    "\n",
    "    #Definir função que verifica restrições binárias\n",
    "    def restricoes_abc(X, a, Y, b) :\n",
    "        \"\"\"\n",
    "        A implementação em CSP assume que as restrições são binárias.\n",
    "        Retorna True se (X=a,Y=b) satisfaz as restrições entre X e Y ou se não há restrição entre X e Y\n",
    "        \"\"\"\n",
    "        if X < Y:\n",
    "            return a < b\n",
    "        else:\n",
    "            return a > b\n",
    "        \n",
    "    return CSP(variaveis_abc, dominios_abc, vizinhos_abc, restricoes_abc)"
   ]
  },
  {
   "cell_type": "markdown",
   "metadata": {},
   "source": [
    "Vamos agora criar um objecto CSP usando a função CSP_abc que implementámos em cima:"
   ]
  },
  {
   "cell_type": "code",
   "execution_count": null,
   "metadata": {},
   "outputs": [],
   "source": [
    "p = CSP_abc()"
   ]
  },
  {
   "cell_type": "markdown",
   "metadata": {},
   "source": [
    "E verificar os valores das variáveis, dos domínios e dos vizinhos (grafo de restrições):"
   ]
  },
  {
   "cell_type": "code",
   "execution_count": null,
   "metadata": {},
   "outputs": [],
   "source": [
    "print(\"Variáveis = \", p.variables)"
   ]
  },
  {
   "cell_type": "code",
   "execution_count": null,
   "metadata": {},
   "outputs": [],
   "source": [
    "print(\"Domínios = \", p.domains)"
   ]
  },
  {
   "cell_type": "code",
   "execution_count": null,
   "metadata": {},
   "outputs": [],
   "source": [
    "print(\"Restricoes = \", p.neighbors)"
   ]
  },
  {
   "cell_type": "markdown",
   "metadata": {},
   "source": [
    "Verifique também que a função **restricoes_abc** foi bem implementada, testando algumas afectações a pares de variáveis, confirmando que a função retorna `True`, se os valores não têm conflito com as restrições entre o par de variáveis passados como argumento para o par de valores concreto, e False, caso contrário."
   ]
  },
  {
   "cell_type": "code",
   "execution_count": null,
   "metadata": {},
   "outputs": [],
   "source": [
    "# Restrição A < B\n",
    "print(p.constraints('A', 2, \"B\", 3))\n",
    "print(p.constraints('A', 3, \"B\", 2))\n",
    "print(p.constraints('B', 2, \"A\", 3))\n",
    "print(p.constraints('B', 3, \"A\", 2))"
   ]
  },
  {
   "cell_type": "code",
   "execution_count": null,
   "metadata": {},
   "outputs": [],
   "source": [
    "# Restrição B < C\n",
    "print(p.constraints('C', 2, 'B', 3))\n",
    "print(p.constraints('C', 3, 'B', 2))\n",
    "print(p.constraints('B', 2, 'C', 3))\n",
    "print(p.constraints('B', 3, 'C', 2))"
   ]
  },
  {
   "cell_type": "markdown",
   "metadata": {},
   "source": [
    "### Solução do CSP ABC\n",
    "\n",
    "Vamos agora usar o algoritmo **BACKTRACKING-SEARCH** para resolver o problema. "
   ]
  },
  {
   "cell_type": "markdown",
   "metadata": {},
   "source": [
    "Podem ver no `csp.py` que os argumentos desse método por omissão são:\n",
    "\n",
    "``` python\n",
    "    def backtracking_search(csp,\n",
    "                        select_unassigned_variable=first_unassigned_variable,\n",
    "                        order_domain_values=unordered_domain_values,\n",
    "                        inference=no_inference, verbose = False):\n",
    "        \n",
    "```\n",
    "    manter a ordem das variáveis definida no objecto csp\n",
    "    manter a ordem dos valores nos domínios\n",
    "    não haver qualquer inferência\n",
    "    e não verbosidade (não imprime nada)"
   ]
  },
  {
   "cell_type": "markdown",
   "metadata": {},
   "source": [
    "Vamos invocar a profundidade com retrocesso com os argumentos por omissão."
   ]
  },
  {
   "cell_type": "code",
   "execution_count": null,
   "metadata": {},
   "outputs": [],
   "source": [
    "r = backtracking_search(p)\n",
    "print('Assignment p = ',r) "
   ]
  },
  {
   "cell_type": "markdown",
   "metadata": {},
   "source": [
    "A solução obtida é {'A': 2, 'B': 3, 'C': 4}. Notem que uma afetação é um dicionário em que as variáveis são as chaves.\n",
    "\n",
    "Por omissão não ecoa o comportamento do algoritmo de procura. Vamos colocar o `verbose=True` para seguirmos com detalhe todo o processo de resolução do CSP. Notem que consideramos que há retrocesso quando todos os valores de uma variável já foram testados com valores que violam as restrições envolvendo essa variável e as já afectadas.\n",
    "\n",
    "O que esperamos que aconteça?\n",
    "\n",
    "Primeiro A fica com o primeiro valor do seu domínio ordenado, i.e. 4, depois tenta afectar-se B, mas qualquer valor tentado para B viola a restrição entre A e B, forçando o retrocesso de A para 3. Novamente qualquer valor para B viola a restrição entre A e B, forçando o retrocesso de A para 2. Agora B já pode tomar o valor de 3, existindo um valor de C que satisfaz B < C, terminando o processo de procura. O processo de procura corresponde a esta árvore:\n",
    "<img src=\"figures/csp_abc_arvore_procura.png\" alt=\"Drawing\" style=\"width: 600px;\"/>\n",
    "\n",
    "O output `curr_domains` na primeira chamada de **backtracking_search()** que é uma função recursiva tem o valor `None` mas ficará com o valor de `domains`, mas não se vê isso no modo verbose. Não estranhem.\n",
    "\n",
    "Analisem o output do **backtracking_search** quando o verbore é `True` e acompanhem o processo com a árvore d eprocura acima."
   ]
  },
  {
   "cell_type": "code",
   "execution_count": null,
   "metadata": {},
   "outputs": [],
   "source": [
    "p = CSP_abc()\n",
    "r = backtracking_search(p,verbose = True)\n",
    "print('Assignment p = ',r) "
   ]
  },
  {
   "cell_type": "markdown",
   "metadata": {},
   "source": [
    "### Relevância da ordem inicial das variáveis\n",
    "\n",
    "Notem que a escolha fixa da ordem inicial das variáveis pode ser relevante no processo de procura. Vamos inverter a ordem das variáveis na formulação seguinte:"
   ]
  },
  {
   "cell_type": "code",
   "execution_count": null,
   "metadata": {},
   "outputs": [],
   "source": [
    "def CSP_abc_inv ():\n",
    "    \"\"\"\n",
    "    Retorna um objecto da classe CSP inicializado com as variáveis, os domínios,\n",
    "    os vizinhos e restrições do problema ABC\n",
    "    \"\"\"\n",
    "    \n",
    "    #Definir Variáveis\n",
    "    variaveis_abc = ['C', 'B','A']\n",
    "    \n",
    "    \"\"\"Definir Domínios\n",
    "    Devolve um dicionario com os domínios das variáveis do problema\n",
    "    \"\"\"   \n",
    "    dominios_abc = {}\n",
    "    for v in variaveis_abc :\n",
    "        dominios_abc[v] = [4,3,2,1]\n",
    "    dominios_abc['B'] = [3,2,1]\n",
    " \n",
    "    #Definir Vizinhos    \n",
    "    # parse_neighbors trata da simetria. do not worry\n",
    "    vizinhos_abc = parse_neighbors('A : B ; B: C')\n",
    "\n",
    "    #Definir função que verifica restrições binárias\n",
    "    def restricoes_abc(X, a, Y, b) :\n",
    "        \"\"\"\n",
    "        A implementação em CSP assume que as restrições são binárias.\n",
    "        Retorna True se (X=a,Y=b) satisfaz as restrições entre X e Y ou se não há restrição entre X e Y\n",
    "        \"\"\"\n",
    "        if X < Y:\n",
    "            return a < b\n",
    "        else:\n",
    "            return a > b\n",
    "        \n",
    "    return CSP(variaveis_abc, dominios_abc, vizinhos_abc, restricoes_abc)"
   ]
  },
  {
   "cell_type": "code",
   "execution_count": null,
   "metadata": {},
   "outputs": [],
   "source": [
    "p = CSP_abc_inv()\n",
    "r = backtracking_search(p,verbose = True)\n",
    "print('Assignment p = ',r)"
   ]
  },
  {
   "cell_type": "markdown",
   "metadata": {},
   "source": [
    "Neste caso, a ordem invertida da selecção de variáveis para afetação decrementou o tempo de procura, particularmente porque se adaptou a um problema cujas restrições obrigavam a valores de C maiores do que os de B e valores de B maiores do que os de A. É claro que saber qual a ordem ideal de afetação das variáveis é uma incógnita para a maior parte dos problemas."
   ]
  },
  {
   "cell_type": "markdown",
   "metadata": {},
   "source": [
    "### Relevância da ordem inicial dos valores nos domínios\n",
    "\n",
    "Notem que a escolha da ordem dos valores do domínio é relevante no processo de procura. Por exemplo, poderíamos reescrever o modelo do problema mas em que invertemos a ordem dos valores no domínio de modo a que fiquem por ordem crescente ao longo de todo o processo de procura. Reparem que apenas invertemos a lista correspondente aos valores dos domínios."
   ]
  },
  {
   "cell_type": "code",
   "execution_count": null,
   "metadata": {},
   "outputs": [],
   "source": [
    "def CSP_abc_inv_dom ():\n",
    "    \"\"\"\n",
    "    Retorna um objecto da classe CSP inicializado com as variáveis, os domínios,\n",
    "    os vizinhos e restrições do problema ABC\n",
    "    \"\"\"\n",
    "    \n",
    "    #Definir Variáveis\n",
    "    variaveis_abc = ['A', 'B', 'C']\n",
    "    \n",
    "    \"\"\"Definir Domínios\n",
    "    Devolve um dicionario com os domínios das variáveis do problema\n",
    "    \"\"\"   \n",
    "    dominios_abc = {}\n",
    "    for v in variaveis_abc :\n",
    "        dominios_abc[v] = [1,2,3,4]\n",
    "    dominios_abc['B'] = [1,2,3]\n",
    " \n",
    "    #Definir Vizinhos    \n",
    "    # parse_neighbors trata da simetria. do not worry\n",
    "    vizinhos_abc = parse_neighbors('A : B ; B: C')\n",
    "\n",
    "    #Definir função que verifica restrições binárias\n",
    "    def restricoes_abc(X, a, Y, b) :\n",
    "        \"\"\"\n",
    "        A implementação em CSP assume que as restrições são binárias.\n",
    "        Retorna True se (X=a,Y=b) satisfaz as restrições entre X e Y ou se não há restrição entre X e Y\n",
    "        \"\"\"\n",
    "        if X < Y:\n",
    "            return a < b\n",
    "        else:\n",
    "            return a > b\n",
    "            \n",
    "        \n",
    "    return CSP(variaveis_abc, dominios_abc, vizinhos_abc, restricoes_abc)"
   ]
  },
  {
   "cell_type": "markdown",
   "metadata": {},
   "source": [
    "O processo de procura é muito mais rápido, como podem confirmar. No entanto, devolve uma outra solução, também válida para o problema."
   ]
  },
  {
   "cell_type": "code",
   "execution_count": null,
   "metadata": {},
   "outputs": [],
   "source": [
    "p = CSP_abc_inv_dom()\n",
    "r = backtracking_search(p,verbose = True)\n",
    "print('Assignment p = ',r)"
   ]
  },
  {
   "cell_type": "markdown",
   "metadata": {},
   "source": [
    "### Inferência Forward Checking\n",
    "\n",
    "Regressemos à primeira formulação do A < B e B < C (`CSP_abc`), o mais difícil, e vamos verificar como ficam os domínios se afetarmos o A a 4 e aplicarmos a verificação para a frente (*forward checking*). \n",
    "\n",
    "Na versão básica sem inferência, a procura com retrocesso falha quando uma variável com um determinado valor viola as restrições envolvendo essa variável com as que já têm valores afetados.\n",
    "\n",
    "Em contraste, com a inferência do tipo *forward checking*, os domínios das restantes variáveis, fora da afetação parcial, i.e., por afetar ainda, daí o nome \"para a frente\" (*forward*), vão ser filtradas dos valores que entram em conflito com A=4. Como B que tem de ser maior do que A e só pode ser 1, 2, ou 3, terá o domínio vazio ao contrário de C que ficará com o seu dominio intacto.\n",
    "\n",
    "Vamos tentar ilustrar o que acontece de facto no **backtracking_search()** quando se aplica o **forward_checking()**. Primeiro, ilustraremos quando falha, isto é, quando antecipa uma falha, e depois quando é bem sucedido. Ao falhar basta que um dos domínios fique vazio, o primeiro domínio que ficar vazio força o return da função. Isso quer dizer que poderia ainda haver mais domínios alterados e eventualmente vazios mas não vale a pena continuar a filtrá-los. O forward checking foi feito para ser usado com a procura e por isso termina a sua execução mal se esvazie um dos domínios."
   ]
  },
  {
   "cell_type": "markdown",
   "metadata": {},
   "source": [
    "##### Quando o Forward Checking falha\n",
    "Suponhamos que a primeira variável a ser afetada é 'A' e que vamos começar por atribuir-lhe o valor de 4. Removem-se do domínio de A os outros três valores mas reservam-se para o caso de tudo falhar e termos de repôr os domínios originais. Ao propagarmos essa afetação às restantes variáveis, neste caso B, ainda sem afetação e com domínio {3,2,1} veremos que o B não tem nenhum valor maior do que A e falha. Todos os valores do domínio de B foram removidos porque chocaram com A=4 e foram também reservados. No final, depois da falha do *forward checking* todos os domínios foram restaurados, excepto os já tentados."
   ]
  },
  {
   "cell_type": "code",
   "execution_count": null,
   "metadata": {},
   "outputs": [],
   "source": [
    "p = CSP_abc()\n",
    "removals = p.suppose('A',4) # vamos afetar A com 4 e remover os restantes valores do dominio de A\n",
    "print(\"Forward checking bem sucedido?\",forward_checking(p, 'A', 4, {}, removals, True))"
   ]
  },
  {
   "cell_type": "markdown",
   "metadata": {},
   "source": [
    "O forward checking falha logo que uma das variáveis fique com o domínio vazio. Notem que ao invocar o *forward checking* passa-se uma variável, *removals*, que muda com a execução da função - são feitos appends no interior do **forward_checking()** e essa variável sai eventualmente mudada, mas não sai pelo canal do return. (Passagem por variável)"
   ]
  },
  {
   "cell_type": "markdown",
   "metadata": {},
   "source": [
    "##### Quando o Forward Checking é bem sucedido\n",
    "\n",
    "Podemos ver os efeitos do *forward_checking* sobre a versão em que os valores do domínio estão por ordem crescente e afectamos A a 1."
   ]
  },
  {
   "cell_type": "code",
   "execution_count": null,
   "metadata": {},
   "outputs": [],
   "source": [
    "p = CSP_abc_inv_dom()\n",
    "removals = p.suppose('A',1)\n",
    "print(\"Forward checking bem sucedido?\",forward_checking(p, 'A', 1, {}, removals, True))"
   ]
  },
  {
   "cell_type": "markdown",
   "metadata": {},
   "source": [
    "Notem que como B tem de ser maior do que A, B só pode ter o valor de 2, ou 3 quando A é afetado com o 1, removendo-se 1 do domínio de B."
   ]
  },
  {
   "cell_type": "markdown",
   "metadata": {},
   "source": [
    "### Procura com Retrocesso usando a inferência Forward Checking"
   ]
  },
  {
   "cell_type": "markdown",
   "metadata": {},
   "source": [
    "Como vimos, o FORWARD-CHECKING permite detectar falhas antecipadamente: colocamos o argumento inference da função com o valor *forward_checking*. No entanto, este tipo de inferência só faz sentido no contexto da procura com retrocesso. \n",
    "\n",
    "Assim, a procura com **FORWARD-CHECKING**: propaga para a frente (reduzindo os domínios das variáveis ainda por afetar) após cada afetação. Retrocede quando algum dos domínios fica vazio.\n",
    "\n",
    "Vamos aplicar a pesquisa em profundidade com retrocesso usando como inferência o *forward checking*. Vamos fazê-lo com o primeiro problema, A<B e B<C com domínio {4,3,2,1} para A e C e {3,2,1} para B, a classe **CSP_abc()**. O resultado é o mesmo, com ou sem inferência mas a pesquisa é menor como se pode observar."
   ]
  },
  {
   "cell_type": "code",
   "execution_count": null,
   "metadata": {},
   "outputs": [],
   "source": [
    "p = CSP_abc()\n",
    "r = backtracking_search(p,inference = forward_checking)\n",
    "print('Assignment = ',r)"
   ]
  },
  {
   "cell_type": "markdown",
   "metadata": {},
   "source": [
    "Agora, a versão com `verbose = True`. Percam um pouco de tempo a seguir o rasto do processo de procura e acompanhem com a seguinte árvore de procura (os números a azul correspondem aos domínios após o *forward checking*):\n",
    "<img src=\"figures/csp_abc_forward_checking_arvore_procura.png\" alt=\"Drawing\" style=\"width: 600px;\"/>"
   ]
  },
  {
   "cell_type": "code",
   "execution_count": null,
   "metadata": {},
   "outputs": [],
   "source": [
    "p = CSP_abc()\n",
    "r = backtracking_search(p,inference = forward_checking, verbose = True)\n",
    "print('Assignment = ',r) "
   ]
  },
  {
   "cell_type": "markdown",
   "metadata": {},
   "source": [
    "### Pré-processamento usando AC3\n",
    "\n",
    "O algoritmo AC3 verifica a consistência dos arcos e vai para além disso forçando essa consistência alterando os domínios das variáveis. Se por acaso uma das variáveis ficar com o seu domínio vazio a função falha retornando `False`.\n",
    "\n",
    "Um arco dirigido X->Y é considerado como **consistente** se para todos os valores do domínio de X existe pelo menos um valor do domínio de Y que satisfaz a restrição que envolve X e Y. Só faz sentido verificar a consistência dos arcos que estejam envolvidos em restrições.\n",
    "\n",
    "A consistência de um arco X->Y é forçada removendo do domínio de X todos os valores para os quais não há qualquer valor do domínio de B que satisfaça a restrição associada ao arco."
   ]
  },
  {
   "cell_type": "markdown",
   "metadata": {},
   "source": [
    "Vamos verificar para o problema que abriu este guião, envolvendo as variáveis A, B e C, que a utilização do AC3 reduz o número de valores possíveis no domínio de algumas variáveis, visto que estes são incompatíveis com as restrições.\n",
    "\n",
    "Relembremos que no AC3 temos uma pilha de arcos e vamos forçando a consistência de cada arco, que é retirado da pilha, e se chegarmos a um domínio vazio, falha. Notem que em alguns casos, arcos já verificados terão de ser de novo colocados para o topo da pilha."
   ]
  },
  {
   "cell_type": "code",
   "execution_count": null,
   "metadata": {},
   "outputs": [],
   "source": [
    "#Execução do AC3\n",
    "p = CSP_abc()\n",
    "p_ac3 = AC3(p)\n",
    "print(\"Domínios após AC3 = \", p_ac3.curr_domains)"
   ]
  },
  {
   "cell_type": "markdown",
   "metadata": {},
   "source": [
    "Vamos executar o algoritmo AC3 em modo verbose para verificar o que acontece nos diferentes passos do algoritmo:"
   ]
  },
  {
   "cell_type": "code",
   "execution_count": null,
   "metadata": {},
   "outputs": [],
   "source": [
    "#Execução do AC3\n",
    "p = CSP_abc()\n",
    "p_ac3 = AC3(p,verbose=True)\n",
    "print(\"Domínios após AC3 = \", p_ac3.curr_domains)"
   ]
  },
  {
   "cell_type": "markdown",
   "metadata": {},
   "source": [
    "Vamos aplicar o AC3 como pré-processamento seguido do backtracking_search e verificar que a procura fica muito mais rápida. Neste caso, o forward checking não traz benefícios porque o AC3 já fez todo o processo de filtragem necessário de forma a que o procesos de procura é direto não tem retrocessos."
   ]
  },
  {
   "cell_type": "code",
   "execution_count": null,
   "metadata": {},
   "outputs": [],
   "source": [
    "p = CSP_abc()\n",
    "p_ac3 = AC3(p)\n",
    "print(\"Domínios após AC3 = \", p_ac3.curr_domains)\n",
    "r = backtracking_search(p_ac3,verbose = True)\n",
    "print('Assignment = ',r) "
   ]
  },
  {
   "cell_type": "markdown",
   "metadata": {},
   "source": [
    "### Procura com inferência em que se mantém a consistência (mac)"
   ]
  },
  {
   "cell_type": "markdown",
   "metadata": {},
   "source": [
    "Para além de aplicarmos o AC3 no início podemos também invocá-lo como inferência logo após tentarmos fazer uma afectação. Se o AC3 falhar, i.e. algum dos domínios de variáveis por afectar ficar vazio, então tenta-se nova afectação de valor à variável. Se todos os valores falharem, retrocede-se, desfazendo a última afectação e tentando um novo valor...\n",
    "\n",
    "O campo `inference` terá o valor mac\n",
    "\n",
    "* **MAC** (Mantain Arc Consistenty, usando o AC3): Utilizando o **AC3** após cada afectação da variável. Mais caro computacionalmente\n",
    "\n",
    "Vamos aplicar a profundidade com retrocesso utilizando o AC3 para inferência, i.e., mantendo a consistência dos arcos. Vamos fazê-lo, em modo verboso, para ver tudo o que se passa.\n",
    "Notem que não aplicamos o pré-processamento com o AC3, e a consistência dos arcos é apenas mantida após cada afectação de variáveis."
   ]
  },
  {
   "cell_type": "code",
   "execution_count": null,
   "metadata": {},
   "outputs": [],
   "source": [
    "p = CSP_abc()\n",
    "r = backtracking_search(p,inference = mac, verbose=True)\n",
    "print('Afetações r = ',r)"
   ]
  },
  {
   "cell_type": "markdown",
   "metadata": {},
   "source": [
    "Podemos também aplicar primeiro o pré-processamento e só depois aplicar a procura."
   ]
  },
  {
   "cell_type": "code",
   "execution_count": null,
   "metadata": {},
   "outputs": [],
   "source": [
    "#Execução do AC3\n",
    "p = CSP_abc()\n",
    "p_ac3 = AC3(p)\n",
    "print(\"Domínios após AC3 = \", p_ac3.curr_domains)\n",
    "r = backtracking_search(p_ac3,inference = mac, verbose = True)\n",
    "print('Assignment = ',r) "
   ]
  },
  {
   "cell_type": "markdown",
   "metadata": {},
   "source": [
    "### Utilização de heurísticas no Backtracking-Search (MRV)\n",
    "\n",
    "MINIMUM-REMAINING-VALUES (MRV) - heurística que escolhe a variável com o menor número de valores no domínio. Nesta implementação em caso de empate escolhe-se a próxima var de modo aleatório. \n",
    "\n",
    "O conceito de heurística em CSP não é o mesmo usado na procura tradicional. Nesta, uma heurística é uma estimativa da menor distância de um estado ao objetivo. Em CSP a heurística é uma preferência. Neste caso, com o MRV, em vez de termos uma ordem fixa para a selecção das variáveis a afetar vamos preferir as que tenham menores domínios. \n",
    "\n",
    "A ideia por detrás desta heurística é que, provavelmente, iremos antecipar as falhas escolhendo variáveis com menores domínios, diminuindo a procura. Isso irá ter implicações na ordem da escolha das variáveis para a afectação como podem comprovar. \n",
    "\n",
    "Comparem a árvore de procura usando a heurística MRV com a árvore do backtracking-search base (sem inferência e sem heurísticas), e acompanhe o output da execução do algoritmo com a árvore de procura.\n",
    "Atenção que em caso de empate a escolha da variável a afetar é aleatória e podemos ter uma das duas opções de árvores seguinte:\n",
    "<img src=\"figures/csp_abc_mrv_arvore_procura.png\" alt=\"Drawing\" style=\"width: 600px;\"/>"
   ]
  },
  {
   "cell_type": "code",
   "execution_count": null,
   "metadata": {},
   "outputs": [],
   "source": [
    "p = CSP_abc()\n",
    "r = backtracking_search(p,select_unassigned_variable = mrv, verbose=True)\n",
    "print('Assignment p = ',r)"
   ]
  },
  {
   "cell_type": "markdown",
   "metadata": {},
   "source": [
    "A variável B é a primeira a ser escolhida. Depois tanto faz a A como a C, como podem comprovar já a seguir, ao repetirmos a resolução do problema 20 vezes."
   ]
  },
  {
   "cell_type": "code",
   "execution_count": null,
   "metadata": {},
   "outputs": [],
   "source": [
    "for i in range(20):\n",
    "    p = CSP_abc()\n",
    "    r = backtracking_search(p, select_unassigned_variable = mrv)\n",
    "    print('Assignment = ',r) "
   ]
  },
  {
   "cell_type": "markdown",
   "metadata": {},
   "source": [
    "Com a heurística MRV as variáveis empatadas, com domínios de comprimento igual, são ordenadas de forma aleatória, mas B é a sempre escolhida primeiro porque tem o menor domínio inicial."
   ]
  },
  {
   "cell_type": "markdown",
   "metadata": {},
   "source": [
    "Notem que se utilizarmos a inferência *forward checking* em conjunto com a heurística de variável mais restringida (MRV), a ordem da afetação para este problema fica fixa, i.e., a procura corresponde à árvore da direita. Porque começamos por escolher B para afetar por ter menor domínio inicial, depois fazemos *forward checking* nas restantes variáveis, ficando C com domínio {4} e A com domínio {2,1}. De seguida, escolhe-se C para afetar por ter menor domínio do que A."
   ]
  },
  {
   "cell_type": "code",
   "execution_count": null,
   "metadata": {},
   "outputs": [],
   "source": [
    "p = CSP_abc()\n",
    "r = backtracking_search(p, select_unassigned_variable = mrv,inference=forward_checking, verbose=True)\n",
    "print('Assignment = ',r) "
   ]
  },
  {
   "cell_type": "markdown",
   "metadata": {},
   "source": [
    "#### Exercício 1 \n",
    "\n",
    "Formule um problema de palavras cruzadas usando CSP, em que temos uma grelha 2x2 e 8 palavras possíveis para dispor 4 delas nas 2 linhas e 2 colunas. Cada palavra só pode aparecer numa das 4 regiões possíveis (2 linhas e 2 colunas) e as letras das palavras têm de ser as mesmas quando as palavras se intersectam. Eis uma solução para o problema com 8 palavras: {MA, OS, AS, TU, LI, RO, TO, MO}.\n",
    "<img src=\"figures/PalavrasCruzadas2x2.png\" alt=\"Drawing\" style=\"width: 100px;\"/>\n",
    "\n",
    "Utilize o algoritmo BACKTRACKING-SEARCH para o resolver.\n",
    "\n",
    "Verifique que neste problema o AC3 não reduz os domínios das variáveis.\n",
    "\n",
    "Verifique que neste caso são obtidas soluções diferentes quando se usa ou não heurísticas e inferência."
   ]
  },
  {
   "cell_type": "code",
   "execution_count": null,
   "metadata": {},
   "outputs": [],
   "source": [
    "# Formulação das palavras cruzadas pequeninas\n",
    "\n",
    "def CSP_cruz ():\n",
    "    \"\"\"\n",
    "    Retorna um objecto da classe CSP inicializado com as variaveis, os dominios,\n",
    "    os vizinhos e restrições do problema cruz\n",
    "    \"\"\"\n",
    "    \n",
    "    #Definir a lista com as Variaveis correspondentes às palavras horizontais\n",
    "    # do T(opo) e da B(ase), da E(esquerda) e da D(ireita)\n",
    "    variaveis = ['T', 'B','E','D']\n",
    "    \n",
    "    # Definir um dicionario com os Domínios (afinal todas as palavras possíveis) que são strings\n",
    "   \n",
    "    dominios = {}\n",
    "    for v in variaveis :\n",
    "        dominios[v] = ['MA', 'OS', 'AS', 'TU', 'LI', 'RO', 'TO', 'MO']\n",
    "    \n",
    "    #Definir Vizinhos    -- parse_neighbors trata da simetria. do not worry\n",
    "    vizinhos = parse_neighbors('T : E D B; E: D B; D: B')\n",
    "\n",
    "    #Definir funcao que verifica restricoes binarias\n",
    "    def restricoes(X, a, Y, b) :\n",
    "        \n",
    "        \"\"\"\n",
    "        A implementacao em CSP assume que as restricoes são binarias.\n",
    "        Retorna True se (X=a,Y=b) satisfaz as restricoes entre X e Y\n",
    "        \"\"\"\n",
    "        def teste00(a,b):\n",
    "            return a[0]==b[0]\n",
    "\n",
    "        def teste01(a,b):\n",
    "            return a[0]==b[1]\n",
    "\n",
    "        def teste10(a,b):\n",
    "            return a[1]==b[0]\n",
    "\n",
    "        def teste11(a,b):\n",
    "            return a[1]==b[1]\n",
    " \n",
    "        # A palavra de topo partilha a sua letra 1 com a letra 1 da palavra da esquerda\n",
    "        # A palavra de topo partilha a sua letra 1 com a letra 2 da palavra da direita\n",
    "        # A palavra de baixo partilha a sua letra 1 com a letra 2 da palavra da esquerda\n",
    "        # A palavra de baixo partilha a sua letra 2 com a letra 2 da palavra da direita\n",
    "        # cuidar da condicao simetrica\n",
    "        restricoes = {('T','E'):teste00, ('T','D'):teste10, ('B','E'):teste01, ('B','D'):teste11,\n",
    "                      ('E','T'):teste00, ('D','T'):teste01, ('E','B'):teste10, ('D','B'):teste11}\n",
    "        \n",
    "        # É preciso que as variáveis na tabela sejam diferentes e satisfaçam a função associada\n",
    "        # as que não partilham letras terão de ser apenas diferentes.\n",
    "        if (X,Y) in restricoes.keys():\n",
    "            return (restricoes[(X,Y)](a,b) and  a!= b)  # para alem de partilharem letras terao de ser palavras diferentes\n",
    "        return a != b  # para os pares de variaveis que não estao na tabela, por exemplo, entre T e B\n",
    "        \n",
    "    return CSP(variaveis, dominios, vizinhos, restricoes)"
   ]
  },
  {
   "cell_type": "code",
   "execution_count": null,
   "metadata": {},
   "outputs": [],
   "source": [
    "# resolução do exercicio 1\n"
   ]
  },
  {
   "cell_type": "markdown",
   "metadata": {},
   "source": [
    "#### Exercício 2\n",
    "\n",
    "<img src=\"figures/mapa_colorir.PNG\" alt=\"Drawing\" style=\"width: 200px;\"/>\n",
    "\n",
    "O problema de colorir o mapa de cima usando 4 cores pode ser modelizado como um csp da forma seguinte:\n",
    "\n",
    "```python\n",
    "vars=['A','B','C','D','E']\n",
    "cores=list('RBGY')\n",
    "dominios={}\n",
    "for v in vars:\n",
    "    dominios[v]=cores\n",
    "mapa = CSP(vars, dominios, parse_neighbors('A: B C D; B: C D; C: D; D: E; E: '),different_values_constraint)\n",
    "\n",
    "```\n",
    "\n",
    "Utilize o algoritmo `BACKTRACKING-SEARCH` para o resolver tal como fez para o Golfers.\n",
    "\n",
    "Verifique que neste problema o AC3 não reduz os domínios das variáveis.\n",
    "\n",
    "Verifique que neste caso são obtidas soluções diferentes (diferentes possibilidades de coloração) quando se usa ou não heurísticas ou inferência:"
   ]
  },
  {
   "cell_type": "code",
   "execution_count": null,
   "metadata": {},
   "outputs": [],
   "source": [
    "# Resolução do exercício 2\n",
    "\n"
   ]
  },
  {
   "cell_type": "markdown",
   "metadata": {},
   "source": [
    "#### Exercício 3\n",
    "\n",
    "Para o problema das 25 raínhas compare o tempo da procura com retrocesso sem inferência, da procura com inferência da consistência dos arcos e da procura com forward checking. Como explica os resultados?"
   ]
  },
  {
   "cell_type": "code",
   "execution_count": null,
   "metadata": {},
   "outputs": [],
   "source": [
    "# Formulação do problema das rainhas\n",
    "def queen_constraint(A, a, B, b):\n",
    "    \"\"\"Constraint is satisfied (true) if A, B are really the same variable,\n",
    "    or if they are not in the same row, down diagonal, or up diagonal.\"\"\"\n",
    "    return (a != b and A + a != B + b and A - a != B - b)\n",
    "\n",
    "def NQueensCSP(n):\n",
    "    \"\"\"Make a CSP for the nQueens problem \"\"\"\n",
    "    variables=list(range(n))\n",
    "    neighbors=dict()\n",
    "    for v in variables:\n",
    "        ns=list(range(n))\n",
    "        ns.remove(v)\n",
    "        neighbors[v]=ns\n",
    "        domains=dict()\n",
    "    for v in variables:\n",
    "        ns=list(range(n))\n",
    "        domains[v]=ns\n",
    "        \n",
    "    return CSP(variables, domains, neighbors, queen_constraint)"
   ]
  },
  {
   "cell_type": "code",
   "execution_count": null,
   "metadata": {},
   "outputs": [],
   "source": [
    "## Resolução do exercício 3\n",
    "\n"
   ]
  },
  {
   "cell_type": "markdown",
   "metadata": {},
   "source": [
    "#### Exercício 4\n",
    "Para o problema das 25 raínhas compare o tempo de filtragem pela consistência dos arcos apenas no início e depois usando retrocesso com \"forward checking\" com a procura com retrocesso com forward checking e sem pré-filtragem. "
   ]
  },
  {
   "cell_type": "code",
   "execution_count": null,
   "metadata": {},
   "outputs": [],
   "source": [
    "## Resolução do exercício 4\n",
    "\n"
   ]
  },
  {
   "cell_type": "markdown",
   "metadata": {},
   "source": [
    "#### Exercício 5\n",
    "\n",
    "Teste a profundidade com retrocesso, sem inferência, com as duas inferências e com a heurística mrv, isoladamente ou de forma combinada. Verifique que a utilização simultânea de heurísticas para selecção das variáveis a testar primeiro e de inferência para detectar falhas antecipadamente permite obter uma solução num menor número de passos."
   ]
  },
  {
   "cell_type": "code",
   "execution_count": null,
   "metadata": {},
   "outputs": [],
   "source": [
    "def menos1(x,y):\n",
    "    \"\"\"x é igual a y-1\"\"\"\n",
    "    return (x == y - 1)\n",
    "        \n",
    "def mais1(x,y):\n",
    "    \"\"\"x é igual a y+1\"\"\"\n",
    "    return (x == y + 1)\n",
    "        \n",
    "def iguais(x,y):\n",
    "    \"\"\"x é igual a y\"\"\"\n",
    "    return x == y\n",
    "        \n",
    "def diferentes(x,y):\n",
    "    \"\"\"x diferente de y\"\"\"\n",
    "    return x != y\n",
    "\n",
    "\n",
    "def CSP_golfers ():\n",
    "    \"\"\"\n",
    "    Retorna um objecto da classe CSP inicializado com as variáveis, os domínios,\n",
    "    os vizinhos e restrições do problema dos Golfers\n",
    "    \"\"\"\n",
    "    \n",
    "    #Definir Variáveis\n",
    "    #golfers - posicao dos golfers - {1,2,3,4}\n",
    "    #cores_calcas - posicao das cores - {1,2,3,4}\n",
    "    golfers = 'Bob Fred Joe Tom'.split()\n",
    "    cores_calcas = 'Azuis Laranja Pretas Vermelhas'.split()\n",
    "    variaveis_golfers = golfers + cores_calcas\n",
    "    \n",
    "    # Definir Domínios\n",
    "    # Devolve um dicionario com os domínios com as variáveis do problema dos Golfers.\n",
    "    # Deveria ser {1,2,3,4} para todas as variáveis, mas dado que a implementação \n",
    "    # em CSP assume que as restrições são binárias, as restrições unárias foram \n",
    "    # eliminadas verificando a consistencia das variáveis e os domínios das variáveis 'Joe' e 'Tom' já reflectem \n",
    "    # essas restrições.      \n",
    "    dominios_golfers = {}\n",
    "    for v in variaveis_golfers :\n",
    "        dominios_golfers[v] = [1,2,3,4]\n",
    "    dominios_golfers['Joe'] = [2]\n",
    "    dominios_golfers['Tom'] = [1,2,3]  \n",
    " \n",
    "    #Definir Vizinhos\n",
    "    #Cria o grafo de restrições com os arcos seguintes:\n",
    "    #Bob : Fred Joe Tom Pretas\n",
    "    #Fred: Joe Tom Azuis\n",
    "    #Joe : Tom\n",
    "    #Tom : Laranja\n",
    "    #Azuis : Laranja Pretas Vermelhas\n",
    "    #Laranja : Pretas Vermelhas\n",
    "    #Pretas : Vermelhas\n",
    "    \n",
    "    vizinhos_golfers = parse_neighbors('Bob : Fred Joe Tom Pretas; \\\n",
    "        Fred: Joe Tom Azuis; Joe : Tom ; Tom : Laranja; \\\n",
    "        Azuis : Laranja Pretas Vermelhas; Laranja : Pretas Vermelhas; \\\n",
    "        Pretas : Vermelhas')\n",
    "\n",
    "    #Definir função que verifica restrições binárias\n",
    "    def restricoes_golfers(X, a, Y, b) :\n",
    "        \"\"\"\n",
    "        A implementação em CSP assume que as restrições são binárias.\n",
    "        Retorna True se (X=a,Y=b) satisfaz as restrições entre X e Y.\n",
    "        \n",
    "        Restrições unárias:\n",
    "        R_U1) Joe = 2 obriga a que domínio Joe = {2}\n",
    "        R_U2) Tom <> 4 obriga a que domínio Tom = {1,2,3}\n",
    "        \n",
    "        Retrições Binárias:\n",
    "        R_B1) Fred = Azuis - 1  [equivalente a Azul = Fred + 1]\n",
    "        R_B2) Bob = Pretas\n",
    "        R_B3) Tom <> Laranja\n",
    "        \n",
    "        Restrições Globais:\n",
    "        R_G1) allDiff(golfers)\n",
    "        R_G2) allDiff(cores_calcas)\n",
    "        \"\"\"\n",
    "        \n",
    "        # restrições binárias (necessário incluir (X,Y) e (Y,X))\n",
    "        restricoes = { ('Fred','Azuis') : menos1, ('Azuis','Fred') : mais1, \n",
    "                       ('Bob','Pretas') : iguais, ('Pretas','Bob') : iguais,\n",
    "                       ('Tom','Laranja') : diferentes, ('Laranja','Tom') : diferentes,\n",
    "                       ('Laranja','Pretas') : diferentes, ('Pretas','Laranja') : diferentes}\n",
    "\n",
    "        \n",
    "        # all-different em cada categoria (golfers e cores)\n",
    "        if X in golfers and Y in golfers or \\\n",
    "           X in cores_calcas and Y in cores_calcas :\n",
    "            restricoes[(X,Y)] = diferentes \n",
    "        \n",
    "        if (X,Y) in restricoes :\n",
    "            return restricoes[(X,Y)](a,b)\n",
    "\n",
    "        \n",
    "    return CSP(variaveis_golfers, dominios_golfers, vizinhos_golfers, restricoes_golfers)"
   ]
  },
  {
   "cell_type": "code",
   "execution_count": null,
   "metadata": {},
   "outputs": [],
   "source": [
    "# Resolução do exercício 5\n",
    "\n"
   ]
  },
  {
   "cell_type": "code",
   "execution_count": null,
   "metadata": {},
   "outputs": [],
   "source": []
  }
 ],
 "metadata": {
  "kernelspec": {
   "display_name": "Python 3 (ipykernel)",
   "language": "python",
   "name": "python3"
  },
  "language_info": {
   "codemirror_mode": {
    "name": "ipython",
    "version": 3
   },
   "file_extension": ".py",
   "mimetype": "text/x-python",
   "name": "python",
   "nbconvert_exporter": "python",
   "pygments_lexer": "ipython3",
   "version": "3.8.12"
  }
 },
 "nbformat": 4,
 "nbformat_minor": 2
}
