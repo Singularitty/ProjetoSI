{
 "cells": [
  {
   "cell_type": "markdown",
   "id": "bf9c87b1",
   "metadata": {},
   "source": [
    "# Sistemas Inteligentes 2021/2022\n",
    "\n",
    "## Mini-projeto 2: Quadrados Latinos\n"
   ]
  },
  {
   "cell_type": "markdown",
   "id": "d7b8efca",
   "metadata": {},
   "source": [
    "## Grupo: 42\n",
    "\n",
    "### Elementos do Grupo\n",
    "\n",
    "Número:  53687       Nome:   Ariana Dias\n",
    "Número:  53746       Nome:   Andrei Tataru\n",
    "Número:  51127       Nome:   Luís Ferreirinha\n",
    "\n",
    "(Nota: Neste relatório pode adicionar as células de texto e código que achar necessárias.)"
   ]
  },
  {
   "cell_type": "markdown",
   "id": "df10acb0",
   "metadata": {},
   "source": [
    "## Representação de variáveis, domínios, vizinhos e restrições\n",
    "\n",
    "Descreva aqui, textualmente, como decidiu representar as variáveis, domínios, vizinhos e restrições em Python;\n",
    "\n",
    "Considerando a representação do quadrado como uma matriz _n x n_,\n",
    "- Variáveis:\n",
    "    - Representar por uma lista de listas;\n",
    "- Domínios:\n",
    "    - Conjunto de números {1,....,n}\n",
    "- Vizinhos:\n",
    "    - Dicionário que define o grafo de restrições ({(i,j):[todos os elementos da linha i e todos os elementos da coluna j]})\n",
    "- Restrições:\n",
    "    - Todos os elementos da linha i são diferentes, todos os elementos da coluna j são diferentes.\n"
   ]
  },
  {
   "cell_type": "markdown",
   "id": "4ab69211",
   "metadata": {},
   "source": [
    "## Formulação do problema"
   ]
  },
  {
   "cell_type": "code",
   "execution_count": 32,
   "id": "c5327f4f",
   "metadata": {},
   "outputs": [],
   "source": [
    "from csp import *\n",
    "\n",
    "def diferentes(x,y):\n",
    "    \"\"\"x diferente de y\"\"\"\n",
    "    return x != y\n",
    "\n",
    "def quadrado_latino(n = 3):\n",
    "    \"\"\"\n",
    "    Pode receber parametros ou não.\n",
    "    Deve devolver um CSP, à semelhança dos guiões das aulas PL.\n",
    "    Comente o código.\n",
    "    \"\"\"\n",
    "    variaveis = [[0 for j in range(0,n)] for i in range(0,n)]\n",
    "\n",
    "    conjunto = [i for i in range(1,n+1)]\n",
    "    dominios = {}\n",
    "    for i in range(len(variaveis)):\n",
    "        for j in range(len(variaveis[i])):\n",
    "            dominios[(i,j)] = conjunto\n",
    "\n",
    "\n",
    "    #forma n otimizada para vizinhos:\n",
    "    vizinhos = {}\n",
    "    for key in dominios.keys():\n",
    "        lista = []\n",
    "        for i in range(n):\n",
    "            if i!= key[1]:\n",
    "                lista.append((key[0], i))\n",
    "        for j in range(n):\n",
    "            if j!= key[0]:\n",
    "                lista.append((j, key[1]))\n",
    "        vizinhos[str(key)]=lista\n",
    "\n",
    "    def restricoes_quadradoLatino(X, a, Y, b):\n",
    "        restricoes = {}\n",
    "        for key in dominios.keys():\n",
    "            for i in range(n):\n",
    "                for j in range(n):\n",
    "                    if (i,j) == key:\n",
    "                        pass\n",
    "                    elif i == key[0]:\n",
    "                        restricoes[str((key, (key[0], j)))] = diferentes\n",
    "                    elif j == key[1]:\n",
    "                        restricoes[str((key, (i, key[1])))] = diferentes\n",
    "\n",
    "\n",
    "    return CSP(variaveis, dominios, vizinhos, restricoes_quadradoLatino)"
   ]
  },
  {
   "cell_type": "code",
   "execution_count": 34,
   "outputs": [
    {
     "name": "stdout",
     "output_type": "stream",
     "text": [
      "Variáveis =  [[0, 0], [0, 0]]\n",
      "Domínios =  {(0, 0): [1, 2], (0, 1): [1, 2], (1, 0): [1, 2], (1, 1): [1, 2]}\n",
      "Vizinhos =  {'(0, 0)': [(0, 1), (1, 0)], '(0, 1)': [(0, 0), (1, 1)], '(1, 0)': [(1, 1), (0, 0)], '(1, 1)': [(1, 0), (0, 1)]}\n",
      "Restrições <function quadrado_latino.<locals>.restricoes_quadradoLatino at 0x0000026B34B08AF0>\n"
     ]
    }
   ],
   "source": [
    "p = quadrado_latino(2)\n",
    "print(\"Variáveis = \", p.variables)\n",
    "print(\"Domínios = \", p.domains)\n",
    "print(\"Vizinhos = \", p.neighbors)\n",
    "print(\"Restrições\",p.constraints)"
   ],
   "metadata": {
    "collapsed": false,
    "pycharm": {
     "name": "#%%\n"
    }
   }
  },
  {
   "cell_type": "code",
   "execution_count": 35,
   "outputs": [
    {
     "ename": "TypeError",
     "evalue": "unhashable type: 'list'",
     "output_type": "error",
     "traceback": [
      "\u001B[1;31m---------------------------------------------------------------------------\u001B[0m",
      "\u001B[1;31mTypeError\u001B[0m                                 Traceback (most recent call last)",
      "Input \u001B[1;32mIn [35]\u001B[0m, in \u001B[0;36m<module>\u001B[1;34m\u001B[0m\n\u001B[1;32m----> 1\u001B[0m r \u001B[38;5;241m=\u001B[39m \u001B[43mbacktracking_search\u001B[49m\u001B[43m(\u001B[49m\u001B[43mp\u001B[49m\u001B[43m)\u001B[49m\n\u001B[0;32m      2\u001B[0m \u001B[38;5;28mprint\u001B[39m(\u001B[38;5;124m'\u001B[39m\u001B[38;5;124mAssignment p = \u001B[39m\u001B[38;5;124m'\u001B[39m,r)\n",
      "File \u001B[1;32m~\\Documents\\SInteligentes\\ProjetoSI\\Projeto2\\projeto2-SI\\csp.py:358\u001B[0m, in \u001B[0;36mbacktracking_search\u001B[1;34m(csp, select_unassigned_variable, order_domain_values, inference, verbose)\u001B[0m\n\u001B[0;32m    355\u001B[0m     csp\u001B[38;5;241m.\u001B[39munassign(var, assignment)\n\u001B[0;32m    356\u001B[0m     \u001B[38;5;28;01mreturn\u001B[39;00m \u001B[38;5;28;01mNone\u001B[39;00m\n\u001B[1;32m--> 358\u001B[0m result \u001B[38;5;241m=\u001B[39m \u001B[43mbacktrack\u001B[49m\u001B[43m(\u001B[49m\u001B[43m{\u001B[49m\u001B[43m}\u001B[49m\u001B[43m)\u001B[49m\n\u001B[0;32m    359\u001B[0m \u001B[38;5;28;01massert\u001B[39;00m result \u001B[38;5;129;01mis\u001B[39;00m \u001B[38;5;28;01mNone\u001B[39;00m \u001B[38;5;129;01mor\u001B[39;00m csp\u001B[38;5;241m.\u001B[39mgoal_test(result)\n\u001B[0;32m    360\u001B[0m \u001B[38;5;28;01mreturn\u001B[39;00m result\n",
      "File \u001B[1;32m~\\Documents\\SInteligentes\\ProjetoSI\\Projeto2\\projeto2-SI\\csp.py:326\u001B[0m, in \u001B[0;36mbacktracking_search.<locals>.backtrack\u001B[1;34m(assignment)\u001B[0m\n\u001B[0;32m    324\u001B[0m \u001B[38;5;28;01mif\u001B[39;00m verbose:\n\u001B[0;32m    325\u001B[0m     \u001B[38;5;28mprint\u001B[39m(\u001B[38;5;124m'\u001B[39m\u001B[38;5;124mCurr_domains:\u001B[39m\u001B[38;5;124m'\u001B[39m,csp\u001B[38;5;241m.\u001B[39mcurr_domains)\n\u001B[1;32m--> 326\u001B[0m var \u001B[38;5;241m=\u001B[39m \u001B[43mselect_unassigned_variable\u001B[49m\u001B[43m(\u001B[49m\u001B[43massignment\u001B[49m\u001B[43m,\u001B[49m\u001B[43m \u001B[49m\u001B[43mcsp\u001B[49m\u001B[43m)\u001B[49m\n\u001B[0;32m    327\u001B[0m vals \u001B[38;5;241m=\u001B[39m order_domain_values(var, assignment, csp)\n\u001B[0;32m    328\u001B[0m \u001B[38;5;28;01mif\u001B[39;00m (verbose):\n",
      "File \u001B[1;32m~\\Documents\\SInteligentes\\ProjetoSI\\Projeto2\\projeto2-SI\\csp.py:246\u001B[0m, in \u001B[0;36mfirst_unassigned_variable\u001B[1;34m(assignment, csp)\u001B[0m\n\u001B[0;32m    244\u001B[0m \u001B[38;5;28;01mdef\u001B[39;00m \u001B[38;5;21mfirst_unassigned_variable\u001B[39m(assignment, csp):\n\u001B[0;32m    245\u001B[0m     \u001B[38;5;124m\"\u001B[39m\u001B[38;5;124mThe default variable order.\u001B[39m\u001B[38;5;124m\"\u001B[39m\n\u001B[1;32m--> 246\u001B[0m     \u001B[38;5;28;01mreturn\u001B[39;00m first([var \u001B[38;5;28;01mfor\u001B[39;00m var \u001B[38;5;129;01min\u001B[39;00m csp\u001B[38;5;241m.\u001B[39mvariables \u001B[38;5;28;01mif\u001B[39;00m var \u001B[38;5;129;01mnot\u001B[39;00m \u001B[38;5;129;01min\u001B[39;00m assignment])\n",
      "File \u001B[1;32m~\\Documents\\SInteligentes\\ProjetoSI\\Projeto2\\projeto2-SI\\csp.py:246\u001B[0m, in \u001B[0;36m<listcomp>\u001B[1;34m(.0)\u001B[0m\n\u001B[0;32m    244\u001B[0m \u001B[38;5;28;01mdef\u001B[39;00m \u001B[38;5;21mfirst_unassigned_variable\u001B[39m(assignment, csp):\n\u001B[0;32m    245\u001B[0m     \u001B[38;5;124m\"\u001B[39m\u001B[38;5;124mThe default variable order.\u001B[39m\u001B[38;5;124m\"\u001B[39m\n\u001B[1;32m--> 246\u001B[0m     \u001B[38;5;28;01mreturn\u001B[39;00m first([var \u001B[38;5;28;01mfor\u001B[39;00m var \u001B[38;5;129;01min\u001B[39;00m csp\u001B[38;5;241m.\u001B[39mvariables \u001B[38;5;28;01mif\u001B[39;00m \u001B[43mvar\u001B[49m\u001B[43m \u001B[49m\u001B[38;5;129;43;01mnot\u001B[39;49;00m\u001B[43m \u001B[49m\u001B[38;5;129;43;01min\u001B[39;49;00m\u001B[43m \u001B[49m\u001B[43massignment\u001B[49m])\n",
      "\u001B[1;31mTypeError\u001B[0m: unhashable type: 'list'"
     ]
    }
   ],
   "source": [
    "r = backtracking_search(p)\n",
    "print('Assignment p = ',r)"
   ],
   "metadata": {
    "collapsed": false,
    "pycharm": {
     "name": "#%%\n"
    }
   }
  },
  {
   "cell_type": "markdown",
   "id": "f46b1688",
   "metadata": {},
   "source": [
    "## Criação do problema do quadrado latino simples\n",
    "\n",
    "Mostrem que o código está a funcionar, construindo um problema de quadrado latino *4x4*, imprimindo as variáveis, domínios iniciais, e vizinhos. Adicione os comentários necessários. Mostre como podemos criar um puzzle com quadrados já preenchidos, e qual o impacto que isso tem nas variáveis, domínios iniciais, e vizinhos."
   ]
  },
  {
   "cell_type": "code",
   "execution_count": null,
   "id": "0b95b771",
   "metadata": {},
   "outputs": [],
   "source": [
    "# código"
   ]
  },
  {
   "cell_type": "markdown",
   "metadata": {},
   "source": [
    "Resolva o problema com o backtracking sem inferencia, com inferencia, e com uma heurística."
   ]
  },
  {
   "cell_type": "code",
   "execution_count": null,
   "metadata": {},
   "outputs": [],
   "source": [
    "# código"
   ]
  },
  {
   "cell_type": "markdown",
   "metadata": {},
   "source": [
    "## Visualização do problema"
   ]
  },
  {
   "cell_type": "code",
   "execution_count": null,
   "metadata": {},
   "outputs": [],
   "source": [
    "# Implemente uma função que permita visualizar o quadrado latino, antes e depois de resolvido."
   ]
  },
  {
   "cell_type": "markdown",
   "id": "14a095c8",
   "metadata": {},
   "source": [
    "## Criação do problema Futoshiki *5x5*\n",
    "\n",
    "Mostrem que o código está a funcionar, construindo um problema de Futoshiki *5x5*, imprimindo as variáveis, domínios iniciais, e vizinhos. Adicione os comentários necessários. Utilize o [link](https://www.futoshiki.org/) para gerar puzzles e validar a implementação."
   ]
  },
  {
   "cell_type": "code",
   "execution_count": null,
   "id": "06577d27",
   "metadata": {},
   "outputs": [],
   "source": [
    "# código de aplicação dos algoritmos"
   ]
  },
  {
   "cell_type": "markdown",
   "metadata": {},
   "source": [
    "Resolva o problema com o backtracking sem inferencia, com inferencia, e com uma heurística. Até que dimensão consegue resolver o problema em menos de 1 minuto?"
   ]
  },
  {
   "cell_type": "code",
   "execution_count": null,
   "metadata": {},
   "outputs": [],
   "source": [
    "# código "
   ]
  },
  {
   "cell_type": "markdown",
   "metadata": {},
   "source": [
    "## Visualização do problema"
   ]
  },
  {
   "cell_type": "code",
   "execution_count": null,
   "metadata": {},
   "outputs": [],
   "source": [
    "# Implemente uma função que permita visualizar o puzzle Futoshiki, antes e depois de resolvido. Compare com a solução obtida pelo seu algoritmo. \n",
    "# No caso de não implementar esta função, inclua um screenshot do problema e da sua solução."
   ]
  }
 ],
 "metadata": {
  "language_info": {
   "name": "python"
  },
  "orig_nbformat": 4
 },
 "nbformat": 4,
 "nbformat_minor": 2
}