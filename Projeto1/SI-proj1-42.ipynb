{
 "cells": [
  {
   "cell_type": "markdown",
   "id": "bf9c87b1",
   "metadata": {},
   "source": [
    "# Sistemas Inteligentes 2021/2022\n",
    "\n",
    "## Mini-projeto 1: Pacman comilão\n",
    "\n",
    "<img src=\"pacman.png\" alt=\"Drawing\" style=\"width: 100px;\"/>"
   ]
  },
  {
   "cell_type": "markdown",
   "id": "d7b8efca",
   "metadata": {},
   "source": [
    "## Grupo: 42\n",
    "\n",
    "### Elementos do Grupo\n",
    "\n",
    "Número:  53687       Nome:   Ariana Dias   \n",
    "Número:  53746       Nome:   Andrei Tataru  \n",
    "Número:  51127       Nome:   Luís Ferreirinha  \n",
    "\n",
    "(Nota: Neste relatório pode adicionar as células de texto e código que achar necessárias.)"
   ]
  },
  {
   "cell_type": "markdown",
   "id": "df10acb0",
   "metadata": {},
   "source": [
    "## Representação dos estados\n",
    "\n",
    "(descreva aqui, textualmente, como decidiu representar os estados em Python; ilustre nas células de código abaixo a representação em Python de um estado à sua escolha)"
   ]
  },
  {
   "cell_type": "markdown",
   "id": "c0b86318",
   "metadata": {},
   "source": [
    "Para representar-mos os estados em python, decidimos criar uma classe EspacoPacman, onde cada objeto desta classe representa um estado do nosso problema, para este problema em concreto decidimos que estes objetos devem guardar a posição do pacman, o número de pontos acumulados, o tempo desde a ultima captura de uma pastilha, casas visitadas e número de vezes que foram visitadas e finalmente as coordenadas e tipo das pastilhas que ainda se encontram no campo.\n",
    "\n",
    "- Representação dos Estados:  \n",
    "    - Posição Pacman: tuple $\\left(x,y\\right)$ onde $x,y$ são inteiros\n",
    "    - Pontos: inteiro p\n",
    "    - Tempo: inteiro t\n",
    "    - Casas Visitadas: dicionário onde os elementos têm a seguinte forma $\\{(x,y) : n\\}$, $x,y,n$ são inteiros e $n$ representa o número de visitas a essa casa.\n",
    "    - Conjunto das Pastilhas: dicionário onde os elementos têm a seguinte forma $\\{(x,y) : tipo\\}$, $x,y$ são inteiros e tipo é um character que representa o tipo da pastilha\n"
   ]
  },
  {
   "cell_type": "code",
   "execution_count": 205,
   "id": "15d946c3",
   "metadata": {},
   "outputs": [],
   "source": [
    "# se definiu uma classe para representar os estados, inclua aqui o código Python correspondente\n",
    "import copy\n",
    "\n",
    "class EstadoPacman():\n",
    "    \"\"\"Objetos desta classe representam um estado do espaço do problema Pacman comilao\n",
    "    \"\"\"\n",
    "\n",
    "    def __init__(self, posicao_pacman, pastilhas, pontos=0, tempo=0, visitas={}):\n",
    "        self.pos = posicao_pacman\n",
    "        self.pontos = pontos\n",
    "        self.tempo = tempo\n",
    "        self.pastilhas = copy.deepcopy(pastilhas)\n",
    "        if visitas == {}:\n",
    "            self.visitas = {posicao_pacman : 1}\n",
    "        else:\n",
    "            self.visitas = copy.deepcopy(visitas)\n",
    "\n",
    "    def __lt__(self, other):\n",
    "        return self.pontos < other.pontos\n",
    "            \n",
    "    def __eq__(self,other):\n",
    "        if not isinstance(other, EstadoPacman): return False\n",
    "        return other.pos == self.pos and other.pontos == self.pontos and other.tempo == self.tempo \\\n",
    "            and other.pastilhas == self.pastilhas and other.visitas == self.visitas\n",
    "    \n",
    "    def __hash__(self):\n",
    "        return hash((self.pos, self.pontos, self.tempo)) + \\\n",
    "               hash(frozenset(self.pastilhas)) + \\\n",
    "               hash(frozenset(self.visitas))\n",
    "\n",
    "    def __repr__(self):\n",
    "        return str([self.pos, self.pontos, self.tempo, self.pastilhas, self.visitas])\n",
    "\n",
    "    def __str__(self):\n",
    "        return f\"Posição Pacman: {self.pos}\\nPontos: {self.pontos}\\nTempo desde última pastilha: {self.tempo}\\\n",
    "                \\nPastilhas restantes: {self.pastilhas}\\nCasas Visitadas: {self.visitas}\"\n"
   ]
  },
  {
   "cell_type": "markdown",
   "id": "8006d980",
   "metadata": {},
   "source": [
    "Vamos representar o seguinte estado:\n",
    "-   Pacman está em (1,2)\n",
    "-   Tem 2 pontos\n",
    "-   Passaram 2 unidades de tempo desda a última pastilha comida\n",
    "-   Restam as seguintes pastilhas: {(5,6) : \"N\", (3,2) : \"D\"}\n",
    "-   Foram visitadas as seguintes casas: {(0,0) : 1, (1,0) : 1, (1,1) : 1, (1,2) : 1}"
   ]
  },
  {
   "cell_type": "code",
   "execution_count": 206,
   "id": "d335aebe",
   "metadata": {},
   "outputs": [],
   "source": [
    "# Criamos um objecto do tipo EstadoPacman com os parametros anteriores\n",
    "pastilhas_exemplo = {(5,6) : \"N\", (3,2) : \"D\"}\n",
    "visitas_exemplo = {(0,0) : 1, (1,0) : 1, (1,1) : 1, (1,2) : 1}\n",
    "estado_exemplo = EstadoPacman((1,2), pastilhas_exemplo , 2, 2, visitas_exemplo)"
   ]
  },
  {
   "cell_type": "markdown",
   "id": "e0846a0f",
   "metadata": {},
   "source": [
    "Como foi definido o método ```__str__``` para esta classe podemos imprimir o objecto para visualizar melhor o estado"
   ]
  },
  {
   "cell_type": "code",
   "execution_count": 207,
   "id": "ba6f1258",
   "metadata": {},
   "outputs": [
    {
     "name": "stdout",
     "output_type": "stream",
     "text": [
      "Posição Pacman: (1, 2)\n",
      "Pontos: 2\n",
      "Tempo desde última pastilha: 2                \n",
      "Pastilhas restantes: {(5, 6): 'N', (3, 2): 'D'}\n",
      "Casas Visitadas: {(0, 0): 1, (1, 0): 1, (1, 1): 1, (1, 2): 1}\n"
     ]
    }
   ],
   "source": [
    "print(estado_exemplo)"
   ]
  },
  {
   "cell_type": "markdown",
   "id": "4ab69211",
   "metadata": {},
   "source": [
    "## Formulação do problema\n",
    "\n",
    "(explique textualmente como decidiu formular em Python o seu problema)"
   ]
  },
  {
   "cell_type": "markdown",
   "id": "fe2fcd8c",
   "metadata": {},
   "source": [
    "- Estado inicial:\n",
    "    \n",
    "    | EstadoPacman |\n",
    "    | :---: |\n",
    "    | Posição: $(x,y)$ |\n",
    "    | Pastilhas: dict(pastilhas iniciais) |\n",
    "    | Pontos: 0 |\n",
    "    | Tempo: 0 |\n",
    "    | Visitas: {(x,y) : 1} |\n",
    "\n",
    "<br />\n",
    "\n",
    "- Estado final:\n",
    "\n",
    "    | EstadoPacman |\n",
    "    | :---: |\n",
    "    | Posição: $(x_2,y_2)$ |\n",
    "    | Pastilhas: dict(pastilhas restantes) |\n",
    "    | Pontos: Pontos Objectivo |\n",
    "    | Tempo: 0 |\n",
    "    | Visitas: dict(casas visitadas n vezes) |  \n",
    "\n",
    "<br /> \n",
    "\n",
    "- Goal Test: Pontos $\\geq$ Pontos Objetivo\n",
    "\n",
    "- Operadores:  \n",
    "    - Mover-se numa das quatro direcções ortogonais para as quatro células vizinhas, se não for impedido pelos limites do mundo nem por obstáculos:  \n",
    "        - Norte: $(x,y) \\to (x+1,y)$\n",
    "        - Sul: $(x,y) \\to (x-1,y$\n",
    "        - Este: $(x,y) \\to (x,y+1)$\n",
    "        - Oeste: $(x,y) \\to (x,y-1)$\n",
    "    - Se a casa onde o pacman se encontra contem uma pastilha, ele come automaticamente a pastilha, removendo esta e adicionando os respetivos pontos ao seu total de pontos:\n",
    "        - Pontos Totais = Pontos Totais + Pontos da Pastilha"
   ]
  },
  {
   "cell_type": "code",
   "execution_count": 208,
   "id": "c5327f4f",
   "metadata": {},
   "outputs": [],
   "source": [
    "from searchPlus import *\n",
    "import copy\n",
    "\n",
    "class PacmanPastilhas(Problem):\n",
    "\n",
    "    moves = {\"N\" : (0,-1), \"S\" : (0,1), \"O\" : (-1,0), \"E\" : (1,0)}\n",
    "\n",
    "    def __init__(self, pos : tuple[int,int], objetivo : int, pastilhas : dict, obstaculos : set, dimensao : int):\n",
    "        self.initial = EstadoPacman(pos, pastilhas)\n",
    "        self.goal = objetivo\n",
    "        self.obstacles = obstaculos\n",
    "        self.dim = dimensao\n",
    "        \n",
    "\n",
    "    def calculate_points(self, time : int, pastilha : str) -> int:\n",
    "        \"\"\"Calcula os pontos a serem atribuidos por apanhar uma pastilha,\n",
    "        utilizando o tempo decorrido desde a ultima pastilha capturada e \n",
    "        o tipo da pastilha\n",
    "\n",
    "        Args:\n",
    "            time (int): Tempo decorrido desde a ultima captura de uma pastilha\n",
    "            pastilha (str): Tipo de pastilha\n",
    "\n",
    "        Returns:\n",
    "            int: Pontos a serem atribuidos\n",
    "        \"\"\"\n",
    "        if pastilha == \"N\":\n",
    "            return 1\n",
    "        elif pastilha == \"D\":\n",
    "            return max(0,5-time)\n",
    "        else:\n",
    "            return time\n",
    "    \n",
    "    def calculate_position(self, pos : tuple[int,int], direction : str) -> tuple[int,int]:\n",
    "        \"\"\"Dado a posicao atual do pacman e uma direcao ortogonal, devolve a posicao\n",
    "        do pacman apos se mover nessa direcao\"\"\"\n",
    "        return (pos[0]+self.moves[direction][0], pos[1]+self.moves[direction][1])\n",
    "\n",
    "    def actions(self, state : EstadoPacman) -> list[str]:\n",
    "        if self.goal_test(state): return []\n",
    "        return [d for d in self.moves.keys() if self.calculate_position(state.pos, d) not in self.obstacles]\n",
    "\n",
    "    def result(self, state : EstadoPacman, action : str) -> EstadoPacman:\n",
    "        new_position = self.calculate_position(state.pos, action)\n",
    "        new_visitas = copy.deepcopy(state.visitas)\n",
    "        if new_position in new_visitas.keys():\n",
    "            new_visitas[new_position] += 1\n",
    "        else:\n",
    "            new_visitas[new_position] = 1\n",
    "\n",
    "        if new_position in state.pastilhas.keys():\n",
    "            new_points = state.pontos + self.calculate_points(state.tempo+1, state.pastilhas[new_position])\n",
    "            new_pastilhas = copy.deepcopy(state.pastilhas)\n",
    "            new_pastilhas.pop(new_position)\n",
    "            new_time = 0\n",
    "            return EstadoPacman(new_position, new_pastilhas, new_points, new_time, new_visitas)\n",
    "        \n",
    "        return EstadoPacman(new_position, state.pastilhas, state.pontos, state.tempo+1, new_visitas)\n",
    "\n",
    "\n",
    "    def path_cost(self, cost : int, state, action, next_state : EstadoPacman) -> int:\n",
    "        return cost+next_state.visitas[next_state.pos]\n",
    "\n",
    "    def display(self, state : EstadoPacman):\n",
    "        board = \"\"\n",
    "        for y in range(self.dim):\n",
    "            for x in range(self.dim):\n",
    "                if state.pos == (x,y):\n",
    "                    board += \"@ \"\n",
    "                elif (x,y) in self.obstacles:\n",
    "                    board += \"# \"\n",
    "                elif (x,y) in state.pastilhas.keys():\n",
    "                    board += f\"{state.pastilhas[(x,y)]} \"\n",
    "                else:\n",
    "                    board += \". \"\n",
    "            board += \"\\n\"\n",
    "        print(board)\n",
    "\n",
    "    def goal_test(self, state : EstadoPacman) -> bool:\n",
    "        return state.pontos >= self.goal"
   ]
  },
  {
   "cell_type": "markdown",
   "id": "f46b1688",
   "metadata": {},
   "source": [
    "## Criação de estados e do problema\n",
    "\n",
    "(Mostrem que o código está a funcionar, construindo instâncias da classe **PacmanPastilhas**, fazendo display dos estados, verificando o teste do estado final, gerando as ações para alguns estados, executando ações a partir de alguns estados e gerando novos estados e mostrando a evolução dos custos; verificando que os estados não se modificam com as ações (são gerados novos estados) e que a igualdade e a comparação entre estados funciona. Mostrem que a execução de sequências de ações está a funcionar bem.)"
   ]
  },
  {
   "cell_type": "code",
   "execution_count": 209,
   "id": "4586ddb7",
   "metadata": {},
   "outputs": [],
   "source": [
    "# Funcoes auxiliares\n",
    "\n",
    "def line(x, y, dx, dy, length):\n",
    "    \"\"\"Uma linha de células de comprimento 'length' começando em (x, y) na direcção (dx, dy).\"\"\"\n",
    "    return {(x + i * dx, y + i * dy) for i in range(length)}\n",
    "\n",
    "def quadro(x, y, length):\n",
    "    \"\"\"Uma moldura quadrada de células de comprimento 'length' começando no topo esquerdo (x, y).\"\"\"\n",
    "    return line(x,y,0,1,length) | line(x+length-1,y,0,1,length) | line(x,y,1,0,length) | line(x,y+length-1,1,0,length)\n",
    "\n",
    "def exec(p,estado,accoes):\n",
    "    custo = 0\n",
    "    for a in accoes:\n",
    "        seg = p.result(estado,a)\n",
    "        custo = p.path_cost(custo,estado,a,seg)\n",
    "        estado = seg\n",
    "    p.display(estado)\n",
    "    print('Custo:',custo)\n",
    "    print('Goal?',p.goal_test(estado))\n",
    "    return (estado,custo)"
   ]
  },
  {
   "cell_type": "markdown",
   "id": "ad0a24b8",
   "metadata": {},
   "source": [
    "Para demonstrar o funcionamento do nosso código vamos definir duas instâncias de PacmanPastilhas para demonstrar as funcionalidades da classe.\n",
    "   \n",
    "- Primeiro vamos definir um conjunto de obstaculos e das pastilhas para o primeiro mundo"
   ]
  },
  {
   "cell_type": "code",
   "execution_count": 210,
   "id": "8e0e4313",
   "metadata": {},
   "outputs": [],
   "source": [
    "# Mundo 1 - dimensao 10\n",
    "fronteira1 = quadro(0,0,10)\n",
    "obs1_1 = line(2,2,1,0,5)\n",
    "obs1_2 = line(7,7,0,-1,6)\n",
    "mundo_1 = fronteira1 | obs1_1 | obs1_2\n",
    "\n",
    "pastilhas_1 = {(5,5) : \"C\", (4,7) : \"N\", (1,3) : \"D\"}"
   ]
  },
  {
   "cell_type": "markdown",
   "id": "4534f042",
   "metadata": {},
   "source": [
    "Vamos iniciar o estado com o pacman na posição $(1,1)$ e com objetivo 5 pontos"
   ]
  },
  {
   "cell_type": "code",
   "execution_count": 211,
   "id": "0b95b771",
   "metadata": {},
   "outputs": [],
   "source": [
    "p1 = PacmanPastilhas((1,1),5,pastilhas_1,mundo_1,10) # Mundo 1"
   ]
  },
  {
   "cell_type": "markdown",
   "id": "86b55d17",
   "metadata": {},
   "source": [
    "Vamos imprir o estado inicial do problema"
   ]
  },
  {
   "cell_type": "code",
   "execution_count": 212,
   "id": "5e88ac64",
   "metadata": {},
   "outputs": [
    {
     "name": "stdout",
     "output_type": "stream",
     "text": [
      "Posição Pacman: (1, 1)\n",
      "Pontos: 0\n",
      "Tempo desde última pastilha: 0                \n",
      "Pastilhas restantes: {(5, 5): 'C', (4, 7): 'N', (1, 3): 'D'}\n",
      "Casas Visitadas: {(1, 1): 1}\n",
      "\n",
      "# # # # # # # # # # \n",
      "# @ . . . . . . . # \n",
      "# . # # # # # # . # \n",
      "# D . . . . . # . # \n",
      "# . . . . . . # . # \n",
      "# . . . . C . # . # \n",
      "# . . . . . . # . # \n",
      "# . . . N . . # . # \n",
      "# . . . . . . . . # \n",
      "# # # # # # # # # # \n",
      "\n"
     ]
    }
   ],
   "source": [
    "# Representacao dos parametros do estado\n",
    "print(p1.initial)\n",
    "print() # linha vazia para melhorar visibilidade\n",
    "# Representacao do estado\n",
    "p1.display(p1.initial)"
   ]
  },
  {
   "cell_type": "markdown",
   "id": "8943bea8",
   "metadata": {},
   "source": [
    "Podemos também verificar que o estado inicial não é solução do problema"
   ]
  },
  {
   "cell_type": "code",
   "execution_count": 213,
   "id": "36b2b209",
   "metadata": {},
   "outputs": [
    {
     "name": "stdout",
     "output_type": "stream",
     "text": [
      "False\n"
     ]
    }
   ],
   "source": [
    "print(p1.goal_test(p1.initial))"
   ]
  },
  {
   "cell_type": "markdown",
   "id": "be9fdac2",
   "metadata": {},
   "source": [
    "Vamos agora ver as ações disponíveis e aplicar algumas ao nosso problema de forma a gerar uma pequena sequência de estados"
   ]
  },
  {
   "cell_type": "markdown",
   "id": "f853df71",
   "metadata": {},
   "source": [
    "- Ações disponíveis a partir do estado inicial:"
   ]
  },
  {
   "cell_type": "code",
   "execution_count": 214,
   "id": "2383deb2",
   "metadata": {},
   "outputs": [
    {
     "name": "stdout",
     "output_type": "stream",
     "text": [
      "['S', 'E']\n"
     ]
    }
   ],
   "source": [
    "print(p1.actions(p1.initial))"
   ]
  },
  {
   "cell_type": "markdown",
   "id": "b65925dd",
   "metadata": {},
   "source": [
    "- Vamos aplicar a ação \"S\" (mover uma casa para baixo), ver o estado resultante utilizando p1.display(estado) e vamos também guardar o custo"
   ]
  },
  {
   "cell_type": "code",
   "execution_count": 215,
   "id": "de3f775a",
   "metadata": {},
   "outputs": [
    {
     "name": "stdout",
     "output_type": "stream",
     "text": [
      "# # # # # # # # # # \n",
      "# . . . . . . . . # \n",
      "# @ # # # # # # . # \n",
      "# D . . . . . # . # \n",
      "# . . . . . . # . # \n",
      "# . . . . C . # . # \n",
      "# . . . . . . # . # \n",
      "# . . . N . . # . # \n",
      "# . . . . . . . . # \n",
      "# # # # # # # # # # \n",
      "\n",
      "custo: 1\n",
      "\n",
      "Ações:\n",
      " ['N', 'S']\n"
     ]
    }
   ],
   "source": [
    "p1_s2 = p1.result(p1.initial, \"S\")\n",
    "p1.display(p1_s2)\n",
    "custo = p1.path_cost(0, p1.initial, \"S\", p1_s2)\n",
    "print(f\"custo: {custo}\")\n",
    "print(f\"\\nAções:\\n {p1.actions(p1_s2)}\")"
   ]
  },
  {
   "cell_type": "markdown",
   "id": "22049d90",
   "metadata": {},
   "source": [
    "- Vamos agora mover o pacman outra casa para baixo de forma a capturar a pastilha do tipo D"
   ]
  },
  {
   "cell_type": "code",
   "execution_count": 216,
   "id": "7833d53c",
   "metadata": {},
   "outputs": [
    {
     "name": "stdout",
     "output_type": "stream",
     "text": [
      "# # # # # # # # # # \n",
      "# . . . . . . . . # \n",
      "# . # # # # # # . # \n",
      "# @ . . . . . # . # \n",
      "# . . . . . . # . # \n",
      "# . . . . C . # . # \n",
      "# . . . . . . # . # \n",
      "# . . . N . . # . # \n",
      "# . . . . . . . . # \n",
      "# # # # # # # # # # \n",
      "\n",
      "custo: 2\n",
      "\n",
      "Ações:\n",
      " ['N', 'S', 'E']\n"
     ]
    }
   ],
   "source": [
    "p1_s3 = p1.result(p1_s2, \"S\")\n",
    "p1.display(p1_s3)\n",
    "custo = p1.path_cost(custo, p1_s2, \"S\", p1_s3)\n",
    "print(f\"custo: {custo}\")\n",
    "print(f\"\\nAções:\\n {p1.actions(p1_s3)}\")"
   ]
  },
  {
   "cell_type": "markdown",
   "id": "e1c12d7a",
   "metadata": {},
   "source": [
    "- Se voltarmos uma casa atrás o custo vai acrescentar 2 porque ja visitamos aquela casa uma vez antes"
   ]
  },
  {
   "cell_type": "code",
   "execution_count": 217,
   "id": "cd4526da",
   "metadata": {},
   "outputs": [
    {
     "name": "stdout",
     "output_type": "stream",
     "text": [
      "custo: 4\n"
     ]
    }
   ],
   "source": [
    "cost_test1 = p1.result(p1_s3, \"N\")\n",
    "custo2 = p1.path_cost(custo, p1_s3, \"N\", cost_test1)\n",
    "print(f\"custo: {custo2}\")"
   ]
  },
  {
   "cell_type": "markdown",
   "id": "3a58f376",
   "metadata": {},
   "source": [
    "- Podemos ver o número de pontos que o pacman tem ao fazer print do estado com print(estado), como os estados não são modificados após a aplicação de uma ação podemos visualizar e comparar estados anteriores"
   ]
  },
  {
   "cell_type": "code",
   "execution_count": 218,
   "id": "b3c78b2f",
   "metadata": {},
   "outputs": [
    {
     "name": "stdout",
     "output_type": "stream",
     "text": [
      "Segundo estado (p1_s2):\n",
      "Posição Pacman: (1, 2)\n",
      "Pontos: 0\n",
      "Tempo desde última pastilha: 1                \n",
      "Pastilhas restantes: {(5, 5): 'C', (4, 7): 'N', (1, 3): 'D'}\n",
      "Casas Visitadas: {(1, 1): 1, (1, 2): 1}\n",
      "\n",
      "Terceiro estado (p1_s3):\n",
      "Posição Pacman: (1, 3)\n",
      "Pontos: 3\n",
      "Tempo desde última pastilha: 0                \n",
      "Pastilhas restantes: {(5, 5): 'C', (4, 7): 'N'}\n",
      "Casas Visitadas: {(1, 1): 1, (1, 2): 1, (1, 3): 1}\n",
      "\n",
      "Comparações:\n",
      "p1_s2 == p1_s3 ?\n",
      "False\n",
      "p1_s2 < p1_s3 ?\n",
      "True\n",
      "\n",
      " p1_s2 tem menos pontos do que p1_s3 logo é menor\n"
     ]
    }
   ],
   "source": [
    "print(\"Segundo estado (p1_s2):\")\n",
    "print(p1_s2)\n",
    "print()\n",
    "print(\"Terceiro estado (p1_s3):\")\n",
    "print(p1_s3)\n",
    "\n",
    "print(\"\\nComparações:\")\n",
    "print(\"p1_s2 == p1_s3 ?\")\n",
    "print(p1_s2 == p1_s3)\n",
    "print(\"p1_s2 < p1_s3 ?\")\n",
    "print(p1_s2 < p1_s3)\n",
    "print(\"\\n p1_s2 tem menos pontos do que p1_s3 logo é menor\")\n"
   ]
  },
  {
   "cell_type": "markdown",
   "id": "5a3094da",
   "metadata": {},
   "source": [
    "- Podemos também criar uma instância de EstadoPacman com os mesmos atributos que p1_s2 e mostrar que são iguais"
   ]
  },
  {
   "cell_type": "code",
   "execution_count": 219,
   "id": "d1a5b1f8",
   "metadata": {},
   "outputs": [
    {
     "name": "stdout",
     "output_type": "stream",
     "text": [
      "True\n"
     ]
    }
   ],
   "source": [
    "eg1 = EstadoPacman(p1_s2.pos, p1_s2.pastilhas, p1_s2.pontos, p1_s2.tempo, p1_s2.visitas)\n",
    "print(eg1.pastilhas == p1_s2.pastilhas)"
   ]
  },
  {
   "cell_type": "markdown",
   "id": "dfd6db59",
   "metadata": {},
   "source": [
    "- Vamos agora aplicar uma sequência de ações que nos faz chegar ao estado final"
   ]
  },
  {
   "cell_type": "code",
   "execution_count": 220,
   "metadata": {},
   "outputs": [
    {
     "name": "stdout",
     "output_type": "stream",
     "text": [
      "# # # # # # # # # # \n",
      "# . . . . . . . . # \n",
      "# . # # # # # # . # \n",
      "# . . . . . . # . # \n",
      "# . . . . . . # . # \n",
      "# . . . . @ . # . # \n",
      "# . . . . . . # . # \n",
      "# . . . N . . # . # \n",
      "# . . . . . . . . # \n",
      "# # # # # # # # # # \n",
      "\n",
      "Custo: 8\n",
      "Goal? True\n"
     ]
    },
    {
     "data": {
      "text/plain": [
       "[]"
      ]
     },
     "execution_count": 220,
     "metadata": {},
     "output_type": "execute_result"
    }
   ],
   "source": [
    "# Seq\n",
    "actions = [\"S\"]*2 + [\"E\"]*4 + [\"S\"]*2\n",
    "p1_final = exec(p1, p1.initial, actions)\n",
    "p1.actions(p1_final[0])"
   ]
  },
  {
   "cell_type": "markdown",
   "id": "61be2dcd",
   "metadata": {},
   "source": [
    "- Finalmento, vamos criar uma segunda instância de PacmanPastilhas para demonstrar um problema com um mundo de dimensão diferente e com obstáculos diferentes."
   ]
  },
  {
   "cell_type": "code",
   "execution_count": 221,
   "id": "35bf4d71",
   "metadata": {},
   "outputs": [
    {
     "name": "stdout",
     "output_type": "stream",
     "text": [
      "Posição Pacman: (1, 1)\n",
      "Pontos: 0\n",
      "Tempo desde última pastilha: 0                \n",
      "Pastilhas restantes: {(3, 4): 'C', (12, 1): 'D', (1, 3): 'D', (1, 13): 'N', (12, 3): 'N'}\n",
      "Casas Visitadas: {(1, 1): 1}\n",
      "\n",
      "# # # # # # # # # # # # # # # \n",
      "# @ # . . . . . . . # . D . # \n",
      "# . # . . . . . . . # . . . # \n",
      "# D # . . # . . . . # . N . # \n",
      "# . # C . # . . . . # . . . # \n",
      "# . # . . # . . . . # . . . # \n",
      "# . # . . # . . . . # . . . # \n",
      "# . # . . # . . . . # . . . # \n",
      "# . # . . # . . . . # . . . # \n",
      "# . # . . # . . . . # . . . # \n",
      "# . # . . # . . . . # . . . # \n",
      "# . # . . # . . . . . . . . # \n",
      "# . # # # # # # # # # # # . # \n",
      "# N . . . . . . . . . . . . # \n",
      "# # # # # # # # # # # # # # # \n",
      "\n"
     ]
    }
   ],
   "source": [
    "fronteira2 = quadro(0,0,15)\n",
    "obs2_1 = line(2,1,0,1,12)\n",
    "obs2_2 = line(2,12,1,0,11)\n",
    "obs2_3 = line(5,3,0,1,9)\n",
    "obs2_4 = line(10,1,0,1,10)\n",
    "mundo_2 = fronteira2 | obs2_1 | obs2_2 | obs2_3 | obs2_4\n",
    "\n",
    "pastilhas_2 = {(3,4) : \"C\", (12,1) : \"D\", (1,3) : \"D\", (1,13) : \"N\", (12,3) : \"N\"}\n",
    "\n",
    "p2 = PacmanPastilhas((1,1),8,pastilhas_2,mundo_2,15) # Mundo 2\n",
    "\n",
    "# Representacao dos parametros do estado\n",
    "print(p2.initial)\n",
    "print()\n",
    "# Representacao do estado\n",
    "p2.display(p2.initial)"
   ]
  },
  {
   "cell_type": "code",
   "execution_count": 226,
   "id": "ae78cde0",
   "metadata": {},
   "outputs": [
    {
     "name": "stdout",
     "output_type": "stream",
     "text": [
      "# # # # # # # # # # # # # # # \n",
      "# . # . . . . . . . # . @ . # \n",
      "# . # . . . . . . . # . . . # \n",
      "# . # . . # . . . . # . . . # \n",
      "# . # C . # . . . . # . . . # \n",
      "# . # . . # . . . . # . . . # \n",
      "# . # . . # . . . . # . . . # \n",
      "# . # . . # . . . . # . . . # \n",
      "# . # . . # . . . . # . . . # \n",
      "# . # . . # . . . . # . . . # \n",
      "# . # . . # . . . . # . . . # \n",
      "# . # . . # . . . . . . . . # \n",
      "# . # # # # # # # # # # # . # \n",
      "# . . . . . . . . . . . . . # \n",
      "# # # # # # # # # # # # # # # \n",
      "\n",
      "Custo: 37\n",
      "Goal? True\n"
     ]
    }
   ],
   "source": [
    "solution = [\"S\"]*12+[\"E\"]*12+[\"N\"]*10+[\"O\"]+[\"N\"]*2\n",
    "p2_final = exec(p2, p2.initial, solution)"
   ]
  },
  {
   "cell_type": "markdown",
   "id": "14a095c8",
   "metadata": {},
   "source": [
    "## Teste de procura de solução\n",
    "\n",
    "(utilização de algoritmos de procura aprendidos nas aulas e comparação dos resultados ao nível de tempo de execução e solução obtida; comente aqui os resultados obtidos e o que observa)"
   ]
  },
  {
   "cell_type": "code",
   "execution_count": null,
   "id": "06577d27",
   "metadata": {},
   "outputs": [],
   "source": [
    "# código de aplicação dos algoritmos"
   ]
  }
 ],
 "metadata": {
  "kernelspec": {
   "display_name": "Python 3 (ipykernel)",
   "language": "python",
   "name": "python3"
  },
  "language_info": {
   "codemirror_mode": {
    "name": "ipython",
    "version": 3
   },
   "file_extension": ".py",
   "mimetype": "text/x-python",
   "name": "python",
   "nbconvert_exporter": "python",
   "pygments_lexer": "ipython3",
   "version": "3.9.7"
  }
 },
 "nbformat": 4,
 "nbformat_minor": 5
}
