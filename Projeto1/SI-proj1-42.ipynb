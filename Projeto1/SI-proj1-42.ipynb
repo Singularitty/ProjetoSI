{
 "cells": [
  {
   "cell_type": "markdown",
   "id": "bf9c87b1",
   "metadata": {},
   "source": [
    "# Sistemas Inteligentes 2021/2022\n",
    "\n",
    "## Mini-projeto 1: Pacman comilão\n",
    "\n",
    "<img src=\"pacman.png\" alt=\"Drawing\" style=\"width: 100px;\"/>"
   ]
  },
  {
   "cell_type": "markdown",
   "id": "d7b8efca",
   "metadata": {},
   "source": [
    "## Grupo: 42\n",
    "\n",
    "### Elementos do Grupo\n",
    "\n",
    "Número:  53687       Nome:   Ariana Dias   \n",
    "Número:         Nome:   Andrei Tataru  \n",
    "Número:  51127       Nome:   Luís Ferreirinha  \n",
    "\n",
    "(Nota: Neste relatório pode adicionar as células de texto e código que achar necessárias.)"
   ]
  },
  {
   "cell_type": "markdown",
   "id": "df10acb0",
   "metadata": {},
   "source": [
    "## Representação dos estados\n",
    "\n",
    "(descreva aqui, textualmente, como decidiu representar os estados em Python; ilustre nas células de código abaixo a representação em Python de um estado à sua escolha)"
   ]
  },
  {
   "cell_type": "code",
   "execution_count": null,
   "id": "15d946c3",
   "metadata": {},
   "outputs": [],
   "source": [
    "# se definiu uma classe para representar os estados, inclua aqui o código Python correspondente"
   ]
  },
  {
   "cell_type": "code",
   "execution_count": null,
   "id": "d335aebe",
   "metadata": {},
   "outputs": [],
   "source": [
    "# representação de um estado à sua escolha"
   ]
  },
  {
   "cell_type": "markdown",
   "id": "4ab69211",
   "metadata": {},
   "source": [
    "## Formulação do problema\n",
    "\n",
    "(explique textualmente como decidiu formular em Python o seu problema)"
   ]
  },
  {
   "cell_type": "code",
   "execution_count": null,
   "id": "c5327f4f",
   "metadata": {},
   "outputs": [],
   "source": [
    "from searchPlus import *\n",
    "\n",
    "class PacmanPastilhas(Problem):\n",
    "    pass"
   ]
  },
  {
   "cell_type": "markdown",
   "id": "f46b1688",
   "metadata": {},
   "source": [
    "## Criação de estados e do problema\n",
    "\n",
    "(Mostrem que o código está a funcionar, construindo instâncias da classe **PacmanPastilhas**, fazendo display dos estados, verificando o teste do estado final, gerando as ações para alguns estados, executando ações a partir de alguns estados e gerando novos estados e mostrando a evolução dos custos; verificando que os estados não se modificam com as ações (são gerados novos estados) e que a igualdade e a comparação entre estados funciona. Mostrem que a execução de sequências de ações está a funcionar bem.)"
   ]
  },
  {
   "cell_type": "code",
   "execution_count": null,
   "id": "0b95b771",
   "metadata": {},
   "outputs": [],
   "source": [
    "# código de teste do problema"
   ]
  },
  {
   "cell_type": "markdown",
   "id": "14a095c8",
   "metadata": {},
   "source": [
    "## Teste de procura de solução\n",
    "\n",
    "(utilização de algoritmos de procura aprendidos nas aulas e comparação dos resultados ao nível de tempo de execução e solução obtida; comente aqui os resultados obtidos e o que observa)"
   ]
  },
  {
   "cell_type": "code",
   "execution_count": null,
   "id": "06577d27",
   "metadata": {},
   "outputs": [],
   "source": [
    "# código de aplicação dos algoritmos"
   ]
  }
 ],
 "metadata": {
  "kernelspec": {
   "display_name": "Python 3 (ipykernel)",
   "language": "python",
   "name": "python3"
  },
  "language_info": {
   "codemirror_mode": {
    "name": "ipython",
    "version": 3
   },
   "file_extension": ".py",
   "mimetype": "text/x-python",
   "name": "python",
   "nbconvert_exporter": "python",
   "pygments_lexer": "ipython3",
   "version": "3.9.7"
  }
 },
 "nbformat": 4,
 "nbformat_minor": 5
}
